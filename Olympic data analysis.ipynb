{
 "cells": [
  {
   "cell_type": "code",
   "execution_count": 1,
   "metadata": {},
   "outputs": [],
   "source": [
    "using CSV\n",
    "using DataFrames\n"
   ]
  },
  {
   "cell_type": "code",
   "execution_count": 2,
   "metadata": {},
   "outputs": [],
   "source": [
    "using StatsBase\n",
    "using Statistics"
   ]
  },
  {
   "cell_type": "code",
   "execution_count": 3,
   "metadata": {},
   "outputs": [],
   "source": [
    "using DataStructures"
   ]
  },
  {
   "cell_type": "code",
   "execution_count": 4,
   "metadata": {},
   "outputs": [
    {
     "data": {
      "text/html": [
       "<table class=\"data-frame\"><thead><tr><th></th><th>ID</th><th>Name</th><th>Sex</th><th>Age</th><th>Height</th><th>Weight</th><th>Team</th></tr><tr><th></th><th>Int64</th><th>String</th><th>String</th><th>String</th><th>String</th><th>String</th><th>String</th></tr></thead><tbody><p>271,116 rows × 15 columns (omitted printing of 8 columns)</p><tr><th>1</th><td>1</td><td>A Dijiang</td><td>M</td><td>24</td><td>180</td><td>80</td><td>China</td></tr><tr><th>2</th><td>2</td><td>A Lamusi</td><td>M</td><td>23</td><td>170</td><td>60</td><td>China</td></tr><tr><th>3</th><td>3</td><td>Gunnar Nielsen Aaby</td><td>M</td><td>24</td><td>NA</td><td>NA</td><td>Denmark</td></tr><tr><th>4</th><td>4</td><td>Edgar Lindenau Aabye</td><td>M</td><td>34</td><td>NA</td><td>NA</td><td>Denmark/Sweden</td></tr><tr><th>5</th><td>5</td><td>Christine Jacoba Aaftink</td><td>F</td><td>21</td><td>185</td><td>82</td><td>Netherlands</td></tr><tr><th>6</th><td>5</td><td>Christine Jacoba Aaftink</td><td>F</td><td>21</td><td>185</td><td>82</td><td>Netherlands</td></tr><tr><th>7</th><td>5</td><td>Christine Jacoba Aaftink</td><td>F</td><td>25</td><td>185</td><td>82</td><td>Netherlands</td></tr><tr><th>8</th><td>5</td><td>Christine Jacoba Aaftink</td><td>F</td><td>25</td><td>185</td><td>82</td><td>Netherlands</td></tr><tr><th>9</th><td>5</td><td>Christine Jacoba Aaftink</td><td>F</td><td>27</td><td>185</td><td>82</td><td>Netherlands</td></tr><tr><th>10</th><td>5</td><td>Christine Jacoba Aaftink</td><td>F</td><td>27</td><td>185</td><td>82</td><td>Netherlands</td></tr><tr><th>11</th><td>6</td><td>Per Knut Aaland</td><td>M</td><td>31</td><td>188</td><td>75</td><td>United States</td></tr><tr><th>12</th><td>6</td><td>Per Knut Aaland</td><td>M</td><td>31</td><td>188</td><td>75</td><td>United States</td></tr><tr><th>13</th><td>6</td><td>Per Knut Aaland</td><td>M</td><td>31</td><td>188</td><td>75</td><td>United States</td></tr><tr><th>14</th><td>6</td><td>Per Knut Aaland</td><td>M</td><td>31</td><td>188</td><td>75</td><td>United States</td></tr><tr><th>15</th><td>6</td><td>Per Knut Aaland</td><td>M</td><td>33</td><td>188</td><td>75</td><td>United States</td></tr><tr><th>16</th><td>6</td><td>Per Knut Aaland</td><td>M</td><td>33</td><td>188</td><td>75</td><td>United States</td></tr><tr><th>17</th><td>6</td><td>Per Knut Aaland</td><td>M</td><td>33</td><td>188</td><td>75</td><td>United States</td></tr><tr><th>18</th><td>6</td><td>Per Knut Aaland</td><td>M</td><td>33</td><td>188</td><td>75</td><td>United States</td></tr><tr><th>19</th><td>7</td><td>John Aalberg</td><td>M</td><td>31</td><td>183</td><td>72</td><td>United States</td></tr><tr><th>20</th><td>7</td><td>John Aalberg</td><td>M</td><td>31</td><td>183</td><td>72</td><td>United States</td></tr><tr><th>21</th><td>7</td><td>John Aalberg</td><td>M</td><td>31</td><td>183</td><td>72</td><td>United States</td></tr><tr><th>22</th><td>7</td><td>John Aalberg</td><td>M</td><td>31</td><td>183</td><td>72</td><td>United States</td></tr><tr><th>23</th><td>7</td><td>John Aalberg</td><td>M</td><td>33</td><td>183</td><td>72</td><td>United States</td></tr><tr><th>24</th><td>7</td><td>John Aalberg</td><td>M</td><td>33</td><td>183</td><td>72</td><td>United States</td></tr><tr><th>25</th><td>7</td><td>John Aalberg</td><td>M</td><td>33</td><td>183</td><td>72</td><td>United States</td></tr><tr><th>26</th><td>7</td><td>John Aalberg</td><td>M</td><td>33</td><td>183</td><td>72</td><td>United States</td></tr><tr><th>27</th><td>8</td><td>Cornelia \"Cor\" Aalten (-Strannood)</td><td>F</td><td>18</td><td>168</td><td>NA</td><td>Netherlands</td></tr><tr><th>28</th><td>8</td><td>Cornelia \"Cor\" Aalten (-Strannood)</td><td>F</td><td>18</td><td>168</td><td>NA</td><td>Netherlands</td></tr><tr><th>29</th><td>9</td><td>Antti Sami Aalto</td><td>M</td><td>26</td><td>186</td><td>96</td><td>Finland</td></tr><tr><th>30</th><td>10</td><td>Einar Ferdinand \"Einari\" Aalto</td><td>M</td><td>26</td><td>NA</td><td>NA</td><td>Finland</td></tr><tr><th>&vellip;</th><td>&vellip;</td><td>&vellip;</td><td>&vellip;</td><td>&vellip;</td><td>&vellip;</td><td>&vellip;</td><td>&vellip;</td></tr></tbody></table>"
      ],
      "text/latex": [
       "\\begin{tabular}{r|cccccccc}\n",
       "\t& ID & Name & Sex & Age & Height & Weight & Team & \\\\\n",
       "\t\\hline\n",
       "\t& Int64 & String & String & String & String & String & String & \\\\\n",
       "\t\\hline\n",
       "\t1 & 1 & A Dijiang & M & 24 & 180 & 80 & China & $\\dots$ \\\\\n",
       "\t2 & 2 & A Lamusi & M & 23 & 170 & 60 & China & $\\dots$ \\\\\n",
       "\t3 & 3 & Gunnar Nielsen Aaby & M & 24 & NA & NA & Denmark & $\\dots$ \\\\\n",
       "\t4 & 4 & Edgar Lindenau Aabye & M & 34 & NA & NA & Denmark/Sweden & $\\dots$ \\\\\n",
       "\t5 & 5 & Christine Jacoba Aaftink & F & 21 & 185 & 82 & Netherlands & $\\dots$ \\\\\n",
       "\t6 & 5 & Christine Jacoba Aaftink & F & 21 & 185 & 82 & Netherlands & $\\dots$ \\\\\n",
       "\t7 & 5 & Christine Jacoba Aaftink & F & 25 & 185 & 82 & Netherlands & $\\dots$ \\\\\n",
       "\t8 & 5 & Christine Jacoba Aaftink & F & 25 & 185 & 82 & Netherlands & $\\dots$ \\\\\n",
       "\t9 & 5 & Christine Jacoba Aaftink & F & 27 & 185 & 82 & Netherlands & $\\dots$ \\\\\n",
       "\t10 & 5 & Christine Jacoba Aaftink & F & 27 & 185 & 82 & Netherlands & $\\dots$ \\\\\n",
       "\t11 & 6 & Per Knut Aaland & M & 31 & 188 & 75 & United States & $\\dots$ \\\\\n",
       "\t12 & 6 & Per Knut Aaland & M & 31 & 188 & 75 & United States & $\\dots$ \\\\\n",
       "\t13 & 6 & Per Knut Aaland & M & 31 & 188 & 75 & United States & $\\dots$ \\\\\n",
       "\t14 & 6 & Per Knut Aaland & M & 31 & 188 & 75 & United States & $\\dots$ \\\\\n",
       "\t15 & 6 & Per Knut Aaland & M & 33 & 188 & 75 & United States & $\\dots$ \\\\\n",
       "\t16 & 6 & Per Knut Aaland & M & 33 & 188 & 75 & United States & $\\dots$ \\\\\n",
       "\t17 & 6 & Per Knut Aaland & M & 33 & 188 & 75 & United States & $\\dots$ \\\\\n",
       "\t18 & 6 & Per Knut Aaland & M & 33 & 188 & 75 & United States & $\\dots$ \\\\\n",
       "\t19 & 7 & John Aalberg & M & 31 & 183 & 72 & United States & $\\dots$ \\\\\n",
       "\t20 & 7 & John Aalberg & M & 31 & 183 & 72 & United States & $\\dots$ \\\\\n",
       "\t21 & 7 & John Aalberg & M & 31 & 183 & 72 & United States & $\\dots$ \\\\\n",
       "\t22 & 7 & John Aalberg & M & 31 & 183 & 72 & United States & $\\dots$ \\\\\n",
       "\t23 & 7 & John Aalberg & M & 33 & 183 & 72 & United States & $\\dots$ \\\\\n",
       "\t24 & 7 & John Aalberg & M & 33 & 183 & 72 & United States & $\\dots$ \\\\\n",
       "\t25 & 7 & John Aalberg & M & 33 & 183 & 72 & United States & $\\dots$ \\\\\n",
       "\t26 & 7 & John Aalberg & M & 33 & 183 & 72 & United States & $\\dots$ \\\\\n",
       "\t27 & 8 & Cornelia \"Cor\" Aalten (-Strannood) & F & 18 & 168 & NA & Netherlands & $\\dots$ \\\\\n",
       "\t28 & 8 & Cornelia \"Cor\" Aalten (-Strannood) & F & 18 & 168 & NA & Netherlands & $\\dots$ \\\\\n",
       "\t29 & 9 & Antti Sami Aalto & M & 26 & 186 & 96 & Finland & $\\dots$ \\\\\n",
       "\t30 & 10 & Einar Ferdinand \"Einari\" Aalto & M & 26 & NA & NA & Finland & $\\dots$ \\\\\n",
       "\t$\\dots$ & $\\dots$ & $\\dots$ & $\\dots$ & $\\dots$ & $\\dots$ & $\\dots$ & $\\dots$ &  \\\\\n",
       "\\end{tabular}\n"
      ],
      "text/plain": [
       "271116×15 DataFrame. Omitted printing of 10 columns\n",
       "│ Row    │ ID     │ Name                         │ Sex    │ Age    │ Height │\n",
       "│        │ \u001b[90mInt64\u001b[39m  │ \u001b[90mString\u001b[39m                       │ \u001b[90mString\u001b[39m │ \u001b[90mString\u001b[39m │ \u001b[90mString\u001b[39m │\n",
       "├────────┼────────┼──────────────────────────────┼────────┼────────┼────────┤\n",
       "│ 1      │ 1      │ A Dijiang                    │ M      │ 24     │ 180    │\n",
       "│ 2      │ 2      │ A Lamusi                     │ M      │ 23     │ 170    │\n",
       "│ 3      │ 3      │ Gunnar Nielsen Aaby          │ M      │ 24     │ NA     │\n",
       "│ 4      │ 4      │ Edgar Lindenau Aabye         │ M      │ 34     │ NA     │\n",
       "│ 5      │ 5      │ Christine Jacoba Aaftink     │ F      │ 21     │ 185    │\n",
       "│ 6      │ 5      │ Christine Jacoba Aaftink     │ F      │ 21     │ 185    │\n",
       "│ 7      │ 5      │ Christine Jacoba Aaftink     │ F      │ 25     │ 185    │\n",
       "│ 8      │ 5      │ Christine Jacoba Aaftink     │ F      │ 25     │ 185    │\n",
       "│ 9      │ 5      │ Christine Jacoba Aaftink     │ F      │ 27     │ 185    │\n",
       "│ 10     │ 5      │ Christine Jacoba Aaftink     │ F      │ 27     │ 185    │\n",
       "⋮\n",
       "│ 271106 │ 135565 │ Fernando scar Zylberberg     │ M      │ 23     │ 168    │\n",
       "│ 271107 │ 135565 │ Fernando scar Zylberberg     │ M      │ 27     │ 168    │\n",
       "│ 271108 │ 135566 │ James Francis \"Jim\" Zylker   │ M      │ 21     │ 175    │\n",
       "│ 271109 │ 135567 │ Aleksandr Viktorovich Zyuzin │ M      │ 24     │ 183    │\n",
       "│ 271110 │ 135567 │ Aleksandr Viktorovich Zyuzin │ M      │ 28     │ 183    │\n",
       "│ 271111 │ 135568 │ Olga Igorevna Zyuzkova       │ F      │ 33     │ 171    │\n",
       "│ 271112 │ 135569 │ Andrzej ya                   │ M      │ 29     │ 179    │\n",
       "│ 271113 │ 135570 │ Piotr ya                     │ M      │ 27     │ 176    │\n",
       "│ 271114 │ 135570 │ Piotr ya                     │ M      │ 27     │ 176    │\n",
       "│ 271115 │ 135571 │ Tomasz Ireneusz ya           │ M      │ 30     │ 185    │\n",
       "│ 271116 │ 135571 │ Tomasz Ireneusz ya           │ M      │ 34     │ 185    │"
      ]
     },
     "execution_count": 4,
     "metadata": {},
     "output_type": "execute_result"
    }
   ],
   "source": [
    "df = CSV.read(\"athlete_events.csv\")\n"
   ]
  },
  {
   "cell_type": "code",
   "execution_count": 5,
   "metadata": {},
   "outputs": [
    {
     "data": {
      "text/html": [
       "<table class=\"data-frame\"><thead><tr><th></th><th>ID</th><th>Name</th><th>Sex</th><th>Age</th><th>Height</th><th>Weight</th><th>Team</th></tr><tr><th></th><th>Int64</th><th>String</th><th>String</th><th>String</th><th>String</th><th>String</th><th>String</th></tr></thead><tbody><p>10 rows × 15 columns (omitted printing of 8 columns)</p><tr><th>1</th><td>1</td><td>A Dijiang</td><td>M</td><td>24</td><td>180</td><td>80</td><td>China</td></tr><tr><th>2</th><td>2</td><td>A Lamusi</td><td>M</td><td>23</td><td>170</td><td>60</td><td>China</td></tr><tr><th>3</th><td>3</td><td>Gunnar Nielsen Aaby</td><td>M</td><td>24</td><td>NA</td><td>NA</td><td>Denmark</td></tr><tr><th>4</th><td>4</td><td>Edgar Lindenau Aabye</td><td>M</td><td>34</td><td>NA</td><td>NA</td><td>Denmark/Sweden</td></tr><tr><th>5</th><td>5</td><td>Christine Jacoba Aaftink</td><td>F</td><td>21</td><td>185</td><td>82</td><td>Netherlands</td></tr><tr><th>6</th><td>5</td><td>Christine Jacoba Aaftink</td><td>F</td><td>21</td><td>185</td><td>82</td><td>Netherlands</td></tr><tr><th>7</th><td>5</td><td>Christine Jacoba Aaftink</td><td>F</td><td>25</td><td>185</td><td>82</td><td>Netherlands</td></tr><tr><th>8</th><td>5</td><td>Christine Jacoba Aaftink</td><td>F</td><td>25</td><td>185</td><td>82</td><td>Netherlands</td></tr><tr><th>9</th><td>5</td><td>Christine Jacoba Aaftink</td><td>F</td><td>27</td><td>185</td><td>82</td><td>Netherlands</td></tr><tr><th>10</th><td>5</td><td>Christine Jacoba Aaftink</td><td>F</td><td>27</td><td>185</td><td>82</td><td>Netherlands</td></tr></tbody></table>"
      ],
      "text/latex": [
       "\\begin{tabular}{r|cccccccc}\n",
       "\t& ID & Name & Sex & Age & Height & Weight & Team & \\\\\n",
       "\t\\hline\n",
       "\t& Int64 & String & String & String & String & String & String & \\\\\n",
       "\t\\hline\n",
       "\t1 & 1 & A Dijiang & M & 24 & 180 & 80 & China & $\\dots$ \\\\\n",
       "\t2 & 2 & A Lamusi & M & 23 & 170 & 60 & China & $\\dots$ \\\\\n",
       "\t3 & 3 & Gunnar Nielsen Aaby & M & 24 & NA & NA & Denmark & $\\dots$ \\\\\n",
       "\t4 & 4 & Edgar Lindenau Aabye & M & 34 & NA & NA & Denmark/Sweden & $\\dots$ \\\\\n",
       "\t5 & 5 & Christine Jacoba Aaftink & F & 21 & 185 & 82 & Netherlands & $\\dots$ \\\\\n",
       "\t6 & 5 & Christine Jacoba Aaftink & F & 21 & 185 & 82 & Netherlands & $\\dots$ \\\\\n",
       "\t7 & 5 & Christine Jacoba Aaftink & F & 25 & 185 & 82 & Netherlands & $\\dots$ \\\\\n",
       "\t8 & 5 & Christine Jacoba Aaftink & F & 25 & 185 & 82 & Netherlands & $\\dots$ \\\\\n",
       "\t9 & 5 & Christine Jacoba Aaftink & F & 27 & 185 & 82 & Netherlands & $\\dots$ \\\\\n",
       "\t10 & 5 & Christine Jacoba Aaftink & F & 27 & 185 & 82 & Netherlands & $\\dots$ \\\\\n",
       "\\end{tabular}\n"
      ],
      "text/plain": [
       "10×15 DataFrame. Omitted printing of 9 columns\n",
       "│ Row │ ID    │ Name                     │ Sex    │ Age    │ Height │ Weight │\n",
       "│     │ \u001b[90mInt64\u001b[39m │ \u001b[90mString\u001b[39m                   │ \u001b[90mString\u001b[39m │ \u001b[90mString\u001b[39m │ \u001b[90mString\u001b[39m │ \u001b[90mString\u001b[39m │\n",
       "├─────┼───────┼──────────────────────────┼────────┼────────┼────────┼────────┤\n",
       "│ 1   │ 1     │ A Dijiang                │ M      │ 24     │ 180    │ 80     │\n",
       "│ 2   │ 2     │ A Lamusi                 │ M      │ 23     │ 170    │ 60     │\n",
       "│ 3   │ 3     │ Gunnar Nielsen Aaby      │ M      │ 24     │ NA     │ NA     │\n",
       "│ 4   │ 4     │ Edgar Lindenau Aabye     │ M      │ 34     │ NA     │ NA     │\n",
       "│ 5   │ 5     │ Christine Jacoba Aaftink │ F      │ 21     │ 185    │ 82     │\n",
       "│ 6   │ 5     │ Christine Jacoba Aaftink │ F      │ 21     │ 185    │ 82     │\n",
       "│ 7   │ 5     │ Christine Jacoba Aaftink │ F      │ 25     │ 185    │ 82     │\n",
       "│ 8   │ 5     │ Christine Jacoba Aaftink │ F      │ 25     │ 185    │ 82     │\n",
       "│ 9   │ 5     │ Christine Jacoba Aaftink │ F      │ 27     │ 185    │ 82     │\n",
       "│ 10  │ 5     │ Christine Jacoba Aaftink │ F      │ 27     │ 185    │ 82     │"
      ]
     },
     "execution_count": 5,
     "metadata": {},
     "output_type": "execute_result"
    }
   ],
   "source": [
    "first(df,10)"
   ]
  },
  {
   "cell_type": "code",
   "execution_count": 6,
   "metadata": {},
   "outputs": [
    {
     "name": "stderr",
     "output_type": "stream",
     "text": [
      "┌ Warning: `getindex(df::DataFrame, col_ind::ColumnIndex)` is deprecated, use `df[!, col_ind]` instead.\n",
      "│   caller = top-level scope at In[6]:1\n",
      "└ @ Core In[6]:1\n"
     ]
    },
    {
     "data": {
      "text/plain": [
       "271116-element CSV.Column{String,PooledString}:\n",
       " \"Summer\"\n",
       " \"Summer\"\n",
       " \"Summer\"\n",
       " \"Summer\"\n",
       " \"Winter\"\n",
       " \"Winter\"\n",
       " \"Winter\"\n",
       " \"Winter\"\n",
       " \"Winter\"\n",
       " \"Winter\"\n",
       " \"Winter\"\n",
       " \"Winter\"\n",
       " \"Winter\"\n",
       " ⋮\n",
       " \"Winter\"\n",
       " \"Summer\"\n",
       " \"Summer\"\n",
       " \"Summer\"\n",
       " \"Summer\"\n",
       " \"Summer\"\n",
       " \"Summer\"\n",
       " \"Winter\"\n",
       " \"Winter\"\n",
       " \"Winter\"\n",
       " \"Winter\"\n",
       " \"Winter\""
      ]
     },
     "execution_count": 6,
     "metadata": {},
     "output_type": "execute_result"
    }
   ],
   "source": [
    "df[:Season]"
   ]
  },
  {
   "cell_type": "code",
   "execution_count": 7,
   "metadata": {},
   "outputs": [
    {
     "name": "stdout",
     "output_type": "stream",
     "text": [
      "thread = 1 warning: only found 2 / 3 columns on data row: 230. Filling remaining columns with `missing`\n"
     ]
    },
    {
     "data": {
      "text/html": [
       "<table class=\"data-frame\"><thead><tr><th></th><th>NOC</th><th>region</th><th>notes</th></tr><tr><th></th><th>String</th><th>String</th><th>String⍰</th></tr></thead><tbody><p>10 rows × 3 columns</p><tr><th>1</th><td>AFG</td><td>Afghanistan</td><td>missing</td></tr><tr><th>2</th><td>AHO</td><td>Curacao</td><td>Netherlands Antilles</td></tr><tr><th>3</th><td>ALB</td><td>Albania</td><td>missing</td></tr><tr><th>4</th><td>ALG</td><td>Algeria</td><td>missing</td></tr><tr><th>5</th><td>AND</td><td>Andorra</td><td>missing</td></tr><tr><th>6</th><td>ANG</td><td>Angola</td><td>missing</td></tr><tr><th>7</th><td>ANT</td><td>Antigua</td><td>Antigua and Barbuda</td></tr><tr><th>8</th><td>ANZ</td><td>Australia</td><td>Australasia</td></tr><tr><th>9</th><td>ARG</td><td>Argentina</td><td>missing</td></tr><tr><th>10</th><td>ARM</td><td>Armenia</td><td>missing</td></tr></tbody></table>"
      ],
      "text/latex": [
       "\\begin{tabular}{r|ccc}\n",
       "\t& NOC & region & notes\\\\\n",
       "\t\\hline\n",
       "\t& String & String & String⍰\\\\\n",
       "\t\\hline\n",
       "\t1 & AFG & Afghanistan &  \\\\\n",
       "\t2 & AHO & Curacao & Netherlands Antilles \\\\\n",
       "\t3 & ALB & Albania &  \\\\\n",
       "\t4 & ALG & Algeria &  \\\\\n",
       "\t5 & AND & Andorra &  \\\\\n",
       "\t6 & ANG & Angola &  \\\\\n",
       "\t7 & ANT & Antigua & Antigua and Barbuda \\\\\n",
       "\t8 & ANZ & Australia & Australasia \\\\\n",
       "\t9 & ARG & Argentina &  \\\\\n",
       "\t10 & ARM & Armenia &  \\\\\n",
       "\\end{tabular}\n"
      ],
      "text/plain": [
       "10×3 DataFrame\n",
       "│ Row │ NOC    │ region      │ notes                │\n",
       "│     │ \u001b[90mString\u001b[39m │ \u001b[90mString\u001b[39m      │ \u001b[90mString⍰\u001b[39m              │\n",
       "├─────┼────────┼─────────────┼──────────────────────┤\n",
       "│ 1   │ AFG    │ Afghanistan │ \u001b[90mmissing\u001b[39m              │\n",
       "│ 2   │ AHO    │ Curacao     │ Netherlands Antilles │\n",
       "│ 3   │ ALB    │ Albania     │ \u001b[90mmissing\u001b[39m              │\n",
       "│ 4   │ ALG    │ Algeria     │ \u001b[90mmissing\u001b[39m              │\n",
       "│ 5   │ AND    │ Andorra     │ \u001b[90mmissing\u001b[39m              │\n",
       "│ 6   │ ANG    │ Angola      │ \u001b[90mmissing\u001b[39m              │\n",
       "│ 7   │ ANT    │ Antigua     │ Antigua and Barbuda  │\n",
       "│ 8   │ ANZ    │ Australia   │ Australasia          │\n",
       "│ 9   │ ARG    │ Argentina   │ \u001b[90mmissing\u001b[39m              │\n",
       "│ 10  │ ARM    │ Armenia     │ \u001b[90mmissing\u001b[39m              │"
      ]
     },
     "execution_count": 7,
     "metadata": {},
     "output_type": "execute_result"
    }
   ],
   "source": [
    "df2 = CSV.read(\"noc_regions.csv\")\n",
    "first(df2,10)"
   ]
  },
  {
   "cell_type": "code",
   "execution_count": 8,
   "metadata": {},
   "outputs": [
    {
     "name": "stdout",
     "output_type": "stream",
     "text": [
      "size(df) = (271116, 15)\n",
      "size(df2) = (230, 3)\n"
     ]
    },
    {
     "data": {
      "text/plain": [
       "(230, 3)"
      ]
     },
     "execution_count": 8,
     "metadata": {},
     "output_type": "execute_result"
    }
   ],
   "source": [
    "@show size(df)\n",
    "@show size(df2)"
   ]
  },
  {
   "cell_type": "code",
   "execution_count": 9,
   "metadata": {},
   "outputs": [
    {
     "name": "stderr",
     "output_type": "stream",
     "text": [
      "┌ Warning: `getindex(df::DataFrame, col_ind::ColumnIndex)` is deprecated, use `df[!, col_ind]` instead.\n",
      "│   caller = top-level scope at In[9]:1\n",
      "└ @ Core In[9]:1\n"
     ]
    },
    {
     "data": {
      "text/plain": [
       "Dict{String,Int64} with 2 entries:\n",
       "  \"Summer\" => 222552\n",
       "  \"Winter\" => 48564"
      ]
     },
     "execution_count": 9,
     "metadata": {},
     "output_type": "execute_result"
    }
   ],
   "source": [
    "countmap(df[:Season])"
   ]
  },
  {
   "cell_type": "code",
   "execution_count": 10,
   "metadata": {},
   "outputs": [
    {
     "data": {
      "text/plain": [
       "15-element Array{Symbol,1}:\n",
       " :ID\n",
       " :Name\n",
       " :Sex\n",
       " :Age\n",
       " :Height\n",
       " :Weight\n",
       " :Team\n",
       " :NOC\n",
       " :Games\n",
       " :Year\n",
       " :Season\n",
       " :City\n",
       " :Sport\n",
       " :Event\n",
       " :Medal"
      ]
     },
     "execution_count": 10,
     "metadata": {},
     "output_type": "execute_result"
    }
   ],
   "source": [
    "names(df)"
   ]
  },
  {
   "cell_type": "code",
   "execution_count": 11,
   "metadata": {},
   "outputs": [],
   "source": [
    "using DataFramesMeta"
   ]
  },
  {
   "cell_type": "code",
   "execution_count": 12,
   "metadata": {},
   "outputs": [
    {
     "data": {
      "text/html": [
       "<table class=\"data-frame\"><thead><tr><th></th><th>ID</th><th>Name</th><th>Sex</th><th>Age</th><th>Height</th><th>Weight</th><th>Team</th></tr><tr><th></th><th>Int64</th><th>String</th><th>String</th><th>String</th><th>String</th><th>String</th><th>String</th></tr></thead><tbody><p>48,564 rows × 15 columns (omitted printing of 8 columns)</p><tr><th>1</th><td>5</td><td>Christine Jacoba Aaftink</td><td>F</td><td>21</td><td>185</td><td>82</td><td>Netherlands</td></tr><tr><th>2</th><td>5</td><td>Christine Jacoba Aaftink</td><td>F</td><td>21</td><td>185</td><td>82</td><td>Netherlands</td></tr><tr><th>3</th><td>5</td><td>Christine Jacoba Aaftink</td><td>F</td><td>25</td><td>185</td><td>82</td><td>Netherlands</td></tr><tr><th>4</th><td>5</td><td>Christine Jacoba Aaftink</td><td>F</td><td>25</td><td>185</td><td>82</td><td>Netherlands</td></tr><tr><th>5</th><td>5</td><td>Christine Jacoba Aaftink</td><td>F</td><td>27</td><td>185</td><td>82</td><td>Netherlands</td></tr><tr><th>6</th><td>5</td><td>Christine Jacoba Aaftink</td><td>F</td><td>27</td><td>185</td><td>82</td><td>Netherlands</td></tr><tr><th>7</th><td>6</td><td>Per Knut Aaland</td><td>M</td><td>31</td><td>188</td><td>75</td><td>United States</td></tr><tr><th>8</th><td>6</td><td>Per Knut Aaland</td><td>M</td><td>31</td><td>188</td><td>75</td><td>United States</td></tr><tr><th>9</th><td>6</td><td>Per Knut Aaland</td><td>M</td><td>31</td><td>188</td><td>75</td><td>United States</td></tr><tr><th>10</th><td>6</td><td>Per Knut Aaland</td><td>M</td><td>31</td><td>188</td><td>75</td><td>United States</td></tr><tr><th>11</th><td>6</td><td>Per Knut Aaland</td><td>M</td><td>33</td><td>188</td><td>75</td><td>United States</td></tr><tr><th>12</th><td>6</td><td>Per Knut Aaland</td><td>M</td><td>33</td><td>188</td><td>75</td><td>United States</td></tr><tr><th>13</th><td>6</td><td>Per Knut Aaland</td><td>M</td><td>33</td><td>188</td><td>75</td><td>United States</td></tr><tr><th>14</th><td>6</td><td>Per Knut Aaland</td><td>M</td><td>33</td><td>188</td><td>75</td><td>United States</td></tr><tr><th>15</th><td>7</td><td>John Aalberg</td><td>M</td><td>31</td><td>183</td><td>72</td><td>United States</td></tr><tr><th>16</th><td>7</td><td>John Aalberg</td><td>M</td><td>31</td><td>183</td><td>72</td><td>United States</td></tr><tr><th>17</th><td>7</td><td>John Aalberg</td><td>M</td><td>31</td><td>183</td><td>72</td><td>United States</td></tr><tr><th>18</th><td>7</td><td>John Aalberg</td><td>M</td><td>31</td><td>183</td><td>72</td><td>United States</td></tr><tr><th>19</th><td>7</td><td>John Aalberg</td><td>M</td><td>33</td><td>183</td><td>72</td><td>United States</td></tr><tr><th>20</th><td>7</td><td>John Aalberg</td><td>M</td><td>33</td><td>183</td><td>72</td><td>United States</td></tr><tr><th>21</th><td>7</td><td>John Aalberg</td><td>M</td><td>33</td><td>183</td><td>72</td><td>United States</td></tr><tr><th>22</th><td>7</td><td>John Aalberg</td><td>M</td><td>33</td><td>183</td><td>72</td><td>United States</td></tr><tr><th>23</th><td>9</td><td>Antti Sami Aalto</td><td>M</td><td>26</td><td>186</td><td>96</td><td>Finland</td></tr><tr><th>24</th><td>11</td><td>Jorma Ilmari Aalto</td><td>M</td><td>22</td><td>182</td><td>76.5</td><td>Finland</td></tr><tr><th>25</th><td>14</td><td>Pirjo Hannele Aalto (Mattila-)</td><td>F</td><td>32</td><td>171</td><td>65</td><td>Finland</td></tr><tr><th>26</th><td>16</td><td>Juhamatti Tapio Aaltonen</td><td>M</td><td>28</td><td>184</td><td>85</td><td>Finland</td></tr><tr><th>27</th><td>20</td><td>Kjetil Andr Aamodt</td><td>M</td><td>20</td><td>176</td><td>85</td><td>Norway</td></tr><tr><th>28</th><td>20</td><td>Kjetil Andr Aamodt</td><td>M</td><td>20</td><td>176</td><td>85</td><td>Norway</td></tr><tr><th>29</th><td>20</td><td>Kjetil Andr Aamodt</td><td>M</td><td>20</td><td>176</td><td>85</td><td>Norway</td></tr><tr><th>30</th><td>20</td><td>Kjetil Andr Aamodt</td><td>M</td><td>20</td><td>176</td><td>85</td><td>Norway</td></tr><tr><th>&vellip;</th><td>&vellip;</td><td>&vellip;</td><td>&vellip;</td><td>&vellip;</td><td>&vellip;</td><td>&vellip;</td><td>&vellip;</td></tr></tbody></table>"
      ],
      "text/latex": [
       "\\begin{tabular}{r|cccccccc}\n",
       "\t& ID & Name & Sex & Age & Height & Weight & Team & \\\\\n",
       "\t\\hline\n",
       "\t& Int64 & String & String & String & String & String & String & \\\\\n",
       "\t\\hline\n",
       "\t1 & 5 & Christine Jacoba Aaftink & F & 21 & 185 & 82 & Netherlands & $\\dots$ \\\\\n",
       "\t2 & 5 & Christine Jacoba Aaftink & F & 21 & 185 & 82 & Netherlands & $\\dots$ \\\\\n",
       "\t3 & 5 & Christine Jacoba Aaftink & F & 25 & 185 & 82 & Netherlands & $\\dots$ \\\\\n",
       "\t4 & 5 & Christine Jacoba Aaftink & F & 25 & 185 & 82 & Netherlands & $\\dots$ \\\\\n",
       "\t5 & 5 & Christine Jacoba Aaftink & F & 27 & 185 & 82 & Netherlands & $\\dots$ \\\\\n",
       "\t6 & 5 & Christine Jacoba Aaftink & F & 27 & 185 & 82 & Netherlands & $\\dots$ \\\\\n",
       "\t7 & 6 & Per Knut Aaland & M & 31 & 188 & 75 & United States & $\\dots$ \\\\\n",
       "\t8 & 6 & Per Knut Aaland & M & 31 & 188 & 75 & United States & $\\dots$ \\\\\n",
       "\t9 & 6 & Per Knut Aaland & M & 31 & 188 & 75 & United States & $\\dots$ \\\\\n",
       "\t10 & 6 & Per Knut Aaland & M & 31 & 188 & 75 & United States & $\\dots$ \\\\\n",
       "\t11 & 6 & Per Knut Aaland & M & 33 & 188 & 75 & United States & $\\dots$ \\\\\n",
       "\t12 & 6 & Per Knut Aaland & M & 33 & 188 & 75 & United States & $\\dots$ \\\\\n",
       "\t13 & 6 & Per Knut Aaland & M & 33 & 188 & 75 & United States & $\\dots$ \\\\\n",
       "\t14 & 6 & Per Knut Aaland & M & 33 & 188 & 75 & United States & $\\dots$ \\\\\n",
       "\t15 & 7 & John Aalberg & M & 31 & 183 & 72 & United States & $\\dots$ \\\\\n",
       "\t16 & 7 & John Aalberg & M & 31 & 183 & 72 & United States & $\\dots$ \\\\\n",
       "\t17 & 7 & John Aalberg & M & 31 & 183 & 72 & United States & $\\dots$ \\\\\n",
       "\t18 & 7 & John Aalberg & M & 31 & 183 & 72 & United States & $\\dots$ \\\\\n",
       "\t19 & 7 & John Aalberg & M & 33 & 183 & 72 & United States & $\\dots$ \\\\\n",
       "\t20 & 7 & John Aalberg & M & 33 & 183 & 72 & United States & $\\dots$ \\\\\n",
       "\t21 & 7 & John Aalberg & M & 33 & 183 & 72 & United States & $\\dots$ \\\\\n",
       "\t22 & 7 & John Aalberg & M & 33 & 183 & 72 & United States & $\\dots$ \\\\\n",
       "\t23 & 9 & Antti Sami Aalto & M & 26 & 186 & 96 & Finland & $\\dots$ \\\\\n",
       "\t24 & 11 & Jorma Ilmari Aalto & M & 22 & 182 & 76.5 & Finland & $\\dots$ \\\\\n",
       "\t25 & 14 & Pirjo Hannele Aalto (Mattila-) & F & 32 & 171 & 65 & Finland & $\\dots$ \\\\\n",
       "\t26 & 16 & Juhamatti Tapio Aaltonen & M & 28 & 184 & 85 & Finland & $\\dots$ \\\\\n",
       "\t27 & 20 & Kjetil Andr Aamodt & M & 20 & 176 & 85 & Norway & $\\dots$ \\\\\n",
       "\t28 & 20 & Kjetil Andr Aamodt & M & 20 & 176 & 85 & Norway & $\\dots$ \\\\\n",
       "\t29 & 20 & Kjetil Andr Aamodt & M & 20 & 176 & 85 & Norway & $\\dots$ \\\\\n",
       "\t30 & 20 & Kjetil Andr Aamodt & M & 20 & 176 & 85 & Norway & $\\dots$ \\\\\n",
       "\t$\\dots$ & $\\dots$ & $\\dots$ & $\\dots$ & $\\dots$ & $\\dots$ & $\\dots$ & $\\dots$ &  \\\\\n",
       "\\end{tabular}\n"
      ],
      "text/plain": [
       "48564×15 DataFrame. Omitted printing of 10 columns\n",
       "│ Row   │ ID     │ Name                         │ Sex    │ Age    │ Height │\n",
       "│       │ \u001b[90mInt64\u001b[39m  │ \u001b[90mString\u001b[39m                       │ \u001b[90mString\u001b[39m │ \u001b[90mString\u001b[39m │ \u001b[90mString\u001b[39m │\n",
       "├───────┼────────┼──────────────────────────────┼────────┼────────┼────────┤\n",
       "│ 1     │ 5      │ Christine Jacoba Aaftink     │ F      │ 21     │ 185    │\n",
       "│ 2     │ 5      │ Christine Jacoba Aaftink     │ F      │ 21     │ 185    │\n",
       "│ 3     │ 5      │ Christine Jacoba Aaftink     │ F      │ 25     │ 185    │\n",
       "│ 4     │ 5      │ Christine Jacoba Aaftink     │ F      │ 25     │ 185    │\n",
       "│ 5     │ 5      │ Christine Jacoba Aaftink     │ F      │ 27     │ 185    │\n",
       "│ 6     │ 5      │ Christine Jacoba Aaftink     │ F      │ 27     │ 185    │\n",
       "│ 7     │ 6      │ Per Knut Aaland              │ M      │ 31     │ 188    │\n",
       "│ 8     │ 6      │ Per Knut Aaland              │ M      │ 31     │ 188    │\n",
       "│ 9     │ 6      │ Per Knut Aaland              │ M      │ 31     │ 188    │\n",
       "│ 10    │ 6      │ Per Knut Aaland              │ M      │ 31     │ 188    │\n",
       "⋮\n",
       "│ 48554 │ 135559 │ Pawe Jan Zygmunt             │ M      │ 25     │ 182    │\n",
       "│ 48555 │ 135559 │ Pawe Jan Zygmunt             │ M      │ 25     │ 182    │\n",
       "│ 48556 │ 135559 │ Pawe Jan Zygmunt             │ M      │ 29     │ 182    │\n",
       "│ 48557 │ 135559 │ Pawe Jan Zygmunt             │ M      │ 29     │ 182    │\n",
       "│ 48558 │ 135559 │ Pawe Jan Zygmunt             │ M      │ 33     │ 182    │\n",
       "│ 48559 │ 135564 │ Yevgeny Aleksandrovich Zykov │ M      │ 22     │ 172    │\n",
       "│ 48560 │ 135569 │ Andrzej ya                   │ M      │ 29     │ 179    │\n",
       "│ 48561 │ 135570 │ Piotr ya                     │ M      │ 27     │ 176    │\n",
       "│ 48562 │ 135570 │ Piotr ya                     │ M      │ 27     │ 176    │\n",
       "│ 48563 │ 135571 │ Tomasz Ireneusz ya           │ M      │ 30     │ 185    │\n",
       "│ 48564 │ 135571 │ Tomasz Ireneusz ya           │ M      │ 34     │ 185    │"
      ]
     },
     "execution_count": 12,
     "metadata": {},
     "output_type": "execute_result"
    }
   ],
   "source": [
    "winter = @where(df, :Season .== \"Winter\")"
   ]
  },
  {
   "cell_type": "code",
   "execution_count": 13,
   "metadata": {},
   "outputs": [
    {
     "data": {
      "text/html": [
       "<table class=\"data-frame\"><thead><tr><th></th><th>ID</th><th>Name</th><th>Sex</th><th>Age</th><th>Height</th><th>Weight</th><th>Team</th></tr><tr><th></th><th>Int64</th><th>String</th><th>String</th><th>String</th><th>String</th><th>String</th><th>String</th></tr></thead><tbody><p>222,552 rows × 15 columns (omitted printing of 8 columns)</p><tr><th>1</th><td>1</td><td>A Dijiang</td><td>M</td><td>24</td><td>180</td><td>80</td><td>China</td></tr><tr><th>2</th><td>2</td><td>A Lamusi</td><td>M</td><td>23</td><td>170</td><td>60</td><td>China</td></tr><tr><th>3</th><td>3</td><td>Gunnar Nielsen Aaby</td><td>M</td><td>24</td><td>NA</td><td>NA</td><td>Denmark</td></tr><tr><th>4</th><td>4</td><td>Edgar Lindenau Aabye</td><td>M</td><td>34</td><td>NA</td><td>NA</td><td>Denmark/Sweden</td></tr><tr><th>5</th><td>8</td><td>Cornelia \"Cor\" Aalten (-Strannood)</td><td>F</td><td>18</td><td>168</td><td>NA</td><td>Netherlands</td></tr><tr><th>6</th><td>8</td><td>Cornelia \"Cor\" Aalten (-Strannood)</td><td>F</td><td>18</td><td>168</td><td>NA</td><td>Netherlands</td></tr><tr><th>7</th><td>10</td><td>Einar Ferdinand \"Einari\" Aalto</td><td>M</td><td>26</td><td>NA</td><td>NA</td><td>Finland</td></tr><tr><th>8</th><td>12</td><td>Jyri Tapani Aalto</td><td>M</td><td>31</td><td>172</td><td>70</td><td>Finland</td></tr><tr><th>9</th><td>13</td><td>Minna Maarit Aalto</td><td>F</td><td>30</td><td>159</td><td>55.5</td><td>Finland</td></tr><tr><th>10</th><td>13</td><td>Minna Maarit Aalto</td><td>F</td><td>34</td><td>159</td><td>55.5</td><td>Finland</td></tr><tr><th>11</th><td>15</td><td>Arvo Ossian Aaltonen</td><td>M</td><td>22</td><td>NA</td><td>NA</td><td>Finland</td></tr><tr><th>12</th><td>15</td><td>Arvo Ossian Aaltonen</td><td>M</td><td>22</td><td>NA</td><td>NA</td><td>Finland</td></tr><tr><th>13</th><td>15</td><td>Arvo Ossian Aaltonen</td><td>M</td><td>30</td><td>NA</td><td>NA</td><td>Finland</td></tr><tr><th>14</th><td>15</td><td>Arvo Ossian Aaltonen</td><td>M</td><td>30</td><td>NA</td><td>NA</td><td>Finland</td></tr><tr><th>15</th><td>15</td><td>Arvo Ossian Aaltonen</td><td>M</td><td>34</td><td>NA</td><td>NA</td><td>Finland</td></tr><tr><th>16</th><td>17</td><td>Paavo Johannes Aaltonen</td><td>M</td><td>28</td><td>175</td><td>64</td><td>Finland</td></tr><tr><th>17</th><td>17</td><td>Paavo Johannes Aaltonen</td><td>M</td><td>28</td><td>175</td><td>64</td><td>Finland</td></tr><tr><th>18</th><td>17</td><td>Paavo Johannes Aaltonen</td><td>M</td><td>28</td><td>175</td><td>64</td><td>Finland</td></tr><tr><th>19</th><td>17</td><td>Paavo Johannes Aaltonen</td><td>M</td><td>28</td><td>175</td><td>64</td><td>Finland</td></tr><tr><th>20</th><td>17</td><td>Paavo Johannes Aaltonen</td><td>M</td><td>28</td><td>175</td><td>64</td><td>Finland</td></tr><tr><th>21</th><td>17</td><td>Paavo Johannes Aaltonen</td><td>M</td><td>28</td><td>175</td><td>64</td><td>Finland</td></tr><tr><th>22</th><td>17</td><td>Paavo Johannes Aaltonen</td><td>M</td><td>28</td><td>175</td><td>64</td><td>Finland</td></tr><tr><th>23</th><td>17</td><td>Paavo Johannes Aaltonen</td><td>M</td><td>28</td><td>175</td><td>64</td><td>Finland</td></tr><tr><th>24</th><td>17</td><td>Paavo Johannes Aaltonen</td><td>M</td><td>32</td><td>175</td><td>64</td><td>Finland</td></tr><tr><th>25</th><td>17</td><td>Paavo Johannes Aaltonen</td><td>M</td><td>32</td><td>175</td><td>64</td><td>Finland</td></tr><tr><th>26</th><td>17</td><td>Paavo Johannes Aaltonen</td><td>M</td><td>32</td><td>175</td><td>64</td><td>Finland</td></tr><tr><th>27</th><td>17</td><td>Paavo Johannes Aaltonen</td><td>M</td><td>32</td><td>175</td><td>64</td><td>Finland</td></tr><tr><th>28</th><td>17</td><td>Paavo Johannes Aaltonen</td><td>M</td><td>32</td><td>175</td><td>64</td><td>Finland</td></tr><tr><th>29</th><td>17</td><td>Paavo Johannes Aaltonen</td><td>M</td><td>32</td><td>175</td><td>64</td><td>Finland</td></tr><tr><th>30</th><td>17</td><td>Paavo Johannes Aaltonen</td><td>M</td><td>32</td><td>175</td><td>64</td><td>Finland</td></tr><tr><th>&vellip;</th><td>&vellip;</td><td>&vellip;</td><td>&vellip;</td><td>&vellip;</td><td>&vellip;</td><td>&vellip;</td><td>&vellip;</td></tr></tbody></table>"
      ],
      "text/latex": [
       "\\begin{tabular}{r|cccccccc}\n",
       "\t& ID & Name & Sex & Age & Height & Weight & Team & \\\\\n",
       "\t\\hline\n",
       "\t& Int64 & String & String & String & String & String & String & \\\\\n",
       "\t\\hline\n",
       "\t1 & 1 & A Dijiang & M & 24 & 180 & 80 & China & $\\dots$ \\\\\n",
       "\t2 & 2 & A Lamusi & M & 23 & 170 & 60 & China & $\\dots$ \\\\\n",
       "\t3 & 3 & Gunnar Nielsen Aaby & M & 24 & NA & NA & Denmark & $\\dots$ \\\\\n",
       "\t4 & 4 & Edgar Lindenau Aabye & M & 34 & NA & NA & Denmark/Sweden & $\\dots$ \\\\\n",
       "\t5 & 8 & Cornelia \"Cor\" Aalten (-Strannood) & F & 18 & 168 & NA & Netherlands & $\\dots$ \\\\\n",
       "\t6 & 8 & Cornelia \"Cor\" Aalten (-Strannood) & F & 18 & 168 & NA & Netherlands & $\\dots$ \\\\\n",
       "\t7 & 10 & Einar Ferdinand \"Einari\" Aalto & M & 26 & NA & NA & Finland & $\\dots$ \\\\\n",
       "\t8 & 12 & Jyri Tapani Aalto & M & 31 & 172 & 70 & Finland & $\\dots$ \\\\\n",
       "\t9 & 13 & Minna Maarit Aalto & F & 30 & 159 & 55.5 & Finland & $\\dots$ \\\\\n",
       "\t10 & 13 & Minna Maarit Aalto & F & 34 & 159 & 55.5 & Finland & $\\dots$ \\\\\n",
       "\t11 & 15 & Arvo Ossian Aaltonen & M & 22 & NA & NA & Finland & $\\dots$ \\\\\n",
       "\t12 & 15 & Arvo Ossian Aaltonen & M & 22 & NA & NA & Finland & $\\dots$ \\\\\n",
       "\t13 & 15 & Arvo Ossian Aaltonen & M & 30 & NA & NA & Finland & $\\dots$ \\\\\n",
       "\t14 & 15 & Arvo Ossian Aaltonen & M & 30 & NA & NA & Finland & $\\dots$ \\\\\n",
       "\t15 & 15 & Arvo Ossian Aaltonen & M & 34 & NA & NA & Finland & $\\dots$ \\\\\n",
       "\t16 & 17 & Paavo Johannes Aaltonen & M & 28 & 175 & 64 & Finland & $\\dots$ \\\\\n",
       "\t17 & 17 & Paavo Johannes Aaltonen & M & 28 & 175 & 64 & Finland & $\\dots$ \\\\\n",
       "\t18 & 17 & Paavo Johannes Aaltonen & M & 28 & 175 & 64 & Finland & $\\dots$ \\\\\n",
       "\t19 & 17 & Paavo Johannes Aaltonen & M & 28 & 175 & 64 & Finland & $\\dots$ \\\\\n",
       "\t20 & 17 & Paavo Johannes Aaltonen & M & 28 & 175 & 64 & Finland & $\\dots$ \\\\\n",
       "\t21 & 17 & Paavo Johannes Aaltonen & M & 28 & 175 & 64 & Finland & $\\dots$ \\\\\n",
       "\t22 & 17 & Paavo Johannes Aaltonen & M & 28 & 175 & 64 & Finland & $\\dots$ \\\\\n",
       "\t23 & 17 & Paavo Johannes Aaltonen & M & 28 & 175 & 64 & Finland & $\\dots$ \\\\\n",
       "\t24 & 17 & Paavo Johannes Aaltonen & M & 32 & 175 & 64 & Finland & $\\dots$ \\\\\n",
       "\t25 & 17 & Paavo Johannes Aaltonen & M & 32 & 175 & 64 & Finland & $\\dots$ \\\\\n",
       "\t26 & 17 & Paavo Johannes Aaltonen & M & 32 & 175 & 64 & Finland & $\\dots$ \\\\\n",
       "\t27 & 17 & Paavo Johannes Aaltonen & M & 32 & 175 & 64 & Finland & $\\dots$ \\\\\n",
       "\t28 & 17 & Paavo Johannes Aaltonen & M & 32 & 175 & 64 & Finland & $\\dots$ \\\\\n",
       "\t29 & 17 & Paavo Johannes Aaltonen & M & 32 & 175 & 64 & Finland & $\\dots$ \\\\\n",
       "\t30 & 17 & Paavo Johannes Aaltonen & M & 32 & 175 & 64 & Finland & $\\dots$ \\\\\n",
       "\t$\\dots$ & $\\dots$ & $\\dots$ & $\\dots$ & $\\dots$ & $\\dots$ & $\\dots$ & $\\dots$ &  \\\\\n",
       "\\end{tabular}\n"
      ],
      "text/plain": [
       "222552×15 DataFrame. Omitted printing of 11 columns\n",
       "│ Row    │ ID     │ Name                               │ Sex    │ Age    │\n",
       "│        │ \u001b[90mInt64\u001b[39m  │ \u001b[90mString\u001b[39m                             │ \u001b[90mString\u001b[39m │ \u001b[90mString\u001b[39m │\n",
       "├────────┼────────┼────────────────────────────────────┼────────┼────────┤\n",
       "│ 1      │ 1      │ A Dijiang                          │ M      │ 24     │\n",
       "│ 2      │ 2      │ A Lamusi                           │ M      │ 23     │\n",
       "│ 3      │ 3      │ Gunnar Nielsen Aaby                │ M      │ 24     │\n",
       "│ 4      │ 4      │ Edgar Lindenau Aabye               │ M      │ 34     │\n",
       "│ 5      │ 8      │ Cornelia \"Cor\" Aalten (-Strannood) │ F      │ 18     │\n",
       "│ 6      │ 8      │ Cornelia \"Cor\" Aalten (-Strannood) │ F      │ 18     │\n",
       "│ 7      │ 10     │ Einar Ferdinand \"Einari\" Aalto     │ M      │ 26     │\n",
       "│ 8      │ 12     │ Jyri Tapani Aalto                  │ M      │ 31     │\n",
       "│ 9      │ 13     │ Minna Maarit Aalto                 │ F      │ 30     │\n",
       "│ 10     │ 13     │ Minna Maarit Aalto                 │ F      │ 34     │\n",
       "⋮\n",
       "│ 222542 │ 135560 │ Stavroula Zygouri                  │ F      │ 36     │\n",
       "│ 222543 │ 135561 │ Frantiek Zyka                      │ M      │ 26     │\n",
       "│ 222544 │ 135562 │ Milan Zyka                         │ M      │ 24     │\n",
       "│ 222545 │ 135563 │ Olesya Nikolayevna Zykina          │ F      │ 19     │\n",
       "│ 222546 │ 135563 │ Olesya Nikolayevna Zykina          │ F      │ 23     │\n",
       "│ 222547 │ 135565 │ Fernando scar Zylberberg           │ M      │ 23     │\n",
       "│ 222548 │ 135565 │ Fernando scar Zylberberg           │ M      │ 27     │\n",
       "│ 222549 │ 135566 │ James Francis \"Jim\" Zylker         │ M      │ 21     │\n",
       "│ 222550 │ 135567 │ Aleksandr Viktorovich Zyuzin       │ M      │ 24     │\n",
       "│ 222551 │ 135567 │ Aleksandr Viktorovich Zyuzin       │ M      │ 28     │\n",
       "│ 222552 │ 135568 │ Olga Igorevna Zyuzkova             │ F      │ 33     │"
      ]
     },
     "execution_count": 13,
     "metadata": {},
     "output_type": "execute_result"
    }
   ],
   "source": [
    "summer = @where(df, :Season .== \"Summer\")"
   ]
  },
  {
   "cell_type": "code",
   "execution_count": 14,
   "metadata": {},
   "outputs": [],
   "source": [
    "using Plots"
   ]
  },
  {
   "cell_type": "code",
   "execution_count": 15,
   "metadata": {},
   "outputs": [
    {
     "data": {
      "text/html": [
       "<table class=\"data-frame\"><thead><tr><th></th><th>ID</th><th>Name</th><th>Sex</th><th>Age</th><th>Height</th><th>Weight</th><th>Team</th></tr><tr><th></th><th>Int64</th><th>String</th><th>String</th><th>String</th><th>String</th><th>String</th><th>String</th></tr></thead><tbody><p>48,564 rows × 15 columns (omitted printing of 8 columns)</p><tr><th>1</th><td>5</td><td>Christine Jacoba Aaftink</td><td>F</td><td>21</td><td>185</td><td>82</td><td>Netherlands</td></tr><tr><th>2</th><td>5</td><td>Christine Jacoba Aaftink</td><td>F</td><td>21</td><td>185</td><td>82</td><td>Netherlands</td></tr><tr><th>3</th><td>5</td><td>Christine Jacoba Aaftink</td><td>F</td><td>25</td><td>185</td><td>82</td><td>Netherlands</td></tr><tr><th>4</th><td>5</td><td>Christine Jacoba Aaftink</td><td>F</td><td>25</td><td>185</td><td>82</td><td>Netherlands</td></tr><tr><th>5</th><td>5</td><td>Christine Jacoba Aaftink</td><td>F</td><td>27</td><td>185</td><td>82</td><td>Netherlands</td></tr><tr><th>6</th><td>5</td><td>Christine Jacoba Aaftink</td><td>F</td><td>27</td><td>185</td><td>82</td><td>Netherlands</td></tr><tr><th>7</th><td>6</td><td>Per Knut Aaland</td><td>M</td><td>31</td><td>188</td><td>75</td><td>United States</td></tr><tr><th>8</th><td>6</td><td>Per Knut Aaland</td><td>M</td><td>31</td><td>188</td><td>75</td><td>United States</td></tr><tr><th>9</th><td>6</td><td>Per Knut Aaland</td><td>M</td><td>31</td><td>188</td><td>75</td><td>United States</td></tr><tr><th>10</th><td>6</td><td>Per Knut Aaland</td><td>M</td><td>31</td><td>188</td><td>75</td><td>United States</td></tr><tr><th>11</th><td>6</td><td>Per Knut Aaland</td><td>M</td><td>33</td><td>188</td><td>75</td><td>United States</td></tr><tr><th>12</th><td>6</td><td>Per Knut Aaland</td><td>M</td><td>33</td><td>188</td><td>75</td><td>United States</td></tr><tr><th>13</th><td>6</td><td>Per Knut Aaland</td><td>M</td><td>33</td><td>188</td><td>75</td><td>United States</td></tr><tr><th>14</th><td>6</td><td>Per Knut Aaland</td><td>M</td><td>33</td><td>188</td><td>75</td><td>United States</td></tr><tr><th>15</th><td>7</td><td>John Aalberg</td><td>M</td><td>31</td><td>183</td><td>72</td><td>United States</td></tr><tr><th>16</th><td>7</td><td>John Aalberg</td><td>M</td><td>31</td><td>183</td><td>72</td><td>United States</td></tr><tr><th>17</th><td>7</td><td>John Aalberg</td><td>M</td><td>31</td><td>183</td><td>72</td><td>United States</td></tr><tr><th>18</th><td>7</td><td>John Aalberg</td><td>M</td><td>31</td><td>183</td><td>72</td><td>United States</td></tr><tr><th>19</th><td>7</td><td>John Aalberg</td><td>M</td><td>33</td><td>183</td><td>72</td><td>United States</td></tr><tr><th>20</th><td>7</td><td>John Aalberg</td><td>M</td><td>33</td><td>183</td><td>72</td><td>United States</td></tr><tr><th>21</th><td>7</td><td>John Aalberg</td><td>M</td><td>33</td><td>183</td><td>72</td><td>United States</td></tr><tr><th>22</th><td>7</td><td>John Aalberg</td><td>M</td><td>33</td><td>183</td><td>72</td><td>United States</td></tr><tr><th>23</th><td>9</td><td>Antti Sami Aalto</td><td>M</td><td>26</td><td>186</td><td>96</td><td>Finland</td></tr><tr><th>24</th><td>11</td><td>Jorma Ilmari Aalto</td><td>M</td><td>22</td><td>182</td><td>76.5</td><td>Finland</td></tr><tr><th>25</th><td>14</td><td>Pirjo Hannele Aalto (Mattila-)</td><td>F</td><td>32</td><td>171</td><td>65</td><td>Finland</td></tr><tr><th>26</th><td>16</td><td>Juhamatti Tapio Aaltonen</td><td>M</td><td>28</td><td>184</td><td>85</td><td>Finland</td></tr><tr><th>27</th><td>20</td><td>Kjetil Andr Aamodt</td><td>M</td><td>20</td><td>176</td><td>85</td><td>Norway</td></tr><tr><th>28</th><td>20</td><td>Kjetil Andr Aamodt</td><td>M</td><td>20</td><td>176</td><td>85</td><td>Norway</td></tr><tr><th>29</th><td>20</td><td>Kjetil Andr Aamodt</td><td>M</td><td>20</td><td>176</td><td>85</td><td>Norway</td></tr><tr><th>30</th><td>20</td><td>Kjetil Andr Aamodt</td><td>M</td><td>20</td><td>176</td><td>85</td><td>Norway</td></tr><tr><th>&vellip;</th><td>&vellip;</td><td>&vellip;</td><td>&vellip;</td><td>&vellip;</td><td>&vellip;</td><td>&vellip;</td><td>&vellip;</td></tr></tbody></table>"
      ],
      "text/latex": [
       "\\begin{tabular}{r|cccccccc}\n",
       "\t& ID & Name & Sex & Age & Height & Weight & Team & \\\\\n",
       "\t\\hline\n",
       "\t& Int64 & String & String & String & String & String & String & \\\\\n",
       "\t\\hline\n",
       "\t1 & 5 & Christine Jacoba Aaftink & F & 21 & 185 & 82 & Netherlands & $\\dots$ \\\\\n",
       "\t2 & 5 & Christine Jacoba Aaftink & F & 21 & 185 & 82 & Netherlands & $\\dots$ \\\\\n",
       "\t3 & 5 & Christine Jacoba Aaftink & F & 25 & 185 & 82 & Netherlands & $\\dots$ \\\\\n",
       "\t4 & 5 & Christine Jacoba Aaftink & F & 25 & 185 & 82 & Netherlands & $\\dots$ \\\\\n",
       "\t5 & 5 & Christine Jacoba Aaftink & F & 27 & 185 & 82 & Netherlands & $\\dots$ \\\\\n",
       "\t6 & 5 & Christine Jacoba Aaftink & F & 27 & 185 & 82 & Netherlands & $\\dots$ \\\\\n",
       "\t7 & 6 & Per Knut Aaland & M & 31 & 188 & 75 & United States & $\\dots$ \\\\\n",
       "\t8 & 6 & Per Knut Aaland & M & 31 & 188 & 75 & United States & $\\dots$ \\\\\n",
       "\t9 & 6 & Per Knut Aaland & M & 31 & 188 & 75 & United States & $\\dots$ \\\\\n",
       "\t10 & 6 & Per Knut Aaland & M & 31 & 188 & 75 & United States & $\\dots$ \\\\\n",
       "\t11 & 6 & Per Knut Aaland & M & 33 & 188 & 75 & United States & $\\dots$ \\\\\n",
       "\t12 & 6 & Per Knut Aaland & M & 33 & 188 & 75 & United States & $\\dots$ \\\\\n",
       "\t13 & 6 & Per Knut Aaland & M & 33 & 188 & 75 & United States & $\\dots$ \\\\\n",
       "\t14 & 6 & Per Knut Aaland & M & 33 & 188 & 75 & United States & $\\dots$ \\\\\n",
       "\t15 & 7 & John Aalberg & M & 31 & 183 & 72 & United States & $\\dots$ \\\\\n",
       "\t16 & 7 & John Aalberg & M & 31 & 183 & 72 & United States & $\\dots$ \\\\\n",
       "\t17 & 7 & John Aalberg & M & 31 & 183 & 72 & United States & $\\dots$ \\\\\n",
       "\t18 & 7 & John Aalberg & M & 31 & 183 & 72 & United States & $\\dots$ \\\\\n",
       "\t19 & 7 & John Aalberg & M & 33 & 183 & 72 & United States & $\\dots$ \\\\\n",
       "\t20 & 7 & John Aalberg & M & 33 & 183 & 72 & United States & $\\dots$ \\\\\n",
       "\t21 & 7 & John Aalberg & M & 33 & 183 & 72 & United States & $\\dots$ \\\\\n",
       "\t22 & 7 & John Aalberg & M & 33 & 183 & 72 & United States & $\\dots$ \\\\\n",
       "\t23 & 9 & Antti Sami Aalto & M & 26 & 186 & 96 & Finland & $\\dots$ \\\\\n",
       "\t24 & 11 & Jorma Ilmari Aalto & M & 22 & 182 & 76.5 & Finland & $\\dots$ \\\\\n",
       "\t25 & 14 & Pirjo Hannele Aalto (Mattila-) & F & 32 & 171 & 65 & Finland & $\\dots$ \\\\\n",
       "\t26 & 16 & Juhamatti Tapio Aaltonen & M & 28 & 184 & 85 & Finland & $\\dots$ \\\\\n",
       "\t27 & 20 & Kjetil Andr Aamodt & M & 20 & 176 & 85 & Norway & $\\dots$ \\\\\n",
       "\t28 & 20 & Kjetil Andr Aamodt & M & 20 & 176 & 85 & Norway & $\\dots$ \\\\\n",
       "\t29 & 20 & Kjetil Andr Aamodt & M & 20 & 176 & 85 & Norway & $\\dots$ \\\\\n",
       "\t30 & 20 & Kjetil Andr Aamodt & M & 20 & 176 & 85 & Norway & $\\dots$ \\\\\n",
       "\t$\\dots$ & $\\dots$ & $\\dots$ & $\\dots$ & $\\dots$ & $\\dots$ & $\\dots$ & $\\dots$ &  \\\\\n",
       "\\end{tabular}\n"
      ],
      "text/plain": [
       "48564×15 DataFrame. Omitted printing of 10 columns\n",
       "│ Row   │ ID     │ Name                         │ Sex    │ Age    │ Height │\n",
       "│       │ \u001b[90mInt64\u001b[39m  │ \u001b[90mString\u001b[39m                       │ \u001b[90mString\u001b[39m │ \u001b[90mString\u001b[39m │ \u001b[90mString\u001b[39m │\n",
       "├───────┼────────┼──────────────────────────────┼────────┼────────┼────────┤\n",
       "│ 1     │ 5      │ Christine Jacoba Aaftink     │ F      │ 21     │ 185    │\n",
       "│ 2     │ 5      │ Christine Jacoba Aaftink     │ F      │ 21     │ 185    │\n",
       "│ 3     │ 5      │ Christine Jacoba Aaftink     │ F      │ 25     │ 185    │\n",
       "│ 4     │ 5      │ Christine Jacoba Aaftink     │ F      │ 25     │ 185    │\n",
       "│ 5     │ 5      │ Christine Jacoba Aaftink     │ F      │ 27     │ 185    │\n",
       "│ 6     │ 5      │ Christine Jacoba Aaftink     │ F      │ 27     │ 185    │\n",
       "│ 7     │ 6      │ Per Knut Aaland              │ M      │ 31     │ 188    │\n",
       "│ 8     │ 6      │ Per Knut Aaland              │ M      │ 31     │ 188    │\n",
       "│ 9     │ 6      │ Per Knut Aaland              │ M      │ 31     │ 188    │\n",
       "│ 10    │ 6      │ Per Knut Aaland              │ M      │ 31     │ 188    │\n",
       "⋮\n",
       "│ 48554 │ 135559 │ Pawe Jan Zygmunt             │ M      │ 25     │ 182    │\n",
       "│ 48555 │ 135559 │ Pawe Jan Zygmunt             │ M      │ 25     │ 182    │\n",
       "│ 48556 │ 135559 │ Pawe Jan Zygmunt             │ M      │ 29     │ 182    │\n",
       "│ 48557 │ 135559 │ Pawe Jan Zygmunt             │ M      │ 29     │ 182    │\n",
       "│ 48558 │ 135559 │ Pawe Jan Zygmunt             │ M      │ 33     │ 182    │\n",
       "│ 48559 │ 135564 │ Yevgeny Aleksandrovich Zykov │ M      │ 22     │ 172    │\n",
       "│ 48560 │ 135569 │ Andrzej ya                   │ M      │ 29     │ 179    │\n",
       "│ 48561 │ 135570 │ Piotr ya                     │ M      │ 27     │ 176    │\n",
       "│ 48562 │ 135570 │ Piotr ya                     │ M      │ 27     │ 176    │\n",
       "│ 48563 │ 135571 │ Tomasz Ireneusz ya           │ M      │ 30     │ 185    │\n",
       "│ 48564 │ 135571 │ Tomasz Ireneusz ya           │ M      │ 34     │ 185    │"
      ]
     },
     "execution_count": 15,
     "metadata": {},
     "output_type": "execute_result"
    }
   ],
   "source": [
    "summer = DataFrame(summer)\n",
    "winter = DataFrame(winter)"
   ]
  },
  {
   "cell_type": "code",
   "execution_count": 16,
   "metadata": {},
   "outputs": [
    {
     "name": "stderr",
     "output_type": "stream",
     "text": [
      "┌ Warning: `getindex(df::DataFrame, col_ind::ColumnIndex)` is deprecated, use `df[!, col_ind]` instead.\n",
      "│   caller = top-level scope at In[16]:1\n",
      "└ @ Core In[16]:1\n"
     ]
    },
    {
     "data": {
      "text/plain": [
       "271116-element CSV.Column{String,PooledString}:\n",
       " \"NA\"\n",
       " \"NA\"\n",
       " \"NA\"\n",
       " \"Gold\"\n",
       " \"NA\"\n",
       " \"NA\"\n",
       " \"NA\"\n",
       " \"NA\"\n",
       " \"NA\"\n",
       " \"NA\"\n",
       " \"NA\"\n",
       " \"NA\"\n",
       " \"NA\"\n",
       " ⋮\n",
       " \"NA\"\n",
       " \"NA\"\n",
       " \"NA\"\n",
       " \"NA\"\n",
       " \"NA\"\n",
       " \"NA\"\n",
       " \"NA\"\n",
       " \"NA\"\n",
       " \"NA\"\n",
       " \"NA\"\n",
       " \"NA\"\n",
       " \"NA\""
      ]
     },
     "execution_count": 16,
     "metadata": {},
     "output_type": "execute_result"
    }
   ],
   "source": [
    "df[:Medal]"
   ]
  },
  {
   "cell_type": "code",
   "execution_count": 17,
   "metadata": {},
   "outputs": [],
   "source": [
    "using DataStructures"
   ]
  },
  {
   "cell_type": "code",
   "execution_count": 18,
   "metadata": {},
   "outputs": [
    {
     "name": "stderr",
     "output_type": "stream",
     "text": [
      "┌ Warning: `getindex(df::DataFrame, col_ind::ColumnIndex)` is deprecated, use `df[!, col_ind]` instead.\n",
      "│   caller = top-level scope at In[18]:1\n",
      "└ @ Core In[18]:1\n",
      "┌ Warning: `sort(d::Dict; args...)` is deprecated, use `sort!(OrderedDict(d); args...)` instead.\n",
      "│   caller = top-level scope at In[18]:1\n",
      "└ @ Core In[18]:1\n"
     ]
    },
    {
     "data": {
      "text/plain": [
       "OrderedDict{String,Int64} with 52 entries:\n",
       "  \"Aeronautics\"      => 1\n",
       "  \"Alpinism\"         => 4\n",
       "  \"Archery\"          => 2334\n",
       "  \"Art Competitions\" => 3578\n",
       "  \"Athletics\"        => 38624\n",
       "  \"Badminton\"        => 1457\n",
       "  \"Baseball\"         => 894\n",
       "  \"Basketball\"       => 4536\n",
       "  \"Basque Pelota\"    => 2\n",
       "  \"Beach Volleyball\" => 564\n",
       "  \"Boxing\"           => 6047\n",
       "  \"Canoeing\"         => 6171\n",
       "  \"Cricket\"          => 24\n",
       "  \"Croquet\"          => 19\n",
       "  \"Cycling\"          => 10859\n",
       "  \"Diving\"           => 2842\n",
       "  \"Equestrianism\"    => 6344\n",
       "  \"Fencing\"          => 10735\n",
       "  \"Figure Skating\"   => 54\n",
       "  \"Football\"         => 6745\n",
       "  \"Golf\"             => 247\n",
       "  \"Gymnastics\"       => 26707\n",
       "  \"Handball\"         => 3665\n",
       "  \"Hockey\"           => 5417\n",
       "  \"Ice Hockey\"       => 60\n",
       "  ⋮                  => ⋮"
      ]
     },
     "execution_count": 18,
     "metadata": {},
     "output_type": "execute_result"
    }
   ],
   "source": [
    "sort(countmap(summer[:Sport]))"
   ]
  },
  {
   "cell_type": "code",
   "execution_count": null,
   "metadata": {},
   "outputs": [],
   "source": []
  },
  {
   "cell_type": "code",
   "execution_count": 19,
   "metadata": {},
   "outputs": [
    {
     "name": "stderr",
     "output_type": "stream",
     "text": [
      "┌ Warning: `getindex(df::DataFrame, col_ind::ColumnIndex)` is deprecated, use `df[!, col_ind]` instead.\n",
      "│   caller = top-level scope at In[19]:2\n",
      "└ @ Core In[19]:2\n"
     ]
    },
    {
     "data": {
      "text/plain": [
       "191.0"
      ]
     },
     "execution_count": 19,
     "metadata": {},
     "output_type": "execute_result"
    }
   ],
   "source": [
    "basketball = DataFrame(@where(summer , :Sport .== \"Basketball\" ))\n",
    "bas  = basketball[:Height]\n",
    "bas = bas[bas.!=\"NA\",:]\n",
    "bas = parse.(Int64,bas[:,:])\n",
    "ceil(mean(bas))"
   ]
  },
  {
   "cell_type": "code",
   "execution_count": 20,
   "metadata": {},
   "outputs": [
    {
     "name": "stderr",
     "output_type": "stream",
     "text": [
      "┌ Warning: `getindex(df::DataFrame, col_ind::ColumnIndex)` is deprecated, use `df[!, col_ind]` instead.\n",
      "│   caller = top-level scope at In[20]:1\n",
      "└ @ Core In[20]:1\n"
     ]
    },
    {
     "data": {
      "text/html": [
       "<table class=\"data-frame\"><thead><tr><th></th><th>ID</th><th>Name</th><th>Sex</th><th>Age</th><th>Height</th><th>Weight</th><th>Team</th></tr><tr><th></th><th>Int64</th><th>String</th><th>String</th><th>String</th><th>String</th><th>String</th><th>String</th></tr></thead><tbody><p>170,695 rows × 15 columns (omitted printing of 8 columns)</p><tr><th>1</th><td>1</td><td>A Dijiang</td><td>M</td><td>24</td><td>180</td><td>80</td><td>China</td></tr><tr><th>2</th><td>2</td><td>A Lamusi</td><td>M</td><td>23</td><td>170</td><td>60</td><td>China</td></tr><tr><th>3</th><td>8</td><td>Cornelia \"Cor\" Aalten (-Strannood)</td><td>F</td><td>18</td><td>168</td><td>NA</td><td>Netherlands</td></tr><tr><th>4</th><td>8</td><td>Cornelia \"Cor\" Aalten (-Strannood)</td><td>F</td><td>18</td><td>168</td><td>NA</td><td>Netherlands</td></tr><tr><th>5</th><td>12</td><td>Jyri Tapani Aalto</td><td>M</td><td>31</td><td>172</td><td>70</td><td>Finland</td></tr><tr><th>6</th><td>13</td><td>Minna Maarit Aalto</td><td>F</td><td>30</td><td>159</td><td>55.5</td><td>Finland</td></tr><tr><th>7</th><td>13</td><td>Minna Maarit Aalto</td><td>F</td><td>34</td><td>159</td><td>55.5</td><td>Finland</td></tr><tr><th>8</th><td>17</td><td>Paavo Johannes Aaltonen</td><td>M</td><td>28</td><td>175</td><td>64</td><td>Finland</td></tr><tr><th>9</th><td>17</td><td>Paavo Johannes Aaltonen</td><td>M</td><td>28</td><td>175</td><td>64</td><td>Finland</td></tr><tr><th>10</th><td>17</td><td>Paavo Johannes Aaltonen</td><td>M</td><td>28</td><td>175</td><td>64</td><td>Finland</td></tr><tr><th>11</th><td>17</td><td>Paavo Johannes Aaltonen</td><td>M</td><td>28</td><td>175</td><td>64</td><td>Finland</td></tr><tr><th>12</th><td>17</td><td>Paavo Johannes Aaltonen</td><td>M</td><td>28</td><td>175</td><td>64</td><td>Finland</td></tr><tr><th>13</th><td>17</td><td>Paavo Johannes Aaltonen</td><td>M</td><td>28</td><td>175</td><td>64</td><td>Finland</td></tr><tr><th>14</th><td>17</td><td>Paavo Johannes Aaltonen</td><td>M</td><td>28</td><td>175</td><td>64</td><td>Finland</td></tr><tr><th>15</th><td>17</td><td>Paavo Johannes Aaltonen</td><td>M</td><td>28</td><td>175</td><td>64</td><td>Finland</td></tr><tr><th>16</th><td>17</td><td>Paavo Johannes Aaltonen</td><td>M</td><td>32</td><td>175</td><td>64</td><td>Finland</td></tr><tr><th>17</th><td>17</td><td>Paavo Johannes Aaltonen</td><td>M</td><td>32</td><td>175</td><td>64</td><td>Finland</td></tr><tr><th>18</th><td>17</td><td>Paavo Johannes Aaltonen</td><td>M</td><td>32</td><td>175</td><td>64</td><td>Finland</td></tr><tr><th>19</th><td>17</td><td>Paavo Johannes Aaltonen</td><td>M</td><td>32</td><td>175</td><td>64</td><td>Finland</td></tr><tr><th>20</th><td>17</td><td>Paavo Johannes Aaltonen</td><td>M</td><td>32</td><td>175</td><td>64</td><td>Finland</td></tr><tr><th>21</th><td>17</td><td>Paavo Johannes Aaltonen</td><td>M</td><td>32</td><td>175</td><td>64</td><td>Finland</td></tr><tr><th>22</th><td>17</td><td>Paavo Johannes Aaltonen</td><td>M</td><td>32</td><td>175</td><td>64</td><td>Finland</td></tr><tr><th>23</th><td>17</td><td>Paavo Johannes Aaltonen</td><td>M</td><td>32</td><td>175</td><td>64</td><td>Finland</td></tr><tr><th>24</th><td>18</td><td>Timo Antero Aaltonen</td><td>M</td><td>31</td><td>189</td><td>130</td><td>Finland</td></tr><tr><th>25</th><td>21</td><td>Ragnhild Margrethe Aamodt</td><td>F</td><td>27</td><td>163</td><td>NA</td><td>Norway</td></tr><tr><th>26</th><td>22</td><td>Andreea Aanei</td><td>F</td><td>22</td><td>170</td><td>125</td><td>Romania</td></tr><tr><th>27</th><td>23</td><td>Fritz Aanes</td><td>M</td><td>22</td><td>187</td><td>89</td><td>Norway</td></tr><tr><th>28</th><td>23</td><td>Fritz Aanes</td><td>M</td><td>26</td><td>187</td><td>89</td><td>Norway</td></tr><tr><th>29</th><td>28</td><td>Jan-Erik Aarberg</td><td>M</td><td>43</td><td>170</td><td>77</td><td>Norway</td></tr><tr><th>30</th><td>28</td><td>Jan-Erik Aarberg</td><td>M</td><td>47</td><td>170</td><td>77</td><td>Norway</td></tr><tr><th>&vellip;</th><td>&vellip;</td><td>&vellip;</td><td>&vellip;</td><td>&vellip;</td><td>&vellip;</td><td>&vellip;</td><td>&vellip;</td></tr></tbody></table>"
      ],
      "text/latex": [
       "\\begin{tabular}{r|cccccccc}\n",
       "\t& ID & Name & Sex & Age & Height & Weight & Team & \\\\\n",
       "\t\\hline\n",
       "\t& Int64 & String & String & String & String & String & String & \\\\\n",
       "\t\\hline\n",
       "\t1 & 1 & A Dijiang & M & 24 & 180 & 80 & China & $\\dots$ \\\\\n",
       "\t2 & 2 & A Lamusi & M & 23 & 170 & 60 & China & $\\dots$ \\\\\n",
       "\t3 & 8 & Cornelia \"Cor\" Aalten (-Strannood) & F & 18 & 168 & NA & Netherlands & $\\dots$ \\\\\n",
       "\t4 & 8 & Cornelia \"Cor\" Aalten (-Strannood) & F & 18 & 168 & NA & Netherlands & $\\dots$ \\\\\n",
       "\t5 & 12 & Jyri Tapani Aalto & M & 31 & 172 & 70 & Finland & $\\dots$ \\\\\n",
       "\t6 & 13 & Minna Maarit Aalto & F & 30 & 159 & 55.5 & Finland & $\\dots$ \\\\\n",
       "\t7 & 13 & Minna Maarit Aalto & F & 34 & 159 & 55.5 & Finland & $\\dots$ \\\\\n",
       "\t8 & 17 & Paavo Johannes Aaltonen & M & 28 & 175 & 64 & Finland & $\\dots$ \\\\\n",
       "\t9 & 17 & Paavo Johannes Aaltonen & M & 28 & 175 & 64 & Finland & $\\dots$ \\\\\n",
       "\t10 & 17 & Paavo Johannes Aaltonen & M & 28 & 175 & 64 & Finland & $\\dots$ \\\\\n",
       "\t11 & 17 & Paavo Johannes Aaltonen & M & 28 & 175 & 64 & Finland & $\\dots$ \\\\\n",
       "\t12 & 17 & Paavo Johannes Aaltonen & M & 28 & 175 & 64 & Finland & $\\dots$ \\\\\n",
       "\t13 & 17 & Paavo Johannes Aaltonen & M & 28 & 175 & 64 & Finland & $\\dots$ \\\\\n",
       "\t14 & 17 & Paavo Johannes Aaltonen & M & 28 & 175 & 64 & Finland & $\\dots$ \\\\\n",
       "\t15 & 17 & Paavo Johannes Aaltonen & M & 28 & 175 & 64 & Finland & $\\dots$ \\\\\n",
       "\t16 & 17 & Paavo Johannes Aaltonen & M & 32 & 175 & 64 & Finland & $\\dots$ \\\\\n",
       "\t17 & 17 & Paavo Johannes Aaltonen & M & 32 & 175 & 64 & Finland & $\\dots$ \\\\\n",
       "\t18 & 17 & Paavo Johannes Aaltonen & M & 32 & 175 & 64 & Finland & $\\dots$ \\\\\n",
       "\t19 & 17 & Paavo Johannes Aaltonen & M & 32 & 175 & 64 & Finland & $\\dots$ \\\\\n",
       "\t20 & 17 & Paavo Johannes Aaltonen & M & 32 & 175 & 64 & Finland & $\\dots$ \\\\\n",
       "\t21 & 17 & Paavo Johannes Aaltonen & M & 32 & 175 & 64 & Finland & $\\dots$ \\\\\n",
       "\t22 & 17 & Paavo Johannes Aaltonen & M & 32 & 175 & 64 & Finland & $\\dots$ \\\\\n",
       "\t23 & 17 & Paavo Johannes Aaltonen & M & 32 & 175 & 64 & Finland & $\\dots$ \\\\\n",
       "\t24 & 18 & Timo Antero Aaltonen & M & 31 & 189 & 130 & Finland & $\\dots$ \\\\\n",
       "\t25 & 21 & Ragnhild Margrethe Aamodt & F & 27 & 163 & NA & Norway & $\\dots$ \\\\\n",
       "\t26 & 22 & Andreea Aanei & F & 22 & 170 & 125 & Romania & $\\dots$ \\\\\n",
       "\t27 & 23 & Fritz Aanes & M & 22 & 187 & 89 & Norway & $\\dots$ \\\\\n",
       "\t28 & 23 & Fritz Aanes & M & 26 & 187 & 89 & Norway & $\\dots$ \\\\\n",
       "\t29 & 28 & Jan-Erik Aarberg & M & 43 & 170 & 77 & Norway & $\\dots$ \\\\\n",
       "\t30 & 28 & Jan-Erik Aarberg & M & 47 & 170 & 77 & Norway & $\\dots$ \\\\\n",
       "\t$\\dots$ & $\\dots$ & $\\dots$ & $\\dots$ & $\\dots$ & $\\dots$ & $\\dots$ & $\\dots$ &  \\\\\n",
       "\\end{tabular}\n"
      ],
      "text/plain": [
       "170695×15 DataFrame. Omitted printing of 11 columns\n",
       "│ Row    │ ID     │ Name                               │ Sex    │ Age    │\n",
       "│        │ \u001b[90mInt64\u001b[39m  │ \u001b[90mString\u001b[39m                             │ \u001b[90mString\u001b[39m │ \u001b[90mString\u001b[39m │\n",
       "├────────┼────────┼────────────────────────────────────┼────────┼────────┤\n",
       "│ 1      │ 1      │ A Dijiang                          │ M      │ 24     │\n",
       "│ 2      │ 2      │ A Lamusi                           │ M      │ 23     │\n",
       "│ 3      │ 8      │ Cornelia \"Cor\" Aalten (-Strannood) │ F      │ 18     │\n",
       "│ 4      │ 8      │ Cornelia \"Cor\" Aalten (-Strannood) │ F      │ 18     │\n",
       "│ 5      │ 12     │ Jyri Tapani Aalto                  │ M      │ 31     │\n",
       "│ 6      │ 13     │ Minna Maarit Aalto                 │ F      │ 30     │\n",
       "│ 7      │ 13     │ Minna Maarit Aalto                 │ F      │ 34     │\n",
       "│ 8      │ 17     │ Paavo Johannes Aaltonen            │ M      │ 28     │\n",
       "│ 9      │ 17     │ Paavo Johannes Aaltonen            │ M      │ 28     │\n",
       "│ 10     │ 17     │ Paavo Johannes Aaltonen            │ M      │ 28     │\n",
       "⋮\n",
       "│ 170685 │ 135558 │ ukasz Tomasz ygado                 │ M      │ 32     │\n",
       "│ 170686 │ 135560 │ Stavroula Zygouri                  │ F      │ 36     │\n",
       "│ 170687 │ 135562 │ Milan Zyka                         │ M      │ 24     │\n",
       "│ 170688 │ 135563 │ Olesya Nikolayevna Zykina          │ F      │ 19     │\n",
       "│ 170689 │ 135563 │ Olesya Nikolayevna Zykina          │ F      │ 23     │\n",
       "│ 170690 │ 135565 │ Fernando scar Zylberberg           │ M      │ 23     │\n",
       "│ 170691 │ 135565 │ Fernando scar Zylberberg           │ M      │ 27     │\n",
       "│ 170692 │ 135566 │ James Francis \"Jim\" Zylker         │ M      │ 21     │\n",
       "│ 170693 │ 135567 │ Aleksandr Viktorovich Zyuzin       │ M      │ 24     │\n",
       "│ 170694 │ 135567 │ Aleksandr Viktorovich Zyuzin       │ M      │ 28     │\n",
       "│ 170695 │ 135568 │ Olga Igorevna Zyuzkova             │ F      │ 33     │"
      ]
     },
     "execution_count": 20,
     "metadata": {},
     "output_type": "execute_result"
    }
   ],
   "source": [
    "bas = summer[summer[:Height].!=\"NA\",:]"
   ]
  },
  {
   "cell_type": "code",
   "execution_count": 21,
   "metadata": {},
   "outputs": [
    {
     "data": {
      "text/html": [
       "<p><b>GroupedDataFrame with 46 groups based on key: Sport</b></p><p><i>First Group (3881 rows): Sport = \"Basketball\"</i></p><table class=\"data-frame\"><thead><tr><th></th><th>ID</th><th>Name</th><th>Sex</th><th>Age</th><th>Height</th><th>Weight</th><th>Team</th></tr><tr><th></th><th>Int64</th><th>String</th><th>String</th><th>String</th><th>String</th><th>String</th><th>String</th></tr></thead><tbody><tr><th>1</th><td>1</td><td>A Dijiang</td><td>M</td><td>24</td><td>180</td><td>80</td><td>China</td></tr><tr><th>2</th><td>69</td><td>Tamara Abalde Daz</td><td>F</td><td>19</td><td>185</td><td>72</td><td>Spain</td></tr><tr><th>3</th><td>136</td><td>Alessandro Abbio</td><td>M</td><td>29</td><td>195</td><td>85</td><td>Italy</td></tr><tr><th>4</th><td>192</td><td>Ahmed El-Sayed Abdel Hamid Mobarak</td><td>M</td><td>25</td><td>189</td><td>85</td><td>Egypt</td></tr><tr><th>5</th><td>199</td><td>Amir Abdel Meguid</td><td>M</td><td>23</td><td>178</td><td>67</td><td>Egypt</td></tr><tr><th>6</th><td>199</td><td>Amir Abdel Meguid</td><td>M</td><td>27</td><td>178</td><td>67</td><td>Egypt</td></tr><tr><th>7</th><td>202</td><td>Awad Abdel Nabi Awad</td><td>M</td><td>19</td><td>198</td><td>80</td><td>Egypt</td></tr><tr><th>8</th><td>202</td><td>Awad Abdel Nabi Awad</td><td>M</td><td>23</td><td>198</td><td>80</td><td>Egypt</td></tr><tr><th>9</th><td>270</td><td>Alaa El-Din Abdoun</td><td>M</td><td>23</td><td>188</td><td>78</td><td>Egypt</td></tr><tr><th>10</th><td>351</td><td>Julius Shareef Abdur-Rahim</td><td>M</td><td>23</td><td>202</td><td>104</td><td>United States</td></tr><tr><th>11</th><td>370</td><td>Shigeaki Abe</td><td>M</td><td>24</td><td>178</td><td>70</td><td>Japan</td></tr><tr><th>12</th><td>370</td><td>Shigeaki Abe</td><td>M</td><td>28</td><td>178</td><td>70</td><td>Japan</td></tr><tr><th>13</th><td>474</td><td>Essameldin Abou El-Nein</td><td>M</td><td>29</td><td>205</td><td>102</td><td>Egypt</td></tr><tr><th>14</th><td>570</td><td>Pedro Abreu Pascal</td><td>M</td><td>23</td><td>200</td><td>88</td><td>Cuba</td></tr><tr><th>15</th><td>576</td><td>Alejandro \"lex\" Abrines Redondo</td><td>M</td><td>23</td><td>198</td><td>93</td><td>Spain</td></tr><tr><th>16</th><td>580</td><td>Svetlana Olegovna Abrosimova</td><td>F</td><td>20</td><td>188</td><td>77</td><td>Russia</td></tr><tr><th>17</th><td>580</td><td>Svetlana Olegovna Abrosimova</td><td>F</td><td>28</td><td>188</td><td>77</td><td>Russia</td></tr><tr><th>18</th><td>661</td><td>Emilio Achacoso</td><td>M</td><td>28</td><td>178</td><td>78</td><td>Philippines</td></tr><tr><th>19</th><td>664</td><td>Kieron Robert Achara</td><td>M</td><td>29</td><td>208</td><td>110</td><td>Great Britain</td></tr><tr><th>20</th><td>683</td><td>Natalie Chioma Achonwa</td><td>F</td><td>19</td><td>190</td><td>86</td><td>Canada</td></tr><tr><th>21</th><td>683</td><td>Natalie Chioma Achonwa</td><td>F</td><td>23</td><td>190</td><td>86</td><td>Canada</td></tr><tr><th>22</th><td>742</td><td>Roberto Acua</td><td>M</td><td>25</td><td>208</td><td>109</td><td>Argentina</td></tr><tr><th>23</th><td>947</td><td>Adilson de Freitas Nascimento</td><td>M</td><td>20</td><td>195</td><td>88</td><td>Brazil</td></tr><tr><th>24</th><td>947</td><td>Adilson de Freitas Nascimento</td><td>M</td><td>28</td><td>195</td><td>88</td><td>Brazil</td></tr><tr><th>25</th><td>947</td><td>Adilson de Freitas Nascimento</td><td>M</td><td>32</td><td>195</td><td>88</td><td>Brazil</td></tr><tr><th>26</th><td>982</td><td>Hamdi Adly El-Seoudi Ibrahim</td><td>M</td><td>23</td><td>194</td><td>82</td><td>Egypt</td></tr><tr><th>27</th><td>1000</td><td>Dainius Adomaitis</td><td>M</td><td>26</td><td>202</td><td>100</td><td>Lithuania</td></tr><tr><th>28</th><td>1009</td><td>William Adornado</td><td>M</td><td>21</td><td>187</td><td>77</td><td>Philippines</td></tr><tr><th>29</th><td>1012</td><td>Rubn Adorno Melndez</td><td>M</td><td>23</td><td>190</td><td>91</td><td>Puerto Rico</td></tr><tr><th>30</th><td>1012</td><td>Rubn Adorno Melndez</td><td>M</td><td>27</td><td>190</td><td>91</td><td>Puerto Rico</td></tr><tr><th>&vellip;</th><td>&vellip;</td><td>&vellip;</td><td>&vellip;</td><td>&vellip;</td><td>&vellip;</td><td>&vellip;</td><td>&vellip;</td></tr></tbody></table><p>&vellip;</p><p><i>Last Group (2 rows): Sport = \"Racquets\"</i></p><table class=\"data-frame\"><thead><tr><th></th><th>ID</th><th>Name</th><th>Sex</th><th>Age</th><th>Height</th><th>Weight</th><th>Team</th></tr><tr><th></th><th>Int64</th><th>String</th><th>String</th><th>String</th><th>String</th><th>String</th><th>String</th></tr></thead><tbody><tr><th>1</th><td>93046</td><td>Vane Hungerford Pennell</td><td>M</td><td>31</td><td>176</td><td>NA</td><td>Great Britain</td></tr><tr><th>2</th><td>93046</td><td>Vane Hungerford Pennell</td><td>M</td><td>31</td><td>176</td><td>NA</td><td>Great Britain-1</td></tr></tbody></table>"
      ],
      "text/latex": [
       "GroupedDataFrame with 46 groups based on key: Sport\n",
       "\n",
       "First Group (3881 rows): Sport = \"Basketball\"\n",
       "\n",
       "\\begin{tabular}{r|cccccccc}\n",
       "\t& ID & Name & Sex & Age & Height & Weight & Team & \\\\\n",
       "\t\\hline\n",
       "\t& Int64 & String & String & String & String & String & String & \\\\\n",
       "\t\\hline\n",
       "\t1 & 1 & A Dijiang & M & 24 & 180 & 80 & China & $\\dots$ \\\\\n",
       "\t2 & 69 & Tamara Abalde Daz & F & 19 & 185 & 72 & Spain & $\\dots$ \\\\\n",
       "\t3 & 136 & Alessandro Abbio & M & 29 & 195 & 85 & Italy & $\\dots$ \\\\\n",
       "\t4 & 192 & Ahmed El-Sayed Abdel Hamid Mobarak & M & 25 & 189 & 85 & Egypt & $\\dots$ \\\\\n",
       "\t5 & 199 & Amir Abdel Meguid & M & 23 & 178 & 67 & Egypt & $\\dots$ \\\\\n",
       "\t6 & 199 & Amir Abdel Meguid & M & 27 & 178 & 67 & Egypt & $\\dots$ \\\\\n",
       "\t7 & 202 & Awad Abdel Nabi Awad & M & 19 & 198 & 80 & Egypt & $\\dots$ \\\\\n",
       "\t8 & 202 & Awad Abdel Nabi Awad & M & 23 & 198 & 80 & Egypt & $\\dots$ \\\\\n",
       "\t9 & 270 & Alaa El-Din Abdoun & M & 23 & 188 & 78 & Egypt & $\\dots$ \\\\\n",
       "\t10 & 351 & Julius Shareef Abdur-Rahim & M & 23 & 202 & 104 & United States & $\\dots$ \\\\\n",
       "\t11 & 370 & Shigeaki Abe & M & 24 & 178 & 70 & Japan & $\\dots$ \\\\\n",
       "\t12 & 370 & Shigeaki Abe & M & 28 & 178 & 70 & Japan & $\\dots$ \\\\\n",
       "\t13 & 474 & Essameldin Abou El-Nein & M & 29 & 205 & 102 & Egypt & $\\dots$ \\\\\n",
       "\t14 & 570 & Pedro Abreu Pascal & M & 23 & 200 & 88 & Cuba & $\\dots$ \\\\\n",
       "\t15 & 576 & Alejandro \"lex\" Abrines Redondo & M & 23 & 198 & 93 & Spain & $\\dots$ \\\\\n",
       "\t16 & 580 & Svetlana Olegovna Abrosimova & F & 20 & 188 & 77 & Russia & $\\dots$ \\\\\n",
       "\t17 & 580 & Svetlana Olegovna Abrosimova & F & 28 & 188 & 77 & Russia & $\\dots$ \\\\\n",
       "\t18 & 661 & Emilio Achacoso & M & 28 & 178 & 78 & Philippines & $\\dots$ \\\\\n",
       "\t19 & 664 & Kieron Robert Achara & M & 29 & 208 & 110 & Great Britain & $\\dots$ \\\\\n",
       "\t20 & 683 & Natalie Chioma Achonwa & F & 19 & 190 & 86 & Canada & $\\dots$ \\\\\n",
       "\t21 & 683 & Natalie Chioma Achonwa & F & 23 & 190 & 86 & Canada & $\\dots$ \\\\\n",
       "\t22 & 742 & Roberto Acua & M & 25 & 208 & 109 & Argentina & $\\dots$ \\\\\n",
       "\t23 & 947 & Adilson de Freitas Nascimento & M & 20 & 195 & 88 & Brazil & $\\dots$ \\\\\n",
       "\t24 & 947 & Adilson de Freitas Nascimento & M & 28 & 195 & 88 & Brazil & $\\dots$ \\\\\n",
       "\t25 & 947 & Adilson de Freitas Nascimento & M & 32 & 195 & 88 & Brazil & $\\dots$ \\\\\n",
       "\t26 & 982 & Hamdi Adly El-Seoudi Ibrahim & M & 23 & 194 & 82 & Egypt & $\\dots$ \\\\\n",
       "\t27 & 1000 & Dainius Adomaitis & M & 26 & 202 & 100 & Lithuania & $\\dots$ \\\\\n",
       "\t28 & 1009 & William Adornado & M & 21 & 187 & 77 & Philippines & $\\dots$ \\\\\n",
       "\t29 & 1012 & Rubn Adorno Melndez & M & 23 & 190 & 91 & Puerto Rico & $\\dots$ \\\\\n",
       "\t30 & 1012 & Rubn Adorno Melndez & M & 27 & 190 & 91 & Puerto Rico & $\\dots$ \\\\\n",
       "\t$\\dots$ & $\\dots$ & $\\dots$ & $\\dots$ & $\\dots$ & $\\dots$ & $\\dots$ & $\\dots$ &  \\\\\n",
       "\\end{tabular}\n",
       "\n",
       "$\\dots$\n",
       "\n",
       "Last Group (2 rows): Sport = \"Racquets\"\n",
       "\n",
       "\\begin{tabular}{r|cccccccc}\n",
       "\t& ID & Name & Sex & Age & Height & Weight & Team & \\\\\n",
       "\t\\hline\n",
       "\t& Int64 & String & String & String & String & String & String & \\\\\n",
       "\t\\hline\n",
       "\t1 & 93046 & Vane Hungerford Pennell & M & 31 & 176 & NA & Great Britain & $\\dots$ \\\\\n",
       "\t2 & 93046 & Vane Hungerford Pennell & M & 31 & 176 & NA & Great Britain-1 & $\\dots$ \\\\\n",
       "\\end{tabular}\n"
      ],
      "text/plain": [
       "GroupedDataFrame with 46 groups based on key: Sport\n",
       "First Group (3881 rows): Sport = \"Basketball\". Omitted printing of 11 columns\n",
       "│ Row  │ ID     │ Name                               │ Sex    │ Age    │\n",
       "│      │ \u001b[90mInt64\u001b[39m  │ \u001b[90mString\u001b[39m                             │ \u001b[90mString\u001b[39m │ \u001b[90mString\u001b[39m │\n",
       "├──────┼────────┼────────────────────────────────────┼────────┼────────┤\n",
       "│ 1    │ 1      │ A Dijiang                          │ M      │ 24     │\n",
       "│ 2    │ 69     │ Tamara Abalde Daz                  │ F      │ 19     │\n",
       "│ 3    │ 136    │ Alessandro Abbio                   │ M      │ 29     │\n",
       "│ 4    │ 192    │ Ahmed El-Sayed Abdel Hamid Mobarak │ M      │ 25     │\n",
       "│ 5    │ 199    │ Amir Abdel Meguid                  │ M      │ 23     │\n",
       "│ 6    │ 199    │ Amir Abdel Meguid                  │ M      │ 27     │\n",
       "│ 7    │ 202    │ Awad Abdel Nabi Awad               │ M      │ 19     │\n",
       "│ 8    │ 202    │ Awad Abdel Nabi Awad               │ M      │ 23     │\n",
       "│ 9    │ 270    │ Alaa El-Din Abdoun                 │ M      │ 23     │\n",
       "│ 10   │ 351    │ Julius Shareef Abdur-Rahim         │ M      │ 23     │\n",
       "⋮\n",
       "│ 3871 │ 135306 │ Tibor Zsiros                       │ M      │ 30     │\n",
       "│ 3872 │ 135345 │ Viktor Alekseyevich Zubkov         │ M      │ 19     │\n",
       "│ 3873 │ 135345 │ Viktor Alekseyevich Zubkov         │ M      │ 23     │\n",
       "│ 3874 │ 135369 │ Dino Zucchi                        │ M      │ 24     │\n",
       "│ 3875 │ 135401 │ Eurelijus ukauskas                 │ M      │ 22     │\n",
       "│ 3876 │ 135401 │ Eurelijus ukauskas                 │ M      │ 27     │\n",
       "│ 3877 │ 135401 │ Eurelijus ukauskas                 │ M      │ 30     │\n",
       "│ 3878 │ 135402 │ Mindaugas ukauskas                 │ M      │ 20     │\n",
       "│ 3879 │ 135402 │ Mindaugas ukauskas                 │ M      │ 28     │\n",
       "│ 3880 │ 135530 │ Philip Zwiener                     │ M      │ 23     │\n",
       "│ 3881 │ 135568 │ Olga Igorevna Zyuzkova             │ F      │ 33     │\n",
       "⋮\n",
       "Last Group (2 rows): Sport = \"Racquets\". Omitted printing of 9 columns\n",
       "│ Row │ ID    │ Name                    │ Sex    │ Age    │ Height │ Weight │\n",
       "│     │ \u001b[90mInt64\u001b[39m │ \u001b[90mString\u001b[39m                  │ \u001b[90mString\u001b[39m │ \u001b[90mString\u001b[39m │ \u001b[90mString\u001b[39m │ \u001b[90mString\u001b[39m │\n",
       "├─────┼───────┼─────────────────────────┼────────┼────────┼────────┼────────┤\n",
       "│ 1   │ 93046 │ Vane Hungerford Pennell │ M      │ 31     │ 176    │ NA     │\n",
       "│ 2   │ 93046 │ Vane Hungerford Pennell │ M      │ 31     │ 176    │ NA     │"
      ]
     },
     "execution_count": 21,
     "metadata": {},
     "output_type": "execute_result"
    }
   ],
   "source": [
    "height = groupby(bas,:Sport)\n",
    "#combine(height , :Height => mean)"
   ]
  },
  {
   "cell_type": "code",
   "execution_count": 22,
   "metadata": {},
   "outputs": [
    {
     "name": "stderr",
     "output_type": "stream",
     "text": [
      "┌ Warning: `getindex(df::DataFrame, col_ind::ColumnIndex)` is deprecated, use `df[!, col_ind]` instead.\n",
      "│   caller = top-level scope at In[22]:1\n",
      "└ @ Core In[22]:1\n",
      "┌ Warning: `setindex!(df::DataFrame, v::AbstractVector, col_ind::ColumnIndex)` is deprecated, use `begin\n",
      "│     df[!, col_ind] = v\n",
      "│     df\n",
      "│ end` instead.\n",
      "│   caller = top-level scope at In[22]:1\n",
      "└ @ Core In[22]:1\n"
     ]
    },
    {
     "data": {
      "text/plain": [
       "170695-element Array{Int64,1}:\n",
       " 180\n",
       " 170\n",
       " 168\n",
       " 168\n",
       " 172\n",
       " 159\n",
       " 159\n",
       " 175\n",
       " 175\n",
       " 175\n",
       " 175\n",
       " 175\n",
       " 175\n",
       "   ⋮\n",
       " 192\n",
       " 200\n",
       " 171\n",
       " 173\n",
       " 171\n",
       " 171\n",
       " 168\n",
       " 168\n",
       " 175\n",
       " 183\n",
       " 183\n",
       " 171"
      ]
     },
     "execution_count": 22,
     "metadata": {},
     "output_type": "execute_result"
    }
   ],
   "source": [
    "bas[:height] = [parse(Int,x) for x in bas[:Height]] "
   ]
  },
  {
   "cell_type": "code",
   "execution_count": 23,
   "metadata": {},
   "outputs": [
    {
     "name": "stderr",
     "output_type": "stream",
     "text": [
      "┌ Warning: `getindex(df::DataFrame, col_ind::ColumnIndex)` is deprecated, use `df[!, col_ind]` instead.\n",
      "│   caller = top-level scope at In[23]:1\n",
      "└ @ Core In[23]:1\n"
     ]
    },
    {
     "data": {
      "text/plain": [
       "Array{Int64,1}"
      ]
     },
     "execution_count": 23,
     "metadata": {},
     "output_type": "execute_result"
    }
   ],
   "source": [
    "typeof(bas[:height])"
   ]
  },
  {
   "cell_type": "code",
   "execution_count": 24,
   "metadata": {},
   "outputs": [
    {
     "data": {
      "text/html": [
       "<table class=\"data-frame\"><thead><tr><th></th><th>Sport</th><th>height_mean</th></tr><tr><th></th><th>String</th><th>Float64</th></tr></thead><tbody><p>46 rows × 2 columns</p><tr><th>1</th><td>Basketball</td><td>190.87</td></tr><tr><th>2</th><td>Judo</td><td>174.187</td></tr><tr><th>3</th><td>Athletics</td><td>176.256</td></tr><tr><th>4</th><td>Badminton</td><td>174.179</td></tr><tr><th>5</th><td>Sailing</td><td>178.262</td></tr><tr><th>6</th><td>Gymnastics</td><td>162.936</td></tr><tr><th>7</th><td>Handball</td><td>183.385</td></tr><tr><th>8</th><td>Weightlifting</td><td>167.825</td></tr><tr><th>9</th><td>Wrestling</td><td>172.359</td></tr><tr><th>10</th><td>Rowing</td><td>184.172</td></tr><tr><th>11</th><td>Swimming</td><td>178.562</td></tr><tr><th>12</th><td>Football</td><td>175.402</td></tr><tr><th>13</th><td>Equestrianism</td><td>174.375</td></tr><tr><th>14</th><td>Shooting</td><td>173.572</td></tr><tr><th>15</th><td>Taekwondo</td><td>176.751</td></tr><tr><th>16</th><td>Boxing</td><td>172.826</td></tr><tr><th>17</th><td>Fencing</td><td>177.164</td></tr><tr><th>18</th><td>Diving</td><td>166.634</td></tr><tr><th>19</th><td>Canoeing</td><td>178.54</td></tr><tr><th>20</th><td>Water Polo</td><td>184.835</td></tr><tr><th>21</th><td>Tennis</td><td>178.898</td></tr><tr><th>22</th><td>Cycling</td><td>176.109</td></tr><tr><th>23</th><td>Hockey</td><td>173.36</td></tr><tr><th>24</th><td>Softball</td><td>169.395</td></tr><tr><th>25</th><td>Archery</td><td>173.203</td></tr><tr><th>26</th><td>Volleyball</td><td>186.995</td></tr><tr><th>27</th><td>Synchronized Swimming</td><td>168.481</td></tr><tr><th>28</th><td>Modern Pentathlon</td><td>177.944</td></tr><tr><th>29</th><td>Table Tennis</td><td>171.254</td></tr><tr><th>30</th><td>Baseball</td><td>182.599</td></tr><tr><th>&vellip;</th><td>&vellip;</td><td>&vellip;</td></tr></tbody></table>"
      ],
      "text/latex": [
       "\\begin{tabular}{r|cc}\n",
       "\t& Sport & height\\_mean\\\\\n",
       "\t\\hline\n",
       "\t& String & Float64\\\\\n",
       "\t\\hline\n",
       "\t1 & Basketball & 190.87 \\\\\n",
       "\t2 & Judo & 174.187 \\\\\n",
       "\t3 & Athletics & 176.256 \\\\\n",
       "\t4 & Badminton & 174.179 \\\\\n",
       "\t5 & Sailing & 178.262 \\\\\n",
       "\t6 & Gymnastics & 162.936 \\\\\n",
       "\t7 & Handball & 183.385 \\\\\n",
       "\t8 & Weightlifting & 167.825 \\\\\n",
       "\t9 & Wrestling & 172.359 \\\\\n",
       "\t10 & Rowing & 184.172 \\\\\n",
       "\t11 & Swimming & 178.562 \\\\\n",
       "\t12 & Football & 175.402 \\\\\n",
       "\t13 & Equestrianism & 174.375 \\\\\n",
       "\t14 & Shooting & 173.572 \\\\\n",
       "\t15 & Taekwondo & 176.751 \\\\\n",
       "\t16 & Boxing & 172.826 \\\\\n",
       "\t17 & Fencing & 177.164 \\\\\n",
       "\t18 & Diving & 166.634 \\\\\n",
       "\t19 & Canoeing & 178.54 \\\\\n",
       "\t20 & Water Polo & 184.835 \\\\\n",
       "\t21 & Tennis & 178.898 \\\\\n",
       "\t22 & Cycling & 176.109 \\\\\n",
       "\t23 & Hockey & 173.36 \\\\\n",
       "\t24 & Softball & 169.395 \\\\\n",
       "\t25 & Archery & 173.203 \\\\\n",
       "\t26 & Volleyball & 186.995 \\\\\n",
       "\t27 & Synchronized Swimming & 168.481 \\\\\n",
       "\t28 & Modern Pentathlon & 177.944 \\\\\n",
       "\t29 & Table Tennis & 171.254 \\\\\n",
       "\t30 & Baseball & 182.599 \\\\\n",
       "\t$\\dots$ & $\\dots$ & $\\dots$ \\\\\n",
       "\\end{tabular}\n"
      ],
      "text/plain": [
       "46×2 DataFrame\n",
       "│ Row │ Sport            │ height_mean │\n",
       "│     │ \u001b[90mString\u001b[39m           │ \u001b[90mFloat64\u001b[39m     │\n",
       "├─────┼──────────────────┼─────────────┤\n",
       "│ 1   │ Basketball       │ 190.87      │\n",
       "│ 2   │ Judo             │ 174.187     │\n",
       "│ 3   │ Athletics        │ 176.256     │\n",
       "│ 4   │ Badminton        │ 174.179     │\n",
       "│ 5   │ Sailing          │ 178.262     │\n",
       "│ 6   │ Gymnastics       │ 162.936     │\n",
       "│ 7   │ Handball         │ 183.385     │\n",
       "│ 8   │ Weightlifting    │ 167.825     │\n",
       "│ 9   │ Wrestling        │ 172.359     │\n",
       "│ 10  │ Rowing           │ 184.172     │\n",
       "⋮\n",
       "│ 36  │ Golf             │ 174.29      │\n",
       "│ 37  │ Rugby            │ 176.097     │\n",
       "│ 38  │ Art Competitions │ 174.644     │\n",
       "│ 39  │ Tug-Of-War       │ 182.48      │\n",
       "│ 40  │ Ice Hockey       │ 175.15      │\n",
       "│ 41  │ Lacrosse         │ 174.0       │\n",
       "│ 42  │ Polo             │ 175.5       │\n",
       "│ 43  │ Motorboating     │ 181.0       │\n",
       "│ 44  │ Figure Skating   │ 169.5       │\n",
       "│ 45  │ Jeu De Paume     │ 178.5       │\n",
       "│ 46  │ Racquets         │ 176.0       │"
      ]
     },
     "execution_count": 24,
     "metadata": {},
     "output_type": "execute_result"
    }
   ],
   "source": [
    "df = combine(height , :height => mean)\n"
   ]
  },
  {
   "cell_type": "code",
   "execution_count": 25,
   "metadata": {},
   "outputs": [
    {
     "name": "stderr",
     "output_type": "stream",
     "text": [
      "┌ Warning: `getindex(df::DataFrame, col_ind::ColumnIndex)` is deprecated, use `df[!, col_ind]` instead.\n",
      "│   caller = top-level scope at In[25]:1\n",
      "└ @ Core In[25]:1\n",
      "┌ Warning: `setindex!(df::DataFrame, v::AbstractVector, col_ind::ColumnIndex)` is deprecated, use `begin\n",
      "│     df[!, col_ind] = v\n",
      "│     df\n",
      "│ end` instead.\n",
      "│   caller = top-level scope at In[25]:1\n",
      "└ @ Core In[25]:1\n"
     ]
    },
    {
     "data": {
      "text/plain": [
       "46-element Array{Float64,1}:\n",
       " 191.0\n",
       " 175.0\n",
       " 177.0\n",
       " 175.0\n",
       " 179.0\n",
       " 163.0\n",
       " 184.0\n",
       " 168.0\n",
       " 173.0\n",
       " 185.0\n",
       " 179.0\n",
       " 176.0\n",
       " 175.0\n",
       "   ⋮\n",
       " 174.0\n",
       " 175.0\n",
       " 177.0\n",
       " 175.0\n",
       " 183.0\n",
       " 176.0\n",
       " 174.0\n",
       " 176.0\n",
       " 181.0\n",
       " 170.0\n",
       " 179.0\n",
       " 176.0"
      ]
     },
     "execution_count": 25,
     "metadata": {},
     "output_type": "execute_result"
    }
   ],
   "source": [
    "df[:height_mean]=ceil.(df[:height_mean])"
   ]
  },
  {
   "cell_type": "code",
   "execution_count": null,
   "metadata": {},
   "outputs": [],
   "source": []
  },
  {
   "cell_type": "code",
   "execution_count": 26,
   "metadata": {},
   "outputs": [],
   "source": [
    "#df[:height_mean_ceil] = [parse(Int,x) for x in df[:height_mean]] "
   ]
  },
  {
   "cell_type": "code",
   "execution_count": null,
   "metadata": {},
   "outputs": [],
   "source": []
  },
  {
   "cell_type": "code",
   "execution_count": 27,
   "metadata": {},
   "outputs": [],
   "source": [
    "using Plots"
   ]
  },
  {
   "cell_type": "code",
   "execution_count": 28,
   "metadata": {},
   "outputs": [],
   "source": [
    "#barh(df[:Sport],df[:height_mean])"
   ]
  },
  {
   "cell_type": "code",
   "execution_count": 29,
   "metadata": {},
   "outputs": [],
   "source": [
    "using Vega\n",
    "#barplot(x = df[:Sport], y =df[:height_mean] , horizontal = true)"
   ]
  },
  {
   "cell_type": "code",
   "execution_count": 30,
   "metadata": {},
   "outputs": [],
   "source": [
    "using VegaLite"
   ]
  },
  {
   "cell_type": "markdown",
   "metadata": {},
   "source": [
    "<h3> Average height of players across different sports"
   ]
  },
  {
   "cell_type": "code",
   "execution_count": 31,
   "metadata": {},
   "outputs": [
    {
     "name": "stderr",
     "output_type": "stream",
     "text": [
      "┌ Warning: `getindex(df::DataFrame, col_ind::ColumnIndex)` is deprecated, use `df[!, col_ind]` instead.\n",
      "│   caller = top-level scope at In[31]:1\n",
      "└ @ Core In[31]:1\n",
      "┌ Warning: `getindex(df::DataFrame, col_ind::ColumnIndex)` is deprecated, use `df[!, col_ind]` instead.\n",
      "│   caller = top-level scope at In[31]:1\n",
      "└ @ Core In[31]:1\n"
     ]
    },
    {
     "data": {
      "application/vnd.vegalite.v4+json": {
       "data": {
        "values": [
         {
          "x": 191,
          "y": "Basketball"
         },
         {
          "x": 175,
          "y": "Judo"
         },
         {
          "x": 177,
          "y": "Athletics"
         },
         {
          "x": 175,
          "y": "Badminton"
         },
         {
          "x": 179,
          "y": "Sailing"
         },
         {
          "x": 163,
          "y": "Gymnastics"
         },
         {
          "x": 184,
          "y": "Handball"
         },
         {
          "x": 168,
          "y": "Weightlifting"
         },
         {
          "x": 173,
          "y": "Wrestling"
         },
         {
          "x": 185,
          "y": "Rowing"
         },
         {
          "x": 179,
          "y": "Swimming"
         },
         {
          "x": 176,
          "y": "Football"
         },
         {
          "x": 175,
          "y": "Equestrianism"
         },
         {
          "x": 174,
          "y": "Shooting"
         },
         {
          "x": 177,
          "y": "Taekwondo"
         },
         {
          "x": 173,
          "y": "Boxing"
         },
         {
          "x": 178,
          "y": "Fencing"
         },
         {
          "x": 167,
          "y": "Diving"
         },
         {
          "x": 179,
          "y": "Canoeing"
         },
         {
          "x": 185,
          "y": "Water Polo"
         },
         {
          "x": 179,
          "y": "Tennis"
         },
         {
          "x": 177,
          "y": "Cycling"
         },
         {
          "x": 174,
          "y": "Hockey"
         },
         {
          "x": 170,
          "y": "Softball"
         },
         {
          "x": 174,
          "y": "Archery"
         },
         {
          "x": 187,
          "y": "Volleyball"
         },
         {
          "x": 169,
          "y": "Synchronized Swimming"
         },
         {
          "x": 178,
          "y": "Modern Pentathlon"
         },
         {
          "x": 172,
          "y": "Table Tennis"
         },
         {
          "x": 183,
          "y": "Baseball"
         },
         {
          "x": 168,
          "y": "Rhythmic Gymnastics"
         },
         {
          "x": 176,
          "y": "Rugby Sevens"
         },
         {
          "x": 167,
          "y": "Trampolining"
         },
         {
          "x": 187,
          "y": "Beach Volleyball"
         },
         {
          "x": 174,
          "y": "Triathlon"
         },
         {
          "x": 175,
          "y": "Golf"
         },
         {
          "x": 177,
          "y": "Rugby"
         },
         {
          "x": 175,
          "y": "Art Competitions"
         },
         {
          "x": 183,
          "y": "Tug-Of-War"
         },
         {
          "x": 176,
          "y": "Ice Hockey"
         },
         {
          "x": 174,
          "y": "Lacrosse"
         },
         {
          "x": 176,
          "y": "Polo"
         },
         {
          "x": 181,
          "y": "Motorboating"
         },
         {
          "x": 170,
          "y": "Figure Skating"
         },
         {
          "x": 179,
          "y": "Jeu De Paume"
         },
         {
          "x": 176,
          "y": "Racquets"
         }
        ]
       },
       "encoding": {
        "x": {
         "field": "x",
         "title": null,
         "type": "quantitative"
        },
        "y": {
         "field": "y",
         "title": null,
         "type": "nominal"
        }
       },
       "height": {
        "step": 25
       },
       "mark": "bar",
       "width": 750
      },
      "image/png": "[encoded data removed]",
      "image/svg+xml": [
       "<?xml version=\"1.0\" encoding=\"utf-8\"?>\n",
       "<!DOCTYPE svg PUBLIC \"-//W3C//DTD SVG 1.1//EN\" \"http://www.w3.org/Graphics/SVG/1.1/DTD/svg11.dtd\">\n",
       "<svg class=\"marks\" width=\"879\" height=\"1177\" viewBox=\"0 0 879 1177\" version=\"1.1\" xmlns=\"http://www.w3.org/2000/svg\" xmlns:xlink=\"http://www.w3.org/1999/xlink\"><rect width=\"879\" height=\"1177\" fill=\"white\"></rect><g fill=\"none\" stroke-miterlimit=\"10\" transform=\"translate(123,5)\"><g class=\"mark-group role-frame root\" role=\"graphics-object\" aria-roledescription=\"group mark container\"><g transform=\"translate(0,0)\"><path class=\"background\" aria-hidden=\"true\" d=\"M0.5,0.5h750v1150h-750Z\" stroke=\"#ddd\"></path><g><g class=\"mark-group role-axis\" aria-hidden=\"true\"><g transform=\"translate(0.5,1150.5)\"><path class=\"background\" aria-hidden=\"true\" d=\"M0,0h0v0h0Z\" pointer-events=\"none\"></path><g><g class=\"mark-rule role-axis-grid\" pointer-events=\"none\"><line transform=\"translate(0,0)\" x2=\"0\" y2=\"-1150\" stroke=\"#ddd\" stroke-width=\"1\" opacity=\"1\"></line><line transform=\"translate(38,0)\" x2=\"0\" y2=\"-1150\" stroke=\"#ddd\" stroke-width=\"1\" opacity=\"1\"></line><line transform=\"translate(75,0)\" x2=\"0\" y2=\"-1150\" stroke=\"#ddd\" stroke-width=\"1\" opacity=\"1\"></line><line transform=\"translate(113,0)\" x2=\"0\" y2=\"-1150\" stroke=\"#ddd\" stroke-width=\"1\" opacity=\"1\"></line><line transform=\"translate(150,0)\" x2=\"0\" y2=\"-1150\" stroke=\"#ddd\" stroke-width=\"1\" opacity=\"1\"></line><line transform=\"translate(188,0)\" x2=\"0\" y2=\"-1150\" stroke=\"#ddd\" stroke-width=\"1\" opacity=\"1\"></line><line transform=\"translate(225,0)\" x2=\"0\" y2=\"-1150\" stroke=\"#ddd\" stroke-width=\"1\" opacity=\"1\"></line><line transform=\"translate(263,0)\" x2=\"0\" y2=\"-1150\" stroke=\"#ddd\" stroke-width=\"1\" opacity=\"1\"></line><line transform=\"translate(300,0)\" x2=\"0\" y2=\"-1150\" stroke=\"#ddd\" stroke-width=\"1\" opacity=\"1\"></line><line transform=\"translate(338,0)\" x2=\"0\" y2=\"-1150\" stroke=\"#ddd\" stroke-width=\"1\" opacity=\"1\"></line><line transform=\"translate(375,0)\" x2=\"0\" y2=\"-1150\" stroke=\"#ddd\" stroke-width=\"1\" opacity=\"1\"></line><line transform=\"translate(413,0)\" x2=\"0\" y2=\"-1150\" stroke=\"#ddd\" stroke-width=\"1\" opacity=\"1\"></line><line transform=\"translate(450,0)\" x2=\"0\" y2=\"-1150\" stroke=\"#ddd\" stroke-width=\"1\" opacity=\"1\"></line><line transform=\"translate(488,0)\" x2=\"0\" y2=\"-1150\" stroke=\"#ddd\" stroke-width=\"1\" opacity=\"1\"></line><line transform=\"translate(525,0)\" x2=\"0\" y2=\"-1150\" stroke=\"#ddd\" stroke-width=\"1\" opacity=\"1\"></line><line transform=\"translate(563,0)\" x2=\"0\" y2=\"-1150\" stroke=\"#ddd\" stroke-width=\"1\" opacity=\"1\"></line><line transform=\"translate(600,0)\" x2=\"0\" y2=\"-1150\" stroke=\"#ddd\" stroke-width=\"1\" opacity=\"1\"></line><line transform=\"translate(638,0)\" x2=\"0\" y2=\"-1150\" stroke=\"#ddd\" stroke-width=\"1\" opacity=\"1\"></line><line transform=\"translate(675,0)\" x2=\"0\" y2=\"-1150\" stroke=\"#ddd\" stroke-width=\"1\" opacity=\"1\"></line><line transform=\"translate(713,0)\" x2=\"0\" y2=\"-1150\" stroke=\"#ddd\" stroke-width=\"1\" opacity=\"1\"></line><line transform=\"translate(750,0)\" x2=\"0\" y2=\"-1150\" stroke=\"#ddd\" stroke-width=\"1\" opacity=\"1\"></line></g></g><path class=\"foreground\" aria-hidden=\"true\" d=\"\" pointer-events=\"none\" display=\"none\"></path></g></g><g class=\"mark-group role-axis\" role=\"graphics-symbol\" aria-roledescription=\"axis\" aria-label=\"X-axis for a linear scale with values from 0 to 200\"><g transform=\"translate(0.5,1150.5)\"><path class=\"background\" aria-hidden=\"true\" d=\"M0,0h0v0h0Z\" pointer-events=\"none\"></path><g><g class=\"mark-rule role-axis-tick\" pointer-events=\"none\"><line transform=\"translate(0,0)\" x2=\"0\" y2=\"5\" stroke=\"#888\" stroke-width=\"1\" opacity=\"1\"></line><line transform=\"translate(38,0)\" x2=\"0\" y2=\"5\" stroke=\"#888\" stroke-width=\"1\" opacity=\"1\"></line><line transform=\"translate(75,0)\" x2=\"0\" y2=\"5\" stroke=\"#888\" stroke-width=\"1\" opacity=\"1\"></line><line transform=\"translate(113,0)\" x2=\"0\" y2=\"5\" stroke=\"#888\" stroke-width=\"1\" opacity=\"1\"></line><line transform=\"translate(150,0)\" x2=\"0\" y2=\"5\" stroke=\"#888\" stroke-width=\"1\" opacity=\"1\"></line><line transform=\"translate(188,0)\" x2=\"0\" y2=\"5\" stroke=\"#888\" stroke-width=\"1\" opacity=\"1\"></line><line transform=\"translate(225,0)\" x2=\"0\" y2=\"5\" stroke=\"#888\" stroke-width=\"1\" opacity=\"1\"></line><line transform=\"translate(263,0)\" x2=\"0\" y2=\"5\" stroke=\"#888\" stroke-width=\"1\" opacity=\"1\"></line><line transform=\"translate(300,0)\" x2=\"0\" y2=\"5\" stroke=\"#888\" stroke-width=\"1\" opacity=\"1\"></line><line transform=\"translate(338,0)\" x2=\"0\" y2=\"5\" stroke=\"#888\" stroke-width=\"1\" opacity=\"1\"></line><line transform=\"translate(375,0)\" x2=\"0\" y2=\"5\" stroke=\"#888\" stroke-width=\"1\" opacity=\"1\"></line><line transform=\"translate(413,0)\" x2=\"0\" y2=\"5\" stroke=\"#888\" stroke-width=\"1\" opacity=\"1\"></line><line transform=\"translate(450,0)\" x2=\"0\" y2=\"5\" stroke=\"#888\" stroke-width=\"1\" opacity=\"1\"></line><line transform=\"translate(488,0)\" x2=\"0\" y2=\"5\" stroke=\"#888\" stroke-width=\"1\" opacity=\"1\"></line><line transform=\"translate(525,0)\" x2=\"0\" y2=\"5\" stroke=\"#888\" stroke-width=\"1\" opacity=\"1\"></line><line transform=\"translate(563,0)\" x2=\"0\" y2=\"5\" stroke=\"#888\" stroke-width=\"1\" opacity=\"1\"></line><line transform=\"translate(600,0)\" x2=\"0\" y2=\"5\" stroke=\"#888\" stroke-width=\"1\" opacity=\"1\"></line><line transform=\"translate(638,0)\" x2=\"0\" y2=\"5\" stroke=\"#888\" stroke-width=\"1\" opacity=\"1\"></line><line transform=\"translate(675,0)\" x2=\"0\" y2=\"5\" stroke=\"#888\" stroke-width=\"1\" opacity=\"1\"></line><line transform=\"translate(713,0)\" x2=\"0\" y2=\"5\" stroke=\"#888\" stroke-width=\"1\" opacity=\"1\"></line><line transform=\"translate(750,0)\" x2=\"0\" y2=\"5\" stroke=\"#888\" stroke-width=\"1\" opacity=\"1\"></line></g><g class=\"mark-text role-axis-label\" pointer-events=\"none\"><text text-anchor=\"start\" transform=\"translate(0,15)\" font-family=\"sans-serif\" font-size=\"10px\" fill=\"#000\" opacity=\"1\">0</text><text text-anchor=\"middle\" transform=\"translate(37.5,15)\" font-family=\"sans-serif\" font-size=\"10px\" fill=\"#000\" opacity=\"1\">10</text><text text-anchor=\"middle\" transform=\"translate(75,15)\" font-family=\"sans-serif\" font-size=\"10px\" fill=\"#000\" opacity=\"1\">20</text><text text-anchor=\"middle\" transform=\"translate(112.5,15)\" font-family=\"sans-serif\" font-size=\"10px\" fill=\"#000\" opacity=\"1\">30</text><text text-anchor=\"middle\" transform=\"translate(150,15)\" font-family=\"sans-serif\" font-size=\"10px\" fill=\"#000\" opacity=\"1\">40</text><text text-anchor=\"middle\" transform=\"translate(187.5,15)\" font-family=\"sans-serif\" font-size=\"10px\" fill=\"#000\" opacity=\"1\">50</text><text text-anchor=\"middle\" transform=\"translate(225,15)\" font-family=\"sans-serif\" font-size=\"10px\" fill=\"#000\" opacity=\"1\">60</text><text text-anchor=\"middle\" transform=\"translate(262.5,15)\" font-family=\"sans-serif\" font-size=\"10px\" fill=\"#000\" opacity=\"1\">70</text><text text-anchor=\"middle\" transform=\"translate(300,15)\" font-family=\"sans-serif\" font-size=\"10px\" fill=\"#000\" opacity=\"1\">80</text><text text-anchor=\"middle\" transform=\"translate(337.5,15)\" font-family=\"sans-serif\" font-size=\"10px\" fill=\"#000\" opacity=\"1\">90</text><text text-anchor=\"middle\" transform=\"translate(375,15)\" font-family=\"sans-serif\" font-size=\"10px\" fill=\"#000\" opacity=\"1\">100</text><text text-anchor=\"middle\" transform=\"translate(412.50000000000006,15)\" font-family=\"sans-serif\" font-size=\"10px\" fill=\"#000\" opacity=\"1\">110</text><text text-anchor=\"middle\" transform=\"translate(450,15)\" font-family=\"sans-serif\" font-size=\"10px\" fill=\"#000\" opacity=\"1\">120</text><text text-anchor=\"middle\" transform=\"translate(487.5,15)\" font-family=\"sans-serif\" font-size=\"10px\" fill=\"#000\" opacity=\"1\">130</text><text text-anchor=\"middle\" transform=\"translate(525,15)\" font-family=\"sans-serif\" font-size=\"10px\" fill=\"#000\" opacity=\"1\">140</text><text text-anchor=\"middle\" transform=\"translate(562.5,15)\" font-family=\"sans-serif\" font-size=\"10px\" fill=\"#000\" opacity=\"1\">150</text><text text-anchor=\"middle\" transform=\"translate(600,15)\" font-family=\"sans-serif\" font-size=\"10px\" fill=\"#000\" opacity=\"1\">160</text><text text-anchor=\"middle\" transform=\"translate(637.5,15)\" font-family=\"sans-serif\" font-size=\"10px\" fill=\"#000\" opacity=\"1\">170</text><text text-anchor=\"middle\" transform=\"translate(675,15)\" font-family=\"sans-serif\" font-size=\"10px\" fill=\"#000\" opacity=\"1\">180</text><text text-anchor=\"middle\" transform=\"translate(712.5,15)\" font-family=\"sans-serif\" font-size=\"10px\" fill=\"#000\" opacity=\"1\">190</text><text text-anchor=\"end\" transform=\"translate(750,15)\" font-family=\"sans-serif\" font-size=\"10px\" fill=\"#000\" opacity=\"1\">200</text></g><g class=\"mark-rule role-axis-domain\" pointer-events=\"none\"><line transform=\"translate(0,0)\" x2=\"750\" y2=\"0\" stroke=\"#888\" stroke-width=\"1\" opacity=\"1\"></line></g></g><path class=\"foreground\" aria-hidden=\"true\" d=\"\" pointer-events=\"none\" display=\"none\"></path></g></g><g class=\"mark-group role-axis\" role=\"graphics-symbol\" aria-roledescription=\"axis\" aria-label=\"Y-axis for a discrete scale with 46 values: Archery, Art Competitions, Athletics, Badminton, Baseball, ending with Wrestling\"><g transform=\"translate(0.5,0.5)\"><path class=\"background\" aria-hidden=\"true\" d=\"M0,0h0v0h0Z\" pointer-events=\"none\"></path><g><g class=\"mark-rule role-axis-tick\" pointer-events=\"none\"><line transform=\"translate(0,12)\" x2=\"-5\" y2=\"0\" stroke=\"#888\" stroke-width=\"1\" opacity=\"1\"></line><line transform=\"translate(0,37)\" x2=\"-5\" y2=\"0\" stroke=\"#888\" stroke-width=\"1\" opacity=\"1\"></line><line transform=\"translate(0,62)\" x2=\"-5\" y2=\"0\" stroke=\"#888\" stroke-width=\"1\" opacity=\"1\"></line><line transform=\"translate(0,87)\" x2=\"-5\" y2=\"0\" stroke=\"#888\" stroke-width=\"1\" opacity=\"1\"></line><line transform=\"translate(0,112)\" x2=\"-5\" y2=\"0\" stroke=\"#888\" stroke-width=\"1\" opacity=\"1\"></line><line transform=\"translate(0,137)\" x2=\"-5\" y2=\"0\" stroke=\"#888\" stroke-width=\"1\" opacity=\"1\"></line><line transform=\"translate(0,162)\" x2=\"-5\" y2=\"0\" stroke=\"#888\" stroke-width=\"1\" opacity=\"1\"></line><line transform=\"translate(0,187)\" x2=\"-5\" y2=\"0\" stroke=\"#888\" stroke-width=\"1\" opacity=\"1\"></line><line transform=\"translate(0,212)\" x2=\"-5\" y2=\"0\" stroke=\"#888\" stroke-width=\"1\" opacity=\"1\"></line><line transform=\"translate(0,237)\" x2=\"-5\" y2=\"0\" stroke=\"#888\" stroke-width=\"1\" opacity=\"1\"></line><line transform=\"translate(0,262)\" x2=\"-5\" y2=\"0\" stroke=\"#888\" stroke-width=\"1\" opacity=\"1\"></line><line transform=\"translate(0,287)\" x2=\"-5\" y2=\"0\" stroke=\"#888\" stroke-width=\"1\" opacity=\"1\"></line><line transform=\"translate(0,312)\" x2=\"-5\" y2=\"0\" stroke=\"#888\" stroke-width=\"1\" opacity=\"1\"></line><line transform=\"translate(0,337)\" x2=\"-5\" y2=\"0\" stroke=\"#888\" stroke-width=\"1\" opacity=\"1\"></line><line transform=\"translate(0,362)\" x2=\"-5\" y2=\"0\" stroke=\"#888\" stroke-width=\"1\" opacity=\"1\"></line><line transform=\"translate(0,387)\" x2=\"-5\" y2=\"0\" stroke=\"#888\" stroke-width=\"1\" opacity=\"1\"></line><line transform=\"translate(0,412)\" x2=\"-5\" y2=\"0\" stroke=\"#888\" stroke-width=\"1\" opacity=\"1\"></line><line transform=\"translate(0,437)\" x2=\"-5\" y2=\"0\" stroke=\"#888\" stroke-width=\"1\" opacity=\"1\"></line><line transform=\"translate(0,462)\" x2=\"-5\" y2=\"0\" stroke=\"#888\" stroke-width=\"1\" opacity=\"1\"></line><line transform=\"translate(0,487)\" x2=\"-5\" y2=\"0\" stroke=\"#888\" stroke-width=\"1\" opacity=\"1\"></line><line transform=\"translate(0,512)\" x2=\"-5\" y2=\"0\" stroke=\"#888\" stroke-width=\"1\" opacity=\"1\"></line><line transform=\"translate(0,537)\" x2=\"-5\" y2=\"0\" stroke=\"#888\" stroke-width=\"1\" opacity=\"1\"></line><line transform=\"translate(0,562)\" x2=\"-5\" y2=\"0\" stroke=\"#888\" stroke-width=\"1\" opacity=\"1\"></line><line transform=\"translate(0,587)\" x2=\"-5\" y2=\"0\" stroke=\"#888\" stroke-width=\"1\" opacity=\"1\"></line><line transform=\"translate(0,612)\" x2=\"-5\" y2=\"0\" stroke=\"#888\" stroke-width=\"1\" opacity=\"1\"></line><line transform=\"translate(0,637)\" x2=\"-5\" y2=\"0\" stroke=\"#888\" stroke-width=\"1\" opacity=\"1\"></line><line transform=\"translate(0,662)\" x2=\"-5\" y2=\"0\" stroke=\"#888\" stroke-width=\"1\" opacity=\"1\"></line><line transform=\"translate(0,687)\" x2=\"-5\" y2=\"0\" stroke=\"#888\" stroke-width=\"1\" opacity=\"1\"></line><line transform=\"translate(0,712)\" x2=\"-5\" y2=\"0\" stroke=\"#888\" stroke-width=\"1\" opacity=\"1\"></line><line transform=\"translate(0,737)\" x2=\"-5\" y2=\"0\" stroke=\"#888\" stroke-width=\"1\" opacity=\"1\"></line><line transform=\"translate(0,762)\" x2=\"-5\" y2=\"0\" stroke=\"#888\" stroke-width=\"1\" opacity=\"1\"></line><line transform=\"translate(0,787)\" x2=\"-5\" y2=\"0\" stroke=\"#888\" stroke-width=\"1\" opacity=\"1\"></line><line transform=\"translate(0,812)\" x2=\"-5\" y2=\"0\" stroke=\"#888\" stroke-width=\"1\" opacity=\"1\"></line><line transform=\"translate(0,837)\" x2=\"-5\" y2=\"0\" stroke=\"#888\" stroke-width=\"1\" opacity=\"1\"></line><line transform=\"translate(0,862)\" x2=\"-5\" y2=\"0\" stroke=\"#888\" stroke-width=\"1\" opacity=\"1\"></line><line transform=\"translate(0,887)\" x2=\"-5\" y2=\"0\" stroke=\"#888\" stroke-width=\"1\" opacity=\"1\"></line><line transform=\"translate(0,912)\" x2=\"-5\" y2=\"0\" stroke=\"#888\" stroke-width=\"1\" opacity=\"1\"></line><line transform=\"translate(0,937)\" x2=\"-5\" y2=\"0\" stroke=\"#888\" stroke-width=\"1\" opacity=\"1\"></line><line transform=\"translate(0,962)\" x2=\"-5\" y2=\"0\" stroke=\"#888\" stroke-width=\"1\" opacity=\"1\"></line><line transform=\"translate(0,987)\" x2=\"-5\" y2=\"0\" stroke=\"#888\" stroke-width=\"1\" opacity=\"1\"></line><line transform=\"translate(0,1012)\" x2=\"-5\" y2=\"0\" stroke=\"#888\" stroke-width=\"1\" opacity=\"1\"></line><line transform=\"translate(0,1037)\" x2=\"-5\" y2=\"0\" stroke=\"#888\" stroke-width=\"1\" opacity=\"1\"></line><line transform=\"translate(0,1062)\" x2=\"-5\" y2=\"0\" stroke=\"#888\" stroke-width=\"1\" opacity=\"1\"></line><line transform=\"translate(0,1087)\" x2=\"-5\" y2=\"0\" stroke=\"#888\" stroke-width=\"1\" opacity=\"1\"></line><line transform=\"translate(0,1112)\" x2=\"-5\" y2=\"0\" stroke=\"#888\" stroke-width=\"1\" opacity=\"1\"></line><line transform=\"translate(0,1137)\" x2=\"-5\" y2=\"0\" stroke=\"#888\" stroke-width=\"1\" opacity=\"1\"></line></g><g class=\"mark-text role-axis-label\" pointer-events=\"none\"><text text-anchor=\"end\" transform=\"translate(-7,15)\" font-family=\"sans-serif\" font-size=\"10px\" fill=\"#000\" opacity=\"1\">Archery</text><text text-anchor=\"end\" transform=\"translate(-7,40)\" font-family=\"sans-serif\" font-size=\"10px\" fill=\"#000\" opacity=\"1\">Art Competitions</text><text text-anchor=\"end\" transform=\"translate(-7,65)\" font-family=\"sans-serif\" font-size=\"10px\" fill=\"#000\" opacity=\"1\">Athletics</text><text text-anchor=\"end\" transform=\"translate(-7,90)\" font-family=\"sans-serif\" font-size=\"10px\" fill=\"#000\" opacity=\"1\">Badminton</text><text text-anchor=\"end\" transform=\"translate(-7,115)\" font-family=\"sans-serif\" font-size=\"10px\" fill=\"#000\" opacity=\"1\">Baseball</text><text text-anchor=\"end\" transform=\"translate(-7,140)\" font-family=\"sans-serif\" font-size=\"10px\" fill=\"#000\" opacity=\"1\">Basketball</text><text text-anchor=\"end\" transform=\"translate(-7,165)\" font-family=\"sans-serif\" font-size=\"10px\" fill=\"#000\" opacity=\"1\">Beach Volleyball</text><text text-anchor=\"end\" transform=\"translate(-7,190)\" font-family=\"sans-serif\" font-size=\"10px\" fill=\"#000\" opacity=\"1\">Boxing</text><text text-anchor=\"end\" transform=\"translate(-7,215)\" font-family=\"sans-serif\" font-size=\"10px\" fill=\"#000\" opacity=\"1\">Canoeing</text><text text-anchor=\"end\" transform=\"translate(-7,240)\" font-family=\"sans-serif\" font-size=\"10px\" fill=\"#000\" opacity=\"1\">Cycling</text><text text-anchor=\"end\" transform=\"translate(-7,265)\" font-family=\"sans-serif\" font-size=\"10px\" fill=\"#000\" opacity=\"1\">Diving</text><text text-anchor=\"end\" transform=\"translate(-7,290)\" font-family=\"sans-serif\" font-size=\"10px\" fill=\"#000\" opacity=\"1\">Equestrianism</text><text text-anchor=\"end\" transform=\"translate(-7,315)\" font-family=\"sans-serif\" font-size=\"10px\" fill=\"#000\" opacity=\"1\">Fencing</text><text text-anchor=\"end\" transform=\"translate(-7,340)\" font-family=\"sans-serif\" font-size=\"10px\" fill=\"#000\" opacity=\"1\">Figure Skating</text><text text-anchor=\"end\" transform=\"translate(-7,365)\" font-family=\"sans-serif\" font-size=\"10px\" fill=\"#000\" opacity=\"1\">Football</text><text text-anchor=\"end\" transform=\"translate(-7,390)\" font-family=\"sans-serif\" font-size=\"10px\" fill=\"#000\" opacity=\"1\">Golf</text><text text-anchor=\"end\" transform=\"translate(-7,415)\" font-family=\"sans-serif\" font-size=\"10px\" fill=\"#000\" opacity=\"1\">Gymnastics</text><text text-anchor=\"end\" transform=\"translate(-7,440)\" font-family=\"sans-serif\" font-size=\"10px\" fill=\"#000\" opacity=\"1\">Handball</text><text text-anchor=\"end\" transform=\"translate(-7,465)\" font-family=\"sans-serif\" font-size=\"10px\" fill=\"#000\" opacity=\"1\">Hockey</text><text text-anchor=\"end\" transform=\"translate(-7,490)\" font-family=\"sans-serif\" font-size=\"10px\" fill=\"#000\" opacity=\"1\">Ice Hockey</text><text text-anchor=\"end\" transform=\"translate(-7,515)\" font-family=\"sans-serif\" font-size=\"10px\" fill=\"#000\" opacity=\"1\">Jeu De Paume</text><text text-anchor=\"end\" transform=\"translate(-7,540)\" font-family=\"sans-serif\" font-size=\"10px\" fill=\"#000\" opacity=\"1\">Judo</text><text text-anchor=\"end\" transform=\"translate(-7,565)\" font-family=\"sans-serif\" font-size=\"10px\" fill=\"#000\" opacity=\"1\">Lacrosse</text><text text-anchor=\"end\" transform=\"translate(-7,590)\" font-family=\"sans-serif\" font-size=\"10px\" fill=\"#000\" opacity=\"1\">Modern Pentathlon</text><text text-anchor=\"end\" transform=\"translate(-7,615)\" font-family=\"sans-serif\" font-size=\"10px\" fill=\"#000\" opacity=\"1\">Motorboating</text><text text-anchor=\"end\" transform=\"translate(-7,640)\" font-family=\"sans-serif\" font-size=\"10px\" fill=\"#000\" opacity=\"1\">Polo</text><text text-anchor=\"end\" transform=\"translate(-7,665)\" font-family=\"sans-serif\" font-size=\"10px\" fill=\"#000\" opacity=\"1\">Racquets</text><text text-anchor=\"end\" transform=\"translate(-7,690)\" font-family=\"sans-serif\" font-size=\"10px\" fill=\"#000\" opacity=\"1\">Rhythmic Gymnastics</text><text text-anchor=\"end\" transform=\"translate(-7,715)\" font-family=\"sans-serif\" font-size=\"10px\" fill=\"#000\" opacity=\"1\">Rowing</text><text text-anchor=\"end\" transform=\"translate(-7,740)\" font-family=\"sans-serif\" font-size=\"10px\" fill=\"#000\" opacity=\"1\">Rugby</text><text text-anchor=\"end\" transform=\"translate(-7,765)\" font-family=\"sans-serif\" font-size=\"10px\" fill=\"#000\" opacity=\"1\">Rugby Sevens</text><text text-anchor=\"end\" transform=\"translate(-7,790)\" font-family=\"sans-serif\" font-size=\"10px\" fill=\"#000\" opacity=\"1\">Sailing</text><text text-anchor=\"end\" transform=\"translate(-7,815)\" font-family=\"sans-serif\" font-size=\"10px\" fill=\"#000\" opacity=\"1\">Shooting</text><text text-anchor=\"end\" transform=\"translate(-7,840)\" font-family=\"sans-serif\" font-size=\"10px\" fill=\"#000\" opacity=\"1\">Softball</text><text text-anchor=\"end\" transform=\"translate(-7,865)\" font-family=\"sans-serif\" font-size=\"10px\" fill=\"#000\" opacity=\"1\">Swimming</text><text text-anchor=\"end\" transform=\"translate(-7,890)\" font-family=\"sans-serif\" font-size=\"10px\" fill=\"#000\" opacity=\"1\">Synchronized Swimming</text><text text-anchor=\"end\" transform=\"translate(-7,915)\" font-family=\"sans-serif\" font-size=\"10px\" fill=\"#000\" opacity=\"1\">Table Tennis</text><text text-anchor=\"end\" transform=\"translate(-7,940)\" font-family=\"sans-serif\" font-size=\"10px\" fill=\"#000\" opacity=\"1\">Taekwondo</text><text text-anchor=\"end\" transform=\"translate(-7,965)\" font-family=\"sans-serif\" font-size=\"10px\" fill=\"#000\" opacity=\"1\">Tennis</text><text text-anchor=\"end\" transform=\"translate(-7,990)\" font-family=\"sans-serif\" font-size=\"10px\" fill=\"#000\" opacity=\"1\">Trampolining</text><text text-anchor=\"end\" transform=\"translate(-7,1015)\" font-family=\"sans-serif\" font-size=\"10px\" fill=\"#000\" opacity=\"1\">Triathlon</text><text text-anchor=\"end\" transform=\"translate(-7,1040)\" font-family=\"sans-serif\" font-size=\"10px\" fill=\"#000\" opacity=\"1\">Tug-Of-War</text><text text-anchor=\"end\" transform=\"translate(-7,1065)\" font-family=\"sans-serif\" font-size=\"10px\" fill=\"#000\" opacity=\"1\">Volleyball</text><text text-anchor=\"end\" transform=\"translate(-7,1090)\" font-family=\"sans-serif\" font-size=\"10px\" fill=\"#000\" opacity=\"1\">Water Polo</text><text text-anchor=\"end\" transform=\"translate(-7,1115)\" font-family=\"sans-serif\" font-size=\"10px\" fill=\"#000\" opacity=\"1\">Weightlifting</text><text text-anchor=\"end\" transform=\"translate(-7,1140)\" font-family=\"sans-serif\" font-size=\"10px\" fill=\"#000\" opacity=\"1\">Wrestling</text></g><g class=\"mark-rule role-axis-domain\" pointer-events=\"none\"><line transform=\"translate(0,0)\" x2=\"0\" y2=\"1150\" stroke=\"#888\" stroke-width=\"1\" opacity=\"1\"></line></g></g><path class=\"foreground\" aria-hidden=\"true\" d=\"\" pointer-events=\"none\" display=\"none\"></path></g></g><g class=\"mark-rect role-mark marks\" role=\"graphics-object\" aria-roledescription=\"rect mark container\"><path aria-label=\"y: Basketball; x: 191\" role=\"graphics-symbol\" aria-roledescription=\"bar\" d=\"M0,126.25h716.25v22.5h-716.25Z\" fill=\"#4c78a8\"></path><path aria-label=\"y: Judo; x: 175\" role=\"graphics-symbol\" aria-roledescription=\"bar\" d=\"M0,526.25h656.25v22.5h-656.25Z\" fill=\"#4c78a8\"></path><path aria-label=\"y: Athletics; x: 177\" role=\"graphics-symbol\" aria-roledescription=\"bar\" d=\"M0,51.25h663.75v22.5h-663.75Z\" fill=\"#4c78a8\"></path><path aria-label=\"y: Badminton; x: 175\" role=\"graphics-symbol\" aria-roledescription=\"bar\" d=\"M0,76.25h656.25v22.5h-656.25Z\" fill=\"#4c78a8\"></path><path aria-label=\"y: Sailing; x: 179\" role=\"graphics-symbol\" aria-roledescription=\"bar\" d=\"M0,776.25h671.25v22.5h-671.25Z\" fill=\"#4c78a8\"></path><path aria-label=\"y: Gymnastics; x: 163\" role=\"graphics-symbol\" aria-roledescription=\"bar\" d=\"M0,401.25h611.25v22.5h-611.25Z\" fill=\"#4c78a8\"></path><path aria-label=\"y: Handball; x: 184\" role=\"graphics-symbol\" aria-roledescription=\"bar\" d=\"M0,426.25h690v22.5h-690Z\" fill=\"#4c78a8\"></path><path aria-label=\"y: Weightlifting; x: 168\" role=\"graphics-symbol\" aria-roledescription=\"bar\" d=\"M0,1101.25h630v22.5h-630Z\" fill=\"#4c78a8\"></path><path aria-label=\"y: Wrestling; x: 173\" role=\"graphics-symbol\" aria-roledescription=\"bar\" d=\"M0,1126.25h648.75v22.5h-648.75Z\" fill=\"#4c78a8\"></path><path aria-label=\"y: Rowing; x: 185\" role=\"graphics-symbol\" aria-roledescription=\"bar\" d=\"M0,701.25h693.75v22.5h-693.75Z\" fill=\"#4c78a8\"></path><path aria-label=\"y: Swimming; x: 179\" role=\"graphics-symbol\" aria-roledescription=\"bar\" d=\"M0,851.25h671.25v22.5h-671.25Z\" fill=\"#4c78a8\"></path><path aria-label=\"y: Football; x: 176\" role=\"graphics-symbol\" aria-roledescription=\"bar\" d=\"M0,351.25h660v22.5h-660Z\" fill=\"#4c78a8\"></path><path aria-label=\"y: Equestrianism; x: 175\" role=\"graphics-symbol\" aria-roledescription=\"bar\" d=\"M0,276.25h656.25v22.5h-656.25Z\" fill=\"#4c78a8\"></path><path aria-label=\"y: Shooting; x: 174\" role=\"graphics-symbol\" aria-roledescription=\"bar\" d=\"M0,801.25h652.5v22.5h-652.5Z\" fill=\"#4c78a8\"></path><path aria-label=\"y: Taekwondo; x: 177\" role=\"graphics-symbol\" aria-roledescription=\"bar\" d=\"M0,926.25h663.75v22.5h-663.75Z\" fill=\"#4c78a8\"></path><path aria-label=\"y: Boxing; x: 173\" role=\"graphics-symbol\" aria-roledescription=\"bar\" d=\"M0,176.25h648.75v22.5h-648.75Z\" fill=\"#4c78a8\"></path><path aria-label=\"y: Fencing; x: 178\" role=\"graphics-symbol\" aria-roledescription=\"bar\" d=\"M0,301.25h667.5v22.5h-667.5Z\" fill=\"#4c78a8\"></path><path aria-label=\"y: Diving; x: 167\" role=\"graphics-symbol\" aria-roledescription=\"bar\" d=\"M0,251.25h626.25v22.5h-626.25Z\" fill=\"#4c78a8\"></path><path aria-label=\"y: Canoeing; x: 179\" role=\"graphics-symbol\" aria-roledescription=\"bar\" d=\"M0,201.25h671.25v22.5h-671.25Z\" fill=\"#4c78a8\"></path><path aria-label=\"y: Water Polo; x: 185\" role=\"graphics-symbol\" aria-roledescription=\"bar\" d=\"M0,1076.25h693.75v22.5h-693.75Z\" fill=\"#4c78a8\"></path><path aria-label=\"y: Tennis; x: 179\" role=\"graphics-symbol\" aria-roledescription=\"bar\" d=\"M0,951.25h671.25v22.5h-671.25Z\" fill=\"#4c78a8\"></path><path aria-label=\"y: Cycling; x: 177\" role=\"graphics-symbol\" aria-roledescription=\"bar\" d=\"M0,226.25h663.75v22.5h-663.75Z\" fill=\"#4c78a8\"></path><path aria-label=\"y: Hockey; x: 174\" role=\"graphics-symbol\" aria-roledescription=\"bar\" d=\"M0,451.25h652.5v22.5h-652.5Z\" fill=\"#4c78a8\"></path><path aria-label=\"y: Softball; x: 170\" role=\"graphics-symbol\" aria-roledescription=\"bar\" d=\"M0,826.25h637.5v22.5h-637.5Z\" fill=\"#4c78a8\"></path><path aria-label=\"y: Archery; x: 174\" role=\"graphics-symbol\" aria-roledescription=\"bar\" d=\"M0,1.25h652.5v22.5h-652.5Z\" fill=\"#4c78a8\"></path><path aria-label=\"y: Volleyball; x: 187\" role=\"graphics-symbol\" aria-roledescription=\"bar\" d=\"M0,1051.25h701.25v22.5h-701.25Z\" fill=\"#4c78a8\"></path><path aria-label=\"y: Synchronized Swimming; x: 169\" role=\"graphics-symbol\" aria-roledescription=\"bar\" d=\"M0,876.25h633.75v22.5h-633.75Z\" fill=\"#4c78a8\"></path><path aria-label=\"y: Modern Pentathlon; x: 178\" role=\"graphics-symbol\" aria-roledescription=\"bar\" d=\"M0,576.25h667.5v22.5h-667.5Z\" fill=\"#4c78a8\"></path><path aria-label=\"y: Table Tennis; x: 172\" role=\"graphics-symbol\" aria-roledescription=\"bar\" d=\"M0,901.25h645v22.5h-645Z\" fill=\"#4c78a8\"></path><path aria-label=\"y: Baseball; x: 183\" role=\"graphics-symbol\" aria-roledescription=\"bar\" d=\"M0,101.25h686.25v22.5h-686.25Z\" fill=\"#4c78a8\"></path><path aria-label=\"y: Rhythmic Gymnastics; x: 168\" role=\"graphics-symbol\" aria-roledescription=\"bar\" d=\"M0,676.25h630v22.5h-630Z\" fill=\"#4c78a8\"></path><path aria-label=\"y: Rugby Sevens; x: 176\" role=\"graphics-symbol\" aria-roledescription=\"bar\" d=\"M0,751.25h660v22.5h-660Z\" fill=\"#4c78a8\"></path><path aria-label=\"y: Trampolining; x: 167\" role=\"graphics-symbol\" aria-roledescription=\"bar\" d=\"M0,976.25h626.25v22.5h-626.25Z\" fill=\"#4c78a8\"></path><path aria-label=\"y: Beach Volleyball; x: 187\" role=\"graphics-symbol\" aria-roledescription=\"bar\" d=\"M0,151.25h701.25v22.5h-701.25Z\" fill=\"#4c78a8\"></path><path aria-label=\"y: Triathlon; x: 174\" role=\"graphics-symbol\" aria-roledescription=\"bar\" d=\"M0,1001.25h652.5v22.5h-652.5Z\" fill=\"#4c78a8\"></path><path aria-label=\"y: Golf; x: 175\" role=\"graphics-symbol\" aria-roledescription=\"bar\" d=\"M0,376.25h656.25v22.5h-656.25Z\" fill=\"#4c78a8\"></path><path aria-label=\"y: Rugby; x: 177\" role=\"graphics-symbol\" aria-roledescription=\"bar\" d=\"M0,726.25h663.75v22.5h-663.75Z\" fill=\"#4c78a8\"></path><path aria-label=\"y: Art Competitions; x: 175\" role=\"graphics-symbol\" aria-roledescription=\"bar\" d=\"M0,26.25h656.25v22.5h-656.25Z\" fill=\"#4c78a8\"></path><path aria-label=\"y: Tug-Of-War; x: 183\" role=\"graphics-symbol\" aria-roledescription=\"bar\" d=\"M0,1026.25h686.25v22.5h-686.25Z\" fill=\"#4c78a8\"></path><path aria-label=\"y: Ice Hockey; x: 176\" role=\"graphics-symbol\" aria-roledescription=\"bar\" d=\"M0,476.25h660v22.5h-660Z\" fill=\"#4c78a8\"></path><path aria-label=\"y: Lacrosse; x: 174\" role=\"graphics-symbol\" aria-roledescription=\"bar\" d=\"M0,551.25h652.5v22.5h-652.5Z\" fill=\"#4c78a8\"></path><path aria-label=\"y: Polo; x: 176\" role=\"graphics-symbol\" aria-roledescription=\"bar\" d=\"M0,626.25h660v22.5h-660Z\" fill=\"#4c78a8\"></path><path aria-label=\"y: Motorboating; x: 181\" role=\"graphics-symbol\" aria-roledescription=\"bar\" d=\"M0,601.25h678.75v22.5h-678.75Z\" fill=\"#4c78a8\"></path><path aria-label=\"y: Figure Skating; x: 170\" role=\"graphics-symbol\" aria-roledescription=\"bar\" d=\"M0,326.25h637.5v22.5h-637.5Z\" fill=\"#4c78a8\"></path><path aria-label=\"y: Jeu De Paume; x: 179\" role=\"graphics-symbol\" aria-roledescription=\"bar\" d=\"M0,501.25h671.25v22.5h-671.25Z\" fill=\"#4c78a8\"></path><path aria-label=\"y: Racquets; x: 176\" role=\"graphics-symbol\" aria-roledescription=\"bar\" d=\"M0,651.25h660v22.5h-660Z\" fill=\"#4c78a8\"></path></g></g><path class=\"foreground\" aria-hidden=\"true\" d=\"\" display=\"none\"></path></g></g></g></svg>\n"
      ],
      "text/plain": [
       "@vlplot(\n",
       "    height={\n",
       "        step=25\n",
       "    },\n",
       "    width=750,\n",
       "    mark=\"bar\",\n",
       "    encoding={\n",
       "        y={\n",
       "            field=\"y\",\n",
       "            title=nothing\n",
       "        },\n",
       "        x={\n",
       "            field=\"x\",\n",
       "            title=nothing\n",
       "        }\n",
       "    },\n",
       "    data={\n",
       "        values=...\n",
       "    }\n",
       ")"
      ]
     },
     "execution_count": 31,
     "metadata": {},
     "output_type": "execute_result"
    }
   ],
   "source": [
    "@vlplot(\n",
    "    height={step=25},\n",
    "    width=750,\n",
    "    :bar,\n",
    "    y=df[:Sport],\n",
    "    x=df[:height_mean],\n",
    ")"
   ]
  },
  {
   "cell_type": "markdown",
   "metadata": {},
   "source": []
  },
  {
   "cell_type": "markdown",
   "metadata": {},
   "source": [
    "<h3> Average height of players at winter games across the sports"
   ]
  },
  {
   "cell_type": "code",
   "execution_count": 32,
   "metadata": {},
   "outputs": [
    {
     "name": "stderr",
     "output_type": "stream",
     "text": [
      "┌ Warning: `getindex(df::DataFrame, col_ind::ColumnIndex)` is deprecated, use `df[!, col_ind]` instead.\n",
      "│   caller = top-level scope at In[32]:1\n",
      "└ @ Core In[32]:1\n",
      "┌ Warning: `getindex(df::DataFrame, col_ind::ColumnIndex)` is deprecated, use `df[!, col_ind]` instead.\n",
      "│   caller = top-level scope at In[32]:3\n",
      "└ @ Core In[32]:3\n",
      "┌ Warning: `setindex!(df::DataFrame, v::AbstractVector, col_ind::ColumnIndex)` is deprecated, use `begin\n",
      "│     df[!, col_ind] = v\n",
      "│     df\n",
      "│ end` instead.\n",
      "│   caller = top-level scope at In[32]:3\n",
      "└ @ Core In[32]:3\n",
      "┌ Warning: `getindex(df::DataFrame, col_ind::ColumnIndex)` is deprecated, use `df[!, col_ind]` instead.\n",
      "│   caller = top-level scope at In[32]:5\n",
      "└ @ Core In[32]:5\n",
      "┌ Warning: `setindex!(df::DataFrame, v::AbstractVector, col_ind::ColumnIndex)` is deprecated, use `begin\n",
      "│     df[!, col_ind] = v\n",
      "│     df\n",
      "│ end` instead.\n",
      "│   caller = top-level scope at In[32]:5\n",
      "└ @ Core In[32]:5\n",
      "┌ Warning: `getindex(df::DataFrame, col_ind::ColumnIndex)` is deprecated, use `df[!, col_ind]` instead.\n",
      "│   caller = top-level scope at In[32]:6\n",
      "└ @ Core In[32]:6\n",
      "┌ Warning: `getindex(df::DataFrame, col_ind::ColumnIndex)` is deprecated, use `df[!, col_ind]` instead.\n",
      "│   caller = top-level scope at In[32]:6\n",
      "└ @ Core In[32]:6\n"
     ]
    },
    {
     "data": {
      "application/vnd.vegalite.v4+json": {
       "data": {
        "values": [
         {
          "x": 175,
          "y": "Speed Skating"
         },
         {
          "x": 174,
          "y": "Cross Country Skiing"
         },
         {
          "x": 179,
          "y": "Ice Hockey"
         },
         {
          "x": 175,
          "y": "Biathlon"
         },
         {
          "x": 174,
          "y": "Alpine Skiing"
         },
         {
          "x": 177,
          "y": "Luge"
         },
         {
          "x": 182,
          "y": "Bobsleigh"
         },
         {
          "x": 169,
          "y": "Figure Skating"
         },
         {
          "x": 177,
          "y": "Nordic Combined"
         },
         {
          "x": 172,
          "y": "Freestyle Skiing"
         },
         {
          "x": 177,
          "y": "Ski Jumping"
         },
         {
          "x": 175,
          "y": "Curling"
         },
         {
          "x": 174,
          "y": "Snowboarding"
         },
         {
          "x": 171,
          "y": "Short Track Speed Skating"
         },
         {
          "x": 177,
          "y": "Skeleton"
         }
        ]
       },
       "encoding": {
        "x": {
         "field": "x",
         "title": null,
         "type": "quantitative"
        },
        "y": {
         "field": "y",
         "title": null,
         "type": "nominal"
        }
       },
       "height": {
        "step": 25
       },
       "mark": "bar",
       "width": 750
      },
      "image/png": "[encoded data removed]",
      "image/svg+xml": [
       "<?xml version=\"1.0\" encoding=\"utf-8\"?>\n",
       "<!DOCTYPE svg PUBLIC \"-//W3C//DTD SVG 1.1//EN\" \"http://www.w3.org/Graphics/SVG/1.1/DTD/svg11.dtd\">\n",
       "<svg class=\"marks\" width=\"890\" height=\"402\" viewBox=\"0 0 890 402\" version=\"1.1\" xmlns=\"http://www.w3.org/2000/svg\" xmlns:xlink=\"http://www.w3.org/1999/xlink\"><rect width=\"890\" height=\"402\" fill=\"white\"></rect><g fill=\"none\" stroke-miterlimit=\"10\" transform=\"translate(134,5)\"><g class=\"mark-group role-frame root\" role=\"graphics-object\" aria-roledescription=\"group mark container\"><g transform=\"translate(0,0)\"><path class=\"background\" aria-hidden=\"true\" d=\"M0.5,0.5h750v375h-750Z\" stroke=\"#ddd\"></path><g><g class=\"mark-group role-axis\" aria-hidden=\"true\"><g transform=\"translate(0.5,375.5)\"><path class=\"background\" aria-hidden=\"true\" d=\"M0,0h0v0h0Z\" pointer-events=\"none\"></path><g><g class=\"mark-rule role-axis-grid\" pointer-events=\"none\"><line transform=\"translate(0,0)\" x2=\"0\" y2=\"-375\" stroke=\"#ddd\" stroke-width=\"1\" opacity=\"1\"></line><line transform=\"translate(38,0)\" x2=\"0\" y2=\"-375\" stroke=\"#ddd\" stroke-width=\"1\" opacity=\"1\"></line><line transform=\"translate(75,0)\" x2=\"0\" y2=\"-375\" stroke=\"#ddd\" stroke-width=\"1\" opacity=\"1\"></line><line transform=\"translate(113,0)\" x2=\"0\" y2=\"-375\" stroke=\"#ddd\" stroke-width=\"1\" opacity=\"1\"></line><line transform=\"translate(150,0)\" x2=\"0\" y2=\"-375\" stroke=\"#ddd\" stroke-width=\"1\" opacity=\"1\"></line><line transform=\"translate(188,0)\" x2=\"0\" y2=\"-375\" stroke=\"#ddd\" stroke-width=\"1\" opacity=\"1\"></line><line transform=\"translate(225,0)\" x2=\"0\" y2=\"-375\" stroke=\"#ddd\" stroke-width=\"1\" opacity=\"1\"></line><line transform=\"translate(263,0)\" x2=\"0\" y2=\"-375\" stroke=\"#ddd\" stroke-width=\"1\" opacity=\"1\"></line><line transform=\"translate(300,0)\" x2=\"0\" y2=\"-375\" stroke=\"#ddd\" stroke-width=\"1\" opacity=\"1\"></line><line transform=\"translate(338,0)\" x2=\"0\" y2=\"-375\" stroke=\"#ddd\" stroke-width=\"1\" opacity=\"1\"></line><line transform=\"translate(375,0)\" x2=\"0\" y2=\"-375\" stroke=\"#ddd\" stroke-width=\"1\" opacity=\"1\"></line><line transform=\"translate(413,0)\" x2=\"0\" y2=\"-375\" stroke=\"#ddd\" stroke-width=\"1\" opacity=\"1\"></line><line transform=\"translate(450,0)\" x2=\"0\" y2=\"-375\" stroke=\"#ddd\" stroke-width=\"1\" opacity=\"1\"></line><line transform=\"translate(488,0)\" x2=\"0\" y2=\"-375\" stroke=\"#ddd\" stroke-width=\"1\" opacity=\"1\"></line><line transform=\"translate(525,0)\" x2=\"0\" y2=\"-375\" stroke=\"#ddd\" stroke-width=\"1\" opacity=\"1\"></line><line transform=\"translate(563,0)\" x2=\"0\" y2=\"-375\" stroke=\"#ddd\" stroke-width=\"1\" opacity=\"1\"></line><line transform=\"translate(600,0)\" x2=\"0\" y2=\"-375\" stroke=\"#ddd\" stroke-width=\"1\" opacity=\"1\"></line><line transform=\"translate(638,0)\" x2=\"0\" y2=\"-375\" stroke=\"#ddd\" stroke-width=\"1\" opacity=\"1\"></line><line transform=\"translate(675,0)\" x2=\"0\" y2=\"-375\" stroke=\"#ddd\" stroke-width=\"1\" opacity=\"1\"></line><line transform=\"translate(713,0)\" x2=\"0\" y2=\"-375\" stroke=\"#ddd\" stroke-width=\"1\" opacity=\"1\"></line><line transform=\"translate(750,0)\" x2=\"0\" y2=\"-375\" stroke=\"#ddd\" stroke-width=\"1\" opacity=\"1\"></line></g></g><path class=\"foreground\" aria-hidden=\"true\" d=\"\" pointer-events=\"none\" display=\"none\"></path></g></g><g class=\"mark-group role-axis\" role=\"graphics-symbol\" aria-roledescription=\"axis\" aria-label=\"X-axis for a linear scale with values from 0 to 200\"><g transform=\"translate(0.5,375.5)\"><path class=\"background\" aria-hidden=\"true\" d=\"M0,0h0v0h0Z\" pointer-events=\"none\"></path><g><g class=\"mark-rule role-axis-tick\" pointer-events=\"none\"><line transform=\"translate(0,0)\" x2=\"0\" y2=\"5\" stroke=\"#888\" stroke-width=\"1\" opacity=\"1\"></line><line transform=\"translate(38,0)\" x2=\"0\" y2=\"5\" stroke=\"#888\" stroke-width=\"1\" opacity=\"1\"></line><line transform=\"translate(75,0)\" x2=\"0\" y2=\"5\" stroke=\"#888\" stroke-width=\"1\" opacity=\"1\"></line><line transform=\"translate(113,0)\" x2=\"0\" y2=\"5\" stroke=\"#888\" stroke-width=\"1\" opacity=\"1\"></line><line transform=\"translate(150,0)\" x2=\"0\" y2=\"5\" stroke=\"#888\" stroke-width=\"1\" opacity=\"1\"></line><line transform=\"translate(188,0)\" x2=\"0\" y2=\"5\" stroke=\"#888\" stroke-width=\"1\" opacity=\"1\"></line><line transform=\"translate(225,0)\" x2=\"0\" y2=\"5\" stroke=\"#888\" stroke-width=\"1\" opacity=\"1\"></line><line transform=\"translate(263,0)\" x2=\"0\" y2=\"5\" stroke=\"#888\" stroke-width=\"1\" opacity=\"1\"></line><line transform=\"translate(300,0)\" x2=\"0\" y2=\"5\" stroke=\"#888\" stroke-width=\"1\" opacity=\"1\"></line><line transform=\"translate(338,0)\" x2=\"0\" y2=\"5\" stroke=\"#888\" stroke-width=\"1\" opacity=\"1\"></line><line transform=\"translate(375,0)\" x2=\"0\" y2=\"5\" stroke=\"#888\" stroke-width=\"1\" opacity=\"1\"></line><line transform=\"translate(413,0)\" x2=\"0\" y2=\"5\" stroke=\"#888\" stroke-width=\"1\" opacity=\"1\"></line><line transform=\"translate(450,0)\" x2=\"0\" y2=\"5\" stroke=\"#888\" stroke-width=\"1\" opacity=\"1\"></line><line transform=\"translate(488,0)\" x2=\"0\" y2=\"5\" stroke=\"#888\" stroke-width=\"1\" opacity=\"1\"></line><line transform=\"translate(525,0)\" x2=\"0\" y2=\"5\" stroke=\"#888\" stroke-width=\"1\" opacity=\"1\"></line><line transform=\"translate(563,0)\" x2=\"0\" y2=\"5\" stroke=\"#888\" stroke-width=\"1\" opacity=\"1\"></line><line transform=\"translate(600,0)\" x2=\"0\" y2=\"5\" stroke=\"#888\" stroke-width=\"1\" opacity=\"1\"></line><line transform=\"translate(638,0)\" x2=\"0\" y2=\"5\" stroke=\"#888\" stroke-width=\"1\" opacity=\"1\"></line><line transform=\"translate(675,0)\" x2=\"0\" y2=\"5\" stroke=\"#888\" stroke-width=\"1\" opacity=\"1\"></line><line transform=\"translate(713,0)\" x2=\"0\" y2=\"5\" stroke=\"#888\" stroke-width=\"1\" opacity=\"1\"></line><line transform=\"translate(750,0)\" x2=\"0\" y2=\"5\" stroke=\"#888\" stroke-width=\"1\" opacity=\"1\"></line></g><g class=\"mark-text role-axis-label\" pointer-events=\"none\"><text text-anchor=\"start\" transform=\"translate(0,15)\" font-family=\"sans-serif\" font-size=\"10px\" fill=\"#000\" opacity=\"1\">0</text><text text-anchor=\"middle\" transform=\"translate(37.5,15)\" font-family=\"sans-serif\" font-size=\"10px\" fill=\"#000\" opacity=\"1\">10</text><text text-anchor=\"middle\" transform=\"translate(75,15)\" font-family=\"sans-serif\" font-size=\"10px\" fill=\"#000\" opacity=\"1\">20</text><text text-anchor=\"middle\" transform=\"translate(112.5,15)\" font-family=\"sans-serif\" font-size=\"10px\" fill=\"#000\" opacity=\"1\">30</text><text text-anchor=\"middle\" transform=\"translate(150,15)\" font-family=\"sans-serif\" font-size=\"10px\" fill=\"#000\" opacity=\"1\">40</text><text text-anchor=\"middle\" transform=\"translate(187.5,15)\" font-family=\"sans-serif\" font-size=\"10px\" fill=\"#000\" opacity=\"1\">50</text><text text-anchor=\"middle\" transform=\"translate(225,15)\" font-family=\"sans-serif\" font-size=\"10px\" fill=\"#000\" opacity=\"1\">60</text><text text-anchor=\"middle\" transform=\"translate(262.5,15)\" font-family=\"sans-serif\" font-size=\"10px\" fill=\"#000\" opacity=\"1\">70</text><text text-anchor=\"middle\" transform=\"translate(300,15)\" font-family=\"sans-serif\" font-size=\"10px\" fill=\"#000\" opacity=\"1\">80</text><text text-anchor=\"middle\" transform=\"translate(337.5,15)\" font-family=\"sans-serif\" font-size=\"10px\" fill=\"#000\" opacity=\"1\">90</text><text text-anchor=\"middle\" transform=\"translate(375,15)\" font-family=\"sans-serif\" font-size=\"10px\" fill=\"#000\" opacity=\"1\">100</text><text text-anchor=\"middle\" transform=\"translate(412.50000000000006,15)\" font-family=\"sans-serif\" font-size=\"10px\" fill=\"#000\" opacity=\"1\">110</text><text text-anchor=\"middle\" transform=\"translate(450,15)\" font-family=\"sans-serif\" font-size=\"10px\" fill=\"#000\" opacity=\"1\">120</text><text text-anchor=\"middle\" transform=\"translate(487.5,15)\" font-family=\"sans-serif\" font-size=\"10px\" fill=\"#000\" opacity=\"1\">130</text><text text-anchor=\"middle\" transform=\"translate(525,15)\" font-family=\"sans-serif\" font-size=\"10px\" fill=\"#000\" opacity=\"1\">140</text><text text-anchor=\"middle\" transform=\"translate(562.5,15)\" font-family=\"sans-serif\" font-size=\"10px\" fill=\"#000\" opacity=\"1\">150</text><text text-anchor=\"middle\" transform=\"translate(600,15)\" font-family=\"sans-serif\" font-size=\"10px\" fill=\"#000\" opacity=\"1\">160</text><text text-anchor=\"middle\" transform=\"translate(637.5,15)\" font-family=\"sans-serif\" font-size=\"10px\" fill=\"#000\" opacity=\"1\">170</text><text text-anchor=\"middle\" transform=\"translate(675,15)\" font-family=\"sans-serif\" font-size=\"10px\" fill=\"#000\" opacity=\"1\">180</text><text text-anchor=\"middle\" transform=\"translate(712.5,15)\" font-family=\"sans-serif\" font-size=\"10px\" fill=\"#000\" opacity=\"1\">190</text><text text-anchor=\"end\" transform=\"translate(750,15)\" font-family=\"sans-serif\" font-size=\"10px\" fill=\"#000\" opacity=\"1\">200</text></g><g class=\"mark-rule role-axis-domain\" pointer-events=\"none\"><line transform=\"translate(0,0)\" x2=\"750\" y2=\"0\" stroke=\"#888\" stroke-width=\"1\" opacity=\"1\"></line></g></g><path class=\"foreground\" aria-hidden=\"true\" d=\"\" pointer-events=\"none\" display=\"none\"></path></g></g><g class=\"mark-group role-axis\" role=\"graphics-symbol\" aria-roledescription=\"axis\" aria-label=\"Y-axis for a discrete scale with 15 values: Alpine Skiing, Biathlon, Bobsleigh, Cross Country Skiing, Curling, ending with Speed Skating\"><g transform=\"translate(0.5,0.5)\"><path class=\"background\" aria-hidden=\"true\" d=\"M0,0h0v0h0Z\" pointer-events=\"none\"></path><g><g class=\"mark-rule role-axis-tick\" pointer-events=\"none\"><line transform=\"translate(0,12)\" x2=\"-5\" y2=\"0\" stroke=\"#888\" stroke-width=\"1\" opacity=\"1\"></line><line transform=\"translate(0,37)\" x2=\"-5\" y2=\"0\" stroke=\"#888\" stroke-width=\"1\" opacity=\"1\"></line><line transform=\"translate(0,62)\" x2=\"-5\" y2=\"0\" stroke=\"#888\" stroke-width=\"1\" opacity=\"1\"></line><line transform=\"translate(0,87)\" x2=\"-5\" y2=\"0\" stroke=\"#888\" stroke-width=\"1\" opacity=\"1\"></line><line transform=\"translate(0,112)\" x2=\"-5\" y2=\"0\" stroke=\"#888\" stroke-width=\"1\" opacity=\"1\"></line><line transform=\"translate(0,137)\" x2=\"-5\" y2=\"0\" stroke=\"#888\" stroke-width=\"1\" opacity=\"1\"></line><line transform=\"translate(0,162)\" x2=\"-5\" y2=\"0\" stroke=\"#888\" stroke-width=\"1\" opacity=\"1\"></line><line transform=\"translate(0,187)\" x2=\"-5\" y2=\"0\" stroke=\"#888\" stroke-width=\"1\" opacity=\"1\"></line><line transform=\"translate(0,212)\" x2=\"-5\" y2=\"0\" stroke=\"#888\" stroke-width=\"1\" opacity=\"1\"></line><line transform=\"translate(0,237)\" x2=\"-5\" y2=\"0\" stroke=\"#888\" stroke-width=\"1\" opacity=\"1\"></line><line transform=\"translate(0,262)\" x2=\"-5\" y2=\"0\" stroke=\"#888\" stroke-width=\"1\" opacity=\"1\"></line><line transform=\"translate(0,287)\" x2=\"-5\" y2=\"0\" stroke=\"#888\" stroke-width=\"1\" opacity=\"1\"></line><line transform=\"translate(0,312)\" x2=\"-5\" y2=\"0\" stroke=\"#888\" stroke-width=\"1\" opacity=\"1\"></line><line transform=\"translate(0,337)\" x2=\"-5\" y2=\"0\" stroke=\"#888\" stroke-width=\"1\" opacity=\"1\"></line><line transform=\"translate(0,362)\" x2=\"-5\" y2=\"0\" stroke=\"#888\" stroke-width=\"1\" opacity=\"1\"></line></g><g class=\"mark-text role-axis-label\" pointer-events=\"none\"><text text-anchor=\"end\" transform=\"translate(-7,15)\" font-family=\"sans-serif\" font-size=\"10px\" fill=\"#000\" opacity=\"1\">Alpine Skiing</text><text text-anchor=\"end\" transform=\"translate(-7,40)\" font-family=\"sans-serif\" font-size=\"10px\" fill=\"#000\" opacity=\"1\">Biathlon</text><text text-anchor=\"end\" transform=\"translate(-7,65)\" font-family=\"sans-serif\" font-size=\"10px\" fill=\"#000\" opacity=\"1\">Bobsleigh</text><text text-anchor=\"end\" transform=\"translate(-7,90)\" font-family=\"sans-serif\" font-size=\"10px\" fill=\"#000\" opacity=\"1\">Cross Country Skiing</text><text text-anchor=\"end\" transform=\"translate(-7,115)\" font-family=\"sans-serif\" font-size=\"10px\" fill=\"#000\" opacity=\"1\">Curling</text><text text-anchor=\"end\" transform=\"translate(-7,140)\" font-family=\"sans-serif\" font-size=\"10px\" fill=\"#000\" opacity=\"1\">Figure Skating</text><text text-anchor=\"end\" transform=\"translate(-7,165)\" font-family=\"sans-serif\" font-size=\"10px\" fill=\"#000\" opacity=\"1\">Freestyle Skiing</text><text text-anchor=\"end\" transform=\"translate(-7,190)\" font-family=\"sans-serif\" font-size=\"10px\" fill=\"#000\" opacity=\"1\">Ice Hockey</text><text text-anchor=\"end\" transform=\"translate(-7,215)\" font-family=\"sans-serif\" font-size=\"10px\" fill=\"#000\" opacity=\"1\">Luge</text><text text-anchor=\"end\" transform=\"translate(-7,240)\" font-family=\"sans-serif\" font-size=\"10px\" fill=\"#000\" opacity=\"1\">Nordic Combined</text><text text-anchor=\"end\" transform=\"translate(-7,265)\" font-family=\"sans-serif\" font-size=\"10px\" fill=\"#000\" opacity=\"1\">Short Track Speed Skating</text><text text-anchor=\"end\" transform=\"translate(-7,290)\" font-family=\"sans-serif\" font-size=\"10px\" fill=\"#000\" opacity=\"1\">Skeleton</text><text text-anchor=\"end\" transform=\"translate(-7,315)\" font-family=\"sans-serif\" font-size=\"10px\" fill=\"#000\" opacity=\"1\">Ski Jumping</text><text text-anchor=\"end\" transform=\"translate(-7,340)\" font-family=\"sans-serif\" font-size=\"10px\" fill=\"#000\" opacity=\"1\">Snowboarding</text><text text-anchor=\"end\" transform=\"translate(-7,365)\" font-family=\"sans-serif\" font-size=\"10px\" fill=\"#000\" opacity=\"1\">Speed Skating</text></g><g class=\"mark-rule role-axis-domain\" pointer-events=\"none\"><line transform=\"translate(0,0)\" x2=\"0\" y2=\"375\" stroke=\"#888\" stroke-width=\"1\" opacity=\"1\"></line></g></g><path class=\"foreground\" aria-hidden=\"true\" d=\"\" pointer-events=\"none\" display=\"none\"></path></g></g><g class=\"mark-rect role-mark marks\" role=\"graphics-object\" aria-roledescription=\"rect mark container\"><path aria-label=\"y: Speed Skating; x: 175\" role=\"graphics-symbol\" aria-roledescription=\"bar\" d=\"M0,351.25h656.25v22.5h-656.25Z\" fill=\"#4c78a8\"></path><path aria-label=\"y: Cross Country Skiing; x: 174\" role=\"graphics-symbol\" aria-roledescription=\"bar\" d=\"M0,76.25h652.5v22.5h-652.5Z\" fill=\"#4c78a8\"></path><path aria-label=\"y: Ice Hockey; x: 179\" role=\"graphics-symbol\" aria-roledescription=\"bar\" d=\"M0,176.25h671.25v22.5h-671.25Z\" fill=\"#4c78a8\"></path><path aria-label=\"y: Biathlon; x: 175\" role=\"graphics-symbol\" aria-roledescription=\"bar\" d=\"M0,26.25h656.25v22.5h-656.25Z\" fill=\"#4c78a8\"></path><path aria-label=\"y: Alpine Skiing; x: 174\" role=\"graphics-symbol\" aria-roledescription=\"bar\" d=\"M0,1.25h652.5v22.5h-652.5Z\" fill=\"#4c78a8\"></path><path aria-label=\"y: Luge; x: 177\" role=\"graphics-symbol\" aria-roledescription=\"bar\" d=\"M0,201.25h663.75v22.5h-663.75Z\" fill=\"#4c78a8\"></path><path aria-label=\"y: Bobsleigh; x: 182\" role=\"graphics-symbol\" aria-roledescription=\"bar\" d=\"M0,51.25h682.5v22.5h-682.5Z\" fill=\"#4c78a8\"></path><path aria-label=\"y: Figure Skating; x: 169\" role=\"graphics-symbol\" aria-roledescription=\"bar\" d=\"M0,126.25h633.75v22.5h-633.75Z\" fill=\"#4c78a8\"></path><path aria-label=\"y: Nordic Combined; x: 177\" role=\"graphics-symbol\" aria-roledescription=\"bar\" d=\"M0,226.25h663.75v22.5h-663.75Z\" fill=\"#4c78a8\"></path><path aria-label=\"y: Freestyle Skiing; x: 172\" role=\"graphics-symbol\" aria-roledescription=\"bar\" d=\"M0,151.25h645v22.5h-645Z\" fill=\"#4c78a8\"></path><path aria-label=\"y: Ski Jumping; x: 177\" role=\"graphics-symbol\" aria-roledescription=\"bar\" d=\"M0,301.25h663.75v22.5h-663.75Z\" fill=\"#4c78a8\"></path><path aria-label=\"y: Curling; x: 175\" role=\"graphics-symbol\" aria-roledescription=\"bar\" d=\"M0,101.25h656.25v22.5h-656.25Z\" fill=\"#4c78a8\"></path><path aria-label=\"y: Snowboarding; x: 174\" role=\"graphics-symbol\" aria-roledescription=\"bar\" d=\"M0,326.25h652.5v22.5h-652.5Z\" fill=\"#4c78a8\"></path><path aria-label=\"y: Short Track Speed Skating; x: 171\" role=\"graphics-symbol\" aria-roledescription=\"bar\" d=\"M0,251.25h641.25v22.5h-641.25Z\" fill=\"#4c78a8\"></path><path aria-label=\"y: Skeleton; x: 177\" role=\"graphics-symbol\" aria-roledescription=\"bar\" d=\"M0,276.25h663.75v22.5h-663.75Z\" fill=\"#4c78a8\"></path></g></g><path class=\"foreground\" aria-hidden=\"true\" d=\"\" display=\"none\"></path></g></g></g></svg>\n"
      ],
      "text/plain": [
       "@vlplot(\n",
       "    height={\n",
       "        step=25\n",
       "    },\n",
       "    width=750,\n",
       "    mark=\"bar\",\n",
       "    encoding={\n",
       "        y={\n",
       "            field=\"y\",\n",
       "            title=nothing\n",
       "        },\n",
       "        x={\n",
       "            field=\"x\",\n",
       "            title=nothing\n",
       "        }\n",
       "    },\n",
       "    data={\n",
       "        values=...\n",
       "    }\n",
       ")"
      ]
     },
     "execution_count": 32,
     "metadata": {},
     "output_type": "execute_result"
    }
   ],
   "source": [
    "bas = winter[winter[:Height].!=\"NA\",:]\n",
    "height = groupby(bas,:Sport)\n",
    "bas[:height] = [parse(Int,x) for x in bas[:Height]] \n",
    "df = combine(height , :height => mean)\n",
    "df[:height_mean]=ceil.(df[:height_mean])\n",
    "@vlplot(\n",
    "    height={step=25},\n",
    "    width=750,\n",
    "    :bar,\n",
    "    y=df[:Sport],\n",
    "    x=df[:height_mean]\n",
    ")"
   ]
  },
  {
   "cell_type": "code",
   "execution_count": 33,
   "metadata": {},
   "outputs": [
    {
     "name": "stderr",
     "output_type": "stream",
     "text": [
      "┌ Warning: `getindex(df::DataFrame, col_ind::ColumnIndex)` is deprecated, use `df[!, col_ind]` instead.\n",
      "│   caller = top-level scope at In[33]:1\n",
      "└ @ Core In[33]:1\n"
     ]
    },
    {
     "data": {
      "text/plain": [
       "Dict{String,Int64} with 52 entries:\n",
       "  \"Handball\"       => 3665\n",
       "  \"Basketball\"     => 4536\n",
       "  \"Basque Pelota\"  => 2\n",
       "  \"Diving\"         => 2842\n",
       "  \"Fencing\"        => 10735\n",
       "  \"Weightlifting\"  => 3937\n",
       "  \"Ice Hockey\"     => 60\n",
       "  \"Motorboating\"   => 17\n",
       "  \"Croquet\"        => 19\n",
       "  \"Triathlon\"      => 529\n",
       "  \"Polo\"           => 95\n",
       "  \"Trampolining\"   => 152\n",
       "  \"Cricket\"        => 24\n",
       "  \"Hockey\"         => 5417\n",
       "  \"Roque\"          => 4\n",
       "  \"Rowing\"         => 10595\n",
       "  \"Football\"       => 6745\n",
       "  \"Boxing\"         => 6047\n",
       "  \"Rugby Sevens\"   => 299\n",
       "  \"Judo\"           => 3801\n",
       "  \"Swimming\"       => 23195\n",
       "  \"Shooting\"       => 11448\n",
       "  \"Volleyball\"     => 3404\n",
       "  \"Canoeing\"       => 6171\n",
       "  \"Gymnastics\"     => 26707\n",
       "  ⋮                => ⋮"
      ]
     },
     "execution_count": 33,
     "metadata": {},
     "output_type": "execute_result"
    }
   ],
   "source": [
    "countmap(summer[:Sport])"
   ]
  },
  {
   "cell_type": "code",
   "execution_count": 34,
   "metadata": {},
   "outputs": [
    {
     "data": {
      "text/html": [
       "<table class=\"data-frame\"><thead><tr><th></th><th>ID</th><th>Name</th><th>Sex</th><th>Age</th><th>Height</th><th>Weight</th><th>Team</th></tr><tr><th></th><th>Int64</th><th>String</th><th>String</th><th>String</th><th>String</th><th>String</th><th>String</th></tr></thead><tbody><p>23,195 rows × 15 columns (omitted printing of 8 columns)</p><tr><th>1</th><td>10</td><td>Einar Ferdinand \"Einari\" Aalto</td><td>M</td><td>26</td><td>NA</td><td>NA</td><td>Finland</td></tr><tr><th>2</th><td>15</td><td>Arvo Ossian Aaltonen</td><td>M</td><td>22</td><td>NA</td><td>NA</td><td>Finland</td></tr><tr><th>3</th><td>15</td><td>Arvo Ossian Aaltonen</td><td>M</td><td>22</td><td>NA</td><td>NA</td><td>Finland</td></tr><tr><th>4</th><td>15</td><td>Arvo Ossian Aaltonen</td><td>M</td><td>30</td><td>NA</td><td>NA</td><td>Finland</td></tr><tr><th>5</th><td>15</td><td>Arvo Ossian Aaltonen</td><td>M</td><td>30</td><td>NA</td><td>NA</td><td>Finland</td></tr><tr><th>6</th><td>15</td><td>Arvo Ossian Aaltonen</td><td>M</td><td>34</td><td>NA</td><td>NA</td><td>Finland</td></tr><tr><th>7</th><td>36</td><td>Stefan Remco Aartsen</td><td>M</td><td>21</td><td>194</td><td>78</td><td>Netherlands</td></tr><tr><th>8</th><td>36</td><td>Stefan Remco Aartsen</td><td>M</td><td>21</td><td>194</td><td>78</td><td>Netherlands</td></tr><tr><th>9</th><td>36</td><td>Stefan Remco Aartsen</td><td>M</td><td>21</td><td>194</td><td>78</td><td>Netherlands</td></tr><tr><th>10</th><td>36</td><td>Stefan Remco Aartsen</td><td>M</td><td>25</td><td>194</td><td>78</td><td>Netherlands</td></tr><tr><th>11</th><td>36</td><td>Stefan Remco Aartsen</td><td>M</td><td>25</td><td>194</td><td>78</td><td>Netherlands</td></tr><tr><th>12</th><td>68</td><td>Pablo Martn Abal</td><td>M</td><td>23</td><td>178</td><td>76</td><td>Argentina</td></tr><tr><th>13</th><td>68</td><td>Pablo Martn Abal</td><td>M</td><td>23</td><td>178</td><td>76</td><td>Argentina</td></tr><tr><th>14</th><td>100</td><td>Oszkr Abay-Nemes</td><td>M</td><td>22</td><td>NA</td><td>NA</td><td>Hungary</td></tr><tr><th>15</th><td>100</td><td>Oszkr Abay-Nemes</td><td>M</td><td>22</td><td>NA</td><td>NA</td><td>Hungary</td></tr><tr><th>16</th><td>120</td><td>Mohammed Abbas Sabih</td><td>M</td><td>26</td><td>170</td><td>70</td><td>Iraq</td></tr><tr><th>17</th><td>130</td><td>Tural Abbasov</td><td>M</td><td>18</td><td>182</td><td>76</td><td>Azerbaijan</td></tr><tr><th>18</th><td>193</td><td>Dorri Abdel Kader Said</td><td>M</td><td>21</td><td>NA</td><td>NA</td><td>Egypt</td></tr><tr><th>19</th><td>193</td><td>Dorri Abdel Kader Said</td><td>M</td><td>21</td><td>NA</td><td>NA</td><td>Egypt</td></tr><tr><th>20</th><td>193</td><td>Dorri Abdel Kader Said</td><td>M</td><td>25</td><td>NA</td><td>NA</td><td>Egypt</td></tr><tr><th>21</th><td>258</td><td>Hamza Abdo</td><td>M</td><td>17</td><td>NA</td><td>NA</td><td>Palestine</td></tr><tr><th>22</th><td>259</td><td>Reema Abdo</td><td>F</td><td>21</td><td>173</td><td>59</td><td>Canada</td></tr><tr><th>23</th><td>259</td><td>Reema Abdo</td><td>F</td><td>21</td><td>173</td><td>59</td><td>Canada</td></tr><tr><th>24</th><td>259</td><td>Reema Abdo</td><td>F</td><td>21</td><td>173</td><td>59</td><td>Canada</td></tr><tr><th>25</th><td>280</td><td>Mohamed Abdul Hamid</td><td>M</td><td>19</td><td>175</td><td>55</td><td>Sudan</td></tr><tr><th>26</th><td>290</td><td>Fatima Abdul Majeed Hameed Al-Kirashi</td><td>F</td><td>14</td><td>NA</td><td>NA</td><td>Bahrain</td></tr><tr><th>27</th><td>308</td><td>Mohamed Abdul Wahab Al-Salah</td><td>M</td><td>21</td><td>NA</td><td>NA</td><td>Kuwait</td></tr><tr><th>28</th><td>308</td><td>Mohamed Abdul Wahab Al-Salah</td><td>M</td><td>21</td><td>NA</td><td>NA</td><td>Kuwait</td></tr><tr><th>29</th><td>317</td><td>Roosevelt M. Abdulgafur</td><td>M</td><td>24</td><td>181</td><td>73</td><td>Philippines</td></tr><tr><th>30</th><td>317</td><td>Roosevelt M. Abdulgafur</td><td>M</td><td>24</td><td>181</td><td>73</td><td>Philippines</td></tr><tr><th>&vellip;</th><td>&vellip;</td><td>&vellip;</td><td>&vellip;</td><td>&vellip;</td><td>&vellip;</td><td>&vellip;</td><td>&vellip;</td></tr></tbody></table>"
      ],
      "text/latex": [
       "\\begin{tabular}{r|cccccccc}\n",
       "\t& ID & Name & Sex & Age & Height & Weight & Team & \\\\\n",
       "\t\\hline\n",
       "\t& Int64 & String & String & String & String & String & String & \\\\\n",
       "\t\\hline\n",
       "\t1 & 10 & Einar Ferdinand \"Einari\" Aalto & M & 26 & NA & NA & Finland & $\\dots$ \\\\\n",
       "\t2 & 15 & Arvo Ossian Aaltonen & M & 22 & NA & NA & Finland & $\\dots$ \\\\\n",
       "\t3 & 15 & Arvo Ossian Aaltonen & M & 22 & NA & NA & Finland & $\\dots$ \\\\\n",
       "\t4 & 15 & Arvo Ossian Aaltonen & M & 30 & NA & NA & Finland & $\\dots$ \\\\\n",
       "\t5 & 15 & Arvo Ossian Aaltonen & M & 30 & NA & NA & Finland & $\\dots$ \\\\\n",
       "\t6 & 15 & Arvo Ossian Aaltonen & M & 34 & NA & NA & Finland & $\\dots$ \\\\\n",
       "\t7 & 36 & Stefan Remco Aartsen & M & 21 & 194 & 78 & Netherlands & $\\dots$ \\\\\n",
       "\t8 & 36 & Stefan Remco Aartsen & M & 21 & 194 & 78 & Netherlands & $\\dots$ \\\\\n",
       "\t9 & 36 & Stefan Remco Aartsen & M & 21 & 194 & 78 & Netherlands & $\\dots$ \\\\\n",
       "\t10 & 36 & Stefan Remco Aartsen & M & 25 & 194 & 78 & Netherlands & $\\dots$ \\\\\n",
       "\t11 & 36 & Stefan Remco Aartsen & M & 25 & 194 & 78 & Netherlands & $\\dots$ \\\\\n",
       "\t12 & 68 & Pablo Martn Abal & M & 23 & 178 & 76 & Argentina & $\\dots$ \\\\\n",
       "\t13 & 68 & Pablo Martn Abal & M & 23 & 178 & 76 & Argentina & $\\dots$ \\\\\n",
       "\t14 & 100 & Oszkr Abay-Nemes & M & 22 & NA & NA & Hungary & $\\dots$ \\\\\n",
       "\t15 & 100 & Oszkr Abay-Nemes & M & 22 & NA & NA & Hungary & $\\dots$ \\\\\n",
       "\t16 & 120 & Mohammed Abbas Sabih & M & 26 & 170 & 70 & Iraq & $\\dots$ \\\\\n",
       "\t17 & 130 & Tural Abbasov & M & 18 & 182 & 76 & Azerbaijan & $\\dots$ \\\\\n",
       "\t18 & 193 & Dorri Abdel Kader Said & M & 21 & NA & NA & Egypt & $\\dots$ \\\\\n",
       "\t19 & 193 & Dorri Abdel Kader Said & M & 21 & NA & NA & Egypt & $\\dots$ \\\\\n",
       "\t20 & 193 & Dorri Abdel Kader Said & M & 25 & NA & NA & Egypt & $\\dots$ \\\\\n",
       "\t21 & 258 & Hamza Abdo & M & 17 & NA & NA & Palestine & $\\dots$ \\\\\n",
       "\t22 & 259 & Reema Abdo & F & 21 & 173 & 59 & Canada & $\\dots$ \\\\\n",
       "\t23 & 259 & Reema Abdo & F & 21 & 173 & 59 & Canada & $\\dots$ \\\\\n",
       "\t24 & 259 & Reema Abdo & F & 21 & 173 & 59 & Canada & $\\dots$ \\\\\n",
       "\t25 & 280 & Mohamed Abdul Hamid & M & 19 & 175 & 55 & Sudan & $\\dots$ \\\\\n",
       "\t26 & 290 & Fatima Abdul Majeed Hameed Al-Kirashi & F & 14 & NA & NA & Bahrain & $\\dots$ \\\\\n",
       "\t27 & 308 & Mohamed Abdul Wahab Al-Salah & M & 21 & NA & NA & Kuwait & $\\dots$ \\\\\n",
       "\t28 & 308 & Mohamed Abdul Wahab Al-Salah & M & 21 & NA & NA & Kuwait & $\\dots$ \\\\\n",
       "\t29 & 317 & Roosevelt M. Abdulgafur & M & 24 & 181 & 73 & Philippines & $\\dots$ \\\\\n",
       "\t30 & 317 & Roosevelt M. Abdulgafur & M & 24 & 181 & 73 & Philippines & $\\dots$ \\\\\n",
       "\t$\\dots$ & $\\dots$ & $\\dots$ & $\\dots$ & $\\dots$ & $\\dots$ & $\\dots$ & $\\dots$ &  \\\\\n",
       "\\end{tabular}\n"
      ],
      "text/plain": [
       "23195×15 DataFrame. Omitted printing of 11 columns\n",
       "│ Row   │ ID     │ Name                                  │ Sex    │ Age    │\n",
       "│       │ \u001b[90mInt64\u001b[39m  │ \u001b[90mString\u001b[39m                                │ \u001b[90mString\u001b[39m │ \u001b[90mString\u001b[39m │\n",
       "├───────┼────────┼───────────────────────────────────────┼────────┼────────┤\n",
       "│ 1     │ 10     │ Einar Ferdinand \"Einari\" Aalto        │ M      │ 26     │\n",
       "│ 2     │ 15     │ Arvo Ossian Aaltonen                  │ M      │ 22     │\n",
       "│ 3     │ 15     │ Arvo Ossian Aaltonen                  │ M      │ 22     │\n",
       "│ 4     │ 15     │ Arvo Ossian Aaltonen                  │ M      │ 30     │\n",
       "│ 5     │ 15     │ Arvo Ossian Aaltonen                  │ M      │ 30     │\n",
       "│ 6     │ 15     │ Arvo Ossian Aaltonen                  │ M      │ 34     │\n",
       "│ 7     │ 36     │ Stefan Remco Aartsen                  │ M      │ 21     │\n",
       "│ 8     │ 36     │ Stefan Remco Aartsen                  │ M      │ 21     │\n",
       "│ 9     │ 36     │ Stefan Remco Aartsen                  │ M      │ 21     │\n",
       "│ 10    │ 36     │ Stefan Remco Aartsen                  │ M      │ 25     │\n",
       "⋮\n",
       "│ 23185 │ 135489 │ Anastasiya Valeryevna Zuyeva-Fesikova │ F      │ 26     │\n",
       "│ 23186 │ 135513 │ Federico Zwanck                       │ M      │ 18     │\n",
       "│ 23187 │ 135513 │ Federico Zwanck                       │ M      │ 18     │\n",
       "│ 23188 │ 135513 │ Federico Zwanck                       │ M      │ 18     │\n",
       "│ 23189 │ 135517 │ Fritz Zwazl                           │ M      │ 22     │\n",
       "│ 23190 │ 135522 │ Klaas Erik \"Klaas-Erik\" Zwering       │ M      │ 19     │\n",
       "│ 23191 │ 135522 │ Klaas Erik \"Klaas-Erik\" Zwering       │ M      │ 19     │\n",
       "│ 23192 │ 135522 │ Klaas Erik \"Klaas-Erik\" Zwering       │ M      │ 23     │\n",
       "│ 23193 │ 135539 │ Marius Edmund Zwiller                 │ M      │ 18     │\n",
       "│ 23194 │ 135556 │ Bogusaw Stanisaw Zychowicz            │ M      │ 19     │\n",
       "│ 23195 │ 135556 │ Bogusaw Stanisaw Zychowicz            │ M      │ 19     │"
      ]
     },
     "execution_count": 34,
     "metadata": {},
     "output_type": "execute_result"
    }
   ],
   "source": [
    "swimming = @where(summer, :Sport .== \"Swimming\")"
   ]
  },
  {
   "cell_type": "code",
   "execution_count": 35,
   "metadata": {},
   "outputs": [
    {
     "name": "stderr",
     "output_type": "stream",
     "text": [
      "┌ Warning: `getindex(df::DataFrame, col_ind::ColumnIndex)` is deprecated, use `df[!, col_ind]` instead.\n",
      "│   caller = top-level scope at In[35]:1\n",
      "└ @ Core In[35]:1\n",
      "┌ Warning: `getindex(df::DataFrame, col_ind::ColumnIndex)` is deprecated, use `df[!, col_ind]` instead.\n",
      "│   caller = top-level scope at In[35]:4\n",
      "└ @ Core In[35]:4\n"
     ]
    },
    {
     "data": {
      "text/html": [
       "<table class=\"data-frame\"><thead><tr><th></th><th>first</th><th>second</th></tr><tr><th></th><th>String</th><th>Int64</th></tr></thead><tbody><p>10 rows × 2 columns</p><tr><th>1</th><td>United States</td><td>595</td></tr><tr><th>2</th><td>Australia</td><td>218</td></tr><tr><th>3</th><td>Japan</td><td>97</td></tr><tr><th>4</th><td>Soviet Union</td><td>97</td></tr><tr><th>5</th><td>Great Britain</td><td>74</td></tr><tr><th>6</th><td>Germany</td><td>69</td></tr><tr><th>7</th><td>Hungary</td><td>63</td></tr><tr><th>8</th><td>France</td><td>53</td></tr><tr><th>9</th><td>Canada</td><td>47</td></tr><tr><th>10</th><td>Sweden</td><td>44</td></tr></tbody></table>"
      ],
      "text/latex": [
       "\\begin{tabular}{r|cc}\n",
       "\t& first & second\\\\\n",
       "\t\\hline\n",
       "\t& String & Int64\\\\\n",
       "\t\\hline\n",
       "\t1 & United States & 595 \\\\\n",
       "\t2 & Australia & 218 \\\\\n",
       "\t3 & Japan & 97 \\\\\n",
       "\t4 & Soviet Union & 97 \\\\\n",
       "\t5 & Great Britain & 74 \\\\\n",
       "\t6 & Germany & 69 \\\\\n",
       "\t7 & Hungary & 63 \\\\\n",
       "\t8 & France & 53 \\\\\n",
       "\t9 & Canada & 47 \\\\\n",
       "\t10 & Sweden & 44 \\\\\n",
       "\\end{tabular}\n"
      ],
      "text/plain": [
       "10×2 DataFrame\n",
       "│ Row │ first         │ second │\n",
       "│     │ \u001b[90mString\u001b[39m        │ \u001b[90mInt64\u001b[39m  │\n",
       "├─────┼───────────────┼────────┤\n",
       "│ 1   │ United States │ 595    │\n",
       "│ 2   │ Australia     │ 218    │\n",
       "│ 3   │ Japan         │ 97     │\n",
       "│ 4   │ Soviet Union  │ 97     │\n",
       "│ 5   │ Great Britain │ 74     │\n",
       "│ 6   │ Germany       │ 69     │\n",
       "│ 7   │ Hungary       │ 63     │\n",
       "│ 8   │ France        │ 53     │\n",
       "│ 9   │ Canada        │ 47     │\n",
       "│ 10  │ Sweden        │ 44     │"
      ]
     },
     "execution_count": 35,
     "metadata": {},
     "output_type": "execute_result"
    }
   ],
   "source": [
    "bas = swimming[swimming[:Medal].!=\"NA\",:]\n",
    "men = @where(bas, :Sex .== \"M\")\n",
    "women = @where(bas, :Sex .== \"F\")\n",
    "#df = groupby(bas,:Team)\n",
    "#df = combine(df,:Medal => countmap)\n",
    "d = countmap(men[:Team])\n",
    "s = sort!(collect(d), by=p->p[2],rev=true)\n",
    "d = DataFrame(s)\n",
    "ten= first(d,10)\n"
   ]
  },
  {
   "cell_type": "code",
   "execution_count": 36,
   "metadata": {},
   "outputs": [
    {
     "data": {
      "text/plain": [
       "Plots.PyPlotBackend()"
      ]
     },
     "execution_count": 36,
     "metadata": {},
     "output_type": "execute_result"
    }
   ],
   "source": [
    "pyplot()"
   ]
  },
  {
   "cell_type": "code",
   "execution_count": 37,
   "metadata": {},
   "outputs": [
    {
     "name": "stderr",
     "output_type": "stream",
     "text": [
      "┌ Warning: `getindex(df::DataFrame, col_ind::ColumnIndex)` is deprecated, use `df[!, col_ind]` instead.\n",
      "│   caller = top-level scope at In[37]:1\n",
      "└ @ Core In[37]:1\n",
      "┌ Warning: `getindex(df::DataFrame, col_ind::ColumnIndex)` is deprecated, use `df[!, col_ind]` instead.\n",
      "│   caller = top-level scope at In[37]:1\n",
      "└ @ Core In[37]:1\n"
     ]
    },
    {
     "data": {
      "image/png": "[encoded data removed]"
     },
     "execution_count": 37,
     "metadata": {},
     "output_type": "execute_result"
    }
   ],
   "source": [
    "bar(ten[:first],ten[:second])"
   ]
  },
  {
   "cell_type": "code",
   "execution_count": 38,
   "metadata": {},
   "outputs": [
    {
     "name": "stderr",
     "output_type": "stream",
     "text": [
      "┌ Warning: `getindex(df::DataFrame, col_ind::ColumnIndex)` is deprecated, use `df[!, col_ind]` instead.\n",
      "│   caller = top-level scope at In[38]:1\n",
      "└ @ Core In[38]:1\n",
      "┌ Warning: `getindex(df::DataFrame, col_ind::ColumnIndex)` is deprecated, use `df[!, col_ind]` instead.\n",
      "│   caller = top-level scope at In[38]:1\n",
      "└ @ Core In[38]:1\n"
     ]
    },
    {
     "data": {
      "application/vnd.vegalite.v4+json": {
       "data": {
        "values": [
         {
          "x": 595,
          "y": "United States"
         },
         {
          "x": 218,
          "y": "Australia"
         },
         {
          "x": 97,
          "y": "Japan"
         },
         {
          "x": 97,
          "y": "Soviet Union"
         },
         {
          "x": 74,
          "y": "Great Britain"
         },
         {
          "x": 69,
          "y": "Germany"
         },
         {
          "x": 63,
          "y": "Hungary"
         },
         {
          "x": 53,
          "y": "France"
         },
         {
          "x": 47,
          "y": "Canada"
         },
         {
          "x": 44,
          "y": "Sweden"
         }
        ]
       },
       "encoding": {
        "x": {
         "field": "x",
         "title": null,
         "type": "quantitative"
        },
        "y": {
         "field": "y",
         "title": null,
         "type": "nominal"
        }
       },
       "height": {
        "step": 25
       },
       "mark": "bar",
       "width": 750
      },
      "image/png": "[encoded data removed]",
      "image/svg+xml": [
       "<?xml version=\"1.0\" encoding=\"utf-8\"?>\n",
       "<!DOCTYPE svg PUBLIC \"-//W3C//DTD SVG 1.1//EN\" \"http://www.w3.org/Graphics/SVG/1.1/DTD/svg11.dtd\">\n",
       "<svg class=\"marks\" width=\"826\" height=\"277\" viewBox=\"0 0 826 277\" version=\"1.1\" xmlns=\"http://www.w3.org/2000/svg\" xmlns:xlink=\"http://www.w3.org/1999/xlink\"><rect width=\"826\" height=\"277\" fill=\"white\"></rect><g fill=\"none\" stroke-miterlimit=\"10\" transform=\"translate(70,5)\"><g class=\"mark-group role-frame root\" role=\"graphics-object\" aria-roledescription=\"group mark container\"><g transform=\"translate(0,0)\"><path class=\"background\" aria-hidden=\"true\" d=\"M0.5,0.5h750v250h-750Z\" stroke=\"#ddd\"></path><g><g class=\"mark-group role-axis\" aria-hidden=\"true\"><g transform=\"translate(0.5,250.5)\"><path class=\"background\" aria-hidden=\"true\" d=\"M0,0h0v0h0Z\" pointer-events=\"none\"></path><g><g class=\"mark-rule role-axis-grid\" pointer-events=\"none\"><line transform=\"translate(0,0)\" x2=\"0\" y2=\"-250\" stroke=\"#ddd\" stroke-width=\"1\" opacity=\"1\"></line><line transform=\"translate(25,0)\" x2=\"0\" y2=\"-250\" stroke=\"#ddd\" stroke-width=\"1\" opacity=\"1\"></line><line transform=\"translate(50,0)\" x2=\"0\" y2=\"-250\" stroke=\"#ddd\" stroke-width=\"1\" opacity=\"1\"></line><line transform=\"translate(75,0)\" x2=\"0\" y2=\"-250\" stroke=\"#ddd\" stroke-width=\"1\" opacity=\"1\"></line><line transform=\"translate(100,0)\" x2=\"0\" y2=\"-250\" stroke=\"#ddd\" stroke-width=\"1\" opacity=\"1\"></line><line transform=\"translate(125,0)\" x2=\"0\" y2=\"-250\" stroke=\"#ddd\" stroke-width=\"1\" opacity=\"1\"></line><line transform=\"translate(150,0)\" x2=\"0\" y2=\"-250\" stroke=\"#ddd\" stroke-width=\"1\" opacity=\"1\"></line><line transform=\"translate(175,0)\" x2=\"0\" y2=\"-250\" stroke=\"#ddd\" stroke-width=\"1\" opacity=\"1\"></line><line transform=\"translate(200,0)\" x2=\"0\" y2=\"-250\" stroke=\"#ddd\" stroke-width=\"1\" opacity=\"1\"></line><line transform=\"translate(225,0)\" x2=\"0\" y2=\"-250\" stroke=\"#ddd\" stroke-width=\"1\" opacity=\"1\"></line><line transform=\"translate(250,0)\" x2=\"0\" y2=\"-250\" stroke=\"#ddd\" stroke-width=\"1\" opacity=\"1\"></line><line transform=\"translate(275,0)\" x2=\"0\" y2=\"-250\" stroke=\"#ddd\" stroke-width=\"1\" opacity=\"1\"></line><line transform=\"translate(300,0)\" x2=\"0\" y2=\"-250\" stroke=\"#ddd\" stroke-width=\"1\" opacity=\"1\"></line><line transform=\"translate(325,0)\" x2=\"0\" y2=\"-250\" stroke=\"#ddd\" stroke-width=\"1\" opacity=\"1\"></line><line transform=\"translate(350,0)\" x2=\"0\" y2=\"-250\" stroke=\"#ddd\" stroke-width=\"1\" opacity=\"1\"></line><line transform=\"translate(375,0)\" x2=\"0\" y2=\"-250\" stroke=\"#ddd\" stroke-width=\"1\" opacity=\"1\"></line><line transform=\"translate(400,0)\" x2=\"0\" y2=\"-250\" stroke=\"#ddd\" stroke-width=\"1\" opacity=\"1\"></line><line transform=\"translate(425,0)\" x2=\"0\" y2=\"-250\" stroke=\"#ddd\" stroke-width=\"1\" opacity=\"1\"></line><line transform=\"translate(450,0)\" x2=\"0\" y2=\"-250\" stroke=\"#ddd\" stroke-width=\"1\" opacity=\"1\"></line><line transform=\"translate(475,0)\" x2=\"0\" y2=\"-250\" stroke=\"#ddd\" stroke-width=\"1\" opacity=\"1\"></line><line transform=\"translate(500,0)\" x2=\"0\" y2=\"-250\" stroke=\"#ddd\" stroke-width=\"1\" opacity=\"1\"></line><line transform=\"translate(525,0)\" x2=\"0\" y2=\"-250\" stroke=\"#ddd\" stroke-width=\"1\" opacity=\"1\"></line><line transform=\"translate(550,0)\" x2=\"0\" y2=\"-250\" stroke=\"#ddd\" stroke-width=\"1\" opacity=\"1\"></line><line transform=\"translate(575,0)\" x2=\"0\" y2=\"-250\" stroke=\"#ddd\" stroke-width=\"1\" opacity=\"1\"></line><line transform=\"translate(600,0)\" x2=\"0\" y2=\"-250\" stroke=\"#ddd\" stroke-width=\"1\" opacity=\"1\"></line><line transform=\"translate(625,0)\" x2=\"0\" y2=\"-250\" stroke=\"#ddd\" stroke-width=\"1\" opacity=\"1\"></line><line transform=\"translate(650,0)\" x2=\"0\" y2=\"-250\" stroke=\"#ddd\" stroke-width=\"1\" opacity=\"1\"></line><line transform=\"translate(675,0)\" x2=\"0\" y2=\"-250\" stroke=\"#ddd\" stroke-width=\"1\" opacity=\"1\"></line><line transform=\"translate(700,0)\" x2=\"0\" y2=\"-250\" stroke=\"#ddd\" stroke-width=\"1\" opacity=\"1\"></line><line transform=\"translate(725,0)\" x2=\"0\" y2=\"-250\" stroke=\"#ddd\" stroke-width=\"1\" opacity=\"1\"></line><line transform=\"translate(750,0)\" x2=\"0\" y2=\"-250\" stroke=\"#ddd\" stroke-width=\"1\" opacity=\"1\"></line></g></g><path class=\"foreground\" aria-hidden=\"true\" d=\"\" pointer-events=\"none\" display=\"none\"></path></g></g><g class=\"mark-group role-axis\" role=\"graphics-symbol\" aria-roledescription=\"axis\" aria-label=\"X-axis for a linear scale with values from 0 to 600\"><g transform=\"translate(0.5,250.5)\"><path class=\"background\" aria-hidden=\"true\" d=\"M0,0h0v0h0Z\" pointer-events=\"none\"></path><g><g class=\"mark-rule role-axis-tick\" pointer-events=\"none\"><line transform=\"translate(0,0)\" x2=\"0\" y2=\"5\" stroke=\"#888\" stroke-width=\"1\" opacity=\"1\"></line><line transform=\"translate(25,0)\" x2=\"0\" y2=\"5\" stroke=\"#888\" stroke-width=\"1\" opacity=\"1\"></line><line transform=\"translate(50,0)\" x2=\"0\" y2=\"5\" stroke=\"#888\" stroke-width=\"1\" opacity=\"1\"></line><line transform=\"translate(75,0)\" x2=\"0\" y2=\"5\" stroke=\"#888\" stroke-width=\"1\" opacity=\"1\"></line><line transform=\"translate(100,0)\" x2=\"0\" y2=\"5\" stroke=\"#888\" stroke-width=\"1\" opacity=\"1\"></line><line transform=\"translate(125,0)\" x2=\"0\" y2=\"5\" stroke=\"#888\" stroke-width=\"1\" opacity=\"1\"></line><line transform=\"translate(150,0)\" x2=\"0\" y2=\"5\" stroke=\"#888\" stroke-width=\"1\" opacity=\"1\"></line><line transform=\"translate(175,0)\" x2=\"0\" y2=\"5\" stroke=\"#888\" stroke-width=\"1\" opacity=\"1\"></line><line transform=\"translate(200,0)\" x2=\"0\" y2=\"5\" stroke=\"#888\" stroke-width=\"1\" opacity=\"1\"></line><line transform=\"translate(225,0)\" x2=\"0\" y2=\"5\" stroke=\"#888\" stroke-width=\"1\" opacity=\"1\"></line><line transform=\"translate(250,0)\" x2=\"0\" y2=\"5\" stroke=\"#888\" stroke-width=\"1\" opacity=\"1\"></line><line transform=\"translate(275,0)\" x2=\"0\" y2=\"5\" stroke=\"#888\" stroke-width=\"1\" opacity=\"1\"></line><line transform=\"translate(300,0)\" x2=\"0\" y2=\"5\" stroke=\"#888\" stroke-width=\"1\" opacity=\"1\"></line><line transform=\"translate(325,0)\" x2=\"0\" y2=\"5\" stroke=\"#888\" stroke-width=\"1\" opacity=\"1\"></line><line transform=\"translate(350,0)\" x2=\"0\" y2=\"5\" stroke=\"#888\" stroke-width=\"1\" opacity=\"1\"></line><line transform=\"translate(375,0)\" x2=\"0\" y2=\"5\" stroke=\"#888\" stroke-width=\"1\" opacity=\"1\"></line><line transform=\"translate(400,0)\" x2=\"0\" y2=\"5\" stroke=\"#888\" stroke-width=\"1\" opacity=\"1\"></line><line transform=\"translate(425,0)\" x2=\"0\" y2=\"5\" stroke=\"#888\" stroke-width=\"1\" opacity=\"1\"></line><line transform=\"translate(450,0)\" x2=\"0\" y2=\"5\" stroke=\"#888\" stroke-width=\"1\" opacity=\"1\"></line><line transform=\"translate(475,0)\" x2=\"0\" y2=\"5\" stroke=\"#888\" stroke-width=\"1\" opacity=\"1\"></line><line transform=\"translate(500,0)\" x2=\"0\" y2=\"5\" stroke=\"#888\" stroke-width=\"1\" opacity=\"1\"></line><line transform=\"translate(525,0)\" x2=\"0\" y2=\"5\" stroke=\"#888\" stroke-width=\"1\" opacity=\"1\"></line><line transform=\"translate(550,0)\" x2=\"0\" y2=\"5\" stroke=\"#888\" stroke-width=\"1\" opacity=\"1\"></line><line transform=\"translate(575,0)\" x2=\"0\" y2=\"5\" stroke=\"#888\" stroke-width=\"1\" opacity=\"1\"></line><line transform=\"translate(600,0)\" x2=\"0\" y2=\"5\" stroke=\"#888\" stroke-width=\"1\" opacity=\"1\"></line><line transform=\"translate(625,0)\" x2=\"0\" y2=\"5\" stroke=\"#888\" stroke-width=\"1\" opacity=\"1\"></line><line transform=\"translate(650,0)\" x2=\"0\" y2=\"5\" stroke=\"#888\" stroke-width=\"1\" opacity=\"1\"></line><line transform=\"translate(675,0)\" x2=\"0\" y2=\"5\" stroke=\"#888\" stroke-width=\"1\" opacity=\"1\"></line><line transform=\"translate(700,0)\" x2=\"0\" y2=\"5\" stroke=\"#888\" stroke-width=\"1\" opacity=\"1\"></line><line transform=\"translate(725,0)\" x2=\"0\" y2=\"5\" stroke=\"#888\" stroke-width=\"1\" opacity=\"1\"></line><line transform=\"translate(750,0)\" x2=\"0\" y2=\"5\" stroke=\"#888\" stroke-width=\"1\" opacity=\"1\"></line></g><g class=\"mark-text role-axis-label\" pointer-events=\"none\"><text text-anchor=\"start\" transform=\"translate(0,15)\" font-family=\"sans-serif\" font-size=\"10px\" fill=\"#000\" opacity=\"1\">0</text><text text-anchor=\"middle\" transform=\"translate(25,15)\" font-family=\"sans-serif\" font-size=\"10px\" fill=\"#000\" opacity=\"1\">20</text><text text-anchor=\"middle\" transform=\"translate(50,15)\" font-family=\"sans-serif\" font-size=\"10px\" fill=\"#000\" opacity=\"1\">40</text><text text-anchor=\"middle\" transform=\"translate(75,15)\" font-family=\"sans-serif\" font-size=\"10px\" fill=\"#000\" opacity=\"1\">60</text><text text-anchor=\"middle\" transform=\"translate(100,15)\" font-family=\"sans-serif\" font-size=\"10px\" fill=\"#000\" opacity=\"1\">80</text><text text-anchor=\"middle\" transform=\"translate(125,15)\" font-family=\"sans-serif\" font-size=\"10px\" fill=\"#000\" opacity=\"1\">100</text><text text-anchor=\"middle\" transform=\"translate(150,15)\" font-family=\"sans-serif\" font-size=\"10px\" fill=\"#000\" opacity=\"1\">120</text><text text-anchor=\"middle\" transform=\"translate(175,15)\" font-family=\"sans-serif\" font-size=\"10px\" fill=\"#000\" opacity=\"1\">140</text><text text-anchor=\"middle\" transform=\"translate(200,15)\" font-family=\"sans-serif\" font-size=\"10px\" fill=\"#000\" opacity=\"1\">160</text><text text-anchor=\"middle\" transform=\"translate(225,15)\" font-family=\"sans-serif\" font-size=\"10px\" fill=\"#000\" opacity=\"1\">180</text><text text-anchor=\"middle\" transform=\"translate(250,15)\" font-family=\"sans-serif\" font-size=\"10px\" fill=\"#000\" opacity=\"1\">200</text><text text-anchor=\"middle\" transform=\"translate(275,15)\" font-family=\"sans-serif\" font-size=\"10px\" fill=\"#000\" opacity=\"1\">220</text><text text-anchor=\"middle\" transform=\"translate(300,15)\" font-family=\"sans-serif\" font-size=\"10px\" fill=\"#000\" opacity=\"1\">240</text><text text-anchor=\"middle\" transform=\"translate(325,15)\" font-family=\"sans-serif\" font-size=\"10px\" fill=\"#000\" opacity=\"1\">260</text><text text-anchor=\"middle\" transform=\"translate(350,15)\" font-family=\"sans-serif\" font-size=\"10px\" fill=\"#000\" opacity=\"1\">280</text><text text-anchor=\"middle\" transform=\"translate(375,15)\" font-family=\"sans-serif\" font-size=\"10px\" fill=\"#000\" opacity=\"1\">300</text><text text-anchor=\"middle\" transform=\"translate(400,15)\" font-family=\"sans-serif\" font-size=\"10px\" fill=\"#000\" opacity=\"1\">320</text><text text-anchor=\"middle\" transform=\"translate(425,15)\" font-family=\"sans-serif\" font-size=\"10px\" fill=\"#000\" opacity=\"1\">340</text><text text-anchor=\"middle\" transform=\"translate(450,15)\" font-family=\"sans-serif\" font-size=\"10px\" fill=\"#000\" opacity=\"1\">360</text><text text-anchor=\"middle\" transform=\"translate(475,15)\" font-family=\"sans-serif\" font-size=\"10px\" fill=\"#000\" opacity=\"1\">380</text><text text-anchor=\"middle\" transform=\"translate(500,15)\" font-family=\"sans-serif\" font-size=\"10px\" fill=\"#000\" opacity=\"1\">400</text><text text-anchor=\"middle\" transform=\"translate(525,15)\" font-family=\"sans-serif\" font-size=\"10px\" fill=\"#000\" opacity=\"1\">420</text><text text-anchor=\"middle\" transform=\"translate(550,15)\" font-family=\"sans-serif\" font-size=\"10px\" fill=\"#000\" opacity=\"1\">440</text><text text-anchor=\"middle\" transform=\"translate(575,15)\" font-family=\"sans-serif\" font-size=\"10px\" fill=\"#000\" opacity=\"1\">460</text><text text-anchor=\"middle\" transform=\"translate(600,15)\" font-family=\"sans-serif\" font-size=\"10px\" fill=\"#000\" opacity=\"1\">480</text><text text-anchor=\"middle\" transform=\"translate(625,15)\" font-family=\"sans-serif\" font-size=\"10px\" fill=\"#000\" opacity=\"1\">500</text><text text-anchor=\"middle\" transform=\"translate(650,15)\" font-family=\"sans-serif\" font-size=\"10px\" fill=\"#000\" opacity=\"1\">520</text><text text-anchor=\"middle\" transform=\"translate(675,15)\" font-family=\"sans-serif\" font-size=\"10px\" fill=\"#000\" opacity=\"1\">540</text><text text-anchor=\"middle\" transform=\"translate(700,15)\" font-family=\"sans-serif\" font-size=\"10px\" fill=\"#000\" opacity=\"1\">560</text><text text-anchor=\"middle\" transform=\"translate(725,15)\" font-family=\"sans-serif\" font-size=\"10px\" fill=\"#000\" opacity=\"1\">580</text><text text-anchor=\"end\" transform=\"translate(750,15)\" font-family=\"sans-serif\" font-size=\"10px\" fill=\"#000\" opacity=\"1\">600</text></g><g class=\"mark-rule role-axis-domain\" pointer-events=\"none\"><line transform=\"translate(0,0)\" x2=\"750\" y2=\"0\" stroke=\"#888\" stroke-width=\"1\" opacity=\"1\"></line></g></g><path class=\"foreground\" aria-hidden=\"true\" d=\"\" pointer-events=\"none\" display=\"none\"></path></g></g><g class=\"mark-group role-axis\" role=\"graphics-symbol\" aria-roledescription=\"axis\" aria-label=\"Y-axis for a discrete scale with 10 values: Australia, Canada, France, Germany, Great Britain, ending with United States\"><g transform=\"translate(0.5,0.5)\"><path class=\"background\" aria-hidden=\"true\" d=\"M0,0h0v0h0Z\" pointer-events=\"none\"></path><g><g class=\"mark-rule role-axis-tick\" pointer-events=\"none\"><line transform=\"translate(0,12)\" x2=\"-5\" y2=\"0\" stroke=\"#888\" stroke-width=\"1\" opacity=\"1\"></line><line transform=\"translate(0,37)\" x2=\"-5\" y2=\"0\" stroke=\"#888\" stroke-width=\"1\" opacity=\"1\"></line><line transform=\"translate(0,62)\" x2=\"-5\" y2=\"0\" stroke=\"#888\" stroke-width=\"1\" opacity=\"1\"></line><line transform=\"translate(0,87)\" x2=\"-5\" y2=\"0\" stroke=\"#888\" stroke-width=\"1\" opacity=\"1\"></line><line transform=\"translate(0,112)\" x2=\"-5\" y2=\"0\" stroke=\"#888\" stroke-width=\"1\" opacity=\"1\"></line><line transform=\"translate(0,137)\" x2=\"-5\" y2=\"0\" stroke=\"#888\" stroke-width=\"1\" opacity=\"1\"></line><line transform=\"translate(0,162)\" x2=\"-5\" y2=\"0\" stroke=\"#888\" stroke-width=\"1\" opacity=\"1\"></line><line transform=\"translate(0,187)\" x2=\"-5\" y2=\"0\" stroke=\"#888\" stroke-width=\"1\" opacity=\"1\"></line><line transform=\"translate(0,212)\" x2=\"-5\" y2=\"0\" stroke=\"#888\" stroke-width=\"1\" opacity=\"1\"></line><line transform=\"translate(0,237)\" x2=\"-5\" y2=\"0\" stroke=\"#888\" stroke-width=\"1\" opacity=\"1\"></line></g><g class=\"mark-text role-axis-label\" pointer-events=\"none\"><text text-anchor=\"end\" transform=\"translate(-7,15)\" font-family=\"sans-serif\" font-size=\"10px\" fill=\"#000\" opacity=\"1\">Australia</text><text text-anchor=\"end\" transform=\"translate(-7,40)\" font-family=\"sans-serif\" font-size=\"10px\" fill=\"#000\" opacity=\"1\">Canada</text><text text-anchor=\"end\" transform=\"translate(-7,65)\" font-family=\"sans-serif\" font-size=\"10px\" fill=\"#000\" opacity=\"1\">France</text><text text-anchor=\"end\" transform=\"translate(-7,90)\" font-family=\"sans-serif\" font-size=\"10px\" fill=\"#000\" opacity=\"1\">Germany</text><text text-anchor=\"end\" transform=\"translate(-7,115)\" font-family=\"sans-serif\" font-size=\"10px\" fill=\"#000\" opacity=\"1\">Great Britain</text><text text-anchor=\"end\" transform=\"translate(-7,140)\" font-family=\"sans-serif\" font-size=\"10px\" fill=\"#000\" opacity=\"1\">Hungary</text><text text-anchor=\"end\" transform=\"translate(-7,165)\" font-family=\"sans-serif\" font-size=\"10px\" fill=\"#000\" opacity=\"1\">Japan</text><text text-anchor=\"end\" transform=\"translate(-7,190)\" font-family=\"sans-serif\" font-size=\"10px\" fill=\"#000\" opacity=\"1\">Soviet Union</text><text text-anchor=\"end\" transform=\"translate(-7,215)\" font-family=\"sans-serif\" font-size=\"10px\" fill=\"#000\" opacity=\"1\">Sweden</text><text text-anchor=\"end\" transform=\"translate(-7,240)\" font-family=\"sans-serif\" font-size=\"10px\" fill=\"#000\" opacity=\"1\">United States</text></g><g class=\"mark-rule role-axis-domain\" pointer-events=\"none\"><line transform=\"translate(0,0)\" x2=\"0\" y2=\"250\" stroke=\"#888\" stroke-width=\"1\" opacity=\"1\"></line></g></g><path class=\"foreground\" aria-hidden=\"true\" d=\"\" pointer-events=\"none\" display=\"none\"></path></g></g><g class=\"mark-rect role-mark marks\" role=\"graphics-object\" aria-roledescription=\"rect mark container\"><path aria-label=\"x: 595; y: United States\" role=\"graphics-symbol\" aria-roledescription=\"bar\" d=\"M0,226.25h743.75v22.5h-743.75Z\" fill=\"#4c78a8\"></path><path aria-label=\"x: 218; y: Australia\" role=\"graphics-symbol\" aria-roledescription=\"bar\" d=\"M0,1.25h272.5v22.5h-272.5Z\" fill=\"#4c78a8\"></path><path aria-label=\"x: 97; y: Japan\" role=\"graphics-symbol\" aria-roledescription=\"bar\" d=\"M0,151.25h121.24999999999999v22.5h-121.24999999999999Z\" fill=\"#4c78a8\"></path><path aria-label=\"x: 97; y: Soviet Union\" role=\"graphics-symbol\" aria-roledescription=\"bar\" d=\"M0,176.25h121.24999999999999v22.5h-121.24999999999999Z\" fill=\"#4c78a8\"></path><path aria-label=\"x: 74; y: Great Britain\" role=\"graphics-symbol\" aria-roledescription=\"bar\" d=\"M0,101.25h92.5v22.5h-92.5Z\" fill=\"#4c78a8\"></path><path aria-label=\"x: 69; y: Germany\" role=\"graphics-symbol\" aria-roledescription=\"bar\" d=\"M0,76.25h86.25v22.5h-86.25Z\" fill=\"#4c78a8\"></path><path aria-label=\"x: 63; y: Hungary\" role=\"graphics-symbol\" aria-roledescription=\"bar\" d=\"M0,126.25h78.75v22.5h-78.75Z\" fill=\"#4c78a8\"></path><path aria-label=\"x: 53; y: France\" role=\"graphics-symbol\" aria-roledescription=\"bar\" d=\"M0,51.25h66.25v22.5h-66.25Z\" fill=\"#4c78a8\"></path><path aria-label=\"x: 47; y: Canada\" role=\"graphics-symbol\" aria-roledescription=\"bar\" d=\"M0,26.25h58.75000000000001v22.5h-58.75000000000001Z\" fill=\"#4c78a8\"></path><path aria-label=\"x: 44; y: Sweden\" role=\"graphics-symbol\" aria-roledescription=\"bar\" d=\"M0,201.25h55v22.5h-55Z\" fill=\"#4c78a8\"></path></g></g><path class=\"foreground\" aria-hidden=\"true\" d=\"\" display=\"none\"></path></g></g></g></svg>\n"
      ],
      "text/plain": [
       "@vlplot(\n",
       "    height={\n",
       "        step=25\n",
       "    },\n",
       "    width=750,\n",
       "    mark=\"bar\",\n",
       "    encoding={\n",
       "        x={\n",
       "            field=\"x\",\n",
       "            title=nothing\n",
       "        },\n",
       "        y={\n",
       "            field=\"y\",\n",
       "            title=nothing\n",
       "        }\n",
       "    },\n",
       "    data={\n",
       "        values=...\n",
       "    }\n",
       ")"
      ]
     },
     "execution_count": 38,
     "metadata": {},
     "output_type": "execute_result"
    }
   ],
   "source": [
    "@vlplot(\n",
    "    height={step=25},\n",
    "    width=750,\n",
    "    :bar,\n",
    "    \n",
    "    x=ten[:second],\n",
    "    y=ten[:first]\n",
    ")"
   ]
  },
  {
   "cell_type": "code",
   "execution_count": null,
   "metadata": {},
   "outputs": [],
   "source": []
  },
  {
   "cell_type": "code",
   "execution_count": 39,
   "metadata": {},
   "outputs": [
    {
     "data": {
      "application/vnd.vegalite.v4+json": {
       "data": {
        "values": [
         {
          "first": "United States",
          "second": 595
         },
         {
          "first": "Australia",
          "second": 218
         },
         {
          "first": "Japan",
          "second": 97
         },
         {
          "first": "Soviet Union",
          "second": 97
         },
         {
          "first": "Great Britain",
          "second": 74
         },
         {
          "first": "Germany",
          "second": 69
         },
         {
          "first": "Hungary",
          "second": 63
         },
         {
          "first": "France",
          "second": 53
         },
         {
          "first": "Canada",
          "second": 47
         },
         {
          "first": "Sweden",
          "second": 44
         }
        ]
       },
       "encoding": {
        "color": {
         "field": "first",
         "legend": null,
         "type": "nominal"
        },
        "theta": {
         "field": "second",
         "stack": true,
         "type": "quantitative"
        }
       },
       "layer": [
        {
         "mark": {
          "outerRadius": 150,
          "type": "arc"
         }
        },
        {
         "encoding": {
          "text": {
           "field": "first",
           "type": "nominal"
          }
         },
         "mark": {
          "radius": 190,
          "type": "text"
         }
        }
       ],
       "view": {
        "stroke": null
       }
      },
      "image/png": "[encoded data removed]",
      "image/svg+xml": [
       "<?xml version=\"1.0\" encoding=\"utf-8\"?>\n",
       "<!DOCTYPE svg PUBLIC \"-//W3C//DTD SVG 1.1//EN\" \"http://www.w3.org/Graphics/SVG/1.1/DTD/svg11.dtd\">\n",
       "<svg class=\"marks\" width=\"441\" height=\"378\" viewBox=\"0 0 441 378\" version=\"1.1\" xmlns=\"http://www.w3.org/2000/svg\" xmlns:xlink=\"http://www.w3.org/1999/xlink\"><rect width=\"441\" height=\"378\" fill=\"white\"></rect><g fill=\"none\" stroke-miterlimit=\"10\" transform=\"translate(124,78)\"><g class=\"mark-group role-frame root\" role=\"graphics-object\" aria-roledescription=\"group mark container\"><g transform=\"translate(0,0)\"><path class=\"background\" aria-hidden=\"true\" d=\"M0,0h200v200h-200Z\"></path><g><g class=\"mark-arc role-mark layer_0_marks\" role=\"graphics-object\" aria-roledescription=\"arc mark container\"><path aria-label=\"second: 595; first: United States\" role=\"graphics-symbol\" aria-roledescription=\"arc mark\" transform=\"translate(100,100)\" d=\"M-2.7554552980815446e-14,-150A150,150,0,0,0,-56.559278090610256,138.92821190049563L0,0Z\" fill=\"#bab0ac\"></path><path aria-label=\"second: 218; first: Australia\" role=\"graphics-symbol\" aria-roledescription=\"arc mark\" transform=\"translate(100,100)\" d=\"M126.97562684711465,-79.85731141719144A150,150,0,0,0,9.184850993605149e-15,-150L0,0Z\" fill=\"#4c78a8\"></path><path aria-label=\"second: 97; first: Japan\" role=\"graphics-symbol\" aria-roledescription=\"arc mark\" transform=\"translate(100,100)\" d=\"M39.46538463412818,144.7151803221774A150,150,0,0,0,98.38409958227754,113.22795127257446L0,0Z\" fill=\"#b279a2\"></path><path aria-label=\"second: 97; first: Soviet Union\" role=\"graphics-symbol\" aria-roledescription=\"arc mark\" transform=\"translate(100,100)\" d=\"M-27.281264035847197,147.49824620179857A150,150,0,0,0,39.46538463412818,144.7151803221774L0,0Z\" fill=\"#ff9da6\"></path><path aria-label=\"second: 74; first: Great Britain\" role=\"graphics-symbol\" aria-roledescription=\"arc mark\" transform=\"translate(100,100)\" d=\"M126.79040896049146,80.15105860580586A150,150,0,0,0,146.34877794804757,32.894303353514964L0,0Z\" fill=\"#54a24b\"></path><path aria-label=\"second: 69; first: Germany\" role=\"graphics-symbol\" aria-roledescription=\"arc mark\" transform=\"translate(100,100)\" d=\"M146.34877794804757,32.894303353514964A150,150,0,0,0,149.27451442767108,-14.734970050292517L0,0Z\" fill=\"#72b7b2\"></path><path aria-label=\"second: 63; first: Hungary\" role=\"graphics-symbol\" aria-roledescription=\"arc mark\" transform=\"translate(100,100)\" d=\"M98.38409958227754,113.22795127257446A150,150,0,0,0,126.79040896049146,80.15105860580586L0,0Z\" fill=\"#eeca3b\"></path><path aria-label=\"second: 53; first: France\" role=\"graphics-symbol\" aria-roledescription=\"arc mark\" transform=\"translate(100,100)\" d=\"M149.27451442767108,-14.734970050292517A150,150,0,0,0,141.2224676137239,-50.559021362074496L0,0Z\" fill=\"#e45756\"></path><path aria-label=\"second: 47; first: Canada\" role=\"graphics-symbol\" aria-roledescription=\"arc mark\" transform=\"translate(100,100)\" d=\"M141.2224676137239,-50.559021362074496A150,150,0,0,0,126.97562684711465,-79.85731141719144L0,0Z\" fill=\"#f58518\"></path><path aria-label=\"second: 44; first: Sweden\" role=\"graphics-symbol\" aria-roledescription=\"arc mark\" transform=\"translate(100,100)\" d=\"M-56.559278090610256,138.92821190049563A150,150,0,0,0,-27.281264035847197,147.49824620179857L0,0Z\" fill=\"#9d755d\"></path></g><g class=\"mark-text role-mark layer_1_marks\" role=\"graphics-object\" aria-roledescription=\"text mark container\"><text aria-label=\"second: 595; first: United States\" role=\"graphics-symbol\" aria-roledescription=\"text mark\" text-anchor=\"middle\" transform=\"translate(-86.46097401876435,66.49924428215641)\" font-family=\"sans-serif\" font-size=\"11px\" fill=\"#bab0ac\">United States</text><text aria-label=\"second: 218; first: Australia\" role=\"graphics-symbol\" aria-roledescription=\"text mark\" text-anchor=\"middle\" transform=\"translate(191.87221302511057,-63.31144420594964)\" font-family=\"sans-serif\" font-size=\"11px\" fill=\"#4c78a8\">Australia</text><text aria-label=\"second: 97; first: Japan\" role=\"graphics-symbol\" aria-roledescription=\"text mark\" text-anchor=\"middle\" transform=\"translate(189.55325694799592,270.5715195670381)\" font-family=\"sans-serif\" font-size=\"11px\" fill=\"#b279a2\">Japan</text><text aria-label=\"second: 97; first: Soviet Union\" role=\"graphics-symbol\" aria-roledescription=\"text mark\" text-anchor=\"middle\" transform=\"translate(107.91535556934184,292.8350524697978)\" font-family=\"sans-serif\" font-size=\"11px\" fill=\"#ff9da6\">Soviet Union</text><text aria-label=\"second: 74; first: Great Britain\" role=\"graphics-symbol\" aria-roledescription=\"text mark\" text-anchor=\"middle\" transform=\"translate(275.55814516207636,175.65905082817494)\" font-family=\"sans-serif\" font-size=\"11px\" fill=\"#54a24b\">Great Britain</text><text aria-label=\"second: 69; first: Germany\" role=\"graphics-symbol\" aria-roledescription=\"text mark\" text-anchor=\"middle\" transform=\"translate(289.6425468069757,114.64922489112601)\" font-family=\"sans-serif\" font-size=\"11px\" fill=\"#72b7b2\">Germany</text><text aria-label=\"second: 63; first: Hungary\" role=\"graphics-symbol\" aria-roledescription=\"text mark\" text-anchor=\"middle\" transform=\"translate(244.14093444910048,226.78768523621451)\" font-family=\"sans-serif\" font-size=\"11px\" fill=\"#eeca3b\">Hungary</text><text aria-label=\"second: 53; first: France\" role=\"graphics-symbol\" aria-roledescription=\"text mark\" text-anchor=\"middle\" transform=\"translate(285.3751187341936,61.333882418881046)\" font-family=\"sans-serif\" font-size=\"11px\" fill=\"#e45756\">France</text><text aria-label=\"second: 47; first: Canada\" role=\"graphics-symbol\" aria-roledescription=\"text mark\" text-anchor=\"middle\" transform=\"translate(270.86930473253165,19.911609112817473)\" font-family=\"sans-serif\" font-size=\"11px\" fill=\"#f58518\">Canada</text><text aria-label=\"second: 44; first: Sweden\" role=\"graphics-symbol\" aria-roledescription=\"text mark\" text-anchor=\"middle\" transform=\"translate(46.62430641505915,285.3486641967155)\" font-family=\"sans-serif\" font-size=\"11px\" fill=\"#9d755d\">Sweden</text></g></g><path class=\"foreground\" aria-hidden=\"true\" d=\"\" display=\"none\"></path></g></g></g></svg>\n"
      ],
      "text/plain": [
       "@vlplot(\n",
       "    view={\n",
       "        stroke=nothing\n",
       "    },\n",
       "    encoding={\n",
       "        theta={\n",
       "            stack=true,\n",
       "            field=\"second\"\n",
       "        },\n",
       "        color={\n",
       "            legend=nothing,\n",
       "            field=\"first\",\n",
       "            type=\"nominal\"\n",
       "        }\n",
       "    },\n",
       "    layer=[\n",
       "        {\n",
       "            mark={\n",
       "                outerRadius=150,\n",
       "                type=\"arc\"\n",
       "            }\n",
       "        },\n",
       "        {\n",
       "            mark={\n",
       "                radius=190,\n",
       "                type=\"text\"\n",
       "            },\n",
       "            encoding={\n",
       "                text={\n",
       "                    field=\"first\",\n",
       "                    type=\"nominal\"\n",
       "                }\n",
       "            }\n",
       "        }\n",
       "    ],\n",
       "    data={\n",
       "        values=...\n",
       "    }\n",
       ")"
      ]
     },
     "execution_count": 39,
     "metadata": {},
     "output_type": "execute_result"
    }
   ],
   "source": [
    "ten |> @vlplot(\n",
    "    theta={:second, stack=true},\n",
    "    color={\"first:n\", legend=nothing},\n",
    "    view={stroke=nothing}) +\n",
    "@vlplot(mark={:arc, outerRadius=150}) +\n",
    "@vlplot(mark={:text, radius=190}, text=\"first:n\")"
   ]
  },
  {
   "cell_type": "code",
   "execution_count": 41,
   "metadata": {},
   "outputs": [
    {
     "name": "stderr",
     "output_type": "stream",
     "text": [
      "┌ Warning: `getindex(df::DataFrame, col_ind::ColumnIndex)` is deprecated, use `df[!, col_ind]` instead.\n",
      "│   caller = top-level scope at In[41]:1\n",
      "└ @ Core In[41]:1\n",
      "┌ Warning: `getindex(df::DataFrame, col_ind::ColumnIndex)` is deprecated, use `df[!, col_ind]` instead.\n",
      "│   caller = top-level scope at In[41]:5\n",
      "└ @ Core In[41]:5\n",
      "┌ Warning: `getindex(df::DataFrame, col_ind::ColumnIndex)` is deprecated, use `df[!, col_ind]` instead.\n",
      "│   caller = top-level scope at In[41]:5\n",
      "└ @ Core In[41]:5\n"
     ]
    },
    {
     "data": {
      "image/png": "[encoded data removed]"
     },
     "execution_count": 41,
     "metadata": {},
     "output_type": "execute_result"
    }
   ],
   "source": [
    "d = countmap(women[:Team])\n",
    "s = sort!(collect(d), by=p->p[2],rev=true)\n",
    "d = DataFrame(s)\n",
    "ten= first(d,10)\n",
    "\n",
    "bar(ten[:first],ten[:second])"
   ]
  },
  {
   "cell_type": "code",
   "execution_count": 42,
   "metadata": {},
   "outputs": [
    {
     "data": {
      "application/vnd.vegalite.v4+json": {
       "data": {
        "values": [
         {
          "first": "United States",
          "second": 471
         },
         {
          "first": "Australia",
          "second": 183
         },
         {
          "first": "East Germany",
          "second": 113
         },
         {
          "first": "Netherlands",
          "second": 95
         },
         {
          "first": "Germany",
          "second": 83
         },
         {
          "first": "China",
          "second": 56
         },
         {
          "first": "Great Britain",
          "second": 53
         },
         {
          "first": "Canada",
          "second": 51
         },
         {
          "first": "Hungary",
          "second": 31
         },
         {
          "first": "Soviet Union",
          "second": 27
         }
        ]
       },
       "encoding": {
        "color": {
         "field": "first",
         "legend": null,
         "type": "nominal"
        },
        "theta": {
         "field": "second",
         "stack": true,
         "type": "quantitative"
        }
       },
       "layer": [
        {
         "mark": {
          "outerRadius": 150,
          "type": "arc"
         }
        },
        {
         "encoding": {
          "text": {
           "field": "first",
           "type": "nominal"
          }
         },
         "mark": {
          "radius": 190,
          "type": "text"
         }
        }
       ],
       "view": {
        "stroke": null
       }
      },
      "image/png": "[encoded data removed]",
      "image/svg+xml": [
       "<?xml version=\"1.0\" encoding=\"utf-8\"?>\n",
       "<!DOCTYPE svg PUBLIC \"-//W3C//DTD SVG 1.1//EN\" \"http://www.w3.org/Graphics/SVG/1.1/DTD/svg11.dtd\">\n",
       "<svg class=\"marks\" width=\"440\" height=\"377\" viewBox=\"0 0 440 377\" version=\"1.1\" xmlns=\"http://www.w3.org/2000/svg\" xmlns:xlink=\"http://www.w3.org/1999/xlink\"><rect width=\"440\" height=\"377\" fill=\"white\"></rect><g fill=\"none\" stroke-miterlimit=\"10\" transform=\"translate(120,79)\"><g class=\"mark-group role-frame root\" role=\"graphics-object\" aria-roledescription=\"group mark container\"><g transform=\"translate(0,0)\"><path class=\"background\" aria-hidden=\"true\" d=\"M0,0h200v200h-200Z\"></path><g><g class=\"mark-arc role-mark layer_0_marks\" role=\"graphics-object\" aria-roledescription=\"arc mark container\"><path aria-label=\"second: 471; first: United States\" role=\"graphics-symbol\" aria-roledescription=\"arc mark\" transform=\"translate(100,100)\" d=\"M-2.7554552980815446e-14,-150A150,150,0,0,0,-84.32256020676436,124.05525317444885L0,0Z\" fill=\"#bab0ac\"></path><path aria-label=\"second: 183; first: Australia\" role=\"graphics-symbol\" aria-roledescription=\"arc mark\" transform=\"translate(100,100)\" d=\"M125.29430109429585,-82.47022561683663A150,150,0,0,0,9.184850993605149e-15,-150L0,0Z\" fill=\"#4c78a8\"></path><path aria-label=\"second: 113; first: East Germany\" role=\"graphics-symbol\" aria-roledescription=\"arc mark\" transform=\"translate(100,100)\" d=\"M123.2524936256353,85.49165348186179A150,150,0,0,0,149.99876864436195,-0.6077871133686231L0,0Z\" fill=\"#72b7b2\"></path><path aria-label=\"second: 95; first: Netherlands\" role=\"graphics-symbol\" aria-roledescription=\"arc mark\" transform=\"translate(100,100)\" d=\"M-65.39529971444668,134.99427682408498A150,150,0,0,0,9.31343344475397,149.71058732591405L0,0Z\" fill=\"#ff9da6\"></path><path aria-label=\"second: 83; first: Germany\" role=\"graphics-symbol\" aria-roledescription=\"arc mark\" transform=\"translate(100,100)\" d=\"M74.00357649793054,130.47402295290408A150,150,0,0,0,123.2524936256353,85.49165348186179L0,0Z\" fill=\"#54a24b\"></path><path aria-label=\"second: 56; first: China\" role=\"graphics-symbol\" aria-roledescription=\"arc mark\" transform=\"translate(100,100)\" d=\"M149.99876864436195,-0.6077871133686231A150,150,0,0,0,143.00498536856597,-45.272222827427335L0,0Z\" fill=\"#e45756\"></path><path aria-label=\"second: 53; first: Great Britain\" role=\"graphics-symbol\" aria-roledescription=\"arc mark\" transform=\"translate(100,100)\" d=\"M34.13953401729842,146.0633157814847A150,150,0,0,0,74.00357649793054,130.47402295290408L0,0Z\" fill=\"#eeca3b\"></path><path aria-label=\"second: 51; first: Canada\" role=\"graphics-symbol\" aria-roledescription=\"arc mark\" transform=\"translate(100,100)\" d=\"M143.00498536856597,-45.272222827427335A150,150,0,0,0,125.29430109429585,-82.47022561683663L0,0Z\" fill=\"#f58518\"></path><path aria-label=\"second: 31; first: Hungary\" role=\"graphics-symbol\" aria-roledescription=\"arc mark\" transform=\"translate(100,100)\" d=\"M9.31343344475397,149.71058732591405A150,150,0,0,0,34.13953401729842,146.0633157814847L0,0Z\" fill=\"#b279a2\"></path><path aria-label=\"second: 27; first: Soviet Union\" role=\"graphics-symbol\" aria-roledescription=\"arc mark\" transform=\"translate(100,100)\" d=\"M-84.32256020676436,124.05525317444885A150,150,0,0,0,-65.39529971444668,134.99427682408498L0,0Z\" fill=\"#9d755d\"></path></g><g class=\"mark-text role-mark layer_1_marks\" role=\"graphics-object\" aria-roledescription=\"text mark container\"><text aria-label=\"second: 471; first: United States\" role=\"graphics-symbol\" aria-roledescription=\"text mark\" text-anchor=\"middle\" transform=\"translate(-81.59840894675261,47.12497992834373)\" font-family=\"sans-serif\" font-size=\"11px\" fill=\"#bab0ac\">United States</text><text aria-label=\"second: 183; first: Australia\" role=\"graphics-symbol\" aria-roledescription=\"text mark\" text-anchor=\"middle\" transform=\"translate(190.14478826185123,-64.25404972444167)\" font-family=\"sans-serif\" font-size=\"11px\" fill=\"#4c78a8\">Australia</text><text aria-label=\"second: 113; first: East Germany\" role=\"graphics-symbol\" aria-roledescription=\"text mark\" text-anchor=\"middle\" transform=\"translate(281.44681230802104,159.3653643939058)\" font-family=\"sans-serif\" font-size=\"11px\" fill=\"#72b7b2\">East Germany</text><text aria-label=\"second: 95; first: Netherlands\" role=\"graphics-symbol\" aria-roledescription=\"text mark\" text-anchor=\"middle\" transform=\"translate(63.27897767721939,289.41772050845873)\" font-family=\"sans-serif\" font-size=\"11px\" fill=\"#ff9da6\">Netherlands</text><text aria-label=\"second: 83; first: Germany\" role=\"graphics-symbol\" aria-roledescription=\"text mark\" text-anchor=\"middle\" transform=\"translate(228.13598178731806,243.28959395265244)\" font-family=\"sans-serif\" font-size=\"11px\" fill=\"#54a24b\">Germany</text><text aria-label=\"second: 56; first: China\" role=\"graphics-symbol\" aria-roledescription=\"text mark\" text-anchor=\"middle\" transform=\"translate(287.71268327976327,73.60699852156492)\" font-family=\"sans-serif\" font-size=\"11px\" fill=\"#e45756\">China</text><text aria-label=\"second: 53; first: Great Britain\" role=\"graphics-symbol\" aria-roledescription=\"text mark\" text-anchor=\"middle\" transform=\"translate(169.19861096400015,279.9507056800084)\" font-family=\"sans-serif\" font-size=\"11px\" fill=\"#eeca3b\">Great Britain</text><text aria-label=\"second: 51; first: Canada\" role=\"graphics-symbol\" aria-roledescription=\"text mark\" text-anchor=\"middle\" transform=\"translate(271.54824287000827,21.322583487155654)\" font-family=\"sans-serif\" font-size=\"11px\" fill=\"#f58518\">Canada</text><text aria-label=\"second: 31; first: Hungary\" role=\"graphics-symbol\" aria-roledescription=\"text mark\" text-anchor=\"middle\" transform=\"translate(127.61698616839311,290.9821855255832)\" font-family=\"sans-serif\" font-size=\"11px\" fill=\"#b279a2\">Hungary</text><text aria-label=\"second: 27; first: Soviet Union\" role=\"graphics-symbol\" aria-roledescription=\"text mark\" text-anchor=\"middle\" transform=\"translate(4.925929260836767,267.5020397231736)\" font-family=\"sans-serif\" font-size=\"11px\" fill=\"#9d755d\">Soviet Union</text></g></g><path class=\"foreground\" aria-hidden=\"true\" d=\"\" display=\"none\"></path></g></g></g></svg>\n"
      ],
      "text/plain": [
       "@vlplot(\n",
       "    view={\n",
       "        stroke=nothing\n",
       "    },\n",
       "    encoding={\n",
       "        theta={\n",
       "            stack=true,\n",
       "            field=\"second\"\n",
       "        },\n",
       "        color={\n",
       "            legend=nothing,\n",
       "            field=\"first\",\n",
       "            type=\"nominal\"\n",
       "        }\n",
       "    },\n",
       "    layer=[\n",
       "        {\n",
       "            mark={\n",
       "                outerRadius=150,\n",
       "                type=\"arc\"\n",
       "            }\n",
       "        },\n",
       "        {\n",
       "            mark={\n",
       "                radius=190,\n",
       "                type=\"text\"\n",
       "            },\n",
       "            encoding={\n",
       "                text={\n",
       "                    field=\"first\",\n",
       "                    type=\"nominal\"\n",
       "                }\n",
       "            }\n",
       "        }\n",
       "    ],\n",
       "    data={\n",
       "        values=...\n",
       "    }\n",
       ")"
      ]
     },
     "execution_count": 42,
     "metadata": {},
     "output_type": "execute_result"
    }
   ],
   "source": [
    "ten |> @vlplot(\n",
    "    theta={:second, stack=true},\n",
    "    color={\"first:n\", legend=nothing},\n",
    "    view={stroke=nothing}) +\n",
    "@vlplot(mark={:arc, outerRadius=150}) +\n",
    "@vlplot(mark={:text, radius=190}, text=\"first:n\")"
   ]
  },
  {
   "cell_type": "code",
   "execution_count": 43,
   "metadata": {},
   "outputs": [
    {
     "name": "stderr",
     "output_type": "stream",
     "text": [
      "┌ Warning: `getindex(df::DataFrame, col_ind::ColumnIndex)` is deprecated, use `df[!, col_ind]` instead.\n",
      "│   caller = top-level scope at In[43]:1\n",
      "└ @ Core In[43]:1\n",
      "┌ Warning: `getindex(df::DataFrame, col_ind::ColumnIndex)` is deprecated, use `df[!, col_ind]` instead.\n",
      "│   caller = top-level scope at In[43]:1\n",
      "└ @ Core In[43]:1\n"
     ]
    },
    {
     "data": {
      "application/vnd.vegalite.v4+json": {
       "data": {
        "values": [
         {
          "x": 471,
          "y": "United States"
         },
         {
          "x": 183,
          "y": "Australia"
         },
         {
          "x": 113,
          "y": "East Germany"
         },
         {
          "x": 95,
          "y": "Netherlands"
         },
         {
          "x": 83,
          "y": "Germany"
         },
         {
          "x": 56,
          "y": "China"
         },
         {
          "x": 53,
          "y": "Great Britain"
         },
         {
          "x": 51,
          "y": "Canada"
         },
         {
          "x": 31,
          "y": "Hungary"
         },
         {
          "x": 27,
          "y": "Soviet Union"
         }
        ]
       },
       "encoding": {
        "x": {
         "field": "x",
         "title": null,
         "type": "quantitative"
        },
        "y": {
         "field": "y",
         "title": null,
         "type": "nominal"
        }
       },
       "height": {
        "step": 25
       },
       "mark": "bar",
       "width": 750
      },
      "image/png": "[encoded data removed]",
      "image/svg+xml": [
       "<?xml version=\"1.0\" encoding=\"utf-8\"?>\n",
       "<!DOCTYPE svg PUBLIC \"-//W3C//DTD SVG 1.1//EN\" \"http://www.w3.org/Graphics/SVG/1.1/DTD/svg11.dtd\">\n",
       "<svg class=\"marks\" width=\"830\" height=\"277\" viewBox=\"0 0 830 277\" version=\"1.1\" xmlns=\"http://www.w3.org/2000/svg\" xmlns:xlink=\"http://www.w3.org/1999/xlink\"><rect width=\"830\" height=\"277\" fill=\"white\"></rect><g fill=\"none\" stroke-miterlimit=\"10\" transform=\"translate(74,5)\"><g class=\"mark-group role-frame root\" role=\"graphics-object\" aria-roledescription=\"group mark container\"><g transform=\"translate(0,0)\"><path class=\"background\" aria-hidden=\"true\" d=\"M0.5,0.5h750v250h-750Z\" stroke=\"#ddd\"></path><g><g class=\"mark-group role-axis\" aria-hidden=\"true\"><g transform=\"translate(0.5,250.5)\"><path class=\"background\" aria-hidden=\"true\" d=\"M0,0h0v0h0Z\" pointer-events=\"none\"></path><g><g class=\"mark-rule role-axis-grid\" pointer-events=\"none\"><line transform=\"translate(0,0)\" x2=\"0\" y2=\"-250\" stroke=\"#ddd\" stroke-width=\"1\" opacity=\"1\"></line><line transform=\"translate(30,0)\" x2=\"0\" y2=\"-250\" stroke=\"#ddd\" stroke-width=\"1\" opacity=\"1\"></line><line transform=\"translate(60,0)\" x2=\"0\" y2=\"-250\" stroke=\"#ddd\" stroke-width=\"1\" opacity=\"1\"></line><line transform=\"translate(90,0)\" x2=\"0\" y2=\"-250\" stroke=\"#ddd\" stroke-width=\"1\" opacity=\"1\"></line><line transform=\"translate(120,0)\" x2=\"0\" y2=\"-250\" stroke=\"#ddd\" stroke-width=\"1\" opacity=\"1\"></line><line transform=\"translate(150,0)\" x2=\"0\" y2=\"-250\" stroke=\"#ddd\" stroke-width=\"1\" opacity=\"1\"></line><line transform=\"translate(180,0)\" x2=\"0\" y2=\"-250\" stroke=\"#ddd\" stroke-width=\"1\" opacity=\"1\"></line><line transform=\"translate(210,0)\" x2=\"0\" y2=\"-250\" stroke=\"#ddd\" stroke-width=\"1\" opacity=\"1\"></line><line transform=\"translate(240,0)\" x2=\"0\" y2=\"-250\" stroke=\"#ddd\" stroke-width=\"1\" opacity=\"1\"></line><line transform=\"translate(270,0)\" x2=\"0\" y2=\"-250\" stroke=\"#ddd\" stroke-width=\"1\" opacity=\"1\"></line><line transform=\"translate(300,0)\" x2=\"0\" y2=\"-250\" stroke=\"#ddd\" stroke-width=\"1\" opacity=\"1\"></line><line transform=\"translate(330,0)\" x2=\"0\" y2=\"-250\" stroke=\"#ddd\" stroke-width=\"1\" opacity=\"1\"></line><line transform=\"translate(360,0)\" x2=\"0\" y2=\"-250\" stroke=\"#ddd\" stroke-width=\"1\" opacity=\"1\"></line><line transform=\"translate(390,0)\" x2=\"0\" y2=\"-250\" stroke=\"#ddd\" stroke-width=\"1\" opacity=\"1\"></line><line transform=\"translate(420,0)\" x2=\"0\" y2=\"-250\" stroke=\"#ddd\" stroke-width=\"1\" opacity=\"1\"></line><line transform=\"translate(450,0)\" x2=\"0\" y2=\"-250\" stroke=\"#ddd\" stroke-width=\"1\" opacity=\"1\"></line><line transform=\"translate(480,0)\" x2=\"0\" y2=\"-250\" stroke=\"#ddd\" stroke-width=\"1\" opacity=\"1\"></line><line transform=\"translate(510,0)\" x2=\"0\" y2=\"-250\" stroke=\"#ddd\" stroke-width=\"1\" opacity=\"1\"></line><line transform=\"translate(540,0)\" x2=\"0\" y2=\"-250\" stroke=\"#ddd\" stroke-width=\"1\" opacity=\"1\"></line><line transform=\"translate(570,0)\" x2=\"0\" y2=\"-250\" stroke=\"#ddd\" stroke-width=\"1\" opacity=\"1\"></line><line transform=\"translate(600,0)\" x2=\"0\" y2=\"-250\" stroke=\"#ddd\" stroke-width=\"1\" opacity=\"1\"></line><line transform=\"translate(630,0)\" x2=\"0\" y2=\"-250\" stroke=\"#ddd\" stroke-width=\"1\" opacity=\"1\"></line><line transform=\"translate(660,0)\" x2=\"0\" y2=\"-250\" stroke=\"#ddd\" stroke-width=\"1\" opacity=\"1\"></line><line transform=\"translate(690,0)\" x2=\"0\" y2=\"-250\" stroke=\"#ddd\" stroke-width=\"1\" opacity=\"1\"></line><line transform=\"translate(720,0)\" x2=\"0\" y2=\"-250\" stroke=\"#ddd\" stroke-width=\"1\" opacity=\"1\"></line><line transform=\"translate(750,0)\" x2=\"0\" y2=\"-250\" stroke=\"#ddd\" stroke-width=\"1\" opacity=\"1\"></line></g></g><path class=\"foreground\" aria-hidden=\"true\" d=\"\" pointer-events=\"none\" display=\"none\"></path></g></g><g class=\"mark-group role-axis\" role=\"graphics-symbol\" aria-roledescription=\"axis\" aria-label=\"X-axis for a linear scale with values from 0 to 500\"><g transform=\"translate(0.5,250.5)\"><path class=\"background\" aria-hidden=\"true\" d=\"M0,0h0v0h0Z\" pointer-events=\"none\"></path><g><g class=\"mark-rule role-axis-tick\" pointer-events=\"none\"><line transform=\"translate(0,0)\" x2=\"0\" y2=\"5\" stroke=\"#888\" stroke-width=\"1\" opacity=\"1\"></line><line transform=\"translate(30,0)\" x2=\"0\" y2=\"5\" stroke=\"#888\" stroke-width=\"1\" opacity=\"1\"></line><line transform=\"translate(60,0)\" x2=\"0\" y2=\"5\" stroke=\"#888\" stroke-width=\"1\" opacity=\"1\"></line><line transform=\"translate(90,0)\" x2=\"0\" y2=\"5\" stroke=\"#888\" stroke-width=\"1\" opacity=\"1\"></line><line transform=\"translate(120,0)\" x2=\"0\" y2=\"5\" stroke=\"#888\" stroke-width=\"1\" opacity=\"1\"></line><line transform=\"translate(150,0)\" x2=\"0\" y2=\"5\" stroke=\"#888\" stroke-width=\"1\" opacity=\"1\"></line><line transform=\"translate(180,0)\" x2=\"0\" y2=\"5\" stroke=\"#888\" stroke-width=\"1\" opacity=\"1\"></line><line transform=\"translate(210,0)\" x2=\"0\" y2=\"5\" stroke=\"#888\" stroke-width=\"1\" opacity=\"1\"></line><line transform=\"translate(240,0)\" x2=\"0\" y2=\"5\" stroke=\"#888\" stroke-width=\"1\" opacity=\"1\"></line><line transform=\"translate(270,0)\" x2=\"0\" y2=\"5\" stroke=\"#888\" stroke-width=\"1\" opacity=\"1\"></line><line transform=\"translate(300,0)\" x2=\"0\" y2=\"5\" stroke=\"#888\" stroke-width=\"1\" opacity=\"1\"></line><line transform=\"translate(330,0)\" x2=\"0\" y2=\"5\" stroke=\"#888\" stroke-width=\"1\" opacity=\"1\"></line><line transform=\"translate(360,0)\" x2=\"0\" y2=\"5\" stroke=\"#888\" stroke-width=\"1\" opacity=\"1\"></line><line transform=\"translate(390,0)\" x2=\"0\" y2=\"5\" stroke=\"#888\" stroke-width=\"1\" opacity=\"1\"></line><line transform=\"translate(420,0)\" x2=\"0\" y2=\"5\" stroke=\"#888\" stroke-width=\"1\" opacity=\"1\"></line><line transform=\"translate(450,0)\" x2=\"0\" y2=\"5\" stroke=\"#888\" stroke-width=\"1\" opacity=\"1\"></line><line transform=\"translate(480,0)\" x2=\"0\" y2=\"5\" stroke=\"#888\" stroke-width=\"1\" opacity=\"1\"></line><line transform=\"translate(510,0)\" x2=\"0\" y2=\"5\" stroke=\"#888\" stroke-width=\"1\" opacity=\"1\"></line><line transform=\"translate(540,0)\" x2=\"0\" y2=\"5\" stroke=\"#888\" stroke-width=\"1\" opacity=\"1\"></line><line transform=\"translate(570,0)\" x2=\"0\" y2=\"5\" stroke=\"#888\" stroke-width=\"1\" opacity=\"1\"></line><line transform=\"translate(600,0)\" x2=\"0\" y2=\"5\" stroke=\"#888\" stroke-width=\"1\" opacity=\"1\"></line><line transform=\"translate(630,0)\" x2=\"0\" y2=\"5\" stroke=\"#888\" stroke-width=\"1\" opacity=\"1\"></line><line transform=\"translate(660,0)\" x2=\"0\" y2=\"5\" stroke=\"#888\" stroke-width=\"1\" opacity=\"1\"></line><line transform=\"translate(690,0)\" x2=\"0\" y2=\"5\" stroke=\"#888\" stroke-width=\"1\" opacity=\"1\"></line><line transform=\"translate(720,0)\" x2=\"0\" y2=\"5\" stroke=\"#888\" stroke-width=\"1\" opacity=\"1\"></line><line transform=\"translate(750,0)\" x2=\"0\" y2=\"5\" stroke=\"#888\" stroke-width=\"1\" opacity=\"1\"></line></g><g class=\"mark-text role-axis-label\" pointer-events=\"none\"><text text-anchor=\"start\" transform=\"translate(0,15)\" font-family=\"sans-serif\" font-size=\"10px\" fill=\"#000\" opacity=\"1\">0</text><text text-anchor=\"middle\" transform=\"translate(30,15)\" font-family=\"sans-serif\" font-size=\"10px\" fill=\"#000\" opacity=\"1\">20</text><text text-anchor=\"middle\" transform=\"translate(60,15)\" font-family=\"sans-serif\" font-size=\"10px\" fill=\"#000\" opacity=\"1\">40</text><text text-anchor=\"middle\" transform=\"translate(90,15)\" font-family=\"sans-serif\" font-size=\"10px\" fill=\"#000\" opacity=\"1\">60</text><text text-anchor=\"middle\" transform=\"translate(120,15)\" font-family=\"sans-serif\" font-size=\"10px\" fill=\"#000\" opacity=\"1\">80</text><text text-anchor=\"middle\" transform=\"translate(150,15)\" font-family=\"sans-serif\" font-size=\"10px\" fill=\"#000\" opacity=\"1\">100</text><text text-anchor=\"middle\" transform=\"translate(180,15)\" font-family=\"sans-serif\" font-size=\"10px\" fill=\"#000\" opacity=\"1\">120</text><text text-anchor=\"middle\" transform=\"translate(210.00000000000003,15)\" font-family=\"sans-serif\" font-size=\"10px\" fill=\"#000\" opacity=\"1\">140</text><text text-anchor=\"middle\" transform=\"translate(240,15)\" font-family=\"sans-serif\" font-size=\"10px\" fill=\"#000\" opacity=\"1\">160</text><text text-anchor=\"middle\" transform=\"translate(270,15)\" font-family=\"sans-serif\" font-size=\"10px\" fill=\"#000\" opacity=\"1\">180</text><text text-anchor=\"middle\" transform=\"translate(300,15)\" font-family=\"sans-serif\" font-size=\"10px\" fill=\"#000\" opacity=\"1\">200</text><text text-anchor=\"middle\" transform=\"translate(330,15)\" font-family=\"sans-serif\" font-size=\"10px\" fill=\"#000\" opacity=\"1\">220</text><text text-anchor=\"middle\" transform=\"translate(360,15)\" font-family=\"sans-serif\" font-size=\"10px\" fill=\"#000\" opacity=\"1\">240</text><text text-anchor=\"middle\" transform=\"translate(390,15)\" font-family=\"sans-serif\" font-size=\"10px\" fill=\"#000\" opacity=\"1\">260</text><text text-anchor=\"middle\" transform=\"translate(420.00000000000006,15)\" font-family=\"sans-serif\" font-size=\"10px\" fill=\"#000\" opacity=\"1\">280</text><text text-anchor=\"middle\" transform=\"translate(450,15)\" font-family=\"sans-serif\" font-size=\"10px\" fill=\"#000\" opacity=\"1\">300</text><text text-anchor=\"middle\" transform=\"translate(480,15)\" font-family=\"sans-serif\" font-size=\"10px\" fill=\"#000\" opacity=\"1\">320</text><text text-anchor=\"middle\" transform=\"translate(510.00000000000006,15)\" font-family=\"sans-serif\" font-size=\"10px\" fill=\"#000\" opacity=\"1\">340</text><text text-anchor=\"middle\" transform=\"translate(540,15)\" font-family=\"sans-serif\" font-size=\"10px\" fill=\"#000\" opacity=\"1\">360</text><text text-anchor=\"middle\" transform=\"translate(570,15)\" font-family=\"sans-serif\" font-size=\"10px\" fill=\"#000\" opacity=\"1\">380</text><text text-anchor=\"middle\" transform=\"translate(600,15)\" font-family=\"sans-serif\" font-size=\"10px\" fill=\"#000\" opacity=\"1\">400</text><text text-anchor=\"middle\" transform=\"translate(630,15)\" font-family=\"sans-serif\" font-size=\"10px\" fill=\"#000\" opacity=\"1\">420</text><text text-anchor=\"middle\" transform=\"translate(660,15)\" font-family=\"sans-serif\" font-size=\"10px\" fill=\"#000\" opacity=\"1\">440</text><text text-anchor=\"middle\" transform=\"translate(690,15)\" font-family=\"sans-serif\" font-size=\"10px\" fill=\"#000\" opacity=\"1\">460</text><text text-anchor=\"middle\" transform=\"translate(720,15)\" font-family=\"sans-serif\" font-size=\"10px\" fill=\"#000\" opacity=\"1\">480</text><text text-anchor=\"end\" transform=\"translate(750,15)\" font-family=\"sans-serif\" font-size=\"10px\" fill=\"#000\" opacity=\"1\">500</text></g><g class=\"mark-rule role-axis-domain\" pointer-events=\"none\"><line transform=\"translate(0,0)\" x2=\"750\" y2=\"0\" stroke=\"#888\" stroke-width=\"1\" opacity=\"1\"></line></g></g><path class=\"foreground\" aria-hidden=\"true\" d=\"\" pointer-events=\"none\" display=\"none\"></path></g></g><g class=\"mark-group role-axis\" role=\"graphics-symbol\" aria-roledescription=\"axis\" aria-label=\"Y-axis for a discrete scale with 10 values: Australia, Canada, China, East Germany, Germany, ending with United States\"><g transform=\"translate(0.5,0.5)\"><path class=\"background\" aria-hidden=\"true\" d=\"M0,0h0v0h0Z\" pointer-events=\"none\"></path><g><g class=\"mark-rule role-axis-tick\" pointer-events=\"none\"><line transform=\"translate(0,12)\" x2=\"-5\" y2=\"0\" stroke=\"#888\" stroke-width=\"1\" opacity=\"1\"></line><line transform=\"translate(0,37)\" x2=\"-5\" y2=\"0\" stroke=\"#888\" stroke-width=\"1\" opacity=\"1\"></line><line transform=\"translate(0,62)\" x2=\"-5\" y2=\"0\" stroke=\"#888\" stroke-width=\"1\" opacity=\"1\"></line><line transform=\"translate(0,87)\" x2=\"-5\" y2=\"0\" stroke=\"#888\" stroke-width=\"1\" opacity=\"1\"></line><line transform=\"translate(0,112)\" x2=\"-5\" y2=\"0\" stroke=\"#888\" stroke-width=\"1\" opacity=\"1\"></line><line transform=\"translate(0,137)\" x2=\"-5\" y2=\"0\" stroke=\"#888\" stroke-width=\"1\" opacity=\"1\"></line><line transform=\"translate(0,162)\" x2=\"-5\" y2=\"0\" stroke=\"#888\" stroke-width=\"1\" opacity=\"1\"></line><line transform=\"translate(0,187)\" x2=\"-5\" y2=\"0\" stroke=\"#888\" stroke-width=\"1\" opacity=\"1\"></line><line transform=\"translate(0,212)\" x2=\"-5\" y2=\"0\" stroke=\"#888\" stroke-width=\"1\" opacity=\"1\"></line><line transform=\"translate(0,237)\" x2=\"-5\" y2=\"0\" stroke=\"#888\" stroke-width=\"1\" opacity=\"1\"></line></g><g class=\"mark-text role-axis-label\" pointer-events=\"none\"><text text-anchor=\"end\" transform=\"translate(-7,15)\" font-family=\"sans-serif\" font-size=\"10px\" fill=\"#000\" opacity=\"1\">Australia</text><text text-anchor=\"end\" transform=\"translate(-7,40)\" font-family=\"sans-serif\" font-size=\"10px\" fill=\"#000\" opacity=\"1\">Canada</text><text text-anchor=\"end\" transform=\"translate(-7,65)\" font-family=\"sans-serif\" font-size=\"10px\" fill=\"#000\" opacity=\"1\">China</text><text text-anchor=\"end\" transform=\"translate(-7,90)\" font-family=\"sans-serif\" font-size=\"10px\" fill=\"#000\" opacity=\"1\">East Germany</text><text text-anchor=\"end\" transform=\"translate(-7,115)\" font-family=\"sans-serif\" font-size=\"10px\" fill=\"#000\" opacity=\"1\">Germany</text><text text-anchor=\"end\" transform=\"translate(-7,140)\" font-family=\"sans-serif\" font-size=\"10px\" fill=\"#000\" opacity=\"1\">Great Britain</text><text text-anchor=\"end\" transform=\"translate(-7,165)\" font-family=\"sans-serif\" font-size=\"10px\" fill=\"#000\" opacity=\"1\">Hungary</text><text text-anchor=\"end\" transform=\"translate(-7,190)\" font-family=\"sans-serif\" font-size=\"10px\" fill=\"#000\" opacity=\"1\">Netherlands</text><text text-anchor=\"end\" transform=\"translate(-7,215)\" font-family=\"sans-serif\" font-size=\"10px\" fill=\"#000\" opacity=\"1\">Soviet Union</text><text text-anchor=\"end\" transform=\"translate(-7,240)\" font-family=\"sans-serif\" font-size=\"10px\" fill=\"#000\" opacity=\"1\">United States</text></g><g class=\"mark-rule role-axis-domain\" pointer-events=\"none\"><line transform=\"translate(0,0)\" x2=\"0\" y2=\"250\" stroke=\"#888\" stroke-width=\"1\" opacity=\"1\"></line></g></g><path class=\"foreground\" aria-hidden=\"true\" d=\"\" pointer-events=\"none\" display=\"none\"></path></g></g><g class=\"mark-rect role-mark marks\" role=\"graphics-object\" aria-roledescription=\"rect mark container\"><path aria-label=\"x: 471; y: United States\" role=\"graphics-symbol\" aria-roledescription=\"bar\" d=\"M0,226.25h706.5v22.5h-706.5Z\" fill=\"#4c78a8\"></path><path aria-label=\"x: 183; y: Australia\" role=\"graphics-symbol\" aria-roledescription=\"bar\" d=\"M0,1.25h274.5v22.5h-274.5Z\" fill=\"#4c78a8\"></path><path aria-label=\"x: 113; y: East Germany\" role=\"graphics-symbol\" aria-roledescription=\"bar\" d=\"M0,76.25h169.5v22.5h-169.5Z\" fill=\"#4c78a8\"></path><path aria-label=\"x: 95; y: Netherlands\" role=\"graphics-symbol\" aria-roledescription=\"bar\" d=\"M0,176.25h142.5v22.5h-142.5Z\" fill=\"#4c78a8\"></path><path aria-label=\"x: 83; y: Germany\" role=\"graphics-symbol\" aria-roledescription=\"bar\" d=\"M0,101.25h124.5v22.5h-124.5Z\" fill=\"#4c78a8\"></path><path aria-label=\"x: 56; y: China\" role=\"graphics-symbol\" aria-roledescription=\"bar\" d=\"M0,51.25h84v22.5h-84Z\" fill=\"#4c78a8\"></path><path aria-label=\"x: 53; y: Great Britain\" role=\"graphics-symbol\" aria-roledescription=\"bar\" d=\"M0,126.25h79.5v22.5h-79.5Z\" fill=\"#4c78a8\"></path><path aria-label=\"x: 51; y: Canada\" role=\"graphics-symbol\" aria-roledescription=\"bar\" d=\"M0,26.25h76.5v22.5h-76.5Z\" fill=\"#4c78a8\"></path><path aria-label=\"x: 31; y: Hungary\" role=\"graphics-symbol\" aria-roledescription=\"bar\" d=\"M0,151.25h46.5v22.5h-46.5Z\" fill=\"#4c78a8\"></path><path aria-label=\"x: 27; y: Soviet Union\" role=\"graphics-symbol\" aria-roledescription=\"bar\" d=\"M0,201.25h40.5v22.5h-40.5Z\" fill=\"#4c78a8\"></path></g></g><path class=\"foreground\" aria-hidden=\"true\" d=\"\" display=\"none\"></path></g></g></g></svg>\n"
      ],
      "text/plain": [
       "@vlplot(\n",
       "    height={\n",
       "        step=25\n",
       "    },\n",
       "    width=750,\n",
       "    mark=\"bar\",\n",
       "    encoding={\n",
       "        x={\n",
       "            field=\"x\",\n",
       "            title=nothing\n",
       "        },\n",
       "        y={\n",
       "            field=\"y\",\n",
       "            title=nothing\n",
       "        }\n",
       "    },\n",
       "    data={\n",
       "        values=...\n",
       "    }\n",
       ")"
      ]
     },
     "execution_count": 43,
     "metadata": {},
     "output_type": "execute_result"
    }
   ],
   "source": [
    "@vlplot(\n",
    "    height={step=25},\n",
    "    width=750,\n",
    "    :bar,\n",
    "    \n",
    "    x=ten[:second],\n",
    "    y=ten[:first]\n",
    ")"
   ]
  },
  {
   "cell_type": "code",
   "execution_count": null,
   "metadata": {},
   "outputs": [],
   "source": []
  }
 ],
 "metadata": {
  "kernelspec": {
   "display_name": "Julia 1.4.1",
   "language": "julia",
   "name": "julia-1.4"
  },
  "language_info": {
   "file_extension": ".jl",
   "mimetype": "application/julia",
   "name": "julia",
   "version": "1.4.1"
  }
 },
 "nbformat": 4,
 "nbformat_minor": 4
}
