{
 "cells": [
  {
   "cell_type": "code",
   "execution_count": 1,
   "metadata": {},
   "outputs": [
    {
     "name": "stderr",
     "output_type": "stream",
     "text": [
      "┌ Info: Precompiling MLJ [add582a8-e3ab-11e8-2d5e-e98b27df1bc7]\n",
      "└ @ Base loading.jl:1260\n",
      "[ Info: Model metadata loaded from registry. \n",
      "┌ Info: Precompiling RDatasets [ce6b1742-4840-55fa-b093-852dadbb1d8b]\n",
      "└ @ Base loading.jl:1260\n"
     ]
    }
   ],
   "source": [
    "using MLJ\n",
    "import RDatasets:dataset\n",
    "import DataFrames:DataFrame, select ,Not ,describe\n",
    "using Random"
   ]
  },
  {
   "cell_type": "code",
   "execution_count": 5,
   "metadata": {},
   "outputs": [
    {
     "data": {
      "text/html": [
       "<table class=\"data-frame\"><thead><tr><th></th><th>State</th><th>Murder</th><th>Assault</th><th>UrbanPop</th><th>Rape</th></tr><tr><th></th><th>String</th><th>Float64</th><th>Int64</th><th>Int64</th><th>Float64</th></tr></thead><tbody><p>50 rows × 5 columns</p><tr><th>1</th><td>Alabama</td><td>13.2</td><td>236</td><td>58</td><td>21.2</td></tr><tr><th>2</th><td>Alaska</td><td>10.0</td><td>263</td><td>48</td><td>44.5</td></tr><tr><th>3</th><td>Arizona</td><td>8.1</td><td>294</td><td>80</td><td>31.0</td></tr><tr><th>4</th><td>Arkansas</td><td>8.8</td><td>190</td><td>50</td><td>19.5</td></tr><tr><th>5</th><td>California</td><td>9.0</td><td>276</td><td>91</td><td>40.6</td></tr><tr><th>6</th><td>Colorado</td><td>7.9</td><td>204</td><td>78</td><td>38.7</td></tr><tr><th>7</th><td>Connecticut</td><td>3.3</td><td>110</td><td>77</td><td>11.1</td></tr><tr><th>8</th><td>Delaware</td><td>5.9</td><td>238</td><td>72</td><td>15.8</td></tr><tr><th>9</th><td>Florida</td><td>15.4</td><td>335</td><td>80</td><td>31.9</td></tr><tr><th>10</th><td>Georgia</td><td>17.4</td><td>211</td><td>60</td><td>25.8</td></tr><tr><th>11</th><td>Hawaii</td><td>5.3</td><td>46</td><td>83</td><td>20.2</td></tr><tr><th>12</th><td>Idaho</td><td>2.6</td><td>120</td><td>54</td><td>14.2</td></tr><tr><th>13</th><td>Illinois</td><td>10.4</td><td>249</td><td>83</td><td>24.0</td></tr><tr><th>14</th><td>Indiana</td><td>7.2</td><td>113</td><td>65</td><td>21.0</td></tr><tr><th>15</th><td>Iowa</td><td>2.2</td><td>56</td><td>57</td><td>11.3</td></tr><tr><th>16</th><td>Kansas</td><td>6.0</td><td>115</td><td>66</td><td>18.0</td></tr><tr><th>17</th><td>Kentucky</td><td>9.7</td><td>109</td><td>52</td><td>16.3</td></tr><tr><th>18</th><td>Louisiana</td><td>15.4</td><td>249</td><td>66</td><td>22.2</td></tr><tr><th>19</th><td>Maine</td><td>2.1</td><td>83</td><td>51</td><td>7.8</td></tr><tr><th>20</th><td>Maryland</td><td>11.3</td><td>300</td><td>67</td><td>27.8</td></tr><tr><th>21</th><td>Massachusetts</td><td>4.4</td><td>149</td><td>85</td><td>16.3</td></tr><tr><th>22</th><td>Michigan</td><td>12.1</td><td>255</td><td>74</td><td>35.1</td></tr><tr><th>23</th><td>Minnesota</td><td>2.7</td><td>72</td><td>66</td><td>14.9</td></tr><tr><th>24</th><td>Mississippi</td><td>16.1</td><td>259</td><td>44</td><td>17.1</td></tr><tr><th>25</th><td>Missouri</td><td>9.0</td><td>178</td><td>70</td><td>28.2</td></tr><tr><th>26</th><td>Montana</td><td>6.0</td><td>109</td><td>53</td><td>16.4</td></tr><tr><th>27</th><td>Nebraska</td><td>4.3</td><td>102</td><td>62</td><td>16.5</td></tr><tr><th>28</th><td>Nevada</td><td>12.2</td><td>252</td><td>81</td><td>46.0</td></tr><tr><th>29</th><td>New Hampshire</td><td>2.1</td><td>57</td><td>56</td><td>9.5</td></tr><tr><th>30</th><td>New Jersey</td><td>7.4</td><td>159</td><td>89</td><td>18.8</td></tr><tr><th>&vellip;</th><td>&vellip;</td><td>&vellip;</td><td>&vellip;</td><td>&vellip;</td><td>&vellip;</td></tr></tbody></table>"
      ],
      "text/latex": [
       "\\begin{tabular}{r|ccccc}\n",
       "\t& State & Murder & Assault & UrbanPop & Rape\\\\\n",
       "\t\\hline\n",
       "\t& String & Float64 & Int64 & Int64 & Float64\\\\\n",
       "\t\\hline\n",
       "\t1 & Alabama & 13.2 & 236 & 58 & 21.2 \\\\\n",
       "\t2 & Alaska & 10.0 & 263 & 48 & 44.5 \\\\\n",
       "\t3 & Arizona & 8.1 & 294 & 80 & 31.0 \\\\\n",
       "\t4 & Arkansas & 8.8 & 190 & 50 & 19.5 \\\\\n",
       "\t5 & California & 9.0 & 276 & 91 & 40.6 \\\\\n",
       "\t6 & Colorado & 7.9 & 204 & 78 & 38.7 \\\\\n",
       "\t7 & Connecticut & 3.3 & 110 & 77 & 11.1 \\\\\n",
       "\t8 & Delaware & 5.9 & 238 & 72 & 15.8 \\\\\n",
       "\t9 & Florida & 15.4 & 335 & 80 & 31.9 \\\\\n",
       "\t10 & Georgia & 17.4 & 211 & 60 & 25.8 \\\\\n",
       "\t11 & Hawaii & 5.3 & 46 & 83 & 20.2 \\\\\n",
       "\t12 & Idaho & 2.6 & 120 & 54 & 14.2 \\\\\n",
       "\t13 & Illinois & 10.4 & 249 & 83 & 24.0 \\\\\n",
       "\t14 & Indiana & 7.2 & 113 & 65 & 21.0 \\\\\n",
       "\t15 & Iowa & 2.2 & 56 & 57 & 11.3 \\\\\n",
       "\t16 & Kansas & 6.0 & 115 & 66 & 18.0 \\\\\n",
       "\t17 & Kentucky & 9.7 & 109 & 52 & 16.3 \\\\\n",
       "\t18 & Louisiana & 15.4 & 249 & 66 & 22.2 \\\\\n",
       "\t19 & Maine & 2.1 & 83 & 51 & 7.8 \\\\\n",
       "\t20 & Maryland & 11.3 & 300 & 67 & 27.8 \\\\\n",
       "\t21 & Massachusetts & 4.4 & 149 & 85 & 16.3 \\\\\n",
       "\t22 & Michigan & 12.1 & 255 & 74 & 35.1 \\\\\n",
       "\t23 & Minnesota & 2.7 & 72 & 66 & 14.9 \\\\\n",
       "\t24 & Mississippi & 16.1 & 259 & 44 & 17.1 \\\\\n",
       "\t25 & Missouri & 9.0 & 178 & 70 & 28.2 \\\\\n",
       "\t26 & Montana & 6.0 & 109 & 53 & 16.4 \\\\\n",
       "\t27 & Nebraska & 4.3 & 102 & 62 & 16.5 \\\\\n",
       "\t28 & Nevada & 12.2 & 252 & 81 & 46.0 \\\\\n",
       "\t29 & New Hampshire & 2.1 & 57 & 56 & 9.5 \\\\\n",
       "\t30 & New Jersey & 7.4 & 159 & 89 & 18.8 \\\\\n",
       "\t$\\dots$ & $\\dots$ & $\\dots$ & $\\dots$ & $\\dots$ & $\\dots$ \\\\\n",
       "\\end{tabular}\n"
      ],
      "text/plain": [
       "50×5 DataFrame\n",
       "│ Row │ State          │ Murder  │ Assault │ UrbanPop │ Rape    │\n",
       "│     │ \u001b[90mString\u001b[39m         │ \u001b[90mFloat64\u001b[39m │ \u001b[90mInt64\u001b[39m   │ \u001b[90mInt64\u001b[39m    │ \u001b[90mFloat64\u001b[39m │\n",
       "├─────┼────────────────┼─────────┼─────────┼──────────┼─────────┤\n",
       "│ 1   │ Alabama        │ 13.2    │ 236     │ 58       │ 21.2    │\n",
       "│ 2   │ Alaska         │ 10.0    │ 263     │ 48       │ 44.5    │\n",
       "│ 3   │ Arizona        │ 8.1     │ 294     │ 80       │ 31.0    │\n",
       "│ 4   │ Arkansas       │ 8.8     │ 190     │ 50       │ 19.5    │\n",
       "│ 5   │ California     │ 9.0     │ 276     │ 91       │ 40.6    │\n",
       "│ 6   │ Colorado       │ 7.9     │ 204     │ 78       │ 38.7    │\n",
       "│ 7   │ Connecticut    │ 3.3     │ 110     │ 77       │ 11.1    │\n",
       "│ 8   │ Delaware       │ 5.9     │ 238     │ 72       │ 15.8    │\n",
       "│ 9   │ Florida        │ 15.4    │ 335     │ 80       │ 31.9    │\n",
       "│ 10  │ Georgia        │ 17.4    │ 211     │ 60       │ 25.8    │\n",
       "⋮\n",
       "│ 40  │ South Carolina │ 14.4    │ 279     │ 48       │ 22.5    │\n",
       "│ 41  │ South Dakota   │ 3.8     │ 86      │ 45       │ 12.8    │\n",
       "│ 42  │ Tennessee      │ 13.2    │ 188     │ 59       │ 26.9    │\n",
       "│ 43  │ Texas          │ 12.7    │ 201     │ 80       │ 25.5    │\n",
       "│ 44  │ Utah           │ 3.2     │ 120     │ 80       │ 22.9    │\n",
       "│ 45  │ Vermont        │ 2.2     │ 48      │ 32       │ 11.2    │\n",
       "│ 46  │ Virginia       │ 8.5     │ 156     │ 63       │ 20.7    │\n",
       "│ 47  │ Washington     │ 4.0     │ 145     │ 73       │ 26.2    │\n",
       "│ 48  │ West Virginia  │ 5.7     │ 81      │ 39       │ 9.3     │\n",
       "│ 49  │ Wisconsin      │ 2.6     │ 53      │ 66       │ 10.8    │\n",
       "│ 50  │ Wyoming        │ 6.8     │ 161     │ 60       │ 15.6    │"
      ]
     },
     "execution_count": 5,
     "metadata": {},
     "output_type": "execute_result"
    }
   ],
   "source": [
    "data = dataset(\"datasets\",\"USArrests\")"
   ]
  },
  {
   "cell_type": "code",
   "execution_count": 6,
   "metadata": {},
   "outputs": [
    {
     "data": {
      "text/html": [
       "<table class=\"data-frame\"><thead><tr><th></th><th>variable</th><th>mean</th><th>std</th></tr><tr><th></th><th>Symbol</th><th>Union…</th><th>Union…</th></tr></thead><tbody><p>5 rows × 3 columns</p><tr><th>1</th><td>State</td><td></td><td></td></tr><tr><th>2</th><td>Murder</td><td>7.788</td><td>4.35551</td></tr><tr><th>3</th><td>Assault</td><td>170.76</td><td>83.3377</td></tr><tr><th>4</th><td>UrbanPop</td><td>65.54</td><td>14.4748</td></tr><tr><th>5</th><td>Rape</td><td>21.232</td><td>9.36638</td></tr></tbody></table>"
      ],
      "text/latex": [
       "\\begin{tabular}{r|ccc}\n",
       "\t& variable & mean & std\\\\\n",
       "\t\\hline\n",
       "\t& Symbol & Union… & Union…\\\\\n",
       "\t\\hline\n",
       "\t1 & State &  &  \\\\\n",
       "\t2 & Murder & 7.788 & 4.35551 \\\\\n",
       "\t3 & Assault & 170.76 & 83.3377 \\\\\n",
       "\t4 & UrbanPop & 65.54 & 14.4748 \\\\\n",
       "\t5 & Rape & 21.232 & 9.36638 \\\\\n",
       "\\end{tabular}\n"
      ],
      "text/plain": [
       "5×3 DataFrame\n",
       "│ Row │ variable │ mean   │ std     │\n",
       "│     │ \u001b[90mSymbol\u001b[39m   │ \u001b[90mUnion…\u001b[39m │ \u001b[90mUnion…\u001b[39m  │\n",
       "├─────┼──────────┼────────┼─────────┤\n",
       "│ 1   │ State    │        │         │\n",
       "│ 2   │ Murder   │ 7.788  │ 4.35551 │\n",
       "│ 3   │ Assault  │ 170.76 │ 83.3377 │\n",
       "│ 4   │ UrbanPop │ 65.54  │ 14.4748 │\n",
       "│ 5   │ Rape     │ 21.232 │ 9.36638 │"
      ]
     },
     "execution_count": 6,
     "metadata": {},
     "output_type": "execute_result"
    }
   ],
   "source": [
    "describe(data  , :mean , :std)"
   ]
  },
  {
   "cell_type": "code",
   "execution_count": 7,
   "metadata": {},
   "outputs": [],
   "source": [
    "X = select(data, Not(:State))\n",
    "X = coerce(X, :UrbanPop=>Continuous, :Assault=>Continuous);"
   ]
  },
  {
   "cell_type": "code",
   "execution_count": 9,
   "metadata": {},
   "outputs": [
    {
     "name": "stderr",
     "output_type": "stream",
     "text": [
      "┌ Info: A model type \"PCA\" is already loaded. \n",
      "│ No new code loaded. \n",
      "└ @ MLJModels C:\\Users\\Rahul\\.julia\\packages\\MLJModels\\R0Y04\\src\\loading.jl:43\n"
     ]
    },
    {
     "data": {
      "text/plain": [
       "\u001b[34mMachine{PCA} @ 1…20\u001b[39m\n"
      ]
     },
     "execution_count": 9,
     "metadata": {},
     "output_type": "execute_result"
    }
   ],
   "source": [
    "@load PCA pkg=MultivariateStats\n",
    "\n",
    "pca = PCA(pratio= 1 )\n",
    "pca = machine(pca,X)\n"
   ]
  },
  {
   "cell_type": "code",
   "execution_count": 10,
   "metadata": {},
   "outputs": [
    {
     "name": "stderr",
     "output_type": "stream",
     "text": [
      "┌ Info: Training \u001b[34mMachine{PCA} @ 1…20\u001b[39m.\n",
      "└ @ MLJBase C:\\Users\\Rahul\\.julia\\packages\\MLJBase\\t7MaX\\src\\machines.jl:179\n"
     ]
    },
    {
     "data": {
      "text/plain": [
       "\u001b[34mMachine{PCA} @ 1…20\u001b[39m\n"
      ]
     },
     "execution_count": 10,
     "metadata": {},
     "output_type": "execute_result"
    }
   ],
   "source": [
    "fit!(pca)"
   ]
  },
  {
   "cell_type": "code",
   "execution_count": 12,
   "metadata": {},
   "outputs": [
    {
     "data": {
      "text/html": [
       "<table class=\"data-frame\"><thead><tr><th></th><th>x1</th><th>x2</th><th>x3</th><th>x4</th></tr><tr><th></th><th>Float64</th><th>Float64</th><th>Float64</th><th>Float64</th></tr></thead><tbody><p>50 rows × 4 columns</p><tr><th>1</th><td>-64.8022</td><td>-11.448</td><td>-2.49493</td><td>2.4079</td></tr><tr><th>2</th><td>-92.8275</td><td>-17.9829</td><td>20.1266</td><td>-4.09405</td></tr><tr><th>3</th><td>-124.068</td><td>8.8304</td><td>-1.68745</td><td>-4.35369</td></tr><tr><th>4</th><td>-18.34</td><td>-16.7039</td><td>0.210189</td><td>-0.520994</td></tr><tr><th>5</th><td>-107.423</td><td>22.5201</td><td>6.74587</td><td>-2.81183</td></tr><tr><th>6</th><td>-34.976</td><td>13.7196</td><td>12.2794</td><td>-1.72146</td></tr><tr><th>7</th><td>60.8873</td><td>12.9325</td><td>-8.42066</td><td>-0.699902</td></tr><tr><th>8</th><td>-66.731</td><td>1.3538</td><td>-11.281</td><td>-3.72798</td></tr><tr><th>9</th><td>-165.244</td><td>6.27469</td><td>-2.99793</td><td>1.24768</td></tr><tr><th>10</th><td>-40.5352</td><td>-7.29024</td><td>3.60953</td><td>7.34367</td></tr><tr><th>11</th><td>123.536</td><td>24.2912</td><td>3.72444</td><td>3.47285</td></tr><tr><th>12</th><td>51.797</td><td>-9.46919</td><td>-1.52006</td><td>-3.34783</td></tr><tr><th>13</th><td>-78.9921</td><td>12.8971</td><td>-5.88326</td><td>0.367641</td></tr><tr><th>14</th><td>57.551</td><td>2.84626</td><td>3.73816</td><td>1.64943</td></tr><tr><th>15</th><td>115.587</td><td>-3.34213</td><td>-0.654029</td><td>-0.869496</td></tr><tr><th>16</th><td>55.7897</td><td>3.15723</td><td>0.384364</td><td>0.652792</td></tr><tr><th>17</th><td>62.3832</td><td>-10.6733</td><td>2.23709</td><td>3.87622</td></tr><tr><th>18</th><td>-78.2776</td><td>-4.29492</td><td>-3.82787</td><td>4.48356</td></tr><tr><th>19</th><td>89.261</td><td>-11.4878</td><td>-4.69241</td><td>-2.1162</td></tr><tr><th>20</th><td>-129.33</td><td>-5.00703</td><td>-2.34717</td><td>-1.92832</td></tr><tr><th>21</th><td>21.2663</td><td>19.4502</td><td>-7.50715</td><td>-1.03482</td></tr><tr><th>22</th><td>-85.4515</td><td>5.90456</td><td>6.46434</td><td>0.499048</td></tr><tr><th>23</th><td>98.9548</td><td>5.2096</td><td>0.00657376</td><td>-0.731896</td></tr><tr><th>24</th><td>-86.8564</td><td>-27.4284</td><td>-5.00344</td><td>3.87976</td></tr><tr><th>25</th><td>-7.98629</td><td>5.27564</td><td>5.50058</td><td>0.679406</td></tr><tr><th>26</th><td>62.4836</td><td>-9.5105</td><td>1.83836</td><td>0.245943</td></tr><tr><th>27</th><td>69.0965</td><td>-0.211196</td><td>0.468021</td><td>-0.656566</td></tr><tr><th>28</th><td>-83.6136</td><td>15.1022</td><td>15.8887</td><td>0.334196</td></tr><tr><th>29</th><td>114.777</td><td>-4.73456</td><td>-2.28239</td><td>-0.935911</td></tr><tr><th>30</th><td>10.8157</td><td>23.1373</td><td>-6.31016</td><td>1.61243</td></tr><tr><th>&vellip;</th><td>&vellip;</td><td>&vellip;</td><td>&vellip;</td><td>&vellip;</td></tr></tbody></table>"
      ],
      "text/latex": [
       "\\begin{tabular}{r|cccc}\n",
       "\t& x1 & x2 & x3 & x4\\\\\n",
       "\t\\hline\n",
       "\t& Float64 & Float64 & Float64 & Float64\\\\\n",
       "\t\\hline\n",
       "\t1 & -64.8022 & -11.448 & -2.49493 & 2.4079 \\\\\n",
       "\t2 & -92.8275 & -17.9829 & 20.1266 & -4.09405 \\\\\n",
       "\t3 & -124.068 & 8.8304 & -1.68745 & -4.35369 \\\\\n",
       "\t4 & -18.34 & -16.7039 & 0.210189 & -0.520994 \\\\\n",
       "\t5 & -107.423 & 22.5201 & 6.74587 & -2.81183 \\\\\n",
       "\t6 & -34.976 & 13.7196 & 12.2794 & -1.72146 \\\\\n",
       "\t7 & 60.8873 & 12.9325 & -8.42066 & -0.699902 \\\\\n",
       "\t8 & -66.731 & 1.3538 & -11.281 & -3.72798 \\\\\n",
       "\t9 & -165.244 & 6.27469 & -2.99793 & 1.24768 \\\\\n",
       "\t10 & -40.5352 & -7.29024 & 3.60953 & 7.34367 \\\\\n",
       "\t11 & 123.536 & 24.2912 & 3.72444 & 3.47285 \\\\\n",
       "\t12 & 51.797 & -9.46919 & -1.52006 & -3.34783 \\\\\n",
       "\t13 & -78.9921 & 12.8971 & -5.88326 & 0.367641 \\\\\n",
       "\t14 & 57.551 & 2.84626 & 3.73816 & 1.64943 \\\\\n",
       "\t15 & 115.587 & -3.34213 & -0.654029 & -0.869496 \\\\\n",
       "\t16 & 55.7897 & 3.15723 & 0.384364 & 0.652792 \\\\\n",
       "\t17 & 62.3832 & -10.6733 & 2.23709 & 3.87622 \\\\\n",
       "\t18 & -78.2776 & -4.29492 & -3.82787 & 4.48356 \\\\\n",
       "\t19 & 89.261 & -11.4878 & -4.69241 & -2.1162 \\\\\n",
       "\t20 & -129.33 & -5.00703 & -2.34717 & -1.92832 \\\\\n",
       "\t21 & 21.2663 & 19.4502 & -7.50715 & -1.03482 \\\\\n",
       "\t22 & -85.4515 & 5.90456 & 6.46434 & 0.499048 \\\\\n",
       "\t23 & 98.9548 & 5.2096 & 0.00657376 & -0.731896 \\\\\n",
       "\t24 & -86.8564 & -27.4284 & -5.00344 & 3.87976 \\\\\n",
       "\t25 & -7.98629 & 5.27564 & 5.50058 & 0.679406 \\\\\n",
       "\t26 & 62.4836 & -9.5105 & 1.83836 & 0.245943 \\\\\n",
       "\t27 & 69.0965 & -0.211196 & 0.468021 & -0.656566 \\\\\n",
       "\t28 & -83.6136 & 15.1022 & 15.8887 & 0.334196 \\\\\n",
       "\t29 & 114.777 & -4.73456 & -2.28239 & -0.935911 \\\\\n",
       "\t30 & 10.8157 & 23.1373 & -6.31016 & 1.61243 \\\\\n",
       "\t$\\dots$ & $\\dots$ & $\\dots$ & $\\dots$ & $\\dots$ \\\\\n",
       "\\end{tabular}\n"
      ],
      "text/plain": [
       "50×4 DataFrame\n",
       "│ Row │ x1       │ x2       │ x3        │ x4        │\n",
       "│     │ \u001b[90mFloat64\u001b[39m  │ \u001b[90mFloat64\u001b[39m  │ \u001b[90mFloat64\u001b[39m   │ \u001b[90mFloat64\u001b[39m   │\n",
       "├─────┼──────────┼──────────┼───────────┼───────────┤\n",
       "│ 1   │ -64.8022 │ -11.448  │ -2.49493  │ 2.4079    │\n",
       "│ 2   │ -92.8275 │ -17.9829 │ 20.1266   │ -4.09405  │\n",
       "│ 3   │ -124.068 │ 8.8304   │ -1.68745  │ -4.35369  │\n",
       "│ 4   │ -18.34   │ -16.7039 │ 0.210189  │ -0.520994 │\n",
       "│ 5   │ -107.423 │ 22.5201  │ 6.74587   │ -2.81183  │\n",
       "│ 6   │ -34.976  │ 13.7196  │ 12.2794   │ -1.72146  │\n",
       "│ 7   │ 60.8873  │ 12.9325  │ -8.42066  │ -0.699902 │\n",
       "│ 8   │ -66.731  │ 1.3538   │ -11.281   │ -3.72798  │\n",
       "│ 9   │ -165.244 │ 6.27469  │ -2.99793  │ 1.24768   │\n",
       "│ 10  │ -40.5352 │ -7.29024 │ 3.60953   │ 7.34367   │\n",
       "⋮\n",
       "│ 40  │ -107.281 │ -23.5361 │ -2.0328   │ 1.25175   │\n",
       "│ 41  │ 86.1067  │ -16.5979 │ 1.31438   │ -1.25229  │\n",
       "│ 42  │ -17.5063 │ -6.50658 │ 6.10013   │ 3.92286   │\n",
       "│ 43  │ -31.2911 │ 12.985   │ -0.393409 │ 4.242     │\n",
       "│ 44  │ 49.9134  │ 17.6485  │ 1.78817   │ -1.86771  │\n",
       "│ 45  │ 124.714  │ -27.3136 │ 4.80278   │ -2.00499  │\n",
       "│ 46  │ 14.8174  │ -1.75262 │ 1.04539   │ 1.17384   │\n",
       "│ 47  │ 25.0758  │ 9.96797  │ 4.78113   │ -2.69108  │\n",
       "│ 48  │ 91.5446  │ -22.9529 │ -0.401983 │ 0.736878  │\n",
       "│ 49  │ 118.176  │ 5.50758  │ -2.71132  │ 0.204972  │\n",
       "│ 50  │ 10.4345  │ -5.92445 │ -3.79445  │ -0.517867 │"
      ]
     },
     "execution_count": 12,
     "metadata": {},
     "output_type": "execute_result"
    }
   ],
   "source": [
    "W = transform(pca,X)"
   ]
  },
  {
   "cell_type": "code",
   "execution_count": 13,
   "metadata": {},
   "outputs": [
    {
     "data": {
      "text/plain": [
       "(:x1, :x2, :x3, :x4)"
      ]
     },
     "execution_count": 13,
     "metadata": {},
     "output_type": "execute_result"
    }
   ],
   "source": [
    "schema(W).names"
   ]
  },
  {
   "cell_type": "code",
   "execution_count": 14,
   "metadata": {},
   "outputs": [
    {
     "data": {
      "text/plain": [
       "4-element Array{Float64,1}:\n",
       " 0.9655342205668823\n",
       " 0.9933515571990573\n",
       " 0.9991510921213993\n",
       " 1.0"
      ]
     },
     "execution_count": 14,
     "metadata": {},
     "output_type": "execute_result"
    }
   ],
   "source": [
    "r = report(pca)\n",
    "cumsum(r.principalvars ./ r.tvar)"
   ]
  },
  {
   "cell_type": "code",
   "execution_count": 15,
   "metadata": {},
   "outputs": [
    {
     "data": {
      "text/html": [
       "<table class=\"data-frame\"><thead><tr><th></th><th>Purchase</th><th>WeekofPurchase</th><th>StoreID</th><th>PriceCH</th><th>PriceMM</th><th>DiscCH</th><th>DiscMM</th><th>SpecialCH</th></tr><tr><th></th><th>Categorical…</th><th>Float64</th><th>Float64</th><th>Float64</th><th>Float64</th><th>Float64</th><th>Float64</th><th>Float64</th></tr></thead><tbody><p>1,070 rows × 18 columns (omitted printing of 10 columns)</p><tr><th>1</th><td>CH</td><td>237.0</td><td>1.0</td><td>1.75</td><td>1.99</td><td>0.0</td><td>0.0</td><td>0.0</td></tr><tr><th>2</th><td>CH</td><td>239.0</td><td>1.0</td><td>1.75</td><td>1.99</td><td>0.0</td><td>0.3</td><td>0.0</td></tr><tr><th>3</th><td>CH</td><td>245.0</td><td>1.0</td><td>1.86</td><td>2.09</td><td>0.17</td><td>0.0</td><td>0.0</td></tr><tr><th>4</th><td>MM</td><td>227.0</td><td>1.0</td><td>1.69</td><td>1.69</td><td>0.0</td><td>0.0</td><td>0.0</td></tr><tr><th>5</th><td>CH</td><td>228.0</td><td>7.0</td><td>1.69</td><td>1.69</td><td>0.0</td><td>0.0</td><td>0.0</td></tr><tr><th>6</th><td>CH</td><td>230.0</td><td>7.0</td><td>1.69</td><td>1.99</td><td>0.0</td><td>0.0</td><td>0.0</td></tr><tr><th>7</th><td>CH</td><td>232.0</td><td>7.0</td><td>1.69</td><td>1.99</td><td>0.0</td><td>0.4</td><td>1.0</td></tr><tr><th>8</th><td>CH</td><td>234.0</td><td>7.0</td><td>1.75</td><td>1.99</td><td>0.0</td><td>0.4</td><td>1.0</td></tr><tr><th>9</th><td>CH</td><td>235.0</td><td>7.0</td><td>1.75</td><td>1.99</td><td>0.0</td><td>0.4</td><td>0.0</td></tr><tr><th>10</th><td>CH</td><td>238.0</td><td>7.0</td><td>1.75</td><td>1.99</td><td>0.0</td><td>0.4</td><td>0.0</td></tr><tr><th>11</th><td>CH</td><td>240.0</td><td>7.0</td><td>1.86</td><td>2.09</td><td>0.0</td><td>0.0</td><td>0.0</td></tr><tr><th>12</th><td>CH</td><td>263.0</td><td>7.0</td><td>1.86</td><td>2.13</td><td>0.27</td><td>0.0</td><td>0.0</td></tr><tr><th>13</th><td>CH</td><td>276.0</td><td>7.0</td><td>1.99</td><td>2.13</td><td>0.0</td><td>0.54</td><td>0.0</td></tr><tr><th>14</th><td>CH</td><td>268.0</td><td>7.0</td><td>1.86</td><td>2.13</td><td>0.0</td><td>0.0</td><td>0.0</td></tr><tr><th>15</th><td>CH</td><td>278.0</td><td>7.0</td><td>2.06</td><td>2.13</td><td>0.0</td><td>0.0</td><td>0.0</td></tr><tr><th>16</th><td>CH</td><td>278.0</td><td>7.0</td><td>2.06</td><td>2.13</td><td>0.0</td><td>0.0</td><td>0.0</td></tr><tr><th>17</th><td>MM</td><td>240.0</td><td>1.0</td><td>1.75</td><td>1.99</td><td>0.0</td><td>0.3</td><td>0.0</td></tr><tr><th>18</th><td>MM</td><td>268.0</td><td>2.0</td><td>1.86</td><td>2.18</td><td>0.0</td><td>0.0</td><td>0.0</td></tr><tr><th>19</th><td>MM</td><td>269.0</td><td>2.0</td><td>1.86</td><td>2.18</td><td>0.0</td><td>0.0</td><td>0.0</td></tr><tr><th>20</th><td>CH</td><td>254.0</td><td>7.0</td><td>1.86</td><td>2.18</td><td>0.0</td><td>0.0</td><td>0.0</td></tr><tr><th>21</th><td>CH</td><td>257.0</td><td>7.0</td><td>1.86</td><td>2.18</td><td>0.0</td><td>0.0</td><td>0.0</td></tr><tr><th>22</th><td>CH</td><td>258.0</td><td>1.0</td><td>1.76</td><td>2.18</td><td>0.0</td><td>0.0</td><td>0.0</td></tr><tr><th>23</th><td>CH</td><td>259.0</td><td>7.0</td><td>1.86</td><td>2.18</td><td>0.0</td><td>0.0</td><td>0.0</td></tr><tr><th>24</th><td>CH</td><td>264.0</td><td>7.0</td><td>1.86</td><td>2.13</td><td>0.37</td><td>0.0</td><td>1.0</td></tr><tr><th>25</th><td>CH</td><td>268.0</td><td>7.0</td><td>1.86</td><td>2.13</td><td>0.0</td><td>0.0</td><td>0.0</td></tr><tr><th>26</th><td>CH</td><td>269.0</td><td>7.0</td><td>1.86</td><td>2.13</td><td>0.27</td><td>0.0</td><td>1.0</td></tr><tr><th>27</th><td>CH</td><td>271.0</td><td>7.0</td><td>1.86</td><td>2.13</td><td>0.0</td><td>0.0</td><td>0.0</td></tr><tr><th>28</th><td>CH</td><td>272.0</td><td>7.0</td><td>1.86</td><td>2.13</td><td>0.0</td><td>0.0</td><td>0.0</td></tr><tr><th>29</th><td>CH</td><td>274.0</td><td>7.0</td><td>1.86</td><td>2.13</td><td>0.47</td><td>0.54</td><td>1.0</td></tr><tr><th>30</th><td>CH</td><td>278.0</td><td>7.0</td><td>2.06</td><td>2.13</td><td>0.0</td><td>0.0</td><td>0.0</td></tr><tr><th>&vellip;</th><td>&vellip;</td><td>&vellip;</td><td>&vellip;</td><td>&vellip;</td><td>&vellip;</td><td>&vellip;</td><td>&vellip;</td><td>&vellip;</td></tr></tbody></table>"
      ],
      "text/latex": [
       "\\begin{tabular}{r|ccccccccc}\n",
       "\t& Purchase & WeekofPurchase & StoreID & PriceCH & PriceMM & DiscCH & DiscMM & SpecialCH & \\\\\n",
       "\t\\hline\n",
       "\t& Categorical… & Float64 & Float64 & Float64 & Float64 & Float64 & Float64 & Float64 & \\\\\n",
       "\t\\hline\n",
       "\t1 & CH & 237.0 & 1.0 & 1.75 & 1.99 & 0.0 & 0.0 & 0.0 & $\\dots$ \\\\\n",
       "\t2 & CH & 239.0 & 1.0 & 1.75 & 1.99 & 0.0 & 0.3 & 0.0 & $\\dots$ \\\\\n",
       "\t3 & CH & 245.0 & 1.0 & 1.86 & 2.09 & 0.17 & 0.0 & 0.0 & $\\dots$ \\\\\n",
       "\t4 & MM & 227.0 & 1.0 & 1.69 & 1.69 & 0.0 & 0.0 & 0.0 & $\\dots$ \\\\\n",
       "\t5 & CH & 228.0 & 7.0 & 1.69 & 1.69 & 0.0 & 0.0 & 0.0 & $\\dots$ \\\\\n",
       "\t6 & CH & 230.0 & 7.0 & 1.69 & 1.99 & 0.0 & 0.0 & 0.0 & $\\dots$ \\\\\n",
       "\t7 & CH & 232.0 & 7.0 & 1.69 & 1.99 & 0.0 & 0.4 & 1.0 & $\\dots$ \\\\\n",
       "\t8 & CH & 234.0 & 7.0 & 1.75 & 1.99 & 0.0 & 0.4 & 1.0 & $\\dots$ \\\\\n",
       "\t9 & CH & 235.0 & 7.0 & 1.75 & 1.99 & 0.0 & 0.4 & 0.0 & $\\dots$ \\\\\n",
       "\t10 & CH & 238.0 & 7.0 & 1.75 & 1.99 & 0.0 & 0.4 & 0.0 & $\\dots$ \\\\\n",
       "\t11 & CH & 240.0 & 7.0 & 1.86 & 2.09 & 0.0 & 0.0 & 0.0 & $\\dots$ \\\\\n",
       "\t12 & CH & 263.0 & 7.0 & 1.86 & 2.13 & 0.27 & 0.0 & 0.0 & $\\dots$ \\\\\n",
       "\t13 & CH & 276.0 & 7.0 & 1.99 & 2.13 & 0.0 & 0.54 & 0.0 & $\\dots$ \\\\\n",
       "\t14 & CH & 268.0 & 7.0 & 1.86 & 2.13 & 0.0 & 0.0 & 0.0 & $\\dots$ \\\\\n",
       "\t15 & CH & 278.0 & 7.0 & 2.06 & 2.13 & 0.0 & 0.0 & 0.0 & $\\dots$ \\\\\n",
       "\t16 & CH & 278.0 & 7.0 & 2.06 & 2.13 & 0.0 & 0.0 & 0.0 & $\\dots$ \\\\\n",
       "\t17 & MM & 240.0 & 1.0 & 1.75 & 1.99 & 0.0 & 0.3 & 0.0 & $\\dots$ \\\\\n",
       "\t18 & MM & 268.0 & 2.0 & 1.86 & 2.18 & 0.0 & 0.0 & 0.0 & $\\dots$ \\\\\n",
       "\t19 & MM & 269.0 & 2.0 & 1.86 & 2.18 & 0.0 & 0.0 & 0.0 & $\\dots$ \\\\\n",
       "\t20 & CH & 254.0 & 7.0 & 1.86 & 2.18 & 0.0 & 0.0 & 0.0 & $\\dots$ \\\\\n",
       "\t21 & CH & 257.0 & 7.0 & 1.86 & 2.18 & 0.0 & 0.0 & 0.0 & $\\dots$ \\\\\n",
       "\t22 & CH & 258.0 & 1.0 & 1.76 & 2.18 & 0.0 & 0.0 & 0.0 & $\\dots$ \\\\\n",
       "\t23 & CH & 259.0 & 7.0 & 1.86 & 2.18 & 0.0 & 0.0 & 0.0 & $\\dots$ \\\\\n",
       "\t24 & CH & 264.0 & 7.0 & 1.86 & 2.13 & 0.37 & 0.0 & 1.0 & $\\dots$ \\\\\n",
       "\t25 & CH & 268.0 & 7.0 & 1.86 & 2.13 & 0.0 & 0.0 & 0.0 & $\\dots$ \\\\\n",
       "\t26 & CH & 269.0 & 7.0 & 1.86 & 2.13 & 0.27 & 0.0 & 1.0 & $\\dots$ \\\\\n",
       "\t27 & CH & 271.0 & 7.0 & 1.86 & 2.13 & 0.0 & 0.0 & 0.0 & $\\dots$ \\\\\n",
       "\t28 & CH & 272.0 & 7.0 & 1.86 & 2.13 & 0.0 & 0.0 & 0.0 & $\\dots$ \\\\\n",
       "\t29 & CH & 274.0 & 7.0 & 1.86 & 2.13 & 0.47 & 0.54 & 1.0 & $\\dots$ \\\\\n",
       "\t30 & CH & 278.0 & 7.0 & 2.06 & 2.13 & 0.0 & 0.0 & 0.0 & $\\dots$ \\\\\n",
       "\t$\\dots$ & $\\dots$ & $\\dots$ & $\\dots$ & $\\dots$ & $\\dots$ & $\\dots$ & $\\dots$ & $\\dots$ &  \\\\\n",
       "\\end{tabular}\n"
      ],
      "text/plain": [
       "1070×18 DataFrame. Omitted printing of 12 columns\n",
       "│ Row  │ Purchase     │ WeekofPurchase │ StoreID │ PriceCH │ PriceMM │ DiscCH  │\n",
       "│      │ \u001b[90mCategorical…\u001b[39m │ \u001b[90mFloat64\u001b[39m        │ \u001b[90mFloat64\u001b[39m │ \u001b[90mFloat64\u001b[39m │ \u001b[90mFloat64\u001b[39m │ \u001b[90mFloat64\u001b[39m │\n",
       "├──────┼──────────────┼────────────────┼─────────┼─────────┼─────────┼─────────┤\n",
       "│ 1    │ CH           │ 237.0          │ 1.0     │ 1.75    │ 1.99    │ 0.0     │\n",
       "│ 2    │ CH           │ 239.0          │ 1.0     │ 1.75    │ 1.99    │ 0.0     │\n",
       "│ 3    │ CH           │ 245.0          │ 1.0     │ 1.86    │ 2.09    │ 0.17    │\n",
       "│ 4    │ MM           │ 227.0          │ 1.0     │ 1.69    │ 1.69    │ 0.0     │\n",
       "│ 5    │ CH           │ 228.0          │ 7.0     │ 1.69    │ 1.69    │ 0.0     │\n",
       "│ 6    │ CH           │ 230.0          │ 7.0     │ 1.69    │ 1.99    │ 0.0     │\n",
       "│ 7    │ CH           │ 232.0          │ 7.0     │ 1.69    │ 1.99    │ 0.0     │\n",
       "│ 8    │ CH           │ 234.0          │ 7.0     │ 1.75    │ 1.99    │ 0.0     │\n",
       "│ 9    │ CH           │ 235.0          │ 7.0     │ 1.75    │ 1.99    │ 0.0     │\n",
       "│ 10   │ CH           │ 238.0          │ 7.0     │ 1.75    │ 1.99    │ 0.0     │\n",
       "⋮\n",
       "│ 1060 │ CH           │ 235.0          │ 1.0     │ 1.69    │ 1.99    │ 0.0     │\n",
       "│ 1061 │ MM           │ 236.0          │ 1.0     │ 1.75    │ 1.99    │ 0.0     │\n",
       "│ 1062 │ MM           │ 242.0          │ 1.0     │ 1.86    │ 1.99    │ 0.0     │\n",
       "│ 1063 │ MM           │ 245.0          │ 7.0     │ 1.86    │ 2.09    │ 0.0     │\n",
       "│ 1064 │ CH           │ 251.0          │ 1.0     │ 1.76    │ 2.09    │ 0.0     │\n",
       "│ 1065 │ CH           │ 251.0          │ 7.0     │ 1.86    │ 2.09    │ 0.1     │\n",
       "│ 1066 │ CH           │ 252.0          │ 7.0     │ 1.86    │ 2.09    │ 0.1     │\n",
       "│ 1067 │ CH           │ 256.0          │ 7.0     │ 1.86    │ 2.18    │ 0.0     │\n",
       "│ 1068 │ MM           │ 257.0          │ 7.0     │ 1.86    │ 2.18    │ 0.0     │\n",
       "│ 1069 │ CH           │ 261.0          │ 7.0     │ 1.86    │ 2.13    │ 0.0     │\n",
       "│ 1070 │ CH           │ 270.0          │ 1.0     │ 1.86    │ 2.18    │ 0.0     │"
      ]
     },
     "execution_count": 15,
     "metadata": {},
     "output_type": "execute_result"
    }
   ],
   "source": [
    "data = dataset(\"ISLR\",\"OJ\")"
   ]
  },
  {
   "cell_type": "code",
   "execution_count": 16,
   "metadata": {},
   "outputs": [],
   "source": [
    "\n",
    "X = select(data, [:PriceCH, :PriceMM, :DiscCH, :DiscMM, :SalePriceMM,\n",
    "                  :SalePriceCH, :PriceDiff, :PctDiscMM, :PctDiscCH]);"
   ]
  },
  {
   "cell_type": "code",
   "execution_count": 19,
   "metadata": {},
   "outputs": [
    {
     "name": "stderr",
     "output_type": "stream",
     "text": [
      "┌ Info: Training \u001b[34mMachine{PCA} @ 6…24\u001b[39m.\n",
      "└ @ MLJBase C:\\Users\\Rahul\\.julia\\packages\\MLJBase\\t7MaX\\src\\machines.jl:179\n"
     ]
    },
    {
     "data": {
      "text/plain": [
       "4-element Array{Symbol,1}:\n",
       " :x1\n",
       " :x2\n",
       " :x3\n",
       " :x4"
      ]
     },
     "execution_count": 19,
     "metadata": {},
     "output_type": "execute_result"
    }
   ],
   "source": [
    "Random.seed!(1515)\n",
    "\n",
    "SPCA = PCA(pratio=1-1e-4)\n",
    "\n",
    "spca = machine(SPCA, X)\n",
    "fit!(spca)\n",
    "W = transform(spca, X)\n",
    "names(W)"
   ]
  },
  {
   "cell_type": "code",
   "execution_count": 21,
   "metadata": {},
   "outputs": [
    {
     "ename": "ErrorException",
     "evalue": "type NamedTuple has no field report_given_machine",
     "output_type": "error",
     "traceback": [
      "type NamedTuple has no field report_given_machine",
      "",
      "Stacktrace:",
      " [1] getproperty(::NamedTuple{(:indim, :outdim, :mean, :principalvars, :tprincipalvar, :tresidualvar, :tvar),Tuple{Int64,Int64,Array{Float64,1},Array{Float64,1},Float64,Float64,Float64}}, ::Symbol) at .\\Base.jl:33",
      " [2] top-level scope at In[21]:1"
     ]
    }
   ],
   "source": [
    "rpca = collect(values(report(spca).report_given_machine))[2]\n",
    "cs = cumsum(rpca.principalvars ./ rpca.tvar)"
   ]
  },
  {
   "cell_type": "code",
   "execution_count": 22,
   "metadata": {},
   "outputs": [
    {
     "ename": "UndefVarError",
     "evalue": "UndefVarError: cs not defined",
     "output_type": "error",
     "traceback": [
      "UndefVarError: cs not defined",
      "",
      "Stacktrace:",
      " [1] top-level scope at In[22]:4"
     ]
    }
   ],
   "source": [
    "using PyPlot\n",
    "\n",
    "figure(figsize=(8,6))\n",
    "\n",
    "bar(1:length(cs), cs)\n",
    "plot(1:length(cs), cs, color=\"red\", marker=\"o\")\n",
    "\n",
    "xlabel(\"Number of PCA features\", fontsize=14)\n",
    "ylabel(\"Ratio of explained variance\", fontsize=14)"
   ]
  },
  {
   "cell_type": "code",
   "execution_count": null,
   "metadata": {},
   "outputs": [],
   "source": []
  }
 ],
 "metadata": {
  "kernelspec": {
   "display_name": "Julia 1.4.1",
   "language": "julia",
   "name": "julia-1.4"
  },
  "language_info": {
   "file_extension": ".jl",
   "mimetype": "application/julia",
   "name": "julia",
   "version": "1.4.1"
  }
 },
 "nbformat": 4,
 "nbformat_minor": 4
}
