{
 "cells": [
  {
   "cell_type": "code",
   "execution_count": 15,
   "metadata": {},
   "outputs": [
    {
     "name": "stderr",
     "output_type": "stream",
     "text": [
      "┌ Info: A model type \"LinearRegressor\" is already loaded. \n",
      "│ No new code loaded. \n",
      "└ @ MLJModels C:\\Users\\Rahul\\.julia\\packages\\MLJModels\\R0Y04\\src\\loading.jl:43\n",
      "┌ Info: A model type \"LinearBinaryClassifier\" is already loaded. \n",
      "│ No new code loaded. \n",
      "└ @ MLJModels C:\\Users\\Rahul\\.julia\\packages\\MLJModels\\R0Y04\\src\\loading.jl:43\n"
     ]
    },
    {
     "data": {
      "text/plain": [
       "LinearBinaryClassifier(\n",
       "    fit_intercept = true,\n",
       "    link = GLM.LogitLink())\u001b[34m @ 1…48\u001b[39m"
      ]
     },
     "execution_count": 15,
     "metadata": {},
     "output_type": "execute_result"
    }
   ],
   "source": [
    "using  CategoricalArrays, PrettyPrinting\n",
    "import DataFrames: DataFrame, nrow\n",
    "using UrlDownload\n",
    "@load LinearRegressor pkg = GLM\n",
    "@load LinearBinaryClassifier pkg=GLM"
   ]
  },
  {
   "cell_type": "code",
   "execution_count": 30,
   "metadata": {},
   "outputs": [],
   "source": [
    "using MLBase"
   ]
  },
  {
   "cell_type": "code",
   "execution_count": 16,
   "metadata": {},
   "outputs": [],
   "source": [
    "using MLJ:coerce"
   ]
  },
  {
   "cell_type": "code",
   "execution_count": 2,
   "metadata": {},
   "outputs": [],
   "source": [
    "baseurl = \"https://raw.githubusercontent.com/tlienart/DataScienceTutorialsData.jl/master/data/glm/\"\n",
    "\n",
    "dfX = DataFrame(urldownload(baseurl * \"X3.csv\"))\n",
    "dfYbinary = DataFrame(urldownload(baseurl * \"Y3.csv\"))\n",
    "dfX1 = DataFrame(urldownload(baseurl * \"X1.csv\"))\n",
    "dfY1 = DataFrame(urldownload(baseurl * \"Y1.csv\"));"
   ]
  },
  {
   "cell_type": "code",
   "execution_count": 3,
   "metadata": {},
   "outputs": [
    {
     "data": {
      "text/html": [
       "<table class=\"data-frame\"><thead><tr><th></th><th>gender</th><th>ethnicity</th><th>score</th><th>fcollege</th><th>mcollege</th><th>home</th><th>urban</th><th>unemp</th><th>wage</th></tr><tr><th></th><th>String</th><th>String</th><th>Float64</th><th>String</th><th>String</th><th>String</th><th>String</th><th>Float64</th><th>Float64</th></tr></thead><tbody><p>3 rows × 12 columns (omitted printing of 3 columns)</p><tr><th>1</th><td>male</td><td>other</td><td>39.15</td><td>yes</td><td>no</td><td>yes</td><td>yes</td><td>6.2</td><td>8.09</td></tr><tr><th>2</th><td>female</td><td>other</td><td>48.87</td><td>no</td><td>no</td><td>yes</td><td>yes</td><td>6.2</td><td>8.09</td></tr><tr><th>3</th><td>male</td><td>other</td><td>48.74</td><td>no</td><td>no</td><td>yes</td><td>yes</td><td>6.2</td><td>8.09</td></tr></tbody></table>"
      ],
      "text/latex": [
       "\\begin{tabular}{r|cccccccccc}\n",
       "\t& gender & ethnicity & score & fcollege & mcollege & home & urban & unemp & wage & \\\\\n",
       "\t\\hline\n",
       "\t& String & String & Float64 & String & String & String & String & Float64 & Float64 & \\\\\n",
       "\t\\hline\n",
       "\t1 & male & other & 39.15 & yes & no & yes & yes & 6.2 & 8.09 & $\\dots$ \\\\\n",
       "\t2 & female & other & 48.87 & no & no & yes & yes & 6.2 & 8.09 & $\\dots$ \\\\\n",
       "\t3 & male & other & 48.74 & no & no & yes & yes & 6.2 & 8.09 & $\\dots$ \\\\\n",
       "\\end{tabular}\n"
      ],
      "text/plain": [
       "3×12 DataFrame. Omitted printing of 5 columns\n",
       "│ Row │ gender │ ethnicity │ score   │ fcollege │ mcollege │ home   │ urban  │\n",
       "│     │ \u001b[90mString\u001b[39m │ \u001b[90mString\u001b[39m    │ \u001b[90mFloat64\u001b[39m │ \u001b[90mString\u001b[39m   │ \u001b[90mString\u001b[39m   │ \u001b[90mString\u001b[39m │ \u001b[90mString\u001b[39m │\n",
       "├─────┼────────┼───────────┼─────────┼──────────┼──────────┼────────┼────────┤\n",
       "│ 1   │ male   │ other     │ 39.15   │ yes      │ no       │ yes    │ yes    │\n",
       "│ 2   │ female │ other     │ 48.87   │ no       │ no       │ yes    │ yes    │\n",
       "│ 3   │ male   │ other     │ 48.74   │ no       │ no       │ yes    │ yes    │"
      ]
     },
     "execution_count": 3,
     "metadata": {},
     "output_type": "execute_result"
    }
   ],
   "source": [
    "first(dfX, 3)"
   ]
  },
  {
   "cell_type": "code",
   "execution_count": 4,
   "metadata": {},
   "outputs": [
    {
     "data": {
      "text/html": [
       "<table class=\"data-frame\"><thead><tr><th></th><th>Y</th></tr><tr><th></th><th>Float64</th></tr></thead><tbody><p>3 rows × 1 columns</p><tr><th>1</th><td>-2.04463</td></tr><tr><th>2</th><td>-0.461529</td></tr><tr><th>3</th><td>0.458262</td></tr></tbody></table>"
      ],
      "text/latex": [
       "\\begin{tabular}{r|c}\n",
       "\t& Y\\\\\n",
       "\t\\hline\n",
       "\t& Float64\\\\\n",
       "\t\\hline\n",
       "\t1 & -2.04463 \\\\\n",
       "\t2 & -0.461529 \\\\\n",
       "\t3 & 0.458262 \\\\\n",
       "\\end{tabular}\n"
      ],
      "text/plain": [
       "3×1 DataFrame\n",
       "│ Row │ Y         │\n",
       "│     │ \u001b[90mFloat64\u001b[39m   │\n",
       "├─────┼───────────┤\n",
       "│ 1   │ -2.04463  │\n",
       "│ 2   │ -0.461529 │\n",
       "│ 3   │ 0.458262  │"
      ]
     },
     "execution_count": 4,
     "metadata": {},
     "output_type": "execute_result"
    }
   ],
   "source": [
    "first(dfY1, 3)"
   ]
  },
  {
   "cell_type": "code",
   "execution_count": 20,
   "metadata": {},
   "outputs": [
    {
     "data": {
      "text/plain": [
       "4000-element Array{Float64,1}:\n",
       " -2.0446341129015\n",
       " -0.461528671336098\n",
       "  0.458261960749596\n",
       "  2.2746223981481\n",
       " -0.969887403007307\n",
       "  0.64916364886744\n",
       " -0.371084494846585\n",
       "  2.06408520197981\n",
       "  1.74156587471207\n",
       "  0.347420662025895\n",
       " -0.0143198962537591\n",
       " -0.681539212794891\n",
       "  1.02898652992339\n",
       "  ⋮\n",
       " -2.71564254959698\n",
       "  0.164744041920347\n",
       "  0.147511722750512\n",
       " -0.733499942056484\n",
       "  0.512660907179925\n",
       "  2.1871879603295\n",
       "  2.02010495799927\n",
       " -1.86067052751712\n",
       "  0.42837916735719\n",
       " -2.49517823001139\n",
       " -3.77547390285833\n",
       " -2.74643660568483"
      ]
     },
     "execution_count": 20,
     "metadata": {},
     "output_type": "execute_result"
    }
   ],
   "source": [
    "X = copy(dfX1)\n",
    "y = copy(dfY1)\n",
    "\n",
    "X1=coerce(X, autotype(X, :string_to_multiclass))\n",
    "yv = Vector(y[:, 1])"
   ]
  },
  {
   "cell_type": "code",
   "execution_count": 35,
   "metadata": {},
   "outputs": [
    {
     "data": {
      "text/plain": [
       "LinearRegressor(\n",
       "    fit_intercept = true,\n",
       "    allowrankdeficient = false)\u001b[34m @ 1…53\u001b[39m"
      ]
     },
     "execution_count": 35,
     "metadata": {},
     "output_type": "execute_result"
    }
   ],
   "source": [
    "linear = LinearRegressor()"
   ]
  },
  {
   "cell_type": "code",
   "execution_count": 39,
   "metadata": {},
   "outputs": [
    {
     "data": {
      "text/plain": [
       "\u001b[34mMachine{LinearRegressor} @ 4…92\u001b[39m\n"
      ]
     },
     "execution_count": 39,
     "metadata": {},
     "output_type": "execute_result"
    }
   ],
   "source": [
    "\n",
    "LinearModel = machine(linear, X1, yv)"
   ]
  },
  {
   "cell_type": "code",
   "execution_count": 40,
   "metadata": {},
   "outputs": [
    {
     "name": "stderr",
     "output_type": "stream",
     "text": [
      "┌ Info: Training \u001b[34mMachine{LinearRegressor} @ 4…92\u001b[39m.\n",
      "└ @ MLJBase C:\\Users\\Rahul\\.julia\\packages\\MLJBase\\t7MaX\\src\\machines.jl:179\n"
     ]
    },
    {
     "data": {
      "text/plain": [
       "\u001b[34mMachine{LinearRegressor} @ 4…92\u001b[39m\n"
      ]
     },
     "execution_count": 40,
     "metadata": {},
     "output_type": "execute_result"
    }
   ],
   "source": [
    "fit!(LinearModel)"
   ]
  },
  {
   "cell_type": "code",
   "execution_count": 38,
   "metadata": {},
   "outputs": [
    {
     "data": {
      "text/plain": [
       "(coef = [0.9026169484615474, 0.9186211360578618, 0.004032339225469247, 0.003913261451164637, 0.2625393581722295],\n",
       " intercept = 0.025267062288609157,)"
      ]
     },
     "execution_count": 38,
     "metadata": {},
     "output_type": "execute_result"
    }
   ],
   "source": [
    "fp  = fitted_params(LinearModel)"
   ]
  },
  {
   "cell_type": "code",
   "execution_count": 44,
   "metadata": {},
   "outputs": [
    {
     "data": {
      "text/plain": [
       "(deviance = 3665.9853590587536,\n",
       " dof_residual = 3994.0,\n",
       " stderror = [0.014038493075715011, 0.014114179742287162, 0.006498442877467226, 0.002226936573005321, 0.014487353745124358, 0.015154992621624015],\n",
       " vcov = [0.00019707928783689835 1.778260863483726e-5 … -6.077523415121343e-5 3.171490647460837e-7; 1.778260863483726e-5 0.0001992100697975893 … -6.025274054499225e-5 3.383441066343197e-6; … ; -6.077523415121343e-5 -6.025274054499225e-5 … 0.00020988341853636877 -2.4197440803892334e-6; 3.171490647460837e-7 3.383441066343197e-6 … -2.4197440803892334e-6 0.00022967380136147832],)"
      ]
     },
     "execution_count": 44,
     "metadata": {},
     "output_type": "execute_result"
    }
   ],
   "source": [
    "ŷ = MLJ.predict(LinearModel, X)\n",
    "yhatResponse = [ŷ[i,1].μ for i in 1:nrow(y)]\n",
    "residuals = y .- yhatResponse\n",
    "r = report(LinearModel)\n"
   ]
  },
  {
   "cell_type": "code",
   "execution_count": 45,
   "metadata": {},
   "outputs": [
    {
     "data": {
      "text/plain": [
       "0.9573"
      ]
     },
     "execution_count": 45,
     "metadata": {},
     "output_type": "execute_result"
    }
   ],
   "source": [
    "round(rms(yhatResponse, y[:,1]), sigdigits=4)"
   ]
  }
 ],
 "metadata": {
  "kernelspec": {
   "display_name": "Julia 1.4.1",
   "language": "julia",
   "name": "julia-1.4"
  },
  "language_info": {
   "file_extension": ".jl",
   "mimetype": "application/julia",
   "name": "julia",
   "version": "1.4.1"
  }
 },
 "nbformat": 4,
 "nbformat_minor": 4
}
