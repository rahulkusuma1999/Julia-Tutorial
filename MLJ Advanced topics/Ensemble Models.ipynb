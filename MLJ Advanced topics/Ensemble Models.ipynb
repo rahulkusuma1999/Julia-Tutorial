{
 "cells": [
  {
   "cell_type": "code",
   "execution_count": 1,
   "metadata": {},
   "outputs": [
    {
     "name": "stderr",
     "output_type": "stream",
     "text": [
      "┌ Info: Precompiling StableRNGs [860ef19b-820b-49d6-a774-d7a799459cd3]\n",
      "└ @ Base loading.jl:1260\n"
     ]
    }
   ],
   "source": [
    "using MLJ\n",
    "import DataFrames\n",
    "import Statistics\n",
    "using PrettyPrinting\n",
    "using StableRNGs\n"
   ]
  },
  {
   "cell_type": "code",
   "execution_count": 2,
   "metadata": {},
   "outputs": [],
   "source": [
    "rng = StableRNG(512)\n",
    "Xraw = rand(rng, 300, 3)\n",
    "y = exp.(Xraw[:,1] - Xraw[:,2] - 2Xraw[:,3] + 0.1*rand(rng, 300))\n",
    "X = DataFrames.DataFrame(Xraw)\n",
    "\n",
    "train, test = partition(eachindex(y), 0.7);"
   ]
  },
  {
   "cell_type": "code",
   "execution_count": 3,
   "metadata": {},
   "outputs": [
    {
     "name": "stderr",
     "output_type": "stream",
     "text": [
      "┌ Info: Precompiling NearestNeighbors [b8a86587-4115-5ab1-83bc-aa920d37bbce]\n",
      "└ @ Base loading.jl:1260\n"
     ]
    },
    {
     "data": {
      "text/plain": [
       "KNNRegressor(\n",
       "    K = 10,\n",
       "    algorithm = :kdtree,\n",
       "    metric = Distances.Euclidean(0.0),\n",
       "    leafsize = 10,\n",
       "    reorder = true,\n",
       "    weights = :uniform)\u001b[34m @ 7…05\u001b[39m"
      ]
     },
     "execution_count": 3,
     "metadata": {},
     "output_type": "execute_result"
    }
   ],
   "source": [
    "@load KNNRegressor\n",
    "knn_model = KNNRegressor(K=10)"
   ]
  },
  {
   "cell_type": "code",
   "execution_count": 4,
   "metadata": {},
   "outputs": [
    {
     "data": {
      "text/plain": [
       "\u001b[34mMachine{KNNRegressor} @ 5…62\u001b[39m\n"
      ]
     },
     "execution_count": 4,
     "metadata": {},
     "output_type": "execute_result"
    }
   ],
   "source": [
    "knn = machine(knn_model, X, y)"
   ]
  },
  {
   "cell_type": "code",
   "execution_count": 5,
   "metadata": {},
   "outputs": [
    {
     "name": "stderr",
     "output_type": "stream",
     "text": [
      "┌ Info: Training \u001b[34mMachine{KNNRegressor} @ 5…62\u001b[39m.\n",
      "└ @ MLJBase C:\\Users\\Rahul\\.julia\\packages\\MLJBase\\t7MaX\\src\\machines.jl:179\n"
     ]
    },
    {
     "data": {
      "text/plain": [
       "0.06389980172436367"
      ]
     },
     "execution_count": 5,
     "metadata": {},
     "output_type": "execute_result"
    }
   ],
   "source": [
    "fit!(knn, rows=train)\n",
    "ŷ = predict(knn, X[test, :]) # or use rows=test\n",
    "rms(ŷ, y[test])"
   ]
  },
  {
   "cell_type": "markdown",
   "metadata": {},
   "source": [
    "<h5> or we can also use Evaluate"
   ]
  },
  {
   "cell_type": "code",
   "execution_count": 6,
   "metadata": {},
   "outputs": [
    {
     "name": "stderr",
     "output_type": "stream",
     "text": [
      "\u001b[33mEvaluating over 1 folds: 100%[=========================] Time: 0:00:00\u001b[39m\n"
     ]
    },
    {
     "name": "stdout",
     "output_type": "stream",
     "text": [
      "(measure = [rms],\n",
      " measurement = [0.1236738803266666],\n",
      " per_fold = [[0.1236738803266666]],\n",
      " per_observation = [missing])"
     ]
    }
   ],
   "source": [
    "evaluate!(knn, resampling=Holdout(fraction_train=0.7, rng=StableRNG(666)),\n",
    "          measure=rms) |> pprint"
   ]
  },
  {
   "cell_type": "markdown",
   "metadata": {},
   "source": [
    "<h3 > Ensemble Models"
   ]
  },
  {
   "cell_type": "markdown",
   "metadata": {},
   "source": [
    "For instance, r.measurements are the measurements for all pairs of hyperparameters which you could visualise nicely:"
   ]
  },
  {
   "cell_type": "markdown",
   "metadata": {},
   "source": [
    "<h4>n=20 indiactes how many models we want to  use"
   ]
  },
  {
   "cell_type": "code",
   "execution_count": 7,
   "metadata": {},
   "outputs": [
    {
     "data": {
      "text/plain": [
       "DeterministicEnsembleModel(\n",
       "    atom = KNNRegressor(\n",
       "            K = 10,\n",
       "            algorithm = :kdtree,\n",
       "            metric = Distances.Euclidean(0.0),\n",
       "            leafsize = 10,\n",
       "            reorder = true,\n",
       "            weights = :uniform),\n",
       "    atomic_weights = Float64[],\n",
       "    bagging_fraction = 0.8,\n",
       "    rng = Random._GLOBAL_RNG(),\n",
       "    n = 20,\n",
       "    acceleration = ComputationalResources.CPU1{Nothing}(nothing),\n",
       "    out_of_bag_measure = Any[])\u001b[34m @ 1…24\u001b[39m"
      ]
     },
     "execution_count": 7,
     "metadata": {},
     "output_type": "execute_result"
    }
   ],
   "source": [
    "ensemble_model = EnsembleModel(atom=knn_model,n=20)"
   ]
  },
  {
   "cell_type": "code",
   "execution_count": 8,
   "metadata": {},
   "outputs": [
    {
     "data": {
      "text/plain": [
       "\u001b[34mMachine{DeterministicEnsembleModel{KNNRegressor}} @ 5…89\u001b[39m\n"
      ]
     },
     "execution_count": 8,
     "metadata": {},
     "output_type": "execute_result"
    }
   ],
   "source": [
    "ensemble = machine(ensemble_model,X,y)"
   ]
  },
  {
   "cell_type": "code",
   "execution_count": 13,
   "metadata": {},
   "outputs": [
    {
     "name": "stderr",
     "output_type": "stream",
     "text": [
      "\u001b[33mEvaluating over 6 folds: 100%[=========================] Time: 0:00:00\u001b[39m\n"
     ]
    },
    {
     "data": {
      "text/plain": [
       "┌\u001b[0m───────────\u001b[0m┬\u001b[0m───────────────\u001b[0m┬\u001b[0m─────────────────────────────────────────────────\u001b[0m┐\u001b[0m\n",
       "│\u001b[0m\u001b[22m _.measure \u001b[0m│\u001b[0m\u001b[22m _.measurement \u001b[0m│\u001b[0m\u001b[22m _.per_fold                                      \u001b[0m│\u001b[0m\n",
       "├\u001b[0m───────────\u001b[0m┼\u001b[0m───────────────\u001b[0m┼\u001b[0m─────────────────────────────────────────────────\u001b[0m┤\u001b[0m\n",
       "│\u001b[0m rms       \u001b[0m│\u001b[0m 0.0845        \u001b[0m│\u001b[0m [0.0901, 0.113, 0.0733, 0.0879, 0.0644, 0.0686] \u001b[0m│\u001b[0m\n",
       "└\u001b[0m───────────\u001b[0m┴\u001b[0m───────────────\u001b[0m┴\u001b[0m─────────────────────────────────────────────────\u001b[0m┘\u001b[0m\n",
       "_.per_observation = [missing]\n"
      ]
     },
     "execution_count": 13,
     "metadata": {},
     "output_type": "execute_result"
    }
   ],
   "source": [
    "# here the implicit measure is rms and measurement is mean taken over all the folds\n",
    "\n",
    "\n",
    "estimates = evaluate!(ensemble,resampling=CV())"
   ]
  },
  {
   "cell_type": "code",
   "execution_count": 14,
   "metadata": {},
   "outputs": [
    {
     "name": "stdout",
     "output_type": "stream",
     "text": [
      "(measure = [rms],\n",
      " measurement = [0.08445867376620815],\n",
      " per_fold = [[0.09011463644115279,\n",
      "              0.11278570247889533,\n",
      "              0.07330169752765694,\n",
      "              0.08793353021110673,\n",
      "              0.06441564897609386,\n",
      "              0.06858223263110173]],\n",
      " per_observation = [missing])"
     ]
    }
   ],
   "source": [
    "estimates |> pprint"
   ]
  },
  {
   "cell_type": "code",
   "execution_count": 15,
   "metadata": {},
   "outputs": [
    {
     "name": "stdout",
     "output_type": "stream",
     "text": [
      "estimates.measurement[1] = 0.08445867376620815\n",
      "mean(estimates.per_fold[1]) = 0.08285557471100123\n"
     ]
    },
    {
     "data": {
      "text/plain": [
       "0.08285557471100123"
      ]
     },
     "execution_count": 15,
     "metadata": {},
     "output_type": "execute_result"
    }
   ],
   "source": [
    "@show estimates.measurement[1]\n",
    "@show mean(estimates.per_fold[1])"
   ]
  },
  {
   "cell_type": "markdown",
   "metadata": {},
   "source": [
    "<h3> Systematic Tuning"
   ]
  },
  {
   "cell_type": "markdown",
   "metadata": {},
   "source": [
    "Let's simultaneously tune the ensemble's bagging_fraction and the K-Nearest neighbour hyperparameter K. Since one of our models is a field of the other, we have nested hyperparameters:"
   ]
  },
  {
   "cell_type": "code",
   "execution_count": 16,
   "metadata": {},
   "outputs": [
    {
     "name": "stdout",
     "output_type": "stream",
     "text": [
      "(atom = (K = 10,\n",
      "         algorithm = :kdtree,\n",
      "         metric = Distances.Euclidean(0.0),\n",
      "         leafsize = 10,\n",
      "         reorder = true,\n",
      "         weights = :uniform),\n",
      " atomic_weights = [],\n",
      " bagging_fraction = 0.8,\n",
      " rng = Random._GLOBAL_RNG(),\n",
      " n = 20,\n",
      " acceleration = ComputationalResources.CPU1{Nothing}(nothing),\n",
      " out_of_bag_measure = [])"
     ]
    }
   ],
   "source": [
    "params(ensemble_model) |> pprint"
   ]
  },
  {
   "cell_type": "markdown",
   "metadata": {},
   "source": [
    "<h4>To define a tuning grid, we construct ranges for the two parameters and collate these ranges:"
   ]
  },
  {
   "cell_type": "code",
   "execution_count": 20,
   "metadata": {},
   "outputs": [
    {
     "data": {
      "text/plain": [
       "NumericRange(\n",
       "    field = :(atom.K),\n",
       "    lower = 1,\n",
       "    upper = 20,\n",
       "    origin = 10.5,\n",
       "    unit = 9.5,\n",
       "    scale = :linear)\u001b[34m @ 4…48\u001b[39m"
      ]
     },
     "execution_count": 20,
     "metadata": {},
     "output_type": "execute_result"
    }
   ],
   "source": [
    "# whenever we want to do hyperparameter tuning we define these ranges to search foer best parameters \n",
    "\n",
    "B_range = range(ensemble_model, :bagging_fraction, lower = 0.5, upper = 1.0)\n",
    "K_range = range(ensemble_model , :(atom.K) , lower = 1, upper = 20)"
   ]
  },
  {
   "cell_type": "code",
   "execution_count": 23,
   "metadata": {},
   "outputs": [
    {
     "name": "stderr",
     "output_type": "stream",
     "text": [
      "┌ Info: No measure specified. Setting measure=rms. \n",
      "└ @ MLJTuning C:\\Users\\Rahul\\.julia\\packages\\MLJTuning\\JoSTU\\src\\tuned_models.jl:171\n"
     ]
    },
    {
     "data": {
      "text/plain": [
       "DeterministicTunedModel(\n",
       "    model = DeterministicEnsembleModel(\n",
       "            atom = \u001b[34mKNNRegressor @ 7…05\u001b[39m,\n",
       "            atomic_weights = Float64[],\n",
       "            bagging_fraction = 0.8,\n",
       "            rng = Random._GLOBAL_RNG(),\n",
       "            n = 20,\n",
       "            acceleration = ComputationalResources.CPU1{Nothing}(nothing),\n",
       "            out_of_bag_measure = Any[]),\n",
       "    tuning = Grid(\n",
       "            goal = nothing,\n",
       "            resolution = 10,\n",
       "            shuffle = true,\n",
       "            rng = Random._GLOBAL_RNG()),\n",
       "    resampling = Holdout(\n",
       "            fraction_train = 0.8,\n",
       "            shuffle = true,\n",
       "            rng = LehmerRNG(0x00000000000000000000000000000055)),\n",
       "    measure = RMS(),\n",
       "    weights = nothing,\n",
       "    operation = StatsBase.predict,\n",
       "    range = MLJBase.NumericRange{MLJBase.Bounded,T,Symbol} where T[\u001b[34mNumericRange @ 1…25\u001b[39m, \u001b[34mNumericRange @ 4…48\u001b[39m],\n",
       "    train_best = true,\n",
       "    repeats = 1,\n",
       "    n = nothing,\n",
       "    acceleration = ComputationalResources.CPU1{Nothing}(nothing),\n",
       "    acceleration_resampling = ComputationalResources.CPU1{Nothing}(nothing),\n",
       "    check_measure = true)\u001b[34m @ 9…10\u001b[39m"
      ]
     },
     "execution_count": 23,
     "metadata": {},
     "output_type": "execute_result"
    }
   ],
   "source": [
    "tm = TunedModel(model = ensemble_model,tuning = Grid(resolution =10),\n",
    "                 resampling=Holdout(fraction_train=0.8,rng=StableRNG(42)),\n",
    "                 ranges=[B_range,K_range])\n",
    "                 "
   ]
  },
  {
   "cell_type": "code",
   "execution_count": 24,
   "metadata": {},
   "outputs": [
    {
     "name": "stderr",
     "output_type": "stream",
     "text": [
      "┌ Info: Training \u001b[34mMachine{DeterministicTunedModel} @ 7…68\u001b[39m.\n",
      "└ @ MLJBase C:\\Users\\Rahul\\.julia\\packages\\MLJBase\\t7MaX\\src\\machines.jl:179\n",
      "┌ Info: Attempting to evaluate 100 models.\n",
      "└ @ MLJTuning C:\\Users\\Rahul\\.julia\\packages\\MLJTuning\\JoSTU\\src\\tuned_models.jl:274\n"
     ]
    }
   ],
   "source": [
    "tuned_ensemble = machine(tm, X, y)\n",
    "fit!(tuned_ensemble, rows=train);"
   ]
  },
  {
   "cell_type": "code",
   "execution_count": 25,
   "metadata": {},
   "outputs": [
    {
     "name": "stdout",
     "output_type": "stream",
     "text": [
      "best_ensemble.atom.K = 3\n",
      "best_ensemble.bagging_fraction = 0.5555555555555556\n"
     ]
    },
    {
     "data": {
      "text/plain": [
       "0.5555555555555556"
      ]
     },
     "execution_count": 25,
     "metadata": {},
     "output_type": "execute_result"
    }
   ],
   "source": [
    "\n",
    "# to see the best fitted parameters\n",
    "\n",
    "\n",
    "best_ensemble = fitted_params(tuned_ensemble).best_model\n",
    "@show best_ensemble.atom.K\n",
    "@show best_ensemble.bagging_fraction"
   ]
  },
  {
   "cell_type": "code",
   "execution_count": 26,
   "metadata": {},
   "outputs": [
    {
     "data": {
      "text/plain": [
       "(best_model = \u001b[34mDeterministicEnsembleModel{KNNRegressor} @ 9…55\u001b[39m,\n",
       " best_result = (measure = [rms],\n",
       "                measurement = [0.044196638122021493],),\n",
       " best_report = (measures = Any[],\n",
       "                oob_measurements = missing,),\n",
       " history = Tuple{MLJ.DeterministicEnsembleModel{KNNRegressor},NamedTuple{(:measure, :measurement),Tuple{Array{MLJBase.RMS,1},Array{Float64,1}}}}[(\u001b[34mDeterministicEnsembleModel{KNNRegressor} @ 3…28\u001b[39m, (measure = [rms], measurement = [0.09416850358559248])), (\u001b[34mDeterministicEnsembleModel{KNNRegressor} @ 5…31\u001b[39m, (measure = [rms], measurement = [0.07513533146225304])), (\u001b[34mDeterministicEnsembleModel{KNNRegressor} @ 1…00\u001b[39m, (measure = [rms], measurement = [0.11160258104991103])), (\u001b[34mDeterministicEnsembleModel{KNNRegressor} @ 1…63\u001b[39m, (measure = [rms], measurement = [0.07263665779506288])), (\u001b[34mDeterministicEnsembleModel{KNNRegressor} @ 2…27\u001b[39m, (measure = [rms], measurement = [0.08931296449212149])), (\u001b[34mDeterministicEnsembleModel{KNNRegressor} @ 7…85\u001b[39m, (measure = [rms], measurement = [0.11745239938229207])), (\u001b[34mDeterministicEnsembleModel{KNNRegressor} @ 1…81\u001b[39m, (measure = [rms], measurement = [0.09926359329733228])), (\u001b[34mDeterministicEnsembleModel{KNNRegressor} @ 1…35\u001b[39m, (measure = [rms], measurement = [0.08244848375706094])), (\u001b[34mDeterministicEnsembleModel{KNNRegressor} @ 6…13\u001b[39m, (measure = [rms], measurement = [0.1461029001888678])), (\u001b[34mDeterministicEnsembleModel{KNNRegressor} @ 1…80\u001b[39m, (measure = [rms], measurement = [0.09933644040904266]))  …  (\u001b[34mDeterministicEnsembleModel{KNNRegressor} @ 1…55\u001b[39m, (measure = [rms], measurement = [0.06483876247130967])), (\u001b[34mDeterministicEnsembleModel{KNNRegressor} @ 3…52\u001b[39m, (measure = [rms], measurement = [0.1374177368380388])), (\u001b[34mDeterministicEnsembleModel{KNNRegressor} @ 1…41\u001b[39m, (measure = [rms], measurement = [0.0511265596434811])), (\u001b[34mDeterministicEnsembleModel{KNNRegressor} @ 6…71\u001b[39m, (measure = [rms], measurement = [0.053238140038366015])), (\u001b[34mDeterministicEnsembleModel{KNNRegressor} @ 1…69\u001b[39m, (measure = [rms], measurement = [0.21178467644714324])), (\u001b[34mDeterministicEnsembleModel{KNNRegressor} @ 2…93\u001b[39m, (measure = [rms], measurement = [0.06571937025745941])), (\u001b[34mDeterministicEnsembleModel{KNNRegressor} @ 1…18\u001b[39m, (measure = [rms], measurement = [0.13956645261656933])), (\u001b[34mDeterministicEnsembleModel{KNNRegressor} @ 1…03\u001b[39m, (measure = [rms], measurement = [0.104448403321659])), (\u001b[34mDeterministicEnsembleModel{KNNRegressor} @ 5…17\u001b[39m, (measure = [rms], measurement = [0.05727608776613566])), (\u001b[34mDeterministicEnsembleModel{KNNRegressor} @ 1…13\u001b[39m, (measure = [rms], measurement = [0.10804964833887284]))],\n",
       " plotting = (parameter_names = [\"bagging_fraction\", \"atom.K\"],\n",
       "             parameter_scales = [:linear, :linear],\n",
       "             parameter_values = Any[0.8888888888888888 20; 0.7222222222222222 20; … ; 0.5555555555555556 9; 1.0 18],\n",
       "             measurements = [0.09416850358559248, 0.07513533146225304, 0.11160258104991103, 0.07263665779506288, 0.08931296449212149, 0.11745239938229207, 0.09926359329733228, 0.08244848375706094, 0.1461029001888678, 0.09933644040904266  …  0.06483876247130967, 0.1374177368380388, 0.0511265596434811, 0.053238140038366015, 0.21178467644714324, 0.06571937025745941, 0.13956645261656933, 0.104448403321659, 0.05727608776613566, 0.10804964833887284],),)"
      ]
     },
     "execution_count": 26,
     "metadata": {},
     "output_type": "execute_result"
    }
   ],
   "source": [
    "#report gives more detailed information\n",
    "\n",
    "r = report(tuned_ensemble)"
   ]
  },
  {
   "cell_type": "code",
   "execution_count": null,
   "metadata": {},
   "outputs": [],
   "source": []
  },
  {
   "cell_type": "markdown",
   "metadata": {},
   "source": [
    "<h2> For instance, r.measurements are the measurements for all pairs of hyperparameters which you could visualise nicely:"
   ]
  },
  {
   "cell_type": "code",
   "execution_count": 27,
   "metadata": {},
   "outputs": [
    {
     "data": {
      "image/png": "[encoded data removed]",
      "text/plain": [
       "Figure(PyObject <Figure size 800x600 with 1 Axes>)"
      ]
     },
     "metadata": {},
     "output_type": "display_data"
    },
    {
     "data": {
      "text/plain": [
       "PyObject Text(29.00000000000002, 0.5, 'Number of neighbors - K')"
      ]
     },
     "execution_count": 27,
     "metadata": {},
     "output_type": "execute_result"
    }
   ],
   "source": [
    "using PyPlot\n",
    "\n",
    "figure(figsize=(8,6))\n",
    "\n",
    "res = r.plotting\n",
    "vals_b = res.parameter_values[:, 1]\n",
    "vals_k = res.parameter_values[:, 2]\n",
    "\n",
    "tricontourf(vals_b, vals_k, res.measurements)\n",
    "xticks(0.5:0.1:1, fontsize=12)\n",
    "xlabel(\"Bagging fraction\", fontsize=14)\n",
    "yticks([1, 5, 10, 15, 20], fontsize=12)\n",
    "ylabel(\"Number of neighbors - K\", fontsize=14)"
   ]
  },
  {
   "cell_type": "markdown",
   "metadata": {},
   "source": [
    "<h3> Evaluate"
   ]
  },
  {
   "cell_type": "code",
   "execution_count": 30,
   "metadata": {},
   "outputs": [
    {
     "data": {
      "text/plain": [
       "0.05323425699730739"
      ]
     },
     "execution_count": 30,
     "metadata": {},
     "output_type": "execute_result"
    }
   ],
   "source": [
    "ŷ = predict(tuned_ensemble, rows=test)\n",
    "rms(ŷ, y[test])"
   ]
  },
  {
   "cell_type": "code",
   "execution_count": null,
   "metadata": {},
   "outputs": [],
   "source": []
  }
 ],
 "metadata": {
  "kernelspec": {
   "display_name": "Julia 1.4.1",
   "language": "julia",
   "name": "julia-1.4"
  },
  "language_info": {
   "file_extension": ".jl",
   "mimetype": "application/julia",
   "name": "julia",
   "version": "1.4.1"
  }
 },
 "nbformat": 4,
 "nbformat_minor": 4
}
