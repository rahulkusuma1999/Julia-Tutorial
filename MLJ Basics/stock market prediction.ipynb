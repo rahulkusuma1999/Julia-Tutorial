{
 "cells": [
  {
   "cell_type": "code",
   "execution_count": 1,
   "metadata": {},
   "outputs": [
    {
     "name": "stderr",
     "output_type": "stream",
     "text": [
      "┌ Info: Precompiling MLJ [add582a8-e3ab-11e8-2d5e-e98b27df1bc7]\n",
      "└ @ Base loading.jl:1260\n",
      "[ Info: Model metadata loaded from registry. \n"
     ]
    }
   ],
   "source": [
    "using MLJ\n",
    "import RDatasets:dataset"
   ]
  },
  {
   "cell_type": "code",
   "execution_count": 2,
   "metadata": {},
   "outputs": [],
   "source": [
    "using DataFrames"
   ]
  },
  {
   "cell_type": "code",
   "execution_count": 12,
   "metadata": {},
   "outputs": [],
   "source": [
    "import StatsBase:countmap,cor,var"
   ]
  },
  {
   "cell_type": "code",
   "execution_count": 4,
   "metadata": {},
   "outputs": [
    {
     "name": "stderr",
     "output_type": "stream",
     "text": [
      "┌ Info: Precompiling PrettyPrinting [54e16d92-306c-5ea0-a30b-337be88ac337]\n",
      "└ @ Base loading.jl:1260\n"
     ]
    }
   ],
   "source": [
    "using PrettyPrinting"
   ]
  },
  {
   "cell_type": "code",
   "execution_count": 5,
   "metadata": {},
   "outputs": [
    {
     "data": {
      "text/html": [
       "<table class=\"data-frame\"><thead><tr><th></th><th>Year</th><th>Lag1</th><th>Lag2</th><th>Lag3</th><th>Lag4</th><th>Lag5</th><th>Volume</th><th>Today</th><th>Direction</th></tr><tr><th></th><th>Float64</th><th>Float64</th><th>Float64</th><th>Float64</th><th>Float64</th><th>Float64</th><th>Float64</th><th>Float64</th><th>Cat…</th></tr></thead><tbody><p>1,250 rows × 9 columns</p><tr><th>1</th><td>2001.0</td><td>0.381</td><td>-0.192</td><td>-2.624</td><td>-1.055</td><td>5.01</td><td>1.1913</td><td>0.959</td><td>Up</td></tr><tr><th>2</th><td>2001.0</td><td>0.959</td><td>0.381</td><td>-0.192</td><td>-2.624</td><td>-1.055</td><td>1.2965</td><td>1.032</td><td>Up</td></tr><tr><th>3</th><td>2001.0</td><td>1.032</td><td>0.959</td><td>0.381</td><td>-0.192</td><td>-2.624</td><td>1.4112</td><td>-0.623</td><td>Down</td></tr><tr><th>4</th><td>2001.0</td><td>-0.623</td><td>1.032</td><td>0.959</td><td>0.381</td><td>-0.192</td><td>1.276</td><td>0.614</td><td>Up</td></tr><tr><th>5</th><td>2001.0</td><td>0.614</td><td>-0.623</td><td>1.032</td><td>0.959</td><td>0.381</td><td>1.2057</td><td>0.213</td><td>Up</td></tr><tr><th>6</th><td>2001.0</td><td>0.213</td><td>0.614</td><td>-0.623</td><td>1.032</td><td>0.959</td><td>1.3491</td><td>1.392</td><td>Up</td></tr><tr><th>7</th><td>2001.0</td><td>1.392</td><td>0.213</td><td>0.614</td><td>-0.623</td><td>1.032</td><td>1.445</td><td>-0.403</td><td>Down</td></tr><tr><th>8</th><td>2001.0</td><td>-0.403</td><td>1.392</td><td>0.213</td><td>0.614</td><td>-0.623</td><td>1.4078</td><td>0.027</td><td>Up</td></tr><tr><th>9</th><td>2001.0</td><td>0.027</td><td>-0.403</td><td>1.392</td><td>0.213</td><td>0.614</td><td>1.164</td><td>1.303</td><td>Up</td></tr><tr><th>10</th><td>2001.0</td><td>1.303</td><td>0.027</td><td>-0.403</td><td>1.392</td><td>0.213</td><td>1.2326</td><td>0.287</td><td>Up</td></tr><tr><th>11</th><td>2001.0</td><td>0.287</td><td>1.303</td><td>0.027</td><td>-0.403</td><td>1.392</td><td>1.309</td><td>-0.498</td><td>Down</td></tr><tr><th>12</th><td>2001.0</td><td>-0.498</td><td>0.287</td><td>1.303</td><td>0.027</td><td>-0.403</td><td>1.258</td><td>-0.189</td><td>Down</td></tr><tr><th>13</th><td>2001.0</td><td>-0.189</td><td>-0.498</td><td>0.287</td><td>1.303</td><td>0.027</td><td>1.098</td><td>0.68</td><td>Up</td></tr><tr><th>14</th><td>2001.0</td><td>0.68</td><td>-0.189</td><td>-0.498</td><td>0.287</td><td>1.303</td><td>1.0531</td><td>0.701</td><td>Up</td></tr><tr><th>15</th><td>2001.0</td><td>0.701</td><td>0.68</td><td>-0.189</td><td>-0.498</td><td>0.287</td><td>1.1498</td><td>-0.562</td><td>Down</td></tr><tr><th>16</th><td>2001.0</td><td>-0.562</td><td>0.701</td><td>0.68</td><td>-0.189</td><td>-0.498</td><td>1.2953</td><td>0.546</td><td>Up</td></tr><tr><th>17</th><td>2001.0</td><td>0.546</td><td>-0.562</td><td>0.701</td><td>0.68</td><td>-0.189</td><td>1.1188</td><td>-1.747</td><td>Down</td></tr><tr><th>18</th><td>2001.0</td><td>-1.747</td><td>0.546</td><td>-0.562</td><td>0.701</td><td>0.68</td><td>1.0484</td><td>0.359</td><td>Up</td></tr><tr><th>19</th><td>2001.0</td><td>0.359</td><td>-1.747</td><td>0.546</td><td>-0.562</td><td>0.701</td><td>1.013</td><td>-0.151</td><td>Down</td></tr><tr><th>20</th><td>2001.0</td><td>-0.151</td><td>0.359</td><td>-1.747</td><td>0.546</td><td>-0.562</td><td>1.0596</td><td>-0.841</td><td>Down</td></tr><tr><th>21</th><td>2001.0</td><td>-0.841</td><td>-0.151</td><td>0.359</td><td>-1.747</td><td>0.546</td><td>1.1583</td><td>-0.623</td><td>Down</td></tr><tr><th>22</th><td>2001.0</td><td>-0.623</td><td>-0.841</td><td>-0.151</td><td>0.359</td><td>-1.747</td><td>1.1072</td><td>-1.334</td><td>Down</td></tr><tr><th>23</th><td>2001.0</td><td>-1.334</td><td>-0.623</td><td>-0.841</td><td>-0.151</td><td>0.359</td><td>1.0755</td><td>1.183</td><td>Up</td></tr><tr><th>24</th><td>2001.0</td><td>1.183</td><td>-1.334</td><td>-0.623</td><td>-0.841</td><td>-0.151</td><td>1.0391</td><td>-0.865</td><td>Down</td></tr><tr><th>25</th><td>2001.0</td><td>-0.865</td><td>1.183</td><td>-1.334</td><td>-0.623</td><td>-0.841</td><td>1.0752</td><td>-0.218</td><td>Down</td></tr><tr><th>26</th><td>2001.0</td><td>-0.218</td><td>-0.865</td><td>1.183</td><td>-1.334</td><td>-0.623</td><td>1.1503</td><td>0.812</td><td>Up</td></tr><tr><th>27</th><td>2001.0</td><td>0.812</td><td>-0.218</td><td>-0.865</td><td>1.183</td><td>-1.334</td><td>1.1537</td><td>-1.891</td><td>Down</td></tr><tr><th>28</th><td>2001.0</td><td>-1.891</td><td>0.812</td><td>-0.218</td><td>-0.865</td><td>1.183</td><td>1.2572</td><td>-1.736</td><td>Down</td></tr><tr><th>29</th><td>2001.0</td><td>-1.736</td><td>-1.891</td><td>0.812</td><td>-0.218</td><td>-0.865</td><td>1.1122</td><td>-1.851</td><td>Down</td></tr><tr><th>30</th><td>2001.0</td><td>-1.851</td><td>-1.736</td><td>-1.891</td><td>0.812</td><td>-0.218</td><td>1.2085</td><td>-0.195</td><td>Down</td></tr><tr><th>&vellip;</th><td>&vellip;</td><td>&vellip;</td><td>&vellip;</td><td>&vellip;</td><td>&vellip;</td><td>&vellip;</td><td>&vellip;</td><td>&vellip;</td><td>&vellip;</td></tr></tbody></table>"
      ],
      "text/latex": [
       "\\begin{tabular}{r|ccccccccc}\n",
       "\t& Year & Lag1 & Lag2 & Lag3 & Lag4 & Lag5 & Volume & Today & Direction\\\\\n",
       "\t\\hline\n",
       "\t& Float64 & Float64 & Float64 & Float64 & Float64 & Float64 & Float64 & Float64 & Cat…\\\\\n",
       "\t\\hline\n",
       "\t1 & 2001.0 & 0.381 & -0.192 & -2.624 & -1.055 & 5.01 & 1.1913 & 0.959 & Up \\\\\n",
       "\t2 & 2001.0 & 0.959 & 0.381 & -0.192 & -2.624 & -1.055 & 1.2965 & 1.032 & Up \\\\\n",
       "\t3 & 2001.0 & 1.032 & 0.959 & 0.381 & -0.192 & -2.624 & 1.4112 & -0.623 & Down \\\\\n",
       "\t4 & 2001.0 & -0.623 & 1.032 & 0.959 & 0.381 & -0.192 & 1.276 & 0.614 & Up \\\\\n",
       "\t5 & 2001.0 & 0.614 & -0.623 & 1.032 & 0.959 & 0.381 & 1.2057 & 0.213 & Up \\\\\n",
       "\t6 & 2001.0 & 0.213 & 0.614 & -0.623 & 1.032 & 0.959 & 1.3491 & 1.392 & Up \\\\\n",
       "\t7 & 2001.0 & 1.392 & 0.213 & 0.614 & -0.623 & 1.032 & 1.445 & -0.403 & Down \\\\\n",
       "\t8 & 2001.0 & -0.403 & 1.392 & 0.213 & 0.614 & -0.623 & 1.4078 & 0.027 & Up \\\\\n",
       "\t9 & 2001.0 & 0.027 & -0.403 & 1.392 & 0.213 & 0.614 & 1.164 & 1.303 & Up \\\\\n",
       "\t10 & 2001.0 & 1.303 & 0.027 & -0.403 & 1.392 & 0.213 & 1.2326 & 0.287 & Up \\\\\n",
       "\t11 & 2001.0 & 0.287 & 1.303 & 0.027 & -0.403 & 1.392 & 1.309 & -0.498 & Down \\\\\n",
       "\t12 & 2001.0 & -0.498 & 0.287 & 1.303 & 0.027 & -0.403 & 1.258 & -0.189 & Down \\\\\n",
       "\t13 & 2001.0 & -0.189 & -0.498 & 0.287 & 1.303 & 0.027 & 1.098 & 0.68 & Up \\\\\n",
       "\t14 & 2001.0 & 0.68 & -0.189 & -0.498 & 0.287 & 1.303 & 1.0531 & 0.701 & Up \\\\\n",
       "\t15 & 2001.0 & 0.701 & 0.68 & -0.189 & -0.498 & 0.287 & 1.1498 & -0.562 & Down \\\\\n",
       "\t16 & 2001.0 & -0.562 & 0.701 & 0.68 & -0.189 & -0.498 & 1.2953 & 0.546 & Up \\\\\n",
       "\t17 & 2001.0 & 0.546 & -0.562 & 0.701 & 0.68 & -0.189 & 1.1188 & -1.747 & Down \\\\\n",
       "\t18 & 2001.0 & -1.747 & 0.546 & -0.562 & 0.701 & 0.68 & 1.0484 & 0.359 & Up \\\\\n",
       "\t19 & 2001.0 & 0.359 & -1.747 & 0.546 & -0.562 & 0.701 & 1.013 & -0.151 & Down \\\\\n",
       "\t20 & 2001.0 & -0.151 & 0.359 & -1.747 & 0.546 & -0.562 & 1.0596 & -0.841 & Down \\\\\n",
       "\t21 & 2001.0 & -0.841 & -0.151 & 0.359 & -1.747 & 0.546 & 1.1583 & -0.623 & Down \\\\\n",
       "\t22 & 2001.0 & -0.623 & -0.841 & -0.151 & 0.359 & -1.747 & 1.1072 & -1.334 & Down \\\\\n",
       "\t23 & 2001.0 & -1.334 & -0.623 & -0.841 & -0.151 & 0.359 & 1.0755 & 1.183 & Up \\\\\n",
       "\t24 & 2001.0 & 1.183 & -1.334 & -0.623 & -0.841 & -0.151 & 1.0391 & -0.865 & Down \\\\\n",
       "\t25 & 2001.0 & -0.865 & 1.183 & -1.334 & -0.623 & -0.841 & 1.0752 & -0.218 & Down \\\\\n",
       "\t26 & 2001.0 & -0.218 & -0.865 & 1.183 & -1.334 & -0.623 & 1.1503 & 0.812 & Up \\\\\n",
       "\t27 & 2001.0 & 0.812 & -0.218 & -0.865 & 1.183 & -1.334 & 1.1537 & -1.891 & Down \\\\\n",
       "\t28 & 2001.0 & -1.891 & 0.812 & -0.218 & -0.865 & 1.183 & 1.2572 & -1.736 & Down \\\\\n",
       "\t29 & 2001.0 & -1.736 & -1.891 & 0.812 & -0.218 & -0.865 & 1.1122 & -1.851 & Down \\\\\n",
       "\t30 & 2001.0 & -1.851 & -1.736 & -1.891 & 0.812 & -0.218 & 1.2085 & -0.195 & Down \\\\\n",
       "\t$\\dots$ & $\\dots$ & $\\dots$ & $\\dots$ & $\\dots$ & $\\dots$ & $\\dots$ & $\\dots$ & $\\dots$ & $\\dots$ \\\\\n",
       "\\end{tabular}\n"
      ],
      "text/plain": [
       "1250×9 DataFrame. Omitted printing of 2 columns\n",
       "│ Row  │ Year    │ Lag1    │ Lag2    │ Lag3    │ Lag4    │ Lag5    │ Volume  │\n",
       "│      │ \u001b[90mFloat64\u001b[39m │ \u001b[90mFloat64\u001b[39m │ \u001b[90mFloat64\u001b[39m │ \u001b[90mFloat64\u001b[39m │ \u001b[90mFloat64\u001b[39m │ \u001b[90mFloat64\u001b[39m │ \u001b[90mFloat64\u001b[39m │\n",
       "├──────┼─────────┼─────────┼─────────┼─────────┼─────────┼─────────┼─────────┤\n",
       "│ 1    │ 2001.0  │ 0.381   │ -0.192  │ -2.624  │ -1.055  │ 5.01    │ 1.1913  │\n",
       "│ 2    │ 2001.0  │ 0.959   │ 0.381   │ -0.192  │ -2.624  │ -1.055  │ 1.2965  │\n",
       "│ 3    │ 2001.0  │ 1.032   │ 0.959   │ 0.381   │ -0.192  │ -2.624  │ 1.4112  │\n",
       "│ 4    │ 2001.0  │ -0.623  │ 1.032   │ 0.959   │ 0.381   │ -0.192  │ 1.276   │\n",
       "│ 5    │ 2001.0  │ 0.614   │ -0.623  │ 1.032   │ 0.959   │ 0.381   │ 1.2057  │\n",
       "│ 6    │ 2001.0  │ 0.213   │ 0.614   │ -0.623  │ 1.032   │ 0.959   │ 1.3491  │\n",
       "│ 7    │ 2001.0  │ 1.392   │ 0.213   │ 0.614   │ -0.623  │ 1.032   │ 1.445   │\n",
       "│ 8    │ 2001.0  │ -0.403  │ 1.392   │ 0.213   │ 0.614   │ -0.623  │ 1.4078  │\n",
       "│ 9    │ 2001.0  │ 0.027   │ -0.403  │ 1.392   │ 0.213   │ 0.614   │ 1.164   │\n",
       "│ 10   │ 2001.0  │ 1.303   │ 0.027   │ -0.403  │ 1.392   │ 0.213   │ 1.2326  │\n",
       "⋮\n",
       "│ 1240 │ 2005.0  │ 0.419   │ 0.555   │ 0.084   │ 0.281   │ -0.122  │ 2.14552 │\n",
       "│ 1241 │ 2005.0  │ -0.141  │ 0.419   │ 0.555   │ 0.084   │ 0.281   │ 2.18059 │\n",
       "│ 1242 │ 2005.0  │ -0.285  │ -0.141  │ 0.419   │ 0.555   │ 0.084   │ 2.58419 │\n",
       "│ 1243 │ 2005.0  │ -0.584  │ -0.285  │ -0.141  │ 0.419   │ 0.555   │ 2.20881 │\n",
       "│ 1244 │ 2005.0  │ -0.024  │ -0.584  │ -0.285  │ -0.141  │ 0.419   │ 1.99669 │\n",
       "│ 1245 │ 2005.0  │ 0.252   │ -0.024  │ -0.584  │ -0.285  │ -0.141  │ 2.06517 │\n",
       "│ 1246 │ 2005.0  │ 0.422   │ 0.252   │ -0.024  │ -0.584  │ -0.285  │ 1.8885  │\n",
       "│ 1247 │ 2005.0  │ 0.043   │ 0.422   │ 0.252   │ -0.024  │ -0.584  │ 1.28581 │\n",
       "│ 1248 │ 2005.0  │ -0.955  │ 0.043   │ 0.422   │ 0.252   │ -0.024  │ 1.54047 │\n",
       "│ 1249 │ 2005.0  │ 0.13    │ -0.955  │ 0.043   │ 0.422   │ 0.252   │ 1.42236 │\n",
       "│ 1250 │ 2005.0  │ -0.298  │ 0.13    │ -0.955  │ 0.043   │ 0.422   │ 1.38254 │"
      ]
     },
     "execution_count": 5,
     "metadata": {},
     "output_type": "execute_result"
    }
   ],
   "source": [
    "smarket = dataset(\"ISLR\",\"Smarket\")"
   ]
  },
  {
   "cell_type": "code",
   "execution_count": 6,
   "metadata": {},
   "outputs": [
    {
     "name": "stdout",
     "output_type": "stream",
     "text": [
      "size(smarket) = (1250, 9)\n",
      "names(smarket) = [\"Year\", \"Lag1\", \"Lag2\", \"Lag3\", \"Lag4\", \"Lag5\", \"Volume\", \"Today\", \"Direction\"]\n"
     ]
    },
    {
     "data": {
      "text/plain": [
       "9-element Array{String,1}:\n",
       " \"Year\"\n",
       " \"Lag1\"\n",
       " \"Lag2\"\n",
       " \"Lag3\"\n",
       " \"Lag4\"\n",
       " \"Lag5\"\n",
       " \"Volume\"\n",
       " \"Today\"\n",
       " \"Direction\""
      ]
     },
     "execution_count": 6,
     "metadata": {},
     "output_type": "execute_result"
    }
   ],
   "source": [
    "@show size(smarket)\n",
    "@show names(smarket)"
   ]
  },
  {
   "cell_type": "code",
   "execution_count": 8,
   "metadata": {},
   "outputs": [
    {
     "name": "stderr",
     "output_type": "stream",
     "text": [
      "┌ Warning: `showall(df::AbstractDataFrame, allcols::Bool = true)` is deprecated, use `show(df, allrows = true, allcols = allcols)` instead.\n",
      "│   caller = showall(::DataFrame) at deprecated.jl:66\n",
      "└ @ DataFrames .\\deprecated.jl:66\n"
     ]
    },
    {
     "name": "stdout",
     "output_type": "stream",
     "text": [
      "9×8 DataFrame\n",
      "│ Row │ variable  │ mean      │ min     │ median  │ max     │ nunique │\n",
      "│     │ \u001b[90mSymbol\u001b[39m    │ \u001b[90mUnion…\u001b[39m    │ \u001b[90mAny\u001b[39m     │ \u001b[90mUnion…\u001b[39m  │ \u001b[90mAny\u001b[39m     │ \u001b[90mUnion…\u001b[39m  │\n",
      "├─────┼───────────┼───────────┼─────────┼─────────┼─────────┼─────────┤\n",
      "│ 1   │ Year      │ 2003.02   │ 2001.0  │ 2003.0  │ 2005.0  │         │\n",
      "│ 2   │ Lag1      │ 0.0038344 │ -4.922  │ 0.039   │ 5.733   │         │\n",
      "│ 3   │ Lag2      │ 0.0039192 │ -4.922  │ 0.039   │ 5.733   │         │\n",
      "│ 4   │ Lag3      │ 0.001716  │ -4.922  │ 0.0385  │ 5.733   │         │\n",
      "│ 5   │ Lag4      │ 0.001636  │ -4.922  │ 0.0385  │ 5.733   │         │\n",
      "│ 6   │ Lag5      │ 0.0056096 │ -4.922  │ 0.0385  │ 5.733   │         │\n",
      "│ 7   │ Volume    │ 1.4783    │ 0.35607 │ 1.42295 │ 3.15247 │         │\n",
      "│ 8   │ Today     │ 0.0031384 │ -4.922  │ 0.0385  │ 5.733   │         │\n",
      "│ 9   │ Direction │           │ Down    │         │ Up      │ 2       │\n",
      "\n",
      "│ Row │ nmissing │ eltype                         │\n",
      "│     │ \u001b[90mNothing\u001b[39m  │ \u001b[90mDataType\u001b[39m                       │\n",
      "├─────┼──────────┼────────────────────────────────┤\n",
      "│ 1   │          │ Float64                        │\n",
      "│ 2   │          │ Float64                        │\n",
      "│ 3   │          │ Float64                        │\n",
      "│ 4   │          │ Float64                        │\n",
      "│ 5   │          │ Float64                        │\n",
      "│ 6   │          │ Float64                        │\n",
      "│ 7   │          │ Float64                        │\n",
      "│ 8   │          │ Float64                        │\n",
      "│ 9   │          │ CategoricalValue{String,UInt8} │"
     ]
    }
   ],
   "source": [
    "showall(describe(smarket))"
   ]
  },
  {
   "cell_type": "code",
   "execution_count": 9,
   "metadata": {},
   "outputs": [
    {
     "data": {
      "text/plain": [
       "1250-element CategoricalArray{String,1,UInt8}:\n",
       " \"Up\"\n",
       " \"Up\"\n",
       " \"Down\"\n",
       " \"Up\"\n",
       " \"Up\"\n",
       " \"Up\"\n",
       " \"Down\"\n",
       " \"Up\"\n",
       " \"Up\"\n",
       " \"Up\"\n",
       " \"Down\"\n",
       " \"Down\"\n",
       " \"Up\"\n",
       " ⋮\n",
       " \"Up\"\n",
       " \"Down\"\n",
       " \"Down\"\n",
       " \"Down\"\n",
       " \"Down\"\n",
       " \"Up\"\n",
       " \"Up\"\n",
       " \"Up\"\n",
       " \"Down\"\n",
       " \"Up\"\n",
       " \"Down\"\n",
       " \"Down\""
      ]
     },
     "execution_count": 9,
     "metadata": {},
     "output_type": "execute_result"
    }
   ],
   "source": [
    "y = smarket.Direction"
   ]
  },
  {
   "cell_type": "code",
   "execution_count": 10,
   "metadata": {},
   "outputs": [
    {
     "data": {
      "text/html": [
       "<table class=\"data-frame\"><thead><tr><th></th><th>Year</th><th>Lag1</th><th>Lag2</th><th>Lag3</th><th>Lag4</th><th>Lag5</th><th>Volume</th><th>Today</th></tr><tr><th></th><th>Float64</th><th>Float64</th><th>Float64</th><th>Float64</th><th>Float64</th><th>Float64</th><th>Float64</th><th>Float64</th></tr></thead><tbody><p>1,250 rows × 8 columns</p><tr><th>1</th><td>2001.0</td><td>0.381</td><td>-0.192</td><td>-2.624</td><td>-1.055</td><td>5.01</td><td>1.1913</td><td>0.959</td></tr><tr><th>2</th><td>2001.0</td><td>0.959</td><td>0.381</td><td>-0.192</td><td>-2.624</td><td>-1.055</td><td>1.2965</td><td>1.032</td></tr><tr><th>3</th><td>2001.0</td><td>1.032</td><td>0.959</td><td>0.381</td><td>-0.192</td><td>-2.624</td><td>1.4112</td><td>-0.623</td></tr><tr><th>4</th><td>2001.0</td><td>-0.623</td><td>1.032</td><td>0.959</td><td>0.381</td><td>-0.192</td><td>1.276</td><td>0.614</td></tr><tr><th>5</th><td>2001.0</td><td>0.614</td><td>-0.623</td><td>1.032</td><td>0.959</td><td>0.381</td><td>1.2057</td><td>0.213</td></tr><tr><th>6</th><td>2001.0</td><td>0.213</td><td>0.614</td><td>-0.623</td><td>1.032</td><td>0.959</td><td>1.3491</td><td>1.392</td></tr><tr><th>7</th><td>2001.0</td><td>1.392</td><td>0.213</td><td>0.614</td><td>-0.623</td><td>1.032</td><td>1.445</td><td>-0.403</td></tr><tr><th>8</th><td>2001.0</td><td>-0.403</td><td>1.392</td><td>0.213</td><td>0.614</td><td>-0.623</td><td>1.4078</td><td>0.027</td></tr><tr><th>9</th><td>2001.0</td><td>0.027</td><td>-0.403</td><td>1.392</td><td>0.213</td><td>0.614</td><td>1.164</td><td>1.303</td></tr><tr><th>10</th><td>2001.0</td><td>1.303</td><td>0.027</td><td>-0.403</td><td>1.392</td><td>0.213</td><td>1.2326</td><td>0.287</td></tr><tr><th>11</th><td>2001.0</td><td>0.287</td><td>1.303</td><td>0.027</td><td>-0.403</td><td>1.392</td><td>1.309</td><td>-0.498</td></tr><tr><th>12</th><td>2001.0</td><td>-0.498</td><td>0.287</td><td>1.303</td><td>0.027</td><td>-0.403</td><td>1.258</td><td>-0.189</td></tr><tr><th>13</th><td>2001.0</td><td>-0.189</td><td>-0.498</td><td>0.287</td><td>1.303</td><td>0.027</td><td>1.098</td><td>0.68</td></tr><tr><th>14</th><td>2001.0</td><td>0.68</td><td>-0.189</td><td>-0.498</td><td>0.287</td><td>1.303</td><td>1.0531</td><td>0.701</td></tr><tr><th>15</th><td>2001.0</td><td>0.701</td><td>0.68</td><td>-0.189</td><td>-0.498</td><td>0.287</td><td>1.1498</td><td>-0.562</td></tr><tr><th>16</th><td>2001.0</td><td>-0.562</td><td>0.701</td><td>0.68</td><td>-0.189</td><td>-0.498</td><td>1.2953</td><td>0.546</td></tr><tr><th>17</th><td>2001.0</td><td>0.546</td><td>-0.562</td><td>0.701</td><td>0.68</td><td>-0.189</td><td>1.1188</td><td>-1.747</td></tr><tr><th>18</th><td>2001.0</td><td>-1.747</td><td>0.546</td><td>-0.562</td><td>0.701</td><td>0.68</td><td>1.0484</td><td>0.359</td></tr><tr><th>19</th><td>2001.0</td><td>0.359</td><td>-1.747</td><td>0.546</td><td>-0.562</td><td>0.701</td><td>1.013</td><td>-0.151</td></tr><tr><th>20</th><td>2001.0</td><td>-0.151</td><td>0.359</td><td>-1.747</td><td>0.546</td><td>-0.562</td><td>1.0596</td><td>-0.841</td></tr><tr><th>21</th><td>2001.0</td><td>-0.841</td><td>-0.151</td><td>0.359</td><td>-1.747</td><td>0.546</td><td>1.1583</td><td>-0.623</td></tr><tr><th>22</th><td>2001.0</td><td>-0.623</td><td>-0.841</td><td>-0.151</td><td>0.359</td><td>-1.747</td><td>1.1072</td><td>-1.334</td></tr><tr><th>23</th><td>2001.0</td><td>-1.334</td><td>-0.623</td><td>-0.841</td><td>-0.151</td><td>0.359</td><td>1.0755</td><td>1.183</td></tr><tr><th>24</th><td>2001.0</td><td>1.183</td><td>-1.334</td><td>-0.623</td><td>-0.841</td><td>-0.151</td><td>1.0391</td><td>-0.865</td></tr><tr><th>25</th><td>2001.0</td><td>-0.865</td><td>1.183</td><td>-1.334</td><td>-0.623</td><td>-0.841</td><td>1.0752</td><td>-0.218</td></tr><tr><th>26</th><td>2001.0</td><td>-0.218</td><td>-0.865</td><td>1.183</td><td>-1.334</td><td>-0.623</td><td>1.1503</td><td>0.812</td></tr><tr><th>27</th><td>2001.0</td><td>0.812</td><td>-0.218</td><td>-0.865</td><td>1.183</td><td>-1.334</td><td>1.1537</td><td>-1.891</td></tr><tr><th>28</th><td>2001.0</td><td>-1.891</td><td>0.812</td><td>-0.218</td><td>-0.865</td><td>1.183</td><td>1.2572</td><td>-1.736</td></tr><tr><th>29</th><td>2001.0</td><td>-1.736</td><td>-1.891</td><td>0.812</td><td>-0.218</td><td>-0.865</td><td>1.1122</td><td>-1.851</td></tr><tr><th>30</th><td>2001.0</td><td>-1.851</td><td>-1.736</td><td>-1.891</td><td>0.812</td><td>-0.218</td><td>1.2085</td><td>-0.195</td></tr><tr><th>&vellip;</th><td>&vellip;</td><td>&vellip;</td><td>&vellip;</td><td>&vellip;</td><td>&vellip;</td><td>&vellip;</td><td>&vellip;</td><td>&vellip;</td></tr></tbody></table>"
      ],
      "text/latex": [
       "\\begin{tabular}{r|cccccccc}\n",
       "\t& Year & Lag1 & Lag2 & Lag3 & Lag4 & Lag5 & Volume & Today\\\\\n",
       "\t\\hline\n",
       "\t& Float64 & Float64 & Float64 & Float64 & Float64 & Float64 & Float64 & Float64\\\\\n",
       "\t\\hline\n",
       "\t1 & 2001.0 & 0.381 & -0.192 & -2.624 & -1.055 & 5.01 & 1.1913 & 0.959 \\\\\n",
       "\t2 & 2001.0 & 0.959 & 0.381 & -0.192 & -2.624 & -1.055 & 1.2965 & 1.032 \\\\\n",
       "\t3 & 2001.0 & 1.032 & 0.959 & 0.381 & -0.192 & -2.624 & 1.4112 & -0.623 \\\\\n",
       "\t4 & 2001.0 & -0.623 & 1.032 & 0.959 & 0.381 & -0.192 & 1.276 & 0.614 \\\\\n",
       "\t5 & 2001.0 & 0.614 & -0.623 & 1.032 & 0.959 & 0.381 & 1.2057 & 0.213 \\\\\n",
       "\t6 & 2001.0 & 0.213 & 0.614 & -0.623 & 1.032 & 0.959 & 1.3491 & 1.392 \\\\\n",
       "\t7 & 2001.0 & 1.392 & 0.213 & 0.614 & -0.623 & 1.032 & 1.445 & -0.403 \\\\\n",
       "\t8 & 2001.0 & -0.403 & 1.392 & 0.213 & 0.614 & -0.623 & 1.4078 & 0.027 \\\\\n",
       "\t9 & 2001.0 & 0.027 & -0.403 & 1.392 & 0.213 & 0.614 & 1.164 & 1.303 \\\\\n",
       "\t10 & 2001.0 & 1.303 & 0.027 & -0.403 & 1.392 & 0.213 & 1.2326 & 0.287 \\\\\n",
       "\t11 & 2001.0 & 0.287 & 1.303 & 0.027 & -0.403 & 1.392 & 1.309 & -0.498 \\\\\n",
       "\t12 & 2001.0 & -0.498 & 0.287 & 1.303 & 0.027 & -0.403 & 1.258 & -0.189 \\\\\n",
       "\t13 & 2001.0 & -0.189 & -0.498 & 0.287 & 1.303 & 0.027 & 1.098 & 0.68 \\\\\n",
       "\t14 & 2001.0 & 0.68 & -0.189 & -0.498 & 0.287 & 1.303 & 1.0531 & 0.701 \\\\\n",
       "\t15 & 2001.0 & 0.701 & 0.68 & -0.189 & -0.498 & 0.287 & 1.1498 & -0.562 \\\\\n",
       "\t16 & 2001.0 & -0.562 & 0.701 & 0.68 & -0.189 & -0.498 & 1.2953 & 0.546 \\\\\n",
       "\t17 & 2001.0 & 0.546 & -0.562 & 0.701 & 0.68 & -0.189 & 1.1188 & -1.747 \\\\\n",
       "\t18 & 2001.0 & -1.747 & 0.546 & -0.562 & 0.701 & 0.68 & 1.0484 & 0.359 \\\\\n",
       "\t19 & 2001.0 & 0.359 & -1.747 & 0.546 & -0.562 & 0.701 & 1.013 & -0.151 \\\\\n",
       "\t20 & 2001.0 & -0.151 & 0.359 & -1.747 & 0.546 & -0.562 & 1.0596 & -0.841 \\\\\n",
       "\t21 & 2001.0 & -0.841 & -0.151 & 0.359 & -1.747 & 0.546 & 1.1583 & -0.623 \\\\\n",
       "\t22 & 2001.0 & -0.623 & -0.841 & -0.151 & 0.359 & -1.747 & 1.1072 & -1.334 \\\\\n",
       "\t23 & 2001.0 & -1.334 & -0.623 & -0.841 & -0.151 & 0.359 & 1.0755 & 1.183 \\\\\n",
       "\t24 & 2001.0 & 1.183 & -1.334 & -0.623 & -0.841 & -0.151 & 1.0391 & -0.865 \\\\\n",
       "\t25 & 2001.0 & -0.865 & 1.183 & -1.334 & -0.623 & -0.841 & 1.0752 & -0.218 \\\\\n",
       "\t26 & 2001.0 & -0.218 & -0.865 & 1.183 & -1.334 & -0.623 & 1.1503 & 0.812 \\\\\n",
       "\t27 & 2001.0 & 0.812 & -0.218 & -0.865 & 1.183 & -1.334 & 1.1537 & -1.891 \\\\\n",
       "\t28 & 2001.0 & -1.891 & 0.812 & -0.218 & -0.865 & 1.183 & 1.2572 & -1.736 \\\\\n",
       "\t29 & 2001.0 & -1.736 & -1.891 & 0.812 & -0.218 & -0.865 & 1.1122 & -1.851 \\\\\n",
       "\t30 & 2001.0 & -1.851 & -1.736 & -1.891 & 0.812 & -0.218 & 1.2085 & -0.195 \\\\\n",
       "\t$\\dots$ & $\\dots$ & $\\dots$ & $\\dots$ & $\\dots$ & $\\dots$ & $\\dots$ & $\\dots$ & $\\dots$ \\\\\n",
       "\\end{tabular}\n"
      ],
      "text/plain": [
       "1250×8 DataFrame. Omitted printing of 1 columns\n",
       "│ Row  │ Year    │ Lag1    │ Lag2    │ Lag3    │ Lag4    │ Lag5    │ Volume  │\n",
       "│      │ \u001b[90mFloat64\u001b[39m │ \u001b[90mFloat64\u001b[39m │ \u001b[90mFloat64\u001b[39m │ \u001b[90mFloat64\u001b[39m │ \u001b[90mFloat64\u001b[39m │ \u001b[90mFloat64\u001b[39m │ \u001b[90mFloat64\u001b[39m │\n",
       "├──────┼─────────┼─────────┼─────────┼─────────┼─────────┼─────────┼─────────┤\n",
       "│ 1    │ 2001.0  │ 0.381   │ -0.192  │ -2.624  │ -1.055  │ 5.01    │ 1.1913  │\n",
       "│ 2    │ 2001.0  │ 0.959   │ 0.381   │ -0.192  │ -2.624  │ -1.055  │ 1.2965  │\n",
       "│ 3    │ 2001.0  │ 1.032   │ 0.959   │ 0.381   │ -0.192  │ -2.624  │ 1.4112  │\n",
       "│ 4    │ 2001.0  │ -0.623  │ 1.032   │ 0.959   │ 0.381   │ -0.192  │ 1.276   │\n",
       "│ 5    │ 2001.0  │ 0.614   │ -0.623  │ 1.032   │ 0.959   │ 0.381   │ 1.2057  │\n",
       "│ 6    │ 2001.0  │ 0.213   │ 0.614   │ -0.623  │ 1.032   │ 0.959   │ 1.3491  │\n",
       "│ 7    │ 2001.0  │ 1.392   │ 0.213   │ 0.614   │ -0.623  │ 1.032   │ 1.445   │\n",
       "│ 8    │ 2001.0  │ -0.403  │ 1.392   │ 0.213   │ 0.614   │ -0.623  │ 1.4078  │\n",
       "│ 9    │ 2001.0  │ 0.027   │ -0.403  │ 1.392   │ 0.213   │ 0.614   │ 1.164   │\n",
       "│ 10   │ 2001.0  │ 1.303   │ 0.027   │ -0.403  │ 1.392   │ 0.213   │ 1.2326  │\n",
       "⋮\n",
       "│ 1240 │ 2005.0  │ 0.419   │ 0.555   │ 0.084   │ 0.281   │ -0.122  │ 2.14552 │\n",
       "│ 1241 │ 2005.0  │ -0.141  │ 0.419   │ 0.555   │ 0.084   │ 0.281   │ 2.18059 │\n",
       "│ 1242 │ 2005.0  │ -0.285  │ -0.141  │ 0.419   │ 0.555   │ 0.084   │ 2.58419 │\n",
       "│ 1243 │ 2005.0  │ -0.584  │ -0.285  │ -0.141  │ 0.419   │ 0.555   │ 2.20881 │\n",
       "│ 1244 │ 2005.0  │ -0.024  │ -0.584  │ -0.285  │ -0.141  │ 0.419   │ 1.99669 │\n",
       "│ 1245 │ 2005.0  │ 0.252   │ -0.024  │ -0.584  │ -0.285  │ -0.141  │ 2.06517 │\n",
       "│ 1246 │ 2005.0  │ 0.422   │ 0.252   │ -0.024  │ -0.584  │ -0.285  │ 1.8885  │\n",
       "│ 1247 │ 2005.0  │ 0.043   │ 0.422   │ 0.252   │ -0.024  │ -0.584  │ 1.28581 │\n",
       "│ 1248 │ 2005.0  │ -0.955  │ 0.043   │ 0.422   │ 0.252   │ -0.024  │ 1.54047 │\n",
       "│ 1249 │ 2005.0  │ 0.13    │ -0.955  │ 0.043   │ 0.422   │ 0.252   │ 1.42236 │\n",
       "│ 1250 │ 2005.0  │ -0.298  │ 0.13    │ -0.955  │ 0.043   │ 0.422   │ 1.38254 │"
      ]
     },
     "execution_count": 10,
     "metadata": {},
     "output_type": "execute_result"
    }
   ],
   "source": [
    "X= select(smarket,Not(:Direction))"
   ]
  },
  {
   "cell_type": "code",
   "execution_count": 13,
   "metadata": {},
   "outputs": [
    {
     "data": {
      "text/plain": [
       "8×8 Array{Float64,2}:\n",
       " 1.0         0.0296996    0.0305964    0.0331946   …   0.539006    0.0300952\n",
       " 0.0296996   1.0         -0.0262943   -0.0108034       0.0409099  -0.026155\n",
       " 0.0305964  -0.0262943    1.0         -0.0258967      -0.0433832  -0.01025\n",
       " 0.0331946  -0.0108034   -0.0258967    1.0            -0.0418237  -0.00244765\n",
       " 0.0356887  -0.00298591  -0.0108535   -0.024051       -0.0484142  -0.00689953\n",
       " 0.029788   -0.00567461  -0.00355795  -0.0188083   …  -0.0220023  -0.0348601\n",
       " 0.539006    0.0409099   -0.0433832   -0.0418237       1.0         0.0145918\n",
       " 0.0300952  -0.026155    -0.01025     -0.00244765      0.0145918   1.0"
      ]
     },
     "execution_count": 13,
     "metadata": {},
     "output_type": "execute_result"
    }
   ],
   "source": [
    "cm= X |> Matrix |> cor"
   ]
  },
  {
   "cell_type": "code",
   "execution_count": 14,
   "metadata": {},
   "outputs": [
    {
     "data": {
      "text/plain": [
       "8×8 Array{Float64,2}:\n",
       " 1.0    0.03    0.03    0.03    0.04    0.03    0.5    0.03\n",
       " 0.03   1.0    -0.03   -0.01   -0.003  -0.006   0.04  -0.03\n",
       " 0.03  -0.03    1.0    -0.03   -0.01   -0.004  -0.04  -0.01\n",
       " 0.03  -0.01   -0.03    1.0    -0.02   -0.02   -0.04  -0.002\n",
       " 0.04  -0.003  -0.01   -0.02    1.0    -0.03   -0.05  -0.007\n",
       " 0.03  -0.006  -0.004  -0.02   -0.03    1.0    -0.02  -0.03\n",
       " 0.5    0.04   -0.04   -0.04   -0.05   -0.02    1.0    0.01\n",
       " 0.03  -0.03   -0.01   -0.002  -0.007  -0.03    0.01   1.0"
      ]
     },
     "execution_count": 14,
     "metadata": {},
     "output_type": "execute_result"
    }
   ],
   "source": [
    "round.(cm, sigdigits=1)"
   ]
  },
  {
   "cell_type": "code",
   "execution_count": 15,
   "metadata": {},
   "outputs": [],
   "source": [
    "using PyPlot"
   ]
  },
  {
   "cell_type": "code",
   "execution_count": 17,
   "metadata": {},
   "outputs": [
    {
     "data": {
      "image/png": "[encoded data removed]",
      "text/plain": [
       "Figure(PyObject <Figure size 800x600 with 1 Axes>)"
      ]
     },
     "metadata": {},
     "output_type": "display_data"
    },
    {
     "data": {
      "text/plain": [
       "([0.0, 0.5, 1.0, 1.5, 2.0, 2.5, 3.0, 3.5], PyCall.PyObject[PyObject Text(0, 0.0, '0.0'), PyObject Text(0, 0.5, '0.5'), PyObject Text(0, 1.0, '1.0'), PyObject Text(0, 1.5, '1.5'), PyObject Text(0, 2.0, '2.0'), PyObject Text(0, 2.5, '2.5'), PyObject Text(0, 3.0, '3.0'), PyObject Text(0, 3.5, '3.5')])"
      ]
     },
     "execution_count": 17,
     "metadata": {},
     "output_type": "execute_result"
    }
   ],
   "source": [
    "figure(figsize=(8,6))\n",
    "plot(X.Volume)\n",
    "xlabel(\"tick number\",fontsize=14)\n",
    "ylabel(\"volume\",fontsize=14)\n",
    "xticks(fontsize=12)\n",
    "yticks(fontsize=12)"
   ]
  },
  {
   "cell_type": "code",
   "execution_count": 19,
   "metadata": {},
   "outputs": [
    {
     "data": {
      "text/plain": [
       "2-element CategoricalArray{String,1,UInt8}:\n",
       " \"Down\"\n",
       " \"Up\""
      ]
     },
     "execution_count": 19,
     "metadata": {},
     "output_type": "execute_result"
    }
   ],
   "source": [
    "y= coerce(y,OrderedFactor)\n",
    "classes(y[1])"
   ]
  },
  {
   "cell_type": "code",
   "execution_count": 20,
   "metadata": {},
   "outputs": [
    {
     "data": {
      "image/png": "[encoded data removed]",
      "text/plain": [
       "Figure(PyObject <Figure size 800x600 with 1 Axes>)"
      ]
     },
     "metadata": {},
     "output_type": "display_data"
    },
    {
     "data": {
      "text/plain": [
       "PyObject Text(29.000000000000014, 0.5, 'Number of occurences')"
      ]
     },
     "execution_count": 20,
     "metadata": {},
     "output_type": "execute_result"
    }
   ],
   "source": [
    "figure(figsize=(8,6))\n",
    "cm = countmap(y)\n",
    "bar([1, 2], [cm[\"Down\"], cm[\"Up\"]])\n",
    "xticks([1, 2], [\"Down\", \"Up\"], fontsize=12)\n",
    "yticks(fontsize=12)\n",
    "ylabel(\"Number of occurences\", fontsize=14)"
   ]
  },
  {
   "cell_type": "code",
   "execution_count": 22,
   "metadata": {},
   "outputs": [
    {
     "name": "stderr",
     "output_type": "stream",
     "text": [
      "┌ Info: Precompiling MLJLinearModels [6ee0df7b-362f-4a72-a706-9e79364fb692]\n",
      "└ @ Base loading.jl:1260\n"
     ]
    },
    {
     "data": {
      "text/plain": [
       "LogisticClassifier(\n",
       "    lambda = 1.0,\n",
       "    gamma = 0.0,\n",
       "    penalty = :l2,\n",
       "    fit_intercept = true,\n",
       "    penalize_intercept = false,\n",
       "    solver = nothing)\u001b[34m @018\u001b[39m"
      ]
     },
     "execution_count": 22,
     "metadata": {},
     "output_type": "execute_result"
    }
   ],
   "source": [
    "@load LogisticClassifier pkg= MLJLinearModels"
   ]
  },
  {
   "cell_type": "code",
   "execution_count": 24,
   "metadata": {},
   "outputs": [
    {
     "data": {
      "text/html": [
       "<table class=\"data-frame\"><thead><tr><th></th><th>Lag1</th><th>Lag2</th><th>Lag3</th><th>Lag4</th><th>Lag5</th><th>Volume</th></tr><tr><th></th><th>Float64</th><th>Float64</th><th>Float64</th><th>Float64</th><th>Float64</th><th>Float64</th></tr></thead><tbody><p>1,250 rows × 6 columns</p><tr><th>1</th><td>0.381</td><td>-0.192</td><td>-2.624</td><td>-1.055</td><td>5.01</td><td>1.1913</td></tr><tr><th>2</th><td>0.959</td><td>0.381</td><td>-0.192</td><td>-2.624</td><td>-1.055</td><td>1.2965</td></tr><tr><th>3</th><td>1.032</td><td>0.959</td><td>0.381</td><td>-0.192</td><td>-2.624</td><td>1.4112</td></tr><tr><th>4</th><td>-0.623</td><td>1.032</td><td>0.959</td><td>0.381</td><td>-0.192</td><td>1.276</td></tr><tr><th>5</th><td>0.614</td><td>-0.623</td><td>1.032</td><td>0.959</td><td>0.381</td><td>1.2057</td></tr><tr><th>6</th><td>0.213</td><td>0.614</td><td>-0.623</td><td>1.032</td><td>0.959</td><td>1.3491</td></tr><tr><th>7</th><td>1.392</td><td>0.213</td><td>0.614</td><td>-0.623</td><td>1.032</td><td>1.445</td></tr><tr><th>8</th><td>-0.403</td><td>1.392</td><td>0.213</td><td>0.614</td><td>-0.623</td><td>1.4078</td></tr><tr><th>9</th><td>0.027</td><td>-0.403</td><td>1.392</td><td>0.213</td><td>0.614</td><td>1.164</td></tr><tr><th>10</th><td>1.303</td><td>0.027</td><td>-0.403</td><td>1.392</td><td>0.213</td><td>1.2326</td></tr><tr><th>11</th><td>0.287</td><td>1.303</td><td>0.027</td><td>-0.403</td><td>1.392</td><td>1.309</td></tr><tr><th>12</th><td>-0.498</td><td>0.287</td><td>1.303</td><td>0.027</td><td>-0.403</td><td>1.258</td></tr><tr><th>13</th><td>-0.189</td><td>-0.498</td><td>0.287</td><td>1.303</td><td>0.027</td><td>1.098</td></tr><tr><th>14</th><td>0.68</td><td>-0.189</td><td>-0.498</td><td>0.287</td><td>1.303</td><td>1.0531</td></tr><tr><th>15</th><td>0.701</td><td>0.68</td><td>-0.189</td><td>-0.498</td><td>0.287</td><td>1.1498</td></tr><tr><th>16</th><td>-0.562</td><td>0.701</td><td>0.68</td><td>-0.189</td><td>-0.498</td><td>1.2953</td></tr><tr><th>17</th><td>0.546</td><td>-0.562</td><td>0.701</td><td>0.68</td><td>-0.189</td><td>1.1188</td></tr><tr><th>18</th><td>-1.747</td><td>0.546</td><td>-0.562</td><td>0.701</td><td>0.68</td><td>1.0484</td></tr><tr><th>19</th><td>0.359</td><td>-1.747</td><td>0.546</td><td>-0.562</td><td>0.701</td><td>1.013</td></tr><tr><th>20</th><td>-0.151</td><td>0.359</td><td>-1.747</td><td>0.546</td><td>-0.562</td><td>1.0596</td></tr><tr><th>21</th><td>-0.841</td><td>-0.151</td><td>0.359</td><td>-1.747</td><td>0.546</td><td>1.1583</td></tr><tr><th>22</th><td>-0.623</td><td>-0.841</td><td>-0.151</td><td>0.359</td><td>-1.747</td><td>1.1072</td></tr><tr><th>23</th><td>-1.334</td><td>-0.623</td><td>-0.841</td><td>-0.151</td><td>0.359</td><td>1.0755</td></tr><tr><th>24</th><td>1.183</td><td>-1.334</td><td>-0.623</td><td>-0.841</td><td>-0.151</td><td>1.0391</td></tr><tr><th>25</th><td>-0.865</td><td>1.183</td><td>-1.334</td><td>-0.623</td><td>-0.841</td><td>1.0752</td></tr><tr><th>26</th><td>-0.218</td><td>-0.865</td><td>1.183</td><td>-1.334</td><td>-0.623</td><td>1.1503</td></tr><tr><th>27</th><td>0.812</td><td>-0.218</td><td>-0.865</td><td>1.183</td><td>-1.334</td><td>1.1537</td></tr><tr><th>28</th><td>-1.891</td><td>0.812</td><td>-0.218</td><td>-0.865</td><td>1.183</td><td>1.2572</td></tr><tr><th>29</th><td>-1.736</td><td>-1.891</td><td>0.812</td><td>-0.218</td><td>-0.865</td><td>1.1122</td></tr><tr><th>30</th><td>-1.851</td><td>-1.736</td><td>-1.891</td><td>0.812</td><td>-0.218</td><td>1.2085</td></tr><tr><th>&vellip;</th><td>&vellip;</td><td>&vellip;</td><td>&vellip;</td><td>&vellip;</td><td>&vellip;</td><td>&vellip;</td></tr></tbody></table>"
      ],
      "text/latex": [
       "\\begin{tabular}{r|cccccc}\n",
       "\t& Lag1 & Lag2 & Lag3 & Lag4 & Lag5 & Volume\\\\\n",
       "\t\\hline\n",
       "\t& Float64 & Float64 & Float64 & Float64 & Float64 & Float64\\\\\n",
       "\t\\hline\n",
       "\t1 & 0.381 & -0.192 & -2.624 & -1.055 & 5.01 & 1.1913 \\\\\n",
       "\t2 & 0.959 & 0.381 & -0.192 & -2.624 & -1.055 & 1.2965 \\\\\n",
       "\t3 & 1.032 & 0.959 & 0.381 & -0.192 & -2.624 & 1.4112 \\\\\n",
       "\t4 & -0.623 & 1.032 & 0.959 & 0.381 & -0.192 & 1.276 \\\\\n",
       "\t5 & 0.614 & -0.623 & 1.032 & 0.959 & 0.381 & 1.2057 \\\\\n",
       "\t6 & 0.213 & 0.614 & -0.623 & 1.032 & 0.959 & 1.3491 \\\\\n",
       "\t7 & 1.392 & 0.213 & 0.614 & -0.623 & 1.032 & 1.445 \\\\\n",
       "\t8 & -0.403 & 1.392 & 0.213 & 0.614 & -0.623 & 1.4078 \\\\\n",
       "\t9 & 0.027 & -0.403 & 1.392 & 0.213 & 0.614 & 1.164 \\\\\n",
       "\t10 & 1.303 & 0.027 & -0.403 & 1.392 & 0.213 & 1.2326 \\\\\n",
       "\t11 & 0.287 & 1.303 & 0.027 & -0.403 & 1.392 & 1.309 \\\\\n",
       "\t12 & -0.498 & 0.287 & 1.303 & 0.027 & -0.403 & 1.258 \\\\\n",
       "\t13 & -0.189 & -0.498 & 0.287 & 1.303 & 0.027 & 1.098 \\\\\n",
       "\t14 & 0.68 & -0.189 & -0.498 & 0.287 & 1.303 & 1.0531 \\\\\n",
       "\t15 & 0.701 & 0.68 & -0.189 & -0.498 & 0.287 & 1.1498 \\\\\n",
       "\t16 & -0.562 & 0.701 & 0.68 & -0.189 & -0.498 & 1.2953 \\\\\n",
       "\t17 & 0.546 & -0.562 & 0.701 & 0.68 & -0.189 & 1.1188 \\\\\n",
       "\t18 & -1.747 & 0.546 & -0.562 & 0.701 & 0.68 & 1.0484 \\\\\n",
       "\t19 & 0.359 & -1.747 & 0.546 & -0.562 & 0.701 & 1.013 \\\\\n",
       "\t20 & -0.151 & 0.359 & -1.747 & 0.546 & -0.562 & 1.0596 \\\\\n",
       "\t21 & -0.841 & -0.151 & 0.359 & -1.747 & 0.546 & 1.1583 \\\\\n",
       "\t22 & -0.623 & -0.841 & -0.151 & 0.359 & -1.747 & 1.1072 \\\\\n",
       "\t23 & -1.334 & -0.623 & -0.841 & -0.151 & 0.359 & 1.0755 \\\\\n",
       "\t24 & 1.183 & -1.334 & -0.623 & -0.841 & -0.151 & 1.0391 \\\\\n",
       "\t25 & -0.865 & 1.183 & -1.334 & -0.623 & -0.841 & 1.0752 \\\\\n",
       "\t26 & -0.218 & -0.865 & 1.183 & -1.334 & -0.623 & 1.1503 \\\\\n",
       "\t27 & 0.812 & -0.218 & -0.865 & 1.183 & -1.334 & 1.1537 \\\\\n",
       "\t28 & -1.891 & 0.812 & -0.218 & -0.865 & 1.183 & 1.2572 \\\\\n",
       "\t29 & -1.736 & -1.891 & 0.812 & -0.218 & -0.865 & 1.1122 \\\\\n",
       "\t30 & -1.851 & -1.736 & -1.891 & 0.812 & -0.218 & 1.2085 \\\\\n",
       "\t$\\dots$ & $\\dots$ & $\\dots$ & $\\dots$ & $\\dots$ & $\\dots$ & $\\dots$ \\\\\n",
       "\\end{tabular}\n"
      ],
      "text/plain": [
       "1250×6 DataFrame\n",
       "│ Row  │ Lag1    │ Lag2    │ Lag3    │ Lag4    │ Lag5    │ Volume  │\n",
       "│      │ \u001b[90mFloat64\u001b[39m │ \u001b[90mFloat64\u001b[39m │ \u001b[90mFloat64\u001b[39m │ \u001b[90mFloat64\u001b[39m │ \u001b[90mFloat64\u001b[39m │ \u001b[90mFloat64\u001b[39m │\n",
       "├──────┼─────────┼─────────┼─────────┼─────────┼─────────┼─────────┤\n",
       "│ 1    │ 0.381   │ -0.192  │ -2.624  │ -1.055  │ 5.01    │ 1.1913  │\n",
       "│ 2    │ 0.959   │ 0.381   │ -0.192  │ -2.624  │ -1.055  │ 1.2965  │\n",
       "│ 3    │ 1.032   │ 0.959   │ 0.381   │ -0.192  │ -2.624  │ 1.4112  │\n",
       "│ 4    │ -0.623  │ 1.032   │ 0.959   │ 0.381   │ -0.192  │ 1.276   │\n",
       "│ 5    │ 0.614   │ -0.623  │ 1.032   │ 0.959   │ 0.381   │ 1.2057  │\n",
       "│ 6    │ 0.213   │ 0.614   │ -0.623  │ 1.032   │ 0.959   │ 1.3491  │\n",
       "│ 7    │ 1.392   │ 0.213   │ 0.614   │ -0.623  │ 1.032   │ 1.445   │\n",
       "│ 8    │ -0.403  │ 1.392   │ 0.213   │ 0.614   │ -0.623  │ 1.4078  │\n",
       "│ 9    │ 0.027   │ -0.403  │ 1.392   │ 0.213   │ 0.614   │ 1.164   │\n",
       "│ 10   │ 1.303   │ 0.027   │ -0.403  │ 1.392   │ 0.213   │ 1.2326  │\n",
       "⋮\n",
       "│ 1240 │ 0.419   │ 0.555   │ 0.084   │ 0.281   │ -0.122  │ 2.14552 │\n",
       "│ 1241 │ -0.141  │ 0.419   │ 0.555   │ 0.084   │ 0.281   │ 2.18059 │\n",
       "│ 1242 │ -0.285  │ -0.141  │ 0.419   │ 0.555   │ 0.084   │ 2.58419 │\n",
       "│ 1243 │ -0.584  │ -0.285  │ -0.141  │ 0.419   │ 0.555   │ 2.20881 │\n",
       "│ 1244 │ -0.024  │ -0.584  │ -0.285  │ -0.141  │ 0.419   │ 1.99669 │\n",
       "│ 1245 │ 0.252   │ -0.024  │ -0.584  │ -0.285  │ -0.141  │ 2.06517 │\n",
       "│ 1246 │ 0.422   │ 0.252   │ -0.024  │ -0.584  │ -0.285  │ 1.8885  │\n",
       "│ 1247 │ 0.043   │ 0.422   │ 0.252   │ -0.024  │ -0.584  │ 1.28581 │\n",
       "│ 1248 │ -0.955  │ 0.043   │ 0.422   │ 0.252   │ -0.024  │ 1.54047 │\n",
       "│ 1249 │ 0.13    │ -0.955  │ 0.043   │ 0.422   │ 0.252   │ 1.42236 │\n",
       "│ 1250 │ -0.298  │ 0.13    │ -0.955  │ 0.043   │ 0.422   │ 1.38254 │"
      ]
     },
     "execution_count": 24,
     "metadata": {},
     "output_type": "execute_result"
    }
   ],
   "source": [
    "X2=  select(X,Not([:Year,:Today]))"
   ]
  },
  {
   "cell_type": "code",
   "execution_count": 25,
   "metadata": {},
   "outputs": [
    {
     "data": {
      "text/plain": [
       "\u001b[34mMachine{LogisticClassifier} @859\u001b[39m trained 0 times.\n",
       "  args: \n",
       "    1:\t\u001b[34mSource @757\u001b[39m ⏎ `Table{AbstractArray{Continuous,1}}`\n",
       "    2:\t\u001b[34mSource @214\u001b[39m ⏎ `AbstractArray{OrderedFactor{2},1}`\n"
      ]
     },
     "execution_count": 25,
     "metadata": {},
     "output_type": "execute_result"
    }
   ],
   "source": [
    "clf = machine(LogisticClassifier(),X2,y)"
   ]
  },
  {
   "cell_type": "code",
   "execution_count": 26,
   "metadata": {},
   "outputs": [
    {
     "name": "stderr",
     "output_type": "stream",
     "text": [
      "┌ Info: Training \u001b[34mMachine{LogisticClassifier} @859\u001b[39m.\n",
      "└ @ MLJBase C:\\Users\\Rahul\\.julia\\packages\\MLJBase\\uKzAz\\src\\machines.jl:319\n"
     ]
    },
    {
     "data": {
      "text/plain": [
       "\u001b[34mMachine{LogisticClassifier} @859\u001b[39m trained 1 time.\n",
       "  args: \n",
       "    1:\t\u001b[34mSource @757\u001b[39m ⏎ `Table{AbstractArray{Continuous,1}}`\n",
       "    2:\t\u001b[34mSource @214\u001b[39m ⏎ `AbstractArray{OrderedFactor{2},1}`\n"
      ]
     },
     "execution_count": 26,
     "metadata": {},
     "output_type": "execute_result"
    }
   ],
   "source": [
    "fit!(clf)"
   ]
  },
  {
   "cell_type": "code",
   "execution_count": 27,
   "metadata": {},
   "outputs": [
    {
     "data": {
      "text/plain": [
       "1250-element MLJBase.UnivariateFiniteArray{OrderedFactor{2},String,UInt8,Float64,1}:\n",
       " UnivariateFinite{OrderedFactor{2}}(Down=>0.493, Up=>0.507)\n",
       " UnivariateFinite{OrderedFactor{2}}(Down=>0.518, Up=>0.482)\n",
       " UnivariateFinite{OrderedFactor{2}}(Down=>0.519, Up=>0.481)\n",
       " UnivariateFinite{OrderedFactor{2}}(Down=>0.485, Up=>0.515)\n",
       " UnivariateFinite{OrderedFactor{2}}(Down=>0.489, Up=>0.511)\n",
       " UnivariateFinite{OrderedFactor{2}}(Down=>0.493, Up=>0.507)\n",
       " UnivariateFinite{OrderedFactor{2}}(Down=>0.507, Up=>0.493)\n",
       " UnivariateFinite{OrderedFactor{2}}(Down=>0.491, Up=>0.509)\n",
       " UnivariateFinite{OrderedFactor{2}}(Down=>0.482, Up=>0.518)\n",
       " UnivariateFinite{OrderedFactor{2}}(Down=>0.511, Up=>0.489)\n",
       " UnivariateFinite{OrderedFactor{2}}(Down=>0.503, Up=>0.497)\n",
       " UnivariateFinite{OrderedFactor{2}}(Down=>0.48, Up=>0.52)\n",
       " UnivariateFinite{OrderedFactor{2}}(Down=>0.481, Up=>0.519)\n",
       " ⋮\n",
       " UnivariateFinite{OrderedFactor{2}}(Down=>0.463, Up=>0.537)\n",
       " UnivariateFinite{OrderedFactor{2}}(Down=>0.472, Up=>0.528)\n",
       " UnivariateFinite{OrderedFactor{2}}(Down=>0.458, Up=>0.542)\n",
       " UnivariateFinite{OrderedFactor{2}}(Down=>0.436, Up=>0.564)\n",
       " UnivariateFinite{OrderedFactor{2}}(Down=>0.442, Up=>0.558)\n",
       " UnivariateFinite{OrderedFactor{2}}(Down=>0.458, Up=>0.542)\n",
       " UnivariateFinite{OrderedFactor{2}}(Down=>0.469, Up=>0.531)\n",
       " UnivariateFinite{OrderedFactor{2}}(Down=>0.48, Up=>0.52)\n",
       " UnivariateFinite{OrderedFactor{2}}(Down=>0.494, Up=>0.506)\n",
       " UnivariateFinite{OrderedFactor{2}}(Down=>0.461, Up=>0.539)\n",
       " UnivariateFinite{OrderedFactor{2}}(Down=>0.474, Up=>0.526)\n",
       " UnivariateFinite{OrderedFactor{2}}(Down=>0.482, Up=>0.518)"
      ]
     },
     "execution_count": 27,
     "metadata": {},
     "output_type": "execute_result"
    }
   ],
   "source": [
    "yhat = MLJ.predict(clf,X2)"
   ]
  },
  {
   "cell_type": "code",
   "execution_count": 28,
   "metadata": {},
   "outputs": [
    {
     "data": {
      "text/plain": [
       "3-element MLJBase.UnivariateFiniteArray{OrderedFactor{2},String,UInt8,Float64,1}:\n",
       " UnivariateFinite{OrderedFactor{2}}(Down=>0.493, Up=>0.507)\n",
       " UnivariateFinite{OrderedFactor{2}}(Down=>0.518, Up=>0.482)\n",
       " UnivariateFinite{OrderedFactor{2}}(Down=>0.519, Up=>0.481)"
      ]
     },
     "execution_count": 28,
     "metadata": {},
     "output_type": "execute_result"
    }
   ],
   "source": [
    "yhat[1:3]"
   ]
  },
  {
   "cell_type": "code",
   "execution_count": 33,
   "metadata": {},
   "outputs": [
    {
     "data": {
      "text/plain": [
       "3.14"
      ]
     },
     "execution_count": 33,
     "metadata": {},
     "output_type": "execute_result"
    }
   ],
   "source": [
    "r3 = x -> round(x, sigdigits=3)\n",
    "r3(pi)"
   ]
  },
  {
   "cell_type": "code",
   "execution_count": 30,
   "metadata": {},
   "outputs": [
    {
     "data": {
      "text/plain": [
       "1250-element CategoricalArray{String,1,UInt8}:\n",
       " \"Up\"\n",
       " \"Down\"\n",
       " \"Down\"\n",
       " \"Up\"\n",
       " \"Up\"\n",
       " \"Up\"\n",
       " \"Down\"\n",
       " \"Up\"\n",
       " \"Up\"\n",
       " \"Down\"\n",
       " \"Down\"\n",
       " \"Up\"\n",
       " \"Up\"\n",
       " ⋮\n",
       " \"Up\"\n",
       " \"Up\"\n",
       " \"Up\"\n",
       " \"Up\"\n",
       " \"Up\"\n",
       " \"Up\"\n",
       " \"Up\"\n",
       " \"Up\"\n",
       " \"Up\"\n",
       " \"Up\"\n",
       " \"Up\"\n",
       " \"Up\""
      ]
     },
     "execution_count": 30,
     "metadata": {},
     "output_type": "execute_result"
    }
   ],
   "source": [
    "yhat = predict_mode(clf,X2)"
   ]
  },
  {
   "cell_type": "code",
   "execution_count": 34,
   "metadata": {},
   "outputs": [
    {
     "data": {
      "text/plain": [
       "0.479"
      ]
     },
     "execution_count": 34,
     "metadata": {},
     "output_type": "execute_result"
    }
   ],
   "source": [
    "misclassification_rate(yhat,y) |> r3"
   ]
  },
  {
   "cell_type": "code",
   "execution_count": 37,
   "metadata": {},
   "outputs": [
    {
     "data": {
      "text/plain": [
       "              ┌───────────────────────────┐\n",
       "              │       Ground Truth        │\n",
       "┌─────────────┼─────────────┬─────────────┤\n",
       "│  Predicted  │    Down     │     Up      │\n",
       "├─────────────┼─────────────┼─────────────┤\n",
       "│    Down     │     144     │     141     │\n",
       "├─────────────┼─────────────┼─────────────┤\n",
       "│     Up      │     458     │     507     │\n",
       "└─────────────┴─────────────┴─────────────┘\n"
      ]
     },
     "execution_count": 37,
     "metadata": {},
     "output_type": "execute_result"
    }
   ],
   "source": [
    "cm = confusion_matrix(yhat,y)"
   ]
  },
  {
   "cell_type": "code",
   "execution_count": 39,
   "metadata": {},
   "outputs": [
    {
     "name": "stdout",
     "output_type": "stream",
     "text": [
      "false_positive(cm) = 458\n",
      "accuracy(yhat, y) |> r3 = 0.521\n",
      "accuracy(cm) |> r3 = 0.521\n",
      "precision(yhat, y) |> r3 = 0.525\n",
      "recall(yhat, y) |> r3 = 0.782\n",
      "f1score(yhat, y) |> r3 = 0.629\n"
     ]
    },
    {
     "data": {
      "text/plain": [
       "0.629"
      ]
     },
     "execution_count": 39,
     "metadata": {},
     "output_type": "execute_result"
    }
   ],
   "source": [
    "@show false_positive(cm)\n",
    "@show accuracy(yhat,y) |> r3\n",
    "@show accuracy(cm)    |> r3  # same thing\n",
    "@show precision(yhat, y) |> r3\n",
    "@show recall(yhat, y)    |> r3\n",
    "@show f1score(yhat, y)   |> r3"
   ]
  },
  {
   "cell_type": "code",
   "execution_count": 40,
   "metadata": {},
   "outputs": [
    {
     "name": "stdout",
     "output_type": "stream",
     "text": [
      "UnivariateFinite{OrderedFactor{2},String,UInt8,Float64}[UnivariateFinite{OrderedFactor{2}}(Down=>0.563, Up=>0.437), UnivariateFinite{OrderedFactor{2}}(Down=>0.549, Up=>0.451)]"
     ]
    }
   ],
   "source": [
    "Xnew = (Lag1 = [1.2, 1.5], Lag2 = [1.1, -0.8])\n",
    "ŷ = MLJ.predict(clf, Xnew)\n",
    "ŷ |> pprint"
   ]
  },
  {
   "cell_type": "code",
   "execution_count": 44,
   "metadata": {},
   "outputs": [
    {
     "name": "stderr",
     "output_type": "stream",
     "text": [
      "┌ Info: Precompiling MultivariateStats [6f286f6a-111f-5878-ab1e-185364afe411]\n",
      "└ @ Base loading.jl:1260\n"
     ]
    },
    {
     "data": {
      "text/plain": [
       "BayesianLDA(\n",
       "    method = :gevd,\n",
       "    cov_w = SimpleCovariance(false),\n",
       "    cov_b = SimpleCovariance(false),\n",
       "    out_dim = 0,\n",
       "    regcoef = 1.0e-6,\n",
       "    priors = nothing)\u001b[34m @330\u001b[39m"
      ]
     },
     "execution_count": 44,
     "metadata": {},
     "output_type": "execute_result"
    }
   ],
   "source": [
    "@load BayesianLDA pkg=MultivariateStats"
   ]
  },
  {
   "cell_type": "code",
   "execution_count": 46,
   "metadata": {},
   "outputs": [
    {
     "data": {
      "text/html": [
       "<table class=\"data-frame\"><thead><tr><th></th><th>Lag1</th><th>Lag2</th></tr><tr><th></th><th>Float64</th><th>Float64</th></tr></thead><tbody><p>1,250 rows × 2 columns</p><tr><th>1</th><td>0.381</td><td>-0.192</td></tr><tr><th>2</th><td>0.959</td><td>0.381</td></tr><tr><th>3</th><td>1.032</td><td>0.959</td></tr><tr><th>4</th><td>-0.623</td><td>1.032</td></tr><tr><th>5</th><td>0.614</td><td>-0.623</td></tr><tr><th>6</th><td>0.213</td><td>0.614</td></tr><tr><th>7</th><td>1.392</td><td>0.213</td></tr><tr><th>8</th><td>-0.403</td><td>1.392</td></tr><tr><th>9</th><td>0.027</td><td>-0.403</td></tr><tr><th>10</th><td>1.303</td><td>0.027</td></tr><tr><th>11</th><td>0.287</td><td>1.303</td></tr><tr><th>12</th><td>-0.498</td><td>0.287</td></tr><tr><th>13</th><td>-0.189</td><td>-0.498</td></tr><tr><th>14</th><td>0.68</td><td>-0.189</td></tr><tr><th>15</th><td>0.701</td><td>0.68</td></tr><tr><th>16</th><td>-0.562</td><td>0.701</td></tr><tr><th>17</th><td>0.546</td><td>-0.562</td></tr><tr><th>18</th><td>-1.747</td><td>0.546</td></tr><tr><th>19</th><td>0.359</td><td>-1.747</td></tr><tr><th>20</th><td>-0.151</td><td>0.359</td></tr><tr><th>21</th><td>-0.841</td><td>-0.151</td></tr><tr><th>22</th><td>-0.623</td><td>-0.841</td></tr><tr><th>23</th><td>-1.334</td><td>-0.623</td></tr><tr><th>24</th><td>1.183</td><td>-1.334</td></tr><tr><th>25</th><td>-0.865</td><td>1.183</td></tr><tr><th>26</th><td>-0.218</td><td>-0.865</td></tr><tr><th>27</th><td>0.812</td><td>-0.218</td></tr><tr><th>28</th><td>-1.891</td><td>0.812</td></tr><tr><th>29</th><td>-1.736</td><td>-1.891</td></tr><tr><th>30</th><td>-1.851</td><td>-1.736</td></tr><tr><th>&vellip;</th><td>&vellip;</td><td>&vellip;</td></tr></tbody></table>"
      ],
      "text/latex": [
       "\\begin{tabular}{r|cc}\n",
       "\t& Lag1 & Lag2\\\\\n",
       "\t\\hline\n",
       "\t& Float64 & Float64\\\\\n",
       "\t\\hline\n",
       "\t1 & 0.381 & -0.192 \\\\\n",
       "\t2 & 0.959 & 0.381 \\\\\n",
       "\t3 & 1.032 & 0.959 \\\\\n",
       "\t4 & -0.623 & 1.032 \\\\\n",
       "\t5 & 0.614 & -0.623 \\\\\n",
       "\t6 & 0.213 & 0.614 \\\\\n",
       "\t7 & 1.392 & 0.213 \\\\\n",
       "\t8 & -0.403 & 1.392 \\\\\n",
       "\t9 & 0.027 & -0.403 \\\\\n",
       "\t10 & 1.303 & 0.027 \\\\\n",
       "\t11 & 0.287 & 1.303 \\\\\n",
       "\t12 & -0.498 & 0.287 \\\\\n",
       "\t13 & -0.189 & -0.498 \\\\\n",
       "\t14 & 0.68 & -0.189 \\\\\n",
       "\t15 & 0.701 & 0.68 \\\\\n",
       "\t16 & -0.562 & 0.701 \\\\\n",
       "\t17 & 0.546 & -0.562 \\\\\n",
       "\t18 & -1.747 & 0.546 \\\\\n",
       "\t19 & 0.359 & -1.747 \\\\\n",
       "\t20 & -0.151 & 0.359 \\\\\n",
       "\t21 & -0.841 & -0.151 \\\\\n",
       "\t22 & -0.623 & -0.841 \\\\\n",
       "\t23 & -1.334 & -0.623 \\\\\n",
       "\t24 & 1.183 & -1.334 \\\\\n",
       "\t25 & -0.865 & 1.183 \\\\\n",
       "\t26 & -0.218 & -0.865 \\\\\n",
       "\t27 & 0.812 & -0.218 \\\\\n",
       "\t28 & -1.891 & 0.812 \\\\\n",
       "\t29 & -1.736 & -1.891 \\\\\n",
       "\t30 & -1.851 & -1.736 \\\\\n",
       "\t$\\dots$ & $\\dots$ & $\\dots$ \\\\\n",
       "\\end{tabular}\n"
      ],
      "text/plain": [
       "1250×2 DataFrame\n",
       "│ Row  │ Lag1    │ Lag2    │\n",
       "│      │ \u001b[90mFloat64\u001b[39m │ \u001b[90mFloat64\u001b[39m │\n",
       "├──────┼─────────┼─────────┤\n",
       "│ 1    │ 0.381   │ -0.192  │\n",
       "│ 2    │ 0.959   │ 0.381   │\n",
       "│ 3    │ 1.032   │ 0.959   │\n",
       "│ 4    │ -0.623  │ 1.032   │\n",
       "│ 5    │ 0.614   │ -0.623  │\n",
       "│ 6    │ 0.213   │ 0.614   │\n",
       "│ 7    │ 1.392   │ 0.213   │\n",
       "│ 8    │ -0.403  │ 1.392   │\n",
       "│ 9    │ 0.027   │ -0.403  │\n",
       "│ 10   │ 1.303   │ 0.027   │\n",
       "⋮\n",
       "│ 1240 │ 0.419   │ 0.555   │\n",
       "│ 1241 │ -0.141  │ 0.419   │\n",
       "│ 1242 │ -0.285  │ -0.141  │\n",
       "│ 1243 │ -0.584  │ -0.285  │\n",
       "│ 1244 │ -0.024  │ -0.584  │\n",
       "│ 1245 │ 0.252   │ -0.024  │\n",
       "│ 1246 │ 0.422   │ 0.252   │\n",
       "│ 1247 │ 0.043   │ 0.422   │\n",
       "│ 1248 │ -0.955  │ 0.043   │\n",
       "│ 1249 │ 0.13    │ -0.955  │\n",
       "│ 1250 │ -0.298  │ 0.13    │"
      ]
     },
     "execution_count": 46,
     "metadata": {},
     "output_type": "execute_result"
    }
   ],
   "source": [
    "X3 = select(X2, [:Lag1, :Lag2])"
   ]
  },
  {
   "cell_type": "code",
   "execution_count": 48,
   "metadata": {},
   "outputs": [],
   "source": [
    "train = 1:findlast(X.Year .< 2005)\n",
    "test = last(train)+1:length(y);"
   ]
  },
  {
   "cell_type": "code",
   "execution_count": 49,
   "metadata": {},
   "outputs": [
    {
     "name": "stderr",
     "output_type": "stream",
     "text": [
      "┌ Info: Training \u001b[34mMachine{BayesianLDA} @770\u001b[39m.\n",
      "└ @ MLJBase C:\\Users\\Rahul\\.julia\\packages\\MLJBase\\uKzAz\\src\\machines.jl:319\n"
     ]
    },
    {
     "data": {
      "text/plain": [
       "0.56"
      ]
     },
     "execution_count": 49,
     "metadata": {},
     "output_type": "execute_result"
    }
   ],
   "source": [
    "clf = machine(BayesianLDA(), X3, y)\n",
    "fit!(clf, rows=train)\n",
    "ŷ = predict_mode(clf, rows=test)\n",
    "\n",
    "accuracy(ŷ, y[test]) |> r3"
   ]
  },
  {
   "cell_type": "code",
   "execution_count": 50,
   "metadata": {},
   "outputs": [
    {
     "name": "stderr",
     "output_type": "stream",
     "text": [
      "┌ Info: Training \u001b[34mMachine{KNNClassifier} @824\u001b[39m.\n",
      "└ @ MLJBase C:\\Users\\Rahul\\.julia\\packages\\MLJBase\\uKzAz\\src\\machines.jl:319\n"
     ]
    },
    {
     "data": {
      "text/plain": [
       "0.5"
      ]
     },
     "execution_count": 50,
     "metadata": {},
     "output_type": "execute_result"
    }
   ],
   "source": [
    "@load KNNClassifier pkg=NearestNeighbors\n",
    "\n",
    "knnc = KNNClassifier(K=1)\n",
    "clf = machine(knnc, X3, y)\n",
    "fit!(clf, rows=train)\n",
    "ŷ = predict_mode(clf, rows=test)\n",
    "accuracy(ŷ, y[test]) |> r3"
   ]
  },
  {
   "cell_type": "code",
   "execution_count": 51,
   "metadata": {},
   "outputs": [
    {
     "name": "stderr",
     "output_type": "stream",
     "text": [
      "┌ Info: Updating \u001b[34mMachine{KNNClassifier} @824\u001b[39m.\n",
      "└ @ MLJBase C:\\Users\\Rahul\\.julia\\packages\\MLJBase\\uKzAz\\src\\machines.jl:320\n"
     ]
    },
    {
     "data": {
      "text/plain": [
       "0.532"
      ]
     },
     "execution_count": 51,
     "metadata": {},
     "output_type": "execute_result"
    }
   ],
   "source": [
    "knnc.K = 3\n",
    "fit!(clf, rows=train)\n",
    "ŷ = predict_mode(clf, rows=test)\n",
    "accuracy(ŷ, y[test]) |> r3"
   ]
  },
  {
   "cell_type": "code",
   "execution_count": null,
   "metadata": {},
   "outputs": [],
   "source": []
  }
 ],
 "metadata": {
  "kernelspec": {
   "display_name": "Julia 1.4.1",
   "language": "julia",
   "name": "julia-1.4"
  },
  "language_info": {
   "file_extension": ".jl",
   "mimetype": "application/julia",
   "name": "julia",
   "version": "1.4.1"
  }
 },
 "nbformat": 4,
 "nbformat_minor": 4
}
