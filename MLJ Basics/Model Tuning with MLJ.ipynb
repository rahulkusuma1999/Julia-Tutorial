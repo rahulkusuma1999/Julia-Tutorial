{
 "cells": [
  {
   "cell_type": "code",
   "execution_count": 1,
   "metadata": {},
   "outputs": [
    {
     "name": "stderr",
     "output_type": "stream",
     "text": [
      "┌ Info: Precompiling MLJ [add582a8-e3ab-11e8-2d5e-e98b27df1bc7]\n",
      "└ @ Base loading.jl:1260\n",
      "[ Info: Model metadata loaded from registry. \n"
     ]
    }
   ],
   "source": [
    "using MLJ\n",
    "using PrettyPrinting"
   ]
  },
  {
   "cell_type": "code",
   "execution_count": 2,
   "metadata": {},
   "outputs": [
    {
     "data": {
      "text/plain": [
       "((sepal_length = [5.1, 4.9, 4.7, 4.6, 5.0, 5.4, 4.6, 5.0, 4.4, 4.9  …  6.7, 6.9, 5.8, 6.8, 6.7, 6.7, 6.3, 6.5, 6.2, 5.9], sepal_width = [3.5, 3.0, 3.2, 3.1, 3.6, 3.9, 3.4, 3.4, 2.9, 3.1  …  3.1, 3.1, 2.7, 3.2, 3.3, 3.0, 2.5, 3.0, 3.4, 3.0], petal_length = [1.4, 1.4, 1.3, 1.5, 1.4, 1.7, 1.4, 1.5, 1.4, 1.5  …  5.6, 5.1, 5.1, 5.9, 5.7, 5.2, 5.0, 5.2, 5.4, 5.1], petal_width = [0.2, 0.2, 0.2, 0.2, 0.2, 0.4, 0.3, 0.2, 0.2, 0.1  …  2.4, 2.3, 1.9, 2.3, 2.5, 2.3, 1.9, 2.0, 2.3, 1.8]), CategoricalArrays.CategoricalValue{String,UInt32}[\"setosa\", \"setosa\", \"setosa\", \"setosa\", \"setosa\", \"setosa\", \"setosa\", \"setosa\", \"setosa\", \"setosa\"  …  \"virginica\", \"virginica\", \"virginica\", \"virginica\", \"virginica\", \"virginica\", \"virginica\", \"virginica\", \"virginica\", \"virginica\"])"
      ]
     },
     "execution_count": 2,
     "metadata": {},
     "output_type": "execute_result"
    }
   ],
   "source": [
    "X,y = @load_iris"
   ]
  },
  {
   "cell_type": "code",
   "execution_count": 3,
   "metadata": {},
   "outputs": [
    {
     "data": {
      "text/plain": [
       "DecisionTreeClassifier(\n",
       "    max_depth = -1,\n",
       "    min_samples_leaf = 1,\n",
       "    min_samples_split = 2,\n",
       "    min_purity_increase = 0.0,\n",
       "    n_subfeatures = 0,\n",
       "    post_prune = false,\n",
       "    merge_purity_threshold = 1.0,\n",
       "    pdf_smoothing = 0.0,\n",
       "    display_depth = 5)\u001b[34m @872\u001b[39m"
      ]
     },
     "execution_count": 3,
     "metadata": {},
     "output_type": "execute_result"
    }
   ],
   "source": [
    "@load DecisionTreeClassifier"
   ]
  },
  {
   "cell_type": "code",
   "execution_count": 5,
   "metadata": {},
   "outputs": [
    {
     "data": {
      "text/plain": [
       "MLJBase.NumericRange(Int64, :max_depth, ... )"
      ]
     },
     "execution_count": 5,
     "metadata": {},
     "output_type": "execute_result"
    }
   ],
   "source": [
    "dtc = DecisionTreeClassifier()\n",
    "r = range(dtc,:max_depth,lower = 1 ,upper = 5)"
   ]
  },
  {
   "cell_type": "code",
   "execution_count": 6,
   "metadata": {},
   "outputs": [
    {
     "data": {
      "text/plain": [
       "ProbabilisticTunedModel(\n",
       "    model = DecisionTreeClassifier(\n",
       "            max_depth = -1,\n",
       "            min_samples_leaf = 1,\n",
       "            min_samples_split = 2,\n",
       "            min_purity_increase = 0.0,\n",
       "            n_subfeatures = 0,\n",
       "            post_prune = false,\n",
       "            merge_purity_threshold = 1.0,\n",
       "            pdf_smoothing = 0.0,\n",
       "            display_depth = 5),\n",
       "    tuning = Grid(\n",
       "            goal = nothing,\n",
       "            resolution = 10,\n",
       "            shuffle = true,\n",
       "            rng = Random._GLOBAL_RNG()),\n",
       "    resampling = Holdout(\n",
       "            fraction_train = 0.7,\n",
       "            shuffle = false,\n",
       "            rng = Random._GLOBAL_RNG()),\n",
       "    measure = cross_entropy(\n",
       "            eps = 2.220446049250313e-16),\n",
       "    weights = nothing,\n",
       "    operation = MLJModelInterface.predict,\n",
       "    range = MLJBase.NumericRange{Int64,MLJBase.Bounded,Symbol}[\u001b[34mNumericRange{Int64,…} @685\u001b[39m],\n",
       "    train_best = true,\n",
       "    repeats = 1,\n",
       "    n = nothing,\n",
       "    acceleration = CPU1{Nothing}(nothing),\n",
       "    acceleration_resampling = CPU1{Nothing}(nothing),\n",
       "    check_measure = true)\u001b[34m @039\u001b[39m"
      ]
     },
     "execution_count": 6,
     "metadata": {},
     "output_type": "execute_result"
    }
   ],
   "source": [
    " tm = TunedModel(model=dtc,ranges = [r,],measure = cross_entropy)"
   ]
  },
  {
   "cell_type": "code",
   "execution_count": 7,
   "metadata": {},
   "outputs": [
    {
     "name": "stdout",
     "output_type": "stream",
     "text": [
      "search: \u001b[0m\u001b[1mT\u001b[22m\u001b[0m\u001b[1mu\u001b[22m\u001b[0m\u001b[1mn\u001b[22m\u001b[0m\u001b[1me\u001b[22m\u001b[0m\u001b[1md\u001b[22m\u001b[0m\u001b[1mM\u001b[22m\u001b[0m\u001b[1mo\u001b[22m\u001b[0m\u001b[1md\u001b[22m\u001b[0m\u001b[1me\u001b[22m\u001b[0m\u001b[1ml\u001b[22m\n",
      "\n"
     ]
    },
    {
     "data": {
      "text/latex": [
       "\\begin{verbatim}\n",
       "tuned_model = TunedModel(; model=nothing,\n",
       "                         tuning=Grid(),\n",
       "                         resampling=Holdout(),\n",
       "                         measure=nothing,\n",
       "                         weights=nothing,\n",
       "                         repeats=1,\n",
       "                         operation=predict,\n",
       "                         range=nothing,\n",
       "                         n=default_n(tuning, range),\n",
       "                         train_best=true,\n",
       "                         acceleration=default_resource(),\n",
       "                         acceleration_resampling=CPU1(),\n",
       "                         check_measure=true)\n",
       "\\end{verbatim}\n",
       "Construct a model wrapper for hyperparameter optimization of a supervised learner.\n",
       "\n",
       "Calling \\texttt{fit!(mach)} on a machine \\texttt{mach=machine(tuned\\_model, X, y)} or \\texttt{mach=machine(tuned\\_model, X, y, w)} will:\n",
       "\n",
       "\\begin{itemize}\n",
       "\\item Instigate a search, over clones of \\texttt{model}, with the hyperparameter mutations specified by \\texttt{range}, for a model optimizing the specified \\texttt{measure}, using performance evaluations carried out using the specified \\texttt{tuning} strategy and \\texttt{resampling} strategy.\n",
       "\n",
       "\n",
       "\\item Fit an internal machine, based on the optimal model \\texttt{fitted\\_params(mach).best\\_model}, wrapping the optimal \\texttt{model} object in \\emph{all} the provided data \\texttt{X}, \\texttt{y}(, \\texttt{w}). Calling \\texttt{predict(mach, Xnew)} then returns predictions on \\texttt{Xnew} of this internal machine. The final train can be supressed by setting \\texttt{train\\_best=false}.\n",
       "\n",
       "\\end{itemize}\n",
       "The \\texttt{range} objects supported depend on the \\texttt{tuning} strategy specified. Query the \\texttt{strategy} docstring for details. To optimize over an explicit list \\texttt{v} of models of the same type, use \\texttt{strategy=Explicit()} and specify \\texttt{model=v[1]} and \\texttt{range=v}.\n",
       "\n",
       "The number of models searched is specified by \\texttt{n}. If unspecified, then \\texttt{MLJTuning.default\\_n(tuning, range)} is used. When \\texttt{n} is increased and \\texttt{fit!(mach)} called again, the old search history is re-instated and the search continues where it left off.\n",
       "\n",
       "If \\texttt{measure} supports weights (\\texttt{supports\\_weights(measure) == true}) then any \\texttt{weights} specified will be passed to the measure. If more than one \\texttt{measure} is specified, then only the first is optimized (unless \\texttt{strategy} is multi-objective) but the performance against every measure specified will be computed and reported in \\texttt{report(mach).best\\_performance} and other relevant attributes of the generated report.\n",
       "\n",
       "Specify \\texttt{repeats > 1} for repeated resampling per model evaluation. See \\href{@ref}{\\texttt{evaluate!}} options for details.\n",
       "\n",
       "\\emph{Important.} If a custom \\texttt{measure} is used, and the measure is a score, rather than a loss, be sure to check that \\texttt{MLJ.orientation(measure) == :score} to ensure maximization of the measure, rather than minimization. Override an incorrect value with \\texttt{MLJ.orientation(::typeof(measure)) = :score}.\n",
       "\n",
       "In the case of two-parameter tuning, a Plots.jl plot of performance estimates is returned by \\texttt{plot(mach)} or \\texttt{heatmap(mach)}.\n",
       "\n",
       "Once a tuning machine \\texttt{mach} has bee trained as above, then \\texttt{fitted\\_params(mach)} has these keys/values: key                 | value ––––––––––|––––––––––––––––––––––––– \\texttt{best\\_model}        | optimal model instance \\texttt{best\\_fitted\\_params}| learned parameters of the optimal model The named tuple \\texttt{report(mach)} includes these keys/values: key                 | value ––––––––––|––––––––––––––––––––––––– \\texttt{best\\_model}        | optimal model instance \\texttt{best\\_result}       | corresponding \"result\" entry in the history \\texttt{best\\_report}       | report generated by fitting the optimal model \\texttt{history}           | tuning strategy-specific history of all evaluations plus others specific to the \\texttt{tuning} strategy, such as \\texttt{history=...}.\n",
       "\n",
       "\\subsubsection{Summary of key-word arguments}\n",
       "\\begin{itemize}\n",
       "\\item \\texttt{model}: \\texttt{Supervised} model prototype that is cloned and mutated to generate models for evaluation\n",
       "\n",
       "\n",
       "\\item \\texttt{tuning=Grid()}: tuning strategy to be applied (eg, \\texttt{RandomSearch()})\n",
       "\n",
       "\n",
       "\\item \\texttt{resampling=Holdout()}: resampling strategy (eg, \\texttt{Holdout()}, \\texttt{CV()}), \\texttt{StratifiedCV()}) to be applied in performance evaluations\n",
       "\n",
       "\n",
       "\\item \\texttt{measure}: measure or measures to be applied in performance evaluations; only the first used in optimization (unless the strategy is multi-objective) but all reported to the history\n",
       "\n",
       "\n",
       "\\item \\texttt{weights}: sample weights to be passed the measure(s) in performance evaluations, if supported.\n",
       "\n",
       "\n",
       "\\item \\texttt{repeats=1}: for generating train/test sets multiple times in resampling; see \\href{@ref}{\\texttt{evaluate!}} for details\n",
       "\n",
       "\n",
       "\\item \\texttt{operation=predict}: operation to be applied to each fitted model; usually \\texttt{predict} but \\texttt{predict\\_mean}, \\texttt{predict\\_median} or \\texttt{predict\\_mode} can be used for \\texttt{Probabilistic} models, if the specified measures are \\texttt{Deterministic}\n",
       "\n",
       "\n",
       "\\item \\texttt{range}: range object; tuning strategy documentation describes supported types\n",
       "\n",
       "\n",
       "\\item \\texttt{n}: number of iterations (ie, models to be evaluated); set by tuning strategy if left unspecified\n",
       "\n",
       "\n",
       "\\item \\texttt{train\\_best=true}: whether to train the optimal model\n",
       "\n",
       "\n",
       "\\item \\texttt{acceleration=default\\_resource()}: mode of parallelization for tuning strategies that support this\n",
       "\n",
       "\n",
       "\\item \\texttt{acceleration\\_resampling=CPU1()}: mode of parallelization for resampling\n",
       "\n",
       "\n",
       "\\item \\texttt{check\\_measure}: whether to check \\texttt{measure} is compatible with the specified \\texttt{model} and \\texttt{operation})\n",
       "\n",
       "\\end{itemize}\n"
      ],
      "text/markdown": [
       "```\n",
       "tuned_model = TunedModel(; model=nothing,\n",
       "                         tuning=Grid(),\n",
       "                         resampling=Holdout(),\n",
       "                         measure=nothing,\n",
       "                         weights=nothing,\n",
       "                         repeats=1,\n",
       "                         operation=predict,\n",
       "                         range=nothing,\n",
       "                         n=default_n(tuning, range),\n",
       "                         train_best=true,\n",
       "                         acceleration=default_resource(),\n",
       "                         acceleration_resampling=CPU1(),\n",
       "                         check_measure=true)\n",
       "```\n",
       "\n",
       "Construct a model wrapper for hyperparameter optimization of a supervised learner.\n",
       "\n",
       "Calling `fit!(mach)` on a machine `mach=machine(tuned_model, X, y)` or `mach=machine(tuned_model, X, y, w)` will:\n",
       "\n",
       "  * Instigate a search, over clones of `model`, with the hyperparameter mutations specified by `range`, for a model optimizing the specified `measure`, using performance evaluations carried out using the specified `tuning` strategy and `resampling` strategy.\n",
       "  * Fit an internal machine, based on the optimal model `fitted_params(mach).best_model`, wrapping the optimal `model` object in *all* the provided data `X`, `y`(, `w`). Calling `predict(mach, Xnew)` then returns predictions on `Xnew` of this internal machine. The final train can be supressed by setting `train_best=false`.\n",
       "\n",
       "The `range` objects supported depend on the `tuning` strategy specified. Query the `strategy` docstring for details. To optimize over an explicit list `v` of models of the same type, use `strategy=Explicit()` and specify `model=v[1]` and `range=v`.\n",
       "\n",
       "The number of models searched is specified by `n`. If unspecified, then `MLJTuning.default_n(tuning, range)` is used. When `n` is increased and `fit!(mach)` called again, the old search history is re-instated and the search continues where it left off.\n",
       "\n",
       "If `measure` supports weights (`supports_weights(measure) == true`) then any `weights` specified will be passed to the measure. If more than one `measure` is specified, then only the first is optimized (unless `strategy` is multi-objective) but the performance against every measure specified will be computed and reported in `report(mach).best_performance` and other relevant attributes of the generated report.\n",
       "\n",
       "Specify `repeats > 1` for repeated resampling per model evaluation. See [`evaluate!`](@ref) options for details.\n",
       "\n",
       "*Important.* If a custom `measure` is used, and the measure is a score, rather than a loss, be sure to check that `MLJ.orientation(measure) == :score` to ensure maximization of the measure, rather than minimization. Override an incorrect value with `MLJ.orientation(::typeof(measure)) = :score`.\n",
       "\n",
       "In the case of two-parameter tuning, a Plots.jl plot of performance estimates is returned by `plot(mach)` or `heatmap(mach)`.\n",
       "\n",
       "Once a tuning machine `mach` has bee trained as above, then `fitted_params(mach)` has these keys/values: key                 | value ––––––––––|––––––––––––––––––––––––– `best_model`        | optimal model instance `best_fitted_params`| learned parameters of the optimal model The named tuple `report(mach)` includes these keys/values: key                 | value ––––––––––|––––––––––––––––––––––––– `best_model`        | optimal model instance `best_result`       | corresponding \"result\" entry in the history `best_report`       | report generated by fitting the optimal model `history`           | tuning strategy-specific history of all evaluations plus others specific to the `tuning` strategy, such as `history=...`.\n",
       "\n",
       "### Summary of key-word arguments\n",
       "\n",
       "  * `model`: `Supervised` model prototype that is cloned and mutated to generate models for evaluation\n",
       "  * `tuning=Grid()`: tuning strategy to be applied (eg, `RandomSearch()`)\n",
       "  * `resampling=Holdout()`: resampling strategy (eg, `Holdout()`, `CV()`), `StratifiedCV()`) to be applied in performance evaluations\n",
       "  * `measure`: measure or measures to be applied in performance evaluations; only the first used in optimization (unless the strategy is multi-objective) but all reported to the history\n",
       "  * `weights`: sample weights to be passed the measure(s) in performance evaluations, if supported.\n",
       "  * `repeats=1`: for generating train/test sets multiple times in resampling; see [`evaluate!`](@ref) for details\n",
       "  * `operation=predict`: operation to be applied to each fitted model; usually `predict` but `predict_mean`, `predict_median` or `predict_mode` can be used for `Probabilistic` models, if the specified measures are `Deterministic`\n",
       "  * `range`: range object; tuning strategy documentation describes supported types\n",
       "  * `n`: number of iterations (ie, models to be evaluated); set by tuning strategy if left unspecified\n",
       "  * `train_best=true`: whether to train the optimal model\n",
       "  * `acceleration=default_resource()`: mode of parallelization for tuning strategies that support this\n",
       "  * `acceleration_resampling=CPU1()`: mode of parallelization for resampling\n",
       "  * `check_measure`: whether to check `measure` is compatible with the specified `model` and `operation`)\n"
      ],
      "text/plain": [
       "\u001b[36m  tuned_model = TunedModel(; model=nothing,\u001b[39m\n",
       "\u001b[36m                           tuning=Grid(),\u001b[39m\n",
       "\u001b[36m                           resampling=Holdout(),\u001b[39m\n",
       "\u001b[36m                           measure=nothing,\u001b[39m\n",
       "\u001b[36m                           weights=nothing,\u001b[39m\n",
       "\u001b[36m                           repeats=1,\u001b[39m\n",
       "\u001b[36m                           operation=predict,\u001b[39m\n",
       "\u001b[36m                           range=nothing,\u001b[39m\n",
       "\u001b[36m                           n=default_n(tuning, range),\u001b[39m\n",
       "\u001b[36m                           train_best=true,\u001b[39m\n",
       "\u001b[36m                           acceleration=default_resource(),\u001b[39m\n",
       "\u001b[36m                           acceleration_resampling=CPU1(),\u001b[39m\n",
       "\u001b[36m                           check_measure=true)\u001b[39m\n",
       "\n",
       "  Construct a model wrapper for hyperparameter optimization of a supervised\n",
       "  learner.\n",
       "\n",
       "  Calling \u001b[36mfit!(mach)\u001b[39m on a machine \u001b[36mmach=machine(tuned_model, X, y)\u001b[39m or\n",
       "  \u001b[36mmach=machine(tuned_model, X, y, w)\u001b[39m will:\n",
       "\n",
       "    •    Instigate a search, over clones of \u001b[36mmodel\u001b[39m, with the hyperparameter\n",
       "        mutations specified by \u001b[36mrange\u001b[39m, for a model optimizing the specified\n",
       "        \u001b[36mmeasure\u001b[39m, using performance evaluations carried out using the\n",
       "        specified \u001b[36mtuning\u001b[39m strategy and \u001b[36mresampling\u001b[39m strategy.\n",
       "\n",
       "    •    Fit an internal machine, based on the optimal model\n",
       "        \u001b[36mfitted_params(mach).best_model\u001b[39m, wrapping the optimal \u001b[36mmodel\u001b[39m object\n",
       "        in \u001b[4mall\u001b[24m the provided data \u001b[36mX\u001b[39m, \u001b[36my\u001b[39m(, \u001b[36mw\u001b[39m). Calling \u001b[36mpredict(mach, Xnew)\u001b[39m\n",
       "        then returns predictions on \u001b[36mXnew\u001b[39m of this internal machine. The\n",
       "        final train can be supressed by setting \u001b[36mtrain_best=false\u001b[39m.\n",
       "\n",
       "  The \u001b[36mrange\u001b[39m objects supported depend on the \u001b[36mtuning\u001b[39m strategy specified. Query\n",
       "  the \u001b[36mstrategy\u001b[39m docstring for details. To optimize over an explicit list \u001b[36mv\u001b[39m of\n",
       "  models of the same type, use \u001b[36mstrategy=Explicit()\u001b[39m and specify \u001b[36mmodel=v[1]\u001b[39m and\n",
       "  \u001b[36mrange=v\u001b[39m.\n",
       "\n",
       "  The number of models searched is specified by \u001b[36mn\u001b[39m. If unspecified, then\n",
       "  \u001b[36mMLJTuning.default_n(tuning, range)\u001b[39m is used. When \u001b[36mn\u001b[39m is increased and\n",
       "  \u001b[36mfit!(mach)\u001b[39m called again, the old search history is re-instated and the\n",
       "  search continues where it left off.\n",
       "\n",
       "  If \u001b[36mmeasure\u001b[39m supports weights (\u001b[36msupports_weights(measure) == true\u001b[39m) then any\n",
       "  \u001b[36mweights\u001b[39m specified will be passed to the measure. If more than one \u001b[36mmeasure\u001b[39m is\n",
       "  specified, then only the first is optimized (unless \u001b[36mstrategy\u001b[39m is\n",
       "  multi-objective) but the performance against every measure specified will be\n",
       "  computed and reported in \u001b[36mreport(mach).best_performance\u001b[39m and other relevant\n",
       "  attributes of the generated report.\n",
       "\n",
       "  Specify \u001b[36mrepeats > 1\u001b[39m for repeated resampling per model evaluation. See\n",
       "  \u001b[36mevaluate!\u001b[39m options for details.\n",
       "\n",
       "  \u001b[4mImportant.\u001b[24m If a custom \u001b[36mmeasure\u001b[39m is used, and the measure is a score, rather\n",
       "  than a loss, be sure to check that \u001b[36mMLJ.orientation(measure) == :score\u001b[39m to\n",
       "  ensure maximization of the measure, rather than minimization. Override an\n",
       "  incorrect value with \u001b[36mMLJ.orientation(::typeof(measure)) = :score\u001b[39m.\n",
       "\n",
       "  In the case of two-parameter tuning, a Plots.jl plot of performance\n",
       "  estimates is returned by \u001b[36mplot(mach)\u001b[39m or \u001b[36mheatmap(mach)\u001b[39m.\n",
       "\n",
       "  Once a tuning machine \u001b[36mmach\u001b[39m has bee trained as above, then\n",
       "  \u001b[36mfitted_params(mach)\u001b[39m has these keys/values: key | value\n",
       "  ––––––––––|––––––––––––––––––––––––– \u001b[36mbest_model\u001b[39m | optimal model instance\n",
       "  \u001b[36mbest_fitted_params\u001b[39m| learned parameters of the optimal model The named tuple\n",
       "  \u001b[36mreport(mach)\u001b[39m includes these keys/values: key | value\n",
       "  ––––––––––|––––––––––––––––––––––––– \u001b[36mbest_model\u001b[39m | optimal model instance\n",
       "  \u001b[36mbest_result\u001b[39m | corresponding \"result\" entry in the history \u001b[36mbest_report\u001b[39m |\n",
       "  report generated by fitting the optimal model \u001b[36mhistory\u001b[39m | tuning\n",
       "  strategy-specific history of all evaluations plus others specific to the\n",
       "  \u001b[36mtuning\u001b[39m strategy, such as \u001b[36mhistory=...\u001b[39m.\n",
       "\n",
       "\u001b[1m  Summary of key-word arguments\u001b[22m\n",
       "\u001b[1m  –––––––––––––––––––––––––––––––\u001b[22m\n",
       "\n",
       "    •    \u001b[36mmodel\u001b[39m: \u001b[36mSupervised\u001b[39m model prototype that is cloned and mutated to\n",
       "        generate models for evaluation\n",
       "\n",
       "    •    \u001b[36mtuning=Grid()\u001b[39m: tuning strategy to be applied (eg, \u001b[36mRandomSearch()\u001b[39m)\n",
       "\n",
       "    •    \u001b[36mresampling=Holdout()\u001b[39m: resampling strategy (eg, \u001b[36mHoldout()\u001b[39m, \u001b[36mCV()\u001b[39m),\n",
       "        \u001b[36mStratifiedCV()\u001b[39m) to be applied in performance evaluations\n",
       "\n",
       "    •    \u001b[36mmeasure\u001b[39m: measure or measures to be applied in performance\n",
       "        evaluations; only the first used in optimization (unless the\n",
       "        strategy is multi-objective) but all reported to the history\n",
       "\n",
       "    •    \u001b[36mweights\u001b[39m: sample weights to be passed the measure(s) in performance\n",
       "        evaluations, if supported.\n",
       "\n",
       "    •    \u001b[36mrepeats=1\u001b[39m: for generating train/test sets multiple times in\n",
       "        resampling; see \u001b[36mevaluate!\u001b[39m for details\n",
       "\n",
       "    •    \u001b[36moperation=predict\u001b[39m: operation to be applied to each fitted model;\n",
       "        usually \u001b[36mpredict\u001b[39m but \u001b[36mpredict_mean\u001b[39m, \u001b[36mpredict_median\u001b[39m or \u001b[36mpredict_mode\u001b[39m\n",
       "        can be used for \u001b[36mProbabilistic\u001b[39m models, if the specified measures\n",
       "        are \u001b[36mDeterministic\u001b[39m\n",
       "\n",
       "    •    \u001b[36mrange\u001b[39m: range object; tuning strategy documentation describes\n",
       "        supported types\n",
       "\n",
       "    •    \u001b[36mn\u001b[39m: number of iterations (ie, models to be evaluated); set by\n",
       "        tuning strategy if left unspecified\n",
       "\n",
       "    •    \u001b[36mtrain_best=true\u001b[39m: whether to train the optimal model\n",
       "\n",
       "    •    \u001b[36macceleration=default_resource()\u001b[39m: mode of parallelization for\n",
       "        tuning strategies that support this\n",
       "\n",
       "    •    \u001b[36macceleration_resampling=CPU1()\u001b[39m: mode of parallelization for\n",
       "        resampling\n",
       "\n",
       "    •    \u001b[36mcheck_measure\u001b[39m: whether to check \u001b[36mmeasure\u001b[39m is compatible with the\n",
       "        specified \u001b[36mmodel\u001b[39m and \u001b[36moperation\u001b[39m)"
      ]
     },
     "execution_count": 7,
     "metadata": {},
     "output_type": "execute_result"
    }
   ],
   "source": [
    "?TunedModel"
   ]
  },
  {
   "cell_type": "code",
   "execution_count": 8,
   "metadata": {},
   "outputs": [
    {
     "name": "stderr",
     "output_type": "stream",
     "text": [
      "┌ Info: Training \u001b[34mMachine{ProbabilisticTunedModel{Grid,…}} @274\u001b[39m.\n",
      "└ @ MLJBase C:\\Users\\Rahul\\.julia\\packages\\MLJBase\\uKzAz\\src\\machines.jl:319\n",
      "┌ Info: Attempting to evaluate 5 models.\n",
      "└ @ MLJTuning C:\\Users\\Rahul\\.julia\\packages\\MLJTuning\\Bbgvk\\src\\tuned_models.jl:494\n",
      "\u001b[33mEvaluating over 5 metamodels: 100%[=========================] Time: 0:00:14\u001b[39m\n"
     ]
    },
    {
     "data": {
      "text/plain": [
       "\u001b[34mMachine{ProbabilisticTunedModel{Grid,…}} @274\u001b[39m trained 1 time.\n",
       "  args: \n",
       "    1:\t\u001b[34mSource @280\u001b[39m ⏎ `Table{AbstractArray{Continuous,1}}`\n",
       "    2:\t\u001b[34mSource @793\u001b[39m ⏎ `AbstractArray{Multiclass{3},1}`\n"
      ]
     },
     "execution_count": 8,
     "metadata": {},
     "output_type": "execute_result"
    }
   ],
   "source": [
    " m = machine(tm,X,y)\n",
    "fit!(m)"
   ]
  },
  {
   "cell_type": "code",
   "execution_count": 9,
   "metadata": {},
   "outputs": [
    {
     "data": {
      "text/plain": [
       "1"
      ]
     },
     "execution_count": 9,
     "metadata": {},
     "output_type": "execute_result"
    }
   ],
   "source": [
    "fitted_params(m).best_model.max_depth"
   ]
  },
  {
   "cell_type": "code",
   "execution_count": 10,
   "metadata": {},
   "outputs": [
    {
     "name": "stderr",
     "output_type": "stream",
     "text": [
      "┌ Info: Training \u001b[34mMachine{ProbabilisticTunedModel{Grid,…}} @032\u001b[39m.\n",
      "└ @ MLJBase C:\\Users\\Rahul\\.julia\\packages\\MLJBase\\uKzAz\\src\\machines.jl:319\n",
      "┌ Info: Attempting to evaluate 5 models.\n",
      "└ @ MLJTuning C:\\Users\\Rahul\\.julia\\packages\\MLJTuning\\Bbgvk\\src\\tuned_models.jl:494\n",
      "\u001b[33mEvaluating over 5 metamodels: 100%[=========================] Time: 0:00:01\u001b[39m\n"
     ]
    },
    {
     "data": {
      "text/plain": [
       "2"
      ]
     },
     "execution_count": 10,
     "metadata": {},
     "output_type": "execute_result"
    }
   ],
   "source": [
    "tm = TunedModel(model=dtc, ranges=r, operation=predict_mode,\n",
    "                measure=misclassification_rate)\n",
    "m = machine(tm, X, y)\n",
    "fit!(m)\n",
    "fitted_params(m).best_model.max_depth"
   ]
  },
  {
   "cell_type": "code",
   "execution_count": 11,
   "metadata": {},
   "outputs": [
    {
     "data": {
      "text/plain": [
       "(measure = [misclassification_rate],\n",
       " measurement = [0.2],)"
      ]
     },
     "execution_count": 11,
     "metadata": {},
     "output_type": "execute_result"
    }
   ],
   "source": [
    "r = report(m)\n",
    "r.best_result"
   ]
  },
  {
   "cell_type": "code",
   "execution_count": 12,
   "metadata": {},
   "outputs": [],
   "source": [
    "using PyPlot"
   ]
  },
  {
   "cell_type": "code",
   "execution_count": 13,
   "metadata": {},
   "outputs": [
    {
     "data": {
      "image/png": "[encoded data removed]",
      "text/plain": [
       "Figure(PyObject <Figure size 800x600 with 1 Axes>)"
      ]
     },
     "metadata": {},
     "output_type": "display_data"
    },
    {
     "data": {
      "text/plain": [
       "(0.0, 1.0)"
      ]
     },
     "execution_count": 13,
     "metadata": {},
     "output_type": "execute_result"
    }
   ],
   "source": [
    "figure(figsize=(8,6))\n",
    "res = r.plotting # contains all you need for plotting\n",
    "plot(res.parameter_values, res.measurements, ls=\"none\", marker=\"o\")\n",
    "\n",
    "xticks(1:5, fontsize=12)\n",
    "yticks(fontsize=12)\n",
    "xlabel(\"Maximum depth\", fontsize=14)\n",
    "ylabel(\"Misclassification rate\", fontsize=14)\n",
    "ylim([0, 1])"
   ]
  },
  {
   "cell_type": "code",
   "execution_count": null,
   "metadata": {},
   "outputs": [],
   "source": []
  }
 ],
 "metadata": {
  "kernelspec": {
   "display_name": "Julia 1.4.1",
   "language": "julia",
   "name": "julia-1.4"
  },
  "language_info": {
   "file_extension": ".jl",
   "mimetype": "application/julia",
   "name": "julia",
   "version": "1.4.1"
  }
 },
 "nbformat": 4,
 "nbformat_minor": 4
}
