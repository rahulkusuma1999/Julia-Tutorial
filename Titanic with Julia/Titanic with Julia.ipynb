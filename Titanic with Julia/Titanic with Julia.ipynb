{
 "cells": [
  {
   "cell_type": "code",
   "execution_count": 1,
   "metadata": {},
   "outputs": [],
   "source": [
    "using DataFrames"
   ]
  },
  {
   "cell_type": "code",
   "execution_count": 58,
   "metadata": {},
   "outputs": [],
   "source": [
    "using ScikitLearn"
   ]
  },
  {
   "cell_type": "code",
   "execution_count": 57,
   "metadata": {},
   "outputs": [],
   "source": [
    "using ScikitLearn:fit!,predict"
   ]
  },
  {
   "cell_type": "code",
   "execution_count": 3,
   "metadata": {},
   "outputs": [],
   "source": [
    "using CSV"
   ]
  },
  {
   "cell_type": "code",
   "execution_count": 4,
   "metadata": {},
   "outputs": [],
   "source": [
    "using Statistics"
   ]
  },
  {
   "cell_type": "code",
   "execution_count": 5,
   "metadata": {},
   "outputs": [],
   "source": [
    "using CategoricalArrays\n",
    "using MLBase"
   ]
  },
  {
   "cell_type": "code",
   "execution_count": 6,
   "metadata": {},
   "outputs": [
    {
     "data": {
      "text/html": [
       "<table class=\"data-frame\"><thead><tr><th></th><th>PassengerId</th><th>Survived</th><th>Pclass</th><th>Name</th></tr><tr><th></th><th>Int64</th><th>Int64</th><th>Int64</th><th>String</th></tr></thead><tbody><p>891 rows × 12 columns (omitted printing of 8 columns)</p><tr><th>1</th><td>1</td><td>0</td><td>3</td><td>Braund, Mr. Owen Harris</td></tr><tr><th>2</th><td>2</td><td>1</td><td>1</td><td>Cumings, Mrs. John Bradley (Florence Briggs Thayer)</td></tr><tr><th>3</th><td>3</td><td>1</td><td>3</td><td>Heikkinen, Miss. Laina</td></tr><tr><th>4</th><td>4</td><td>1</td><td>1</td><td>Futrelle, Mrs. Jacques Heath (Lily May Peel)</td></tr><tr><th>5</th><td>5</td><td>0</td><td>3</td><td>Allen, Mr. William Henry</td></tr><tr><th>6</th><td>6</td><td>0</td><td>3</td><td>Moran, Mr. James</td></tr><tr><th>7</th><td>7</td><td>0</td><td>1</td><td>McCarthy, Mr. Timothy J</td></tr><tr><th>8</th><td>8</td><td>0</td><td>3</td><td>Palsson, Master. Gosta Leonard</td></tr><tr><th>9</th><td>9</td><td>1</td><td>3</td><td>Johnson, Mrs. Oscar W (Elisabeth Vilhelmina Berg)</td></tr><tr><th>10</th><td>10</td><td>1</td><td>2</td><td>Nasser, Mrs. Nicholas (Adele Achem)</td></tr><tr><th>11</th><td>11</td><td>1</td><td>3</td><td>Sandstrom, Miss. Marguerite Rut</td></tr><tr><th>12</th><td>12</td><td>1</td><td>1</td><td>Bonnell, Miss. Elizabeth</td></tr><tr><th>13</th><td>13</td><td>0</td><td>3</td><td>Saundercock, Mr. William Henry</td></tr><tr><th>14</th><td>14</td><td>0</td><td>3</td><td>Andersson, Mr. Anders Johan</td></tr><tr><th>15</th><td>15</td><td>0</td><td>3</td><td>Vestrom, Miss. Hulda Amanda Adolfina</td></tr><tr><th>16</th><td>16</td><td>1</td><td>2</td><td>Hewlett, Mrs. (Mary D Kingcome) </td></tr><tr><th>17</th><td>17</td><td>0</td><td>3</td><td>Rice, Master. Eugene</td></tr><tr><th>18</th><td>18</td><td>1</td><td>2</td><td>Williams, Mr. Charles Eugene</td></tr><tr><th>19</th><td>19</td><td>0</td><td>3</td><td>Vander Planke, Mrs. Julius (Emelia Maria Vandemoortele)</td></tr><tr><th>20</th><td>20</td><td>1</td><td>3</td><td>Masselmani, Mrs. Fatima</td></tr><tr><th>21</th><td>21</td><td>0</td><td>2</td><td>Fynney, Mr. Joseph J</td></tr><tr><th>22</th><td>22</td><td>1</td><td>2</td><td>Beesley, Mr. Lawrence</td></tr><tr><th>23</th><td>23</td><td>1</td><td>3</td><td>McGowan, Miss. Anna \"Annie\"</td></tr><tr><th>24</th><td>24</td><td>1</td><td>1</td><td>Sloper, Mr. William Thompson</td></tr><tr><th>25</th><td>25</td><td>0</td><td>3</td><td>Palsson, Miss. Torborg Danira</td></tr><tr><th>26</th><td>26</td><td>1</td><td>3</td><td>Asplund, Mrs. Carl Oscar (Selma Augusta Emilia Johansson)</td></tr><tr><th>27</th><td>27</td><td>0</td><td>3</td><td>Emir, Mr. Farred Chehab</td></tr><tr><th>28</th><td>28</td><td>0</td><td>1</td><td>Fortune, Mr. Charles Alexander</td></tr><tr><th>29</th><td>29</td><td>1</td><td>3</td><td>O'Dwyer, Miss. Ellen \"Nellie\"</td></tr><tr><th>30</th><td>30</td><td>0</td><td>3</td><td>Todoroff, Mr. Lalio</td></tr><tr><th>&vellip;</th><td>&vellip;</td><td>&vellip;</td><td>&vellip;</td><td>&vellip;</td></tr></tbody></table>"
      ],
      "text/latex": [
       "\\begin{tabular}{r|ccccc}\n",
       "\t& PassengerId & Survived & Pclass & Name & \\\\\n",
       "\t\\hline\n",
       "\t& Int64 & Int64 & Int64 & String & \\\\\n",
       "\t\\hline\n",
       "\t1 & 1 & 0 & 3 & Braund, Mr. Owen Harris & $\\dots$ \\\\\n",
       "\t2 & 2 & 1 & 1 & Cumings, Mrs. John Bradley (Florence Briggs Thayer) & $\\dots$ \\\\\n",
       "\t3 & 3 & 1 & 3 & Heikkinen, Miss. Laina & $\\dots$ \\\\\n",
       "\t4 & 4 & 1 & 1 & Futrelle, Mrs. Jacques Heath (Lily May Peel) & $\\dots$ \\\\\n",
       "\t5 & 5 & 0 & 3 & Allen, Mr. William Henry & $\\dots$ \\\\\n",
       "\t6 & 6 & 0 & 3 & Moran, Mr. James & $\\dots$ \\\\\n",
       "\t7 & 7 & 0 & 1 & McCarthy, Mr. Timothy J & $\\dots$ \\\\\n",
       "\t8 & 8 & 0 & 3 & Palsson, Master. Gosta Leonard & $\\dots$ \\\\\n",
       "\t9 & 9 & 1 & 3 & Johnson, Mrs. Oscar W (Elisabeth Vilhelmina Berg) & $\\dots$ \\\\\n",
       "\t10 & 10 & 1 & 2 & Nasser, Mrs. Nicholas (Adele Achem) & $\\dots$ \\\\\n",
       "\t11 & 11 & 1 & 3 & Sandstrom, Miss. Marguerite Rut & $\\dots$ \\\\\n",
       "\t12 & 12 & 1 & 1 & Bonnell, Miss. Elizabeth & $\\dots$ \\\\\n",
       "\t13 & 13 & 0 & 3 & Saundercock, Mr. William Henry & $\\dots$ \\\\\n",
       "\t14 & 14 & 0 & 3 & Andersson, Mr. Anders Johan & $\\dots$ \\\\\n",
       "\t15 & 15 & 0 & 3 & Vestrom, Miss. Hulda Amanda Adolfina & $\\dots$ \\\\\n",
       "\t16 & 16 & 1 & 2 & Hewlett, Mrs. (Mary D Kingcome)  & $\\dots$ \\\\\n",
       "\t17 & 17 & 0 & 3 & Rice, Master. Eugene & $\\dots$ \\\\\n",
       "\t18 & 18 & 1 & 2 & Williams, Mr. Charles Eugene & $\\dots$ \\\\\n",
       "\t19 & 19 & 0 & 3 & Vander Planke, Mrs. Julius (Emelia Maria Vandemoortele) & $\\dots$ \\\\\n",
       "\t20 & 20 & 1 & 3 & Masselmani, Mrs. Fatima & $\\dots$ \\\\\n",
       "\t21 & 21 & 0 & 2 & Fynney, Mr. Joseph J & $\\dots$ \\\\\n",
       "\t22 & 22 & 1 & 2 & Beesley, Mr. Lawrence & $\\dots$ \\\\\n",
       "\t23 & 23 & 1 & 3 & McGowan, Miss. Anna \"Annie\" & $\\dots$ \\\\\n",
       "\t24 & 24 & 1 & 1 & Sloper, Mr. William Thompson & $\\dots$ \\\\\n",
       "\t25 & 25 & 0 & 3 & Palsson, Miss. Torborg Danira & $\\dots$ \\\\\n",
       "\t26 & 26 & 1 & 3 & Asplund, Mrs. Carl Oscar (Selma Augusta Emilia Johansson) & $\\dots$ \\\\\n",
       "\t27 & 27 & 0 & 3 & Emir, Mr. Farred Chehab & $\\dots$ \\\\\n",
       "\t28 & 28 & 0 & 1 & Fortune, Mr. Charles Alexander & $\\dots$ \\\\\n",
       "\t29 & 29 & 1 & 3 & O'Dwyer, Miss. Ellen \"Nellie\" & $\\dots$ \\\\\n",
       "\t30 & 30 & 0 & 3 & Todoroff, Mr. Lalio & $\\dots$ \\\\\n",
       "\t$\\dots$ & $\\dots$ & $\\dots$ & $\\dots$ & $\\dots$ &  \\\\\n",
       "\\end{tabular}\n"
      ],
      "text/plain": [
       "891×12 DataFrame. Omitted printing of 9 columns\n",
       "│ Row │ PassengerId │ Survived │ Pclass │\n",
       "│     │ \u001b[90mInt64\u001b[39m       │ \u001b[90mInt64\u001b[39m    │ \u001b[90mInt64\u001b[39m  │\n",
       "├─────┼─────────────┼──────────┼────────┤\n",
       "│ 1   │ 1           │ 0        │ 3      │\n",
       "│ 2   │ 2           │ 1        │ 1      │\n",
       "│ 3   │ 3           │ 1        │ 3      │\n",
       "│ 4   │ 4           │ 1        │ 1      │\n",
       "│ 5   │ 5           │ 0        │ 3      │\n",
       "│ 6   │ 6           │ 0        │ 3      │\n",
       "│ 7   │ 7           │ 0        │ 1      │\n",
       "│ 8   │ 8           │ 0        │ 3      │\n",
       "│ 9   │ 9           │ 1        │ 3      │\n",
       "│ 10  │ 10          │ 1        │ 2      │\n",
       "⋮\n",
       "│ 881 │ 881         │ 1        │ 2      │\n",
       "│ 882 │ 882         │ 0        │ 3      │\n",
       "│ 883 │ 883         │ 0        │ 3      │\n",
       "│ 884 │ 884         │ 0        │ 2      │\n",
       "│ 885 │ 885         │ 0        │ 3      │\n",
       "│ 886 │ 886         │ 0        │ 3      │\n",
       "│ 887 │ 887         │ 0        │ 2      │\n",
       "│ 888 │ 888         │ 1        │ 1      │\n",
       "│ 889 │ 889         │ 0        │ 3      │\n",
       "│ 890 │ 890         │ 1        │ 1      │\n",
       "│ 891 │ 891         │ 0        │ 3      │"
      ]
     },
     "execution_count": 6,
     "metadata": {},
     "output_type": "execute_result"
    }
   ],
   "source": [
    "train = CSV.read(\"train.csv\")"
   ]
  },
  {
   "cell_type": "code",
   "execution_count": 7,
   "metadata": {},
   "outputs": [
    {
     "data": {
      "text/html": [
       "<table class=\"data-frame\"><thead><tr><th></th><th>PassengerId</th><th>Survived</th><th>Pclass</th><th>Name</th></tr><tr><th></th><th>Int64</th><th>Int64</th><th>Int64</th><th>String</th></tr></thead><tbody><p>3 rows × 12 columns (omitted printing of 8 columns)</p><tr><th>1</th><td>1</td><td>0</td><td>3</td><td>Braund, Mr. Owen Harris</td></tr><tr><th>2</th><td>2</td><td>1</td><td>1</td><td>Cumings, Mrs. John Bradley (Florence Briggs Thayer)</td></tr><tr><th>3</th><td>3</td><td>1</td><td>3</td><td>Heikkinen, Miss. Laina</td></tr></tbody></table>"
      ],
      "text/latex": [
       "\\begin{tabular}{r|ccccc}\n",
       "\t& PassengerId & Survived & Pclass & Name & \\\\\n",
       "\t\\hline\n",
       "\t& Int64 & Int64 & Int64 & String & \\\\\n",
       "\t\\hline\n",
       "\t1 & 1 & 0 & 3 & Braund, Mr. Owen Harris & $\\dots$ \\\\\n",
       "\t2 & 2 & 1 & 1 & Cumings, Mrs. John Bradley (Florence Briggs Thayer) & $\\dots$ \\\\\n",
       "\t3 & 3 & 1 & 3 & Heikkinen, Miss. Laina & $\\dots$ \\\\\n",
       "\\end{tabular}\n"
      ],
      "text/plain": [
       "3×12 DataFrame. Omitted printing of 9 columns\n",
       "│ Row │ PassengerId │ Survived │ Pclass │\n",
       "│     │ \u001b[90mInt64\u001b[39m       │ \u001b[90mInt64\u001b[39m    │ \u001b[90mInt64\u001b[39m  │\n",
       "├─────┼─────────────┼──────────┼────────┤\n",
       "│ 1   │ 1           │ 0        │ 3      │\n",
       "│ 2   │ 2           │ 1        │ 1      │\n",
       "│ 3   │ 3           │ 1        │ 3      │"
      ]
     },
     "execution_count": 7,
     "metadata": {},
     "output_type": "execute_result"
    }
   ],
   "source": [
    "first(train,3)"
   ]
  },
  {
   "cell_type": "code",
   "execution_count": 8,
   "metadata": {},
   "outputs": [
    {
     "data": {
      "text/html": [
       "<table class=\"data-frame\"><thead><tr><th></th><th>PassengerId</th><th>Survived</th><th>Pclass</th><th>Name</th><th>Sex</th></tr><tr><th></th><th>Int64</th><th>Int64</th><th>Int64</th><th>String</th><th>String</th></tr></thead><tbody><p>3 rows × 12 columns (omitted printing of 7 columns)</p><tr><th>1</th><td>889</td><td>0</td><td>3</td><td>Johnston, Miss. Catherine Helen \"Carrie\"</td><td>female</td></tr><tr><th>2</th><td>890</td><td>1</td><td>1</td><td>Behr, Mr. Karl Howell</td><td>male</td></tr><tr><th>3</th><td>891</td><td>0</td><td>3</td><td>Dooley, Mr. Patrick</td><td>male</td></tr></tbody></table>"
      ],
      "text/latex": [
       "\\begin{tabular}{r|cccccc}\n",
       "\t& PassengerId & Survived & Pclass & Name & Sex & \\\\\n",
       "\t\\hline\n",
       "\t& Int64 & Int64 & Int64 & String & String & \\\\\n",
       "\t\\hline\n",
       "\t1 & 889 & 0 & 3 & Johnston, Miss. Catherine Helen \"Carrie\" & female & $\\dots$ \\\\\n",
       "\t2 & 890 & 1 & 1 & Behr, Mr. Karl Howell & male & $\\dots$ \\\\\n",
       "\t3 & 891 & 0 & 3 & Dooley, Mr. Patrick & male & $\\dots$ \\\\\n",
       "\\end{tabular}\n"
      ],
      "text/plain": [
       "3×12 DataFrame. Omitted printing of 9 columns\n",
       "│ Row │ PassengerId │ Survived │ Pclass │\n",
       "│     │ \u001b[90mInt64\u001b[39m       │ \u001b[90mInt64\u001b[39m    │ \u001b[90mInt64\u001b[39m  │\n",
       "├─────┼─────────────┼──────────┼────────┤\n",
       "│ 1   │ 889         │ 0        │ 3      │\n",
       "│ 2   │ 890         │ 1        │ 1      │\n",
       "│ 3   │ 891         │ 0        │ 3      │"
      ]
     },
     "execution_count": 8,
     "metadata": {},
     "output_type": "execute_result"
    }
   ],
   "source": [
    "last(train,3)"
   ]
  },
  {
   "cell_type": "code",
   "execution_count": 9,
   "metadata": {},
   "outputs": [
    {
     "data": {
      "text/plain": [
       "false"
      ]
     },
     "execution_count": 9,
     "metadata": {},
     "output_type": "execute_result"
    }
   ],
   "source": [
    "ismissing(train)"
   ]
  },
  {
   "cell_type": "code",
   "execution_count": 10,
   "metadata": {},
   "outputs": [
    {
     "data": {
      "text/html": [
       "<table class=\"data-frame\"><thead><tr><th></th><th>PassengerId</th><th>Pclass</th><th>Name</th><th>Sex</th></tr><tr><th></th><th>Int64</th><th>Int64</th><th>String</th><th>String</th></tr></thead><tbody><p>418 rows × 11 columns (omitted printing of 7 columns)</p><tr><th>1</th><td>892</td><td>3</td><td>Kelly, Mr. James</td><td>male</td></tr><tr><th>2</th><td>893</td><td>3</td><td>Wilkes, Mrs. James (Ellen Needs)</td><td>female</td></tr><tr><th>3</th><td>894</td><td>2</td><td>Myles, Mr. Thomas Francis</td><td>male</td></tr><tr><th>4</th><td>895</td><td>3</td><td>Wirz, Mr. Albert</td><td>male</td></tr><tr><th>5</th><td>896</td><td>3</td><td>Hirvonen, Mrs. Alexander (Helga E Lindqvist)</td><td>female</td></tr><tr><th>6</th><td>897</td><td>3</td><td>Svensson, Mr. Johan Cervin</td><td>male</td></tr><tr><th>7</th><td>898</td><td>3</td><td>Connolly, Miss. Kate</td><td>female</td></tr><tr><th>8</th><td>899</td><td>2</td><td>Caldwell, Mr. Albert Francis</td><td>male</td></tr><tr><th>9</th><td>900</td><td>3</td><td>Abrahim, Mrs. Joseph (Sophie Halaut Easu)</td><td>female</td></tr><tr><th>10</th><td>901</td><td>3</td><td>Davies, Mr. John Samuel</td><td>male</td></tr><tr><th>11</th><td>902</td><td>3</td><td>Ilieff, Mr. Ylio</td><td>male</td></tr><tr><th>12</th><td>903</td><td>1</td><td>Jones, Mr. Charles Cresson</td><td>male</td></tr><tr><th>13</th><td>904</td><td>1</td><td>Snyder, Mrs. John Pillsbury (Nelle Stevenson)</td><td>female</td></tr><tr><th>14</th><td>905</td><td>2</td><td>Howard, Mr. Benjamin</td><td>male</td></tr><tr><th>15</th><td>906</td><td>1</td><td>Chaffee, Mrs. Herbert Fuller (Carrie Constance Toogood)</td><td>female</td></tr><tr><th>16</th><td>907</td><td>2</td><td>del Carlo, Mrs. Sebastiano (Argenia Genovesi)</td><td>female</td></tr><tr><th>17</th><td>908</td><td>2</td><td>Keane, Mr. Daniel</td><td>male</td></tr><tr><th>18</th><td>909</td><td>3</td><td>Assaf, Mr. Gerios</td><td>male</td></tr><tr><th>19</th><td>910</td><td>3</td><td>Ilmakangas, Miss. Ida Livija</td><td>female</td></tr><tr><th>20</th><td>911</td><td>3</td><td>Assaf Khalil, Mrs. Mariana (Miriam\")\"</td><td>female</td></tr><tr><th>21</th><td>912</td><td>1</td><td>Rothschild, Mr. Martin</td><td>male</td></tr><tr><th>22</th><td>913</td><td>3</td><td>Olsen, Master. Artur Karl</td><td>male</td></tr><tr><th>23</th><td>914</td><td>1</td><td>Flegenheim, Mrs. Alfred (Antoinette)</td><td>female</td></tr><tr><th>24</th><td>915</td><td>1</td><td>Williams, Mr. Richard Norris II</td><td>male</td></tr><tr><th>25</th><td>916</td><td>1</td><td>Ryerson, Mrs. Arthur Larned (Emily Maria Borie)</td><td>female</td></tr><tr><th>26</th><td>917</td><td>3</td><td>Robins, Mr. Alexander A</td><td>male</td></tr><tr><th>27</th><td>918</td><td>1</td><td>Ostby, Miss. Helene Ragnhild</td><td>female</td></tr><tr><th>28</th><td>919</td><td>3</td><td>Daher, Mr. Shedid</td><td>male</td></tr><tr><th>29</th><td>920</td><td>1</td><td>Brady, Mr. John Bertram</td><td>male</td></tr><tr><th>30</th><td>921</td><td>3</td><td>Samaan, Mr. Elias</td><td>male</td></tr><tr><th>&vellip;</th><td>&vellip;</td><td>&vellip;</td><td>&vellip;</td><td>&vellip;</td></tr></tbody></table>"
      ],
      "text/latex": [
       "\\begin{tabular}{r|ccccc}\n",
       "\t& PassengerId & Pclass & Name & Sex & \\\\\n",
       "\t\\hline\n",
       "\t& Int64 & Int64 & String & String & \\\\\n",
       "\t\\hline\n",
       "\t1 & 892 & 3 & Kelly, Mr. James & male & $\\dots$ \\\\\n",
       "\t2 & 893 & 3 & Wilkes, Mrs. James (Ellen Needs) & female & $\\dots$ \\\\\n",
       "\t3 & 894 & 2 & Myles, Mr. Thomas Francis & male & $\\dots$ \\\\\n",
       "\t4 & 895 & 3 & Wirz, Mr. Albert & male & $\\dots$ \\\\\n",
       "\t5 & 896 & 3 & Hirvonen, Mrs. Alexander (Helga E Lindqvist) & female & $\\dots$ \\\\\n",
       "\t6 & 897 & 3 & Svensson, Mr. Johan Cervin & male & $\\dots$ \\\\\n",
       "\t7 & 898 & 3 & Connolly, Miss. Kate & female & $\\dots$ \\\\\n",
       "\t8 & 899 & 2 & Caldwell, Mr. Albert Francis & male & $\\dots$ \\\\\n",
       "\t9 & 900 & 3 & Abrahim, Mrs. Joseph (Sophie Halaut Easu) & female & $\\dots$ \\\\\n",
       "\t10 & 901 & 3 & Davies, Mr. John Samuel & male & $\\dots$ \\\\\n",
       "\t11 & 902 & 3 & Ilieff, Mr. Ylio & male & $\\dots$ \\\\\n",
       "\t12 & 903 & 1 & Jones, Mr. Charles Cresson & male & $\\dots$ \\\\\n",
       "\t13 & 904 & 1 & Snyder, Mrs. John Pillsbury (Nelle Stevenson) & female & $\\dots$ \\\\\n",
       "\t14 & 905 & 2 & Howard, Mr. Benjamin & male & $\\dots$ \\\\\n",
       "\t15 & 906 & 1 & Chaffee, Mrs. Herbert Fuller (Carrie Constance Toogood) & female & $\\dots$ \\\\\n",
       "\t16 & 907 & 2 & del Carlo, Mrs. Sebastiano (Argenia Genovesi) & female & $\\dots$ \\\\\n",
       "\t17 & 908 & 2 & Keane, Mr. Daniel & male & $\\dots$ \\\\\n",
       "\t18 & 909 & 3 & Assaf, Mr. Gerios & male & $\\dots$ \\\\\n",
       "\t19 & 910 & 3 & Ilmakangas, Miss. Ida Livija & female & $\\dots$ \\\\\n",
       "\t20 & 911 & 3 & Assaf Khalil, Mrs. Mariana (Miriam\")\" & female & $\\dots$ \\\\\n",
       "\t21 & 912 & 1 & Rothschild, Mr. Martin & male & $\\dots$ \\\\\n",
       "\t22 & 913 & 3 & Olsen, Master. Artur Karl & male & $\\dots$ \\\\\n",
       "\t23 & 914 & 1 & Flegenheim, Mrs. Alfred (Antoinette) & female & $\\dots$ \\\\\n",
       "\t24 & 915 & 1 & Williams, Mr. Richard Norris II & male & $\\dots$ \\\\\n",
       "\t25 & 916 & 1 & Ryerson, Mrs. Arthur Larned (Emily Maria Borie) & female & $\\dots$ \\\\\n",
       "\t26 & 917 & 3 & Robins, Mr. Alexander A & male & $\\dots$ \\\\\n",
       "\t27 & 918 & 1 & Ostby, Miss. Helene Ragnhild & female & $\\dots$ \\\\\n",
       "\t28 & 919 & 3 & Daher, Mr. Shedid & male & $\\dots$ \\\\\n",
       "\t29 & 920 & 1 & Brady, Mr. John Bertram & male & $\\dots$ \\\\\n",
       "\t30 & 921 & 3 & Samaan, Mr. Elias & male & $\\dots$ \\\\\n",
       "\t$\\dots$ & $\\dots$ & $\\dots$ & $\\dots$ & $\\dots$ &  \\\\\n",
       "\\end{tabular}\n"
      ],
      "text/plain": [
       "418×11 DataFrame. Omitted printing of 8 columns\n",
       "│ Row │ PassengerId │ Pclass │ Name                                            │\n",
       "│     │ \u001b[90mInt64\u001b[39m       │ \u001b[90mInt64\u001b[39m  │ \u001b[90mString\u001b[39m                                          │\n",
       "├─────┼─────────────┼────────┼─────────────────────────────────────────────────┤\n",
       "│ 1   │ 892         │ 3      │ Kelly, Mr. James                                │\n",
       "│ 2   │ 893         │ 3      │ Wilkes, Mrs. James (Ellen Needs)                │\n",
       "│ 3   │ 894         │ 2      │ Myles, Mr. Thomas Francis                       │\n",
       "│ 4   │ 895         │ 3      │ Wirz, Mr. Albert                                │\n",
       "│ 5   │ 896         │ 3      │ Hirvonen, Mrs. Alexander (Helga E Lindqvist)    │\n",
       "│ 6   │ 897         │ 3      │ Svensson, Mr. Johan Cervin                      │\n",
       "│ 7   │ 898         │ 3      │ Connolly, Miss. Kate                            │\n",
       "│ 8   │ 899         │ 2      │ Caldwell, Mr. Albert Francis                    │\n",
       "│ 9   │ 900         │ 3      │ Abrahim, Mrs. Joseph (Sophie Halaut Easu)       │\n",
       "│ 10  │ 901         │ 3      │ Davies, Mr. John Samuel                         │\n",
       "⋮\n",
       "│ 408 │ 1299        │ 1      │ Widener, Mr. George Dunton                      │\n",
       "│ 409 │ 1300        │ 3      │ Riordan, Miss. Johanna Hannah\"\"                 │\n",
       "│ 410 │ 1301        │ 3      │ Peacock, Miss. Treasteall                       │\n",
       "│ 411 │ 1302        │ 3      │ Naughton, Miss. Hannah                          │\n",
       "│ 412 │ 1303        │ 1      │ Minahan, Mrs. William Edward (Lillian E Thorpe) │\n",
       "│ 413 │ 1304        │ 3      │ Henriksson, Miss. Jenny Lovisa                  │\n",
       "│ 414 │ 1305        │ 3      │ Spector, Mr. Woolf                              │\n",
       "│ 415 │ 1306        │ 1      │ Oliva y Ocana, Dona. Fermina                    │\n",
       "│ 416 │ 1307        │ 3      │ Saether, Mr. Simon Sivertsen                    │\n",
       "│ 417 │ 1308        │ 3      │ Ware, Mr. Frederick                             │\n",
       "│ 418 │ 1309        │ 3      │ Peter, Master. Michael J                        │"
      ]
     },
     "execution_count": 10,
     "metadata": {},
     "output_type": "execute_result"
    }
   ],
   "source": [
    "test = CSV.read(\"test.csv\")"
   ]
  },
  {
   "cell_type": "code",
   "execution_count": 11,
   "metadata": {},
   "outputs": [
    {
     "data": {
      "text/plain": [
       "false"
      ]
     },
     "execution_count": 11,
     "metadata": {},
     "output_type": "execute_result"
    }
   ],
   "source": [
    "ismissing(test)"
   ]
  },
  {
   "cell_type": "code",
   "execution_count": 12,
   "metadata": {},
   "outputs": [
    {
     "name": "stdout",
     "output_type": "stream",
     "text": [
      "search: \u001b[0m\u001b[1md\u001b[22m\u001b[0m\u001b[1me\u001b[22m\u001b[0m\u001b[1ms\u001b[22m\u001b[0m\u001b[1mc\u001b[22m\u001b[0m\u001b[1mr\u001b[22m\u001b[0m\u001b[1mi\u001b[22m\u001b[0m\u001b[1mb\u001b[22m\u001b[0m\u001b[1me\u001b[22m\n",
      "\n"
     ]
    },
    {
     "data": {
      "text/latex": [
       "\\begin{verbatim}\n",
       "describe(io::IO, x)\n",
       "\\end{verbatim}\n",
       "For an object \\texttt{x}, print descriptive statistics to \\texttt{io}.\n",
       "\n",
       "This generic function is owned by StatsBase.jl, which is the sole provider of the default definition.\n",
       "\n",
       "\\rule{\\textwidth}{1pt}\n",
       "\\begin{verbatim}\n",
       "describe(df::AbstractDataFrame; cols=:)\n",
       "describe(df::AbstractDataFrame, stats::Union{Symbol, Pair}...; cols=:)\n",
       "\\end{verbatim}\n",
       "Return descriptive statistics for a data frame as a new \\texttt{DataFrame} where each row represents a variable and each column a summary statistic.\n",
       "\n",
       "\\section{Arguments}\n",
       "\\begin{itemize}\n",
       "\\item \\texttt{df} : the \\texttt{AbstractDataFrame}\n",
       "\n",
       "\n",
       "\\item \\texttt{stats::Union\\{Symbol, Pair\\}...} : the summary statistics to report. Arguments can be:\n",
       "\n",
       "\\begin{itemize}\n",
       "\\item A symbol from the list \\texttt{:mean}, \\texttt{:std}, \\texttt{:min}, \\texttt{:q25}, \\texttt{:median}, \\texttt{:q75}, \\texttt{:max}, \\texttt{:eltype}, \\texttt{:nunique}, \\texttt{:first}, \\texttt{:last}, and \\texttt{:nmissing}. The default statistics used are \\texttt{:mean}, \\texttt{:min}, \\texttt{:median}, \\texttt{:max}, \\texttt{:nunique}, \\texttt{:nmissing}, and \\texttt{:eltype}.\n",
       "\n",
       "\n",
       "\\item \\texttt{:all} as the only \\texttt{Symbol} argument to return all statistics.\n",
       "\n",
       "\n",
       "\\item A \\texttt{name => function} pair where \\texttt{name} is a \\texttt{Symbol} or string. This will create a column of summary statistics with the provided name.\n",
       "\n",
       "\\end{itemize}\n",
       "\n",
       "\\item \\texttt{cols} : a keyword argument allowing to select only a subset of columns from \\texttt{df} to describe. Can be any column selector (\\texttt{Symbol}, string or integer; \\texttt{:}, \\texttt{All}, \\texttt{Between}, \\texttt{Not}, a regular expression, or a vector of \\texttt{Symbol}s, strings or integers).\n",
       "\n",
       "\\end{itemize}\n",
       "\\section{Details}\n",
       "For \\texttt{Real} columns, compute the mean, standard deviation, minimum, first quantile, median, third quantile, and maximum. If a column does not derive from \\texttt{Real}, \\texttt{describe} will attempt to calculate all statistics, using \\texttt{nothing} as a fall-back in the case of an error.\n",
       "\n",
       "When \\texttt{stats} contains \\texttt{:nunique}, \\texttt{describe} will report the number of unique values in a column. If a column's base type derives from \\texttt{Real}, \\texttt{:nunique} will return \\texttt{nothing}s.\n",
       "\n",
       "Missing values are filtered in the calculation of all statistics, however the column \\texttt{:nmissing} will report the number of missing values of that variable. If the column does not allow missing values, \\texttt{nothing} is returned. Consequently, \\texttt{nmissing = 0} indicates that the column allows missing values, but does not currently contain any.\n",
       "\n",
       "If custom functions are provided, they are called repeatedly with the vector corresponding to each column as the only argument. For columns allowing for missing values, the vector is wrapped in a call to \\texttt{skipmissing}: custom functions must therefore support such objects (and not only vectors), and cannot access missing values.\n",
       "\n",
       "\\section{Examples}\n",
       "\\begin{verbatim}\n",
       "julia> df = DataFrame(i=1:10, x=0.1:0.1:1.0, y='a':'j')\n",
       "10×3 DataFrame\n",
       "│ Row │ i     │ x       │ y    │\n",
       "│     │ Int64 │ Float64 │ Char │\n",
       "├─────┼───────┼─────────┼──────┤\n",
       "│ 1   │ 1     │ 0.1     │ 'a'  │\n",
       "│ 2   │ 2     │ 0.2     │ 'b'  │\n",
       "│ 3   │ 3     │ 0.3     │ 'c'  │\n",
       "│ 4   │ 4     │ 0.4     │ 'd'  │\n",
       "│ 5   │ 5     │ 0.5     │ 'e'  │\n",
       "│ 6   │ 6     │ 0.6     │ 'f'  │\n",
       "│ 7   │ 7     │ 0.7     │ 'g'  │\n",
       "│ 8   │ 8     │ 0.8     │ 'h'  │\n",
       "│ 9   │ 9     │ 0.9     │ 'i'  │\n",
       "│ 10  │ 10    │ 1.0     │ 'j'  │\n",
       "\n",
       "julia> describe(df)\n",
       "3×8 DataFrame\n",
       "│ Row │ variable │ mean   │ min │ median │ max │ nunique │ nmissing │ eltype   │\n",
       "│     │ Symbol   │ Union… │ Any │ Union… │ Any │ Union…  │ Nothing  │ DataType │\n",
       "├─────┼──────────┼────────┼─────┼────────┼─────┼─────────┼──────────┼──────────┤\n",
       "│ 1   │ i        │ 5.5    │ 1   │ 5.5    │ 10  │         │          │ Int64    │\n",
       "│ 2   │ x        │ 0.55   │ 0.1 │ 0.55   │ 1.0 │         │          │ Float64  │\n",
       "│ 3   │ y        │        │ 'a' │        │ 'j' │ 10      │          │ Char     │\n",
       "\n",
       "julia> describe(df, :min, :max)\n",
       "3×3 DataFrame\n",
       "│ Row │ variable │ min │ max │\n",
       "│     │ Symbol   │ Any │ Any │\n",
       "├─────┼──────────┼─────┼─────┤\n",
       "│ 1   │ i        │ 1   │ 10  │\n",
       "│ 2   │ x        │ 0.1 │ 1.0 │\n",
       "│ 3   │ y        │ 'a' │ 'j' │\n",
       "\n",
       "julia> describe(df, :min, :sum => sum)\n",
       "3×3 DataFrame\n",
       "│ Row │ variable │ min │ sum │\n",
       "│     │ Symbol   │ Any │ Any │\n",
       "├─────┼──────────┼─────┼─────┤\n",
       "│ 1   │ i        │ 1   │ 55  │\n",
       "│ 2   │ x        │ 0.1 │ 5.5 │\n",
       "│ 3   │ y        │ 'a' │     │\n",
       "\n",
       "julia> describe(df, :min, :sum => sum, cols=:x)\n",
       "1×3 DataFrame\n",
       "│ Row │ variable │ min     │ sum     │\n",
       "│     │ Symbol   │ Float64 │ Float64 │\n",
       "├─────┼──────────┼─────────┼─────────┤\n",
       "│ 1   │ x        │ 0.1     │ 5.5     │\n",
       "\\end{verbatim}\n",
       "\\rule{\\textwidth}{1pt}\n",
       "\\begin{verbatim}\n",
       "describe(a)\n",
       "\\end{verbatim}\n",
       "Pretty-print the summary statistics provided by \\href{@ref}{\\texttt{summarystats}}: the mean, minimum, 25th percentile, median, 75th percentile, and maximum.\n",
       "\n"
      ],
      "text/markdown": [
       "```\n",
       "describe(io::IO, x)\n",
       "```\n",
       "\n",
       "For an object `x`, print descriptive statistics to `io`.\n",
       "\n",
       "This generic function is owned by StatsBase.jl, which is the sole provider of the default definition.\n",
       "\n",
       "---\n",
       "\n",
       "```\n",
       "describe(df::AbstractDataFrame; cols=:)\n",
       "describe(df::AbstractDataFrame, stats::Union{Symbol, Pair}...; cols=:)\n",
       "```\n",
       "\n",
       "Return descriptive statistics for a data frame as a new `DataFrame` where each row represents a variable and each column a summary statistic.\n",
       "\n",
       "# Arguments\n",
       "\n",
       "  * `df` : the `AbstractDataFrame`\n",
       "  * `stats::Union{Symbol, Pair}...` : the summary statistics to report. Arguments can be:\n",
       "\n",
       "      * A symbol from the list `:mean`, `:std`, `:min`, `:q25`, `:median`, `:q75`, `:max`, `:eltype`, `:nunique`, `:first`, `:last`, and `:nmissing`. The default statistics used are `:mean`, `:min`, `:median`, `:max`, `:nunique`, `:nmissing`, and `:eltype`.\n",
       "      * `:all` as the only `Symbol` argument to return all statistics.\n",
       "      * A `name => function` pair where `name` is a `Symbol` or string. This will create a column of summary statistics with the provided name.\n",
       "  * `cols` : a keyword argument allowing to select only a subset of columns from `df` to describe. Can be any column selector (`Symbol`, string or integer; `:`, `All`, `Between`, `Not`, a regular expression, or a vector of `Symbol`s, strings or integers).\n",
       "\n",
       "# Details\n",
       "\n",
       "For `Real` columns, compute the mean, standard deviation, minimum, first quantile, median, third quantile, and maximum. If a column does not derive from `Real`, `describe` will attempt to calculate all statistics, using `nothing` as a fall-back in the case of an error.\n",
       "\n",
       "When `stats` contains `:nunique`, `describe` will report the number of unique values in a column. If a column's base type derives from `Real`, `:nunique` will return `nothing`s.\n",
       "\n",
       "Missing values are filtered in the calculation of all statistics, however the column `:nmissing` will report the number of missing values of that variable. If the column does not allow missing values, `nothing` is returned. Consequently, `nmissing = 0` indicates that the column allows missing values, but does not currently contain any.\n",
       "\n",
       "If custom functions are provided, they are called repeatedly with the vector corresponding to each column as the only argument. For columns allowing for missing values, the vector is wrapped in a call to `skipmissing`: custom functions must therefore support such objects (and not only vectors), and cannot access missing values.\n",
       "\n",
       "# Examples\n",
       "\n",
       "```julia\n",
       "julia> df = DataFrame(i=1:10, x=0.1:0.1:1.0, y='a':'j')\n",
       "10×3 DataFrame\n",
       "│ Row │ i     │ x       │ y    │\n",
       "│     │ Int64 │ Float64 │ Char │\n",
       "├─────┼───────┼─────────┼──────┤\n",
       "│ 1   │ 1     │ 0.1     │ 'a'  │\n",
       "│ 2   │ 2     │ 0.2     │ 'b'  │\n",
       "│ 3   │ 3     │ 0.3     │ 'c'  │\n",
       "│ 4   │ 4     │ 0.4     │ 'd'  │\n",
       "│ 5   │ 5     │ 0.5     │ 'e'  │\n",
       "│ 6   │ 6     │ 0.6     │ 'f'  │\n",
       "│ 7   │ 7     │ 0.7     │ 'g'  │\n",
       "│ 8   │ 8     │ 0.8     │ 'h'  │\n",
       "│ 9   │ 9     │ 0.9     │ 'i'  │\n",
       "│ 10  │ 10    │ 1.0     │ 'j'  │\n",
       "\n",
       "julia> describe(df)\n",
       "3×8 DataFrame\n",
       "│ Row │ variable │ mean   │ min │ median │ max │ nunique │ nmissing │ eltype   │\n",
       "│     │ Symbol   │ Union… │ Any │ Union… │ Any │ Union…  │ Nothing  │ DataType │\n",
       "├─────┼──────────┼────────┼─────┼────────┼─────┼─────────┼──────────┼──────────┤\n",
       "│ 1   │ i        │ 5.5    │ 1   │ 5.5    │ 10  │         │          │ Int64    │\n",
       "│ 2   │ x        │ 0.55   │ 0.1 │ 0.55   │ 1.0 │         │          │ Float64  │\n",
       "│ 3   │ y        │        │ 'a' │        │ 'j' │ 10      │          │ Char     │\n",
       "\n",
       "julia> describe(df, :min, :max)\n",
       "3×3 DataFrame\n",
       "│ Row │ variable │ min │ max │\n",
       "│     │ Symbol   │ Any │ Any │\n",
       "├─────┼──────────┼─────┼─────┤\n",
       "│ 1   │ i        │ 1   │ 10  │\n",
       "│ 2   │ x        │ 0.1 │ 1.0 │\n",
       "│ 3   │ y        │ 'a' │ 'j' │\n",
       "\n",
       "julia> describe(df, :min, :sum => sum)\n",
       "3×3 DataFrame\n",
       "│ Row │ variable │ min │ sum │\n",
       "│     │ Symbol   │ Any │ Any │\n",
       "├─────┼──────────┼─────┼─────┤\n",
       "│ 1   │ i        │ 1   │ 55  │\n",
       "│ 2   │ x        │ 0.1 │ 5.5 │\n",
       "│ 3   │ y        │ 'a' │     │\n",
       "\n",
       "julia> describe(df, :min, :sum => sum, cols=:x)\n",
       "1×3 DataFrame\n",
       "│ Row │ variable │ min     │ sum     │\n",
       "│     │ Symbol   │ Float64 │ Float64 │\n",
       "├─────┼──────────┼─────────┼─────────┤\n",
       "│ 1   │ x        │ 0.1     │ 5.5     │\n",
       "```\n",
       "\n",
       "---\n",
       "\n",
       "```\n",
       "describe(a)\n",
       "```\n",
       "\n",
       "Pretty-print the summary statistics provided by [`summarystats`](@ref): the mean, minimum, 25th percentile, median, 75th percentile, and maximum.\n"
      ],
      "text/plain": [
       "\u001b[36m  describe(io::IO, x)\u001b[39m\n",
       "\n",
       "  For an object \u001b[36mx\u001b[39m, print descriptive statistics to \u001b[36mio\u001b[39m.\n",
       "\n",
       "  This generic function is owned by StatsBase.jl, which is the sole provider\n",
       "  of the default definition.\n",
       "\n",
       "  ────────────────────────────────────────────────────────────────────────────\n",
       "\n",
       "\u001b[36m  describe(df::AbstractDataFrame; cols=:)\u001b[39m\n",
       "\u001b[36m  describe(df::AbstractDataFrame, stats::Union{Symbol, Pair}...; cols=:)\u001b[39m\n",
       "\n",
       "  Return descriptive statistics for a data frame as a new \u001b[36mDataFrame\u001b[39m where each\n",
       "  row represents a variable and each column a summary statistic.\n",
       "\n",
       "\u001b[1m  Arguments\u001b[22m\n",
       "\u001b[1m  ≡≡≡≡≡≡≡≡≡≡≡\u001b[22m\n",
       "\n",
       "    •    \u001b[36mdf\u001b[39m : the \u001b[36mAbstractDataFrame\u001b[39m\n",
       "\n",
       "    •    \u001b[36mstats::Union{Symbol, Pair}...\u001b[39m : the summary statistics to report.\n",
       "        Arguments can be:\n",
       "      \n",
       "          •    A symbol from the list \u001b[36m:mean\u001b[39m, \u001b[36m:std\u001b[39m, \u001b[36m:min\u001b[39m, \u001b[36m:q25\u001b[39m, \u001b[36m:median\u001b[39m,\n",
       "              \u001b[36m:q75\u001b[39m, \u001b[36m:max\u001b[39m, \u001b[36m:eltype\u001b[39m, \u001b[36m:nunique\u001b[39m, \u001b[36m:first\u001b[39m, \u001b[36m:last\u001b[39m, and\n",
       "              \u001b[36m:nmissing\u001b[39m. The default statistics used are \u001b[36m:mean\u001b[39m, \u001b[36m:min\u001b[39m,\n",
       "              \u001b[36m:median\u001b[39m, \u001b[36m:max\u001b[39m, \u001b[36m:nunique\u001b[39m, \u001b[36m:nmissing\u001b[39m, and \u001b[36m:eltype\u001b[39m.\n",
       "      \n",
       "          •    \u001b[36m:all\u001b[39m as the only \u001b[36mSymbol\u001b[39m argument to return all\n",
       "              statistics.\n",
       "      \n",
       "          •    A \u001b[36mname => function\u001b[39m pair where \u001b[36mname\u001b[39m is a \u001b[36mSymbol\u001b[39m or\n",
       "              string. This will create a column of summary statistics\n",
       "              with the provided name.\n",
       "\n",
       "    •    \u001b[36mcols\u001b[39m : a keyword argument allowing to select only a subset of\n",
       "        columns from \u001b[36mdf\u001b[39m to describe. Can be any column selector (\u001b[36mSymbol\u001b[39m,\n",
       "        string or integer; \u001b[36m:\u001b[39m, \u001b[36mAll\u001b[39m, \u001b[36mBetween\u001b[39m, \u001b[36mNot\u001b[39m, a regular expression, or\n",
       "        a vector of \u001b[36mSymbol\u001b[39ms, strings or integers).\n",
       "\n",
       "\u001b[1m  Details\u001b[22m\n",
       "\u001b[1m  ≡≡≡≡≡≡≡≡≡\u001b[22m\n",
       "\n",
       "  For \u001b[36mReal\u001b[39m columns, compute the mean, standard deviation, minimum, first\n",
       "  quantile, median, third quantile, and maximum. If a column does not derive\n",
       "  from \u001b[36mReal\u001b[39m, \u001b[36mdescribe\u001b[39m will attempt to calculate all statistics, using \u001b[36mnothing\u001b[39m\n",
       "  as a fall-back in the case of an error.\n",
       "\n",
       "  When \u001b[36mstats\u001b[39m contains \u001b[36m:nunique\u001b[39m, \u001b[36mdescribe\u001b[39m will report the number of unique\n",
       "  values in a column. If a column's base type derives from \u001b[36mReal\u001b[39m, \u001b[36m:nunique\u001b[39m will\n",
       "  return \u001b[36mnothing\u001b[39ms.\n",
       "\n",
       "  Missing values are filtered in the calculation of all statistics, however\n",
       "  the column \u001b[36m:nmissing\u001b[39m will report the number of missing values of that\n",
       "  variable. If the column does not allow missing values, \u001b[36mnothing\u001b[39m is returned.\n",
       "  Consequently, \u001b[36mnmissing = 0\u001b[39m indicates that the column allows missing values,\n",
       "  but does not currently contain any.\n",
       "\n",
       "  If custom functions are provided, they are called repeatedly with the vector\n",
       "  corresponding to each column as the only argument. For columns allowing for\n",
       "  missing values, the vector is wrapped in a call to \u001b[36mskipmissing\u001b[39m: custom\n",
       "  functions must therefore support such objects (and not only vectors), and\n",
       "  cannot access missing values.\n",
       "\n",
       "\u001b[1m  Examples\u001b[22m\n",
       "\u001b[1m  ≡≡≡≡≡≡≡≡≡≡\u001b[22m\n",
       "\n",
       "\u001b[36m  julia> df = DataFrame(i=1:10, x=0.1:0.1:1.0, y='a':'j')\u001b[39m\n",
       "\u001b[36m  10×3 DataFrame\u001b[39m\n",
       "\u001b[36m  │ Row │ i     │ x       │ y    │\u001b[39m\n",
       "\u001b[36m  │     │ Int64 │ Float64 │ Char │\u001b[39m\n",
       "\u001b[36m  ├─────┼───────┼─────────┼──────┤\u001b[39m\n",
       "\u001b[36m  │ 1   │ 1     │ 0.1     │ 'a'  │\u001b[39m\n",
       "\u001b[36m  │ 2   │ 2     │ 0.2     │ 'b'  │\u001b[39m\n",
       "\u001b[36m  │ 3   │ 3     │ 0.3     │ 'c'  │\u001b[39m\n",
       "\u001b[36m  │ 4   │ 4     │ 0.4     │ 'd'  │\u001b[39m\n",
       "\u001b[36m  │ 5   │ 5     │ 0.5     │ 'e'  │\u001b[39m\n",
       "\u001b[36m  │ 6   │ 6     │ 0.6     │ 'f'  │\u001b[39m\n",
       "\u001b[36m  │ 7   │ 7     │ 0.7     │ 'g'  │\u001b[39m\n",
       "\u001b[36m  │ 8   │ 8     │ 0.8     │ 'h'  │\u001b[39m\n",
       "\u001b[36m  │ 9   │ 9     │ 0.9     │ 'i'  │\u001b[39m\n",
       "\u001b[36m  │ 10  │ 10    │ 1.0     │ 'j'  │\u001b[39m\n",
       "\u001b[36m  \u001b[39m\n",
       "\u001b[36m  julia> describe(df)\u001b[39m\n",
       "\u001b[36m  3×8 DataFrame\u001b[39m\n",
       "\u001b[36m  │ Row │ variable │ mean   │ min │ median │ max │ nunique │ nmissing │ eltype   │\u001b[39m\n",
       "\u001b[36m  │     │ Symbol   │ Union… │ Any │ Union… │ Any │ Union…  │ Nothing  │ DataType │\u001b[39m\n",
       "\u001b[36m  ├─────┼──────────┼────────┼─────┼────────┼─────┼─────────┼──────────┼──────────┤\u001b[39m\n",
       "\u001b[36m  │ 1   │ i        │ 5.5    │ 1   │ 5.5    │ 10  │         │          │ Int64    │\u001b[39m\n",
       "\u001b[36m  │ 2   │ x        │ 0.55   │ 0.1 │ 0.55   │ 1.0 │         │          │ Float64  │\u001b[39m\n",
       "\u001b[36m  │ 3   │ y        │        │ 'a' │        │ 'j' │ 10      │          │ Char     │\u001b[39m\n",
       "\u001b[36m  \u001b[39m\n",
       "\u001b[36m  julia> describe(df, :min, :max)\u001b[39m\n",
       "\u001b[36m  3×3 DataFrame\u001b[39m\n",
       "\u001b[36m  │ Row │ variable │ min │ max │\u001b[39m\n",
       "\u001b[36m  │     │ Symbol   │ Any │ Any │\u001b[39m\n",
       "\u001b[36m  ├─────┼──────────┼─────┼─────┤\u001b[39m\n",
       "\u001b[36m  │ 1   │ i        │ 1   │ 10  │\u001b[39m\n",
       "\u001b[36m  │ 2   │ x        │ 0.1 │ 1.0 │\u001b[39m\n",
       "\u001b[36m  │ 3   │ y        │ 'a' │ 'j' │\u001b[39m\n",
       "\u001b[36m  \u001b[39m\n",
       "\u001b[36m  julia> describe(df, :min, :sum => sum)\u001b[39m\n",
       "\u001b[36m  3×3 DataFrame\u001b[39m\n",
       "\u001b[36m  │ Row │ variable │ min │ sum │\u001b[39m\n",
       "\u001b[36m  │     │ Symbol   │ Any │ Any │\u001b[39m\n",
       "\u001b[36m  ├─────┼──────────┼─────┼─────┤\u001b[39m\n",
       "\u001b[36m  │ 1   │ i        │ 1   │ 55  │\u001b[39m\n",
       "\u001b[36m  │ 2   │ x        │ 0.1 │ 5.5 │\u001b[39m\n",
       "\u001b[36m  │ 3   │ y        │ 'a' │     │\u001b[39m\n",
       "\u001b[36m  \u001b[39m\n",
       "\u001b[36m  julia> describe(df, :min, :sum => sum, cols=:x)\u001b[39m\n",
       "\u001b[36m  1×3 DataFrame\u001b[39m\n",
       "\u001b[36m  │ Row │ variable │ min     │ sum     │\u001b[39m\n",
       "\u001b[36m  │     │ Symbol   │ Float64 │ Float64 │\u001b[39m\n",
       "\u001b[36m  ├─────┼──────────┼─────────┼─────────┤\u001b[39m\n",
       "\u001b[36m  │ 1   │ x        │ 0.1     │ 5.5     │\u001b[39m\n",
       "\n",
       "  ────────────────────────────────────────────────────────────────────────────\n",
       "\n",
       "\u001b[36m  describe(a)\u001b[39m\n",
       "\n",
       "  Pretty-print the summary statistics provided by \u001b[36msummarystats\u001b[39m: the mean,\n",
       "  minimum, 25th percentile, median, 75th percentile, and maximum."
      ]
     },
     "execution_count": 12,
     "metadata": {},
     "output_type": "execute_result"
    }
   ],
   "source": [
    "?describe"
   ]
  },
  {
   "cell_type": "code",
   "execution_count": 13,
   "metadata": {},
   "outputs": [
    {
     "name": "stderr",
     "output_type": "stream",
     "text": [
      "┌ Warning: `showall(df::AbstractDataFrame, allcols::Bool = true)` is deprecated, use `show(df, allrows = true, allcols = allcols)` instead.\n",
      "│   caller = showall(::DataFrame) at deprecated.jl:66\n",
      "└ @ DataFrames .\\deprecated.jl:66\n"
     ]
    },
    {
     "name": "stdout",
     "output_type": "stream",
     "text": [
      "12×8 DataFrame\n",
      "│ Row │ variable    │ mean     │ min                 │ median  │\n",
      "│     │ \u001b[90mSymbol\u001b[39m      │ \u001b[90mUnion…\u001b[39m   │ \u001b[90mAny\u001b[39m                 │ \u001b[90mUnion…\u001b[39m  │\n",
      "├─────┼─────────────┼──────────┼─────────────────────┼─────────┤\n",
      "│ 1   │ PassengerId │ 446.0    │ 1                   │ 446.0   │\n",
      "│ 2   │ Survived    │ 0.383838 │ 0                   │ 0.0     │\n",
      "│ 3   │ Pclass      │ 2.30864  │ 1                   │ 3.0     │\n",
      "│ 4   │ Name        │          │ Abbing, Mr. Anthony │         │\n",
      "│ 5   │ Sex         │          │ female              │         │\n",
      "│ 6   │ Age         │ 29.6991  │ 0.42                │ 28.0    │\n",
      "│ 7   │ SibSp       │ 0.523008 │ 0                   │ 0.0     │\n",
      "│ 8   │ Parch       │ 0.381594 │ 0                   │ 0.0     │\n",
      "│ 9   │ Ticket      │          │ 110152              │         │\n",
      "│ 10  │ Fare        │ 32.2042  │ 0.0                 │ 14.4542 │\n",
      "│ 11  │ Cabin       │          │ A10                 │         │\n",
      "│ 12  │ Embarked    │          │ C                   │         │\n",
      "\n",
      "│ Row │ max                         │ nunique │ nmissing │\n",
      "│     │ \u001b[90mAny\u001b[39m                         │ \u001b[90mUnion…\u001b[39m  │ \u001b[90mUnion…\u001b[39m   │\n",
      "├─────┼─────────────────────────────┼─────────┼──────────┤\n",
      "│ 1   │ 891                         │         │          │\n",
      "│ 2   │ 1                           │         │          │\n",
      "│ 3   │ 3                           │         │          │\n",
      "│ 4   │ van Melkebeke, Mr. Philemon │ 891     │          │\n",
      "│ 5   │ male                        │ 2       │          │\n",
      "│ 6   │ 80.0                        │         │ 177      │\n",
      "│ 7   │ 8                           │         │          │\n",
      "│ 8   │ 6                           │         │          │\n",
      "│ 9   │ WE/P 5735                   │ 681     │          │\n",
      "│ 10  │ 512.329                     │         │          │\n",
      "│ 11  │ T                           │ 147     │ 687      │\n",
      "│ 12  │ S                           │ 3       │ 2        │\n",
      "\n",
      "│ Row │ eltype                  │\n",
      "│     │ \u001b[90mType\u001b[39m                    │\n",
      "├─────┼─────────────────────────┤\n",
      "│ 1   │ Int64                   │\n",
      "│ 2   │ Int64                   │\n",
      "│ 3   │ Int64                   │\n",
      "│ 4   │ String                  │\n",
      "│ 5   │ String                  │\n",
      "│ 6   │ Union{Missing, Float64} │\n",
      "│ 7   │ Int64                   │\n",
      "│ 8   │ Int64                   │\n",
      "│ 9   │ String                  │\n",
      "│ 10  │ Float64                 │\n",
      "│ 11  │ Union{Missing, String}  │\n",
      "│ 12  │ Union{Missing, String}  │"
     ]
    }
   ],
   "source": [
    "showall(describe(train))"
   ]
  },
  {
   "cell_type": "code",
   "execution_count": 14,
   "metadata": {},
   "outputs": [
    {
     "data": {
      "text/html": [
       "<table class=\"data-frame\"><thead><tr><th></th><th>PassengerId</th><th>Survived</th><th>Pclass</th><th>Name</th></tr><tr><th></th><th>Int64</th><th>Int64</th><th>Int64</th><th>String</th></tr></thead><tbody><p>891 rows × 12 columns (omitted printing of 8 columns)</p><tr><th>1</th><td>1</td><td>0</td><td>3</td><td>Braund, Mr. Owen Harris</td></tr><tr><th>2</th><td>2</td><td>1</td><td>1</td><td>Cumings, Mrs. John Bradley (Florence Briggs Thayer)</td></tr><tr><th>3</th><td>3</td><td>1</td><td>3</td><td>Heikkinen, Miss. Laina</td></tr><tr><th>4</th><td>4</td><td>1</td><td>1</td><td>Futrelle, Mrs. Jacques Heath (Lily May Peel)</td></tr><tr><th>5</th><td>5</td><td>0</td><td>3</td><td>Allen, Mr. William Henry</td></tr><tr><th>6</th><td>6</td><td>0</td><td>3</td><td>Moran, Mr. James</td></tr><tr><th>7</th><td>7</td><td>0</td><td>1</td><td>McCarthy, Mr. Timothy J</td></tr><tr><th>8</th><td>8</td><td>0</td><td>3</td><td>Palsson, Master. Gosta Leonard</td></tr><tr><th>9</th><td>9</td><td>1</td><td>3</td><td>Johnson, Mrs. Oscar W (Elisabeth Vilhelmina Berg)</td></tr><tr><th>10</th><td>10</td><td>1</td><td>2</td><td>Nasser, Mrs. Nicholas (Adele Achem)</td></tr><tr><th>11</th><td>11</td><td>1</td><td>3</td><td>Sandstrom, Miss. Marguerite Rut</td></tr><tr><th>12</th><td>12</td><td>1</td><td>1</td><td>Bonnell, Miss. Elizabeth</td></tr><tr><th>13</th><td>13</td><td>0</td><td>3</td><td>Saundercock, Mr. William Henry</td></tr><tr><th>14</th><td>14</td><td>0</td><td>3</td><td>Andersson, Mr. Anders Johan</td></tr><tr><th>15</th><td>15</td><td>0</td><td>3</td><td>Vestrom, Miss. Hulda Amanda Adolfina</td></tr><tr><th>16</th><td>16</td><td>1</td><td>2</td><td>Hewlett, Mrs. (Mary D Kingcome) </td></tr><tr><th>17</th><td>17</td><td>0</td><td>3</td><td>Rice, Master. Eugene</td></tr><tr><th>18</th><td>18</td><td>1</td><td>2</td><td>Williams, Mr. Charles Eugene</td></tr><tr><th>19</th><td>19</td><td>0</td><td>3</td><td>Vander Planke, Mrs. Julius (Emelia Maria Vandemoortele)</td></tr><tr><th>20</th><td>20</td><td>1</td><td>3</td><td>Masselmani, Mrs. Fatima</td></tr><tr><th>21</th><td>21</td><td>0</td><td>2</td><td>Fynney, Mr. Joseph J</td></tr><tr><th>22</th><td>22</td><td>1</td><td>2</td><td>Beesley, Mr. Lawrence</td></tr><tr><th>23</th><td>23</td><td>1</td><td>3</td><td>McGowan, Miss. Anna \"Annie\"</td></tr><tr><th>24</th><td>24</td><td>1</td><td>1</td><td>Sloper, Mr. William Thompson</td></tr><tr><th>25</th><td>25</td><td>0</td><td>3</td><td>Palsson, Miss. Torborg Danira</td></tr><tr><th>26</th><td>26</td><td>1</td><td>3</td><td>Asplund, Mrs. Carl Oscar (Selma Augusta Emilia Johansson)</td></tr><tr><th>27</th><td>27</td><td>0</td><td>3</td><td>Emir, Mr. Farred Chehab</td></tr><tr><th>28</th><td>28</td><td>0</td><td>1</td><td>Fortune, Mr. Charles Alexander</td></tr><tr><th>29</th><td>29</td><td>1</td><td>3</td><td>O'Dwyer, Miss. Ellen \"Nellie\"</td></tr><tr><th>30</th><td>30</td><td>0</td><td>3</td><td>Todoroff, Mr. Lalio</td></tr><tr><th>&vellip;</th><td>&vellip;</td><td>&vellip;</td><td>&vellip;</td><td>&vellip;</td></tr></tbody></table>"
      ],
      "text/latex": [
       "\\begin{tabular}{r|ccccc}\n",
       "\t& PassengerId & Survived & Pclass & Name & \\\\\n",
       "\t\\hline\n",
       "\t& Int64 & Int64 & Int64 & String & \\\\\n",
       "\t\\hline\n",
       "\t1 & 1 & 0 & 3 & Braund, Mr. Owen Harris & $\\dots$ \\\\\n",
       "\t2 & 2 & 1 & 1 & Cumings, Mrs. John Bradley (Florence Briggs Thayer) & $\\dots$ \\\\\n",
       "\t3 & 3 & 1 & 3 & Heikkinen, Miss. Laina & $\\dots$ \\\\\n",
       "\t4 & 4 & 1 & 1 & Futrelle, Mrs. Jacques Heath (Lily May Peel) & $\\dots$ \\\\\n",
       "\t5 & 5 & 0 & 3 & Allen, Mr. William Henry & $\\dots$ \\\\\n",
       "\t6 & 6 & 0 & 3 & Moran, Mr. James & $\\dots$ \\\\\n",
       "\t7 & 7 & 0 & 1 & McCarthy, Mr. Timothy J & $\\dots$ \\\\\n",
       "\t8 & 8 & 0 & 3 & Palsson, Master. Gosta Leonard & $\\dots$ \\\\\n",
       "\t9 & 9 & 1 & 3 & Johnson, Mrs. Oscar W (Elisabeth Vilhelmina Berg) & $\\dots$ \\\\\n",
       "\t10 & 10 & 1 & 2 & Nasser, Mrs. Nicholas (Adele Achem) & $\\dots$ \\\\\n",
       "\t11 & 11 & 1 & 3 & Sandstrom, Miss. Marguerite Rut & $\\dots$ \\\\\n",
       "\t12 & 12 & 1 & 1 & Bonnell, Miss. Elizabeth & $\\dots$ \\\\\n",
       "\t13 & 13 & 0 & 3 & Saundercock, Mr. William Henry & $\\dots$ \\\\\n",
       "\t14 & 14 & 0 & 3 & Andersson, Mr. Anders Johan & $\\dots$ \\\\\n",
       "\t15 & 15 & 0 & 3 & Vestrom, Miss. Hulda Amanda Adolfina & $\\dots$ \\\\\n",
       "\t16 & 16 & 1 & 2 & Hewlett, Mrs. (Mary D Kingcome)  & $\\dots$ \\\\\n",
       "\t17 & 17 & 0 & 3 & Rice, Master. Eugene & $\\dots$ \\\\\n",
       "\t18 & 18 & 1 & 2 & Williams, Mr. Charles Eugene & $\\dots$ \\\\\n",
       "\t19 & 19 & 0 & 3 & Vander Planke, Mrs. Julius (Emelia Maria Vandemoortele) & $\\dots$ \\\\\n",
       "\t20 & 20 & 1 & 3 & Masselmani, Mrs. Fatima & $\\dots$ \\\\\n",
       "\t21 & 21 & 0 & 2 & Fynney, Mr. Joseph J & $\\dots$ \\\\\n",
       "\t22 & 22 & 1 & 2 & Beesley, Mr. Lawrence & $\\dots$ \\\\\n",
       "\t23 & 23 & 1 & 3 & McGowan, Miss. Anna \"Annie\" & $\\dots$ \\\\\n",
       "\t24 & 24 & 1 & 1 & Sloper, Mr. William Thompson & $\\dots$ \\\\\n",
       "\t25 & 25 & 0 & 3 & Palsson, Miss. Torborg Danira & $\\dots$ \\\\\n",
       "\t26 & 26 & 1 & 3 & Asplund, Mrs. Carl Oscar (Selma Augusta Emilia Johansson) & $\\dots$ \\\\\n",
       "\t27 & 27 & 0 & 3 & Emir, Mr. Farred Chehab & $\\dots$ \\\\\n",
       "\t28 & 28 & 0 & 1 & Fortune, Mr. Charles Alexander & $\\dots$ \\\\\n",
       "\t29 & 29 & 1 & 3 & O'Dwyer, Miss. Ellen \"Nellie\" & $\\dots$ \\\\\n",
       "\t30 & 30 & 0 & 3 & Todoroff, Mr. Lalio & $\\dots$ \\\\\n",
       "\t$\\dots$ & $\\dots$ & $\\dots$ & $\\dots$ & $\\dots$ &  \\\\\n",
       "\\end{tabular}\n"
      ],
      "text/plain": [
       "891×12 DataFrame. Omitted printing of 9 columns\n",
       "│ Row │ PassengerId │ Survived │ Pclass │\n",
       "│     │ \u001b[90mInt64\u001b[39m       │ \u001b[90mInt64\u001b[39m    │ \u001b[90mInt64\u001b[39m  │\n",
       "├─────┼─────────────┼──────────┼────────┤\n",
       "│ 1   │ 1           │ 0        │ 3      │\n",
       "│ 2   │ 2           │ 1        │ 1      │\n",
       "│ 3   │ 3           │ 1        │ 3      │\n",
       "│ 4   │ 4           │ 1        │ 1      │\n",
       "│ 5   │ 5           │ 0        │ 3      │\n",
       "│ 6   │ 6           │ 0        │ 3      │\n",
       "│ 7   │ 7           │ 0        │ 1      │\n",
       "│ 8   │ 8           │ 0        │ 3      │\n",
       "│ 9   │ 9           │ 1        │ 3      │\n",
       "│ 10  │ 10          │ 1        │ 2      │\n",
       "⋮\n",
       "│ 881 │ 881         │ 1        │ 2      │\n",
       "│ 882 │ 882         │ 0        │ 3      │\n",
       "│ 883 │ 883         │ 0        │ 3      │\n",
       "│ 884 │ 884         │ 0        │ 2      │\n",
       "│ 885 │ 885         │ 0        │ 3      │\n",
       "│ 886 │ 886         │ 0        │ 3      │\n",
       "│ 887 │ 887         │ 0        │ 2      │\n",
       "│ 888 │ 888         │ 1        │ 1      │\n",
       "│ 889 │ 889         │ 0        │ 3      │\n",
       "│ 890 │ 890         │ 1        │ 1      │\n",
       "│ 891 │ 891         │ 0        │ 3      │"
      ]
     },
     "execution_count": 14,
     "metadata": {},
     "output_type": "execute_result"
    }
   ],
   "source": [
    "train = DataFrame(train)"
   ]
  },
  {
   "cell_type": "code",
   "execution_count": 15,
   "metadata": {},
   "outputs": [
    {
     "data": {
      "text/html": [
       "<table class=\"data-frame\"><thead><tr><th></th><th>PassengerId</th><th>Pclass</th><th>Name</th><th>Sex</th></tr><tr><th></th><th>Int64</th><th>Int64</th><th>String</th><th>String</th></tr></thead><tbody><p>418 rows × 11 columns (omitted printing of 7 columns)</p><tr><th>1</th><td>892</td><td>3</td><td>Kelly, Mr. James</td><td>male</td></tr><tr><th>2</th><td>893</td><td>3</td><td>Wilkes, Mrs. James (Ellen Needs)</td><td>female</td></tr><tr><th>3</th><td>894</td><td>2</td><td>Myles, Mr. Thomas Francis</td><td>male</td></tr><tr><th>4</th><td>895</td><td>3</td><td>Wirz, Mr. Albert</td><td>male</td></tr><tr><th>5</th><td>896</td><td>3</td><td>Hirvonen, Mrs. Alexander (Helga E Lindqvist)</td><td>female</td></tr><tr><th>6</th><td>897</td><td>3</td><td>Svensson, Mr. Johan Cervin</td><td>male</td></tr><tr><th>7</th><td>898</td><td>3</td><td>Connolly, Miss. Kate</td><td>female</td></tr><tr><th>8</th><td>899</td><td>2</td><td>Caldwell, Mr. Albert Francis</td><td>male</td></tr><tr><th>9</th><td>900</td><td>3</td><td>Abrahim, Mrs. Joseph (Sophie Halaut Easu)</td><td>female</td></tr><tr><th>10</th><td>901</td><td>3</td><td>Davies, Mr. John Samuel</td><td>male</td></tr><tr><th>11</th><td>902</td><td>3</td><td>Ilieff, Mr. Ylio</td><td>male</td></tr><tr><th>12</th><td>903</td><td>1</td><td>Jones, Mr. Charles Cresson</td><td>male</td></tr><tr><th>13</th><td>904</td><td>1</td><td>Snyder, Mrs. John Pillsbury (Nelle Stevenson)</td><td>female</td></tr><tr><th>14</th><td>905</td><td>2</td><td>Howard, Mr. Benjamin</td><td>male</td></tr><tr><th>15</th><td>906</td><td>1</td><td>Chaffee, Mrs. Herbert Fuller (Carrie Constance Toogood)</td><td>female</td></tr><tr><th>16</th><td>907</td><td>2</td><td>del Carlo, Mrs. Sebastiano (Argenia Genovesi)</td><td>female</td></tr><tr><th>17</th><td>908</td><td>2</td><td>Keane, Mr. Daniel</td><td>male</td></tr><tr><th>18</th><td>909</td><td>3</td><td>Assaf, Mr. Gerios</td><td>male</td></tr><tr><th>19</th><td>910</td><td>3</td><td>Ilmakangas, Miss. Ida Livija</td><td>female</td></tr><tr><th>20</th><td>911</td><td>3</td><td>Assaf Khalil, Mrs. Mariana (Miriam\")\"</td><td>female</td></tr><tr><th>21</th><td>912</td><td>1</td><td>Rothschild, Mr. Martin</td><td>male</td></tr><tr><th>22</th><td>913</td><td>3</td><td>Olsen, Master. Artur Karl</td><td>male</td></tr><tr><th>23</th><td>914</td><td>1</td><td>Flegenheim, Mrs. Alfred (Antoinette)</td><td>female</td></tr><tr><th>24</th><td>915</td><td>1</td><td>Williams, Mr. Richard Norris II</td><td>male</td></tr><tr><th>25</th><td>916</td><td>1</td><td>Ryerson, Mrs. Arthur Larned (Emily Maria Borie)</td><td>female</td></tr><tr><th>26</th><td>917</td><td>3</td><td>Robins, Mr. Alexander A</td><td>male</td></tr><tr><th>27</th><td>918</td><td>1</td><td>Ostby, Miss. Helene Ragnhild</td><td>female</td></tr><tr><th>28</th><td>919</td><td>3</td><td>Daher, Mr. Shedid</td><td>male</td></tr><tr><th>29</th><td>920</td><td>1</td><td>Brady, Mr. John Bertram</td><td>male</td></tr><tr><th>30</th><td>921</td><td>3</td><td>Samaan, Mr. Elias</td><td>male</td></tr><tr><th>&vellip;</th><td>&vellip;</td><td>&vellip;</td><td>&vellip;</td><td>&vellip;</td></tr></tbody></table>"
      ],
      "text/latex": [
       "\\begin{tabular}{r|ccccc}\n",
       "\t& PassengerId & Pclass & Name & Sex & \\\\\n",
       "\t\\hline\n",
       "\t& Int64 & Int64 & String & String & \\\\\n",
       "\t\\hline\n",
       "\t1 & 892 & 3 & Kelly, Mr. James & male & $\\dots$ \\\\\n",
       "\t2 & 893 & 3 & Wilkes, Mrs. James (Ellen Needs) & female & $\\dots$ \\\\\n",
       "\t3 & 894 & 2 & Myles, Mr. Thomas Francis & male & $\\dots$ \\\\\n",
       "\t4 & 895 & 3 & Wirz, Mr. Albert & male & $\\dots$ \\\\\n",
       "\t5 & 896 & 3 & Hirvonen, Mrs. Alexander (Helga E Lindqvist) & female & $\\dots$ \\\\\n",
       "\t6 & 897 & 3 & Svensson, Mr. Johan Cervin & male & $\\dots$ \\\\\n",
       "\t7 & 898 & 3 & Connolly, Miss. Kate & female & $\\dots$ \\\\\n",
       "\t8 & 899 & 2 & Caldwell, Mr. Albert Francis & male & $\\dots$ \\\\\n",
       "\t9 & 900 & 3 & Abrahim, Mrs. Joseph (Sophie Halaut Easu) & female & $\\dots$ \\\\\n",
       "\t10 & 901 & 3 & Davies, Mr. John Samuel & male & $\\dots$ \\\\\n",
       "\t11 & 902 & 3 & Ilieff, Mr. Ylio & male & $\\dots$ \\\\\n",
       "\t12 & 903 & 1 & Jones, Mr. Charles Cresson & male & $\\dots$ \\\\\n",
       "\t13 & 904 & 1 & Snyder, Mrs. John Pillsbury (Nelle Stevenson) & female & $\\dots$ \\\\\n",
       "\t14 & 905 & 2 & Howard, Mr. Benjamin & male & $\\dots$ \\\\\n",
       "\t15 & 906 & 1 & Chaffee, Mrs. Herbert Fuller (Carrie Constance Toogood) & female & $\\dots$ \\\\\n",
       "\t16 & 907 & 2 & del Carlo, Mrs. Sebastiano (Argenia Genovesi) & female & $\\dots$ \\\\\n",
       "\t17 & 908 & 2 & Keane, Mr. Daniel & male & $\\dots$ \\\\\n",
       "\t18 & 909 & 3 & Assaf, Mr. Gerios & male & $\\dots$ \\\\\n",
       "\t19 & 910 & 3 & Ilmakangas, Miss. Ida Livija & female & $\\dots$ \\\\\n",
       "\t20 & 911 & 3 & Assaf Khalil, Mrs. Mariana (Miriam\")\" & female & $\\dots$ \\\\\n",
       "\t21 & 912 & 1 & Rothschild, Mr. Martin & male & $\\dots$ \\\\\n",
       "\t22 & 913 & 3 & Olsen, Master. Artur Karl & male & $\\dots$ \\\\\n",
       "\t23 & 914 & 1 & Flegenheim, Mrs. Alfred (Antoinette) & female & $\\dots$ \\\\\n",
       "\t24 & 915 & 1 & Williams, Mr. Richard Norris II & male & $\\dots$ \\\\\n",
       "\t25 & 916 & 1 & Ryerson, Mrs. Arthur Larned (Emily Maria Borie) & female & $\\dots$ \\\\\n",
       "\t26 & 917 & 3 & Robins, Mr. Alexander A & male & $\\dots$ \\\\\n",
       "\t27 & 918 & 1 & Ostby, Miss. Helene Ragnhild & female & $\\dots$ \\\\\n",
       "\t28 & 919 & 3 & Daher, Mr. Shedid & male & $\\dots$ \\\\\n",
       "\t29 & 920 & 1 & Brady, Mr. John Bertram & male & $\\dots$ \\\\\n",
       "\t30 & 921 & 3 & Samaan, Mr. Elias & male & $\\dots$ \\\\\n",
       "\t$\\dots$ & $\\dots$ & $\\dots$ & $\\dots$ & $\\dots$ &  \\\\\n",
       "\\end{tabular}\n"
      ],
      "text/plain": [
       "418×11 DataFrame. Omitted printing of 8 columns\n",
       "│ Row │ PassengerId │ Pclass │ Name                                            │\n",
       "│     │ \u001b[90mInt64\u001b[39m       │ \u001b[90mInt64\u001b[39m  │ \u001b[90mString\u001b[39m                                          │\n",
       "├─────┼─────────────┼────────┼─────────────────────────────────────────────────┤\n",
       "│ 1   │ 892         │ 3      │ Kelly, Mr. James                                │\n",
       "│ 2   │ 893         │ 3      │ Wilkes, Mrs. James (Ellen Needs)                │\n",
       "│ 3   │ 894         │ 2      │ Myles, Mr. Thomas Francis                       │\n",
       "│ 4   │ 895         │ 3      │ Wirz, Mr. Albert                                │\n",
       "│ 5   │ 896         │ 3      │ Hirvonen, Mrs. Alexander (Helga E Lindqvist)    │\n",
       "│ 6   │ 897         │ 3      │ Svensson, Mr. Johan Cervin                      │\n",
       "│ 7   │ 898         │ 3      │ Connolly, Miss. Kate                            │\n",
       "│ 8   │ 899         │ 2      │ Caldwell, Mr. Albert Francis                    │\n",
       "│ 9   │ 900         │ 3      │ Abrahim, Mrs. Joseph (Sophie Halaut Easu)       │\n",
       "│ 10  │ 901         │ 3      │ Davies, Mr. John Samuel                         │\n",
       "⋮\n",
       "│ 408 │ 1299        │ 1      │ Widener, Mr. George Dunton                      │\n",
       "│ 409 │ 1300        │ 3      │ Riordan, Miss. Johanna Hannah\"\"                 │\n",
       "│ 410 │ 1301        │ 3      │ Peacock, Miss. Treasteall                       │\n",
       "│ 411 │ 1302        │ 3      │ Naughton, Miss. Hannah                          │\n",
       "│ 412 │ 1303        │ 1      │ Minahan, Mrs. William Edward (Lillian E Thorpe) │\n",
       "│ 413 │ 1304        │ 3      │ Henriksson, Miss. Jenny Lovisa                  │\n",
       "│ 414 │ 1305        │ 3      │ Spector, Mr. Woolf                              │\n",
       "│ 415 │ 1306        │ 1      │ Oliva y Ocana, Dona. Fermina                    │\n",
       "│ 416 │ 1307        │ 3      │ Saether, Mr. Simon Sivertsen                    │\n",
       "│ 417 │ 1308        │ 3      │ Ware, Mr. Frederick                             │\n",
       "│ 418 │ 1309        │ 3      │ Peter, Master. Michael J                        │"
      ]
     },
     "execution_count": 15,
     "metadata": {},
     "output_type": "execute_result"
    }
   ],
   "source": [
    "test = DataFrame(test)"
   ]
  },
  {
   "cell_type": "code",
   "execution_count": 16,
   "metadata": {},
   "outputs": [
    {
     "name": "stdout",
     "output_type": "stream",
     "text": [
      "11×8 DataFrame\n",
      "│ Row │ variable    │ mean     │ min                           │ median  │\n",
      "│     │ \u001b[90mSymbol\u001b[39m      │ \u001b[90mUnion…\u001b[39m   │ \u001b[90mAny\u001b[39m                           │ \u001b[90mUnion…\u001b[39m  │\n",
      "├─────┼─────────────┼──────────┼───────────────────────────────┼─────────┤\n",
      "│ 1   │ PassengerId │ 1100.5   │ 892                           │ 1100.5  │\n",
      "│ 2   │ Pclass      │ 2.26555  │ 1                             │ 3.0     │\n",
      "│ 3   │ Name        │          │ Abbott, Master. Eugene Joseph │         │\n",
      "│ 4   │ Sex         │          │ female                        │         │\n",
      "│ 5   │ Age         │ 30.2726  │ 0.17                          │ 27.0    │\n",
      "│ 6   │ SibSp       │ 0.447368 │ 0                             │ 0.0     │\n",
      "│ 7   │ Parch       │ 0.392344 │ 0                             │ 0.0     │\n",
      "│ 8   │ Ticket      │          │ 110469                        │         │\n",
      "│ 9   │ Fare        │ 35.6272  │ 0.0                           │ 14.4542 │\n",
      "│ 10  │ Cabin       │          │ A11                           │         │\n",
      "│ 11  │ Embarked    │          │ C                             │         │\n",
      "\n",
      "│ Row │ max                               │ nunique │ nmissing │\n",
      "│     │ \u001b[90mAny\u001b[39m                               │ \u001b[90mUnion…\u001b[39m  │ \u001b[90mUnion…\u001b[39m   │\n",
      "├─────┼───────────────────────────────────┼─────────┼──────────┤\n",
      "│ 1   │ 1309                              │         │          │\n",
      "│ 2   │ 3                                 │         │          │\n",
      "│ 3   │ van Billiard, Master. Walter John │ 418     │          │\n",
      "│ 4   │ male                              │ 2       │          │\n",
      "│ 5   │ 76.0                              │         │ 86       │\n",
      "│ 6   │ 8                                 │         │          │\n",
      "│ 7   │ 9                                 │         │          │\n",
      "│ 8   │ W.E.P. 5734                       │ 363     │          │\n",
      "│ 9   │ 512.329                           │         │ 1        │\n",
      "│ 10  │ G6                                │ 76      │ 327      │\n",
      "│ 11  │ S                                 │ 3       │          │\n",
      "\n",
      "│ Row │ eltype                  │\n",
      "│     │ \u001b[90mType\u001b[39m                    │\n",
      "├─────┼─────────────────────────┤\n",
      "│ 1   │ Int64                   │\n",
      "│ 2   │ Int64                   │\n",
      "│ 3   │ String                  │\n",
      "│ 4   │ String                  │\n",
      "│ 5   │ Union{Missing, Float64} │\n",
      "│ 6   │ Int64                   │\n",
      "│ 7   │ Int64                   │\n",
      "│ 8   │ String                  │\n",
      "│ 9   │ Union{Missing, Float64} │\n",
      "│ 10  │ Union{Missing, String}  │\n",
      "│ 11  │ String                  │"
     ]
    }
   ],
   "source": [
    "showall(describe(test))"
   ]
  },
  {
   "cell_type": "code",
   "execution_count": 17,
   "metadata": {
    "scrolled": true
   },
   "outputs": [
    {
     "data": {
      "text/html": [
       "<table class=\"data-frame\"><thead><tr><th></th><th>PassengerId</th><th>Survived</th><th>Pclass</th><th>Name</th></tr><tr><th></th><th>Int64</th><th>Int64</th><th>Int64</th><th>String</th></tr></thead><tbody><p>891 rows × 11 columns (omitted printing of 7 columns)</p><tr><th>1</th><td>1</td><td>0</td><td>3</td><td>Braund, Mr. Owen Harris</td></tr><tr><th>2</th><td>2</td><td>1</td><td>1</td><td>Cumings, Mrs. John Bradley (Florence Briggs Thayer)</td></tr><tr><th>3</th><td>3</td><td>1</td><td>3</td><td>Heikkinen, Miss. Laina</td></tr><tr><th>4</th><td>4</td><td>1</td><td>1</td><td>Futrelle, Mrs. Jacques Heath (Lily May Peel)</td></tr><tr><th>5</th><td>5</td><td>0</td><td>3</td><td>Allen, Mr. William Henry</td></tr><tr><th>6</th><td>6</td><td>0</td><td>3</td><td>Moran, Mr. James</td></tr><tr><th>7</th><td>7</td><td>0</td><td>1</td><td>McCarthy, Mr. Timothy J</td></tr><tr><th>8</th><td>8</td><td>0</td><td>3</td><td>Palsson, Master. Gosta Leonard</td></tr><tr><th>9</th><td>9</td><td>1</td><td>3</td><td>Johnson, Mrs. Oscar W (Elisabeth Vilhelmina Berg)</td></tr><tr><th>10</th><td>10</td><td>1</td><td>2</td><td>Nasser, Mrs. Nicholas (Adele Achem)</td></tr><tr><th>11</th><td>11</td><td>1</td><td>3</td><td>Sandstrom, Miss. Marguerite Rut</td></tr><tr><th>12</th><td>12</td><td>1</td><td>1</td><td>Bonnell, Miss. Elizabeth</td></tr><tr><th>13</th><td>13</td><td>0</td><td>3</td><td>Saundercock, Mr. William Henry</td></tr><tr><th>14</th><td>14</td><td>0</td><td>3</td><td>Andersson, Mr. Anders Johan</td></tr><tr><th>15</th><td>15</td><td>0</td><td>3</td><td>Vestrom, Miss. Hulda Amanda Adolfina</td></tr><tr><th>16</th><td>16</td><td>1</td><td>2</td><td>Hewlett, Mrs. (Mary D Kingcome) </td></tr><tr><th>17</th><td>17</td><td>0</td><td>3</td><td>Rice, Master. Eugene</td></tr><tr><th>18</th><td>18</td><td>1</td><td>2</td><td>Williams, Mr. Charles Eugene</td></tr><tr><th>19</th><td>19</td><td>0</td><td>3</td><td>Vander Planke, Mrs. Julius (Emelia Maria Vandemoortele)</td></tr><tr><th>20</th><td>20</td><td>1</td><td>3</td><td>Masselmani, Mrs. Fatima</td></tr><tr><th>21</th><td>21</td><td>0</td><td>2</td><td>Fynney, Mr. Joseph J</td></tr><tr><th>22</th><td>22</td><td>1</td><td>2</td><td>Beesley, Mr. Lawrence</td></tr><tr><th>23</th><td>23</td><td>1</td><td>3</td><td>McGowan, Miss. Anna \"Annie\"</td></tr><tr><th>24</th><td>24</td><td>1</td><td>1</td><td>Sloper, Mr. William Thompson</td></tr><tr><th>25</th><td>25</td><td>0</td><td>3</td><td>Palsson, Miss. Torborg Danira</td></tr><tr><th>26</th><td>26</td><td>1</td><td>3</td><td>Asplund, Mrs. Carl Oscar (Selma Augusta Emilia Johansson)</td></tr><tr><th>27</th><td>27</td><td>0</td><td>3</td><td>Emir, Mr. Farred Chehab</td></tr><tr><th>28</th><td>28</td><td>0</td><td>1</td><td>Fortune, Mr. Charles Alexander</td></tr><tr><th>29</th><td>29</td><td>1</td><td>3</td><td>O'Dwyer, Miss. Ellen \"Nellie\"</td></tr><tr><th>30</th><td>30</td><td>0</td><td>3</td><td>Todoroff, Mr. Lalio</td></tr><tr><th>&vellip;</th><td>&vellip;</td><td>&vellip;</td><td>&vellip;</td><td>&vellip;</td></tr></tbody></table>"
      ],
      "text/latex": [
       "\\begin{tabular}{r|ccccc}\n",
       "\t& PassengerId & Survived & Pclass & Name & \\\\\n",
       "\t\\hline\n",
       "\t& Int64 & Int64 & Int64 & String & \\\\\n",
       "\t\\hline\n",
       "\t1 & 1 & 0 & 3 & Braund, Mr. Owen Harris & $\\dots$ \\\\\n",
       "\t2 & 2 & 1 & 1 & Cumings, Mrs. John Bradley (Florence Briggs Thayer) & $\\dots$ \\\\\n",
       "\t3 & 3 & 1 & 3 & Heikkinen, Miss. Laina & $\\dots$ \\\\\n",
       "\t4 & 4 & 1 & 1 & Futrelle, Mrs. Jacques Heath (Lily May Peel) & $\\dots$ \\\\\n",
       "\t5 & 5 & 0 & 3 & Allen, Mr. William Henry & $\\dots$ \\\\\n",
       "\t6 & 6 & 0 & 3 & Moran, Mr. James & $\\dots$ \\\\\n",
       "\t7 & 7 & 0 & 1 & McCarthy, Mr. Timothy J & $\\dots$ \\\\\n",
       "\t8 & 8 & 0 & 3 & Palsson, Master. Gosta Leonard & $\\dots$ \\\\\n",
       "\t9 & 9 & 1 & 3 & Johnson, Mrs. Oscar W (Elisabeth Vilhelmina Berg) & $\\dots$ \\\\\n",
       "\t10 & 10 & 1 & 2 & Nasser, Mrs. Nicholas (Adele Achem) & $\\dots$ \\\\\n",
       "\t11 & 11 & 1 & 3 & Sandstrom, Miss. Marguerite Rut & $\\dots$ \\\\\n",
       "\t12 & 12 & 1 & 1 & Bonnell, Miss. Elizabeth & $\\dots$ \\\\\n",
       "\t13 & 13 & 0 & 3 & Saundercock, Mr. William Henry & $\\dots$ \\\\\n",
       "\t14 & 14 & 0 & 3 & Andersson, Mr. Anders Johan & $\\dots$ \\\\\n",
       "\t15 & 15 & 0 & 3 & Vestrom, Miss. Hulda Amanda Adolfina & $\\dots$ \\\\\n",
       "\t16 & 16 & 1 & 2 & Hewlett, Mrs. (Mary D Kingcome)  & $\\dots$ \\\\\n",
       "\t17 & 17 & 0 & 3 & Rice, Master. Eugene & $\\dots$ \\\\\n",
       "\t18 & 18 & 1 & 2 & Williams, Mr. Charles Eugene & $\\dots$ \\\\\n",
       "\t19 & 19 & 0 & 3 & Vander Planke, Mrs. Julius (Emelia Maria Vandemoortele) & $\\dots$ \\\\\n",
       "\t20 & 20 & 1 & 3 & Masselmani, Mrs. Fatima & $\\dots$ \\\\\n",
       "\t21 & 21 & 0 & 2 & Fynney, Mr. Joseph J & $\\dots$ \\\\\n",
       "\t22 & 22 & 1 & 2 & Beesley, Mr. Lawrence & $\\dots$ \\\\\n",
       "\t23 & 23 & 1 & 3 & McGowan, Miss. Anna \"Annie\" & $\\dots$ \\\\\n",
       "\t24 & 24 & 1 & 1 & Sloper, Mr. William Thompson & $\\dots$ \\\\\n",
       "\t25 & 25 & 0 & 3 & Palsson, Miss. Torborg Danira & $\\dots$ \\\\\n",
       "\t26 & 26 & 1 & 3 & Asplund, Mrs. Carl Oscar (Selma Augusta Emilia Johansson) & $\\dots$ \\\\\n",
       "\t27 & 27 & 0 & 3 & Emir, Mr. Farred Chehab & $\\dots$ \\\\\n",
       "\t28 & 28 & 0 & 1 & Fortune, Mr. Charles Alexander & $\\dots$ \\\\\n",
       "\t29 & 29 & 1 & 3 & O'Dwyer, Miss. Ellen \"Nellie\" & $\\dots$ \\\\\n",
       "\t30 & 30 & 0 & 3 & Todoroff, Mr. Lalio & $\\dots$ \\\\\n",
       "\t$\\dots$ & $\\dots$ & $\\dots$ & $\\dots$ & $\\dots$ &  \\\\\n",
       "\\end{tabular}\n"
      ],
      "text/plain": [
       "891×11 DataFrame. Omitted printing of 8 columns\n",
       "│ Row │ PassengerId │ Survived │ Pclass │\n",
       "│     │ \u001b[90mInt64\u001b[39m       │ \u001b[90mInt64\u001b[39m    │ \u001b[90mInt64\u001b[39m  │\n",
       "├─────┼─────────────┼──────────┼────────┤\n",
       "│ 1   │ 1           │ 0        │ 3      │\n",
       "│ 2   │ 2           │ 1        │ 1      │\n",
       "│ 3   │ 3           │ 1        │ 3      │\n",
       "│ 4   │ 4           │ 1        │ 1      │\n",
       "│ 5   │ 5           │ 0        │ 3      │\n",
       "│ 6   │ 6           │ 0        │ 3      │\n",
       "│ 7   │ 7           │ 0        │ 1      │\n",
       "│ 8   │ 8           │ 0        │ 3      │\n",
       "│ 9   │ 9           │ 1        │ 3      │\n",
       "│ 10  │ 10          │ 1        │ 2      │\n",
       "⋮\n",
       "│ 881 │ 881         │ 1        │ 2      │\n",
       "│ 882 │ 882         │ 0        │ 3      │\n",
       "│ 883 │ 883         │ 0        │ 3      │\n",
       "│ 884 │ 884         │ 0        │ 2      │\n",
       "│ 885 │ 885         │ 0        │ 3      │\n",
       "│ 886 │ 886         │ 0        │ 3      │\n",
       "│ 887 │ 887         │ 0        │ 2      │\n",
       "│ 888 │ 888         │ 1        │ 1      │\n",
       "│ 889 │ 889         │ 0        │ 3      │\n",
       "│ 890 │ 890         │ 1        │ 1      │\n",
       "│ 891 │ 891         │ 0        │ 3      │"
      ]
     },
     "execution_count": 17,
     "metadata": {},
     "output_type": "execute_result"
    }
   ],
   "source": [
    "select!(train,Not(:Cabin))"
   ]
  },
  {
   "cell_type": "code",
   "execution_count": 18,
   "metadata": {
    "scrolled": true
   },
   "outputs": [
    {
     "data": {
      "text/html": [
       "<table class=\"data-frame\"><thead><tr><th></th><th>PassengerId</th><th>Pclass</th><th>Name</th><th>Sex</th></tr><tr><th></th><th>Int64</th><th>Int64</th><th>String</th><th>String</th></tr></thead><tbody><p>418 rows × 10 columns (omitted printing of 6 columns)</p><tr><th>1</th><td>892</td><td>3</td><td>Kelly, Mr. James</td><td>male</td></tr><tr><th>2</th><td>893</td><td>3</td><td>Wilkes, Mrs. James (Ellen Needs)</td><td>female</td></tr><tr><th>3</th><td>894</td><td>2</td><td>Myles, Mr. Thomas Francis</td><td>male</td></tr><tr><th>4</th><td>895</td><td>3</td><td>Wirz, Mr. Albert</td><td>male</td></tr><tr><th>5</th><td>896</td><td>3</td><td>Hirvonen, Mrs. Alexander (Helga E Lindqvist)</td><td>female</td></tr><tr><th>6</th><td>897</td><td>3</td><td>Svensson, Mr. Johan Cervin</td><td>male</td></tr><tr><th>7</th><td>898</td><td>3</td><td>Connolly, Miss. Kate</td><td>female</td></tr><tr><th>8</th><td>899</td><td>2</td><td>Caldwell, Mr. Albert Francis</td><td>male</td></tr><tr><th>9</th><td>900</td><td>3</td><td>Abrahim, Mrs. Joseph (Sophie Halaut Easu)</td><td>female</td></tr><tr><th>10</th><td>901</td><td>3</td><td>Davies, Mr. John Samuel</td><td>male</td></tr><tr><th>11</th><td>902</td><td>3</td><td>Ilieff, Mr. Ylio</td><td>male</td></tr><tr><th>12</th><td>903</td><td>1</td><td>Jones, Mr. Charles Cresson</td><td>male</td></tr><tr><th>13</th><td>904</td><td>1</td><td>Snyder, Mrs. John Pillsbury (Nelle Stevenson)</td><td>female</td></tr><tr><th>14</th><td>905</td><td>2</td><td>Howard, Mr. Benjamin</td><td>male</td></tr><tr><th>15</th><td>906</td><td>1</td><td>Chaffee, Mrs. Herbert Fuller (Carrie Constance Toogood)</td><td>female</td></tr><tr><th>16</th><td>907</td><td>2</td><td>del Carlo, Mrs. Sebastiano (Argenia Genovesi)</td><td>female</td></tr><tr><th>17</th><td>908</td><td>2</td><td>Keane, Mr. Daniel</td><td>male</td></tr><tr><th>18</th><td>909</td><td>3</td><td>Assaf, Mr. Gerios</td><td>male</td></tr><tr><th>19</th><td>910</td><td>3</td><td>Ilmakangas, Miss. Ida Livija</td><td>female</td></tr><tr><th>20</th><td>911</td><td>3</td><td>Assaf Khalil, Mrs. Mariana (Miriam\")\"</td><td>female</td></tr><tr><th>21</th><td>912</td><td>1</td><td>Rothschild, Mr. Martin</td><td>male</td></tr><tr><th>22</th><td>913</td><td>3</td><td>Olsen, Master. Artur Karl</td><td>male</td></tr><tr><th>23</th><td>914</td><td>1</td><td>Flegenheim, Mrs. Alfred (Antoinette)</td><td>female</td></tr><tr><th>24</th><td>915</td><td>1</td><td>Williams, Mr. Richard Norris II</td><td>male</td></tr><tr><th>25</th><td>916</td><td>1</td><td>Ryerson, Mrs. Arthur Larned (Emily Maria Borie)</td><td>female</td></tr><tr><th>26</th><td>917</td><td>3</td><td>Robins, Mr. Alexander A</td><td>male</td></tr><tr><th>27</th><td>918</td><td>1</td><td>Ostby, Miss. Helene Ragnhild</td><td>female</td></tr><tr><th>28</th><td>919</td><td>3</td><td>Daher, Mr. Shedid</td><td>male</td></tr><tr><th>29</th><td>920</td><td>1</td><td>Brady, Mr. John Bertram</td><td>male</td></tr><tr><th>30</th><td>921</td><td>3</td><td>Samaan, Mr. Elias</td><td>male</td></tr><tr><th>&vellip;</th><td>&vellip;</td><td>&vellip;</td><td>&vellip;</td><td>&vellip;</td></tr></tbody></table>"
      ],
      "text/latex": [
       "\\begin{tabular}{r|ccccc}\n",
       "\t& PassengerId & Pclass & Name & Sex & \\\\\n",
       "\t\\hline\n",
       "\t& Int64 & Int64 & String & String & \\\\\n",
       "\t\\hline\n",
       "\t1 & 892 & 3 & Kelly, Mr. James & male & $\\dots$ \\\\\n",
       "\t2 & 893 & 3 & Wilkes, Mrs. James (Ellen Needs) & female & $\\dots$ \\\\\n",
       "\t3 & 894 & 2 & Myles, Mr. Thomas Francis & male & $\\dots$ \\\\\n",
       "\t4 & 895 & 3 & Wirz, Mr. Albert & male & $\\dots$ \\\\\n",
       "\t5 & 896 & 3 & Hirvonen, Mrs. Alexander (Helga E Lindqvist) & female & $\\dots$ \\\\\n",
       "\t6 & 897 & 3 & Svensson, Mr. Johan Cervin & male & $\\dots$ \\\\\n",
       "\t7 & 898 & 3 & Connolly, Miss. Kate & female & $\\dots$ \\\\\n",
       "\t8 & 899 & 2 & Caldwell, Mr. Albert Francis & male & $\\dots$ \\\\\n",
       "\t9 & 900 & 3 & Abrahim, Mrs. Joseph (Sophie Halaut Easu) & female & $\\dots$ \\\\\n",
       "\t10 & 901 & 3 & Davies, Mr. John Samuel & male & $\\dots$ \\\\\n",
       "\t11 & 902 & 3 & Ilieff, Mr. Ylio & male & $\\dots$ \\\\\n",
       "\t12 & 903 & 1 & Jones, Mr. Charles Cresson & male & $\\dots$ \\\\\n",
       "\t13 & 904 & 1 & Snyder, Mrs. John Pillsbury (Nelle Stevenson) & female & $\\dots$ \\\\\n",
       "\t14 & 905 & 2 & Howard, Mr. Benjamin & male & $\\dots$ \\\\\n",
       "\t15 & 906 & 1 & Chaffee, Mrs. Herbert Fuller (Carrie Constance Toogood) & female & $\\dots$ \\\\\n",
       "\t16 & 907 & 2 & del Carlo, Mrs. Sebastiano (Argenia Genovesi) & female & $\\dots$ \\\\\n",
       "\t17 & 908 & 2 & Keane, Mr. Daniel & male & $\\dots$ \\\\\n",
       "\t18 & 909 & 3 & Assaf, Mr. Gerios & male & $\\dots$ \\\\\n",
       "\t19 & 910 & 3 & Ilmakangas, Miss. Ida Livija & female & $\\dots$ \\\\\n",
       "\t20 & 911 & 3 & Assaf Khalil, Mrs. Mariana (Miriam\")\" & female & $\\dots$ \\\\\n",
       "\t21 & 912 & 1 & Rothschild, Mr. Martin & male & $\\dots$ \\\\\n",
       "\t22 & 913 & 3 & Olsen, Master. Artur Karl & male & $\\dots$ \\\\\n",
       "\t23 & 914 & 1 & Flegenheim, Mrs. Alfred (Antoinette) & female & $\\dots$ \\\\\n",
       "\t24 & 915 & 1 & Williams, Mr. Richard Norris II & male & $\\dots$ \\\\\n",
       "\t25 & 916 & 1 & Ryerson, Mrs. Arthur Larned (Emily Maria Borie) & female & $\\dots$ \\\\\n",
       "\t26 & 917 & 3 & Robins, Mr. Alexander A & male & $\\dots$ \\\\\n",
       "\t27 & 918 & 1 & Ostby, Miss. Helene Ragnhild & female & $\\dots$ \\\\\n",
       "\t28 & 919 & 3 & Daher, Mr. Shedid & male & $\\dots$ \\\\\n",
       "\t29 & 920 & 1 & Brady, Mr. John Bertram & male & $\\dots$ \\\\\n",
       "\t30 & 921 & 3 & Samaan, Mr. Elias & male & $\\dots$ \\\\\n",
       "\t$\\dots$ & $\\dots$ & $\\dots$ & $\\dots$ & $\\dots$ &  \\\\\n",
       "\\end{tabular}\n"
      ],
      "text/plain": [
       "418×10 DataFrame. Omitted printing of 7 columns\n",
       "│ Row │ PassengerId │ Pclass │ Name                                            │\n",
       "│     │ \u001b[90mInt64\u001b[39m       │ \u001b[90mInt64\u001b[39m  │ \u001b[90mString\u001b[39m                                          │\n",
       "├─────┼─────────────┼────────┼─────────────────────────────────────────────────┤\n",
       "│ 1   │ 892         │ 3      │ Kelly, Mr. James                                │\n",
       "│ 2   │ 893         │ 3      │ Wilkes, Mrs. James (Ellen Needs)                │\n",
       "│ 3   │ 894         │ 2      │ Myles, Mr. Thomas Francis                       │\n",
       "│ 4   │ 895         │ 3      │ Wirz, Mr. Albert                                │\n",
       "│ 5   │ 896         │ 3      │ Hirvonen, Mrs. Alexander (Helga E Lindqvist)    │\n",
       "│ 6   │ 897         │ 3      │ Svensson, Mr. Johan Cervin                      │\n",
       "│ 7   │ 898         │ 3      │ Connolly, Miss. Kate                            │\n",
       "│ 8   │ 899         │ 2      │ Caldwell, Mr. Albert Francis                    │\n",
       "│ 9   │ 900         │ 3      │ Abrahim, Mrs. Joseph (Sophie Halaut Easu)       │\n",
       "│ 10  │ 901         │ 3      │ Davies, Mr. John Samuel                         │\n",
       "⋮\n",
       "│ 408 │ 1299        │ 1      │ Widener, Mr. George Dunton                      │\n",
       "│ 409 │ 1300        │ 3      │ Riordan, Miss. Johanna Hannah\"\"                 │\n",
       "│ 410 │ 1301        │ 3      │ Peacock, Miss. Treasteall                       │\n",
       "│ 411 │ 1302        │ 3      │ Naughton, Miss. Hannah                          │\n",
       "│ 412 │ 1303        │ 1      │ Minahan, Mrs. William Edward (Lillian E Thorpe) │\n",
       "│ 413 │ 1304        │ 3      │ Henriksson, Miss. Jenny Lovisa                  │\n",
       "│ 414 │ 1305        │ 3      │ Spector, Mr. Woolf                              │\n",
       "│ 415 │ 1306        │ 1      │ Oliva y Ocana, Dona. Fermina                    │\n",
       "│ 416 │ 1307        │ 3      │ Saether, Mr. Simon Sivertsen                    │\n",
       "│ 417 │ 1308        │ 3      │ Ware, Mr. Frederick                             │\n",
       "│ 418 │ 1309        │ 3      │ Peter, Master. Michael J                        │"
      ]
     },
     "execution_count": 18,
     "metadata": {},
     "output_type": "execute_result"
    }
   ],
   "source": [
    "select!(test,Not(:Cabin))"
   ]
  },
  {
   "cell_type": "code",
   "execution_count": null,
   "metadata": {},
   "outputs": [],
   "source": []
  },
  {
   "cell_type": "code",
   "execution_count": 19,
   "metadata": {
    "scrolled": true
   },
   "outputs": [
    {
     "name": "stderr",
     "output_type": "stream",
     "text": [
      "┌ Warning: `getindex(df::DataFrame, col_ind::ColumnIndex)` is deprecated, use `df[!, col_ind]` instead.\n",
      "│   caller = top-level scope at In[19]:1\n",
      "└ @ Core In[19]:1\n"
     ]
    },
    {
     "data": {
      "text/plain": [
       "29.69911764705882"
      ]
     },
     "execution_count": 19,
     "metadata": {},
     "output_type": "execute_result"
    }
   ],
   "source": [
    "mean(skipmissing(train[\"Age\"]))"
   ]
  },
  {
   "cell_type": "code",
   "execution_count": 20,
   "metadata": {},
   "outputs": [
    {
     "name": "stderr",
     "output_type": "stream",
     "text": [
      "┌ Warning: `getindex(df::DataFrame, col_ind::ColumnIndex)` is deprecated, use `df[!, col_ind]` instead.\n",
      "│   caller = top-level scope at In[20]:1\n",
      "└ @ Core In[20]:1\n",
      "┌ Warning: `getindex(df::DataFrame, col_ind::ColumnIndex)` is deprecated, use `df[!, col_ind]` instead.\n",
      "│   caller = top-level scope at In[20]:1\n",
      "└ @ Core In[20]:1\n",
      "┌ Warning: `setindex!(df::DataFrame, v::AbstractVector, col_ind::ColumnIndex)` is deprecated, use `begin\n",
      "│     df[!, col_ind] = v\n",
      "│     df\n",
      "│ end` instead.\n",
      "│   caller = top-level scope at In[20]:1\n",
      "└ @ Core In[20]:1\n"
     ]
    },
    {
     "data": {
      "text/plain": [
       "891-element Array{Float64,1}:\n",
       " 22.0\n",
       " 38.0\n",
       " 26.0\n",
       " 35.0\n",
       " 35.0\n",
       " 30.0\n",
       " 54.0\n",
       "  2.0\n",
       " 27.0\n",
       " 14.0\n",
       "  4.0\n",
       " 58.0\n",
       " 20.0\n",
       "  ⋮\n",
       " 56.0\n",
       " 25.0\n",
       " 33.0\n",
       " 22.0\n",
       " 28.0\n",
       " 25.0\n",
       " 39.0\n",
       " 27.0\n",
       " 19.0\n",
       " 30.0\n",
       " 26.0\n",
       " 32.0"
      ]
     },
     "execution_count": 20,
     "metadata": {},
     "output_type": "execute_result"
    }
   ],
   "source": [
    "train[\"Age\"]=coalesce.(train[\"Age\"],ceil(mean(skipmissing(train[\"Age\"]))))"
   ]
  },
  {
   "cell_type": "code",
   "execution_count": 21,
   "metadata": {},
   "outputs": [
    {
     "name": "stderr",
     "output_type": "stream",
     "text": [
      "┌ Warning: `getindex(df::DataFrame, col_ind::ColumnIndex)` is deprecated, use `df[!, col_ind]` instead.\n",
      "│   caller = top-level scope at In[21]:1\n",
      "└ @ Core In[21]:1\n"
     ]
    },
    {
     "data": {
      "text/plain": [
       "418-element Array{Float64,1}:\n",
       " 34.5\n",
       " 47.0\n",
       " 62.0\n",
       " 27.0\n",
       " 22.0\n",
       " 14.0\n",
       " 30.0\n",
       " 26.0\n",
       " 18.0\n",
       " 21.0\n",
       " 31.0\n",
       " 46.0\n",
       " 23.0\n",
       "  ⋮\n",
       " 23.0\n",
       " 50.0\n",
       " 31.0\n",
       "  3.0\n",
       " 31.0\n",
       " 37.0\n",
       " 28.0\n",
       " 31.0\n",
       " 39.0\n",
       " 38.5\n",
       " 31.0\n",
       " 31.0"
      ]
     },
     "execution_count": 21,
     "metadata": {},
     "output_type": "execute_result"
    }
   ],
   "source": [
    "#coalesce.(test[\"Age\"],ceil(mean(skipmissing(test[\"Age\"]))))\n",
    "\n",
    "test.Age = replace(test.Age,missing =>ceil(mean(skipmissing(test[\"Age\"]))) )"
   ]
  },
  {
   "cell_type": "code",
   "execution_count": 22,
   "metadata": {},
   "outputs": [
    {
     "name": "stderr",
     "output_type": "stream",
     "text": [
      "┌ Warning: `getindex(df::DataFrame, col_ind::ColumnIndex)` is deprecated, use `df[!, col_ind]` instead.\n",
      "│   caller = top-level scope at In[22]:1\n",
      "└ @ Core In[22]:1\n"
     ]
    },
    {
     "data": {
      "text/plain": [
       "891-element Array{String,1}:\n",
       " \"S\"\n",
       " \"C\"\n",
       " \"S\"\n",
       " \"S\"\n",
       " \"S\"\n",
       " \"Q\"\n",
       " \"S\"\n",
       " \"S\"\n",
       " \"S\"\n",
       " \"C\"\n",
       " \"S\"\n",
       " \"S\"\n",
       " \"S\"\n",
       " ⋮\n",
       " \"C\"\n",
       " \"S\"\n",
       " \"S\"\n",
       " \"S\"\n",
       " \"S\"\n",
       " \"S\"\n",
       " \"Q\"\n",
       " \"S\"\n",
       " \"S\"\n",
       " \"S\"\n",
       " \"C\"\n",
       " \"Q\""
      ]
     },
     "execution_count": 22,
     "metadata": {},
     "output_type": "execute_result"
    }
   ],
   "source": [
    "train.Embarked = coalesce.(train[\"Embarked\"],\"S\")"
   ]
  },
  {
   "cell_type": "code",
   "execution_count": null,
   "metadata": {},
   "outputs": [],
   "source": []
  },
  {
   "cell_type": "code",
   "execution_count": 23,
   "metadata": {},
   "outputs": [
    {
     "name": "stderr",
     "output_type": "stream",
     "text": [
      "┌ Warning: `getindex(df::DataFrame, col_ind::ColumnIndex)` is deprecated, use `df[!, col_ind]` instead.\n",
      "│   caller = top-level scope at In[23]:1\n",
      "└ @ Core In[23]:1\n"
     ]
    },
    {
     "data": {
      "text/plain": [
       "418-element Array{Real,1}:\n",
       "   7.8292\n",
       "   7.0\n",
       "   9.6875\n",
       "   8.6625\n",
       "  12.2875\n",
       "   9.225\n",
       "   7.6292\n",
       "  29.0\n",
       "   7.2292\n",
       "  24.15\n",
       "   7.8958\n",
       "  26.0\n",
       "  82.2667\n",
       "   ⋮\n",
       "  10.5\n",
       " 211.5\n",
       "   7.7208\n",
       "  13.775\n",
       "   7.75\n",
       "  90.0\n",
       "   7.775\n",
       "   8.05\n",
       " 108.9\n",
       "   7.25\n",
       "   8.05\n",
       "  22.3583"
      ]
     },
     "execution_count": 23,
     "metadata": {},
     "output_type": "execute_result"
    }
   ],
   "source": [
    "test.Fare = coalesce.(test[\"Fare\"],35)"
   ]
  },
  {
   "cell_type": "code",
   "execution_count": 24,
   "metadata": {},
   "outputs": [
    {
     "name": "stderr",
     "output_type": "stream",
     "text": [
      "┌ Warning: `getindex(df::DataFrame, col_ind::ColumnIndex)` is deprecated, use `df[!, col_ind]` instead.\n",
      "│   caller = top-level scope at In[24]:1\n",
      "└ @ Core In[24]:1\n"
     ]
    },
    {
     "data": {
      "text/plain": [
       "418-element Array{String,1}:\n",
       " \"Q\"\n",
       " \"S\"\n",
       " \"Q\"\n",
       " \"S\"\n",
       " \"S\"\n",
       " \"S\"\n",
       " \"Q\"\n",
       " \"S\"\n",
       " \"C\"\n",
       " \"S\"\n",
       " \"S\"\n",
       " \"S\"\n",
       " \"S\"\n",
       " ⋮\n",
       " \"S\"\n",
       " \"C\"\n",
       " \"Q\"\n",
       " \"S\"\n",
       " \"Q\"\n",
       " \"Q\"\n",
       " \"S\"\n",
       " \"S\"\n",
       " \"C\"\n",
       " \"S\"\n",
       " \"S\"\n",
       " \"C\""
      ]
     },
     "execution_count": 24,
     "metadata": {},
     "output_type": "execute_result"
    }
   ],
   "source": [
    "test.Embarked = coalesce.(test[\"Embarked\"],\"S\")"
   ]
  },
  {
   "cell_type": "code",
   "execution_count": 25,
   "metadata": {},
   "outputs": [
    {
     "name": "stdout",
     "output_type": "stream",
     "text": [
      "11×8 DataFrame\n",
      "│ Row │ variable    │ mean     │ min                 │ median  │\n",
      "│     │ \u001b[90mSymbol\u001b[39m      │ \u001b[90mUnion…\u001b[39m   │ \u001b[90mAny\u001b[39m                 │ \u001b[90mUnion…\u001b[39m  │\n",
      "├─────┼─────────────┼──────────┼─────────────────────┼─────────┤\n",
      "│ 1   │ PassengerId │ 446.0    │ 1                   │ 446.0   │\n",
      "│ 2   │ Survived    │ 0.383838 │ 0                   │ 0.0     │\n",
      "│ 3   │ Pclass      │ 2.30864  │ 1                   │ 3.0     │\n",
      "│ 4   │ Name        │          │ Abbing, Mr. Anthony │         │\n",
      "│ 5   │ Sex         │          │ female              │         │\n",
      "│ 6   │ Age         │ 29.7589  │ 0.42                │ 30.0    │\n",
      "│ 7   │ SibSp       │ 0.523008 │ 0                   │ 0.0     │\n",
      "│ 8   │ Parch       │ 0.381594 │ 0                   │ 0.0     │\n",
      "│ 9   │ Ticket      │          │ 110152              │         │\n",
      "│ 10  │ Fare        │ 32.2042  │ 0.0                 │ 14.4542 │\n",
      "│ 11  │ Embarked    │          │ C                   │         │\n",
      "\n",
      "│ Row │ max                         │ nunique │ nmissing │ eltype   │\n",
      "│     │ \u001b[90mAny\u001b[39m                         │ \u001b[90mUnion…\u001b[39m  │ \u001b[90mNothing\u001b[39m  │ \u001b[90mDataType\u001b[39m │\n",
      "├─────┼─────────────────────────────┼─────────┼──────────┼──────────┤\n",
      "│ 1   │ 891                         │         │          │ Int64    │\n",
      "│ 2   │ 1                           │         │          │ Int64    │\n",
      "│ 3   │ 3                           │         │          │ Int64    │\n",
      "│ 4   │ van Melkebeke, Mr. Philemon │ 891     │          │ String   │\n",
      "│ 5   │ male                        │ 2       │          │ String   │\n",
      "│ 6   │ 80.0                        │         │          │ Float64  │\n",
      "│ 7   │ 8                           │         │          │ Int64    │\n",
      "│ 8   │ 6                           │         │          │ Int64    │\n",
      "│ 9   │ WE/P 5735                   │ 681     │          │ String   │\n",
      "│ 10  │ 512.329                     │         │          │ Float64  │\n",
      "│ 11  │ S                           │ 3       │          │ String   │"
     ]
    }
   ],
   "source": [
    "showall(describe(train))"
   ]
  },
  {
   "cell_type": "code",
   "execution_count": 26,
   "metadata": {},
   "outputs": [
    {
     "name": "stdout",
     "output_type": "stream",
     "text": [
      "10×8 DataFrame\n",
      "│ Row │ variable    │ mean     │ min                           │ median  │\n",
      "│     │ \u001b[90mSymbol\u001b[39m      │ \u001b[90mUnion…\u001b[39m   │ \u001b[90mAny\u001b[39m                           │ \u001b[90mUnion…\u001b[39m  │\n",
      "├─────┼─────────────┼──────────┼───────────────────────────────┼─────────┤\n",
      "│ 1   │ PassengerId │ 1100.5   │ 892                           │ 1100.5  │\n",
      "│ 2   │ Pclass      │ 2.26555  │ 1                             │ 3.0     │\n",
      "│ 3   │ Name        │          │ Abbott, Master. Eugene Joseph │         │\n",
      "│ 4   │ Sex         │          │ female                        │         │\n",
      "│ 5   │ Age         │ 30.4222  │ 0.17                          │ 31.0    │\n",
      "│ 6   │ SibSp       │ 0.447368 │ 0                             │ 0.0     │\n",
      "│ 7   │ Parch       │ 0.392344 │ 0                             │ 0.0     │\n",
      "│ 8   │ Ticket      │          │ 110469                        │         │\n",
      "│ 9   │ Fare        │ 35.6257  │ 0.0                           │ 14.4542 │\n",
      "│ 10  │ Embarked    │          │ C                             │         │\n",
      "\n",
      "│ Row │ max                               │ nunique │ nmissing │ eltype   │\n",
      "│     │ \u001b[90mAny\u001b[39m                               │ \u001b[90mUnion…\u001b[39m  │ \u001b[90mNothing\u001b[39m  │ \u001b[90mDataType\u001b[39m │\n",
      "├─────┼───────────────────────────────────┼─────────┼──────────┼──────────┤\n",
      "│ 1   │ 1309                              │         │          │ Int64    │\n",
      "│ 2   │ 3                                 │         │          │ Int64    │\n",
      "│ 3   │ van Billiard, Master. Walter John │ 418     │          │ String   │\n",
      "│ 4   │ male                              │ 2       │          │ String   │\n",
      "│ 5   │ 76.0                              │         │          │ Float64  │\n",
      "│ 6   │ 8                                 │         │          │ Int64    │\n",
      "│ 7   │ 9                                 │         │          │ Int64    │\n",
      "│ 8   │ W.E.P. 5734                       │ 363     │          │ String   │\n",
      "│ 9   │ 512.329                           │         │          │ Real     │\n",
      "│ 10  │ S                                 │ 3       │          │ String   │"
     ]
    }
   ],
   "source": [
    "showall(describe(test))"
   ]
  },
  {
   "cell_type": "code",
   "execution_count": 27,
   "metadata": {},
   "outputs": [
    {
     "data": {
      "text/plain": [
       "11-element Array{String,1}:\n",
       " \"PassengerId\"\n",
       " \"Survived\"\n",
       " \"Pclass\"\n",
       " \"Name\"\n",
       " \"Sex\"\n",
       " \"Age\"\n",
       " \"SibSp\"\n",
       " \"Parch\"\n",
       " \"Ticket\"\n",
       " \"Fare\"\n",
       " \"Embarked\""
      ]
     },
     "execution_count": 27,
     "metadata": {},
     "output_type": "execute_result"
    }
   ],
   "source": [
    "names(train)"
   ]
  },
  {
   "cell_type": "code",
   "execution_count": 28,
   "metadata": {},
   "outputs": [
    {
     "data": {
      "text/plain": [
       "10-element Array{String,1}:\n",
       " \"PassengerId\"\n",
       " \"Pclass\"\n",
       " \"Name\"\n",
       " \"Sex\"\n",
       " \"Age\"\n",
       " \"SibSp\"\n",
       " \"Parch\"\n",
       " \"Ticket\"\n",
       " \"Fare\"\n",
       " \"Embarked\""
      ]
     },
     "execution_count": 28,
     "metadata": {},
     "output_type": "execute_result"
    }
   ],
   "source": [
    "names(test)"
   ]
  },
  {
   "cell_type": "code",
   "execution_count": 29,
   "metadata": {},
   "outputs": [
    {
     "name": "stderr",
     "output_type": "stream",
     "text": [
      "┌ Warning: `getindex(df::DataFrame, col_ind::ColumnIndex)` is deprecated, use `df[!, col_ind]` instead.\n",
      "│   caller = top-level scope at In[29]:1\n",
      "└ @ Core In[29]:1\n"
     ]
    },
    {
     "data": {
      "text/plain": [
       "LabelMap (with 2 labels):\n",
       "[1] male\n",
       "[2] female\n"
      ]
     },
     "execution_count": 29,
     "metadata": {},
     "output_type": "execute_result"
    }
   ],
   "source": [
    "maps =labelmap(train[\"Sex\"])"
   ]
  },
  {
   "cell_type": "code",
   "execution_count": 30,
   "metadata": {},
   "outputs": [
    {
     "name": "stderr",
     "output_type": "stream",
     "text": [
      "┌ Warning: `getindex(df::DataFrame, col_ind::ColumnIndex)` is deprecated, use `df[!, col_ind]` instead.\n",
      "│   caller = top-level scope at In[30]:1\n",
      "└ @ Core In[30]:1\n",
      "┌ Warning: `setindex!(df::DataFrame, v::AbstractVector, col_ind::ColumnIndex)` is deprecated, use `begin\n",
      "│     df[!, col_ind] = v\n",
      "│     df\n",
      "│ end` instead.\n",
      "│   caller = top-level scope at In[30]:1\n",
      "└ @ Core In[30]:1\n"
     ]
    },
    {
     "data": {
      "text/plain": [
       "891-element Array{Int64,1}:\n",
       " 1\n",
       " 2\n",
       " 2\n",
       " 2\n",
       " 1\n",
       " 1\n",
       " 1\n",
       " 1\n",
       " 2\n",
       " 2\n",
       " 2\n",
       " 2\n",
       " 1\n",
       " ⋮\n",
       " 2\n",
       " 2\n",
       " 1\n",
       " 2\n",
       " 1\n",
       " 1\n",
       " 2\n",
       " 1\n",
       " 2\n",
       " 2\n",
       " 1\n",
       " 1"
      ]
     },
     "execution_count": 30,
     "metadata": {},
     "output_type": "execute_result"
    }
   ],
   "source": [
    "train[\"Sex\"] =labelencode(maps,train[\"Sex\"])"
   ]
  },
  {
   "cell_type": "code",
   "execution_count": 31,
   "metadata": {},
   "outputs": [
    {
     "name": "stderr",
     "output_type": "stream",
     "text": [
      "┌ Warning: `getindex(df::DataFrame, col_ind::ColumnIndex)` is deprecated, use `df[!, col_ind]` instead.\n",
      "│   caller = top-level scope at In[31]:1\n",
      "└ @ Core In[31]:1\n"
     ]
    },
    {
     "data": {
      "text/plain": [
       "LabelMap (with 2 labels):\n",
       "[1] male\n",
       "[2] female\n"
      ]
     },
     "execution_count": 31,
     "metadata": {},
     "output_type": "execute_result"
    }
   ],
   "source": [
    "mapss =labelmap(test[\"Sex\"])"
   ]
  },
  {
   "cell_type": "code",
   "execution_count": 32,
   "metadata": {},
   "outputs": [
    {
     "name": "stderr",
     "output_type": "stream",
     "text": [
      "┌ Warning: `getindex(df::DataFrame, col_ind::ColumnIndex)` is deprecated, use `df[!, col_ind]` instead.\n",
      "│   caller = top-level scope at In[32]:1\n",
      "└ @ Core In[32]:1\n",
      "┌ Warning: `setindex!(df::DataFrame, v::AbstractVector, col_ind::ColumnIndex)` is deprecated, use `begin\n",
      "│     df[!, col_ind] = v\n",
      "│     df\n",
      "│ end` instead.\n",
      "│   caller = top-level scope at In[32]:1\n",
      "└ @ Core In[32]:1\n"
     ]
    },
    {
     "data": {
      "text/plain": [
       "418-element Array{Int64,1}:\n",
       " 1\n",
       " 2\n",
       " 1\n",
       " 1\n",
       " 2\n",
       " 1\n",
       " 2\n",
       " 1\n",
       " 2\n",
       " 1\n",
       " 1\n",
       " 1\n",
       " 2\n",
       " ⋮\n",
       " 1\n",
       " 1\n",
       " 2\n",
       " 2\n",
       " 2\n",
       " 2\n",
       " 2\n",
       " 1\n",
       " 2\n",
       " 1\n",
       " 1\n",
       " 1"
      ]
     },
     "execution_count": 32,
     "metadata": {},
     "output_type": "execute_result"
    }
   ],
   "source": [
    "test[\"Sex\"] =labelencode(mapss,test[\"Sex\"])"
   ]
  },
  {
   "cell_type": "code",
   "execution_count": 33,
   "metadata": {},
   "outputs": [
    {
     "name": "stderr",
     "output_type": "stream",
     "text": [
      "┌ Warning: `getindex(df::DataFrame, col_ind::ColumnIndex)` is deprecated, use `df[!, col_ind]` instead.\n",
      "│   caller = top-level scope at In[33]:1\n",
      "└ @ Core In[33]:1\n"
     ]
    },
    {
     "data": {
      "text/plain": [
       "LabelMap (with 3 labels):\n",
       "[1] S\n",
       "[2] C\n",
       "[3] Q\n"
      ]
     },
     "execution_count": 33,
     "metadata": {},
     "output_type": "execute_result"
    }
   ],
   "source": [
    "embarked_maps= labelmap(train[\"Embarked\"])"
   ]
  },
  {
   "cell_type": "code",
   "execution_count": 34,
   "metadata": {},
   "outputs": [
    {
     "name": "stderr",
     "output_type": "stream",
     "text": [
      "┌ Warning: `getindex(df::DataFrame, col_ind::ColumnIndex)` is deprecated, use `df[!, col_ind]` instead.\n",
      "│   caller = top-level scope at In[34]:1\n",
      "└ @ Core In[34]:1\n",
      "┌ Warning: `setindex!(df::DataFrame, v::AbstractVector, col_ind::ColumnIndex)` is deprecated, use `begin\n",
      "│     df[!, col_ind] = v\n",
      "│     df\n",
      "│ end` instead.\n",
      "│   caller = top-level scope at In[34]:1\n",
      "└ @ Core In[34]:1\n"
     ]
    },
    {
     "data": {
      "text/plain": [
       "891-element Array{Int64,1}:\n",
       " 1\n",
       " 2\n",
       " 1\n",
       " 1\n",
       " 1\n",
       " 3\n",
       " 1\n",
       " 1\n",
       " 1\n",
       " 2\n",
       " 1\n",
       " 1\n",
       " 1\n",
       " ⋮\n",
       " 2\n",
       " 1\n",
       " 1\n",
       " 1\n",
       " 1\n",
       " 1\n",
       " 3\n",
       " 1\n",
       " 1\n",
       " 1\n",
       " 2\n",
       " 3"
      ]
     },
     "execution_count": 34,
     "metadata": {},
     "output_type": "execute_result"
    }
   ],
   "source": [
    "train[\"Embarked\"] = labelencode(embarked_maps,train[\"Embarked\"])"
   ]
  },
  {
   "cell_type": "raw",
   "metadata": {},
   "source": []
  },
  {
   "cell_type": "code",
   "execution_count": 35,
   "metadata": {},
   "outputs": [
    {
     "name": "stderr",
     "output_type": "stream",
     "text": [
      "┌ Warning: `getindex(df::DataFrame, col_ind::ColumnIndex)` is deprecated, use `df[!, col_ind]` instead.\n",
      "│   caller = top-level scope at In[35]:1\n",
      "└ @ Core In[35]:1\n",
      "┌ Warning: `setindex!(df::DataFrame, v::AbstractVector, col_ind::ColumnIndex)` is deprecated, use `begin\n",
      "│     df[!, col_ind] = v\n",
      "│     df\n",
      "│ end` instead.\n",
      "│   caller = top-level scope at In[35]:1\n",
      "└ @ Core In[35]:1\n"
     ]
    },
    {
     "data": {
      "text/plain": [
       "418-element Array{Int64,1}:\n",
       " 3\n",
       " 1\n",
       " 3\n",
       " 1\n",
       " 1\n",
       " 1\n",
       " 3\n",
       " 1\n",
       " 2\n",
       " 1\n",
       " 1\n",
       " 1\n",
       " 1\n",
       " ⋮\n",
       " 1\n",
       " 2\n",
       " 3\n",
       " 1\n",
       " 3\n",
       " 3\n",
       " 1\n",
       " 1\n",
       " 2\n",
       " 1\n",
       " 1\n",
       " 2"
      ]
     },
     "execution_count": 35,
     "metadata": {},
     "output_type": "execute_result"
    }
   ],
   "source": [
    "test[\"Embarked\"] = labelencode(embarked_maps,test[\"Embarked\"])"
   ]
  },
  {
   "cell_type": "code",
   "execution_count": 36,
   "metadata": {},
   "outputs": [
    {
     "data": {
      "text/html": [
       "<table class=\"data-frame\"><thead><tr><th></th><th>PassengerId</th><th>Survived</th><th>Pclass</th><th>Name</th></tr><tr><th></th><th>Int64</th><th>Int64</th><th>Int64</th><th>String</th></tr></thead><tbody><p>891 rows × 10 columns (omitted printing of 6 columns)</p><tr><th>1</th><td>1</td><td>0</td><td>3</td><td>Braund, Mr. Owen Harris</td></tr><tr><th>2</th><td>2</td><td>1</td><td>1</td><td>Cumings, Mrs. John Bradley (Florence Briggs Thayer)</td></tr><tr><th>3</th><td>3</td><td>1</td><td>3</td><td>Heikkinen, Miss. Laina</td></tr><tr><th>4</th><td>4</td><td>1</td><td>1</td><td>Futrelle, Mrs. Jacques Heath (Lily May Peel)</td></tr><tr><th>5</th><td>5</td><td>0</td><td>3</td><td>Allen, Mr. William Henry</td></tr><tr><th>6</th><td>6</td><td>0</td><td>3</td><td>Moran, Mr. James</td></tr><tr><th>7</th><td>7</td><td>0</td><td>1</td><td>McCarthy, Mr. Timothy J</td></tr><tr><th>8</th><td>8</td><td>0</td><td>3</td><td>Palsson, Master. Gosta Leonard</td></tr><tr><th>9</th><td>9</td><td>1</td><td>3</td><td>Johnson, Mrs. Oscar W (Elisabeth Vilhelmina Berg)</td></tr><tr><th>10</th><td>10</td><td>1</td><td>2</td><td>Nasser, Mrs. Nicholas (Adele Achem)</td></tr><tr><th>11</th><td>11</td><td>1</td><td>3</td><td>Sandstrom, Miss. Marguerite Rut</td></tr><tr><th>12</th><td>12</td><td>1</td><td>1</td><td>Bonnell, Miss. Elizabeth</td></tr><tr><th>13</th><td>13</td><td>0</td><td>3</td><td>Saundercock, Mr. William Henry</td></tr><tr><th>14</th><td>14</td><td>0</td><td>3</td><td>Andersson, Mr. Anders Johan</td></tr><tr><th>15</th><td>15</td><td>0</td><td>3</td><td>Vestrom, Miss. Hulda Amanda Adolfina</td></tr><tr><th>16</th><td>16</td><td>1</td><td>2</td><td>Hewlett, Mrs. (Mary D Kingcome) </td></tr><tr><th>17</th><td>17</td><td>0</td><td>3</td><td>Rice, Master. Eugene</td></tr><tr><th>18</th><td>18</td><td>1</td><td>2</td><td>Williams, Mr. Charles Eugene</td></tr><tr><th>19</th><td>19</td><td>0</td><td>3</td><td>Vander Planke, Mrs. Julius (Emelia Maria Vandemoortele)</td></tr><tr><th>20</th><td>20</td><td>1</td><td>3</td><td>Masselmani, Mrs. Fatima</td></tr><tr><th>21</th><td>21</td><td>0</td><td>2</td><td>Fynney, Mr. Joseph J</td></tr><tr><th>22</th><td>22</td><td>1</td><td>2</td><td>Beesley, Mr. Lawrence</td></tr><tr><th>23</th><td>23</td><td>1</td><td>3</td><td>McGowan, Miss. Anna \"Annie\"</td></tr><tr><th>24</th><td>24</td><td>1</td><td>1</td><td>Sloper, Mr. William Thompson</td></tr><tr><th>25</th><td>25</td><td>0</td><td>3</td><td>Palsson, Miss. Torborg Danira</td></tr><tr><th>26</th><td>26</td><td>1</td><td>3</td><td>Asplund, Mrs. Carl Oscar (Selma Augusta Emilia Johansson)</td></tr><tr><th>27</th><td>27</td><td>0</td><td>3</td><td>Emir, Mr. Farred Chehab</td></tr><tr><th>28</th><td>28</td><td>0</td><td>1</td><td>Fortune, Mr. Charles Alexander</td></tr><tr><th>29</th><td>29</td><td>1</td><td>3</td><td>O'Dwyer, Miss. Ellen \"Nellie\"</td></tr><tr><th>30</th><td>30</td><td>0</td><td>3</td><td>Todoroff, Mr. Lalio</td></tr><tr><th>&vellip;</th><td>&vellip;</td><td>&vellip;</td><td>&vellip;</td><td>&vellip;</td></tr></tbody></table>"
      ],
      "text/latex": [
       "\\begin{tabular}{r|ccccc}\n",
       "\t& PassengerId & Survived & Pclass & Name & \\\\\n",
       "\t\\hline\n",
       "\t& Int64 & Int64 & Int64 & String & \\\\\n",
       "\t\\hline\n",
       "\t1 & 1 & 0 & 3 & Braund, Mr. Owen Harris & $\\dots$ \\\\\n",
       "\t2 & 2 & 1 & 1 & Cumings, Mrs. John Bradley (Florence Briggs Thayer) & $\\dots$ \\\\\n",
       "\t3 & 3 & 1 & 3 & Heikkinen, Miss. Laina & $\\dots$ \\\\\n",
       "\t4 & 4 & 1 & 1 & Futrelle, Mrs. Jacques Heath (Lily May Peel) & $\\dots$ \\\\\n",
       "\t5 & 5 & 0 & 3 & Allen, Mr. William Henry & $\\dots$ \\\\\n",
       "\t6 & 6 & 0 & 3 & Moran, Mr. James & $\\dots$ \\\\\n",
       "\t7 & 7 & 0 & 1 & McCarthy, Mr. Timothy J & $\\dots$ \\\\\n",
       "\t8 & 8 & 0 & 3 & Palsson, Master. Gosta Leonard & $\\dots$ \\\\\n",
       "\t9 & 9 & 1 & 3 & Johnson, Mrs. Oscar W (Elisabeth Vilhelmina Berg) & $\\dots$ \\\\\n",
       "\t10 & 10 & 1 & 2 & Nasser, Mrs. Nicholas (Adele Achem) & $\\dots$ \\\\\n",
       "\t11 & 11 & 1 & 3 & Sandstrom, Miss. Marguerite Rut & $\\dots$ \\\\\n",
       "\t12 & 12 & 1 & 1 & Bonnell, Miss. Elizabeth & $\\dots$ \\\\\n",
       "\t13 & 13 & 0 & 3 & Saundercock, Mr. William Henry & $\\dots$ \\\\\n",
       "\t14 & 14 & 0 & 3 & Andersson, Mr. Anders Johan & $\\dots$ \\\\\n",
       "\t15 & 15 & 0 & 3 & Vestrom, Miss. Hulda Amanda Adolfina & $\\dots$ \\\\\n",
       "\t16 & 16 & 1 & 2 & Hewlett, Mrs. (Mary D Kingcome)  & $\\dots$ \\\\\n",
       "\t17 & 17 & 0 & 3 & Rice, Master. Eugene & $\\dots$ \\\\\n",
       "\t18 & 18 & 1 & 2 & Williams, Mr. Charles Eugene & $\\dots$ \\\\\n",
       "\t19 & 19 & 0 & 3 & Vander Planke, Mrs. Julius (Emelia Maria Vandemoortele) & $\\dots$ \\\\\n",
       "\t20 & 20 & 1 & 3 & Masselmani, Mrs. Fatima & $\\dots$ \\\\\n",
       "\t21 & 21 & 0 & 2 & Fynney, Mr. Joseph J & $\\dots$ \\\\\n",
       "\t22 & 22 & 1 & 2 & Beesley, Mr. Lawrence & $\\dots$ \\\\\n",
       "\t23 & 23 & 1 & 3 & McGowan, Miss. Anna \"Annie\" & $\\dots$ \\\\\n",
       "\t24 & 24 & 1 & 1 & Sloper, Mr. William Thompson & $\\dots$ \\\\\n",
       "\t25 & 25 & 0 & 3 & Palsson, Miss. Torborg Danira & $\\dots$ \\\\\n",
       "\t26 & 26 & 1 & 3 & Asplund, Mrs. Carl Oscar (Selma Augusta Emilia Johansson) & $\\dots$ \\\\\n",
       "\t27 & 27 & 0 & 3 & Emir, Mr. Farred Chehab & $\\dots$ \\\\\n",
       "\t28 & 28 & 0 & 1 & Fortune, Mr. Charles Alexander & $\\dots$ \\\\\n",
       "\t29 & 29 & 1 & 3 & O'Dwyer, Miss. Ellen \"Nellie\" & $\\dots$ \\\\\n",
       "\t30 & 30 & 0 & 3 & Todoroff, Mr. Lalio & $\\dots$ \\\\\n",
       "\t$\\dots$ & $\\dots$ & $\\dots$ & $\\dots$ & $\\dots$ &  \\\\\n",
       "\\end{tabular}\n"
      ],
      "text/plain": [
       "891×10 DataFrame. Omitted printing of 7 columns\n",
       "│ Row │ PassengerId │ Survived │ Pclass │\n",
       "│     │ \u001b[90mInt64\u001b[39m       │ \u001b[90mInt64\u001b[39m    │ \u001b[90mInt64\u001b[39m  │\n",
       "├─────┼─────────────┼──────────┼────────┤\n",
       "│ 1   │ 1           │ 0        │ 3      │\n",
       "│ 2   │ 2           │ 1        │ 1      │\n",
       "│ 3   │ 3           │ 1        │ 3      │\n",
       "│ 4   │ 4           │ 1        │ 1      │\n",
       "│ 5   │ 5           │ 0        │ 3      │\n",
       "│ 6   │ 6           │ 0        │ 3      │\n",
       "│ 7   │ 7           │ 0        │ 1      │\n",
       "│ 8   │ 8           │ 0        │ 3      │\n",
       "│ 9   │ 9           │ 1        │ 3      │\n",
       "│ 10  │ 10          │ 1        │ 2      │\n",
       "⋮\n",
       "│ 881 │ 881         │ 1        │ 2      │\n",
       "│ 882 │ 882         │ 0        │ 3      │\n",
       "│ 883 │ 883         │ 0        │ 3      │\n",
       "│ 884 │ 884         │ 0        │ 2      │\n",
       "│ 885 │ 885         │ 0        │ 3      │\n",
       "│ 886 │ 886         │ 0        │ 3      │\n",
       "│ 887 │ 887         │ 0        │ 2      │\n",
       "│ 888 │ 888         │ 1        │ 1      │\n",
       "│ 889 │ 889         │ 0        │ 3      │\n",
       "│ 890 │ 890         │ 1        │ 1      │\n",
       "│ 891 │ 891         │ 0        │ 3      │"
      ]
     },
     "execution_count": 36,
     "metadata": {},
     "output_type": "execute_result"
    }
   ],
   "source": [
    "select!(train,Not(:Ticket))"
   ]
  },
  {
   "cell_type": "code",
   "execution_count": 37,
   "metadata": {},
   "outputs": [
    {
     "data": {
      "text/html": [
       "<table class=\"data-frame\"><thead><tr><th></th><th>PassengerId</th><th>Pclass</th><th>Name</th><th>Sex</th></tr><tr><th></th><th>Int64</th><th>Int64</th><th>String</th><th>Int64</th></tr></thead><tbody><p>418 rows × 9 columns (omitted printing of 5 columns)</p><tr><th>1</th><td>892</td><td>3</td><td>Kelly, Mr. James</td><td>1</td></tr><tr><th>2</th><td>893</td><td>3</td><td>Wilkes, Mrs. James (Ellen Needs)</td><td>2</td></tr><tr><th>3</th><td>894</td><td>2</td><td>Myles, Mr. Thomas Francis</td><td>1</td></tr><tr><th>4</th><td>895</td><td>3</td><td>Wirz, Mr. Albert</td><td>1</td></tr><tr><th>5</th><td>896</td><td>3</td><td>Hirvonen, Mrs. Alexander (Helga E Lindqvist)</td><td>2</td></tr><tr><th>6</th><td>897</td><td>3</td><td>Svensson, Mr. Johan Cervin</td><td>1</td></tr><tr><th>7</th><td>898</td><td>3</td><td>Connolly, Miss. Kate</td><td>2</td></tr><tr><th>8</th><td>899</td><td>2</td><td>Caldwell, Mr. Albert Francis</td><td>1</td></tr><tr><th>9</th><td>900</td><td>3</td><td>Abrahim, Mrs. Joseph (Sophie Halaut Easu)</td><td>2</td></tr><tr><th>10</th><td>901</td><td>3</td><td>Davies, Mr. John Samuel</td><td>1</td></tr><tr><th>11</th><td>902</td><td>3</td><td>Ilieff, Mr. Ylio</td><td>1</td></tr><tr><th>12</th><td>903</td><td>1</td><td>Jones, Mr. Charles Cresson</td><td>1</td></tr><tr><th>13</th><td>904</td><td>1</td><td>Snyder, Mrs. John Pillsbury (Nelle Stevenson)</td><td>2</td></tr><tr><th>14</th><td>905</td><td>2</td><td>Howard, Mr. Benjamin</td><td>1</td></tr><tr><th>15</th><td>906</td><td>1</td><td>Chaffee, Mrs. Herbert Fuller (Carrie Constance Toogood)</td><td>2</td></tr><tr><th>16</th><td>907</td><td>2</td><td>del Carlo, Mrs. Sebastiano (Argenia Genovesi)</td><td>2</td></tr><tr><th>17</th><td>908</td><td>2</td><td>Keane, Mr. Daniel</td><td>1</td></tr><tr><th>18</th><td>909</td><td>3</td><td>Assaf, Mr. Gerios</td><td>1</td></tr><tr><th>19</th><td>910</td><td>3</td><td>Ilmakangas, Miss. Ida Livija</td><td>2</td></tr><tr><th>20</th><td>911</td><td>3</td><td>Assaf Khalil, Mrs. Mariana (Miriam\")\"</td><td>2</td></tr><tr><th>21</th><td>912</td><td>1</td><td>Rothschild, Mr. Martin</td><td>1</td></tr><tr><th>22</th><td>913</td><td>3</td><td>Olsen, Master. Artur Karl</td><td>1</td></tr><tr><th>23</th><td>914</td><td>1</td><td>Flegenheim, Mrs. Alfred (Antoinette)</td><td>2</td></tr><tr><th>24</th><td>915</td><td>1</td><td>Williams, Mr. Richard Norris II</td><td>1</td></tr><tr><th>25</th><td>916</td><td>1</td><td>Ryerson, Mrs. Arthur Larned (Emily Maria Borie)</td><td>2</td></tr><tr><th>26</th><td>917</td><td>3</td><td>Robins, Mr. Alexander A</td><td>1</td></tr><tr><th>27</th><td>918</td><td>1</td><td>Ostby, Miss. Helene Ragnhild</td><td>2</td></tr><tr><th>28</th><td>919</td><td>3</td><td>Daher, Mr. Shedid</td><td>1</td></tr><tr><th>29</th><td>920</td><td>1</td><td>Brady, Mr. John Bertram</td><td>1</td></tr><tr><th>30</th><td>921</td><td>3</td><td>Samaan, Mr. Elias</td><td>1</td></tr><tr><th>&vellip;</th><td>&vellip;</td><td>&vellip;</td><td>&vellip;</td><td>&vellip;</td></tr></tbody></table>"
      ],
      "text/latex": [
       "\\begin{tabular}{r|ccccc}\n",
       "\t& PassengerId & Pclass & Name & Sex & \\\\\n",
       "\t\\hline\n",
       "\t& Int64 & Int64 & String & Int64 & \\\\\n",
       "\t\\hline\n",
       "\t1 & 892 & 3 & Kelly, Mr. James & 1 & $\\dots$ \\\\\n",
       "\t2 & 893 & 3 & Wilkes, Mrs. James (Ellen Needs) & 2 & $\\dots$ \\\\\n",
       "\t3 & 894 & 2 & Myles, Mr. Thomas Francis & 1 & $\\dots$ \\\\\n",
       "\t4 & 895 & 3 & Wirz, Mr. Albert & 1 & $\\dots$ \\\\\n",
       "\t5 & 896 & 3 & Hirvonen, Mrs. Alexander (Helga E Lindqvist) & 2 & $\\dots$ \\\\\n",
       "\t6 & 897 & 3 & Svensson, Mr. Johan Cervin & 1 & $\\dots$ \\\\\n",
       "\t7 & 898 & 3 & Connolly, Miss. Kate & 2 & $\\dots$ \\\\\n",
       "\t8 & 899 & 2 & Caldwell, Mr. Albert Francis & 1 & $\\dots$ \\\\\n",
       "\t9 & 900 & 3 & Abrahim, Mrs. Joseph (Sophie Halaut Easu) & 2 & $\\dots$ \\\\\n",
       "\t10 & 901 & 3 & Davies, Mr. John Samuel & 1 & $\\dots$ \\\\\n",
       "\t11 & 902 & 3 & Ilieff, Mr. Ylio & 1 & $\\dots$ \\\\\n",
       "\t12 & 903 & 1 & Jones, Mr. Charles Cresson & 1 & $\\dots$ \\\\\n",
       "\t13 & 904 & 1 & Snyder, Mrs. John Pillsbury (Nelle Stevenson) & 2 & $\\dots$ \\\\\n",
       "\t14 & 905 & 2 & Howard, Mr. Benjamin & 1 & $\\dots$ \\\\\n",
       "\t15 & 906 & 1 & Chaffee, Mrs. Herbert Fuller (Carrie Constance Toogood) & 2 & $\\dots$ \\\\\n",
       "\t16 & 907 & 2 & del Carlo, Mrs. Sebastiano (Argenia Genovesi) & 2 & $\\dots$ \\\\\n",
       "\t17 & 908 & 2 & Keane, Mr. Daniel & 1 & $\\dots$ \\\\\n",
       "\t18 & 909 & 3 & Assaf, Mr. Gerios & 1 & $\\dots$ \\\\\n",
       "\t19 & 910 & 3 & Ilmakangas, Miss. Ida Livija & 2 & $\\dots$ \\\\\n",
       "\t20 & 911 & 3 & Assaf Khalil, Mrs. Mariana (Miriam\")\" & 2 & $\\dots$ \\\\\n",
       "\t21 & 912 & 1 & Rothschild, Mr. Martin & 1 & $\\dots$ \\\\\n",
       "\t22 & 913 & 3 & Olsen, Master. Artur Karl & 1 & $\\dots$ \\\\\n",
       "\t23 & 914 & 1 & Flegenheim, Mrs. Alfred (Antoinette) & 2 & $\\dots$ \\\\\n",
       "\t24 & 915 & 1 & Williams, Mr. Richard Norris II & 1 & $\\dots$ \\\\\n",
       "\t25 & 916 & 1 & Ryerson, Mrs. Arthur Larned (Emily Maria Borie) & 2 & $\\dots$ \\\\\n",
       "\t26 & 917 & 3 & Robins, Mr. Alexander A & 1 & $\\dots$ \\\\\n",
       "\t27 & 918 & 1 & Ostby, Miss. Helene Ragnhild & 2 & $\\dots$ \\\\\n",
       "\t28 & 919 & 3 & Daher, Mr. Shedid & 1 & $\\dots$ \\\\\n",
       "\t29 & 920 & 1 & Brady, Mr. John Bertram & 1 & $\\dots$ \\\\\n",
       "\t30 & 921 & 3 & Samaan, Mr. Elias & 1 & $\\dots$ \\\\\n",
       "\t$\\dots$ & $\\dots$ & $\\dots$ & $\\dots$ & $\\dots$ &  \\\\\n",
       "\\end{tabular}\n"
      ],
      "text/plain": [
       "418×9 DataFrame. Omitted printing of 6 columns\n",
       "│ Row │ PassengerId │ Pclass │ Name                                            │\n",
       "│     │ \u001b[90mInt64\u001b[39m       │ \u001b[90mInt64\u001b[39m  │ \u001b[90mString\u001b[39m                                          │\n",
       "├─────┼─────────────┼────────┼─────────────────────────────────────────────────┤\n",
       "│ 1   │ 892         │ 3      │ Kelly, Mr. James                                │\n",
       "│ 2   │ 893         │ 3      │ Wilkes, Mrs. James (Ellen Needs)                │\n",
       "│ 3   │ 894         │ 2      │ Myles, Mr. Thomas Francis                       │\n",
       "│ 4   │ 895         │ 3      │ Wirz, Mr. Albert                                │\n",
       "│ 5   │ 896         │ 3      │ Hirvonen, Mrs. Alexander (Helga E Lindqvist)    │\n",
       "│ 6   │ 897         │ 3      │ Svensson, Mr. Johan Cervin                      │\n",
       "│ 7   │ 898         │ 3      │ Connolly, Miss. Kate                            │\n",
       "│ 8   │ 899         │ 2      │ Caldwell, Mr. Albert Francis                    │\n",
       "│ 9   │ 900         │ 3      │ Abrahim, Mrs. Joseph (Sophie Halaut Easu)       │\n",
       "│ 10  │ 901         │ 3      │ Davies, Mr. John Samuel                         │\n",
       "⋮\n",
       "│ 408 │ 1299        │ 1      │ Widener, Mr. George Dunton                      │\n",
       "│ 409 │ 1300        │ 3      │ Riordan, Miss. Johanna Hannah\"\"                 │\n",
       "│ 410 │ 1301        │ 3      │ Peacock, Miss. Treasteall                       │\n",
       "│ 411 │ 1302        │ 3      │ Naughton, Miss. Hannah                          │\n",
       "│ 412 │ 1303        │ 1      │ Minahan, Mrs. William Edward (Lillian E Thorpe) │\n",
       "│ 413 │ 1304        │ 3      │ Henriksson, Miss. Jenny Lovisa                  │\n",
       "│ 414 │ 1305        │ 3      │ Spector, Mr. Woolf                              │\n",
       "│ 415 │ 1306        │ 1      │ Oliva y Ocana, Dona. Fermina                    │\n",
       "│ 416 │ 1307        │ 3      │ Saether, Mr. Simon Sivertsen                    │\n",
       "│ 417 │ 1308        │ 3      │ Ware, Mr. Frederick                             │\n",
       "│ 418 │ 1309        │ 3      │ Peter, Master. Michael J                        │"
      ]
     },
     "execution_count": 37,
     "metadata": {},
     "output_type": "execute_result"
    }
   ],
   "source": [
    "select!(test,Not(:Ticket))"
   ]
  },
  {
   "cell_type": "code",
   "execution_count": 38,
   "metadata": {},
   "outputs": [
    {
     "name": "stderr",
     "output_type": "stream",
     "text": [
      "┌ Warning: `getindex(df::DataFrame, col_ind::ColumnIndex)` is deprecated, use `df[!, col_ind]` instead.\n",
      "│   caller = top-level scope at In[38]:1\n",
      "└ @ Core In[38]:1\n"
     ]
    },
    {
     "data": {
      "text/plain": [
       "891-element Array{Int64,1}:\n",
       " 0\n",
       " 1\n",
       " 1\n",
       " 1\n",
       " 0\n",
       " 0\n",
       " 0\n",
       " 0\n",
       " 1\n",
       " 1\n",
       " 1\n",
       " 1\n",
       " 0\n",
       " ⋮\n",
       " 1\n",
       " 1\n",
       " 0\n",
       " 0\n",
       " 0\n",
       " 0\n",
       " 0\n",
       " 0\n",
       " 1\n",
       " 0\n",
       " 1\n",
       " 0"
      ]
     },
     "execution_count": 38,
     "metadata": {},
     "output_type": "execute_result"
    }
   ],
   "source": [
    "y=train[\"Survived\"]"
   ]
  },
  {
   "cell_type": "code",
   "execution_count": 39,
   "metadata": {},
   "outputs": [
    {
     "data": {
      "text/html": [
       "<table class=\"data-frame\"><thead><tr><th></th><th>PassengerId</th><th>Pclass</th><th>Name</th></tr><tr><th></th><th>Int64</th><th>Int64</th><th>String</th></tr></thead><tbody><p>891 rows × 9 columns (omitted printing of 6 columns)</p><tr><th>1</th><td>1</td><td>3</td><td>Braund, Mr. Owen Harris</td></tr><tr><th>2</th><td>2</td><td>1</td><td>Cumings, Mrs. John Bradley (Florence Briggs Thayer)</td></tr><tr><th>3</th><td>3</td><td>3</td><td>Heikkinen, Miss. Laina</td></tr><tr><th>4</th><td>4</td><td>1</td><td>Futrelle, Mrs. Jacques Heath (Lily May Peel)</td></tr><tr><th>5</th><td>5</td><td>3</td><td>Allen, Mr. William Henry</td></tr><tr><th>6</th><td>6</td><td>3</td><td>Moran, Mr. James</td></tr><tr><th>7</th><td>7</td><td>1</td><td>McCarthy, Mr. Timothy J</td></tr><tr><th>8</th><td>8</td><td>3</td><td>Palsson, Master. Gosta Leonard</td></tr><tr><th>9</th><td>9</td><td>3</td><td>Johnson, Mrs. Oscar W (Elisabeth Vilhelmina Berg)</td></tr><tr><th>10</th><td>10</td><td>2</td><td>Nasser, Mrs. Nicholas (Adele Achem)</td></tr><tr><th>11</th><td>11</td><td>3</td><td>Sandstrom, Miss. Marguerite Rut</td></tr><tr><th>12</th><td>12</td><td>1</td><td>Bonnell, Miss. Elizabeth</td></tr><tr><th>13</th><td>13</td><td>3</td><td>Saundercock, Mr. William Henry</td></tr><tr><th>14</th><td>14</td><td>3</td><td>Andersson, Mr. Anders Johan</td></tr><tr><th>15</th><td>15</td><td>3</td><td>Vestrom, Miss. Hulda Amanda Adolfina</td></tr><tr><th>16</th><td>16</td><td>2</td><td>Hewlett, Mrs. (Mary D Kingcome) </td></tr><tr><th>17</th><td>17</td><td>3</td><td>Rice, Master. Eugene</td></tr><tr><th>18</th><td>18</td><td>2</td><td>Williams, Mr. Charles Eugene</td></tr><tr><th>19</th><td>19</td><td>3</td><td>Vander Planke, Mrs. Julius (Emelia Maria Vandemoortele)</td></tr><tr><th>20</th><td>20</td><td>3</td><td>Masselmani, Mrs. Fatima</td></tr><tr><th>21</th><td>21</td><td>2</td><td>Fynney, Mr. Joseph J</td></tr><tr><th>22</th><td>22</td><td>2</td><td>Beesley, Mr. Lawrence</td></tr><tr><th>23</th><td>23</td><td>3</td><td>McGowan, Miss. Anna \"Annie\"</td></tr><tr><th>24</th><td>24</td><td>1</td><td>Sloper, Mr. William Thompson</td></tr><tr><th>25</th><td>25</td><td>3</td><td>Palsson, Miss. Torborg Danira</td></tr><tr><th>26</th><td>26</td><td>3</td><td>Asplund, Mrs. Carl Oscar (Selma Augusta Emilia Johansson)</td></tr><tr><th>27</th><td>27</td><td>3</td><td>Emir, Mr. Farred Chehab</td></tr><tr><th>28</th><td>28</td><td>1</td><td>Fortune, Mr. Charles Alexander</td></tr><tr><th>29</th><td>29</td><td>3</td><td>O'Dwyer, Miss. Ellen \"Nellie\"</td></tr><tr><th>30</th><td>30</td><td>3</td><td>Todoroff, Mr. Lalio</td></tr><tr><th>&vellip;</th><td>&vellip;</td><td>&vellip;</td><td>&vellip;</td></tr></tbody></table>"
      ],
      "text/latex": [
       "\\begin{tabular}{r|cccc}\n",
       "\t& PassengerId & Pclass & Name & \\\\\n",
       "\t\\hline\n",
       "\t& Int64 & Int64 & String & \\\\\n",
       "\t\\hline\n",
       "\t1 & 1 & 3 & Braund, Mr. Owen Harris & $\\dots$ \\\\\n",
       "\t2 & 2 & 1 & Cumings, Mrs. John Bradley (Florence Briggs Thayer) & $\\dots$ \\\\\n",
       "\t3 & 3 & 3 & Heikkinen, Miss. Laina & $\\dots$ \\\\\n",
       "\t4 & 4 & 1 & Futrelle, Mrs. Jacques Heath (Lily May Peel) & $\\dots$ \\\\\n",
       "\t5 & 5 & 3 & Allen, Mr. William Henry & $\\dots$ \\\\\n",
       "\t6 & 6 & 3 & Moran, Mr. James & $\\dots$ \\\\\n",
       "\t7 & 7 & 1 & McCarthy, Mr. Timothy J & $\\dots$ \\\\\n",
       "\t8 & 8 & 3 & Palsson, Master. Gosta Leonard & $\\dots$ \\\\\n",
       "\t9 & 9 & 3 & Johnson, Mrs. Oscar W (Elisabeth Vilhelmina Berg) & $\\dots$ \\\\\n",
       "\t10 & 10 & 2 & Nasser, Mrs. Nicholas (Adele Achem) & $\\dots$ \\\\\n",
       "\t11 & 11 & 3 & Sandstrom, Miss. Marguerite Rut & $\\dots$ \\\\\n",
       "\t12 & 12 & 1 & Bonnell, Miss. Elizabeth & $\\dots$ \\\\\n",
       "\t13 & 13 & 3 & Saundercock, Mr. William Henry & $\\dots$ \\\\\n",
       "\t14 & 14 & 3 & Andersson, Mr. Anders Johan & $\\dots$ \\\\\n",
       "\t15 & 15 & 3 & Vestrom, Miss. Hulda Amanda Adolfina & $\\dots$ \\\\\n",
       "\t16 & 16 & 2 & Hewlett, Mrs. (Mary D Kingcome)  & $\\dots$ \\\\\n",
       "\t17 & 17 & 3 & Rice, Master. Eugene & $\\dots$ \\\\\n",
       "\t18 & 18 & 2 & Williams, Mr. Charles Eugene & $\\dots$ \\\\\n",
       "\t19 & 19 & 3 & Vander Planke, Mrs. Julius (Emelia Maria Vandemoortele) & $\\dots$ \\\\\n",
       "\t20 & 20 & 3 & Masselmani, Mrs. Fatima & $\\dots$ \\\\\n",
       "\t21 & 21 & 2 & Fynney, Mr. Joseph J & $\\dots$ \\\\\n",
       "\t22 & 22 & 2 & Beesley, Mr. Lawrence & $\\dots$ \\\\\n",
       "\t23 & 23 & 3 & McGowan, Miss. Anna \"Annie\" & $\\dots$ \\\\\n",
       "\t24 & 24 & 1 & Sloper, Mr. William Thompson & $\\dots$ \\\\\n",
       "\t25 & 25 & 3 & Palsson, Miss. Torborg Danira & $\\dots$ \\\\\n",
       "\t26 & 26 & 3 & Asplund, Mrs. Carl Oscar (Selma Augusta Emilia Johansson) & $\\dots$ \\\\\n",
       "\t27 & 27 & 3 & Emir, Mr. Farred Chehab & $\\dots$ \\\\\n",
       "\t28 & 28 & 1 & Fortune, Mr. Charles Alexander & $\\dots$ \\\\\n",
       "\t29 & 29 & 3 & O'Dwyer, Miss. Ellen \"Nellie\" & $\\dots$ \\\\\n",
       "\t30 & 30 & 3 & Todoroff, Mr. Lalio & $\\dots$ \\\\\n",
       "\t$\\dots$ & $\\dots$ & $\\dots$ & $\\dots$ &  \\\\\n",
       "\\end{tabular}\n"
      ],
      "text/plain": [
       "891×9 DataFrame. Omitted printing of 7 columns\n",
       "│ Row │ PassengerId │ Pclass │\n",
       "│     │ \u001b[90mInt64\u001b[39m       │ \u001b[90mInt64\u001b[39m  │\n",
       "├─────┼─────────────┼────────┤\n",
       "│ 1   │ 1           │ 3      │\n",
       "│ 2   │ 2           │ 1      │\n",
       "│ 3   │ 3           │ 3      │\n",
       "│ 4   │ 4           │ 1      │\n",
       "│ 5   │ 5           │ 3      │\n",
       "│ 6   │ 6           │ 3      │\n",
       "│ 7   │ 7           │ 1      │\n",
       "│ 8   │ 8           │ 3      │\n",
       "│ 9   │ 9           │ 3      │\n",
       "│ 10  │ 10          │ 2      │\n",
       "⋮\n",
       "│ 881 │ 881         │ 2      │\n",
       "│ 882 │ 882         │ 3      │\n",
       "│ 883 │ 883         │ 3      │\n",
       "│ 884 │ 884         │ 2      │\n",
       "│ 885 │ 885         │ 3      │\n",
       "│ 886 │ 886         │ 3      │\n",
       "│ 887 │ 887         │ 2      │\n",
       "│ 888 │ 888         │ 1      │\n",
       "│ 889 │ 889         │ 3      │\n",
       "│ 890 │ 890         │ 1      │\n",
       "│ 891 │ 891         │ 3      │"
      ]
     },
     "execution_count": 39,
     "metadata": {},
     "output_type": "execute_result"
    }
   ],
   "source": [
    "select!(train,Not(:Survived))"
   ]
  },
  {
   "cell_type": "code",
   "execution_count": 40,
   "metadata": {},
   "outputs": [
    {
     "name": "stderr",
     "output_type": "stream",
     "text": [
      "┌ Warning: `getindex(df::DataFrame, col_ind::ColumnIndex)` is deprecated, use `df[!, col_ind]` instead.\n",
      "│   caller = top-level scope at In[40]:1\n",
      "└ @ Core In[40]:1\n"
     ]
    },
    {
     "data": {
      "text/plain": [
       "418-element Array{Int64,1}:\n",
       "  892\n",
       "  893\n",
       "  894\n",
       "  895\n",
       "  896\n",
       "  897\n",
       "  898\n",
       "  899\n",
       "  900\n",
       "  901\n",
       "  902\n",
       "  903\n",
       "  904\n",
       "    ⋮\n",
       " 1298\n",
       " 1299\n",
       " 1300\n",
       " 1301\n",
       " 1302\n",
       " 1303\n",
       " 1304\n",
       " 1305\n",
       " 1306\n",
       " 1307\n",
       " 1308\n",
       " 1309"
      ]
     },
     "execution_count": 40,
     "metadata": {},
     "output_type": "execute_result"
    }
   ],
   "source": [
    "id = test[\"PassengerId\"]"
   ]
  },
  {
   "cell_type": "code",
   "execution_count": 41,
   "metadata": {},
   "outputs": [
    {
     "data": {
      "text/html": [
       "<table class=\"data-frame\"><thead><tr><th></th><th>Pclass</th><th>Name</th><th>Sex</th><th>Age</th></tr><tr><th></th><th>Int64</th><th>String</th><th>Int64</th><th>Float64</th></tr></thead><tbody><p>891 rows × 8 columns (omitted printing of 4 columns)</p><tr><th>1</th><td>3</td><td>Braund, Mr. Owen Harris</td><td>1</td><td>22.0</td></tr><tr><th>2</th><td>1</td><td>Cumings, Mrs. John Bradley (Florence Briggs Thayer)</td><td>2</td><td>38.0</td></tr><tr><th>3</th><td>3</td><td>Heikkinen, Miss. Laina</td><td>2</td><td>26.0</td></tr><tr><th>4</th><td>1</td><td>Futrelle, Mrs. Jacques Heath (Lily May Peel)</td><td>2</td><td>35.0</td></tr><tr><th>5</th><td>3</td><td>Allen, Mr. William Henry</td><td>1</td><td>35.0</td></tr><tr><th>6</th><td>3</td><td>Moran, Mr. James</td><td>1</td><td>30.0</td></tr><tr><th>7</th><td>1</td><td>McCarthy, Mr. Timothy J</td><td>1</td><td>54.0</td></tr><tr><th>8</th><td>3</td><td>Palsson, Master. Gosta Leonard</td><td>1</td><td>2.0</td></tr><tr><th>9</th><td>3</td><td>Johnson, Mrs. Oscar W (Elisabeth Vilhelmina Berg)</td><td>2</td><td>27.0</td></tr><tr><th>10</th><td>2</td><td>Nasser, Mrs. Nicholas (Adele Achem)</td><td>2</td><td>14.0</td></tr><tr><th>11</th><td>3</td><td>Sandstrom, Miss. Marguerite Rut</td><td>2</td><td>4.0</td></tr><tr><th>12</th><td>1</td><td>Bonnell, Miss. Elizabeth</td><td>2</td><td>58.0</td></tr><tr><th>13</th><td>3</td><td>Saundercock, Mr. William Henry</td><td>1</td><td>20.0</td></tr><tr><th>14</th><td>3</td><td>Andersson, Mr. Anders Johan</td><td>1</td><td>39.0</td></tr><tr><th>15</th><td>3</td><td>Vestrom, Miss. Hulda Amanda Adolfina</td><td>2</td><td>14.0</td></tr><tr><th>16</th><td>2</td><td>Hewlett, Mrs. (Mary D Kingcome) </td><td>2</td><td>55.0</td></tr><tr><th>17</th><td>3</td><td>Rice, Master. Eugene</td><td>1</td><td>2.0</td></tr><tr><th>18</th><td>2</td><td>Williams, Mr. Charles Eugene</td><td>1</td><td>30.0</td></tr><tr><th>19</th><td>3</td><td>Vander Planke, Mrs. Julius (Emelia Maria Vandemoortele)</td><td>2</td><td>31.0</td></tr><tr><th>20</th><td>3</td><td>Masselmani, Mrs. Fatima</td><td>2</td><td>30.0</td></tr><tr><th>21</th><td>2</td><td>Fynney, Mr. Joseph J</td><td>1</td><td>35.0</td></tr><tr><th>22</th><td>2</td><td>Beesley, Mr. Lawrence</td><td>1</td><td>34.0</td></tr><tr><th>23</th><td>3</td><td>McGowan, Miss. Anna \"Annie\"</td><td>2</td><td>15.0</td></tr><tr><th>24</th><td>1</td><td>Sloper, Mr. William Thompson</td><td>1</td><td>28.0</td></tr><tr><th>25</th><td>3</td><td>Palsson, Miss. Torborg Danira</td><td>2</td><td>8.0</td></tr><tr><th>26</th><td>3</td><td>Asplund, Mrs. Carl Oscar (Selma Augusta Emilia Johansson)</td><td>2</td><td>38.0</td></tr><tr><th>27</th><td>3</td><td>Emir, Mr. Farred Chehab</td><td>1</td><td>30.0</td></tr><tr><th>28</th><td>1</td><td>Fortune, Mr. Charles Alexander</td><td>1</td><td>19.0</td></tr><tr><th>29</th><td>3</td><td>O'Dwyer, Miss. Ellen \"Nellie\"</td><td>2</td><td>30.0</td></tr><tr><th>30</th><td>3</td><td>Todoroff, Mr. Lalio</td><td>1</td><td>30.0</td></tr><tr><th>&vellip;</th><td>&vellip;</td><td>&vellip;</td><td>&vellip;</td><td>&vellip;</td></tr></tbody></table>"
      ],
      "text/latex": [
       "\\begin{tabular}{r|ccccc}\n",
       "\t& Pclass & Name & Sex & Age & \\\\\n",
       "\t\\hline\n",
       "\t& Int64 & String & Int64 & Float64 & \\\\\n",
       "\t\\hline\n",
       "\t1 & 3 & Braund, Mr. Owen Harris & 1 & 22.0 & $\\dots$ \\\\\n",
       "\t2 & 1 & Cumings, Mrs. John Bradley (Florence Briggs Thayer) & 2 & 38.0 & $\\dots$ \\\\\n",
       "\t3 & 3 & Heikkinen, Miss. Laina & 2 & 26.0 & $\\dots$ \\\\\n",
       "\t4 & 1 & Futrelle, Mrs. Jacques Heath (Lily May Peel) & 2 & 35.0 & $\\dots$ \\\\\n",
       "\t5 & 3 & Allen, Mr. William Henry & 1 & 35.0 & $\\dots$ \\\\\n",
       "\t6 & 3 & Moran, Mr. James & 1 & 30.0 & $\\dots$ \\\\\n",
       "\t7 & 1 & McCarthy, Mr. Timothy J & 1 & 54.0 & $\\dots$ \\\\\n",
       "\t8 & 3 & Palsson, Master. Gosta Leonard & 1 & 2.0 & $\\dots$ \\\\\n",
       "\t9 & 3 & Johnson, Mrs. Oscar W (Elisabeth Vilhelmina Berg) & 2 & 27.0 & $\\dots$ \\\\\n",
       "\t10 & 2 & Nasser, Mrs. Nicholas (Adele Achem) & 2 & 14.0 & $\\dots$ \\\\\n",
       "\t11 & 3 & Sandstrom, Miss. Marguerite Rut & 2 & 4.0 & $\\dots$ \\\\\n",
       "\t12 & 1 & Bonnell, Miss. Elizabeth & 2 & 58.0 & $\\dots$ \\\\\n",
       "\t13 & 3 & Saundercock, Mr. William Henry & 1 & 20.0 & $\\dots$ \\\\\n",
       "\t14 & 3 & Andersson, Mr. Anders Johan & 1 & 39.0 & $\\dots$ \\\\\n",
       "\t15 & 3 & Vestrom, Miss. Hulda Amanda Adolfina & 2 & 14.0 & $\\dots$ \\\\\n",
       "\t16 & 2 & Hewlett, Mrs. (Mary D Kingcome)  & 2 & 55.0 & $\\dots$ \\\\\n",
       "\t17 & 3 & Rice, Master. Eugene & 1 & 2.0 & $\\dots$ \\\\\n",
       "\t18 & 2 & Williams, Mr. Charles Eugene & 1 & 30.0 & $\\dots$ \\\\\n",
       "\t19 & 3 & Vander Planke, Mrs. Julius (Emelia Maria Vandemoortele) & 2 & 31.0 & $\\dots$ \\\\\n",
       "\t20 & 3 & Masselmani, Mrs. Fatima & 2 & 30.0 & $\\dots$ \\\\\n",
       "\t21 & 2 & Fynney, Mr. Joseph J & 1 & 35.0 & $\\dots$ \\\\\n",
       "\t22 & 2 & Beesley, Mr. Lawrence & 1 & 34.0 & $\\dots$ \\\\\n",
       "\t23 & 3 & McGowan, Miss. Anna \"Annie\" & 2 & 15.0 & $\\dots$ \\\\\n",
       "\t24 & 1 & Sloper, Mr. William Thompson & 1 & 28.0 & $\\dots$ \\\\\n",
       "\t25 & 3 & Palsson, Miss. Torborg Danira & 2 & 8.0 & $\\dots$ \\\\\n",
       "\t26 & 3 & Asplund, Mrs. Carl Oscar (Selma Augusta Emilia Johansson) & 2 & 38.0 & $\\dots$ \\\\\n",
       "\t27 & 3 & Emir, Mr. Farred Chehab & 1 & 30.0 & $\\dots$ \\\\\n",
       "\t28 & 1 & Fortune, Mr. Charles Alexander & 1 & 19.0 & $\\dots$ \\\\\n",
       "\t29 & 3 & O'Dwyer, Miss. Ellen \"Nellie\" & 2 & 30.0 & $\\dots$ \\\\\n",
       "\t30 & 3 & Todoroff, Mr. Lalio & 1 & 30.0 & $\\dots$ \\\\\n",
       "\t$\\dots$ & $\\dots$ & $\\dots$ & $\\dots$ & $\\dots$ &  \\\\\n",
       "\\end{tabular}\n"
      ],
      "text/plain": [
       "891×8 DataFrame. Omitted printing of 5 columns\n",
       "│ Row │ Pclass │ Name                                                │ Sex   │\n",
       "│     │ \u001b[90mInt64\u001b[39m  │ \u001b[90mString\u001b[39m                                              │ \u001b[90mInt64\u001b[39m │\n",
       "├─────┼────────┼─────────────────────────────────────────────────────┼───────┤\n",
       "│ 1   │ 3      │ Braund, Mr. Owen Harris                             │ 1     │\n",
       "│ 2   │ 1      │ Cumings, Mrs. John Bradley (Florence Briggs Thayer) │ 2     │\n",
       "│ 3   │ 3      │ Heikkinen, Miss. Laina                              │ 2     │\n",
       "│ 4   │ 1      │ Futrelle, Mrs. Jacques Heath (Lily May Peel)        │ 2     │\n",
       "│ 5   │ 3      │ Allen, Mr. William Henry                            │ 1     │\n",
       "│ 6   │ 3      │ Moran, Mr. James                                    │ 1     │\n",
       "│ 7   │ 1      │ McCarthy, Mr. Timothy J                             │ 1     │\n",
       "│ 8   │ 3      │ Palsson, Master. Gosta Leonard                      │ 1     │\n",
       "│ 9   │ 3      │ Johnson, Mrs. Oscar W (Elisabeth Vilhelmina Berg)   │ 2     │\n",
       "│ 10  │ 2      │ Nasser, Mrs. Nicholas (Adele Achem)                 │ 2     │\n",
       "⋮\n",
       "│ 881 │ 2      │ Shelley, Mrs. William (Imanita Parrish Hall)        │ 2     │\n",
       "│ 882 │ 3      │ Markun, Mr. Johann                                  │ 1     │\n",
       "│ 883 │ 3      │ Dahlberg, Miss. Gerda Ulrika                        │ 2     │\n",
       "│ 884 │ 2      │ Banfield, Mr. Frederick James                       │ 1     │\n",
       "│ 885 │ 3      │ Sutehall, Mr. Henry Jr                              │ 1     │\n",
       "│ 886 │ 3      │ Rice, Mrs. William (Margaret Norton)                │ 2     │\n",
       "│ 887 │ 2      │ Montvila, Rev. Juozas                               │ 1     │\n",
       "│ 888 │ 1      │ Graham, Miss. Margaret Edith                        │ 2     │\n",
       "│ 889 │ 3      │ Johnston, Miss. Catherine Helen \"Carrie\"            │ 2     │\n",
       "│ 890 │ 1      │ Behr, Mr. Karl Howell                               │ 1     │\n",
       "│ 891 │ 3      │ Dooley, Mr. Patrick                                 │ 1     │"
      ]
     },
     "execution_count": 41,
     "metadata": {},
     "output_type": "execute_result"
    }
   ],
   "source": [
    "select!(train,Not(:PassengerId))"
   ]
  },
  {
   "cell_type": "code",
   "execution_count": 42,
   "metadata": {},
   "outputs": [
    {
     "data": {
      "text/html": [
       "<table class=\"data-frame\"><thead><tr><th></th><th>Pclass</th><th>Name</th><th>Sex</th><th>Age</th></tr><tr><th></th><th>Int64</th><th>String</th><th>Int64</th><th>Float64</th></tr></thead><tbody><p>418 rows × 8 columns (omitted printing of 4 columns)</p><tr><th>1</th><td>3</td><td>Kelly, Mr. James</td><td>1</td><td>34.5</td></tr><tr><th>2</th><td>3</td><td>Wilkes, Mrs. James (Ellen Needs)</td><td>2</td><td>47.0</td></tr><tr><th>3</th><td>2</td><td>Myles, Mr. Thomas Francis</td><td>1</td><td>62.0</td></tr><tr><th>4</th><td>3</td><td>Wirz, Mr. Albert</td><td>1</td><td>27.0</td></tr><tr><th>5</th><td>3</td><td>Hirvonen, Mrs. Alexander (Helga E Lindqvist)</td><td>2</td><td>22.0</td></tr><tr><th>6</th><td>3</td><td>Svensson, Mr. Johan Cervin</td><td>1</td><td>14.0</td></tr><tr><th>7</th><td>3</td><td>Connolly, Miss. Kate</td><td>2</td><td>30.0</td></tr><tr><th>8</th><td>2</td><td>Caldwell, Mr. Albert Francis</td><td>1</td><td>26.0</td></tr><tr><th>9</th><td>3</td><td>Abrahim, Mrs. Joseph (Sophie Halaut Easu)</td><td>2</td><td>18.0</td></tr><tr><th>10</th><td>3</td><td>Davies, Mr. John Samuel</td><td>1</td><td>21.0</td></tr><tr><th>11</th><td>3</td><td>Ilieff, Mr. Ylio</td><td>1</td><td>31.0</td></tr><tr><th>12</th><td>1</td><td>Jones, Mr. Charles Cresson</td><td>1</td><td>46.0</td></tr><tr><th>13</th><td>1</td><td>Snyder, Mrs. John Pillsbury (Nelle Stevenson)</td><td>2</td><td>23.0</td></tr><tr><th>14</th><td>2</td><td>Howard, Mr. Benjamin</td><td>1</td><td>63.0</td></tr><tr><th>15</th><td>1</td><td>Chaffee, Mrs. Herbert Fuller (Carrie Constance Toogood)</td><td>2</td><td>47.0</td></tr><tr><th>16</th><td>2</td><td>del Carlo, Mrs. Sebastiano (Argenia Genovesi)</td><td>2</td><td>24.0</td></tr><tr><th>17</th><td>2</td><td>Keane, Mr. Daniel</td><td>1</td><td>35.0</td></tr><tr><th>18</th><td>3</td><td>Assaf, Mr. Gerios</td><td>1</td><td>21.0</td></tr><tr><th>19</th><td>3</td><td>Ilmakangas, Miss. Ida Livija</td><td>2</td><td>27.0</td></tr><tr><th>20</th><td>3</td><td>Assaf Khalil, Mrs. Mariana (Miriam\")\"</td><td>2</td><td>45.0</td></tr><tr><th>21</th><td>1</td><td>Rothschild, Mr. Martin</td><td>1</td><td>55.0</td></tr><tr><th>22</th><td>3</td><td>Olsen, Master. Artur Karl</td><td>1</td><td>9.0</td></tr><tr><th>23</th><td>1</td><td>Flegenheim, Mrs. Alfred (Antoinette)</td><td>2</td><td>31.0</td></tr><tr><th>24</th><td>1</td><td>Williams, Mr. Richard Norris II</td><td>1</td><td>21.0</td></tr><tr><th>25</th><td>1</td><td>Ryerson, Mrs. Arthur Larned (Emily Maria Borie)</td><td>2</td><td>48.0</td></tr><tr><th>26</th><td>3</td><td>Robins, Mr. Alexander A</td><td>1</td><td>50.0</td></tr><tr><th>27</th><td>1</td><td>Ostby, Miss. Helene Ragnhild</td><td>2</td><td>22.0</td></tr><tr><th>28</th><td>3</td><td>Daher, Mr. Shedid</td><td>1</td><td>22.5</td></tr><tr><th>29</th><td>1</td><td>Brady, Mr. John Bertram</td><td>1</td><td>41.0</td></tr><tr><th>30</th><td>3</td><td>Samaan, Mr. Elias</td><td>1</td><td>31.0</td></tr><tr><th>&vellip;</th><td>&vellip;</td><td>&vellip;</td><td>&vellip;</td><td>&vellip;</td></tr></tbody></table>"
      ],
      "text/latex": [
       "\\begin{tabular}{r|ccccc}\n",
       "\t& Pclass & Name & Sex & Age & \\\\\n",
       "\t\\hline\n",
       "\t& Int64 & String & Int64 & Float64 & \\\\\n",
       "\t\\hline\n",
       "\t1 & 3 & Kelly, Mr. James & 1 & 34.5 & $\\dots$ \\\\\n",
       "\t2 & 3 & Wilkes, Mrs. James (Ellen Needs) & 2 & 47.0 & $\\dots$ \\\\\n",
       "\t3 & 2 & Myles, Mr. Thomas Francis & 1 & 62.0 & $\\dots$ \\\\\n",
       "\t4 & 3 & Wirz, Mr. Albert & 1 & 27.0 & $\\dots$ \\\\\n",
       "\t5 & 3 & Hirvonen, Mrs. Alexander (Helga E Lindqvist) & 2 & 22.0 & $\\dots$ \\\\\n",
       "\t6 & 3 & Svensson, Mr. Johan Cervin & 1 & 14.0 & $\\dots$ \\\\\n",
       "\t7 & 3 & Connolly, Miss. Kate & 2 & 30.0 & $\\dots$ \\\\\n",
       "\t8 & 2 & Caldwell, Mr. Albert Francis & 1 & 26.0 & $\\dots$ \\\\\n",
       "\t9 & 3 & Abrahim, Mrs. Joseph (Sophie Halaut Easu) & 2 & 18.0 & $\\dots$ \\\\\n",
       "\t10 & 3 & Davies, Mr. John Samuel & 1 & 21.0 & $\\dots$ \\\\\n",
       "\t11 & 3 & Ilieff, Mr. Ylio & 1 & 31.0 & $\\dots$ \\\\\n",
       "\t12 & 1 & Jones, Mr. Charles Cresson & 1 & 46.0 & $\\dots$ \\\\\n",
       "\t13 & 1 & Snyder, Mrs. John Pillsbury (Nelle Stevenson) & 2 & 23.0 & $\\dots$ \\\\\n",
       "\t14 & 2 & Howard, Mr. Benjamin & 1 & 63.0 & $\\dots$ \\\\\n",
       "\t15 & 1 & Chaffee, Mrs. Herbert Fuller (Carrie Constance Toogood) & 2 & 47.0 & $\\dots$ \\\\\n",
       "\t16 & 2 & del Carlo, Mrs. Sebastiano (Argenia Genovesi) & 2 & 24.0 & $\\dots$ \\\\\n",
       "\t17 & 2 & Keane, Mr. Daniel & 1 & 35.0 & $\\dots$ \\\\\n",
       "\t18 & 3 & Assaf, Mr. Gerios & 1 & 21.0 & $\\dots$ \\\\\n",
       "\t19 & 3 & Ilmakangas, Miss. Ida Livija & 2 & 27.0 & $\\dots$ \\\\\n",
       "\t20 & 3 & Assaf Khalil, Mrs. Mariana (Miriam\")\" & 2 & 45.0 & $\\dots$ \\\\\n",
       "\t21 & 1 & Rothschild, Mr. Martin & 1 & 55.0 & $\\dots$ \\\\\n",
       "\t22 & 3 & Olsen, Master. Artur Karl & 1 & 9.0 & $\\dots$ \\\\\n",
       "\t23 & 1 & Flegenheim, Mrs. Alfred (Antoinette) & 2 & 31.0 & $\\dots$ \\\\\n",
       "\t24 & 1 & Williams, Mr. Richard Norris II & 1 & 21.0 & $\\dots$ \\\\\n",
       "\t25 & 1 & Ryerson, Mrs. Arthur Larned (Emily Maria Borie) & 2 & 48.0 & $\\dots$ \\\\\n",
       "\t26 & 3 & Robins, Mr. Alexander A & 1 & 50.0 & $\\dots$ \\\\\n",
       "\t27 & 1 & Ostby, Miss. Helene Ragnhild & 2 & 22.0 & $\\dots$ \\\\\n",
       "\t28 & 3 & Daher, Mr. Shedid & 1 & 22.5 & $\\dots$ \\\\\n",
       "\t29 & 1 & Brady, Mr. John Bertram & 1 & 41.0 & $\\dots$ \\\\\n",
       "\t30 & 3 & Samaan, Mr. Elias & 1 & 31.0 & $\\dots$ \\\\\n",
       "\t$\\dots$ & $\\dots$ & $\\dots$ & $\\dots$ & $\\dots$ &  \\\\\n",
       "\\end{tabular}\n"
      ],
      "text/plain": [
       "418×8 DataFrame. Omitted printing of 5 columns\n",
       "│ Row │ Pclass │ Name                                            │ Sex   │\n",
       "│     │ \u001b[90mInt64\u001b[39m  │ \u001b[90mString\u001b[39m                                          │ \u001b[90mInt64\u001b[39m │\n",
       "├─────┼────────┼─────────────────────────────────────────────────┼───────┤\n",
       "│ 1   │ 3      │ Kelly, Mr. James                                │ 1     │\n",
       "│ 2   │ 3      │ Wilkes, Mrs. James (Ellen Needs)                │ 2     │\n",
       "│ 3   │ 2      │ Myles, Mr. Thomas Francis                       │ 1     │\n",
       "│ 4   │ 3      │ Wirz, Mr. Albert                                │ 1     │\n",
       "│ 5   │ 3      │ Hirvonen, Mrs. Alexander (Helga E Lindqvist)    │ 2     │\n",
       "│ 6   │ 3      │ Svensson, Mr. Johan Cervin                      │ 1     │\n",
       "│ 7   │ 3      │ Connolly, Miss. Kate                            │ 2     │\n",
       "│ 8   │ 2      │ Caldwell, Mr. Albert Francis                    │ 1     │\n",
       "│ 9   │ 3      │ Abrahim, Mrs. Joseph (Sophie Halaut Easu)       │ 2     │\n",
       "│ 10  │ 3      │ Davies, Mr. John Samuel                         │ 1     │\n",
       "⋮\n",
       "│ 408 │ 1      │ Widener, Mr. George Dunton                      │ 1     │\n",
       "│ 409 │ 3      │ Riordan, Miss. Johanna Hannah\"\"                 │ 2     │\n",
       "│ 410 │ 3      │ Peacock, Miss. Treasteall                       │ 2     │\n",
       "│ 411 │ 3      │ Naughton, Miss. Hannah                          │ 2     │\n",
       "│ 412 │ 1      │ Minahan, Mrs. William Edward (Lillian E Thorpe) │ 2     │\n",
       "│ 413 │ 3      │ Henriksson, Miss. Jenny Lovisa                  │ 2     │\n",
       "│ 414 │ 3      │ Spector, Mr. Woolf                              │ 1     │\n",
       "│ 415 │ 1      │ Oliva y Ocana, Dona. Fermina                    │ 2     │\n",
       "│ 416 │ 3      │ Saether, Mr. Simon Sivertsen                    │ 1     │\n",
       "│ 417 │ 3      │ Ware, Mr. Frederick                             │ 1     │\n",
       "│ 418 │ 3      │ Peter, Master. Michael J                        │ 1     │"
      ]
     },
     "execution_count": 42,
     "metadata": {},
     "output_type": "execute_result"
    }
   ],
   "source": [
    "select!(test,Not(:PassengerId))"
   ]
  },
  {
   "cell_type": "code",
   "execution_count": 43,
   "metadata": {},
   "outputs": [
    {
     "data": {
      "text/html": [
       "<table class=\"data-frame\"><thead><tr><th></th><th>Pclass</th><th>Sex</th><th>Age</th><th>SibSp</th><th>Parch</th><th>Fare</th><th>Embarked</th></tr><tr><th></th><th>Int64</th><th>Int64</th><th>Float64</th><th>Int64</th><th>Int64</th><th>Float64</th><th>Int64</th></tr></thead><tbody><p>891 rows × 7 columns</p><tr><th>1</th><td>3</td><td>1</td><td>22.0</td><td>1</td><td>0</td><td>7.25</td><td>1</td></tr><tr><th>2</th><td>1</td><td>2</td><td>38.0</td><td>1</td><td>0</td><td>71.2833</td><td>2</td></tr><tr><th>3</th><td>3</td><td>2</td><td>26.0</td><td>0</td><td>0</td><td>7.925</td><td>1</td></tr><tr><th>4</th><td>1</td><td>2</td><td>35.0</td><td>1</td><td>0</td><td>53.1</td><td>1</td></tr><tr><th>5</th><td>3</td><td>1</td><td>35.0</td><td>0</td><td>0</td><td>8.05</td><td>1</td></tr><tr><th>6</th><td>3</td><td>1</td><td>30.0</td><td>0</td><td>0</td><td>8.4583</td><td>3</td></tr><tr><th>7</th><td>1</td><td>1</td><td>54.0</td><td>0</td><td>0</td><td>51.8625</td><td>1</td></tr><tr><th>8</th><td>3</td><td>1</td><td>2.0</td><td>3</td><td>1</td><td>21.075</td><td>1</td></tr><tr><th>9</th><td>3</td><td>2</td><td>27.0</td><td>0</td><td>2</td><td>11.1333</td><td>1</td></tr><tr><th>10</th><td>2</td><td>2</td><td>14.0</td><td>1</td><td>0</td><td>30.0708</td><td>2</td></tr><tr><th>11</th><td>3</td><td>2</td><td>4.0</td><td>1</td><td>1</td><td>16.7</td><td>1</td></tr><tr><th>12</th><td>1</td><td>2</td><td>58.0</td><td>0</td><td>0</td><td>26.55</td><td>1</td></tr><tr><th>13</th><td>3</td><td>1</td><td>20.0</td><td>0</td><td>0</td><td>8.05</td><td>1</td></tr><tr><th>14</th><td>3</td><td>1</td><td>39.0</td><td>1</td><td>5</td><td>31.275</td><td>1</td></tr><tr><th>15</th><td>3</td><td>2</td><td>14.0</td><td>0</td><td>0</td><td>7.8542</td><td>1</td></tr><tr><th>16</th><td>2</td><td>2</td><td>55.0</td><td>0</td><td>0</td><td>16.0</td><td>1</td></tr><tr><th>17</th><td>3</td><td>1</td><td>2.0</td><td>4</td><td>1</td><td>29.125</td><td>3</td></tr><tr><th>18</th><td>2</td><td>1</td><td>30.0</td><td>0</td><td>0</td><td>13.0</td><td>1</td></tr><tr><th>19</th><td>3</td><td>2</td><td>31.0</td><td>1</td><td>0</td><td>18.0</td><td>1</td></tr><tr><th>20</th><td>3</td><td>2</td><td>30.0</td><td>0</td><td>0</td><td>7.225</td><td>2</td></tr><tr><th>21</th><td>2</td><td>1</td><td>35.0</td><td>0</td><td>0</td><td>26.0</td><td>1</td></tr><tr><th>22</th><td>2</td><td>1</td><td>34.0</td><td>0</td><td>0</td><td>13.0</td><td>1</td></tr><tr><th>23</th><td>3</td><td>2</td><td>15.0</td><td>0</td><td>0</td><td>8.0292</td><td>3</td></tr><tr><th>24</th><td>1</td><td>1</td><td>28.0</td><td>0</td><td>0</td><td>35.5</td><td>1</td></tr><tr><th>25</th><td>3</td><td>2</td><td>8.0</td><td>3</td><td>1</td><td>21.075</td><td>1</td></tr><tr><th>26</th><td>3</td><td>2</td><td>38.0</td><td>1</td><td>5</td><td>31.3875</td><td>1</td></tr><tr><th>27</th><td>3</td><td>1</td><td>30.0</td><td>0</td><td>0</td><td>7.225</td><td>2</td></tr><tr><th>28</th><td>1</td><td>1</td><td>19.0</td><td>3</td><td>2</td><td>263.0</td><td>1</td></tr><tr><th>29</th><td>3</td><td>2</td><td>30.0</td><td>0</td><td>0</td><td>7.8792</td><td>3</td></tr><tr><th>30</th><td>3</td><td>1</td><td>30.0</td><td>0</td><td>0</td><td>7.8958</td><td>1</td></tr><tr><th>&vellip;</th><td>&vellip;</td><td>&vellip;</td><td>&vellip;</td><td>&vellip;</td><td>&vellip;</td><td>&vellip;</td><td>&vellip;</td></tr></tbody></table>"
      ],
      "text/latex": [
       "\\begin{tabular}{r|ccccccc}\n",
       "\t& Pclass & Sex & Age & SibSp & Parch & Fare & Embarked\\\\\n",
       "\t\\hline\n",
       "\t& Int64 & Int64 & Float64 & Int64 & Int64 & Float64 & Int64\\\\\n",
       "\t\\hline\n",
       "\t1 & 3 & 1 & 22.0 & 1 & 0 & 7.25 & 1 \\\\\n",
       "\t2 & 1 & 2 & 38.0 & 1 & 0 & 71.2833 & 2 \\\\\n",
       "\t3 & 3 & 2 & 26.0 & 0 & 0 & 7.925 & 1 \\\\\n",
       "\t4 & 1 & 2 & 35.0 & 1 & 0 & 53.1 & 1 \\\\\n",
       "\t5 & 3 & 1 & 35.0 & 0 & 0 & 8.05 & 1 \\\\\n",
       "\t6 & 3 & 1 & 30.0 & 0 & 0 & 8.4583 & 3 \\\\\n",
       "\t7 & 1 & 1 & 54.0 & 0 & 0 & 51.8625 & 1 \\\\\n",
       "\t8 & 3 & 1 & 2.0 & 3 & 1 & 21.075 & 1 \\\\\n",
       "\t9 & 3 & 2 & 27.0 & 0 & 2 & 11.1333 & 1 \\\\\n",
       "\t10 & 2 & 2 & 14.0 & 1 & 0 & 30.0708 & 2 \\\\\n",
       "\t11 & 3 & 2 & 4.0 & 1 & 1 & 16.7 & 1 \\\\\n",
       "\t12 & 1 & 2 & 58.0 & 0 & 0 & 26.55 & 1 \\\\\n",
       "\t13 & 3 & 1 & 20.0 & 0 & 0 & 8.05 & 1 \\\\\n",
       "\t14 & 3 & 1 & 39.0 & 1 & 5 & 31.275 & 1 \\\\\n",
       "\t15 & 3 & 2 & 14.0 & 0 & 0 & 7.8542 & 1 \\\\\n",
       "\t16 & 2 & 2 & 55.0 & 0 & 0 & 16.0 & 1 \\\\\n",
       "\t17 & 3 & 1 & 2.0 & 4 & 1 & 29.125 & 3 \\\\\n",
       "\t18 & 2 & 1 & 30.0 & 0 & 0 & 13.0 & 1 \\\\\n",
       "\t19 & 3 & 2 & 31.0 & 1 & 0 & 18.0 & 1 \\\\\n",
       "\t20 & 3 & 2 & 30.0 & 0 & 0 & 7.225 & 2 \\\\\n",
       "\t21 & 2 & 1 & 35.0 & 0 & 0 & 26.0 & 1 \\\\\n",
       "\t22 & 2 & 1 & 34.0 & 0 & 0 & 13.0 & 1 \\\\\n",
       "\t23 & 3 & 2 & 15.0 & 0 & 0 & 8.0292 & 3 \\\\\n",
       "\t24 & 1 & 1 & 28.0 & 0 & 0 & 35.5 & 1 \\\\\n",
       "\t25 & 3 & 2 & 8.0 & 3 & 1 & 21.075 & 1 \\\\\n",
       "\t26 & 3 & 2 & 38.0 & 1 & 5 & 31.3875 & 1 \\\\\n",
       "\t27 & 3 & 1 & 30.0 & 0 & 0 & 7.225 & 2 \\\\\n",
       "\t28 & 1 & 1 & 19.0 & 3 & 2 & 263.0 & 1 \\\\\n",
       "\t29 & 3 & 2 & 30.0 & 0 & 0 & 7.8792 & 3 \\\\\n",
       "\t30 & 3 & 1 & 30.0 & 0 & 0 & 7.8958 & 1 \\\\\n",
       "\t$\\dots$ & $\\dots$ & $\\dots$ & $\\dots$ & $\\dots$ & $\\dots$ & $\\dots$ & $\\dots$ \\\\\n",
       "\\end{tabular}\n"
      ],
      "text/plain": [
       "891×7 DataFrame\n",
       "│ Row │ Pclass │ Sex   │ Age     │ SibSp │ Parch │ Fare    │ Embarked │\n",
       "│     │ \u001b[90mInt64\u001b[39m  │ \u001b[90mInt64\u001b[39m │ \u001b[90mFloat64\u001b[39m │ \u001b[90mInt64\u001b[39m │ \u001b[90mInt64\u001b[39m │ \u001b[90mFloat64\u001b[39m │ \u001b[90mInt64\u001b[39m    │\n",
       "├─────┼────────┼───────┼─────────┼───────┼───────┼─────────┼──────────┤\n",
       "│ 1   │ 3      │ 1     │ 22.0    │ 1     │ 0     │ 7.25    │ 1        │\n",
       "│ 2   │ 1      │ 2     │ 38.0    │ 1     │ 0     │ 71.2833 │ 2        │\n",
       "│ 3   │ 3      │ 2     │ 26.0    │ 0     │ 0     │ 7.925   │ 1        │\n",
       "│ 4   │ 1      │ 2     │ 35.0    │ 1     │ 0     │ 53.1    │ 1        │\n",
       "│ 5   │ 3      │ 1     │ 35.0    │ 0     │ 0     │ 8.05    │ 1        │\n",
       "│ 6   │ 3      │ 1     │ 30.0    │ 0     │ 0     │ 8.4583  │ 3        │\n",
       "│ 7   │ 1      │ 1     │ 54.0    │ 0     │ 0     │ 51.8625 │ 1        │\n",
       "│ 8   │ 3      │ 1     │ 2.0     │ 3     │ 1     │ 21.075  │ 1        │\n",
       "│ 9   │ 3      │ 2     │ 27.0    │ 0     │ 2     │ 11.1333 │ 1        │\n",
       "│ 10  │ 2      │ 2     │ 14.0    │ 1     │ 0     │ 30.0708 │ 2        │\n",
       "⋮\n",
       "│ 881 │ 2      │ 2     │ 25.0    │ 0     │ 1     │ 26.0    │ 1        │\n",
       "│ 882 │ 3      │ 1     │ 33.0    │ 0     │ 0     │ 7.8958  │ 1        │\n",
       "│ 883 │ 3      │ 2     │ 22.0    │ 0     │ 0     │ 10.5167 │ 1        │\n",
       "│ 884 │ 2      │ 1     │ 28.0    │ 0     │ 0     │ 10.5    │ 1        │\n",
       "│ 885 │ 3      │ 1     │ 25.0    │ 0     │ 0     │ 7.05    │ 1        │\n",
       "│ 886 │ 3      │ 2     │ 39.0    │ 0     │ 5     │ 29.125  │ 3        │\n",
       "│ 887 │ 2      │ 1     │ 27.0    │ 0     │ 0     │ 13.0    │ 1        │\n",
       "│ 888 │ 1      │ 2     │ 19.0    │ 0     │ 0     │ 30.0    │ 1        │\n",
       "│ 889 │ 3      │ 2     │ 30.0    │ 1     │ 2     │ 23.45   │ 1        │\n",
       "│ 890 │ 1      │ 1     │ 26.0    │ 0     │ 0     │ 30.0    │ 2        │\n",
       "│ 891 │ 3      │ 1     │ 32.0    │ 0     │ 0     │ 7.75    │ 3        │"
      ]
     },
     "execution_count": 43,
     "metadata": {},
     "output_type": "execute_result"
    }
   ],
   "source": [
    "select!(train,Not(:Name))"
   ]
  },
  {
   "cell_type": "code",
   "execution_count": 44,
   "metadata": {},
   "outputs": [
    {
     "data": {
      "text/html": [
       "<table class=\"data-frame\"><thead><tr><th></th><th>Pclass</th><th>Sex</th><th>Age</th><th>SibSp</th><th>Parch</th><th>Fare</th><th>Embarked</th></tr><tr><th></th><th>Int64</th><th>Int64</th><th>Float64</th><th>Int64</th><th>Int64</th><th>Real</th><th>Int64</th></tr></thead><tbody><p>418 rows × 7 columns</p><tr><th>1</th><td>3</td><td>1</td><td>34.5</td><td>0</td><td>0</td><td>7.8292</td><td>3</td></tr><tr><th>2</th><td>3</td><td>2</td><td>47.0</td><td>1</td><td>0</td><td>7.0</td><td>1</td></tr><tr><th>3</th><td>2</td><td>1</td><td>62.0</td><td>0</td><td>0</td><td>9.6875</td><td>3</td></tr><tr><th>4</th><td>3</td><td>1</td><td>27.0</td><td>0</td><td>0</td><td>8.6625</td><td>1</td></tr><tr><th>5</th><td>3</td><td>2</td><td>22.0</td><td>1</td><td>1</td><td>12.2875</td><td>1</td></tr><tr><th>6</th><td>3</td><td>1</td><td>14.0</td><td>0</td><td>0</td><td>9.225</td><td>1</td></tr><tr><th>7</th><td>3</td><td>2</td><td>30.0</td><td>0</td><td>0</td><td>7.6292</td><td>3</td></tr><tr><th>8</th><td>2</td><td>1</td><td>26.0</td><td>1</td><td>1</td><td>29.0</td><td>1</td></tr><tr><th>9</th><td>3</td><td>2</td><td>18.0</td><td>0</td><td>0</td><td>7.2292</td><td>2</td></tr><tr><th>10</th><td>3</td><td>1</td><td>21.0</td><td>2</td><td>0</td><td>24.15</td><td>1</td></tr><tr><th>11</th><td>3</td><td>1</td><td>31.0</td><td>0</td><td>0</td><td>7.8958</td><td>1</td></tr><tr><th>12</th><td>1</td><td>1</td><td>46.0</td><td>0</td><td>0</td><td>26.0</td><td>1</td></tr><tr><th>13</th><td>1</td><td>2</td><td>23.0</td><td>1</td><td>0</td><td>82.2667</td><td>1</td></tr><tr><th>14</th><td>2</td><td>1</td><td>63.0</td><td>1</td><td>0</td><td>26.0</td><td>1</td></tr><tr><th>15</th><td>1</td><td>2</td><td>47.0</td><td>1</td><td>0</td><td>61.175</td><td>1</td></tr><tr><th>16</th><td>2</td><td>2</td><td>24.0</td><td>1</td><td>0</td><td>27.7208</td><td>2</td></tr><tr><th>17</th><td>2</td><td>1</td><td>35.0</td><td>0</td><td>0</td><td>12.35</td><td>3</td></tr><tr><th>18</th><td>3</td><td>1</td><td>21.0</td><td>0</td><td>0</td><td>7.225</td><td>2</td></tr><tr><th>19</th><td>3</td><td>2</td><td>27.0</td><td>1</td><td>0</td><td>7.925</td><td>1</td></tr><tr><th>20</th><td>3</td><td>2</td><td>45.0</td><td>0</td><td>0</td><td>7.225</td><td>2</td></tr><tr><th>21</th><td>1</td><td>1</td><td>55.0</td><td>1</td><td>0</td><td>59.4</td><td>2</td></tr><tr><th>22</th><td>3</td><td>1</td><td>9.0</td><td>0</td><td>1</td><td>3.1708</td><td>1</td></tr><tr><th>23</th><td>1</td><td>2</td><td>31.0</td><td>0</td><td>0</td><td>31.6833</td><td>1</td></tr><tr><th>24</th><td>1</td><td>1</td><td>21.0</td><td>0</td><td>1</td><td>61.3792</td><td>2</td></tr><tr><th>25</th><td>1</td><td>2</td><td>48.0</td><td>1</td><td>3</td><td>262.375</td><td>2</td></tr><tr><th>26</th><td>3</td><td>1</td><td>50.0</td><td>1</td><td>0</td><td>14.5</td><td>1</td></tr><tr><th>27</th><td>1</td><td>2</td><td>22.0</td><td>0</td><td>1</td><td>61.9792</td><td>2</td></tr><tr><th>28</th><td>3</td><td>1</td><td>22.5</td><td>0</td><td>0</td><td>7.225</td><td>2</td></tr><tr><th>29</th><td>1</td><td>1</td><td>41.0</td><td>0</td><td>0</td><td>30.5</td><td>1</td></tr><tr><th>30</th><td>3</td><td>1</td><td>31.0</td><td>2</td><td>0</td><td>21.6792</td><td>2</td></tr><tr><th>&vellip;</th><td>&vellip;</td><td>&vellip;</td><td>&vellip;</td><td>&vellip;</td><td>&vellip;</td><td>&vellip;</td><td>&vellip;</td></tr></tbody></table>"
      ],
      "text/latex": [
       "\\begin{tabular}{r|ccccccc}\n",
       "\t& Pclass & Sex & Age & SibSp & Parch & Fare & Embarked\\\\\n",
       "\t\\hline\n",
       "\t& Int64 & Int64 & Float64 & Int64 & Int64 & Real & Int64\\\\\n",
       "\t\\hline\n",
       "\t1 & 3 & 1 & 34.5 & 0 & 0 & 7.8292 & 3 \\\\\n",
       "\t2 & 3 & 2 & 47.0 & 1 & 0 & 7.0 & 1 \\\\\n",
       "\t3 & 2 & 1 & 62.0 & 0 & 0 & 9.6875 & 3 \\\\\n",
       "\t4 & 3 & 1 & 27.0 & 0 & 0 & 8.6625 & 1 \\\\\n",
       "\t5 & 3 & 2 & 22.0 & 1 & 1 & 12.2875 & 1 \\\\\n",
       "\t6 & 3 & 1 & 14.0 & 0 & 0 & 9.225 & 1 \\\\\n",
       "\t7 & 3 & 2 & 30.0 & 0 & 0 & 7.6292 & 3 \\\\\n",
       "\t8 & 2 & 1 & 26.0 & 1 & 1 & 29.0 & 1 \\\\\n",
       "\t9 & 3 & 2 & 18.0 & 0 & 0 & 7.2292 & 2 \\\\\n",
       "\t10 & 3 & 1 & 21.0 & 2 & 0 & 24.15 & 1 \\\\\n",
       "\t11 & 3 & 1 & 31.0 & 0 & 0 & 7.8958 & 1 \\\\\n",
       "\t12 & 1 & 1 & 46.0 & 0 & 0 & 26.0 & 1 \\\\\n",
       "\t13 & 1 & 2 & 23.0 & 1 & 0 & 82.2667 & 1 \\\\\n",
       "\t14 & 2 & 1 & 63.0 & 1 & 0 & 26.0 & 1 \\\\\n",
       "\t15 & 1 & 2 & 47.0 & 1 & 0 & 61.175 & 1 \\\\\n",
       "\t16 & 2 & 2 & 24.0 & 1 & 0 & 27.7208 & 2 \\\\\n",
       "\t17 & 2 & 1 & 35.0 & 0 & 0 & 12.35 & 3 \\\\\n",
       "\t18 & 3 & 1 & 21.0 & 0 & 0 & 7.225 & 2 \\\\\n",
       "\t19 & 3 & 2 & 27.0 & 1 & 0 & 7.925 & 1 \\\\\n",
       "\t20 & 3 & 2 & 45.0 & 0 & 0 & 7.225 & 2 \\\\\n",
       "\t21 & 1 & 1 & 55.0 & 1 & 0 & 59.4 & 2 \\\\\n",
       "\t22 & 3 & 1 & 9.0 & 0 & 1 & 3.1708 & 1 \\\\\n",
       "\t23 & 1 & 2 & 31.0 & 0 & 0 & 31.6833 & 1 \\\\\n",
       "\t24 & 1 & 1 & 21.0 & 0 & 1 & 61.3792 & 2 \\\\\n",
       "\t25 & 1 & 2 & 48.0 & 1 & 3 & 262.375 & 2 \\\\\n",
       "\t26 & 3 & 1 & 50.0 & 1 & 0 & 14.5 & 1 \\\\\n",
       "\t27 & 1 & 2 & 22.0 & 0 & 1 & 61.9792 & 2 \\\\\n",
       "\t28 & 3 & 1 & 22.5 & 0 & 0 & 7.225 & 2 \\\\\n",
       "\t29 & 1 & 1 & 41.0 & 0 & 0 & 30.5 & 1 \\\\\n",
       "\t30 & 3 & 1 & 31.0 & 2 & 0 & 21.6792 & 2 \\\\\n",
       "\t$\\dots$ & $\\dots$ & $\\dots$ & $\\dots$ & $\\dots$ & $\\dots$ & $\\dots$ & $\\dots$ \\\\\n",
       "\\end{tabular}\n"
      ],
      "text/plain": [
       "418×7 DataFrame\n",
       "│ Row │ Pclass │ Sex   │ Age     │ SibSp │ Parch │ Fare    │ Embarked │\n",
       "│     │ \u001b[90mInt64\u001b[39m  │ \u001b[90mInt64\u001b[39m │ \u001b[90mFloat64\u001b[39m │ \u001b[90mInt64\u001b[39m │ \u001b[90mInt64\u001b[39m │ \u001b[90mReal\u001b[39m    │ \u001b[90mInt64\u001b[39m    │\n",
       "├─────┼────────┼───────┼─────────┼───────┼───────┼─────────┼──────────┤\n",
       "│ 1   │ 3      │ 1     │ 34.5    │ 0     │ 0     │ 7.8292  │ 3        │\n",
       "│ 2   │ 3      │ 2     │ 47.0    │ 1     │ 0     │ 7.0     │ 1        │\n",
       "│ 3   │ 2      │ 1     │ 62.0    │ 0     │ 0     │ 9.6875  │ 3        │\n",
       "│ 4   │ 3      │ 1     │ 27.0    │ 0     │ 0     │ 8.6625  │ 1        │\n",
       "│ 5   │ 3      │ 2     │ 22.0    │ 1     │ 1     │ 12.2875 │ 1        │\n",
       "│ 6   │ 3      │ 1     │ 14.0    │ 0     │ 0     │ 9.225   │ 1        │\n",
       "│ 7   │ 3      │ 2     │ 30.0    │ 0     │ 0     │ 7.6292  │ 3        │\n",
       "│ 8   │ 2      │ 1     │ 26.0    │ 1     │ 1     │ 29.0    │ 1        │\n",
       "│ 9   │ 3      │ 2     │ 18.0    │ 0     │ 0     │ 7.2292  │ 2        │\n",
       "│ 10  │ 3      │ 1     │ 21.0    │ 2     │ 0     │ 24.15   │ 1        │\n",
       "⋮\n",
       "│ 408 │ 1      │ 1     │ 50.0    │ 1     │ 1     │ 211.5   │ 2        │\n",
       "│ 409 │ 3      │ 2     │ 31.0    │ 0     │ 0     │ 7.7208  │ 3        │\n",
       "│ 410 │ 3      │ 2     │ 3.0     │ 1     │ 1     │ 13.775  │ 1        │\n",
       "│ 411 │ 3      │ 2     │ 31.0    │ 0     │ 0     │ 7.75    │ 3        │\n",
       "│ 412 │ 1      │ 2     │ 37.0    │ 1     │ 0     │ 90.0    │ 3        │\n",
       "│ 413 │ 3      │ 2     │ 28.0    │ 0     │ 0     │ 7.775   │ 1        │\n",
       "│ 414 │ 3      │ 1     │ 31.0    │ 0     │ 0     │ 8.05    │ 1        │\n",
       "│ 415 │ 1      │ 2     │ 39.0    │ 0     │ 0     │ 108.9   │ 2        │\n",
       "│ 416 │ 3      │ 1     │ 38.5    │ 0     │ 0     │ 7.25    │ 1        │\n",
       "│ 417 │ 3      │ 1     │ 31.0    │ 0     │ 0     │ 8.05    │ 1        │\n",
       "│ 418 │ 3      │ 1     │ 31.0    │ 1     │ 1     │ 22.3583 │ 2        │"
      ]
     },
     "execution_count": 44,
     "metadata": {},
     "output_type": "execute_result"
    }
   ],
   "source": [
    "select!(test,Not(:Name))"
   ]
  },
  {
   "cell_type": "code",
   "execution_count": 45,
   "metadata": {},
   "outputs": [
    {
     "data": {
      "text/plain": [
       "891×7 Array{Float64,2}:\n",
       " 3.0  1.0  22.0  1.0  0.0   7.25    1.0\n",
       " 1.0  2.0  38.0  1.0  0.0  71.2833  2.0\n",
       " 3.0  2.0  26.0  0.0  0.0   7.925   1.0\n",
       " 1.0  2.0  35.0  1.0  0.0  53.1     1.0\n",
       " 3.0  1.0  35.0  0.0  0.0   8.05    1.0\n",
       " 3.0  1.0  30.0  0.0  0.0   8.4583  3.0\n",
       " 1.0  1.0  54.0  0.0  0.0  51.8625  1.0\n",
       " 3.0  1.0   2.0  3.0  1.0  21.075   1.0\n",
       " 3.0  2.0  27.0  0.0  2.0  11.1333  1.0\n",
       " 2.0  2.0  14.0  1.0  0.0  30.0708  2.0\n",
       " 3.0  2.0   4.0  1.0  1.0  16.7     1.0\n",
       " 1.0  2.0  58.0  0.0  0.0  26.55    1.0\n",
       " 3.0  1.0  20.0  0.0  0.0   8.05    1.0\n",
       " ⋮                          ⋮       \n",
       " 1.0  2.0  56.0  0.0  1.0  83.1583  2.0\n",
       " 2.0  2.0  25.0  0.0  1.0  26.0     1.0\n",
       " 3.0  1.0  33.0  0.0  0.0   7.8958  1.0\n",
       " 3.0  2.0  22.0  0.0  0.0  10.5167  1.0\n",
       " 2.0  1.0  28.0  0.0  0.0  10.5     1.0\n",
       " 3.0  1.0  25.0  0.0  0.0   7.05    1.0\n",
       " 3.0  2.0  39.0  0.0  5.0  29.125   3.0\n",
       " 2.0  1.0  27.0  0.0  0.0  13.0     1.0\n",
       " 1.0  2.0  19.0  0.0  0.0  30.0     1.0\n",
       " 3.0  2.0  30.0  1.0  2.0  23.45    1.0\n",
       " 1.0  1.0  26.0  0.0  0.0  30.0     2.0\n",
       " 3.0  1.0  32.0  0.0  0.0   7.75    3.0"
      ]
     },
     "execution_count": 45,
     "metadata": {},
     "output_type": "execute_result"
    }
   ],
   "source": [
    "train_x = convert(Array,train[:,:])"
   ]
  },
  {
   "cell_type": "code",
   "execution_count": 46,
   "metadata": {},
   "outputs": [
    {
     "data": {
      "text/plain": [
       "891×1 Array{Int64,2}:\n",
       " 0\n",
       " 1\n",
       " 1\n",
       " 1\n",
       " 0\n",
       " 0\n",
       " 0\n",
       " 0\n",
       " 1\n",
       " 1\n",
       " 1\n",
       " 1\n",
       " 0\n",
       " ⋮\n",
       " 1\n",
       " 1\n",
       " 0\n",
       " 0\n",
       " 0\n",
       " 0\n",
       " 0\n",
       " 0\n",
       " 1\n",
       " 0\n",
       " 1\n",
       " 0"
      ]
     },
     "execution_count": 46,
     "metadata": {},
     "output_type": "execute_result"
    }
   ],
   "source": [
    "train_y=convert(Array,y[:,:])"
   ]
  },
  {
   "cell_type": "code",
   "execution_count": 47,
   "metadata": {},
   "outputs": [
    {
     "data": {
      "text/html": [
       "<table class=\"data-frame\"><thead><tr><th></th><th>Pclass</th><th>Sex</th><th>Age</th><th>SibSp</th><th>Parch</th><th>Fare</th><th>Embarked</th></tr><tr><th></th><th>Int64</th><th>Int64</th><th>Float64</th><th>Int64</th><th>Int64</th><th>Float64</th><th>Int64</th></tr></thead><tbody><p>3 rows × 7 columns</p><tr><th>1</th><td>3</td><td>1</td><td>22.0</td><td>1</td><td>0</td><td>7.25</td><td>1</td></tr><tr><th>2</th><td>1</td><td>2</td><td>38.0</td><td>1</td><td>0</td><td>71.2833</td><td>2</td></tr><tr><th>3</th><td>3</td><td>2</td><td>26.0</td><td>0</td><td>0</td><td>7.925</td><td>1</td></tr></tbody></table>"
      ],
      "text/latex": [
       "\\begin{tabular}{r|ccccccc}\n",
       "\t& Pclass & Sex & Age & SibSp & Parch & Fare & Embarked\\\\\n",
       "\t\\hline\n",
       "\t& Int64 & Int64 & Float64 & Int64 & Int64 & Float64 & Int64\\\\\n",
       "\t\\hline\n",
       "\t1 & 3 & 1 & 22.0 & 1 & 0 & 7.25 & 1 \\\\\n",
       "\t2 & 1 & 2 & 38.0 & 1 & 0 & 71.2833 & 2 \\\\\n",
       "\t3 & 3 & 2 & 26.0 & 0 & 0 & 7.925 & 1 \\\\\n",
       "\\end{tabular}\n"
      ],
      "text/plain": [
       "3×7 DataFrame\n",
       "│ Row │ Pclass │ Sex   │ Age     │ SibSp │ Parch │ Fare    │ Embarked │\n",
       "│     │ \u001b[90mInt64\u001b[39m  │ \u001b[90mInt64\u001b[39m │ \u001b[90mFloat64\u001b[39m │ \u001b[90mInt64\u001b[39m │ \u001b[90mInt64\u001b[39m │ \u001b[90mFloat64\u001b[39m │ \u001b[90mInt64\u001b[39m    │\n",
       "├─────┼────────┼───────┼─────────┼───────┼───────┼─────────┼──────────┤\n",
       "│ 1   │ 3      │ 1     │ 22.0    │ 1     │ 0     │ 7.25    │ 1        │\n",
       "│ 2   │ 1      │ 2     │ 38.0    │ 1     │ 0     │ 71.2833 │ 2        │\n",
       "│ 3   │ 3      │ 2     │ 26.0    │ 0     │ 0     │ 7.925   │ 1        │"
      ]
     },
     "execution_count": 47,
     "metadata": {},
     "output_type": "execute_result"
    }
   ],
   "source": [
    "first(train,3)"
   ]
  },
  {
   "cell_type": "code",
   "execution_count": 48,
   "metadata": {},
   "outputs": [
    {
     "data": {
      "text/plain": [
       "418×7 Array{Real,2}:\n",
       " 3  1  34.5  0  0    7.8292  3\n",
       " 3  2  47.0  1  0    7.0     1\n",
       " 2  1  62.0  0  0    9.6875  3\n",
       " 3  1  27.0  0  0    8.6625  1\n",
       " 3  2  22.0  1  1   12.2875  1\n",
       " 3  1  14.0  0  0    9.225   1\n",
       " 3  2  30.0  0  0    7.6292  3\n",
       " 2  1  26.0  1  1   29.0     1\n",
       " 3  2  18.0  0  0    7.2292  2\n",
       " 3  1  21.0  2  0   24.15    1\n",
       " 3  1  31.0  0  0    7.8958  1\n",
       " 1  1  46.0  0  0   26.0     1\n",
       " 1  2  23.0  1  0   82.2667  1\n",
       " ⋮                   ⋮       \n",
       " 2  1  23.0  1  0   10.5     1\n",
       " 1  1  50.0  1  1  211.5     2\n",
       " 3  2  31.0  0  0    7.7208  3\n",
       " 3  2   3.0  1  1   13.775   1\n",
       " 3  2  31.0  0  0    7.75    3\n",
       " 1  2  37.0  1  0   90.0     3\n",
       " 3  2  28.0  0  0    7.775   1\n",
       " 3  1  31.0  0  0    8.05    1\n",
       " 1  2  39.0  0  0  108.9     2\n",
       " 3  1  38.5  0  0    7.25    1\n",
       " 3  1  31.0  0  0    8.05    1\n",
       " 3  1  31.0  1  1   22.3583  2"
      ]
     },
     "execution_count": 48,
     "metadata": {},
     "output_type": "execute_result"
    }
   ],
   "source": [
    "test_x=convert(Array,test[:,:])"
   ]
  },
  {
   "cell_type": "code",
   "execution_count": 49,
   "metadata": {},
   "outputs": [
    {
     "data": {
      "text/plain": [
       "PyObject <class 'sklearn.tree._classes.DecisionTreeClassifier'>"
      ]
     },
     "execution_count": 49,
     "metadata": {},
     "output_type": "execute_result"
    }
   ],
   "source": [
    "@sk_import tree:DecisionTreeClassifier"
   ]
  },
  {
   "cell_type": "code",
   "execution_count": 50,
   "metadata": {},
   "outputs": [
    {
     "data": {
      "text/plain": [
       "PyObject DecisionTreeClassifier()"
      ]
     },
     "execution_count": 50,
     "metadata": {},
     "output_type": "execute_result"
    }
   ],
   "source": [
    "tree = DecisionTreeClassifier()"
   ]
  },
  {
   "cell_type": "code",
   "execution_count": 60,
   "metadata": {},
   "outputs": [
    {
     "data": {
      "text/plain": [
       "PyObject DecisionTreeClassifier()"
      ]
     },
     "execution_count": 60,
     "metadata": {},
     "output_type": "execute_result"
    }
   ],
   "source": [
    "fit!(tree,train_x,train_y)"
   ]
  },
  {
   "cell_type": "code",
   "execution_count": 61,
   "metadata": {},
   "outputs": [
    {
     "data": {
      "text/plain": [
       "418-element Array{Int64,1}:\n",
       " 0\n",
       " 0\n",
       " 1\n",
       " 1\n",
       " 1\n",
       " 0\n",
       " 0\n",
       " 0\n",
       " 1\n",
       " 0\n",
       " 0\n",
       " 0\n",
       " 1\n",
       " ⋮\n",
       " 0\n",
       " 0\n",
       " 0\n",
       " 0\n",
       " 0\n",
       " 1\n",
       " 0\n",
       " 1\n",
       " 1\n",
       " 0\n",
       " 1\n",
       " 0"
      ]
     },
     "execution_count": 61,
     "metadata": {},
     "output_type": "execute_result"
    }
   ],
   "source": [
    "tree_pred = predict(tree,test_x)"
   ]
  },
  {
   "cell_type": "code",
   "execution_count": null,
   "metadata": {},
   "outputs": [],
   "source": []
  },
  {
   "cell_type": "code",
   "execution_count": null,
   "metadata": {},
   "outputs": [],
   "source": []
  },
  {
   "cell_type": "code",
   "execution_count": null,
   "metadata": {},
   "outputs": [],
   "source": []
  }
 ],
 "metadata": {
  "kernelspec": {
   "display_name": "Julia 1.4.1",
   "language": "julia",
   "name": "julia-1.4"
  },
  "language_info": {
   "file_extension": ".jl",
   "mimetype": "application/julia",
   "name": "julia",
   "version": "1.4.1"
  }
 },
 "nbformat": 4,
 "nbformat_minor": 4
}
