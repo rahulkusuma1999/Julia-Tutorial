{
 "cells": [
  {
   "cell_type": "code",
   "execution_count": 51,
   "metadata": {},
   "outputs": [],
   "source": [
    "using CSV"
   ]
  },
  {
   "cell_type": "code",
   "execution_count": 52,
   "metadata": {},
   "outputs": [],
   "source": [
    "using DataFrames"
   ]
  },
  {
   "cell_type": "code",
   "execution_count": 53,
   "metadata": {},
   "outputs": [],
   "source": [
    "using Statistics"
   ]
  },
  {
   "cell_type": "code",
   "execution_count": 54,
   "metadata": {},
   "outputs": [],
   "source": [
    " using StatsBase"
   ]
  },
  {
   "cell_type": "code",
   "execution_count": 55,
   "metadata": {},
   "outputs": [],
   "source": [
    "using StatsPlots"
   ]
  },
  {
   "cell_type": "code",
   "execution_count": 56,
   "metadata": {},
   "outputs": [],
   "source": [
    "using ScikitLearn"
   ]
  },
  {
   "cell_type": "code",
   "execution_count": 57,
   "metadata": {},
   "outputs": [],
   "source": [
    "using ScikitLearn: fit!,predict"
   ]
  },
  {
   "cell_type": "code",
   "execution_count": 58,
   "metadata": {},
   "outputs": [],
   "source": [
    "using Plots"
   ]
  },
  {
   "cell_type": "code",
   "execution_count": 59,
   "metadata": {},
   "outputs": [
    {
     "data": {
      "text/html": [
       "<table class=\"data-frame\"><thead><tr><th></th><th>Serial No.</th><th>GRE Score</th><th>TOEFL Score</th><th>University Rating</th><th>SOP</th><th>LOR </th><th>CGPA</th></tr><tr><th></th><th>Int64</th><th>Int64</th><th>Int64</th><th>Int64</th><th>Float64</th><th>Float64</th><th>Float64</th></tr></thead><tbody><p>400 rows × 9 columns (omitted printing of 2 columns)</p><tr><th>1</th><td>1</td><td>337</td><td>118</td><td>4</td><td>4.5</td><td>4.5</td><td>9.65</td></tr><tr><th>2</th><td>2</td><td>324</td><td>107</td><td>4</td><td>4.0</td><td>4.5</td><td>8.87</td></tr><tr><th>3</th><td>3</td><td>316</td><td>104</td><td>3</td><td>3.0</td><td>3.5</td><td>8.0</td></tr><tr><th>4</th><td>4</td><td>322</td><td>110</td><td>3</td><td>3.5</td><td>2.5</td><td>8.67</td></tr><tr><th>5</th><td>5</td><td>314</td><td>103</td><td>2</td><td>2.0</td><td>3.0</td><td>8.21</td></tr><tr><th>6</th><td>6</td><td>330</td><td>115</td><td>5</td><td>4.5</td><td>3.0</td><td>9.34</td></tr><tr><th>7</th><td>7</td><td>321</td><td>109</td><td>3</td><td>3.0</td><td>4.0</td><td>8.2</td></tr><tr><th>8</th><td>8</td><td>308</td><td>101</td><td>2</td><td>3.0</td><td>4.0</td><td>7.9</td></tr><tr><th>9</th><td>9</td><td>302</td><td>102</td><td>1</td><td>2.0</td><td>1.5</td><td>8.0</td></tr><tr><th>10</th><td>10</td><td>323</td><td>108</td><td>3</td><td>3.5</td><td>3.0</td><td>8.6</td></tr><tr><th>11</th><td>11</td><td>325</td><td>106</td><td>3</td><td>3.5</td><td>4.0</td><td>8.4</td></tr><tr><th>12</th><td>12</td><td>327</td><td>111</td><td>4</td><td>4.0</td><td>4.5</td><td>9.0</td></tr><tr><th>13</th><td>13</td><td>328</td><td>112</td><td>4</td><td>4.0</td><td>4.5</td><td>9.1</td></tr><tr><th>14</th><td>14</td><td>307</td><td>109</td><td>3</td><td>4.0</td><td>3.0</td><td>8.0</td></tr><tr><th>15</th><td>15</td><td>311</td><td>104</td><td>3</td><td>3.5</td><td>2.0</td><td>8.2</td></tr><tr><th>16</th><td>16</td><td>314</td><td>105</td><td>3</td><td>3.5</td><td>2.5</td><td>8.3</td></tr><tr><th>17</th><td>17</td><td>317</td><td>107</td><td>3</td><td>4.0</td><td>3.0</td><td>8.7</td></tr><tr><th>18</th><td>18</td><td>319</td><td>106</td><td>3</td><td>4.0</td><td>3.0</td><td>8.0</td></tr><tr><th>19</th><td>19</td><td>318</td><td>110</td><td>3</td><td>4.0</td><td>3.0</td><td>8.8</td></tr><tr><th>20</th><td>20</td><td>303</td><td>102</td><td>3</td><td>3.5</td><td>3.0</td><td>8.5</td></tr><tr><th>21</th><td>21</td><td>312</td><td>107</td><td>3</td><td>3.0</td><td>2.0</td><td>7.9</td></tr><tr><th>22</th><td>22</td><td>325</td><td>114</td><td>4</td><td>3.0</td><td>2.0</td><td>8.4</td></tr><tr><th>23</th><td>23</td><td>328</td><td>116</td><td>5</td><td>5.0</td><td>5.0</td><td>9.5</td></tr><tr><th>24</th><td>24</td><td>334</td><td>119</td><td>5</td><td>5.0</td><td>4.5</td><td>9.7</td></tr><tr><th>25</th><td>25</td><td>336</td><td>119</td><td>5</td><td>4.0</td><td>3.5</td><td>9.8</td></tr><tr><th>26</th><td>26</td><td>340</td><td>120</td><td>5</td><td>4.5</td><td>4.5</td><td>9.6</td></tr><tr><th>27</th><td>27</td><td>322</td><td>109</td><td>5</td><td>4.5</td><td>3.5</td><td>8.8</td></tr><tr><th>28</th><td>28</td><td>298</td><td>98</td><td>2</td><td>1.5</td><td>2.5</td><td>7.5</td></tr><tr><th>29</th><td>29</td><td>295</td><td>93</td><td>1</td><td>2.0</td><td>2.0</td><td>7.2</td></tr><tr><th>30</th><td>30</td><td>310</td><td>99</td><td>2</td><td>1.5</td><td>2.0</td><td>7.3</td></tr><tr><th>&vellip;</th><td>&vellip;</td><td>&vellip;</td><td>&vellip;</td><td>&vellip;</td><td>&vellip;</td><td>&vellip;</td><td>&vellip;</td></tr></tbody></table>"
      ],
      "text/latex": [
       "\\begin{tabular}{r|cccccccc}\n",
       "\t& Serial No. & GRE Score & TOEFL Score & University Rating & SOP & LOR  & CGPA & \\\\\n",
       "\t\\hline\n",
       "\t& Int64 & Int64 & Int64 & Int64 & Float64 & Float64 & Float64 & \\\\\n",
       "\t\\hline\n",
       "\t1 & 1 & 337 & 118 & 4 & 4.5 & 4.5 & 9.65 & $\\dots$ \\\\\n",
       "\t2 & 2 & 324 & 107 & 4 & 4.0 & 4.5 & 8.87 & $\\dots$ \\\\\n",
       "\t3 & 3 & 316 & 104 & 3 & 3.0 & 3.5 & 8.0 & $\\dots$ \\\\\n",
       "\t4 & 4 & 322 & 110 & 3 & 3.5 & 2.5 & 8.67 & $\\dots$ \\\\\n",
       "\t5 & 5 & 314 & 103 & 2 & 2.0 & 3.0 & 8.21 & $\\dots$ \\\\\n",
       "\t6 & 6 & 330 & 115 & 5 & 4.5 & 3.0 & 9.34 & $\\dots$ \\\\\n",
       "\t7 & 7 & 321 & 109 & 3 & 3.0 & 4.0 & 8.2 & $\\dots$ \\\\\n",
       "\t8 & 8 & 308 & 101 & 2 & 3.0 & 4.0 & 7.9 & $\\dots$ \\\\\n",
       "\t9 & 9 & 302 & 102 & 1 & 2.0 & 1.5 & 8.0 & $\\dots$ \\\\\n",
       "\t10 & 10 & 323 & 108 & 3 & 3.5 & 3.0 & 8.6 & $\\dots$ \\\\\n",
       "\t11 & 11 & 325 & 106 & 3 & 3.5 & 4.0 & 8.4 & $\\dots$ \\\\\n",
       "\t12 & 12 & 327 & 111 & 4 & 4.0 & 4.5 & 9.0 & $\\dots$ \\\\\n",
       "\t13 & 13 & 328 & 112 & 4 & 4.0 & 4.5 & 9.1 & $\\dots$ \\\\\n",
       "\t14 & 14 & 307 & 109 & 3 & 4.0 & 3.0 & 8.0 & $\\dots$ \\\\\n",
       "\t15 & 15 & 311 & 104 & 3 & 3.5 & 2.0 & 8.2 & $\\dots$ \\\\\n",
       "\t16 & 16 & 314 & 105 & 3 & 3.5 & 2.5 & 8.3 & $\\dots$ \\\\\n",
       "\t17 & 17 & 317 & 107 & 3 & 4.0 & 3.0 & 8.7 & $\\dots$ \\\\\n",
       "\t18 & 18 & 319 & 106 & 3 & 4.0 & 3.0 & 8.0 & $\\dots$ \\\\\n",
       "\t19 & 19 & 318 & 110 & 3 & 4.0 & 3.0 & 8.8 & $\\dots$ \\\\\n",
       "\t20 & 20 & 303 & 102 & 3 & 3.5 & 3.0 & 8.5 & $\\dots$ \\\\\n",
       "\t21 & 21 & 312 & 107 & 3 & 3.0 & 2.0 & 7.9 & $\\dots$ \\\\\n",
       "\t22 & 22 & 325 & 114 & 4 & 3.0 & 2.0 & 8.4 & $\\dots$ \\\\\n",
       "\t23 & 23 & 328 & 116 & 5 & 5.0 & 5.0 & 9.5 & $\\dots$ \\\\\n",
       "\t24 & 24 & 334 & 119 & 5 & 5.0 & 4.5 & 9.7 & $\\dots$ \\\\\n",
       "\t25 & 25 & 336 & 119 & 5 & 4.0 & 3.5 & 9.8 & $\\dots$ \\\\\n",
       "\t26 & 26 & 340 & 120 & 5 & 4.5 & 4.5 & 9.6 & $\\dots$ \\\\\n",
       "\t27 & 27 & 322 & 109 & 5 & 4.5 & 3.5 & 8.8 & $\\dots$ \\\\\n",
       "\t28 & 28 & 298 & 98 & 2 & 1.5 & 2.5 & 7.5 & $\\dots$ \\\\\n",
       "\t29 & 29 & 295 & 93 & 1 & 2.0 & 2.0 & 7.2 & $\\dots$ \\\\\n",
       "\t30 & 30 & 310 & 99 & 2 & 1.5 & 2.0 & 7.3 & $\\dots$ \\\\\n",
       "\t$\\dots$ & $\\dots$ & $\\dots$ & $\\dots$ & $\\dots$ & $\\dots$ & $\\dots$ & $\\dots$ &  \\\\\n",
       "\\end{tabular}\n"
      ],
      "text/plain": [
       "400×9 DataFrame. Omitted printing of 4 columns\n",
       "│ Row │ Serial No. │ GRE Score │ TOEFL Score │ University Rating │ SOP     │\n",
       "│     │ \u001b[90mInt64\u001b[39m      │ \u001b[90mInt64\u001b[39m     │ \u001b[90mInt64\u001b[39m       │ \u001b[90mInt64\u001b[39m             │ \u001b[90mFloat64\u001b[39m │\n",
       "├─────┼────────────┼───────────┼─────────────┼───────────────────┼─────────┤\n",
       "│ 1   │ 1          │ 337       │ 118         │ 4                 │ 4.5     │\n",
       "│ 2   │ 2          │ 324       │ 107         │ 4                 │ 4.0     │\n",
       "│ 3   │ 3          │ 316       │ 104         │ 3                 │ 3.0     │\n",
       "│ 4   │ 4          │ 322       │ 110         │ 3                 │ 3.5     │\n",
       "│ 5   │ 5          │ 314       │ 103         │ 2                 │ 2.0     │\n",
       "│ 6   │ 6          │ 330       │ 115         │ 5                 │ 4.5     │\n",
       "│ 7   │ 7          │ 321       │ 109         │ 3                 │ 3.0     │\n",
       "│ 8   │ 8          │ 308       │ 101         │ 2                 │ 3.0     │\n",
       "│ 9   │ 9          │ 302       │ 102         │ 1                 │ 2.0     │\n",
       "│ 10  │ 10         │ 323       │ 108         │ 3                 │ 3.5     │\n",
       "⋮\n",
       "│ 390 │ 390        │ 320       │ 108         │ 3                 │ 3.5     │\n",
       "│ 391 │ 391        │ 314       │ 102         │ 2                 │ 2.0     │\n",
       "│ 392 │ 392        │ 318       │ 106         │ 3                 │ 2.0     │\n",
       "│ 393 │ 393        │ 326       │ 112         │ 4                 │ 4.0     │\n",
       "│ 394 │ 394        │ 317       │ 104         │ 2                 │ 3.0     │\n",
       "│ 395 │ 395        │ 329       │ 111         │ 4                 │ 4.5     │\n",
       "│ 396 │ 396        │ 324       │ 110         │ 3                 │ 3.5     │\n",
       "│ 397 │ 397        │ 325       │ 107         │ 3                 │ 3.0     │\n",
       "│ 398 │ 398        │ 330       │ 116         │ 4                 │ 5.0     │\n",
       "│ 399 │ 399        │ 312       │ 103         │ 3                 │ 3.5     │\n",
       "│ 400 │ 400        │ 333       │ 117         │ 4                 │ 5.0     │"
      ]
     },
     "execution_count": 59,
     "metadata": {},
     "output_type": "execute_result"
    }
   ],
   "source": [
    "df = CSV.read(\"Admission_Predict.csv\")"
   ]
  },
  {
   "cell_type": "code",
   "execution_count": 60,
   "metadata": {},
   "outputs": [
    {
     "data": {
      "text/html": [
       "<table class=\"data-frame\"><thead><tr><th></th><th>Serial No.</th><th>GRE Score</th><th>TOEFL Score</th><th>University Rating</th><th>SOP</th><th>LOR </th><th>CGPA</th></tr><tr><th></th><th>Int64</th><th>Int64</th><th>Int64</th><th>Int64</th><th>Float64</th><th>Float64</th><th>Float64</th></tr></thead><tbody><p>500 rows × 9 columns (omitted printing of 2 columns)</p><tr><th>1</th><td>1</td><td>337</td><td>118</td><td>4</td><td>4.5</td><td>4.5</td><td>9.65</td></tr><tr><th>2</th><td>2</td><td>324</td><td>107</td><td>4</td><td>4.0</td><td>4.5</td><td>8.87</td></tr><tr><th>3</th><td>3</td><td>316</td><td>104</td><td>3</td><td>3.0</td><td>3.5</td><td>8.0</td></tr><tr><th>4</th><td>4</td><td>322</td><td>110</td><td>3</td><td>3.5</td><td>2.5</td><td>8.67</td></tr><tr><th>5</th><td>5</td><td>314</td><td>103</td><td>2</td><td>2.0</td><td>3.0</td><td>8.21</td></tr><tr><th>6</th><td>6</td><td>330</td><td>115</td><td>5</td><td>4.5</td><td>3.0</td><td>9.34</td></tr><tr><th>7</th><td>7</td><td>321</td><td>109</td><td>3</td><td>3.0</td><td>4.0</td><td>8.2</td></tr><tr><th>8</th><td>8</td><td>308</td><td>101</td><td>2</td><td>3.0</td><td>4.0</td><td>7.9</td></tr><tr><th>9</th><td>9</td><td>302</td><td>102</td><td>1</td><td>2.0</td><td>1.5</td><td>8.0</td></tr><tr><th>10</th><td>10</td><td>323</td><td>108</td><td>3</td><td>3.5</td><td>3.0</td><td>8.6</td></tr><tr><th>11</th><td>11</td><td>325</td><td>106</td><td>3</td><td>3.5</td><td>4.0</td><td>8.4</td></tr><tr><th>12</th><td>12</td><td>327</td><td>111</td><td>4</td><td>4.0</td><td>4.5</td><td>9.0</td></tr><tr><th>13</th><td>13</td><td>328</td><td>112</td><td>4</td><td>4.0</td><td>4.5</td><td>9.1</td></tr><tr><th>14</th><td>14</td><td>307</td><td>109</td><td>3</td><td>4.0</td><td>3.0</td><td>8.0</td></tr><tr><th>15</th><td>15</td><td>311</td><td>104</td><td>3</td><td>3.5</td><td>2.0</td><td>8.2</td></tr><tr><th>16</th><td>16</td><td>314</td><td>105</td><td>3</td><td>3.5</td><td>2.5</td><td>8.3</td></tr><tr><th>17</th><td>17</td><td>317</td><td>107</td><td>3</td><td>4.0</td><td>3.0</td><td>8.7</td></tr><tr><th>18</th><td>18</td><td>319</td><td>106</td><td>3</td><td>4.0</td><td>3.0</td><td>8.0</td></tr><tr><th>19</th><td>19</td><td>318</td><td>110</td><td>3</td><td>4.0</td><td>3.0</td><td>8.8</td></tr><tr><th>20</th><td>20</td><td>303</td><td>102</td><td>3</td><td>3.5</td><td>3.0</td><td>8.5</td></tr><tr><th>21</th><td>21</td><td>312</td><td>107</td><td>3</td><td>3.0</td><td>2.0</td><td>7.9</td></tr><tr><th>22</th><td>22</td><td>325</td><td>114</td><td>4</td><td>3.0</td><td>2.0</td><td>8.4</td></tr><tr><th>23</th><td>23</td><td>328</td><td>116</td><td>5</td><td>5.0</td><td>5.0</td><td>9.5</td></tr><tr><th>24</th><td>24</td><td>334</td><td>119</td><td>5</td><td>5.0</td><td>4.5</td><td>9.7</td></tr><tr><th>25</th><td>25</td><td>336</td><td>119</td><td>5</td><td>4.0</td><td>3.5</td><td>9.8</td></tr><tr><th>26</th><td>26</td><td>340</td><td>120</td><td>5</td><td>4.5</td><td>4.5</td><td>9.6</td></tr><tr><th>27</th><td>27</td><td>322</td><td>109</td><td>5</td><td>4.5</td><td>3.5</td><td>8.8</td></tr><tr><th>28</th><td>28</td><td>298</td><td>98</td><td>2</td><td>1.5</td><td>2.5</td><td>7.5</td></tr><tr><th>29</th><td>29</td><td>295</td><td>93</td><td>1</td><td>2.0</td><td>2.0</td><td>7.2</td></tr><tr><th>30</th><td>30</td><td>310</td><td>99</td><td>2</td><td>1.5</td><td>2.0</td><td>7.3</td></tr><tr><th>&vellip;</th><td>&vellip;</td><td>&vellip;</td><td>&vellip;</td><td>&vellip;</td><td>&vellip;</td><td>&vellip;</td><td>&vellip;</td></tr></tbody></table>"
      ],
      "text/latex": [
       "\\begin{tabular}{r|cccccccc}\n",
       "\t& Serial No. & GRE Score & TOEFL Score & University Rating & SOP & LOR  & CGPA & \\\\\n",
       "\t\\hline\n",
       "\t& Int64 & Int64 & Int64 & Int64 & Float64 & Float64 & Float64 & \\\\\n",
       "\t\\hline\n",
       "\t1 & 1 & 337 & 118 & 4 & 4.5 & 4.5 & 9.65 & $\\dots$ \\\\\n",
       "\t2 & 2 & 324 & 107 & 4 & 4.0 & 4.5 & 8.87 & $\\dots$ \\\\\n",
       "\t3 & 3 & 316 & 104 & 3 & 3.0 & 3.5 & 8.0 & $\\dots$ \\\\\n",
       "\t4 & 4 & 322 & 110 & 3 & 3.5 & 2.5 & 8.67 & $\\dots$ \\\\\n",
       "\t5 & 5 & 314 & 103 & 2 & 2.0 & 3.0 & 8.21 & $\\dots$ \\\\\n",
       "\t6 & 6 & 330 & 115 & 5 & 4.5 & 3.0 & 9.34 & $\\dots$ \\\\\n",
       "\t7 & 7 & 321 & 109 & 3 & 3.0 & 4.0 & 8.2 & $\\dots$ \\\\\n",
       "\t8 & 8 & 308 & 101 & 2 & 3.0 & 4.0 & 7.9 & $\\dots$ \\\\\n",
       "\t9 & 9 & 302 & 102 & 1 & 2.0 & 1.5 & 8.0 & $\\dots$ \\\\\n",
       "\t10 & 10 & 323 & 108 & 3 & 3.5 & 3.0 & 8.6 & $\\dots$ \\\\\n",
       "\t11 & 11 & 325 & 106 & 3 & 3.5 & 4.0 & 8.4 & $\\dots$ \\\\\n",
       "\t12 & 12 & 327 & 111 & 4 & 4.0 & 4.5 & 9.0 & $\\dots$ \\\\\n",
       "\t13 & 13 & 328 & 112 & 4 & 4.0 & 4.5 & 9.1 & $\\dots$ \\\\\n",
       "\t14 & 14 & 307 & 109 & 3 & 4.0 & 3.0 & 8.0 & $\\dots$ \\\\\n",
       "\t15 & 15 & 311 & 104 & 3 & 3.5 & 2.0 & 8.2 & $\\dots$ \\\\\n",
       "\t16 & 16 & 314 & 105 & 3 & 3.5 & 2.5 & 8.3 & $\\dots$ \\\\\n",
       "\t17 & 17 & 317 & 107 & 3 & 4.0 & 3.0 & 8.7 & $\\dots$ \\\\\n",
       "\t18 & 18 & 319 & 106 & 3 & 4.0 & 3.0 & 8.0 & $\\dots$ \\\\\n",
       "\t19 & 19 & 318 & 110 & 3 & 4.0 & 3.0 & 8.8 & $\\dots$ \\\\\n",
       "\t20 & 20 & 303 & 102 & 3 & 3.5 & 3.0 & 8.5 & $\\dots$ \\\\\n",
       "\t21 & 21 & 312 & 107 & 3 & 3.0 & 2.0 & 7.9 & $\\dots$ \\\\\n",
       "\t22 & 22 & 325 & 114 & 4 & 3.0 & 2.0 & 8.4 & $\\dots$ \\\\\n",
       "\t23 & 23 & 328 & 116 & 5 & 5.0 & 5.0 & 9.5 & $\\dots$ \\\\\n",
       "\t24 & 24 & 334 & 119 & 5 & 5.0 & 4.5 & 9.7 & $\\dots$ \\\\\n",
       "\t25 & 25 & 336 & 119 & 5 & 4.0 & 3.5 & 9.8 & $\\dots$ \\\\\n",
       "\t26 & 26 & 340 & 120 & 5 & 4.5 & 4.5 & 9.6 & $\\dots$ \\\\\n",
       "\t27 & 27 & 322 & 109 & 5 & 4.5 & 3.5 & 8.8 & $\\dots$ \\\\\n",
       "\t28 & 28 & 298 & 98 & 2 & 1.5 & 2.5 & 7.5 & $\\dots$ \\\\\n",
       "\t29 & 29 & 295 & 93 & 1 & 2.0 & 2.0 & 7.2 & $\\dots$ \\\\\n",
       "\t30 & 30 & 310 & 99 & 2 & 1.5 & 2.0 & 7.3 & $\\dots$ \\\\\n",
       "\t$\\dots$ & $\\dots$ & $\\dots$ & $\\dots$ & $\\dots$ & $\\dots$ & $\\dots$ & $\\dots$ &  \\\\\n",
       "\\end{tabular}\n"
      ],
      "text/plain": [
       "500×9 DataFrame. Omitted printing of 4 columns\n",
       "│ Row │ Serial No. │ GRE Score │ TOEFL Score │ University Rating │ SOP     │\n",
       "│     │ \u001b[90mInt64\u001b[39m      │ \u001b[90mInt64\u001b[39m     │ \u001b[90mInt64\u001b[39m       │ \u001b[90mInt64\u001b[39m             │ \u001b[90mFloat64\u001b[39m │\n",
       "├─────┼────────────┼───────────┼─────────────┼───────────────────┼─────────┤\n",
       "│ 1   │ 1          │ 337       │ 118         │ 4                 │ 4.5     │\n",
       "│ 2   │ 2          │ 324       │ 107         │ 4                 │ 4.0     │\n",
       "│ 3   │ 3          │ 316       │ 104         │ 3                 │ 3.0     │\n",
       "│ 4   │ 4          │ 322       │ 110         │ 3                 │ 3.5     │\n",
       "│ 5   │ 5          │ 314       │ 103         │ 2                 │ 2.0     │\n",
       "│ 6   │ 6          │ 330       │ 115         │ 5                 │ 4.5     │\n",
       "│ 7   │ 7          │ 321       │ 109         │ 3                 │ 3.0     │\n",
       "│ 8   │ 8          │ 308       │ 101         │ 2                 │ 3.0     │\n",
       "│ 9   │ 9          │ 302       │ 102         │ 1                 │ 2.0     │\n",
       "│ 10  │ 10         │ 323       │ 108         │ 3                 │ 3.5     │\n",
       "⋮\n",
       "│ 490 │ 490        │ 302       │ 110         │ 3                 │ 4.0     │\n",
       "│ 491 │ 491        │ 307       │ 105         │ 2                 │ 2.5     │\n",
       "│ 492 │ 492        │ 297       │ 99          │ 4                 │ 3.0     │\n",
       "│ 493 │ 493        │ 298       │ 101         │ 4                 │ 2.5     │\n",
       "│ 494 │ 494        │ 300       │ 95          │ 2                 │ 3.0     │\n",
       "│ 495 │ 495        │ 301       │ 99          │ 3                 │ 2.5     │\n",
       "│ 496 │ 496        │ 332       │ 108         │ 5                 │ 4.5     │\n",
       "│ 497 │ 497        │ 337       │ 117         │ 5                 │ 5.0     │\n",
       "│ 498 │ 498        │ 330       │ 120         │ 5                 │ 4.5     │\n",
       "│ 499 │ 499        │ 312       │ 103         │ 4                 │ 4.0     │\n",
       "│ 500 │ 500        │ 327       │ 113         │ 4                 │ 4.5     │"
      ]
     },
     "execution_count": 60,
     "metadata": {},
     "output_type": "execute_result"
    }
   ],
   "source": [
    "df2 = CSV.read(\"Admission_Predict_Ver1.1.csv\")"
   ]
  },
  {
   "cell_type": "code",
   "execution_count": 61,
   "metadata": {},
   "outputs": [
    {
     "data": {
      "text/html": [
       "<table class=\"data-frame\"><thead><tr><th></th><th>Serial No.</th><th>GRE Score</th><th>TOEFL Score</th><th>University Rating</th><th>SOP</th><th>LOR </th><th>CGPA</th></tr><tr><th></th><th>Int64</th><th>Int64</th><th>Int64</th><th>Int64</th><th>Float64</th><th>Float64</th><th>Float64</th></tr></thead><tbody><p>5 rows × 9 columns (omitted printing of 2 columns)</p><tr><th>1</th><td>1</td><td>337</td><td>118</td><td>4</td><td>4.5</td><td>4.5</td><td>9.65</td></tr><tr><th>2</th><td>2</td><td>324</td><td>107</td><td>4</td><td>4.0</td><td>4.5</td><td>8.87</td></tr><tr><th>3</th><td>3</td><td>316</td><td>104</td><td>3</td><td>3.0</td><td>3.5</td><td>8.0</td></tr><tr><th>4</th><td>4</td><td>322</td><td>110</td><td>3</td><td>3.5</td><td>2.5</td><td>8.67</td></tr><tr><th>5</th><td>5</td><td>314</td><td>103</td><td>2</td><td>2.0</td><td>3.0</td><td>8.21</td></tr></tbody></table>"
      ],
      "text/latex": [
       "\\begin{tabular}{r|cccccccc}\n",
       "\t& Serial No. & GRE Score & TOEFL Score & University Rating & SOP & LOR  & CGPA & \\\\\n",
       "\t\\hline\n",
       "\t& Int64 & Int64 & Int64 & Int64 & Float64 & Float64 & Float64 & \\\\\n",
       "\t\\hline\n",
       "\t1 & 1 & 337 & 118 & 4 & 4.5 & 4.5 & 9.65 & $\\dots$ \\\\\n",
       "\t2 & 2 & 324 & 107 & 4 & 4.0 & 4.5 & 8.87 & $\\dots$ \\\\\n",
       "\t3 & 3 & 316 & 104 & 3 & 3.0 & 3.5 & 8.0 & $\\dots$ \\\\\n",
       "\t4 & 4 & 322 & 110 & 3 & 3.5 & 2.5 & 8.67 & $\\dots$ \\\\\n",
       "\t5 & 5 & 314 & 103 & 2 & 2.0 & 3.0 & 8.21 & $\\dots$ \\\\\n",
       "\\end{tabular}\n"
      ],
      "text/plain": [
       "5×9 DataFrame. Omitted printing of 4 columns\n",
       "│ Row │ Serial No. │ GRE Score │ TOEFL Score │ University Rating │ SOP     │\n",
       "│     │ \u001b[90mInt64\u001b[39m      │ \u001b[90mInt64\u001b[39m     │ \u001b[90mInt64\u001b[39m       │ \u001b[90mInt64\u001b[39m             │ \u001b[90mFloat64\u001b[39m │\n",
       "├─────┼────────────┼───────────┼─────────────┼───────────────────┼─────────┤\n",
       "│ 1   │ 1          │ 337       │ 118         │ 4                 │ 4.5     │\n",
       "│ 2   │ 2          │ 324       │ 107         │ 4                 │ 4.0     │\n",
       "│ 3   │ 3          │ 316       │ 104         │ 3                 │ 3.0     │\n",
       "│ 4   │ 4          │ 322       │ 110         │ 3                 │ 3.5     │\n",
       "│ 5   │ 5          │ 314       │ 103         │ 2                 │ 2.0     │"
      ]
     },
     "execution_count": 61,
     "metadata": {},
     "output_type": "execute_result"
    }
   ],
   "source": [
    "first(df,5)"
   ]
  },
  {
   "cell_type": "code",
   "execution_count": 62,
   "metadata": {},
   "outputs": [
    {
     "data": {
      "text/html": [
       "<table class=\"data-frame\"><thead><tr><th></th><th>Serial No.</th><th>GRE Score</th><th>TOEFL Score</th><th>University Rating</th><th>SOP</th><th>LOR </th><th>CGPA</th></tr><tr><th></th><th>Int64</th><th>Int64</th><th>Int64</th><th>Int64</th><th>Float64</th><th>Float64</th><th>Float64</th></tr></thead><tbody><p>5 rows × 9 columns (omitted printing of 2 columns)</p><tr><th>1</th><td>396</td><td>324</td><td>110</td><td>3</td><td>3.5</td><td>3.5</td><td>9.04</td></tr><tr><th>2</th><td>397</td><td>325</td><td>107</td><td>3</td><td>3.0</td><td>3.5</td><td>9.11</td></tr><tr><th>3</th><td>398</td><td>330</td><td>116</td><td>4</td><td>5.0</td><td>4.5</td><td>9.45</td></tr><tr><th>4</th><td>399</td><td>312</td><td>103</td><td>3</td><td>3.5</td><td>4.0</td><td>8.78</td></tr><tr><th>5</th><td>400</td><td>333</td><td>117</td><td>4</td><td>5.0</td><td>4.0</td><td>9.66</td></tr></tbody></table>"
      ],
      "text/latex": [
       "\\begin{tabular}{r|cccccccc}\n",
       "\t& Serial No. & GRE Score & TOEFL Score & University Rating & SOP & LOR  & CGPA & \\\\\n",
       "\t\\hline\n",
       "\t& Int64 & Int64 & Int64 & Int64 & Float64 & Float64 & Float64 & \\\\\n",
       "\t\\hline\n",
       "\t1 & 396 & 324 & 110 & 3 & 3.5 & 3.5 & 9.04 & $\\dots$ \\\\\n",
       "\t2 & 397 & 325 & 107 & 3 & 3.0 & 3.5 & 9.11 & $\\dots$ \\\\\n",
       "\t3 & 398 & 330 & 116 & 4 & 5.0 & 4.5 & 9.45 & $\\dots$ \\\\\n",
       "\t4 & 399 & 312 & 103 & 3 & 3.5 & 4.0 & 8.78 & $\\dots$ \\\\\n",
       "\t5 & 400 & 333 & 117 & 4 & 5.0 & 4.0 & 9.66 & $\\dots$ \\\\\n",
       "\\end{tabular}\n"
      ],
      "text/plain": [
       "5×9 DataFrame. Omitted printing of 4 columns\n",
       "│ Row │ Serial No. │ GRE Score │ TOEFL Score │ University Rating │ SOP     │\n",
       "│     │ \u001b[90mInt64\u001b[39m      │ \u001b[90mInt64\u001b[39m     │ \u001b[90mInt64\u001b[39m       │ \u001b[90mInt64\u001b[39m             │ \u001b[90mFloat64\u001b[39m │\n",
       "├─────┼────────────┼───────────┼─────────────┼───────────────────┼─────────┤\n",
       "│ 1   │ 396        │ 324       │ 110         │ 3                 │ 3.5     │\n",
       "│ 2   │ 397        │ 325       │ 107         │ 3                 │ 3.0     │\n",
       "│ 3   │ 398        │ 330       │ 116         │ 4                 │ 5.0     │\n",
       "│ 4   │ 399        │ 312       │ 103         │ 3                 │ 3.5     │\n",
       "│ 5   │ 400        │ 333       │ 117         │ 4                 │ 5.0     │"
      ]
     },
     "execution_count": 62,
     "metadata": {},
     "output_type": "execute_result"
    }
   ],
   "source": [
    "last(df,5)"
   ]
  },
  {
   "cell_type": "code",
   "execution_count": 63,
   "metadata": {},
   "outputs": [
    {
     "data": {
      "text/html": [
       "<table class=\"data-frame\"><thead><tr><th></th><th>variable</th><th>mean</th><th>min</th><th>median</th><th>max</th><th>nunique</th><th>nmissing</th><th>eltype</th></tr><tr><th></th><th>Symbol</th><th>Float64</th><th>Real</th><th>Float64</th><th>Real</th><th>Nothing</th><th>Nothing</th><th>DataType</th></tr></thead><tbody><p>9 rows × 8 columns</p><tr><th>1</th><td>Serial No.</td><td>200.5</td><td>1</td><td>200.5</td><td>400</td><td></td><td></td><td>Int64</td></tr><tr><th>2</th><td>GRE Score</td><td>316.808</td><td>290</td><td>317.0</td><td>340</td><td></td><td></td><td>Int64</td></tr><tr><th>3</th><td>TOEFL Score</td><td>107.41</td><td>92</td><td>107.0</td><td>120</td><td></td><td></td><td>Int64</td></tr><tr><th>4</th><td>University Rating</td><td>3.0875</td><td>1</td><td>3.0</td><td>5</td><td></td><td></td><td>Int64</td></tr><tr><th>5</th><td>SOP</td><td>3.4</td><td>1.0</td><td>3.5</td><td>5.0</td><td></td><td></td><td>Float64</td></tr><tr><th>6</th><td>LOR </td><td>3.4525</td><td>1.0</td><td>3.5</td><td>5.0</td><td></td><td></td><td>Float64</td></tr><tr><th>7</th><td>CGPA</td><td>8.59893</td><td>6.8</td><td>8.61</td><td>9.92</td><td></td><td></td><td>Float64</td></tr><tr><th>8</th><td>Research</td><td>0.5475</td><td>0</td><td>1.0</td><td>1</td><td></td><td></td><td>Int64</td></tr><tr><th>9</th><td>Chance of Admit </td><td>0.72435</td><td>0.34</td><td>0.73</td><td>0.97</td><td></td><td></td><td>Float64</td></tr></tbody></table>"
      ],
      "text/latex": [
       "\\begin{tabular}{r|cccccccc}\n",
       "\t& variable & mean & min & median & max & nunique & nmissing & eltype\\\\\n",
       "\t\\hline\n",
       "\t& Symbol & Float64 & Real & Float64 & Real & Nothing & Nothing & DataType\\\\\n",
       "\t\\hline\n",
       "\t1 & Serial No. & 200.5 & 1 & 200.5 & 400 &  &  & Int64 \\\\\n",
       "\t2 & GRE Score & 316.808 & 290 & 317.0 & 340 &  &  & Int64 \\\\\n",
       "\t3 & TOEFL Score & 107.41 & 92 & 107.0 & 120 &  &  & Int64 \\\\\n",
       "\t4 & University Rating & 3.0875 & 1 & 3.0 & 5 &  &  & Int64 \\\\\n",
       "\t5 & SOP & 3.4 & 1.0 & 3.5 & 5.0 &  &  & Float64 \\\\\n",
       "\t6 & LOR  & 3.4525 & 1.0 & 3.5 & 5.0 &  &  & Float64 \\\\\n",
       "\t7 & CGPA & 8.59893 & 6.8 & 8.61 & 9.92 &  &  & Float64 \\\\\n",
       "\t8 & Research & 0.5475 & 0 & 1.0 & 1 &  &  & Int64 \\\\\n",
       "\t9 & Chance of Admit  & 0.72435 & 0.34 & 0.73 & 0.97 &  &  & Float64 \\\\\n",
       "\\end{tabular}\n"
      ],
      "text/plain": [
       "9×8 DataFrame. Omitted printing of 2 columns\n",
       "│ Row │ variable          │ mean    │ min  │ median  │ max  │ nunique │\n",
       "│     │ \u001b[90mSymbol\u001b[39m            │ \u001b[90mFloat64\u001b[39m │ \u001b[90mReal\u001b[39m │ \u001b[90mFloat64\u001b[39m │ \u001b[90mReal\u001b[39m │ \u001b[90mNothing\u001b[39m │\n",
       "├─────┼───────────────────┼─────────┼──────┼─────────┼──────┼─────────┤\n",
       "│ 1   │ Serial No.        │ 200.5   │ 1    │ 200.5   │ 400  │         │\n",
       "│ 2   │ GRE Score         │ 316.808 │ 290  │ 317.0   │ 340  │         │\n",
       "│ 3   │ TOEFL Score       │ 107.41  │ 92   │ 107.0   │ 120  │         │\n",
       "│ 4   │ University Rating │ 3.0875  │ 1    │ 3.0     │ 5    │         │\n",
       "│ 5   │ SOP               │ 3.4     │ 1.0  │ 3.5     │ 5.0  │         │\n",
       "│ 6   │ LOR               │ 3.4525  │ 1.0  │ 3.5     │ 5.0  │         │\n",
       "│ 7   │ CGPA              │ 8.59893 │ 6.8  │ 8.61    │ 9.92 │         │\n",
       "│ 8   │ Research          │ 0.5475  │ 0    │ 1.0     │ 1    │         │\n",
       "│ 9   │ Chance of Admit   │ 0.72435 │ 0.34 │ 0.73    │ 0.97 │         │"
      ]
     },
     "execution_count": 63,
     "metadata": {},
     "output_type": "execute_result"
    }
   ],
   "source": [
    "describe(df)"
   ]
  },
  {
   "cell_type": "code",
   "execution_count": 64,
   "metadata": {},
   "outputs": [
    {
     "data": {
      "text/plain": [
       "(400, 9)"
      ]
     },
     "execution_count": 64,
     "metadata": {},
     "output_type": "execute_result"
    }
   ],
   "source": [
    "size(df)"
   ]
  },
  {
   "cell_type": "code",
   "execution_count": 65,
   "metadata": {},
   "outputs": [
    {
     "data": {
      "text/plain": [
       "(500, 9)"
      ]
     },
     "execution_count": 65,
     "metadata": {},
     "output_type": "execute_result"
    }
   ],
   "source": [
    "size(df2)"
   ]
  },
  {
   "cell_type": "code",
   "execution_count": 66,
   "metadata": {},
   "outputs": [
    {
     "data": {
      "text/html": [
       "<table class=\"data-frame\"><thead><tr><th></th><th>Serial No.</th><th>GRE Score</th><th>TOEFL Score</th><th>University Rating</th><th>SOP</th><th>LOR </th><th>CGPA</th></tr><tr><th></th><th>Int64</th><th>Int64</th><th>Int64</th><th>Int64</th><th>Float64</th><th>Float64</th><th>Float64</th></tr></thead><tbody><p>900 rows × 9 columns (omitted printing of 2 columns)</p><tr><th>1</th><td>1</td><td>337</td><td>118</td><td>4</td><td>4.5</td><td>4.5</td><td>9.65</td></tr><tr><th>2</th><td>2</td><td>324</td><td>107</td><td>4</td><td>4.0</td><td>4.5</td><td>8.87</td></tr><tr><th>3</th><td>3</td><td>316</td><td>104</td><td>3</td><td>3.0</td><td>3.5</td><td>8.0</td></tr><tr><th>4</th><td>4</td><td>322</td><td>110</td><td>3</td><td>3.5</td><td>2.5</td><td>8.67</td></tr><tr><th>5</th><td>5</td><td>314</td><td>103</td><td>2</td><td>2.0</td><td>3.0</td><td>8.21</td></tr><tr><th>6</th><td>6</td><td>330</td><td>115</td><td>5</td><td>4.5</td><td>3.0</td><td>9.34</td></tr><tr><th>7</th><td>7</td><td>321</td><td>109</td><td>3</td><td>3.0</td><td>4.0</td><td>8.2</td></tr><tr><th>8</th><td>8</td><td>308</td><td>101</td><td>2</td><td>3.0</td><td>4.0</td><td>7.9</td></tr><tr><th>9</th><td>9</td><td>302</td><td>102</td><td>1</td><td>2.0</td><td>1.5</td><td>8.0</td></tr><tr><th>10</th><td>10</td><td>323</td><td>108</td><td>3</td><td>3.5</td><td>3.0</td><td>8.6</td></tr><tr><th>11</th><td>11</td><td>325</td><td>106</td><td>3</td><td>3.5</td><td>4.0</td><td>8.4</td></tr><tr><th>12</th><td>12</td><td>327</td><td>111</td><td>4</td><td>4.0</td><td>4.5</td><td>9.0</td></tr><tr><th>13</th><td>13</td><td>328</td><td>112</td><td>4</td><td>4.0</td><td>4.5</td><td>9.1</td></tr><tr><th>14</th><td>14</td><td>307</td><td>109</td><td>3</td><td>4.0</td><td>3.0</td><td>8.0</td></tr><tr><th>15</th><td>15</td><td>311</td><td>104</td><td>3</td><td>3.5</td><td>2.0</td><td>8.2</td></tr><tr><th>16</th><td>16</td><td>314</td><td>105</td><td>3</td><td>3.5</td><td>2.5</td><td>8.3</td></tr><tr><th>17</th><td>17</td><td>317</td><td>107</td><td>3</td><td>4.0</td><td>3.0</td><td>8.7</td></tr><tr><th>18</th><td>18</td><td>319</td><td>106</td><td>3</td><td>4.0</td><td>3.0</td><td>8.0</td></tr><tr><th>19</th><td>19</td><td>318</td><td>110</td><td>3</td><td>4.0</td><td>3.0</td><td>8.8</td></tr><tr><th>20</th><td>20</td><td>303</td><td>102</td><td>3</td><td>3.5</td><td>3.0</td><td>8.5</td></tr><tr><th>21</th><td>21</td><td>312</td><td>107</td><td>3</td><td>3.0</td><td>2.0</td><td>7.9</td></tr><tr><th>22</th><td>22</td><td>325</td><td>114</td><td>4</td><td>3.0</td><td>2.0</td><td>8.4</td></tr><tr><th>23</th><td>23</td><td>328</td><td>116</td><td>5</td><td>5.0</td><td>5.0</td><td>9.5</td></tr><tr><th>24</th><td>24</td><td>334</td><td>119</td><td>5</td><td>5.0</td><td>4.5</td><td>9.7</td></tr><tr><th>25</th><td>25</td><td>336</td><td>119</td><td>5</td><td>4.0</td><td>3.5</td><td>9.8</td></tr><tr><th>26</th><td>26</td><td>340</td><td>120</td><td>5</td><td>4.5</td><td>4.5</td><td>9.6</td></tr><tr><th>27</th><td>27</td><td>322</td><td>109</td><td>5</td><td>4.5</td><td>3.5</td><td>8.8</td></tr><tr><th>28</th><td>28</td><td>298</td><td>98</td><td>2</td><td>1.5</td><td>2.5</td><td>7.5</td></tr><tr><th>29</th><td>29</td><td>295</td><td>93</td><td>1</td><td>2.0</td><td>2.0</td><td>7.2</td></tr><tr><th>30</th><td>30</td><td>310</td><td>99</td><td>2</td><td>1.5</td><td>2.0</td><td>7.3</td></tr><tr><th>&vellip;</th><td>&vellip;</td><td>&vellip;</td><td>&vellip;</td><td>&vellip;</td><td>&vellip;</td><td>&vellip;</td><td>&vellip;</td></tr></tbody></table>"
      ],
      "text/latex": [
       "\\begin{tabular}{r|cccccccc}\n",
       "\t& Serial No. & GRE Score & TOEFL Score & University Rating & SOP & LOR  & CGPA & \\\\\n",
       "\t\\hline\n",
       "\t& Int64 & Int64 & Int64 & Int64 & Float64 & Float64 & Float64 & \\\\\n",
       "\t\\hline\n",
       "\t1 & 1 & 337 & 118 & 4 & 4.5 & 4.5 & 9.65 & $\\dots$ \\\\\n",
       "\t2 & 2 & 324 & 107 & 4 & 4.0 & 4.5 & 8.87 & $\\dots$ \\\\\n",
       "\t3 & 3 & 316 & 104 & 3 & 3.0 & 3.5 & 8.0 & $\\dots$ \\\\\n",
       "\t4 & 4 & 322 & 110 & 3 & 3.5 & 2.5 & 8.67 & $\\dots$ \\\\\n",
       "\t5 & 5 & 314 & 103 & 2 & 2.0 & 3.0 & 8.21 & $\\dots$ \\\\\n",
       "\t6 & 6 & 330 & 115 & 5 & 4.5 & 3.0 & 9.34 & $\\dots$ \\\\\n",
       "\t7 & 7 & 321 & 109 & 3 & 3.0 & 4.0 & 8.2 & $\\dots$ \\\\\n",
       "\t8 & 8 & 308 & 101 & 2 & 3.0 & 4.0 & 7.9 & $\\dots$ \\\\\n",
       "\t9 & 9 & 302 & 102 & 1 & 2.0 & 1.5 & 8.0 & $\\dots$ \\\\\n",
       "\t10 & 10 & 323 & 108 & 3 & 3.5 & 3.0 & 8.6 & $\\dots$ \\\\\n",
       "\t11 & 11 & 325 & 106 & 3 & 3.5 & 4.0 & 8.4 & $\\dots$ \\\\\n",
       "\t12 & 12 & 327 & 111 & 4 & 4.0 & 4.5 & 9.0 & $\\dots$ \\\\\n",
       "\t13 & 13 & 328 & 112 & 4 & 4.0 & 4.5 & 9.1 & $\\dots$ \\\\\n",
       "\t14 & 14 & 307 & 109 & 3 & 4.0 & 3.0 & 8.0 & $\\dots$ \\\\\n",
       "\t15 & 15 & 311 & 104 & 3 & 3.5 & 2.0 & 8.2 & $\\dots$ \\\\\n",
       "\t16 & 16 & 314 & 105 & 3 & 3.5 & 2.5 & 8.3 & $\\dots$ \\\\\n",
       "\t17 & 17 & 317 & 107 & 3 & 4.0 & 3.0 & 8.7 & $\\dots$ \\\\\n",
       "\t18 & 18 & 319 & 106 & 3 & 4.0 & 3.0 & 8.0 & $\\dots$ \\\\\n",
       "\t19 & 19 & 318 & 110 & 3 & 4.0 & 3.0 & 8.8 & $\\dots$ \\\\\n",
       "\t20 & 20 & 303 & 102 & 3 & 3.5 & 3.0 & 8.5 & $\\dots$ \\\\\n",
       "\t21 & 21 & 312 & 107 & 3 & 3.0 & 2.0 & 7.9 & $\\dots$ \\\\\n",
       "\t22 & 22 & 325 & 114 & 4 & 3.0 & 2.0 & 8.4 & $\\dots$ \\\\\n",
       "\t23 & 23 & 328 & 116 & 5 & 5.0 & 5.0 & 9.5 & $\\dots$ \\\\\n",
       "\t24 & 24 & 334 & 119 & 5 & 5.0 & 4.5 & 9.7 & $\\dots$ \\\\\n",
       "\t25 & 25 & 336 & 119 & 5 & 4.0 & 3.5 & 9.8 & $\\dots$ \\\\\n",
       "\t26 & 26 & 340 & 120 & 5 & 4.5 & 4.5 & 9.6 & $\\dots$ \\\\\n",
       "\t27 & 27 & 322 & 109 & 5 & 4.5 & 3.5 & 8.8 & $\\dots$ \\\\\n",
       "\t28 & 28 & 298 & 98 & 2 & 1.5 & 2.5 & 7.5 & $\\dots$ \\\\\n",
       "\t29 & 29 & 295 & 93 & 1 & 2.0 & 2.0 & 7.2 & $\\dots$ \\\\\n",
       "\t30 & 30 & 310 & 99 & 2 & 1.5 & 2.0 & 7.3 & $\\dots$ \\\\\n",
       "\t$\\dots$ & $\\dots$ & $\\dots$ & $\\dots$ & $\\dots$ & $\\dots$ & $\\dots$ & $\\dots$ &  \\\\\n",
       "\\end{tabular}\n"
      ],
      "text/plain": [
       "900×9 DataFrame. Omitted printing of 4 columns\n",
       "│ Row │ Serial No. │ GRE Score │ TOEFL Score │ University Rating │ SOP     │\n",
       "│     │ \u001b[90mInt64\u001b[39m      │ \u001b[90mInt64\u001b[39m     │ \u001b[90mInt64\u001b[39m       │ \u001b[90mInt64\u001b[39m             │ \u001b[90mFloat64\u001b[39m │\n",
       "├─────┼────────────┼───────────┼─────────────┼───────────────────┼─────────┤\n",
       "│ 1   │ 1          │ 337       │ 118         │ 4                 │ 4.5     │\n",
       "│ 2   │ 2          │ 324       │ 107         │ 4                 │ 4.0     │\n",
       "│ 3   │ 3          │ 316       │ 104         │ 3                 │ 3.0     │\n",
       "│ 4   │ 4          │ 322       │ 110         │ 3                 │ 3.5     │\n",
       "│ 5   │ 5          │ 314       │ 103         │ 2                 │ 2.0     │\n",
       "│ 6   │ 6          │ 330       │ 115         │ 5                 │ 4.5     │\n",
       "│ 7   │ 7          │ 321       │ 109         │ 3                 │ 3.0     │\n",
       "│ 8   │ 8          │ 308       │ 101         │ 2                 │ 3.0     │\n",
       "│ 9   │ 9          │ 302       │ 102         │ 1                 │ 2.0     │\n",
       "│ 10  │ 10         │ 323       │ 108         │ 3                 │ 3.5     │\n",
       "⋮\n",
       "│ 890 │ 490        │ 302       │ 110         │ 3                 │ 4.0     │\n",
       "│ 891 │ 491        │ 307       │ 105         │ 2                 │ 2.5     │\n",
       "│ 892 │ 492        │ 297       │ 99          │ 4                 │ 3.0     │\n",
       "│ 893 │ 493        │ 298       │ 101         │ 4                 │ 2.5     │\n",
       "│ 894 │ 494        │ 300       │ 95          │ 2                 │ 3.0     │\n",
       "│ 895 │ 495        │ 301       │ 99          │ 3                 │ 2.5     │\n",
       "│ 896 │ 496        │ 332       │ 108         │ 5                 │ 4.5     │\n",
       "│ 897 │ 497        │ 337       │ 117         │ 5                 │ 5.0     │\n",
       "│ 898 │ 498        │ 330       │ 120         │ 5                 │ 4.5     │\n",
       "│ 899 │ 499        │ 312       │ 103         │ 4                 │ 4.0     │\n",
       "│ 900 │ 500        │ 327       │ 113         │ 4                 │ 4.5     │"
      ]
     },
     "execution_count": 66,
     "metadata": {},
     "output_type": "execute_result"
    }
   ],
   "source": [
    "df = vcat(df,df2)    # to concatenate to dataFrames"
   ]
  },
  {
   "cell_type": "code",
   "execution_count": 67,
   "metadata": {},
   "outputs": [
    {
     "data": {
      "text/html": [
       "<table class=\"data-frame\"><thead><tr><th></th><th>Serial No.</th><th>GRE Score</th><th>TOEFL Score</th><th>University Rating</th><th>SOP</th><th>LOR </th><th>CGPA</th></tr><tr><th></th><th>Int64</th><th>Int64</th><th>Int64</th><th>Int64</th><th>Float64</th><th>Float64</th><th>Float64</th></tr></thead><tbody><p>5 rows × 9 columns (omitted printing of 2 columns)</p><tr><th>1</th><td>1</td><td>337</td><td>118</td><td>4</td><td>4.5</td><td>4.5</td><td>9.65</td></tr><tr><th>2</th><td>2</td><td>324</td><td>107</td><td>4</td><td>4.0</td><td>4.5</td><td>8.87</td></tr><tr><th>3</th><td>3</td><td>316</td><td>104</td><td>3</td><td>3.0</td><td>3.5</td><td>8.0</td></tr><tr><th>4</th><td>4</td><td>322</td><td>110</td><td>3</td><td>3.5</td><td>2.5</td><td>8.67</td></tr><tr><th>5</th><td>5</td><td>314</td><td>103</td><td>2</td><td>2.0</td><td>3.0</td><td>8.21</td></tr></tbody></table>"
      ],
      "text/latex": [
       "\\begin{tabular}{r|cccccccc}\n",
       "\t& Serial No. & GRE Score & TOEFL Score & University Rating & SOP & LOR  & CGPA & \\\\\n",
       "\t\\hline\n",
       "\t& Int64 & Int64 & Int64 & Int64 & Float64 & Float64 & Float64 & \\\\\n",
       "\t\\hline\n",
       "\t1 & 1 & 337 & 118 & 4 & 4.5 & 4.5 & 9.65 & $\\dots$ \\\\\n",
       "\t2 & 2 & 324 & 107 & 4 & 4.0 & 4.5 & 8.87 & $\\dots$ \\\\\n",
       "\t3 & 3 & 316 & 104 & 3 & 3.0 & 3.5 & 8.0 & $\\dots$ \\\\\n",
       "\t4 & 4 & 322 & 110 & 3 & 3.5 & 2.5 & 8.67 & $\\dots$ \\\\\n",
       "\t5 & 5 & 314 & 103 & 2 & 2.0 & 3.0 & 8.21 & $\\dots$ \\\\\n",
       "\\end{tabular}\n"
      ],
      "text/plain": [
       "5×9 DataFrame. Omitted printing of 4 columns\n",
       "│ Row │ Serial No. │ GRE Score │ TOEFL Score │ University Rating │ SOP     │\n",
       "│     │ \u001b[90mInt64\u001b[39m      │ \u001b[90mInt64\u001b[39m     │ \u001b[90mInt64\u001b[39m       │ \u001b[90mInt64\u001b[39m             │ \u001b[90mFloat64\u001b[39m │\n",
       "├─────┼────────────┼───────────┼─────────────┼───────────────────┼─────────┤\n",
       "│ 1   │ 1          │ 337       │ 118         │ 4                 │ 4.5     │\n",
       "│ 2   │ 2          │ 324       │ 107         │ 4                 │ 4.0     │\n",
       "│ 3   │ 3          │ 316       │ 104         │ 3                 │ 3.0     │\n",
       "│ 4   │ 4          │ 322       │ 110         │ 3                 │ 3.5     │\n",
       "│ 5   │ 5          │ 314       │ 103         │ 2                 │ 2.0     │"
      ]
     },
     "execution_count": 67,
     "metadata": {},
     "output_type": "execute_result"
    }
   ],
   "source": [
    "first(df,5)"
   ]
  },
  {
   "cell_type": "code",
   "execution_count": 68,
   "metadata": {},
   "outputs": [
    {
     "data": {
      "text/plain": [
       "(900, 9)"
      ]
     },
     "execution_count": 68,
     "metadata": {},
     "output_type": "execute_result"
    }
   ],
   "source": [
    "size(df)"
   ]
  },
  {
   "cell_type": "code",
   "execution_count": 69,
   "metadata": {},
   "outputs": [
    {
     "name": "stdout",
     "output_type": "stream",
     "text": [
      "9×8 DataFrame\n",
      "│ Row │ variable          │ mean     │ min  │ median  │ max  │ nunique │\n",
      "│     │ \u001b[90mSymbol\u001b[39m            │ \u001b[90mFloat64\u001b[39m  │ \u001b[90mReal\u001b[39m │ \u001b[90mFloat64\u001b[39m │ \u001b[90mReal\u001b[39m │ \u001b[90mNothing\u001b[39m │\n",
      "├─────┼───────────────────┼──────────┼──────┼─────────┼──────┼─────────┤\n",
      "│ 1   │ Serial No.        │ 228.278  │ 1    │ 225.5   │ 500  │         │\n",
      "│ 2   │ GRE Score         │ 316.621  │ 290  │ 317.0   │ 340  │         │\n",
      "│ 3   │ TOEFL Score       │ 107.289  │ 92   │ 107.0   │ 120  │         │\n",
      "│ 4   │ University Rating │ 3.10222  │ 1    │ 3.0     │ 5    │         │\n",
      "│ 5   │ SOP               │ 3.38556  │ 1.0  │ 3.5     │ 5.0  │         │\n",
      "│ 6   │ LOR               │ 3.47     │ 1.0  │ 3.5     │ 5.0  │         │\n",
      "│ 7   │ CGPA              │ 8.58643  │ 6.8  │ 8.57    │ 9.92 │         │\n",
      "│ 8   │ Research          │ 0.554444 │ 0    │ 1.0     │ 1    │         │\n",
      "│ 9   │ Chance of Admit   │ 0.7229   │ 0.34 │ 0.73    │ 0.97 │         │\n",
      "\n",
      "│ Row │ nmissing │ eltype   │\n",
      "│     │ \u001b[90mNothing\u001b[39m  │ \u001b[90mDataType\u001b[39m │\n",
      "├─────┼──────────┼──────────┤\n",
      "│ 1   │          │ Int64    │\n",
      "│ 2   │          │ Int64    │\n",
      "│ 3   │          │ Int64    │\n",
      "│ 4   │          │ Int64    │\n",
      "│ 5   │          │ Float64  │\n",
      "│ 6   │          │ Float64  │\n",
      "│ 7   │          │ Float64  │\n",
      "│ 8   │          │ Int64    │\n",
      "│ 9   │          │ Float64  │"
     ]
    }
   ],
   "source": [
    "showall(describe(df))"
   ]
  },
  {
   "cell_type": "code",
   "execution_count": 70,
   "metadata": {},
   "outputs": [
    {
     "data": {
      "text/plain": [
       "9-element Array{String,1}:\n",
       " \"Serial No.\"\n",
       " \"GRE Score\"\n",
       " \"TOEFL Score\"\n",
       " \"University Rating\"\n",
       " \"SOP\"\n",
       " \"LOR \"\n",
       " \"CGPA\"\n",
       " \"Research\"\n",
       " \"Chance of Admit \""
      ]
     },
     "execution_count": 70,
     "metadata": {},
     "output_type": "execute_result"
    }
   ],
   "source": [
    "names(df)"
   ]
  },
  {
   "cell_type": "code",
   "execution_count": 71,
   "metadata": {},
   "outputs": [
    {
     "name": "stderr",
     "output_type": "stream",
     "text": [
      "┌ Warning: `getindex(df::DataFrame, col_ind::ColumnIndex)` is deprecated, use `df[!, col_ind]` instead.\n",
      "│   caller = top-level scope at In[71]:1\n",
      "└ @ Core In[71]:1\n"
     ]
    },
    {
     "data": {
      "text/plain": [
       "Dict{Int64,Int64} with 5 entries:\n",
       "  4 => 179\n",
       "  2 => 233\n",
       "  3 => 295\n",
       "  5 => 133\n",
       "  1 => 60"
      ]
     },
     "execution_count": 71,
     "metadata": {},
     "output_type": "execute_result"
    }
   ],
   "source": [
    "countmap(df[\"University Rating\"])"
   ]
  },
  {
   "cell_type": "code",
   "execution_count": 72,
   "metadata": {},
   "outputs": [
    {
     "name": "stderr",
     "output_type": "stream",
     "text": [
      "┌ Warning: `getindex(df::DataFrame, col_ind::ColumnIndex)` is deprecated, use `df[!, col_ind]` instead.\n",
      "│   caller = top-level scope at In[72]:1\n",
      "└ @ Core In[72]:1\n"
     ]
    },
    {
     "data": {
      "image/png": "[encoded data removed]"
     },
     "execution_count": 72,
     "metadata": {},
     "output_type": "execute_result"
    }
   ],
   "source": [
    "bar(countmap(df[\"University Rating\"]))"
   ]
  },
  {
   "cell_type": "code",
   "execution_count": 73,
   "metadata": {},
   "outputs": [
    {
     "name": "stderr",
     "output_type": "stream",
     "text": [
      "┌ Warning: `getindex(df::DataFrame, col_ind::ColumnIndex)` is deprecated, use `df[!, col_ind]` instead.\n",
      "│   caller = top-level scope at In[73]:1\n",
      "└ @ Core In[73]:1\n"
     ]
    },
    {
     "data": {
      "image/png": "[encoded data removed]"
     },
     "execution_count": 73,
     "metadata": {},
     "output_type": "execute_result"
    }
   ],
   "source": [
    "bar(countmap(df[\"CGPA\"]))\n"
   ]
  },
  {
   "cell_type": "code",
   "execution_count": 74,
   "metadata": {},
   "outputs": [
    {
     "name": "stderr",
     "output_type": "stream",
     "text": [
      "┌ Warning: `getindex(df::DataFrame, col_ind::ColumnIndex)` is deprecated, use `df[!, col_ind]` instead.\n",
      "│   caller = top-level scope at In[74]:1\n",
      "└ @ Core In[74]:1\n"
     ]
    },
    {
     "data": {
      "text/plain": [
       "Dict{Float64,Int64} with 9 entries:\n",
       "  4.0 => 171\n",
       "  2.0 => 84\n",
       "  3.0 => 184\n",
       "  2.5 => 89\n",
       "  1.5 => 18\n",
       "  3.5 => 159\n",
       "  4.5 => 108\n",
       "  5.0 => 85\n",
       "  1.0 => 2"
      ]
     },
     "execution_count": 74,
     "metadata": {},
     "output_type": "execute_result"
    }
   ],
   "source": [
    "countmap(df[\"LOR \"])"
   ]
  },
  {
   "cell_type": "code",
   "execution_count": 75,
   "metadata": {},
   "outputs": [
    {
     "name": "stderr",
     "output_type": "stream",
     "text": [
      "┌ Warning: `getindex(df::DataFrame, col_ind::ColumnIndex)` is deprecated, use `df[!, col_ind]` instead.\n",
      "│   caller = top-level scope at In[75]:1\n",
      "└ @ Core In[75]:1\n"
     ]
    },
    {
     "data": {
      "image/png": "[encoded data removed]"
     },
     "execution_count": 75,
     "metadata": {},
     "output_type": "execute_result"
    }
   ],
   "source": [
    "bar(countmap(df[\"LOR \"]))"
   ]
  },
  {
   "cell_type": "code",
   "execution_count": 76,
   "metadata": {},
   "outputs": [
    {
     "name": "stderr",
     "output_type": "stream",
     "text": [
      "┌ Warning: `getindex(df::DataFrame, col_ind::ColumnIndex)` is deprecated, use `df[!, col_ind]` instead.\n",
      "│   caller = top-level scope at In[76]:1\n",
      "└ @ Core In[76]:1\n"
     ]
    },
    {
     "data": {
      "text/plain": [
       "Dict{Float64,Int64} with 9 entries:\n",
       "  4.0 => 159\n",
       "  2.0 => 76\n",
       "  3.0 => 144\n",
       "  2.5 => 111\n",
       "  1.5 => 45\n",
       "  3.5 => 158\n",
       "  4.5 => 116\n",
       "  5.0 => 79\n",
       "  1.0 => 12"
      ]
     },
     "execution_count": 76,
     "metadata": {},
     "output_type": "execute_result"
    }
   ],
   "source": [
    "countmap(df[\"SOP\"])"
   ]
  },
  {
   "cell_type": "code",
   "execution_count": 77,
   "metadata": {},
   "outputs": [
    {
     "name": "stderr",
     "output_type": "stream",
     "text": [
      "┌ Warning: `getindex(df::DataFrame, col_ind::ColumnIndex)` is deprecated, use `df[!, col_ind]` instead.\n",
      "│   caller = top-level scope at In[77]:1\n",
      "└ @ Core In[77]:1\n"
     ]
    },
    {
     "data": {
      "image/png": "[encoded data removed]"
     },
     "execution_count": 77,
     "metadata": {},
     "output_type": "execute_result"
    }
   ],
   "source": [
    "bar(countmap(df[\"SOP\"]))"
   ]
  },
  {
   "cell_type": "code",
   "execution_count": 78,
   "metadata": {},
   "outputs": [
    {
     "name": "stderr",
     "output_type": "stream",
     "text": [
      "┌ Warning: `getindex(df::DataFrame, col_ind::ColumnIndex)` is deprecated, use `df[!, col_ind]` instead.\n",
      "│   caller = top-level scope at In[78]:1\n",
      "└ @ Core In[78]:1\n"
     ]
    },
    {
     "data": {
      "image/png": "[encoded data removed]"
     },
     "execution_count": 78,
     "metadata": {},
     "output_type": "execute_result"
    }
   ],
   "source": [
    "pie(countmap(df[\"Research\"]))"
   ]
  },
  {
   "cell_type": "code",
   "execution_count": 79,
   "metadata": {},
   "outputs": [
    {
     "name": "stderr",
     "output_type": "stream",
     "text": [
      "┌ Warning: `getindex(df::DataFrame, col_ind::ColumnIndex)` is deprecated, use `df[!, col_ind]` instead.\n",
      "│   caller = top-level scope at In[79]:1\n",
      "└ @ Core In[79]:1\n"
     ]
    },
    {
     "data": {
      "image/png": "[encoded data removed]"
     },
     "execution_count": 79,
     "metadata": {},
     "output_type": "execute_result"
    }
   ],
   "source": [
    "histogram(df[\"CGPA\"])"
   ]
  },
  {
   "cell_type": "code",
   "execution_count": 80,
   "metadata": {},
   "outputs": [
    {
     "data": {
      "text/plain": [
       "Plots.PyPlotBackend()"
      ]
     },
     "execution_count": 80,
     "metadata": {},
     "output_type": "execute_result"
    }
   ],
   "source": [
    "pyplot()"
   ]
  },
  {
   "cell_type": "code",
   "execution_count": 81,
   "metadata": {},
   "outputs": [
    {
     "name": "stderr",
     "output_type": "stream",
     "text": [
      "┌ Warning: `getindex(df::DataFrame, col_inds::Union{AbstractVector, Regex, Not})` is deprecated, use `df[:, col_inds]` instead.\n",
      "│   caller = top-level scope at In[81]:1\n",
      "└ @ Core In[81]:1\n"
     ]
    },
    {
     "data": {
      "image/png": "[encoded data removed]"
     },
     "execution_count": 81,
     "metadata": {},
     "output_type": "execute_result"
    }
   ],
   "source": [
    "corrplot(Array(df[1:4]),size=(700,700),bins=10)"
   ]
  },
  {
   "cell_type": "code",
   "execution_count": 83,
   "metadata": {},
   "outputs": [
    {
     "data": {
      "text/html": [
       "<table class=\"data-frame\"><thead><tr><th></th><th>Serial No.</th><th>GRE Score</th><th>TOEFL Score</th><th>University Rating</th><th>SOP</th><th>LOR </th><th>CGPA</th></tr><tr><th></th><th>Int64</th><th>Int64</th><th>Int64</th><th>Int64</th><th>Float64</th><th>Float64</th><th>Float64</th></tr></thead><tbody><p>900 rows × 9 columns (omitted printing of 2 columns)</p><tr><th>1</th><td>1</td><td>337</td><td>118</td><td>4</td><td>4.5</td><td>4.5</td><td>9.65</td></tr><tr><th>2</th><td>2</td><td>324</td><td>107</td><td>4</td><td>4.0</td><td>4.5</td><td>8.87</td></tr><tr><th>3</th><td>3</td><td>316</td><td>104</td><td>3</td><td>3.0</td><td>3.5</td><td>8.0</td></tr><tr><th>4</th><td>4</td><td>322</td><td>110</td><td>3</td><td>3.5</td><td>2.5</td><td>8.67</td></tr><tr><th>5</th><td>5</td><td>314</td><td>103</td><td>2</td><td>2.0</td><td>3.0</td><td>8.21</td></tr><tr><th>6</th><td>6</td><td>330</td><td>115</td><td>5</td><td>4.5</td><td>3.0</td><td>9.34</td></tr><tr><th>7</th><td>7</td><td>321</td><td>109</td><td>3</td><td>3.0</td><td>4.0</td><td>8.2</td></tr><tr><th>8</th><td>8</td><td>308</td><td>101</td><td>2</td><td>3.0</td><td>4.0</td><td>7.9</td></tr><tr><th>9</th><td>9</td><td>302</td><td>102</td><td>1</td><td>2.0</td><td>1.5</td><td>8.0</td></tr><tr><th>10</th><td>10</td><td>323</td><td>108</td><td>3</td><td>3.5</td><td>3.0</td><td>8.6</td></tr><tr><th>11</th><td>11</td><td>325</td><td>106</td><td>3</td><td>3.5</td><td>4.0</td><td>8.4</td></tr><tr><th>12</th><td>12</td><td>327</td><td>111</td><td>4</td><td>4.0</td><td>4.5</td><td>9.0</td></tr><tr><th>13</th><td>13</td><td>328</td><td>112</td><td>4</td><td>4.0</td><td>4.5</td><td>9.1</td></tr><tr><th>14</th><td>14</td><td>307</td><td>109</td><td>3</td><td>4.0</td><td>3.0</td><td>8.0</td></tr><tr><th>15</th><td>15</td><td>311</td><td>104</td><td>3</td><td>3.5</td><td>2.0</td><td>8.2</td></tr><tr><th>16</th><td>16</td><td>314</td><td>105</td><td>3</td><td>3.5</td><td>2.5</td><td>8.3</td></tr><tr><th>17</th><td>17</td><td>317</td><td>107</td><td>3</td><td>4.0</td><td>3.0</td><td>8.7</td></tr><tr><th>18</th><td>18</td><td>319</td><td>106</td><td>3</td><td>4.0</td><td>3.0</td><td>8.0</td></tr><tr><th>19</th><td>19</td><td>318</td><td>110</td><td>3</td><td>4.0</td><td>3.0</td><td>8.8</td></tr><tr><th>20</th><td>20</td><td>303</td><td>102</td><td>3</td><td>3.5</td><td>3.0</td><td>8.5</td></tr><tr><th>21</th><td>21</td><td>312</td><td>107</td><td>3</td><td>3.0</td><td>2.0</td><td>7.9</td></tr><tr><th>22</th><td>22</td><td>325</td><td>114</td><td>4</td><td>3.0</td><td>2.0</td><td>8.4</td></tr><tr><th>23</th><td>23</td><td>328</td><td>116</td><td>5</td><td>5.0</td><td>5.0</td><td>9.5</td></tr><tr><th>24</th><td>24</td><td>334</td><td>119</td><td>5</td><td>5.0</td><td>4.5</td><td>9.7</td></tr><tr><th>25</th><td>25</td><td>336</td><td>119</td><td>5</td><td>4.0</td><td>3.5</td><td>9.8</td></tr><tr><th>26</th><td>26</td><td>340</td><td>120</td><td>5</td><td>4.5</td><td>4.5</td><td>9.6</td></tr><tr><th>27</th><td>27</td><td>322</td><td>109</td><td>5</td><td>4.5</td><td>3.5</td><td>8.8</td></tr><tr><th>28</th><td>28</td><td>298</td><td>98</td><td>2</td><td>1.5</td><td>2.5</td><td>7.5</td></tr><tr><th>29</th><td>29</td><td>295</td><td>93</td><td>1</td><td>2.0</td><td>2.0</td><td>7.2</td></tr><tr><th>30</th><td>30</td><td>310</td><td>99</td><td>2</td><td>1.5</td><td>2.0</td><td>7.3</td></tr><tr><th>&vellip;</th><td>&vellip;</td><td>&vellip;</td><td>&vellip;</td><td>&vellip;</td><td>&vellip;</td><td>&vellip;</td><td>&vellip;</td></tr></tbody></table>"
      ],
      "text/latex": [
       "\\begin{tabular}{r|cccccccc}\n",
       "\t& Serial No. & GRE Score & TOEFL Score & University Rating & SOP & LOR  & CGPA & \\\\\n",
       "\t\\hline\n",
       "\t& Int64 & Int64 & Int64 & Int64 & Float64 & Float64 & Float64 & \\\\\n",
       "\t\\hline\n",
       "\t1 & 1 & 337 & 118 & 4 & 4.5 & 4.5 & 9.65 & $\\dots$ \\\\\n",
       "\t2 & 2 & 324 & 107 & 4 & 4.0 & 4.5 & 8.87 & $\\dots$ \\\\\n",
       "\t3 & 3 & 316 & 104 & 3 & 3.0 & 3.5 & 8.0 & $\\dots$ \\\\\n",
       "\t4 & 4 & 322 & 110 & 3 & 3.5 & 2.5 & 8.67 & $\\dots$ \\\\\n",
       "\t5 & 5 & 314 & 103 & 2 & 2.0 & 3.0 & 8.21 & $\\dots$ \\\\\n",
       "\t6 & 6 & 330 & 115 & 5 & 4.5 & 3.0 & 9.34 & $\\dots$ \\\\\n",
       "\t7 & 7 & 321 & 109 & 3 & 3.0 & 4.0 & 8.2 & $\\dots$ \\\\\n",
       "\t8 & 8 & 308 & 101 & 2 & 3.0 & 4.0 & 7.9 & $\\dots$ \\\\\n",
       "\t9 & 9 & 302 & 102 & 1 & 2.0 & 1.5 & 8.0 & $\\dots$ \\\\\n",
       "\t10 & 10 & 323 & 108 & 3 & 3.5 & 3.0 & 8.6 & $\\dots$ \\\\\n",
       "\t11 & 11 & 325 & 106 & 3 & 3.5 & 4.0 & 8.4 & $\\dots$ \\\\\n",
       "\t12 & 12 & 327 & 111 & 4 & 4.0 & 4.5 & 9.0 & $\\dots$ \\\\\n",
       "\t13 & 13 & 328 & 112 & 4 & 4.0 & 4.5 & 9.1 & $\\dots$ \\\\\n",
       "\t14 & 14 & 307 & 109 & 3 & 4.0 & 3.0 & 8.0 & $\\dots$ \\\\\n",
       "\t15 & 15 & 311 & 104 & 3 & 3.5 & 2.0 & 8.2 & $\\dots$ \\\\\n",
       "\t16 & 16 & 314 & 105 & 3 & 3.5 & 2.5 & 8.3 & $\\dots$ \\\\\n",
       "\t17 & 17 & 317 & 107 & 3 & 4.0 & 3.0 & 8.7 & $\\dots$ \\\\\n",
       "\t18 & 18 & 319 & 106 & 3 & 4.0 & 3.0 & 8.0 & $\\dots$ \\\\\n",
       "\t19 & 19 & 318 & 110 & 3 & 4.0 & 3.0 & 8.8 & $\\dots$ \\\\\n",
       "\t20 & 20 & 303 & 102 & 3 & 3.5 & 3.0 & 8.5 & $\\dots$ \\\\\n",
       "\t21 & 21 & 312 & 107 & 3 & 3.0 & 2.0 & 7.9 & $\\dots$ \\\\\n",
       "\t22 & 22 & 325 & 114 & 4 & 3.0 & 2.0 & 8.4 & $\\dots$ \\\\\n",
       "\t23 & 23 & 328 & 116 & 5 & 5.0 & 5.0 & 9.5 & $\\dots$ \\\\\n",
       "\t24 & 24 & 334 & 119 & 5 & 5.0 & 4.5 & 9.7 & $\\dots$ \\\\\n",
       "\t25 & 25 & 336 & 119 & 5 & 4.0 & 3.5 & 9.8 & $\\dots$ \\\\\n",
       "\t26 & 26 & 340 & 120 & 5 & 4.5 & 4.5 & 9.6 & $\\dots$ \\\\\n",
       "\t27 & 27 & 322 & 109 & 5 & 4.5 & 3.5 & 8.8 & $\\dots$ \\\\\n",
       "\t28 & 28 & 298 & 98 & 2 & 1.5 & 2.5 & 7.5 & $\\dots$ \\\\\n",
       "\t29 & 29 & 295 & 93 & 1 & 2.0 & 2.0 & 7.2 & $\\dots$ \\\\\n",
       "\t30 & 30 & 310 & 99 & 2 & 1.5 & 2.0 & 7.3 & $\\dots$ \\\\\n",
       "\t$\\dots$ & $\\dots$ & $\\dots$ & $\\dots$ & $\\dots$ & $\\dots$ & $\\dots$ & $\\dots$ &  \\\\\n",
       "\\end{tabular}\n"
      ],
      "text/plain": [
       "900×9 DataFrame. Omitted printing of 4 columns\n",
       "│ Row │ Serial No. │ GRE Score │ TOEFL Score │ University Rating │ SOP     │\n",
       "│     │ \u001b[90mInt64\u001b[39m      │ \u001b[90mInt64\u001b[39m     │ \u001b[90mInt64\u001b[39m       │ \u001b[90mInt64\u001b[39m             │ \u001b[90mFloat64\u001b[39m │\n",
       "├─────┼────────────┼───────────┼─────────────┼───────────────────┼─────────┤\n",
       "│ 1   │ 1          │ 337       │ 118         │ 4                 │ 4.5     │\n",
       "│ 2   │ 2          │ 324       │ 107         │ 4                 │ 4.0     │\n",
       "│ 3   │ 3          │ 316       │ 104         │ 3                 │ 3.0     │\n",
       "│ 4   │ 4          │ 322       │ 110         │ 3                 │ 3.5     │\n",
       "│ 5   │ 5          │ 314       │ 103         │ 2                 │ 2.0     │\n",
       "│ 6   │ 6          │ 330       │ 115         │ 5                 │ 4.5     │\n",
       "│ 7   │ 7          │ 321       │ 109         │ 3                 │ 3.0     │\n",
       "│ 8   │ 8          │ 308       │ 101         │ 2                 │ 3.0     │\n",
       "│ 9   │ 9          │ 302       │ 102         │ 1                 │ 2.0     │\n",
       "│ 10  │ 10         │ 323       │ 108         │ 3                 │ 3.5     │\n",
       "⋮\n",
       "│ 890 │ 490        │ 302       │ 110         │ 3                 │ 4.0     │\n",
       "│ 891 │ 491        │ 307       │ 105         │ 2                 │ 2.5     │\n",
       "│ 892 │ 492        │ 297       │ 99          │ 4                 │ 3.0     │\n",
       "│ 893 │ 493        │ 298       │ 101         │ 4                 │ 2.5     │\n",
       "│ 894 │ 494        │ 300       │ 95          │ 2                 │ 3.0     │\n",
       "│ 895 │ 495        │ 301       │ 99          │ 3                 │ 2.5     │\n",
       "│ 896 │ 496        │ 332       │ 108         │ 5                 │ 4.5     │\n",
       "│ 897 │ 497        │ 337       │ 117         │ 5                 │ 5.0     │\n",
       "│ 898 │ 498        │ 330       │ 120         │ 5                 │ 4.5     │\n",
       "│ 899 │ 499        │ 312       │ 103         │ 4                 │ 4.0     │\n",
       "│ 900 │ 500        │ 327       │ 113         │ 4                 │ 4.5     │"
      ]
     },
     "execution_count": 83,
     "metadata": {},
     "output_type": "execute_result"
    }
   ],
   "source": [
    "rename!(df, Symbol(\"Chance of Admit \") => :Chance_of_Admit )"
   ]
  },
  {
   "cell_type": "code",
   "execution_count": 84,
   "metadata": {},
   "outputs": [
    {
     "name": "stderr",
     "output_type": "stream",
     "text": [
      "┌ Warning: `getindex(df::DataFrame, col_ind::ColumnIndex)` is deprecated, use `df[!, col_ind]` instead.\n",
      "│   caller = top-level scope at In[84]:1\n",
      "└ @ Core In[84]:1\n"
     ]
    },
    {
     "data": {
      "text/plain": [
       "900-element Array{Float64,1}:\n",
       " 0.92\n",
       " 0.76\n",
       " 0.72\n",
       " 0.8\n",
       " 0.65\n",
       " 0.9\n",
       " 0.75\n",
       " 0.68\n",
       " 0.5\n",
       " 0.45\n",
       " 0.52\n",
       " 0.84\n",
       " 0.78\n",
       " ⋮\n",
       " 0.76\n",
       " 0.65\n",
       " 0.67\n",
       " 0.54\n",
       " 0.53\n",
       " 0.62\n",
       " 0.68\n",
       " 0.87\n",
       " 0.96\n",
       " 0.93\n",
       " 0.73\n",
       " 0.84"
      ]
     },
     "execution_count": 84,
     "metadata": {},
     "output_type": "execute_result"
    }
   ],
   "source": [
    "y = df[\"Chance_of_Admit\"]"
   ]
  },
  {
   "cell_type": "code",
   "execution_count": 85,
   "metadata": {},
   "outputs": [
    {
     "data": {
      "text/html": [
       "<table class=\"data-frame\"><thead><tr><th></th><th>Serial No.</th><th>GRE Score</th><th>TOEFL Score</th><th>University Rating</th><th>SOP</th><th>LOR </th><th>CGPA</th></tr><tr><th></th><th>Int64</th><th>Int64</th><th>Int64</th><th>Int64</th><th>Float64</th><th>Float64</th><th>Float64</th></tr></thead><tbody><p>900 rows × 8 columns (omitted printing of 1 columns)</p><tr><th>1</th><td>1</td><td>337</td><td>118</td><td>4</td><td>4.5</td><td>4.5</td><td>9.65</td></tr><tr><th>2</th><td>2</td><td>324</td><td>107</td><td>4</td><td>4.0</td><td>4.5</td><td>8.87</td></tr><tr><th>3</th><td>3</td><td>316</td><td>104</td><td>3</td><td>3.0</td><td>3.5</td><td>8.0</td></tr><tr><th>4</th><td>4</td><td>322</td><td>110</td><td>3</td><td>3.5</td><td>2.5</td><td>8.67</td></tr><tr><th>5</th><td>5</td><td>314</td><td>103</td><td>2</td><td>2.0</td><td>3.0</td><td>8.21</td></tr><tr><th>6</th><td>6</td><td>330</td><td>115</td><td>5</td><td>4.5</td><td>3.0</td><td>9.34</td></tr><tr><th>7</th><td>7</td><td>321</td><td>109</td><td>3</td><td>3.0</td><td>4.0</td><td>8.2</td></tr><tr><th>8</th><td>8</td><td>308</td><td>101</td><td>2</td><td>3.0</td><td>4.0</td><td>7.9</td></tr><tr><th>9</th><td>9</td><td>302</td><td>102</td><td>1</td><td>2.0</td><td>1.5</td><td>8.0</td></tr><tr><th>10</th><td>10</td><td>323</td><td>108</td><td>3</td><td>3.5</td><td>3.0</td><td>8.6</td></tr><tr><th>11</th><td>11</td><td>325</td><td>106</td><td>3</td><td>3.5</td><td>4.0</td><td>8.4</td></tr><tr><th>12</th><td>12</td><td>327</td><td>111</td><td>4</td><td>4.0</td><td>4.5</td><td>9.0</td></tr><tr><th>13</th><td>13</td><td>328</td><td>112</td><td>4</td><td>4.0</td><td>4.5</td><td>9.1</td></tr><tr><th>14</th><td>14</td><td>307</td><td>109</td><td>3</td><td>4.0</td><td>3.0</td><td>8.0</td></tr><tr><th>15</th><td>15</td><td>311</td><td>104</td><td>3</td><td>3.5</td><td>2.0</td><td>8.2</td></tr><tr><th>16</th><td>16</td><td>314</td><td>105</td><td>3</td><td>3.5</td><td>2.5</td><td>8.3</td></tr><tr><th>17</th><td>17</td><td>317</td><td>107</td><td>3</td><td>4.0</td><td>3.0</td><td>8.7</td></tr><tr><th>18</th><td>18</td><td>319</td><td>106</td><td>3</td><td>4.0</td><td>3.0</td><td>8.0</td></tr><tr><th>19</th><td>19</td><td>318</td><td>110</td><td>3</td><td>4.0</td><td>3.0</td><td>8.8</td></tr><tr><th>20</th><td>20</td><td>303</td><td>102</td><td>3</td><td>3.5</td><td>3.0</td><td>8.5</td></tr><tr><th>21</th><td>21</td><td>312</td><td>107</td><td>3</td><td>3.0</td><td>2.0</td><td>7.9</td></tr><tr><th>22</th><td>22</td><td>325</td><td>114</td><td>4</td><td>3.0</td><td>2.0</td><td>8.4</td></tr><tr><th>23</th><td>23</td><td>328</td><td>116</td><td>5</td><td>5.0</td><td>5.0</td><td>9.5</td></tr><tr><th>24</th><td>24</td><td>334</td><td>119</td><td>5</td><td>5.0</td><td>4.5</td><td>9.7</td></tr><tr><th>25</th><td>25</td><td>336</td><td>119</td><td>5</td><td>4.0</td><td>3.5</td><td>9.8</td></tr><tr><th>26</th><td>26</td><td>340</td><td>120</td><td>5</td><td>4.5</td><td>4.5</td><td>9.6</td></tr><tr><th>27</th><td>27</td><td>322</td><td>109</td><td>5</td><td>4.5</td><td>3.5</td><td>8.8</td></tr><tr><th>28</th><td>28</td><td>298</td><td>98</td><td>2</td><td>1.5</td><td>2.5</td><td>7.5</td></tr><tr><th>29</th><td>29</td><td>295</td><td>93</td><td>1</td><td>2.0</td><td>2.0</td><td>7.2</td></tr><tr><th>30</th><td>30</td><td>310</td><td>99</td><td>2</td><td>1.5</td><td>2.0</td><td>7.3</td></tr><tr><th>&vellip;</th><td>&vellip;</td><td>&vellip;</td><td>&vellip;</td><td>&vellip;</td><td>&vellip;</td><td>&vellip;</td><td>&vellip;</td></tr></tbody></table>"
      ],
      "text/latex": [
       "\\begin{tabular}{r|cccccccc}\n",
       "\t& Serial No. & GRE Score & TOEFL Score & University Rating & SOP & LOR  & CGPA & \\\\\n",
       "\t\\hline\n",
       "\t& Int64 & Int64 & Int64 & Int64 & Float64 & Float64 & Float64 & \\\\\n",
       "\t\\hline\n",
       "\t1 & 1 & 337 & 118 & 4 & 4.5 & 4.5 & 9.65 & $\\dots$ \\\\\n",
       "\t2 & 2 & 324 & 107 & 4 & 4.0 & 4.5 & 8.87 & $\\dots$ \\\\\n",
       "\t3 & 3 & 316 & 104 & 3 & 3.0 & 3.5 & 8.0 & $\\dots$ \\\\\n",
       "\t4 & 4 & 322 & 110 & 3 & 3.5 & 2.5 & 8.67 & $\\dots$ \\\\\n",
       "\t5 & 5 & 314 & 103 & 2 & 2.0 & 3.0 & 8.21 & $\\dots$ \\\\\n",
       "\t6 & 6 & 330 & 115 & 5 & 4.5 & 3.0 & 9.34 & $\\dots$ \\\\\n",
       "\t7 & 7 & 321 & 109 & 3 & 3.0 & 4.0 & 8.2 & $\\dots$ \\\\\n",
       "\t8 & 8 & 308 & 101 & 2 & 3.0 & 4.0 & 7.9 & $\\dots$ \\\\\n",
       "\t9 & 9 & 302 & 102 & 1 & 2.0 & 1.5 & 8.0 & $\\dots$ \\\\\n",
       "\t10 & 10 & 323 & 108 & 3 & 3.5 & 3.0 & 8.6 & $\\dots$ \\\\\n",
       "\t11 & 11 & 325 & 106 & 3 & 3.5 & 4.0 & 8.4 & $\\dots$ \\\\\n",
       "\t12 & 12 & 327 & 111 & 4 & 4.0 & 4.5 & 9.0 & $\\dots$ \\\\\n",
       "\t13 & 13 & 328 & 112 & 4 & 4.0 & 4.5 & 9.1 & $\\dots$ \\\\\n",
       "\t14 & 14 & 307 & 109 & 3 & 4.0 & 3.0 & 8.0 & $\\dots$ \\\\\n",
       "\t15 & 15 & 311 & 104 & 3 & 3.5 & 2.0 & 8.2 & $\\dots$ \\\\\n",
       "\t16 & 16 & 314 & 105 & 3 & 3.5 & 2.5 & 8.3 & $\\dots$ \\\\\n",
       "\t17 & 17 & 317 & 107 & 3 & 4.0 & 3.0 & 8.7 & $\\dots$ \\\\\n",
       "\t18 & 18 & 319 & 106 & 3 & 4.0 & 3.0 & 8.0 & $\\dots$ \\\\\n",
       "\t19 & 19 & 318 & 110 & 3 & 4.0 & 3.0 & 8.8 & $\\dots$ \\\\\n",
       "\t20 & 20 & 303 & 102 & 3 & 3.5 & 3.0 & 8.5 & $\\dots$ \\\\\n",
       "\t21 & 21 & 312 & 107 & 3 & 3.0 & 2.0 & 7.9 & $\\dots$ \\\\\n",
       "\t22 & 22 & 325 & 114 & 4 & 3.0 & 2.0 & 8.4 & $\\dots$ \\\\\n",
       "\t23 & 23 & 328 & 116 & 5 & 5.0 & 5.0 & 9.5 & $\\dots$ \\\\\n",
       "\t24 & 24 & 334 & 119 & 5 & 5.0 & 4.5 & 9.7 & $\\dots$ \\\\\n",
       "\t25 & 25 & 336 & 119 & 5 & 4.0 & 3.5 & 9.8 & $\\dots$ \\\\\n",
       "\t26 & 26 & 340 & 120 & 5 & 4.5 & 4.5 & 9.6 & $\\dots$ \\\\\n",
       "\t27 & 27 & 322 & 109 & 5 & 4.5 & 3.5 & 8.8 & $\\dots$ \\\\\n",
       "\t28 & 28 & 298 & 98 & 2 & 1.5 & 2.5 & 7.5 & $\\dots$ \\\\\n",
       "\t29 & 29 & 295 & 93 & 1 & 2.0 & 2.0 & 7.2 & $\\dots$ \\\\\n",
       "\t30 & 30 & 310 & 99 & 2 & 1.5 & 2.0 & 7.3 & $\\dots$ \\\\\n",
       "\t$\\dots$ & $\\dots$ & $\\dots$ & $\\dots$ & $\\dots$ & $\\dots$ & $\\dots$ & $\\dots$ &  \\\\\n",
       "\\end{tabular}\n"
      ],
      "text/plain": [
       "900×8 DataFrame. Omitted printing of 3 columns\n",
       "│ Row │ Serial No. │ GRE Score │ TOEFL Score │ University Rating │ SOP     │\n",
       "│     │ \u001b[90mInt64\u001b[39m      │ \u001b[90mInt64\u001b[39m     │ \u001b[90mInt64\u001b[39m       │ \u001b[90mInt64\u001b[39m             │ \u001b[90mFloat64\u001b[39m │\n",
       "├─────┼────────────┼───────────┼─────────────┼───────────────────┼─────────┤\n",
       "│ 1   │ 1          │ 337       │ 118         │ 4                 │ 4.5     │\n",
       "│ 2   │ 2          │ 324       │ 107         │ 4                 │ 4.0     │\n",
       "│ 3   │ 3          │ 316       │ 104         │ 3                 │ 3.0     │\n",
       "│ 4   │ 4          │ 322       │ 110         │ 3                 │ 3.5     │\n",
       "│ 5   │ 5          │ 314       │ 103         │ 2                 │ 2.0     │\n",
       "│ 6   │ 6          │ 330       │ 115         │ 5                 │ 4.5     │\n",
       "│ 7   │ 7          │ 321       │ 109         │ 3                 │ 3.0     │\n",
       "│ 8   │ 8          │ 308       │ 101         │ 2                 │ 3.0     │\n",
       "│ 9   │ 9          │ 302       │ 102         │ 1                 │ 2.0     │\n",
       "│ 10  │ 10         │ 323       │ 108         │ 3                 │ 3.5     │\n",
       "⋮\n",
       "│ 890 │ 490        │ 302       │ 110         │ 3                 │ 4.0     │\n",
       "│ 891 │ 491        │ 307       │ 105         │ 2                 │ 2.5     │\n",
       "│ 892 │ 492        │ 297       │ 99          │ 4                 │ 3.0     │\n",
       "│ 893 │ 493        │ 298       │ 101         │ 4                 │ 2.5     │\n",
       "│ 894 │ 494        │ 300       │ 95          │ 2                 │ 3.0     │\n",
       "│ 895 │ 495        │ 301       │ 99          │ 3                 │ 2.5     │\n",
       "│ 896 │ 496        │ 332       │ 108         │ 5                 │ 4.5     │\n",
       "│ 897 │ 497        │ 337       │ 117         │ 5                 │ 5.0     │\n",
       "│ 898 │ 498        │ 330       │ 120         │ 5                 │ 4.5     │\n",
       "│ 899 │ 499        │ 312       │ 103         │ 4                 │ 4.0     │\n",
       "│ 900 │ 500        │ 327       │ 113         │ 4                 │ 4.5     │"
      ]
     },
     "execution_count": 85,
     "metadata": {},
     "output_type": "execute_result"
    }
   ],
   "source": [
    "X=select!(df,Not(:Chance_of_Admit))"
   ]
  },
  {
   "cell_type": "code",
   "execution_count": 86,
   "metadata": {},
   "outputs": [
    {
     "data": {
      "text/plain": [
       "900×8 Array{Float64,2}:\n",
       "   1.0  337.0  118.0  4.0  4.5  4.5  9.65  1.0\n",
       "   2.0  324.0  107.0  4.0  4.0  4.5  8.87  1.0\n",
       "   3.0  316.0  104.0  3.0  3.0  3.5  8.0   1.0\n",
       "   4.0  322.0  110.0  3.0  3.5  2.5  8.67  1.0\n",
       "   5.0  314.0  103.0  2.0  2.0  3.0  8.21  0.0\n",
       "   6.0  330.0  115.0  5.0  4.5  3.0  9.34  1.0\n",
       "   7.0  321.0  109.0  3.0  3.0  4.0  8.2   1.0\n",
       "   8.0  308.0  101.0  2.0  3.0  4.0  7.9   0.0\n",
       "   9.0  302.0  102.0  1.0  2.0  1.5  8.0   0.0\n",
       "  10.0  323.0  108.0  3.0  3.5  3.0  8.6   0.0\n",
       "  11.0  325.0  106.0  3.0  3.5  4.0  8.4   1.0\n",
       "  12.0  327.0  111.0  4.0  4.0  4.5  9.0   1.0\n",
       "  13.0  328.0  112.0  4.0  4.0  4.5  9.1   1.0\n",
       "   ⋮                            ⋮          \n",
       " 489.0  322.0  112.0  3.0  3.0  4.0  8.62  1.0\n",
       " 490.0  302.0  110.0  3.0  4.0  4.5  8.5   0.0\n",
       " 491.0  307.0  105.0  2.0  2.5  4.5  8.12  1.0\n",
       " 492.0  297.0   99.0  4.0  3.0  3.5  7.81  0.0\n",
       " 493.0  298.0  101.0  4.0  2.5  4.5  7.69  1.0\n",
       " 494.0  300.0   95.0  2.0  3.0  1.5  8.22  1.0\n",
       " 495.0  301.0   99.0  3.0  2.5  2.0  8.45  1.0\n",
       " 496.0  332.0  108.0  5.0  4.5  4.0  9.02  1.0\n",
       " 497.0  337.0  117.0  5.0  5.0  5.0  9.87  1.0\n",
       " 498.0  330.0  120.0  5.0  4.5  5.0  9.56  1.0\n",
       " 499.0  312.0  103.0  4.0  4.0  5.0  8.43  0.0\n",
       " 500.0  327.0  113.0  4.0  4.5  4.5  9.04  0.0"
      ]
     },
     "execution_count": 86,
     "metadata": {},
     "output_type": "execute_result"
    }
   ],
   "source": [
    "X= convert(Array,X)"
   ]
  },
  {
   "cell_type": "code",
   "execution_count": 87,
   "metadata": {},
   "outputs": [
    {
     "data": {
      "text/plain": [
       "900-element Array{Float64,1}:\n",
       " 0.92\n",
       " 0.76\n",
       " 0.72\n",
       " 0.8\n",
       " 0.65\n",
       " 0.9\n",
       " 0.75\n",
       " 0.68\n",
       " 0.5\n",
       " 0.45\n",
       " 0.52\n",
       " 0.84\n",
       " 0.78\n",
       " ⋮\n",
       " 0.76\n",
       " 0.65\n",
       " 0.67\n",
       " 0.54\n",
       " 0.53\n",
       " 0.62\n",
       " 0.68\n",
       " 0.87\n",
       " 0.96\n",
       " 0.93\n",
       " 0.73\n",
       " 0.84"
      ]
     },
     "execution_count": 87,
     "metadata": {},
     "output_type": "execute_result"
    }
   ],
   "source": [
    "y = convert(Array,y)"
   ]
  },
  {
   "cell_type": "code",
   "execution_count": 88,
   "metadata": {},
   "outputs": [
    {
     "name": "stderr",
     "output_type": "stream",
     "text": [
      "┌ Warning: Module model_selection has been ported to Julia - try `import ScikitLearn: CrossValidation` instead\n",
      "└ @ ScikitLearn.Skcore C:\\Users\\Rahul\\.julia\\packages\\ScikitLearn\\Kn82b\\src\\Skcore.jl:169\n",
      "WARNING: redefining constant train_test_split\n"
     ]
    },
    {
     "data": {
      "text/plain": [
       "PyObject <function train_test_split at 0x000000006223BDC8>"
      ]
     },
     "execution_count": 88,
     "metadata": {},
     "output_type": "execute_result"
    }
   ],
   "source": [
    "@sk_import model_selection: train_test_split"
   ]
  },
  {
   "cell_type": "code",
   "execution_count": 89,
   "metadata": {},
   "outputs": [
    {
     "data": {
      "text/plain": [
       "4-element Array{Array{Float64,N} where N,1}:\n",
       " [23.0 328.0 … 9.5 1.0; 306.0 321.0 … 8.8 1.0; … ; 231.0 313.0 … 8.65 0.0; 207.0 315.0 … 7.89 0.0]\n",
       " [280.0 304.0 … 8.73 0.0; 354.0 300.0 … 8.17 0.0; … ; 2.0 324.0 … 8.87 1.0; 325.0 315.0 … 8.33 0.0]\n",
       " [0.94, 0.74, 0.63, 0.71, 0.57, 0.95, 0.79, 0.81, 0.81, 0.79  …  0.78, 0.94, 0.89, 0.81, 0.89, 0.91, 0.77, 0.64, 0.73, 0.63]\n",
       " [0.67, 0.63, 0.56, 0.81, 0.83, 0.54, 0.58, 0.93, 0.56, 0.54  …  0.71, 0.74, 0.67, 0.94, 0.71, 0.88, 0.78, 0.65, 0.76, 0.67]"
      ]
     },
     "execution_count": 89,
     "metadata": {},
     "output_type": "execute_result"
    }
   ],
   "source": [
    "X_train, X_test, y_train, y_test = train_test_split(X, y, test_size=0.25)"
   ]
  },
  {
   "cell_type": "code",
   "execution_count": 90,
   "metadata": {},
   "outputs": [
    {
     "name": "stderr",
     "output_type": "stream",
     "text": [
      "WARNING: redefining constant DecisionTreeClassifier\n"
     ]
    },
    {
     "data": {
      "text/plain": [
       "PyObject <class 'sklearn.tree._classes.DecisionTreeClassifier'>"
      ]
     },
     "execution_count": 90,
     "metadata": {},
     "output_type": "execute_result"
    }
   ],
   "source": [
    "@sk_import tree:DecisionTreeClassifier"
   ]
  },
  {
   "cell_type": "code",
   "execution_count": 91,
   "metadata": {},
   "outputs": [
    {
     "data": {
      "text/plain": [
       "PyObject DecisionTreeClassifier()"
      ]
     },
     "execution_count": 91,
     "metadata": {},
     "output_type": "execute_result"
    }
   ],
   "source": [
    "tree= DecisionTreeClassifier()"
   ]
  },
  {
   "cell_type": "code",
   "execution_count": 92,
   "metadata": {},
   "outputs": [
    {
     "ename": "PyCall.PyError",
     "evalue": "PyError ($(Expr(:escape, :(ccall(#= C:\\Users\\Rahul\\.julia\\packages\\PyCall\\zqDXB\\src\\pyfncall.jl:43 =# @pysym(:PyObject_Call), PyPtr, (PyPtr, PyPtr, PyPtr), o, pyargsptr, kw))))) <class 'ValueError'>\nValueError(\"Unknown label type: 'continuous'\")\n  File \"C:\\Users\\Rahul\\.julia\\conda\\3\\lib\\site-packages\\sklearn\\tree\\_classes.py\", line 894, in fit\n    X_idx_sorted=X_idx_sorted)\n  File \"C:\\Users\\Rahul\\.julia\\conda\\3\\lib\\site-packages\\sklearn\\tree\\_classes.py\", line 181, in fit\n    check_classification_targets(y)\n  File \"C:\\Users\\Rahul\\.julia\\conda\\3\\lib\\site-packages\\sklearn\\utils\\multiclass.py\", line 172, in check_classification_targets\n    raise ValueError(\"Unknown label type: %r\" % y_type)\n",
     "output_type": "error",
     "traceback": [
      "PyError ($(Expr(:escape, :(ccall(#= C:\\Users\\Rahul\\.julia\\packages\\PyCall\\zqDXB\\src\\pyfncall.jl:43 =# @pysym(:PyObject_Call), PyPtr, (PyPtr, PyPtr, PyPtr), o, pyargsptr, kw))))) <class 'ValueError'>\nValueError(\"Unknown label type: 'continuous'\")\n  File \"C:\\Users\\Rahul\\.julia\\conda\\3\\lib\\site-packages\\sklearn\\tree\\_classes.py\", line 894, in fit\n    X_idx_sorted=X_idx_sorted)\n  File \"C:\\Users\\Rahul\\.julia\\conda\\3\\lib\\site-packages\\sklearn\\tree\\_classes.py\", line 181, in fit\n    check_classification_targets(y)\n  File \"C:\\Users\\Rahul\\.julia\\conda\\3\\lib\\site-packages\\sklearn\\utils\\multiclass.py\", line 172, in check_classification_targets\n    raise ValueError(\"Unknown label type: %r\" % y_type)\n",
      "",
      "Stacktrace:",
      " [1] pyerr_check at C:\\Users\\Rahul\\.julia\\packages\\PyCall\\zqDXB\\src\\exception.jl:60 [inlined]",
      " [2] pyerr_check at C:\\Users\\Rahul\\.julia\\packages\\PyCall\\zqDXB\\src\\exception.jl:64 [inlined]",
      " [3] _handle_error(::String) at C:\\Users\\Rahul\\.julia\\packages\\PyCall\\zqDXB\\src\\exception.jl:81",
      " [4] macro expansion at C:\\Users\\Rahul\\.julia\\packages\\PyCall\\zqDXB\\src\\exception.jl:95 [inlined]",
      " [5] #110 at C:\\Users\\Rahul\\.julia\\packages\\PyCall\\zqDXB\\src\\pyfncall.jl:43 [inlined]",
      " [6] disable_sigint at .\\c.jl:446 [inlined]",
      " [7] __pycall! at C:\\Users\\Rahul\\.julia\\packages\\PyCall\\zqDXB\\src\\pyfncall.jl:42 [inlined]",
      " [8] _pycall!(::PyCall.PyObject, ::PyCall.PyObject, ::Tuple{Array{Float64,2},Array{Float64,1}}, ::Int64, ::Ptr{Nothing}) at C:\\Users\\Rahul\\.julia\\packages\\PyCall\\zqDXB\\src\\pyfncall.jl:29",
      " [9] _pycall!(::PyCall.PyObject, ::PyCall.PyObject, ::Tuple{Array{Float64,2},Array{Float64,1}}, ::Base.Iterators.Pairs{Union{},Union{},Tuple{},NamedTuple{(),Tuple{}}}) at C:\\Users\\Rahul\\.julia\\packages\\PyCall\\zqDXB\\src\\pyfncall.jl:11",
      " [10] (::PyCall.PyObject)(::Array{Float64,2}, ::Vararg{Any,N} where N; kwargs::Base.Iterators.Pairs{Union{},Union{},Tuple{},NamedTuple{(),Tuple{}}}) at C:\\Users\\Rahul\\.julia\\packages\\PyCall\\zqDXB\\src\\pyfncall.jl:86",
      " [11] (::PyCall.PyObject)(::Array{Float64,2}, ::Vararg{Any,N} where N) at C:\\Users\\Rahul\\.julia\\packages\\PyCall\\zqDXB\\src\\pyfncall.jl:86",
      " [12] fit!(::PyCall.PyObject, ::Array{Float64,2}, ::Vararg{Any,N} where N; kwargs::Base.Iterators.Pairs{Union{},Union{},Tuple{},NamedTuple{(),Tuple{}}}) at C:\\Users\\Rahul\\.julia\\packages\\ScikitLearn\\Kn82b\\src\\Skcore.jl:102",
      " [13] fit!(::PyCall.PyObject, ::Array{Float64,2}, ::Array{Float64,1}) at C:\\Users\\Rahul\\.julia\\packages\\ScikitLearn\\Kn82b\\src\\Skcore.jl:102",
      " [14] top-level scope at In[92]:1"
     ]
    }
   ],
   "source": [
    "fit!(tree,X_train,y_train)"
   ]
  },
  {
   "cell_type": "code",
   "execution_count": null,
   "metadata": {},
   "outputs": [],
   "source": []
  },
  {
   "cell_type": "code",
   "execution_count": null,
   "metadata": {},
   "outputs": [],
   "source": []
  },
  {
   "cell_type": "code",
   "execution_count": null,
   "metadata": {},
   "outputs": [],
   "source": []
  },
  {
   "cell_type": "code",
   "execution_count": null,
   "metadata": {},
   "outputs": [],
   "source": []
  },
  {
   "cell_type": "code",
   "execution_count": null,
   "metadata": {},
   "outputs": [],
   "source": []
  }
 ],
 "metadata": {
  "kernelspec": {
   "display_name": "Julia 1.4.1",
   "language": "julia",
   "name": "julia-1.4"
  },
  "language_info": {
   "file_extension": ".jl",
   "mimetype": "application/julia",
   "name": "julia",
   "version": "1.4.1"
  }
 },
 "nbformat": 4,
 "nbformat_minor": 4
}
