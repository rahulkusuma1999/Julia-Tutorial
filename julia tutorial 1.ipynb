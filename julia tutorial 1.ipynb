{
 "cells": [
  {
   "cell_type": "code",
   "execution_count": 1,
   "metadata": {},
   "outputs": [
    {
     "data": {
      "text/plain": [
       "2"
      ]
     },
     "execution_count": 1,
     "metadata": {},
     "output_type": "execute_result"
    }
   ],
   "source": [
    "1+1"
   ]
  },
  {
   "cell_type": "code",
   "execution_count": 2,
   "metadata": {},
   "outputs": [],
   "source": [
    "2+2;"
   ]
  },
  {
   "cell_type": "code",
   "execution_count": 3,
   "metadata": {},
   "outputs": [
    {
     "name": "stdout",
     "output_type": "stream",
     "text": [
      "search: \u001b[0m\u001b[1mp\u001b[22m\u001b[0m\u001b[1mr\u001b[22m\u001b[0m\u001b[1mi\u001b[22m\u001b[0m\u001b[1mn\u001b[22m\u001b[0m\u001b[1mt\u001b[22m\u001b[0m\u001b[1ml\u001b[22m\u001b[0m\u001b[1mn\u001b[22m \u001b[0m\u001b[1mp\u001b[22m\u001b[0m\u001b[1mr\u001b[22m\u001b[0m\u001b[1mi\u001b[22m\u001b[0m\u001b[1mn\u001b[22m\u001b[0m\u001b[1mt\u001b[22msty\u001b[0m\u001b[1ml\u001b[22med \u001b[0m\u001b[1mp\u001b[22m\u001b[0m\u001b[1mr\u001b[22m\u001b[0m\u001b[1mi\u001b[22m\u001b[0m\u001b[1mn\u001b[22m\u001b[0m\u001b[1mt\u001b[22m s\u001b[0m\u001b[1mp\u001b[22m\u001b[0m\u001b[1mr\u001b[22m\u001b[0m\u001b[1mi\u001b[22m\u001b[0m\u001b[1mn\u001b[22m\u001b[0m\u001b[1mt\u001b[22m is\u001b[0m\u001b[1mp\u001b[22m\u001b[0m\u001b[1mr\u001b[22m\u001b[0m\u001b[1mi\u001b[22m\u001b[0m\u001b[1mn\u001b[22m\u001b[0m\u001b[1mt\u001b[22m\n",
      "\n"
     ]
    },
    {
     "data": {
      "text/latex": [
       "\\begin{verbatim}\n",
       "println([io::IO], xs...)\n",
       "\\end{verbatim}\n",
       "Print (using \\href{@ref}{\\texttt{print}}) \\texttt{xs} followed by a newline. If \\texttt{io} is not supplied, prints to \\href{@ref}{\\texttt{stdout}}.\n",
       "\n",
       "\\section{Examples}\n",
       "\\begin{verbatim}\n",
       "julia> println(\"Hello, world\")\n",
       "Hello, world\n",
       "\n",
       "julia> io = IOBuffer();\n",
       "\n",
       "julia> println(io, \"Hello, world\")\n",
       "\n",
       "julia> String(take!(io))\n",
       "\"Hello, world\\n\"\n",
       "\\end{verbatim}\n"
      ],
      "text/markdown": [
       "```\n",
       "println([io::IO], xs...)\n",
       "```\n",
       "\n",
       "Print (using [`print`](@ref)) `xs` followed by a newline. If `io` is not supplied, prints to [`stdout`](@ref).\n",
       "\n",
       "# Examples\n",
       "\n",
       "```jldoctest\n",
       "julia> println(\"Hello, world\")\n",
       "Hello, world\n",
       "\n",
       "julia> io = IOBuffer();\n",
       "\n",
       "julia> println(io, \"Hello, world\")\n",
       "\n",
       "julia> String(take!(io))\n",
       "\"Hello, world\\n\"\n",
       "```\n"
      ],
      "text/plain": [
       "\u001b[36m  println([io::IO], xs...)\u001b[39m\n",
       "\n",
       "  Print (using \u001b[36mprint\u001b[39m) \u001b[36mxs\u001b[39m followed by a newline. If \u001b[36mio\u001b[39m is not supplied, prints\n",
       "  to \u001b[36mstdout\u001b[39m.\n",
       "\n",
       "\u001b[1m  Examples\u001b[22m\n",
       "\u001b[1m  ≡≡≡≡≡≡≡≡≡≡\u001b[22m\n",
       "\n",
       "\u001b[36m  julia> println(\"Hello, world\")\u001b[39m\n",
       "\u001b[36m  Hello, world\u001b[39m\n",
       "\u001b[36m  \u001b[39m\n",
       "\u001b[36m  julia> io = IOBuffer();\u001b[39m\n",
       "\u001b[36m  \u001b[39m\n",
       "\u001b[36m  julia> println(io, \"Hello, world\")\u001b[39m\n",
       "\u001b[36m  \u001b[39m\n",
       "\u001b[36m  julia> String(take!(io))\u001b[39m\n",
       "\u001b[36m  \"Hello, world\\n\"\u001b[39m"
      ]
     },
     "execution_count": 3,
     "metadata": {},
     "output_type": "execute_result"
    }
   ],
   "source": [
    "?println"
   ]
  },
  {
   "cell_type": "code",
   "execution_count": 4,
   "metadata": {},
   "outputs": [
    {
     "name": "stdout",
     "output_type": "stream",
     "text": [
      "julia tutorial 1.ipynb\n"
     ]
    }
   ],
   "source": [
    ";ls\n"
   ]
  },
  {
   "cell_type": "code",
   "execution_count": 5,
   "metadata": {},
   "outputs": [
    {
     "name": "stdout",
     "output_type": "stream",
     "text": [
      "/c/Users/Rahul/Desktop/julia\n"
     ]
    }
   ],
   "source": [
    ";pwd"
   ]
  },
  {
   "cell_type": "code",
   "execution_count": 6,
   "metadata": {},
   "outputs": [
    {
     "name": "stdout",
     "output_type": "stream",
     "text": [
      "hello world40"
     ]
    }
   ],
   "source": [
    "print(\"hello world\",40)"
   ]
  },
  {
   "cell_type": "code",
   "execution_count": 7,
   "metadata": {},
   "outputs": [
    {
     "data": {
      "text/plain": [
       "Int64"
      ]
     },
     "execution_count": 7,
     "metadata": {},
     "output_type": "execute_result"
    }
   ],
   "source": [
    "answer=42\n",
    "typeof(answer)"
   ]
  },
  {
   "cell_type": "code",
   "execution_count": 8,
   "metadata": {},
   "outputs": [
    {
     "data": {
      "text/plain": [
       "\"😃\""
      ]
     },
     "execution_count": 8,
     "metadata": {},
     "output_type": "execute_result"
    }
   ],
   "source": [
    "x= \"😃\""
   ]
  },
  {
   "cell_type": "code",
   "execution_count": 9,
   "metadata": {},
   "outputs": [
    {
     "data": {
      "text/plain": [
       "String"
      ]
     },
     "execution_count": 9,
     "metadata": {},
     "output_type": "execute_result"
    }
   ],
   "source": [
    "typeof(x)"
   ]
  },
  {
   "cell_type": "code",
   "execution_count": 10,
   "metadata": {},
   "outputs": [],
   "source": [
    "#=\n",
    "hello this is comment\n",
    "=#"
   ]
  },
  {
   "cell_type": "code",
   "execution_count": 11,
   "metadata": {},
   "outputs": [
    {
     "data": {
      "text/plain": [
       "100"
      ]
     },
     "execution_count": 11,
     "metadata": {},
     "output_type": "execute_result"
    }
   ],
   "source": [
    "10^2 #exponent  "
   ]
  },
  {
   "cell_type": "code",
   "execution_count": 12,
   "metadata": {},
   "outputs": [
    {
     "ename": "LoadError",
     "evalue": "syntax: invalid character literal",
     "output_type": "error",
     "traceback": [
      "syntax: invalid character literal",
      ""
     ]
    }
   ],
   "source": [
    "a='hello' #thsi is an error"
   ]
  },
  {
   "cell_type": "code",
   "execution_count": 13,
   "metadata": {},
   "outputs": [
    {
     "name": "stdout",
     "output_type": "stream",
     "text": [
      "my name is rahul \n"
     ]
    }
   ],
   "source": [
    "# string interpolation\n",
    "# can use $ sign to insert existing variables into a string\n",
    "name =\"rahul\"\n",
    "println(\"my name is $name \")"
   ]
  },
  {
   "cell_type": "code",
   "execution_count": 14,
   "metadata": {},
   "outputs": [
    {
     "name": "stdout",
     "output_type": "stream",
     "text": [
      "the sum of digits is 20"
     ]
    }
   ],
   "source": [
    "x=10\n",
    "y=10\n",
    "print(\"the sum of digits is $(x+y)\")"
   ]
  },
  {
   "cell_type": "markdown",
   "metadata": {},
   "source": [
    "<h1>String concatenation"
   ]
  },
  {
   "cell_type": "code",
   "execution_count": 15,
   "metadata": {},
   "outputs": [
    {
     "data": {
      "text/plain": [
       "\"hello world\""
      ]
     },
     "execution_count": 15,
     "metadata": {},
     "output_type": "execute_result"
    }
   ],
   "source": [
    "a=\"hello \"\n",
    "b=\"world\"\n",
    "string(a,b) # concatenation"
   ]
  },
  {
   "cell_type": "code",
   "execution_count": 16,
   "metadata": {},
   "outputs": [
    {
     "name": "stdout",
     "output_type": "stream",
     "text": [
      "this is hello wrld"
     ]
    }
   ],
   "source": [
    "print(\"this is \",a,\"wrld\")"
   ]
  },
  {
   "cell_type": "code",
   "execution_count": 17,
   "metadata": {},
   "outputs": [
    {
     "data": {
      "text/plain": [
       "\"hello world\""
      ]
     },
     "execution_count": 17,
     "metadata": {},
     "output_type": "execute_result"
    }
   ],
   "source": [
    "a*b # also string concatetion"
   ]
  },
  {
   "cell_type": "code",
   "execution_count": 18,
   "metadata": {},
   "outputs": [
    {
     "data": {
      "text/plain": [
       "\"hihihihihihihihihihihihihihihihihihihihihihihihihihihihihihihihihihihihihihihihihihihihihihihihihihihihihihihihihihihihihihihihihihihihihihihihihihihihihihihihihihihihihihihihihihihihihihihihihihihihi\""
      ]
     },
     "execution_count": 18,
     "metadata": {},
     "output_type": "execute_result"
    }
   ],
   "source": [
    "\"hi\" ^100 # use exponention for multiple string"
   ]
  },
  {
   "cell_type": "markdown",
   "metadata": {},
   "source": [
    "<h1> datastructures"
   ]
  },
  {
   "cell_type": "markdown",
   "metadata": {},
   "source": [
    "<h3>Tuples"
   ]
  },
  {
   "cell_type": "markdown",
   "metadata": {},
   "source": [
    "<h6>we can create tuples by using ( )"
   ]
  },
  {
   "cell_type": "markdown",
   "metadata": {},
   "source": [
    "<h5> julia indexes start from 1"
   ]
  },
  {
   "cell_type": "code",
   "execution_count": 19,
   "metadata": {},
   "outputs": [
    {
     "data": {
      "text/plain": [
       "(\"hello\", \"this\", \"is\", \"rahul\")"
      ]
     },
     "execution_count": 19,
     "metadata": {},
     "output_type": "execute_result"
    }
   ],
   "source": [
    "x=(\"hello\",\"this\",\"is\",\"rahul\")"
   ]
  },
  {
   "cell_type": "code",
   "execution_count": 20,
   "metadata": {},
   "outputs": [
    {
     "data": {
      "text/plain": [
       "\"is\""
      ]
     },
     "execution_count": 20,
     "metadata": {},
     "output_type": "execute_result"
    }
   ],
   "source": [
    "x[3]  # acessing through index"
   ]
  },
  {
   "cell_type": "code",
   "execution_count": 21,
   "metadata": {},
   "outputs": [
    {
     "data": {
      "text/plain": [
       "(one = \"hello\", two = \"world\")"
      ]
     },
     "execution_count": 21,
     "metadata": {},
     "output_type": "execute_result"
    }
   ],
   "source": [
    "# named tuples\n",
    "y=(one=\"hello\",two=\"world\")"
   ]
  },
  {
   "cell_type": "code",
   "execution_count": 22,
   "metadata": {},
   "outputs": [
    {
     "data": {
      "text/plain": [
       "\"hello\""
      ]
     },
     "execution_count": 22,
     "metadata": {},
     "output_type": "execute_result"
    }
   ],
   "source": [
    "y.one"
   ]
  },
  {
   "cell_type": "markdown",
   "metadata": {},
   "source": [
    "<h2> DICTIONARY"
   ]
  },
  {
   "cell_type": "code",
   "execution_count": 23,
   "metadata": {},
   "outputs": [
    {
     "data": {
      "text/plain": [
       "Dict{Any,Any} with 0 entries"
      ]
     },
     "execution_count": 23,
     "metadata": {},
     "output_type": "execute_result"
    }
   ],
   "source": [
    "mine=Dict()"
   ]
  },
  {
   "cell_type": "code",
   "execution_count": 24,
   "metadata": {},
   "outputs": [
    {
     "data": {
      "text/plain": [
       "Dict{String,String} with 2 entries:\n",
       "  \"1\" => \"rahul\"\n",
       "  \"2\" => \"raj\""
      ]
     },
     "execution_count": 24,
     "metadata": {},
     "output_type": "execute_result"
    }
   ],
   "source": [
    "book=Dict(\"1\"=>\"rahul\",\"2\"=>\"raj\")"
   ]
  },
  {
   "cell_type": "code",
   "execution_count": 25,
   "metadata": {},
   "outputs": [
    {
     "data": {
      "text/plain": [
       "\"rahul\""
      ]
     },
     "execution_count": 25,
     "metadata": {},
     "output_type": "execute_result"
    }
   ],
   "source": [
    "book[\"1\"]"
   ]
  },
  {
   "cell_type": "code",
   "execution_count": 26,
   "metadata": {},
   "outputs": [
    {
     "data": {
      "text/plain": [
       "\"rakesh\""
      ]
     },
     "execution_count": 26,
     "metadata": {},
     "output_type": "execute_result"
    }
   ],
   "source": [
    "book[\"3\"]=\"rakesh\""
   ]
  },
  {
   "cell_type": "code",
   "execution_count": 27,
   "metadata": {},
   "outputs": [
    {
     "data": {
      "text/plain": [
       "Dict{String,String} with 3 entries:\n",
       "  \"1\" => \"rahul\"\n",
       "  \"2\" => \"raj\"\n",
       "  \"3\" => \"rakesh\""
      ]
     },
     "execution_count": 27,
     "metadata": {},
     "output_type": "execute_result"
    }
   ],
   "source": [
    "book"
   ]
  },
  {
   "cell_type": "code",
   "execution_count": 28,
   "metadata": {},
   "outputs": [
    {
     "data": {
      "text/plain": [
       "\"rakesh\""
      ]
     },
     "execution_count": 28,
     "metadata": {},
     "output_type": "execute_result"
    }
   ],
   "source": [
    "pop!(book,\"3\")  # pop! is used pop the element"
   ]
  },
  {
   "cell_type": "code",
   "execution_count": 29,
   "metadata": {},
   "outputs": [
    {
     "data": {
      "text/plain": [
       "Dict{String,String} with 2 entries:\n",
       "  \"1\" => \"rahul\"\n",
       "  \"2\" => \"raj\""
      ]
     },
     "execution_count": 29,
     "metadata": {},
     "output_type": "execute_result"
    }
   ],
   "source": [
    "book\n"
   ]
  },
  {
   "cell_type": "markdown",
   "metadata": {},
   "source": [
    "<h4>ARRAYS"
   ]
  },
  {
   "cell_type": "code",
   "execution_count": 30,
   "metadata": {},
   "outputs": [
    {
     "data": {
      "text/plain": [
       "3-element Array{String,1}:\n",
       " \"hello\"\n",
       " \"world\"\n",
       " \"rahul\""
      ]
     },
     "execution_count": 30,
     "metadata": {},
     "output_type": "execute_result"
    }
   ],
   "source": [
    "array=[\"hello\",\"world\",\"rahul\"]   # 1 here is to signify its an 1D array"
   ]
  },
  {
   "cell_type": "code",
   "execution_count": 31,
   "metadata": {},
   "outputs": [
    {
     "data": {
      "text/plain": [
       "4-element Array{Any,1}:\n",
       " 1\n",
       " 2\n",
       " 3\n",
       "  \"rahul\""
      ]
     },
     "execution_count": 31,
     "metadata": {},
     "output_type": "execute_result"
    }
   ],
   "source": [
    "a2=[1,2,3,\"rahul\"] # mixed elements"
   ]
  },
  {
   "cell_type": "code",
   "execution_count": 32,
   "metadata": {},
   "outputs": [
    {
     "data": {
      "text/plain": [
       "1"
      ]
     },
     "execution_count": 32,
     "metadata": {},
     "output_type": "execute_result"
    }
   ],
   "source": [
    "a2[1]"
   ]
  },
  {
   "cell_type": "code",
   "execution_count": 33,
   "metadata": {},
   "outputs": [
    {
     "data": {
      "text/plain": [
       "\"rahul\""
      ]
     },
     "execution_count": 33,
     "metadata": {},
     "output_type": "execute_result"
    }
   ],
   "source": [
    "a2[4]"
   ]
  },
  {
   "cell_type": "code",
   "execution_count": 34,
   "metadata": {},
   "outputs": [
    {
     "data": {
      "text/plain": [
       "\"raj\""
      ]
     },
     "execution_count": 34,
     "metadata": {},
     "output_type": "execute_result"
    }
   ],
   "source": [
    "a2[4]=\"raj\""
   ]
  },
  {
   "cell_type": "code",
   "execution_count": 35,
   "metadata": {},
   "outputs": [
    {
     "data": {
      "text/plain": [
       "4-element Array{Any,1}:\n",
       " 1\n",
       " 2\n",
       " 3\n",
       "  \"raj\""
      ]
     },
     "execution_count": 35,
     "metadata": {},
     "output_type": "execute_result"
    }
   ],
   "source": [
    "a2"
   ]
  },
  {
   "cell_type": "code",
   "execution_count": 36,
   "metadata": {},
   "outputs": [
    {
     "data": {
      "text/plain": [
       "5-element Array{Any,1}:\n",
       " 1\n",
       " 2\n",
       " 3\n",
       "  \"raj\"\n",
       "  \"rahul\""
      ]
     },
     "execution_count": 36,
     "metadata": {},
     "output_type": "execute_result"
    }
   ],
   "source": [
    "push!(a2,\"rahul\") # push element to the end of array"
   ]
  },
  {
   "cell_type": "code",
   "execution_count": 37,
   "metadata": {},
   "outputs": [
    {
     "data": {
      "text/plain": [
       "2-element Array{Array{Int64,1},1}:\n",
       " [1, 2, 3]\n",
       " [4, 5, 6]"
      ]
     },
     "execution_count": 37,
     "metadata": {},
     "output_type": "execute_result"
    }
   ],
   "source": [
    "twoD=[[1,2,3],[4,5,6]]"
   ]
  },
  {
   "cell_type": "code",
   "execution_count": 38,
   "metadata": {},
   "outputs": [
    {
     "data": {
      "text/plain": [
       "2-element Array{Array{String,1},1}:\n",
       " [\"rahul\", \"raj\"]\n",
       " [\"ketan\", \"om\"]"
      ]
     },
     "execution_count": 38,
     "metadata": {},
     "output_type": "execute_result"
    }
   ],
   "source": [
    "str=[[\"rahul\",\"raj\"],[\"ketan\",\"om\"]]"
   ]
  },
  {
   "cell_type": "code",
   "execution_count": 39,
   "metadata": {},
   "outputs": [
    {
     "data": {
      "text/plain": [
       "4×3 Array{Float64,2}:\n",
       " 0.71719    0.0925459  0.0428171\n",
       " 0.755715   0.310425   0.800444\n",
       " 0.0665355  0.309654   0.449472\n",
       " 0.853064   0.145866   0.115223"
      ]
     },
     "execution_count": 39,
     "metadata": {},
     "output_type": "execute_result"
    }
   ],
   "source": [
    "rand(4,3) #2D array"
   ]
  },
  {
   "cell_type": "code",
   "execution_count": 40,
   "metadata": {},
   "outputs": [
    {
     "data": {
      "text/plain": [
       "4×3 Array{Int64,2}:\n",
       " 5   2  7\n",
       " 2   1  8\n",
       " 5  10  5\n",
       " 7   9  7"
      ]
     },
     "execution_count": 40,
     "metadata": {},
     "output_type": "execute_result"
    }
   ],
   "source": [
    "rand(1:10,4,3)"
   ]
  },
  {
   "cell_type": "code",
   "execution_count": 41,
   "metadata": {},
   "outputs": [
    {
     "data": {
      "text/plain": [
       "4×3×2 Array{Float64,3}:\n",
       "[:, :, 1] =\n",
       " 0.893917  0.227333  0.35533\n",
       " 0.371851  0.915047  0.104684\n",
       " 0.255694  0.585122  0.275601\n",
       " 0.370456  0.799987  0.78799\n",
       "\n",
       "[:, :, 2] =\n",
       " 0.752203  0.162064  0.013207\n",
       " 0.904109  0.748245  0.885997\n",
       " 0.131225  0.836349  0.737802\n",
       " 0.357505  0.440222  0.747728"
      ]
     },
     "execution_count": 41,
     "metadata": {},
     "output_type": "execute_result"
    }
   ],
   "source": [
    "rand(4,3,2)"
   ]
  },
  {
   "cell_type": "code",
   "execution_count": 42,
   "metadata": {},
   "outputs": [
    {
     "data": {
      "text/plain": [
       "5-element Array{Any,1}:\n",
       " 1\n",
       " 2\n",
       " 3\n",
       "  \"raj\"\n",
       "  \"rahul\""
      ]
     },
     "execution_count": 42,
     "metadata": {},
     "output_type": "execute_result"
    }
   ],
   "source": [
    "a3=copy(a2) # to create copy of array"
   ]
  },
  {
   "cell_type": "markdown",
   "metadata": {},
   "source": [
    "<h3> LOOPS :\n",
    "    \n",
    "       while\n",
    "       for"
   ]
  },
  {
   "cell_type": "markdown",
   "metadata": {},
   "source": [
    "while loops:\n",
    "\n",
    "    while \"condition\"\n",
    "           \"loop body\"\n",
    "    end"
   ]
  },
  {
   "cell_type": "code",
   "execution_count": 43,
   "metadata": {},
   "outputs": [
    {
     "name": "stdout",
     "output_type": "stream",
     "text": [
      "1\n",
      "2\n",
      "3\n",
      "4\n",
      "5\n",
      "6\n",
      "7\n",
      "8\n",
      "9\n",
      "10\n"
     ]
    },
    {
     "data": {
      "text/plain": [
       "10"
      ]
     },
     "execution_count": 43,
     "metadata": {},
     "output_type": "execute_result"
    }
   ],
   "source": [
    "n=0\n",
    "while n<10\n",
    "    n+=1\n",
    "    println(n)\n",
    "end\n",
    "n"
   ]
  },
  {
   "cell_type": "code",
   "execution_count": 44,
   "metadata": {},
   "outputs": [
    {
     "name": "stdout",
     "output_type": "stream",
     "text": [
      "rahul\n",
      "raj\n",
      "ketan\n"
     ]
    }
   ],
   "source": [
    "n=[\"rahul\",\"raj\",\"ketan\"]\n",
    "i=1\n",
    "\n",
    "while i<=length(n)\n",
    "    println(n[i])\n",
    "    i+=1\n",
    "end"
   ]
  },
  {
   "cell_type": "markdown",
   "metadata": {},
   "source": [
    " <h3> FOR LOOPS\n",
    "    \n",
    "    for \"var\" in \"loop iterable\"\n",
    "    \"loop body\"\n",
    "    end"
   ]
  },
  {
   "cell_type": "code",
   "execution_count": 45,
   "metadata": {},
   "outputs": [
    {
     "name": "stdout",
     "output_type": "stream",
     "text": [
      "1\n",
      "2\n",
      "3\n",
      "4\n",
      "5\n",
      "6\n",
      "7\n",
      "8\n",
      "9\n",
      "10\n"
     ]
    }
   ],
   "source": [
    "for i in 1:10\n",
    "    println(i)\n",
    "end"
   ]
  },
  {
   "cell_type": "code",
   "execution_count": 46,
   "metadata": {},
   "outputs": [
    {
     "name": "stdout",
     "output_type": "stream",
     "text": [
      "1\n",
      "3\n",
      "5\n",
      "7\n",
      "9\n"
     ]
    }
   ],
   "source": [
    "for i in 1:2:10\n",
    "    println(i) \n",
    "end"
   ]
  },
  {
   "cell_type": "code",
   "execution_count": 47,
   "metadata": {},
   "outputs": [
    {
     "data": {
      "text/plain": [
       "5×5 Array{Int64,2}:\n",
       " 0  0  0  0  0\n",
       " 0  0  0  0  0\n",
       " 0  0  0  0  0\n",
       " 0  0  0  0  0\n",
       " 0  0  0  0  0"
      ]
     },
     "execution_count": 47,
     "metadata": {},
     "output_type": "execute_result"
    }
   ],
   "source": [
    "m,n=5,5   # used to create 5X5 matrix with 0's\n",
    "a=fill(0,(m,n))  "
   ]
  },
  {
   "cell_type": "code",
   "execution_count": 48,
   "metadata": {},
   "outputs": [
    {
     "data": {
      "text/plain": [
       "5×5 Array{Int64,2}:\n",
       " 2  3  4  5   6\n",
       " 3  4  5  6   7\n",
       " 4  5  6  7   8\n",
       " 5  6  7  8   9\n",
       " 6  7  8  9  10"
      ]
     },
     "execution_count": 48,
     "metadata": {},
     "output_type": "execute_result"
    }
   ],
   "source": [
    "for i in 1:m # populate the array\n",
    "    for j in 1:n\n",
    "        a[i,j]=i+j\n",
    "    end\n",
    "end\n",
    "a"
   ]
  },
  {
   "cell_type": "code",
   "execution_count": 49,
   "metadata": {},
   "outputs": [
    {
     "data": {
      "text/plain": [
       "5×5 Array{Int64,2}:\n",
       " 0  0  0  0  0\n",
       " 0  0  0  0  0\n",
       " 0  0  0  0  0\n",
       " 0  0  0  0  0\n",
       " 0  0  0  0  0"
      ]
     },
     "execution_count": 49,
     "metadata": {},
     "output_type": "execute_result"
    }
   ],
   "source": [
    "b=fill(0,(m,n))"
   ]
  },
  {
   "cell_type": "code",
   "execution_count": 50,
   "metadata": {},
   "outputs": [
    {
     "data": {
      "text/plain": [
       "5×5 Array{Int64,2}:\n",
       " 2  3  4  5   6\n",
       " 3  4  5  6   7\n",
       " 4  5  6  7   8\n",
       " 5  6  7  8   9\n",
       " 6  7  8  9  10"
      ]
     },
     "execution_count": 50,
     "metadata": {},
     "output_type": "execute_result"
    }
   ],
   "source": [
    "for i in 1:m,j in 1:n # same as above\n",
    "    b[i,j]=i+j\n",
    "end\n",
    "b"
   ]
  },
  {
   "cell_type": "markdown",
   "metadata": {},
   "source": [
    "<h4> LIST COMPREHENSION"
   ]
  },
  {
   "cell_type": "code",
   "execution_count": 51,
   "metadata": {},
   "outputs": [
    {
     "data": {
      "text/plain": [
       "100-element Array{Int64,1}:\n",
       "       1\n",
       "       8\n",
       "      27\n",
       "      64\n",
       "     125\n",
       "     216\n",
       "     343\n",
       "     512\n",
       "     729\n",
       "    1000\n",
       "    1331\n",
       "    1728\n",
       "    2197\n",
       "       ⋮\n",
       "  704969\n",
       "  729000\n",
       "  753571\n",
       "  778688\n",
       "  804357\n",
       "  830584\n",
       "  857375\n",
       "  884736\n",
       "  912673\n",
       "  941192\n",
       "  970299\n",
       " 1000000"
      ]
     },
     "execution_count": 51,
     "metadata": {},
     "output_type": "execute_result"
    }
   ],
   "source": [
    "[x^3 for x in 1:100]"
   ]
  },
  {
   "cell_type": "code",
   "execution_count": 52,
   "metadata": {},
   "outputs": [
    {
     "data": {
      "text/plain": [
       "5×5 Array{Int64,2}:\n",
       " 2  3  4  5   6\n",
       " 3  4  5  6   7\n",
       " 4  5  6  7   8\n",
       " 5  6  7  8   9\n",
       " 6  7  8  9  10"
      ]
     },
     "execution_count": 52,
     "metadata": {},
     "output_type": "execute_result"
    }
   ],
   "source": [
    "c=[i+j for i in 1:m,j in 1:n]"
   ]
  },
  {
   "cell_type": "markdown",
   "metadata": {},
   "source": [
    "<h2> CONDITIONALS"
   ]
  },
  {
   "cell_type": "markdown",
   "metadata": {},
   "source": [
    "  <h4> if keyword"
   ]
  },
  {
   "cell_type": "code",
   "execution_count": 53,
   "metadata": {},
   "outputs": [
    {
     "name": "stdout",
     "output_type": "stream",
     "text": [
      "83"
     ]
    }
   ],
   "source": [
    "n=83\n",
    "if(n %3==0) && (n%5==0)  # '&&' ,'isequal' both are similar to 'AND'\n",
    "    print(\"Fizzbuzz\")\n",
    "elseif n%3==0\n",
    "    print(\"fizz\")\n",
    "elseif n%5==0\n",
    "    print(\"buzz\") \n",
    "else\n",
    "    print(n)\n",
    "end"
   ]
  },
  {
   "cell_type": "markdown",
   "metadata": {},
   "source": [
    "<h3> TERNARY operator"
   ]
  },
  {
   "cell_type": "markdown",
   "metadata": {},
   "source": [
    "a ? b : c\n",
    "\n",
    " which is equal to:\n",
    " \n",
    "if a\n",
    "\n",
    "    b\n",
    "else\n",
    "\n",
    "    c\n",
    "end\n"
   ]
  },
  {
   "cell_type": "code",
   "execution_count": 54,
   "metadata": {},
   "outputs": [
    {
     "data": {
      "text/plain": [
       "200"
      ]
     },
     "execution_count": 54,
     "metadata": {},
     "output_type": "execute_result"
    }
   ],
   "source": [
    "x=300\n",
    "y=200"
   ]
  },
  {
   "cell_type": "code",
   "execution_count": 55,
   "metadata": {},
   "outputs": [
    {
     "data": {
      "text/plain": [
       "300"
      ]
     },
     "execution_count": 55,
     "metadata": {},
     "output_type": "execute_result"
    }
   ],
   "source": [
    "if x>y  # normal if condition\n",
    "    x\n",
    "else\n",
    "    y\n",
    "end"
   ]
  },
  {
   "cell_type": "markdown",
   "metadata": {},
   "source": [
    "The above code can be also written as:\n"
   ]
  },
  {
   "cell_type": "code",
   "execution_count": 56,
   "metadata": {},
   "outputs": [
    {
     "data": {
      "text/plain": [
       "300"
      ]
     },
     "execution_count": 56,
     "metadata": {},
     "output_type": "execute_result"
    }
   ],
   "source": [
    "(x > y) ? x : y  # ternary condition"
   ]
  },
  {
   "cell_type": "markdown",
   "metadata": {},
   "source": [
    "<h4> short circuit evaluation\n",
    "    <h6> we have already seen expression \n",
    "        a && b\n",
    "        \n",
    "to return true if both a and b are true. if a is false julia doesn't even need to know the value of b in order to determine that the overall result will be false. so julia doesn't even need to check what b is; it can be  just 'short-circuited' and immediately return false   "
   ]
  },
  {
   "cell_type": "code",
   "execution_count": 57,
   "metadata": {},
   "outputs": [
    {
     "data": {
      "text/plain": [
       "false"
      ]
     },
     "execution_count": 57,
     "metadata": {},
     "output_type": "execute_result"
    }
   ],
   "source": [
    "false && true"
   ]
  },
  {
   "cell_type": "code",
   "execution_count": 58,
   "metadata": {},
   "outputs": [
    {
     "data": {
      "text/plain": [
       "false"
      ]
     },
     "execution_count": 58,
     "metadata": {},
     "output_type": "execute_result"
    }
   ],
   "source": [
    "false && (println(\"hi\");true) # here it doesn't even check secongd condition"
   ]
  },
  {
   "cell_type": "code",
   "execution_count": 59,
   "metadata": {},
   "outputs": [
    {
     "data": {
      "text/plain": [
       "false"
      ]
     },
     "execution_count": 59,
     "metadata": {},
     "output_type": "execute_result"
    }
   ],
   "source": [
    "(x<0) && error(\"x cannot be greater\") # try x>0 will get a different result "
   ]
  },
  {
   "cell_type": "code",
   "execution_count": 60,
   "metadata": {},
   "outputs": [
    {
     "data": {
      "text/plain": [
       "true"
      ]
     },
     "execution_count": 60,
     "metadata": {},
     "output_type": "execute_result"
    }
   ],
   "source": [
    "true || print(\"hi\") # just evaluates 1st condition"
   ]
  },
  {
   "cell_type": "markdown",
   "metadata": {},
   "source": [
    "<h2> FUNCTIONS"
   ]
  },
  {
   "cell_type": "markdown",
   "metadata": {},
   "source": [
    "1.how to declare a function\n",
    "\n",
    "2.duck typing in julia\n",
    "\n",
    "3.mutating vs non-mutating\n",
    "\n",
    "4.higher order functions"
   ]
  },
  {
   "cell_type": "code",
   "execution_count": 61,
   "metadata": {},
   "outputs": [
    {
     "data": {
      "text/plain": [
       "hello (generic function with 1 method)"
      ]
     },
     "execution_count": 61,
     "metadata": {},
     "output_type": "execute_result"
    }
   ],
   "source": [
    "function hello(name) #function definitiom\n",
    "    print(\"hello $name\")\n",
    "end\n",
    "    "
   ]
  },
  {
   "cell_type": "code",
   "execution_count": 62,
   "metadata": {},
   "outputs": [
    {
     "name": "stdout",
     "output_type": "stream",
     "text": [
      "hello rahul"
     ]
    }
   ],
   "source": [
    "hello(\"rahul\") # function call"
   ]
  },
  {
   "cell_type": "markdown",
   "metadata": {},
   "source": [
    "we can also declare fucntions in a single line"
   ]
  },
  {
   "cell_type": "code",
   "execution_count": 63,
   "metadata": {},
   "outputs": [
    {
     "data": {
      "text/plain": [
       "hello (generic function with 1 method)"
      ]
     },
     "execution_count": 63,
     "metadata": {},
     "output_type": "execute_result"
    }
   ],
   "source": [
    "hello(name) =print(\"hello $name\")"
   ]
  },
  {
   "cell_type": "code",
   "execution_count": 64,
   "metadata": {},
   "outputs": [
    {
     "name": "stdout",
     "output_type": "stream",
     "text": [
      "hello rahul"
     ]
    }
   ],
   "source": [
    "hello(\"rahul\")"
   ]
  },
  {
   "cell_type": "markdown",
   "metadata": {},
   "source": [
    "declaring anonymous functions"
   ]
  },
  {
   "cell_type": "code",
   "execution_count": 65,
   "metadata": {},
   "outputs": [
    {
     "data": {
      "text/plain": [
       "#7 (generic function with 1 method)"
      ]
     },
     "execution_count": 65,
     "metadata": {},
     "output_type": "execute_result"
    }
   ],
   "source": [
    "hello1= name -> print(\"hello $name\")"
   ]
  },
  {
   "cell_type": "code",
   "execution_count": 66,
   "metadata": {},
   "outputs": [
    {
     "name": "stdout",
     "output_type": "stream",
     "text": [
      "hello rahul"
     ]
    }
   ],
   "source": [
    "hello1(\"rahul\")"
   ]
  },
  {
   "cell_type": "code",
   "execution_count": 67,
   "metadata": {},
   "outputs": [
    {
     "data": {
      "text/plain": [
       "#9 (generic function with 1 method)"
      ]
     },
     "execution_count": 67,
     "metadata": {},
     "output_type": "execute_result"
    }
   ],
   "source": [
    "f= x -> x^2"
   ]
  },
  {
   "cell_type": "code",
   "execution_count": 68,
   "metadata": {},
   "outputs": [
    {
     "data": {
      "text/plain": [
       "16"
      ]
     },
     "execution_count": 68,
     "metadata": {},
     "output_type": "execute_result"
    }
   ],
   "source": [
    "f(4)"
   ]
  },
  {
   "cell_type": "code",
   "execution_count": 69,
   "metadata": {},
   "outputs": [
    {
     "data": {
      "text/plain": [
       "#11 (generic function with 1 method)"
      ]
     },
     "execution_count": 69,
     "metadata": {},
     "output_type": "execute_result"
    }
   ],
   "source": [
    "div = (x,y) -> print(x/y) #division function"
   ]
  },
  {
   "cell_type": "code",
   "execution_count": 70,
   "metadata": {},
   "outputs": [
    {
     "name": "stdout",
     "output_type": "stream",
     "text": [
      "2.0"
     ]
    }
   ],
   "source": [
    "div(30,15)"
   ]
  },
  {
   "cell_type": "markdown",
   "metadata": {},
   "source": [
    "<h4> duck-typing"
   ]
  },
  {
   "cell_type": "markdown",
   "metadata": {},
   "source": [
    " julia functions will work on whatever input makes sense"
   ]
  },
  {
   "cell_type": "code",
   "execution_count": 71,
   "metadata": {},
   "outputs": [
    {
     "name": "stdout",
     "output_type": "stream",
     "text": [
      "hello 123"
     ]
    }
   ],
   "source": [
    "hello(123) # even if integer is passes as input "
   ]
  },
  {
   "cell_type": "code",
   "execution_count": 72,
   "metadata": {},
   "outputs": [
    {
     "data": {
      "text/plain": [
       "3×3 Array{Float64,2}:\n",
       " 0.492433  0.872905  0.982998\n",
       " 0.746606  0.316062  0.0150115\n",
       " 0.243306  0.104307  0.283246"
      ]
     },
     "execution_count": 72,
     "metadata": {},
     "output_type": "execute_result"
    }
   ],
   "source": [
    "a=rand(3,3)"
   ]
  },
  {
   "cell_type": "code",
   "execution_count": 73,
   "metadata": {},
   "outputs": [
    {
     "data": {
      "text/plain": [
       "3×3 Array{Float64,2}:\n",
       " 1.13338   0.808272  0.775595\n",
       " 0.607279  0.753177  0.742909\n",
       " 0.266604  0.274895  0.320964"
      ]
     },
     "execution_count": 73,
     "metadata": {},
     "output_type": "execute_result"
    }
   ],
   "source": [
    "f(a) # sqaures every number"
   ]
  },
  {
   "cell_type": "markdown",
   "metadata": {},
   "source": [
    "<h4> MUTATING VS NON-MUTATING"
   ]
  },
  {
   "cell_type": "markdown",
   "metadata": {},
   "source": [
    "mutating functions are those which end with a bang(!)\n",
    "\n",
    " the difference is that mutating functions alters the inputs while in non-mutating inputs remain the same\n"
   ]
  },
  {
   "cell_type": "code",
   "execution_count": 74,
   "metadata": {},
   "outputs": [
    {
     "data": {
      "text/plain": [
       "3-element Array{Int64,1}:\n",
       " 5\n",
       " 7\n",
       " 3"
      ]
     },
     "execution_count": 74,
     "metadata": {},
     "output_type": "execute_result"
    }
   ],
   "source": [
    "v=[5,7,3]"
   ]
  },
  {
   "cell_type": "code",
   "execution_count": 75,
   "metadata": {},
   "outputs": [
    {
     "data": {
      "text/plain": [
       "3-element Array{Int64,1}:\n",
       " 3\n",
       " 5\n",
       " 7"
      ]
     },
     "execution_count": 75,
     "metadata": {},
     "output_type": "execute_result"
    }
   ],
   "source": [
    "sort(v) "
   ]
  },
  {
   "cell_type": "code",
   "execution_count": 76,
   "metadata": {},
   "outputs": [
    {
     "data": {
      "text/plain": [
       "3-element Array{Int64,1}:\n",
       " 5\n",
       " 7\n",
       " 3"
      ]
     },
     "execution_count": 76,
     "metadata": {},
     "output_type": "execute_result"
    }
   ],
   "source": [
    "v # here after sort inputs remain the same"
   ]
  },
  {
   "cell_type": "code",
   "execution_count": 77,
   "metadata": {},
   "outputs": [
    {
     "data": {
      "text/plain": [
       "3-element Array{Int64,1}:\n",
       " 3\n",
       " 5\n",
       " 7"
      ]
     },
     "execution_count": 77,
     "metadata": {},
     "output_type": "execute_result"
    }
   ],
   "source": [
    "sort!(v)"
   ]
  },
  {
   "cell_type": "code",
   "execution_count": 78,
   "metadata": {},
   "outputs": [
    {
     "data": {
      "text/plain": [
       "3-element Array{Int64,1}:\n",
       " 3\n",
       " 5\n",
       " 7"
      ]
     },
     "execution_count": 78,
     "metadata": {},
     "output_type": "execute_result"
    }
   ],
   "source": [
    "v #here after we call bang function the inputs are altered "
   ]
  },
  {
   "cell_type": "markdown",
   "metadata": {},
   "source": [
    "<h4> MAP"
   ]
  },
  {
   "cell_type": "code",
   "execution_count": 79,
   "metadata": {
    "scrolled": true
   },
   "outputs": [
    {
     "data": {
      "text/plain": [
       "3-element Array{Int64,1}:\n",
       " 1\n",
       " 4\n",
       " 9"
      ]
     },
     "execution_count": 79,
     "metadata": {},
     "output_type": "execute_result"
    }
   ],
   "source": [
    "map(f,[1,2,3]) # maps the function f() to the provided inputs and outputs the result"
   ]
  },
  {
   "cell_type": "code",
   "execution_count": 80,
   "metadata": {},
   "outputs": [
    {
     "data": {
      "text/plain": [
       "3-element Array{Int64,1}:\n",
       " 1\n",
       " 4\n",
       " 9"
      ]
     },
     "execution_count": 80,
     "metadata": {},
     "output_type": "execute_result"
    }
   ],
   "source": [
    "map(x -> x^2,[1,2,3]) # map performs similar to the map fucntion in python"
   ]
  },
  {
   "cell_type": "markdown",
   "metadata": {},
   "source": [
    "<h4> BROADCAST"
   ]
  },
  {
   "cell_type": "markdown",
   "metadata": {},
   "source": [
    "similar to map but also has extra functionality"
   ]
  },
  {
   "cell_type": "code",
   "execution_count": 81,
   "metadata": {},
   "outputs": [
    {
     "data": {
      "text/plain": [
       "3-element Array{Int64,1}:\n",
       " 1\n",
       " 4\n",
       " 9"
      ]
     },
     "execution_count": 81,
     "metadata": {},
     "output_type": "execute_result"
    }
   ],
   "source": [
    "broadcast(f,[1,2,3])"
   ]
  },
  {
   "cell_type": "code",
   "execution_count": 82,
   "metadata": {},
   "outputs": [
    {
     "data": {
      "text/plain": [
       "3-element Array{Int64,1}:\n",
       " 1\n",
       " 4\n",
       " 9"
      ]
     },
     "execution_count": 82,
     "metadata": {},
     "output_type": "execute_result"
    }
   ],
   "source": [
    "broadcast(x -> x^2,[1,2,3])"
   ]
  },
  {
   "cell_type": "code",
   "execution_count": 83,
   "metadata": {},
   "outputs": [
    {
     "data": {
      "text/plain": [
       "3-element Array{Int64,1}:\n",
       " 1\n",
       " 4\n",
       " 9"
      ]
     },
     "execution_count": 83,
     "metadata": {},
     "output_type": "execute_result"
    }
   ],
   "source": [
    "f.([1,2,3]) # broadcast can also be written with (.) operator as shown here"
   ]
  },
  {
   "cell_type": "markdown",
   "metadata": {},
   "source": []
  },
  {
   "cell_type": "markdown",
   "metadata": {},
   "source": [
    "<h3> PACKAGES"
   ]
  },
  {
   "cell_type": "code",
   "execution_count": 84,
   "metadata": {},
   "outputs": [],
   "source": [
    "using Pkg  # need to call Pkg every time we want to install a package\n"
   ]
  },
  {
   "cell_type": "code",
   "execution_count": 85,
   "metadata": {},
   "outputs": [
    {
     "name": "stderr",
     "output_type": "stream",
     "text": [
      "\u001b[32m\u001b[1m   Updating\u001b[22m\u001b[39m registry at `C:\\Users\\Rahul\\.julia\\registries\\General`\n"
     ]
    },
    {
     "name": "stdout",
     "output_type": "stream",
     "text": [
      "\u001b[?25l"
     ]
    },
    {
     "name": "stderr",
     "output_type": "stream",
     "text": [
      "\u001b[32m\u001b[1m   Updating\u001b[22m\u001b[39m git-repo `https://github.com/JuliaRegistries/General.git`\n"
     ]
    },
    {
     "name": "stdout",
     "output_type": "stream",
     "text": [
      "\u001b[2K\u001b[36m\u001b[1mFetching:\u001b[22m\u001b[39m [========================================>]  100.0 %\u001b[?25h"
     ]
    },
    {
     "name": "stderr",
     "output_type": "stream",
     "text": [
      "\u001b[32m\u001b[1m  Resolving\u001b[22m\u001b[39m package versions...\n",
      "\u001b[32m\u001b[1m   Updating\u001b[22m\u001b[39m `C:\\Users\\Rahul\\.julia\\environments\\v1.4\\Project.toml`\n",
      "\u001b[90m [no changes]\u001b[39m\n",
      "\u001b[32m\u001b[1m   Updating\u001b[22m\u001b[39m `C:\\Users\\Rahul\\.julia\\environments\\v1.4\\Manifest.toml`\n",
      "\u001b[90m [no changes]\u001b[39m\n"
     ]
    }
   ],
   "source": [
    "Pkg.add(\"Example\") # installing package with add() command"
   ]
  },
  {
   "cell_type": "code",
   "execution_count": 86,
   "metadata": {},
   "outputs": [
    {
     "name": "stderr",
     "output_type": "stream",
     "text": [
      "\u001b[32m\u001b[1m  Resolving\u001b[22m\u001b[39m package versions...\n",
      "\u001b[32m\u001b[1m   Updating\u001b[22m\u001b[39m `C:\\Users\\Rahul\\.julia\\environments\\v1.4\\Project.toml`\n",
      "\u001b[90m [no changes]\u001b[39m\n",
      "\u001b[32m\u001b[1m   Updating\u001b[22m\u001b[39m `C:\\Users\\Rahul\\.julia\\environments\\v1.4\\Manifest.toml`\n",
      "\u001b[90m [no changes]\u001b[39m\n"
     ]
    }
   ],
   "source": [
    "Pkg.add(\"Colors\") "
   ]
  },
  {
   "cell_type": "code",
   "execution_count": 87,
   "metadata": {},
   "outputs": [
    {
     "data": {
      "image/svg+xml": [
       "<?xml version=\"1.0\" encoding=\"UTF-8\"?>\n",
       "<!DOCTYPE svg PUBLIC \"-//W3C//DTD SVG 1.1//EN\"\n",
       " \"http://www.w3.org/Graphics/SVG/1.1/DTD/svg11.dtd\">\n",
       "<svg xmlns=\"http://www.w3.org/2000/svg\" version=\"1.1\"\n",
       "     width=\"180mm\" height=\"25mm\"\n",
       "     viewBox=\"0 0 100 1\" preserveAspectRatio=\"none\"\n",
       "     shape-rendering=\"crispEdges\" stroke=\"none\">\n",
       "<rect width=\"1\" height=\".96\" x=\"0\" y=\"0\" fill=\"#000000\" />\n",
       "<rect width=\"1\" height=\".96\" x=\"1\" y=\"0\" fill=\"#FFFF74\" />\n",
       "<rect width=\"1\" height=\".96\" x=\"2\" y=\"0\" fill=\"#FF9BFF\" />\n",
       "<rect width=\"1\" height=\".96\" x=\"3\" y=\"0\" fill=\"#00D3FF\" />\n",
       "<rect width=\"1\" height=\".96\" x=\"4\" y=\"0\" fill=\"#E2630D\" />\n",
       "<rect width=\"1\" height=\".96\" x=\"5\" y=\"0\" fill=\"#007E00\" />\n",
       "<rect width=\"1\" height=\".96\" x=\"6\" y=\"0\" fill=\"#0050E6\" />\n",
       "<rect width=\"1\" height=\".96\" x=\"7\" y=\"0\" fill=\"#AC0047\" />\n",
       "<rect width=\"1\" height=\".96\" x=\"8\" y=\"0\" fill=\"#00FFC8\" />\n",
       "<rect width=\"1\" height=\".96\" x=\"9\" y=\"0\" fill=\"#006468\" />\n",
       "<rect width=\"1\" height=\".96\" x=\"10\" y=\"0\" fill=\"#FFD5C4\" />\n",
       "<rect width=\"1\" height=\".96\" x=\"11\" y=\"0\" fill=\"#6C5200\" />\n",
       "<rect width=\"1\" height=\".96\" x=\"12\" y=\"0\" fill=\"#7A7581\" />\n",
       "<rect width=\"1\" height=\".96\" x=\"13\" y=\"0\" fill=\"#44005C\" />\n",
       "<rect width=\"1\" height=\".96\" x=\"14\" y=\"0\" fill=\"#9E9E77\" />\n",
       "<rect width=\"1\" height=\".96\" x=\"15\" y=\"0\" fill=\"#FF5C78\" />\n",
       "<rect width=\"1\" height=\".96\" x=\"16\" y=\"0\" fill=\"#8197F1\" />\n",
       "<rect width=\"1\" height=\".96\" x=\"17\" y=\"0\" fill=\"#003200\" />\n",
       "<rect width=\"1\" height=\".96\" x=\"18\" y=\"0\" fill=\"#C721DD\" />\n",
       "<rect width=\"1\" height=\".96\" x=\"19\" y=\"0\" fill=\"#FFAD07\" />\n",
       "<rect width=\"1\" height=\".96\" x=\"20\" y=\"0\" fill=\"#611C00\" />\n",
       "<rect width=\"1\" height=\".96\" x=\"21\" y=\"0\" fill=\"#F3FFFA\" />\n",
       "<rect width=\"1\" height=\".96\" x=\"22\" y=\"0\" fill=\"#009E88\" />\n",
       "<rect width=\"1\" height=\".96\" x=\"23\" y=\"0\" fill=\"#5EC700\" />\n",
       "<rect width=\"1\" height=\".96\" x=\"24\" y=\"0\" fill=\"#002D54\" />\n",
       "<rect width=\"1\" height=\".96\" x=\"25\" y=\"0\" fill=\"#553C4A\" />\n",
       "<rect width=\"1\" height=\".96\" x=\"26\" y=\"0\" fill=\"#444439\" />\n",
       "<rect width=\"1\" height=\".96\" x=\"27\" y=\"0\" fill=\"#008FB6\" />\n",
       "<rect width=\"1\" height=\".96\" x=\"28\" y=\"0\" fill=\"#CFD4FD\" />\n",
       "<rect width=\"1\" height=\".96\" x=\"29\" y=\"0\" fill=\"#C40000\" />\n",
       "<rect width=\"1\" height=\".96\" x=\"30\" y=\"0\" fill=\"#A4675C\" />\n",
       "<rect width=\"1\" height=\".96\" x=\"31\" y=\"0\" fill=\"#BB8FA8\" />\n",
       "<rect width=\"1\" height=\".96\" x=\"32\" y=\"0\" fill=\"#290001\" />\n",
       "<rect width=\"1\" height=\".96\" x=\"33\" y=\"0\" fill=\"#A78600\" />\n",
       "<rect width=\"1\" height=\".96\" x=\"34\" y=\"0\" fill=\"#002D30\" />\n",
       "<rect width=\"1\" height=\".96\" x=\"35\" y=\"0\" fill=\"#C7DEAA\" />\n",
       "<rect width=\"1\" height=\".96\" x=\"36\" y=\"0\" fill=\"#8D9FA3\" />\n",
       "<rect width=\"1\" height=\".96\" x=\"37\" y=\"0\" fill=\"#6F5B95\" />\n",
       "<rect width=\"1\" height=\".96\" x=\"38\" y=\"0\" fill=\"#A1FFFF\" />\n",
       "<rect width=\"1\" height=\".96\" x=\"39\" y=\"0\" fill=\"#B39688\" />\n",
       "<rect width=\"1\" height=\".96\" x=\"40\" y=\"0\" fill=\"#4E6D50\" />\n",
       "<rect width=\"1\" height=\".96\" x=\"41\" y=\"0\" fill=\"#FF977B\" />\n",
       "<rect width=\"1\" height=\".96\" x=\"42\" y=\"0\" fill=\"#FFD1EC\" />\n",
       "<rect width=\"1\" height=\".96\" x=\"43\" y=\"0\" fill=\"#9E5100\" />\n",
       "<rect width=\"1\" height=\".96\" x=\"44\" y=\"0\" fill=\"#AE5B8E\" />\n",
       "<rect width=\"1\" height=\".96\" x=\"45\" y=\"0\" fill=\"#799400\" />\n",
       "<rect width=\"1\" height=\".96\" x=\"46\" y=\"0\" fill=\"#362200\" />\n",
       "<rect width=\"1\" height=\".96\" x=\"47\" y=\"0\" fill=\"#0E0026\" />\n",
       "<rect width=\"1\" height=\".96\" x=\"48\" y=\"0\" fill=\"#80765F\" />\n",
       "<rect width=\"1\" height=\".96\" x=\"49\" y=\"0\" fill=\"#485C00\" />\n",
       "<rect width=\"1\" height=\".96\" x=\"50\" y=\"0\" fill=\"#C8C2B5\" />\n",
       "<rect width=\"1\" height=\".96\" x=\"51\" y=\"0\" fill=\"#8800A1\" />\n",
       "<rect width=\"1\" height=\".96\" x=\"52\" y=\"0\" fill=\"#00A853\" />\n",
       "<rect width=\"1\" height=\".96\" x=\"53\" y=\"0\" fill=\"#FFE1AA\" />\n",
       "<rect width=\"1\" height=\".96\" x=\"54\" y=\"0\" fill=\"#674F42\" />\n",
       "<rect width=\"1\" height=\".96\" x=\"55\" y=\"0\" fill=\"#FF342D\" />\n",
       "<rect width=\"1\" height=\".96\" x=\"56\" y=\"0\" fill=\"#6B0041\" />\n",
       "<rect width=\"1\" height=\".96\" x=\"57\" y=\"0\" fill=\"#0806B1\" />\n",
       "<rect width=\"1\" height=\".96\" x=\"58\" y=\"0\" fill=\"#986DFF\" />\n",
       "<rect width=\"1\" height=\".96\" x=\"59\" y=\"0\" fill=\"#FF4EC7\" />\n",
       "<rect width=\"1\" height=\".96\" x=\"60\" y=\"0\" fill=\"#8AB9A2\" />\n",
       "<rect width=\"1\" height=\".96\" x=\"61\" y=\"0\" fill=\"#2EFF71\" />\n",
       "<rect width=\"1\" height=\".96\" x=\"62\" y=\"0\" fill=\"#005577\" />\n",
       "<rect width=\"1\" height=\".96\" x=\"63\" y=\"0\" fill=\"#0078E3\" />\n",
       "<rect width=\"1\" height=\".96\" x=\"64\" y=\"0\" fill=\"#B2ADB9\" />\n",
       "<rect width=\"1\" height=\".96\" x=\"65\" y=\"0\" fill=\"#00C3C6\" />\n",
       "<rect width=\"1\" height=\".96\" x=\"66\" y=\"0\" fill=\"#00AEFF\" />\n",
       "<rect width=\"1\" height=\".96\" x=\"67\" y=\"0\" fill=\"#4E545F\" />\n",
       "<rect width=\"1\" height=\".96\" x=\"68\" y=\"0\" fill=\"#FF9BB0\" />\n",
       "<rect width=\"1\" height=\".96\" x=\"69\" y=\"0\" fill=\"#FED206\" />\n",
       "<rect width=\"1\" height=\".96\" x=\"70\" y=\"0\" fill=\"#687B7A\" />\n",
       "<rect width=\"1\" height=\".96\" x=\"71\" y=\"0\" fill=\"#B1DCFC\" />\n",
       "<rect width=\"1\" height=\".96\" x=\"72\" y=\"0\" fill=\"#FFF6FF\" />\n",
       "<rect width=\"1\" height=\".96\" x=\"73\" y=\"0\" fill=\"#620019\" />\n",
       "<rect width=\"1\" height=\".96\" x=\"74\" y=\"0\" fill=\"#C79253\" />\n",
       "<rect width=\"1\" height=\".96\" x=\"75\" y=\"0\" fill=\"#A891CF\" />\n",
       "<rect width=\"1\" height=\".96\" x=\"76\" y=\"0\" fill=\"#EF007A\" />\n",
       "<rect width=\"1\" height=\".96\" x=\"77\" y=\"0\" fill=\"#B8CE00\" />\n",
       "<rect width=\"1\" height=\".96\" x=\"78\" y=\"0\" fill=\"#001700\" />\n",
       "<rect width=\"1\" height=\".96\" x=\"79\" y=\"0\" fill=\"#204B39\" />\n",
       "<rect width=\"1\" height=\".96\" x=\"80\" y=\"0\" fill=\"#875866\" />\n",
       "<rect width=\"1\" height=\".96\" x=\"81\" y=\"0\" fill=\"#B5FF4E\" />\n",
       "<rect width=\"1\" height=\".96\" x=\"82\" y=\"0\" fill=\"#B40080\" />\n",
       "<rect width=\"1\" height=\".96\" x=\"83\" y=\"0\" fill=\"#853F34\" />\n",
       "<rect width=\"1\" height=\".96\" x=\"84\" y=\"0\" fill=\"#69936B\" />\n",
       "<rect width=\"1\" height=\".96\" x=\"85\" y=\"0\" fill=\"#FFBC80\" />\n",
       "<rect width=\"1\" height=\".96\" x=\"86\" y=\"0\" fill=\"#4C3779\" />\n",
       "<rect width=\"1\" height=\".96\" x=\"87\" y=\"0\" fill=\"#323606\" />\n",
       "<rect width=\"1\" height=\".96\" x=\"88\" y=\"0\" fill=\"#008E94\" />\n",
       "<rect width=\"1\" height=\".96\" x=\"89\" y=\"0\" fill=\"#CAAC51\" />\n",
       "<rect width=\"1\" height=\".96\" x=\"90\" y=\"0\" fill=\"#787B3B\" />\n",
       "<rect width=\"1\" height=\".96\" x=\"91\" y=\"0\" fill=\"#B6F9D9\" />\n",
       "<rect width=\"1\" height=\".96\" x=\"92\" y=\"0\" fill=\"#DA003F\" />\n",
       "<rect width=\"1\" height=\".96\" x=\"93\" y=\"0\" fill=\"#2E2124\" />\n",
       "<rect width=\"1\" height=\".96\" x=\"94\" y=\"0\" fill=\"#005815\" />\n",
       "<rect width=\"1\" height=\".96\" x=\"95\" y=\"0\" fill=\"#FF8E1D\" />\n",
       "<rect width=\"1\" height=\".96\" x=\"96\" y=\"0\" fill=\"#6674B1\" />\n",
       "<rect width=\"1\" height=\".96\" x=\"97\" y=\"0\" fill=\"#00CDAD\" />\n",
       "<rect width=\"1\" height=\".96\" x=\"98\" y=\"0\" fill=\"#007F63\" />\n",
       "<rect width=\"1\" height=\".96\" x=\"99\" y=\"0\" fill=\"#996F3D\" />\n",
       "</svg>"
      ],
      "text/plain": [
       "100-element Array{RGB{N0f8},1} with eltype RGB{FixedPointNumbers.Normed{UInt8,8}}:\n",
       " RGB{N0f8}(0.0,0.0,0.0)\n",
       " RGB{N0f8}(1.0,1.0,0.455)\n",
       " RGB{N0f8}(1.0,0.608,1.0)\n",
       " RGB{N0f8}(0.0,0.827,1.0)\n",
       " RGB{N0f8}(0.886,0.388,0.051)\n",
       " RGB{N0f8}(0.0,0.494,0.0)\n",
       " RGB{N0f8}(0.0,0.314,0.902)\n",
       " RGB{N0f8}(0.675,0.0,0.278)\n",
       " RGB{N0f8}(0.0,1.0,0.784)\n",
       " RGB{N0f8}(0.0,0.392,0.408)\n",
       " RGB{N0f8}(1.0,0.835,0.769)\n",
       " RGB{N0f8}(0.424,0.322,0.0)\n",
       " RGB{N0f8}(0.478,0.459,0.506)\n",
       " ⋮\n",
       " RGB{N0f8}(0.0,0.557,0.58)\n",
       " RGB{N0f8}(0.792,0.675,0.318)\n",
       " RGB{N0f8}(0.471,0.482,0.231)\n",
       " RGB{N0f8}(0.714,0.976,0.851)\n",
       " RGB{N0f8}(0.855,0.0,0.247)\n",
       " RGB{N0f8}(0.18,0.129,0.141)\n",
       " RGB{N0f8}(0.0,0.345,0.082)\n",
       " RGB{N0f8}(1.0,0.557,0.114)\n",
       " RGB{N0f8}(0.4,0.455,0.694)\n",
       " RGB{N0f8}(0.0,0.804,0.678)\n",
       " RGB{N0f8}(0.0,0.498,0.388)\n",
       " RGB{N0f8}(0.6,0.435,0.239)"
      ]
     },
     "execution_count": 87,
     "metadata": {},
     "output_type": "execute_result"
    }
   ],
   "source": [
    "using Colors # every time we want to use any package forst we have to call it by (using) keyword\n",
    "pallete=distinguishable_colors(100) # creates pallete of random 100 colors"
   ]
  },
  {
   "cell_type": "code",
   "execution_count": 88,
   "metadata": {},
   "outputs": [
    {
     "data": {
      "image/svg+xml": [
       "<?xml version=\"1.0\" encoding=\"UTF-8\"?>\n",
       "<!DOCTYPE svg PUBLIC \"-//W3C//DTD SVG 1.1//EN\"\n",
       " \"http://www.w3.org/Graphics/SVG/1.1/DTD/svg11.dtd\">\n",
       "<svg xmlns=\"http://www.w3.org/2000/svg\" version=\"1.1\"\n",
       "     width=\"75mm\" height=\"75mm\"\n",
       "     viewBox=\"0 0 3 3\" preserveAspectRatio=\"none\"\n",
       "     shape-rendering=\"crispEdges\" stroke=\"none\">\n",
       "<rect width=\".96\" height=\".96\" x=\"0\" y=\"0\" fill=\"#A4675C\" />\n",
       "<rect width=\".96\" height=\".96\" x=\"1\" y=\"0\" fill=\"#8800A1\" />\n",
       "<rect width=\".96\" height=\".96\" x=\"2\" y=\"0\" fill=\"#008FB6\" />\n",
       "<rect width=\".96\" height=\".96\" x=\"0\" y=\"1\" fill=\"#C79253\" />\n",
       "<rect width=\".96\" height=\".96\" x=\"1\" y=\"1\" fill=\"#B1DCFC\" />\n",
       "<rect width=\".96\" height=\".96\" x=\"2\" y=\"1\" fill=\"#80765F\" />\n",
       "<rect width=\".96\" height=\".96\" x=\"0\" y=\"2\" fill=\"#204B39\" />\n",
       "<rect width=\".96\" height=\".96\" x=\"1\" y=\"2\" fill=\"#8AB9A2\" />\n",
       "<rect width=\".96\" height=\".96\" x=\"2\" y=\"2\" fill=\"#0050E6\" />\n",
       "</svg>"
      ],
      "text/plain": [
       "3×3 Array{RGB{N0f8},2} with eltype RGB{FixedPointNumbers.Normed{UInt8,8}}:\n",
       " RGB{N0f8}(0.643,0.404,0.361)  …  RGB{N0f8}(0.0,0.561,0.714)\n",
       " RGB{N0f8}(0.78,0.573,0.325)      RGB{N0f8}(0.502,0.463,0.373)\n",
       " RGB{N0f8}(0.125,0.294,0.224)     RGB{N0f8}(0.0,0.314,0.902)"
      ]
     },
     "execution_count": 88,
     "metadata": {},
     "output_type": "execute_result"
    }
   ],
   "source": [
    "rand(pallete ,3,3) # creates a randomly chekered matrix of colors"
   ]
  },
  {
   "cell_type": "markdown",
   "metadata": {},
   "source": [
    "<h3> PLOTTING"
   ]
  },
  {
   "cell_type": "code",
   "execution_count": 89,
   "metadata": {},
   "outputs": [
    {
     "name": "stderr",
     "output_type": "stream",
     "text": [
      "\u001b[32m\u001b[1m  Resolving\u001b[22m\u001b[39m package versions...\n",
      "\u001b[32m\u001b[1m   Updating\u001b[22m\u001b[39m `C:\\Users\\Rahul\\.julia\\environments\\v1.4\\Project.toml`\n",
      "\u001b[90m [no changes]\u001b[39m\n",
      "\u001b[32m\u001b[1m   Updating\u001b[22m\u001b[39m `C:\\Users\\Rahul\\.julia\\environments\\v1.4\\Manifest.toml`\n",
      "\u001b[90m [no changes]\u001b[39m\n"
     ]
    }
   ],
   "source": [
    "Pkg.add(\"Plots\")  # install plots"
   ]
  },
  {
   "cell_type": "code",
   "execution_count": 90,
   "metadata": {},
   "outputs": [],
   "source": [
    "using Plots"
   ]
  },
  {
   "cell_type": "code",
   "execution_count": 101,
   "metadata": {},
   "outputs": [
    {
     "data": {
      "text/plain": [
       "5-element Array{Int64,1}:\n",
       " 4500\n",
       " 2000\n",
       " 1567\n",
       "  250\n",
       "   23"
      ]
     },
     "execution_count": 101,
     "metadata": {},
     "output_type": "execute_result"
    }
   ],
   "source": [
    "globaltemp=[14.4,14.5,14.6,14.1,16.2]\n",
    "numpirates=[4500,2000,1567,250,23]"
   ]
  },
  {
   "cell_type": "code",
   "execution_count": 92,
   "metadata": {},
   "outputs": [
    {
     "data": {
      "text/plain": [
       "Plots.GRBackend()"
      ]
     },
     "execution_count": 92,
     "metadata": {},
     "output_type": "execute_result"
    }
   ],
   "source": [
    "gr() # julia uses different backends to generate plot drawing in the backend these backend are coded in c++ "
   ]
  },
  {
   "cell_type": "code",
   "execution_count": 93,
   "metadata": {},
   "outputs": [
    {
     "data": {
      "image/svg+xml": [
       "<?xml version=\"1.0\" encoding=\"utf-8\"?>\n",
       "<svg xmlns=\"http://www.w3.org/2000/svg\" xmlns:xlink=\"http://www.w3.org/1999/xlink\" width=\"600\" height=\"400\" viewBox=\"0 0 2400 1600\">\n",
       "<defs>\n",
       "  <clipPath id=\"clip920\">\n",
       "    <rect x=\"0\" y=\"0\" width=\"2400\" height=\"1600\"/>\n",
       "  </clipPath>\n",
       "</defs>\n",
       "<path clip-path=\"url(#clip920)\" d=\"\n",
       "M0 1600 L2400 1600 L2400 0 L0 0  Z\n",
       "  \" fill=\"#ffffff\" fill-rule=\"evenodd\" fill-opacity=\"1\"/>\n",
       "<defs>\n",
       "  <clipPath id=\"clip921\">\n",
       "    <rect x=\"480\" y=\"0\" width=\"1681\" height=\"1600\"/>\n",
       "  </clipPath>\n",
       "</defs>\n",
       "<path clip-path=\"url(#clip920)\" d=\"\n",
       "M171.714 1486.45 L2352.76 1486.45 L2352.76 47.2441 L171.714 47.2441  Z\n",
       "  \" fill=\"#ffffff\" fill-rule=\"evenodd\" fill-opacity=\"1\"/>\n",
       "<defs>\n",
       "  <clipPath id=\"clip922\">\n",
       "    <rect x=\"171\" y=\"47\" width=\"2182\" height=\"1440\"/>\n",
       "  </clipPath>\n",
       "</defs>\n",
       "<polyline clip-path=\"url(#clip922)\" style=\"stroke:#000000; stroke-width:2; stroke-opacity:0.1; fill:none\" points=\"\n",
       "  232.389,1486.45 232.389,47.2441 \n",
       "  \"/>\n",
       "<polyline clip-path=\"url(#clip922)\" style=\"stroke:#000000; stroke-width:2; stroke-opacity:0.1; fill:none\" points=\"\n",
       "  689.865,1486.45 689.865,47.2441 \n",
       "  \"/>\n",
       "<polyline clip-path=\"url(#clip922)\" style=\"stroke:#000000; stroke-width:2; stroke-opacity:0.1; fill:none\" points=\"\n",
       "  1147.34,1486.45 1147.34,47.2441 \n",
       "  \"/>\n",
       "<polyline clip-path=\"url(#clip922)\" style=\"stroke:#000000; stroke-width:2; stroke-opacity:0.1; fill:none\" points=\"\n",
       "  1604.82,1486.45 1604.82,47.2441 \n",
       "  \"/>\n",
       "<polyline clip-path=\"url(#clip922)\" style=\"stroke:#000000; stroke-width:2; stroke-opacity:0.1; fill:none\" points=\"\n",
       "  2062.29,1486.45 2062.29,47.2441 \n",
       "  \"/>\n",
       "<polyline clip-path=\"url(#clip922)\" style=\"stroke:#000000; stroke-width:2; stroke-opacity:0.1; fill:none\" points=\"\n",
       "  171.714,1187.1 2352.76,1187.1 \n",
       "  \"/>\n",
       "<polyline clip-path=\"url(#clip922)\" style=\"stroke:#000000; stroke-width:2; stroke-opacity:0.1; fill:none\" points=\"\n",
       "  171.714,863.827 2352.76,863.827 \n",
       "  \"/>\n",
       "<polyline clip-path=\"url(#clip922)\" style=\"stroke:#000000; stroke-width:2; stroke-opacity:0.1; fill:none\" points=\"\n",
       "  171.714,540.556 2352.76,540.556 \n",
       "  \"/>\n",
       "<polyline clip-path=\"url(#clip922)\" style=\"stroke:#000000; stroke-width:2; stroke-opacity:0.1; fill:none\" points=\"\n",
       "  171.714,217.285 2352.76,217.285 \n",
       "  \"/>\n",
       "<polyline clip-path=\"url(#clip920)\" style=\"stroke:#000000; stroke-width:4; stroke-opacity:1; fill:none\" points=\"\n",
       "  171.714,1486.45 2352.76,1486.45 \n",
       "  \"/>\n",
       "<polyline clip-path=\"url(#clip920)\" style=\"stroke:#000000; stroke-width:4; stroke-opacity:1; fill:none\" points=\"\n",
       "  171.714,1486.45 171.714,47.2441 \n",
       "  \"/>\n",
       "<polyline clip-path=\"url(#clip920)\" style=\"stroke:#000000; stroke-width:4; stroke-opacity:1; fill:none\" points=\"\n",
       "  232.389,1486.45 232.389,1469.18 \n",
       "  \"/>\n",
       "<polyline clip-path=\"url(#clip920)\" style=\"stroke:#000000; stroke-width:4; stroke-opacity:1; fill:none\" points=\"\n",
       "  689.865,1486.45 689.865,1469.18 \n",
       "  \"/>\n",
       "<polyline clip-path=\"url(#clip920)\" style=\"stroke:#000000; stroke-width:4; stroke-opacity:1; fill:none\" points=\"\n",
       "  1147.34,1486.45 1147.34,1469.18 \n",
       "  \"/>\n",
       "<polyline clip-path=\"url(#clip920)\" style=\"stroke:#000000; stroke-width:4; stroke-opacity:1; fill:none\" points=\"\n",
       "  1604.82,1486.45 1604.82,1469.18 \n",
       "  \"/>\n",
       "<polyline clip-path=\"url(#clip920)\" style=\"stroke:#000000; stroke-width:4; stroke-opacity:1; fill:none\" points=\"\n",
       "  2062.29,1486.45 2062.29,1469.18 \n",
       "  \"/>\n",
       "<polyline clip-path=\"url(#clip920)\" style=\"stroke:#000000; stroke-width:4; stroke-opacity:1; fill:none\" points=\"\n",
       "  171.714,1187.1 197.886,1187.1 \n",
       "  \"/>\n",
       "<polyline clip-path=\"url(#clip920)\" style=\"stroke:#000000; stroke-width:4; stroke-opacity:1; fill:none\" points=\"\n",
       "  171.714,863.827 197.886,863.827 \n",
       "  \"/>\n",
       "<polyline clip-path=\"url(#clip920)\" style=\"stroke:#000000; stroke-width:4; stroke-opacity:1; fill:none\" points=\"\n",
       "  171.714,540.556 197.886,540.556 \n",
       "  \"/>\n",
       "<polyline clip-path=\"url(#clip920)\" style=\"stroke:#000000; stroke-width:4; stroke-opacity:1; fill:none\" points=\"\n",
       "  171.714,217.285 197.886,217.285 \n",
       "  \"/>\n",
       "<path clip-path=\"url(#clip920)\" d=\"M 0 0 M232.389 1508.44 Q228.778 1508.44 226.95 1512 Q225.144 1515.55 225.144 1522.67 Q225.144 1529.78 226.95 1533.35 Q228.778 1536.89 232.389 1536.89 Q236.024 1536.89 237.829 1533.35 Q239.658 1529.78 239.658 1522.67 Q239.658 1515.55 237.829 1512 Q236.024 1508.44 232.389 1508.44 M232.389 1504.73 Q238.199 1504.73 241.255 1509.34 Q244.334 1513.92 244.334 1522.67 Q244.334 1531.4 241.255 1536.01 Q238.199 1540.59 232.389 1540.59 Q226.579 1540.59 223.5 1536.01 Q220.445 1531.4 220.445 1522.67 Q220.445 1513.92 223.5 1509.34 Q226.579 1504.73 232.389 1504.73 Z\" fill=\"#000000\" fill-rule=\"evenodd\" fill-opacity=\"1\" /><path clip-path=\"url(#clip920)\" d=\"M 0 0 M626.995 1557.52 L634.633 1557.52 L634.633 1531.15 L626.323 1532.82 L626.323 1528.56 L634.587 1526.9 L639.263 1526.9 L639.263 1557.52 L646.902 1557.52 L646.902 1561.46 L626.995 1561.46 L626.995 1557.52 Z\" fill=\"#000000\" fill-rule=\"evenodd\" fill-opacity=\"1\" /><path clip-path=\"url(#clip920)\" d=\"M 0 0 M680.142 1535.99 L669.564 1546.62 L680.142 1557.2 L677.388 1560 L666.763 1549.37 L656.138 1560 L653.406 1557.2 L663.962 1546.62 L653.406 1535.99 L656.138 1533.19 L666.763 1543.82 L677.388 1533.19 L680.142 1535.99 Z\" fill=\"#000000\" fill-rule=\"evenodd\" fill-opacity=\"1\" /><path clip-path=\"url(#clip920)\" d=\"M 0 0 M686.022 1557.52 L693.661 1557.52 L693.661 1531.15 L685.351 1532.82 L685.351 1528.56 L693.615 1526.9 L698.291 1526.9 L698.291 1557.52 L705.929 1557.52 L705.929 1561.46 L686.022 1561.46 L686.022 1557.52 Z\" fill=\"#000000\" fill-rule=\"evenodd\" fill-opacity=\"1\" /><path clip-path=\"url(#clip920)\" d=\"M 0 0 M720.999 1529.97 Q717.388 1529.97 715.559 1533.54 Q713.753 1537.08 713.753 1544.21 Q713.753 1551.32 715.559 1554.88 Q717.388 1558.42 720.999 1558.42 Q724.633 1558.42 726.439 1554.88 Q728.267 1551.32 728.267 1544.21 Q728.267 1537.08 726.439 1533.54 Q724.633 1529.97 720.999 1529.97 M720.999 1526.27 Q726.809 1526.27 729.864 1530.88 Q732.943 1535.46 732.943 1544.21 Q732.943 1552.94 729.864 1557.54 Q726.809 1562.13 720.999 1562.13 Q715.189 1562.13 712.11 1557.54 Q709.054 1552.94 709.054 1544.21 Q709.054 1535.46 712.11 1530.88 Q715.189 1526.27 720.999 1526.27 Z\" fill=\"#000000\" fill-rule=\"evenodd\" fill-opacity=\"1\" /><path clip-path=\"url(#clip920)\" d=\"M 0 0 M745.62 1509.27 L736.028 1524.26 L745.62 1524.26 L745.62 1509.27 M744.623 1505.96 L749.4 1505.96 L749.4 1524.26 L753.406 1524.26 L753.406 1527.42 L749.4 1527.42 L749.4 1534.04 L745.62 1534.04 L745.62 1527.42 L732.943 1527.42 L732.943 1523.76 L744.623 1505.96 Z\" fill=\"#000000\" fill-rule=\"evenodd\" fill-opacity=\"1\" /><path clip-path=\"url(#clip920)\" d=\"M 0 0 M1088.74 1557.52 L1105.06 1557.52 L1105.06 1561.46 L1083.12 1561.46 L1083.12 1557.52 Q1085.78 1554.77 1090.36 1550.14 Q1094.97 1545.48 1096.15 1544.14 Q1098.39 1541.62 1099.27 1539.88 Q1100.18 1538.12 1100.18 1536.43 Q1100.18 1533.68 1098.23 1531.94 Q1096.31 1530.21 1093.21 1530.21 Q1091.01 1530.21 1088.56 1530.97 Q1086.13 1531.73 1083.35 1533.28 L1083.35 1528.56 Q1086.17 1527.43 1088.63 1526.85 Q1091.08 1526.27 1093.12 1526.27 Q1098.49 1526.27 1101.68 1528.96 Q1104.87 1531.64 1104.87 1536.13 Q1104.87 1538.26 1104.06 1540.18 Q1103.28 1542.08 1101.17 1544.67 Q1100.59 1545.34 1097.49 1548.56 Q1094.39 1551.76 1088.74 1557.52 Z\" fill=\"#000000\" fill-rule=\"evenodd\" fill-opacity=\"1\" /><path clip-path=\"url(#clip920)\" d=\"M 0 0 M1138.3 1535.99 L1127.72 1546.62 L1138.3 1557.2 L1135.55 1560 L1124.92 1549.37 L1114.3 1560 L1111.56 1557.2 L1122.12 1546.62 L1111.56 1535.99 L1114.3 1533.19 L1124.92 1543.82 L1135.55 1533.19 L1138.3 1535.99 Z\" fill=\"#000000\" fill-rule=\"evenodd\" fill-opacity=\"1\" /><path clip-path=\"url(#clip920)\" d=\"M 0 0 M1144.18 1557.52 L1151.82 1557.52 L1151.82 1531.15 L1143.51 1532.82 L1143.51 1528.56 L1151.77 1526.9 L1156.45 1526.9 L1156.45 1557.52 L1164.09 1557.52 L1164.09 1561.46 L1144.18 1561.46 L1144.18 1557.52 Z\" fill=\"#000000\" fill-rule=\"evenodd\" fill-opacity=\"1\" /><path clip-path=\"url(#clip920)\" d=\"M 0 0 M1179.16 1529.97 Q1175.55 1529.97 1173.72 1533.54 Q1171.91 1537.08 1171.91 1544.21 Q1171.91 1551.32 1173.72 1554.88 Q1175.55 1558.42 1179.16 1558.42 Q1182.79 1558.42 1184.6 1554.88 Q1186.43 1551.32 1186.43 1544.21 Q1186.43 1537.08 1184.6 1533.54 Q1182.79 1529.97 1179.16 1529.97 M1179.16 1526.27 Q1184.97 1526.27 1188.02 1530.88 Q1191.1 1535.46 1191.1 1544.21 Q1191.1 1552.94 1188.02 1557.54 Q1184.97 1562.13 1179.16 1562.13 Q1173.35 1562.13 1170.27 1557.54 Q1167.21 1552.94 1167.21 1544.21 Q1167.21 1535.46 1170.27 1530.88 Q1173.35 1526.27 1179.16 1526.27 Z\" fill=\"#000000\" fill-rule=\"evenodd\" fill-opacity=\"1\" /><path clip-path=\"url(#clip920)\" d=\"M 0 0 M1203.78 1509.27 L1194.19 1524.26 L1203.78 1524.26 L1203.78 1509.27 M1202.78 1505.96 L1207.56 1505.96 L1207.56 1524.26 L1211.56 1524.26 L1211.56 1527.42 L1207.56 1527.42 L1207.56 1534.04 L1203.78 1534.04 L1203.78 1527.42 L1191.1 1527.42 L1191.1 1523.76 L1202.78 1505.96 Z\" fill=\"#000000\" fill-rule=\"evenodd\" fill-opacity=\"1\" /><path clip-path=\"url(#clip920)\" d=\"M 0 0 M1555.81 1542.82 Q1559.17 1543.54 1561.04 1545.81 Q1562.94 1548.08 1562.94 1551.41 Q1562.94 1556.52 1559.42 1559.33 Q1555.9 1562.13 1549.42 1562.13 Q1547.25 1562.13 1544.93 1561.69 Q1542.64 1561.27 1540.19 1560.41 L1540.19 1555.9 Q1542.13 1557.03 1544.45 1557.61 Q1546.76 1558.19 1549.28 1558.19 Q1553.68 1558.19 1555.97 1556.46 Q1558.29 1554.72 1558.29 1551.41 Q1558.29 1548.35 1556.14 1546.64 Q1554.01 1544.9 1550.19 1544.9 L1546.16 1544.9 L1546.16 1541.06 L1550.37 1541.06 Q1553.82 1541.06 1555.65 1539.7 Q1557.48 1538.31 1557.48 1535.71 Q1557.48 1533.05 1555.58 1531.64 Q1553.7 1530.21 1550.19 1530.21 Q1548.26 1530.21 1546.07 1530.62 Q1543.87 1531.04 1541.23 1531.92 L1541.23 1527.75 Q1543.89 1527.01 1546.2 1526.64 Q1548.54 1526.27 1550.6 1526.27 Q1555.93 1526.27 1559.03 1528.7 Q1562.13 1531.11 1562.13 1535.23 Q1562.13 1538.1 1560.49 1540.09 Q1558.84 1542.06 1555.81 1542.82 Z\" fill=\"#000000\" fill-rule=\"evenodd\" fill-opacity=\"1\" /><path clip-path=\"url(#clip920)\" d=\"M 0 0 M1596.18 1535.99 L1585.6 1546.62 L1596.18 1557.2 L1593.43 1560 L1582.8 1549.37 L1572.18 1560 L1569.45 1557.2 L1580 1546.62 L1569.45 1535.99 L1572.18 1533.19 L1582.8 1543.82 L1593.43 1533.19 L1596.18 1535.99 Z\" fill=\"#000000\" fill-rule=\"evenodd\" fill-opacity=\"1\" /><path clip-path=\"url(#clip920)\" d=\"M 0 0 M1602.06 1557.52 L1609.7 1557.52 L1609.7 1531.15 L1601.39 1532.82 L1601.39 1528.56 L1609.65 1526.9 L1614.33 1526.9 L1614.33 1557.52 L1621.97 1557.52 L1621.97 1561.46 L1602.06 1561.46 L1602.06 1557.52 Z\" fill=\"#000000\" fill-rule=\"evenodd\" fill-opacity=\"1\" /><path clip-path=\"url(#clip920)\" d=\"M 0 0 M1637.04 1529.97 Q1633.43 1529.97 1631.6 1533.54 Q1629.79 1537.08 1629.79 1544.21 Q1629.79 1551.32 1631.6 1554.88 Q1633.43 1558.42 1637.04 1558.42 Q1640.67 1558.42 1642.48 1554.88 Q1644.31 1551.32 1644.31 1544.21 Q1644.31 1537.08 1642.48 1533.54 Q1640.67 1529.97 1637.04 1529.97 M1637.04 1526.27 Q1642.85 1526.27 1645.9 1530.88 Q1648.98 1535.46 1648.98 1544.21 Q1648.98 1552.94 1645.9 1557.54 Q1642.85 1562.13 1637.04 1562.13 Q1631.23 1562.13 1628.15 1557.54 Q1625.09 1552.94 1625.09 1544.21 Q1625.09 1535.46 1628.15 1530.88 Q1631.23 1526.27 1637.04 1526.27 Z\" fill=\"#000000\" fill-rule=\"evenodd\" fill-opacity=\"1\" /><path clip-path=\"url(#clip920)\" d=\"M 0 0 M1661.66 1509.27 L1652.07 1524.26 L1661.66 1524.26 L1661.66 1509.27 M1660.66 1505.96 L1665.44 1505.96 L1665.44 1524.26 L1669.44 1524.26 L1669.44 1527.42 L1665.44 1527.42 L1665.44 1534.04 L1661.66 1534.04 L1661.66 1527.42 L1648.98 1527.42 L1648.98 1523.76 L1660.66 1505.96 Z\" fill=\"#000000\" fill-rule=\"evenodd\" fill-opacity=\"1\" /><path clip-path=\"url(#clip920)\" d=\"M 0 0 M2012.05 1530.97 L2000.24 1549.42 L2012.05 1549.42 L2012.05 1530.97 M2010.82 1526.9 L2016.7 1526.9 L2016.7 1549.42 L2021.63 1549.42 L2021.63 1553.31 L2016.7 1553.31 L2016.7 1561.46 L2012.05 1561.46 L2012.05 1553.31 L1996.45 1553.31 L1996.45 1548.79 L2010.82 1526.9 Z\" fill=\"#000000\" fill-rule=\"evenodd\" fill-opacity=\"1\" /><path clip-path=\"url(#clip920)\" d=\"M 0 0 M2054.87 1535.99 L2044.29 1546.62 L2054.87 1557.2 L2052.12 1560 L2041.49 1549.37 L2030.87 1560 L2028.14 1557.2 L2038.69 1546.62 L2028.14 1535.99 L2030.87 1533.19 L2041.49 1543.82 L2052.12 1533.19 L2054.87 1535.99 Z\" fill=\"#000000\" fill-rule=\"evenodd\" fill-opacity=\"1\" /><path clip-path=\"url(#clip920)\" d=\"M 0 0 M2060.75 1557.52 L2068.39 1557.52 L2068.39 1531.15 L2060.08 1532.82 L2060.08 1528.56 L2068.34 1526.9 L2073.02 1526.9 L2073.02 1557.52 L2080.66 1557.52 L2080.66 1561.46 L2060.75 1561.46 L2060.75 1557.52 Z\" fill=\"#000000\" fill-rule=\"evenodd\" fill-opacity=\"1\" /><path clip-path=\"url(#clip920)\" d=\"M 0 0 M2095.73 1529.97 Q2092.12 1529.97 2090.29 1533.54 Q2088.48 1537.08 2088.48 1544.21 Q2088.48 1551.32 2090.29 1554.88 Q2092.12 1558.42 2095.73 1558.42 Q2099.36 1558.42 2101.17 1554.88 Q2103 1551.32 2103 1544.21 Q2103 1537.08 2101.17 1533.54 Q2099.36 1529.97 2095.73 1529.97 M2095.73 1526.27 Q2101.54 1526.27 2104.59 1530.88 Q2107.67 1535.46 2107.67 1544.21 Q2107.67 1552.94 2104.59 1557.54 Q2101.54 1562.13 2095.73 1562.13 Q2089.92 1562.13 2086.84 1557.54 Q2083.78 1552.94 2083.78 1544.21 Q2083.78 1535.46 2086.84 1530.88 Q2089.92 1526.27 2095.73 1526.27 Z\" fill=\"#000000\" fill-rule=\"evenodd\" fill-opacity=\"1\" /><path clip-path=\"url(#clip920)\" d=\"M 0 0 M2120.35 1509.27 L2110.76 1524.26 L2120.35 1524.26 L2120.35 1509.27 M2119.35 1505.96 L2124.13 1505.96 L2124.13 1524.26 L2128.14 1524.26 L2128.14 1527.42 L2124.13 1527.42 L2124.13 1534.04 L2120.35 1534.04 L2120.35 1527.42 L2107.67 1527.42 L2107.67 1523.76 L2119.35 1505.96 Z\" fill=\"#000000\" fill-rule=\"evenodd\" fill-opacity=\"1\" /><path clip-path=\"url(#clip920)\" d=\"M 0 0 M64.3347 1200.44 L71.9736 1200.44 L71.9736 1174.08 L63.6634 1175.74 L63.6634 1171.49 L71.9273 1169.82 L76.6032 1169.82 L76.6032 1200.44 L84.242 1200.44 L84.242 1204.38 L64.3347 1204.38 L64.3347 1200.44 Z\" fill=\"#000000\" fill-rule=\"evenodd\" fill-opacity=\"1\" /><path clip-path=\"url(#clip920)\" d=\"M 0 0 M102.159 1173.89 L90.3531 1192.34 L102.159 1192.34 L102.159 1173.89 M100.932 1169.82 L106.811 1169.82 L106.811 1192.34 L111.742 1192.34 L111.742 1196.23 L106.811 1196.23 L106.811 1204.38 L102.159 1204.38 L102.159 1196.23 L86.5568 1196.23 L86.5568 1191.72 L100.932 1169.82 Z\" fill=\"#000000\" fill-rule=\"evenodd\" fill-opacity=\"1\" /><path clip-path=\"url(#clip920)\" d=\"M 0 0 M116.811 1198.5 L121.696 1198.5 L121.696 1204.38 L116.811 1204.38 L116.811 1198.5 Z\" fill=\"#000000\" fill-rule=\"evenodd\" fill-opacity=\"1\" /><path clip-path=\"url(#clip920)\" d=\"M 0 0 M126.811 1169.82 L145.168 1169.82 L145.168 1173.75 L131.094 1173.75 L131.094 1182.23 Q132.112 1181.88 133.131 1181.72 Q134.149 1181.53 135.168 1181.53 Q140.955 1181.53 144.334 1184.7 Q147.714 1187.87 147.714 1193.29 Q147.714 1198.87 144.242 1201.97 Q140.769 1205.05 134.45 1205.05 Q132.274 1205.05 130.006 1204.68 Q127.76 1204.31 125.353 1203.57 L125.353 1198.87 Q127.436 1200 129.658 1200.56 Q131.881 1201.11 134.357 1201.11 Q138.362 1201.11 140.7 1199.01 Q143.038 1196.9 143.038 1193.29 Q143.038 1189.68 140.7 1187.57 Q138.362 1185.47 134.357 1185.47 Q132.482 1185.47 130.608 1185.88 Q128.756 1186.3 126.811 1187.18 L126.811 1169.82 Z\" fill=\"#000000\" fill-rule=\"evenodd\" fill-opacity=\"1\" /><path clip-path=\"url(#clip920)\" d=\"M 0 0 M64.8208 877.172 L72.4597 877.172 L72.4597 850.807 L64.1495 852.473 L64.1495 848.214 L72.4134 846.547 L77.0893 846.547 L77.0893 877.172 L84.7281 877.172 L84.7281 881.107 L64.8208 881.107 L64.8208 877.172 Z\" fill=\"#000000\" fill-rule=\"evenodd\" fill-opacity=\"1\" /><path clip-path=\"url(#clip920)\" d=\"M 0 0 M89.8438 846.547 L108.2 846.547 L108.2 850.483 L94.1262 850.483 L94.1262 858.955 Q95.1447 858.607 96.1632 858.445 Q97.1818 858.26 98.2003 858.26 Q103.987 858.26 107.367 861.432 Q110.746 864.603 110.746 870.019 Q110.746 875.598 107.274 878.7 Q103.802 881.779 97.4827 881.779 Q95.3068 881.779 93.0383 881.408 Q90.7929 881.038 88.3855 880.297 L88.3855 875.598 Q90.4688 876.732 92.691 877.288 Q94.9133 877.843 97.3901 877.843 Q101.395 877.843 103.733 875.737 Q106.071 873.631 106.071 870.019 Q106.071 866.408 103.733 864.302 Q101.395 862.195 97.3901 862.195 Q95.5151 862.195 93.6401 862.612 Q91.7883 863.029 89.8438 863.908 L89.8438 846.547 Z\" fill=\"#000000\" fill-rule=\"evenodd\" fill-opacity=\"1\" /><path clip-path=\"url(#clip920)\" d=\"M 0 0 M115.816 875.228 L120.7 875.228 L120.7 881.107 L115.816 881.107 L115.816 875.228 Z\" fill=\"#000000\" fill-rule=\"evenodd\" fill-opacity=\"1\" /><path clip-path=\"url(#clip920)\" d=\"M 0 0 M135.77 849.626 Q132.158 849.626 130.33 853.191 Q128.524 856.733 128.524 863.862 Q128.524 870.969 130.33 874.533 Q132.158 878.075 135.77 878.075 Q139.404 878.075 141.209 874.533 Q143.038 870.969 143.038 863.862 Q143.038 856.733 141.209 853.191 Q139.404 849.626 135.77 849.626 M135.77 845.922 Q141.58 845.922 144.635 850.529 Q147.714 855.112 147.714 863.862 Q147.714 872.589 144.635 877.195 Q141.58 881.779 135.77 881.779 Q129.959 881.779 126.881 877.195 Q123.825 872.589 123.825 863.862 Q123.825 855.112 126.881 850.529 Q129.959 845.922 135.77 845.922 Z\" fill=\"#000000\" fill-rule=\"evenodd\" fill-opacity=\"1\" /><path clip-path=\"url(#clip920)\" d=\"M 0 0 M65.8162 553.901 L73.455 553.901 L73.455 527.535 L65.1449 529.202 L65.1449 524.943 L73.4087 523.276 L78.0846 523.276 L78.0846 553.901 L85.7235 553.901 L85.7235 557.836 L65.8162 557.836 L65.8162 553.901 Z\" fill=\"#000000\" fill-rule=\"evenodd\" fill-opacity=\"1\" /><path clip-path=\"url(#clip920)\" d=\"M 0 0 M90.8392 523.276 L109.196 523.276 L109.196 527.211 L95.1216 527.211 L95.1216 535.683 Q96.1401 535.336 97.1586 535.174 Q98.1771 534.989 99.1956 534.989 Q104.983 534.989 108.362 538.16 Q111.742 541.332 111.742 546.748 Q111.742 552.327 108.27 555.429 Q104.797 558.507 98.478 558.507 Q96.3021 558.507 94.0336 558.137 Q91.7883 557.767 89.3809 557.026 L89.3809 552.327 Q91.4642 553.461 93.6864 554.017 Q95.9086 554.572 98.3855 554.572 Q102.39 554.572 104.728 552.466 Q107.066 550.359 107.066 546.748 Q107.066 543.137 104.728 541.031 Q102.39 538.924 98.3855 538.924 Q96.5105 538.924 94.6355 539.341 Q92.7836 539.757 90.8392 540.637 L90.8392 523.276 Z\" fill=\"#000000\" fill-rule=\"evenodd\" fill-opacity=\"1\" /><path clip-path=\"url(#clip920)\" d=\"M 0 0 M116.811 551.956 L121.696 551.956 L121.696 557.836 L116.811 557.836 L116.811 551.956 Z\" fill=\"#000000\" fill-rule=\"evenodd\" fill-opacity=\"1\" /><path clip-path=\"url(#clip920)\" d=\"M 0 0 M126.811 523.276 L145.168 523.276 L145.168 527.211 L131.094 527.211 L131.094 535.683 Q132.112 535.336 133.131 535.174 Q134.149 534.989 135.168 534.989 Q140.955 534.989 144.334 538.16 Q147.714 541.332 147.714 546.748 Q147.714 552.327 144.242 555.429 Q140.769 558.507 134.45 558.507 Q132.274 558.507 130.006 558.137 Q127.76 557.767 125.353 557.026 L125.353 552.327 Q127.436 553.461 129.658 554.017 Q131.881 554.572 134.357 554.572 Q138.362 554.572 140.7 552.466 Q143.038 550.359 143.038 546.748 Q143.038 543.137 140.7 541.031 Q138.362 538.924 134.357 538.924 Q132.482 538.924 130.608 539.341 Q128.756 539.757 126.811 540.637 L126.811 523.276 Z\" fill=\"#000000\" fill-rule=\"evenodd\" fill-opacity=\"1\" /><path clip-path=\"url(#clip920)\" d=\"M 0 0 M63.6634 230.63 L71.3023 230.63 L71.3023 204.264 L62.9921 205.931 L62.9921 201.671 L71.256 200.005 L75.9319 200.005 L75.9319 230.63 L83.5707 230.63 L83.5707 234.565 L63.6634 234.565 L63.6634 230.63 Z\" fill=\"#000000\" fill-rule=\"evenodd\" fill-opacity=\"1\" /><path clip-path=\"url(#clip920)\" d=\"M 0 0 M99.2188 215.421 Q96.0707 215.421 94.2188 217.574 Q92.3901 219.727 92.3901 223.477 Q92.3901 227.204 94.2188 229.38 Q96.0707 231.532 99.2188 231.532 Q102.367 231.532 104.196 229.38 Q106.047 227.204 106.047 223.477 Q106.047 219.727 104.196 217.574 Q102.367 215.421 99.2188 215.421 M108.501 200.769 L108.501 205.028 Q106.742 204.195 104.936 203.755 Q103.154 203.315 101.395 203.315 Q96.7651 203.315 94.3114 206.44 Q91.8809 209.565 91.5336 215.884 Q92.8994 213.87 94.9595 212.806 Q97.0197 211.718 99.4966 211.718 Q104.705 211.718 107.714 214.889 Q110.746 218.037 110.746 223.477 Q110.746 228.801 107.598 232.019 Q104.45 235.236 99.2188 235.236 Q93.2234 235.236 90.0522 230.653 Q86.8809 226.046 86.8809 217.32 Q86.8809 209.125 90.7698 204.264 Q94.6586 199.38 101.21 199.38 Q102.969 199.38 104.751 199.727 Q106.557 200.074 108.501 200.769 Z\" fill=\"#000000\" fill-rule=\"evenodd\" fill-opacity=\"1\" /><path clip-path=\"url(#clip920)\" d=\"M 0 0 M115.816 228.685 L120.7 228.685 L120.7 234.565 L115.816 234.565 L115.816 228.685 Z\" fill=\"#000000\" fill-rule=\"evenodd\" fill-opacity=\"1\" /><path clip-path=\"url(#clip920)\" d=\"M 0 0 M135.77 203.083 Q132.158 203.083 130.33 206.648 Q128.524 210.19 128.524 217.32 Q128.524 224.426 130.33 227.991 Q132.158 231.532 135.77 231.532 Q139.404 231.532 141.209 227.991 Q143.038 224.426 143.038 217.32 Q143.038 210.19 141.209 206.648 Q139.404 203.083 135.77 203.083 M135.77 199.38 Q141.58 199.38 144.635 203.986 Q147.714 208.57 147.714 217.32 Q147.714 226.046 144.635 230.653 Q141.58 235.236 135.77 235.236 Q129.959 235.236 126.881 230.653 Q123.825 226.046 123.825 217.32 Q123.825 208.57 126.881 203.986 Q129.959 199.38 135.77 199.38 Z\" fill=\"#000000\" fill-rule=\"evenodd\" fill-opacity=\"1\" /><polyline clip-path=\"url(#clip922)\" style=\"stroke:#009af9; stroke-width:4; stroke-opacity:1; fill:none\" points=\"\n",
       "  2291.03,1251.75 323.884,1187.1 304.076,1122.44 243.826,1445.72 233.441,87.9763 \n",
       "  \"/>\n",
       "<path clip-path=\"url(#clip920)\" d=\"\n",
       "M1975.11 251.724 L2280.76 251.724 L2280.76 130.764 L1975.11 130.764  Z\n",
       "  \" fill=\"#ffffff\" fill-rule=\"evenodd\" fill-opacity=\"1\"/>\n",
       "<polyline clip-path=\"url(#clip920)\" style=\"stroke:#000000; stroke-width:4; stroke-opacity:1; fill:none\" points=\"\n",
       "  1975.11,251.724 2280.76,251.724 2280.76,130.764 1975.11,130.764 1975.11,251.724 \n",
       "  \"/>\n",
       "<polyline clip-path=\"url(#clip920)\" style=\"stroke:#009af9; stroke-width:4; stroke-opacity:1; fill:none\" points=\"\n",
       "  1999.11,191.244 2143.11,191.244 \n",
       "  \"/>\n",
       "<path clip-path=\"url(#clip920)\" d=\"M 0 0 M2167.11 172.506 L2171.37 172.506 L2171.37 208.524 L2167.11 208.524 L2167.11 172.506 Z\" fill=\"#000000\" fill-rule=\"evenodd\" fill-opacity=\"1\" /><path clip-path=\"url(#clip920)\" d=\"M 0 0 M2175.83 182.598 L2180.09 182.598 L2180.09 208.524 L2175.83 208.524 L2175.83 182.598 M2175.83 172.506 L2180.09 172.506 L2180.09 177.899 L2175.83 177.899 L2175.83 172.506 Z\" fill=\"#000000\" fill-rule=\"evenodd\" fill-opacity=\"1\" /><path clip-path=\"url(#clip920)\" d=\"M 0 0 M2206.11 192.876 L2206.11 208.524 L2201.85 208.524 L2201.85 193.015 Q2201.85 189.334 2200.42 187.506 Q2198.98 185.677 2196.11 185.677 Q2192.66 185.677 2190.67 187.876 Q2188.68 190.075 2188.68 193.871 L2188.68 208.524 L2184.4 208.524 L2184.4 182.598 L2188.68 182.598 L2188.68 186.626 Q2190.21 184.288 2192.27 183.131 Q2194.35 181.973 2197.06 181.973 Q2201.53 181.973 2203.82 184.751 Q2206.11 187.506 2206.11 192.876 Z\" fill=\"#000000\" fill-rule=\"evenodd\" fill-opacity=\"1\" /><path clip-path=\"url(#clip920)\" d=\"M 0 0 M2232.76 194.496 L2232.76 196.58 L2213.17 196.58 Q2213.45 200.978 2215.81 203.293 Q2218.2 205.584 2222.43 205.584 Q2224.89 205.584 2227.18 204.982 Q2229.49 204.381 2231.76 203.177 L2231.76 207.205 Q2229.47 208.177 2227.06 208.686 Q2224.65 209.195 2222.18 209.195 Q2215.97 209.195 2212.34 205.584 Q2208.73 201.973 2208.73 195.816 Q2208.73 189.45 2212.15 185.723 Q2215.6 181.973 2221.44 181.973 Q2226.67 181.973 2229.7 185.353 Q2232.76 188.709 2232.76 194.496 M2228.5 193.246 Q2228.45 189.751 2226.53 187.668 Q2224.63 185.584 2221.48 185.584 Q2217.92 185.584 2215.77 187.598 Q2213.64 189.612 2213.31 193.27 L2228.5 193.246 Z\" fill=\"#000000\" fill-rule=\"evenodd\" fill-opacity=\"1\" /></svg>\n"
      ]
     },
     "execution_count": 93,
     "metadata": {},
     "output_type": "execute_result"
    }
   ],
   "source": [
    "plot(numpirates,globaltemp,label=\"line\")"
   ]
  },
  {
   "cell_type": "code",
   "execution_count": null,
   "metadata": {},
   "outputs": [],
   "source": []
  },
  {
   "cell_type": "code",
   "execution_count": 94,
   "metadata": {},
   "outputs": [],
   "source": [
    "#Pkg.update(\"GR\")\n",
    "#Pkg.update(\"Plots\")\n",
    "#ENV[\"GRDIR\"]=\"\"\n",
    "#Pkg.build(\"GR\")"
   ]
  },
  {
   "cell_type": "code",
   "execution_count": 95,
   "metadata": {},
   "outputs": [
    {
     "data": {
      "image/svg+xml": [
       "<?xml version=\"1.0\" encoding=\"utf-8\"?>\n",
       "<svg xmlns=\"http://www.w3.org/2000/svg\" xmlns:xlink=\"http://www.w3.org/1999/xlink\" width=\"600\" height=\"400\" viewBox=\"0 0 2400 1600\">\n",
       "<defs>\n",
       "  <clipPath id=\"clip960\">\n",
       "    <rect x=\"0\" y=\"0\" width=\"2400\" height=\"1600\"/>\n",
       "  </clipPath>\n",
       "</defs>\n",
       "<path clip-path=\"url(#clip960)\" d=\"\n",
       "M0 1600 L2400 1600 L2400 0 L0 0  Z\n",
       "  \" fill=\"#ffffff\" fill-rule=\"evenodd\" fill-opacity=\"1\"/>\n",
       "<defs>\n",
       "  <clipPath id=\"clip961\">\n",
       "    <rect x=\"480\" y=\"0\" width=\"1681\" height=\"1600\"/>\n",
       "  </clipPath>\n",
       "</defs>\n",
       "<path clip-path=\"url(#clip960)\" d=\"\n",
       "M234.982 1423.18 L2352.76 1423.18 L2352.76 123.472 L234.982 123.472  Z\n",
       "  \" fill=\"#ffffff\" fill-rule=\"evenodd\" fill-opacity=\"1\"/>\n",
       "<defs>\n",
       "  <clipPath id=\"clip962\">\n",
       "    <rect x=\"234\" y=\"123\" width=\"2119\" height=\"1301\"/>\n",
       "  </clipPath>\n",
       "</defs>\n",
       "<polyline clip-path=\"url(#clip962)\" style=\"stroke:#000000; stroke-width:2; stroke-opacity:0.1; fill:none\" points=\"\n",
       "  293.897,1423.18 293.897,123.472 \n",
       "  \"/>\n",
       "<polyline clip-path=\"url(#clip962)\" style=\"stroke:#000000; stroke-width:2; stroke-opacity:0.1; fill:none\" points=\"\n",
       "  738.102,1423.18 738.102,123.472 \n",
       "  \"/>\n",
       "<polyline clip-path=\"url(#clip962)\" style=\"stroke:#000000; stroke-width:2; stroke-opacity:0.1; fill:none\" points=\"\n",
       "  1182.31,1423.18 1182.31,123.472 \n",
       "  \"/>\n",
       "<polyline clip-path=\"url(#clip962)\" style=\"stroke:#000000; stroke-width:2; stroke-opacity:0.1; fill:none\" points=\"\n",
       "  1626.51,1423.18 1626.51,123.472 \n",
       "  \"/>\n",
       "<polyline clip-path=\"url(#clip962)\" style=\"stroke:#000000; stroke-width:2; stroke-opacity:0.1; fill:none\" points=\"\n",
       "  2070.72,1423.18 2070.72,123.472 \n",
       "  \"/>\n",
       "<polyline clip-path=\"url(#clip962)\" style=\"stroke:#000000; stroke-width:2; stroke-opacity:0.1; fill:none\" points=\"\n",
       "  234.982,1152.85 2352.76,1152.85 \n",
       "  \"/>\n",
       "<polyline clip-path=\"url(#clip962)\" style=\"stroke:#000000; stroke-width:2; stroke-opacity:0.1; fill:none\" points=\"\n",
       "  234.982,860.907 2352.76,860.907 \n",
       "  \"/>\n",
       "<polyline clip-path=\"url(#clip962)\" style=\"stroke:#000000; stroke-width:2; stroke-opacity:0.1; fill:none\" points=\"\n",
       "  234.982,568.969 2352.76,568.969 \n",
       "  \"/>\n",
       "<polyline clip-path=\"url(#clip962)\" style=\"stroke:#000000; stroke-width:2; stroke-opacity:0.1; fill:none\" points=\"\n",
       "  234.982,277.031 2352.76,277.031 \n",
       "  \"/>\n",
       "<polyline clip-path=\"url(#clip960)\" style=\"stroke:#000000; stroke-width:4; stroke-opacity:1; fill:none\" points=\"\n",
       "  234.982,1423.18 2352.76,1423.18 \n",
       "  \"/>\n",
       "<polyline clip-path=\"url(#clip960)\" style=\"stroke:#000000; stroke-width:4; stroke-opacity:1; fill:none\" points=\"\n",
       "  234.982,1423.18 234.982,123.472 \n",
       "  \"/>\n",
       "<polyline clip-path=\"url(#clip960)\" style=\"stroke:#000000; stroke-width:4; stroke-opacity:1; fill:none\" points=\"\n",
       "  293.897,1423.18 293.897,1407.58 \n",
       "  \"/>\n",
       "<polyline clip-path=\"url(#clip960)\" style=\"stroke:#000000; stroke-width:4; stroke-opacity:1; fill:none\" points=\"\n",
       "  738.102,1423.18 738.102,1407.58 \n",
       "  \"/>\n",
       "<polyline clip-path=\"url(#clip960)\" style=\"stroke:#000000; stroke-width:4; stroke-opacity:1; fill:none\" points=\"\n",
       "  1182.31,1423.18 1182.31,1407.58 \n",
       "  \"/>\n",
       "<polyline clip-path=\"url(#clip960)\" style=\"stroke:#000000; stroke-width:4; stroke-opacity:1; fill:none\" points=\"\n",
       "  1626.51,1423.18 1626.51,1407.58 \n",
       "  \"/>\n",
       "<polyline clip-path=\"url(#clip960)\" style=\"stroke:#000000; stroke-width:4; stroke-opacity:1; fill:none\" points=\"\n",
       "  2070.72,1423.18 2070.72,1407.58 \n",
       "  \"/>\n",
       "<polyline clip-path=\"url(#clip960)\" style=\"stroke:#000000; stroke-width:4; stroke-opacity:1; fill:none\" points=\"\n",
       "  234.982,1152.85 260.395,1152.85 \n",
       "  \"/>\n",
       "<polyline clip-path=\"url(#clip960)\" style=\"stroke:#000000; stroke-width:4; stroke-opacity:1; fill:none\" points=\"\n",
       "  234.982,860.907 260.395,860.907 \n",
       "  \"/>\n",
       "<polyline clip-path=\"url(#clip960)\" style=\"stroke:#000000; stroke-width:4; stroke-opacity:1; fill:none\" points=\"\n",
       "  234.982,568.969 260.395,568.969 \n",
       "  \"/>\n",
       "<polyline clip-path=\"url(#clip960)\" style=\"stroke:#000000; stroke-width:4; stroke-opacity:1; fill:none\" points=\"\n",
       "  234.982,277.031 260.395,277.031 \n",
       "  \"/>\n",
       "<path clip-path=\"url(#clip960)\" d=\"M 0 0 M293.897 1445.17 Q290.286 1445.17 288.457 1448.74 Q286.652 1452.28 286.652 1459.41 Q286.652 1466.51 288.457 1470.08 Q290.286 1473.62 293.897 1473.62 Q297.531 1473.62 299.337 1470.08 Q301.166 1466.51 301.166 1459.41 Q301.166 1452.28 299.337 1448.74 Q297.531 1445.17 293.897 1445.17 M293.897 1441.47 Q299.707 1441.47 302.763 1446.07 Q305.842 1450.66 305.842 1459.41 Q305.842 1468.13 302.763 1472.74 Q299.707 1477.32 293.897 1477.32 Q288.087 1477.32 285.008 1472.74 Q281.953 1468.13 281.953 1459.41 Q281.953 1450.66 285.008 1446.07 Q288.087 1441.47 293.897 1441.47 Z\" fill=\"#000000\" fill-rule=\"evenodd\" fill-opacity=\"1\" /><path clip-path=\"url(#clip960)\" d=\"M 0 0 M675.232 1494.25 L682.871 1494.25 L682.871 1467.89 L674.561 1469.55 L674.561 1465.29 L682.825 1463.63 L687.5 1463.63 L687.5 1494.25 L695.139 1494.25 L695.139 1498.19 L675.232 1498.19 L675.232 1494.25 Z\" fill=\"#000000\" fill-rule=\"evenodd\" fill-opacity=\"1\" /><path clip-path=\"url(#clip960)\" d=\"M 0 0 M728.38 1472.72 L717.801 1483.35 L728.38 1493.93 L725.625 1496.73 L715 1486.1 L704.375 1496.73 L701.644 1493.93 L712.199 1483.35 L701.644 1472.72 L704.375 1469.92 L715 1480.55 L725.625 1469.92 L728.38 1472.72 Z\" fill=\"#000000\" fill-rule=\"evenodd\" fill-opacity=\"1\" /><path clip-path=\"url(#clip960)\" d=\"M 0 0 M734.259 1494.25 L741.898 1494.25 L741.898 1467.89 L733.588 1469.55 L733.588 1465.29 L741.852 1463.63 L746.528 1463.63 L746.528 1494.25 L754.167 1494.25 L754.167 1498.19 L734.259 1498.19 L734.259 1494.25 Z\" fill=\"#000000\" fill-rule=\"evenodd\" fill-opacity=\"1\" /><path clip-path=\"url(#clip960)\" d=\"M 0 0 M769.236 1466.71 Q765.625 1466.71 763.796 1470.27 Q761.991 1473.81 761.991 1480.94 Q761.991 1488.05 763.796 1491.61 Q765.625 1495.15 769.236 1495.15 Q772.87 1495.15 774.676 1491.61 Q776.505 1488.05 776.505 1480.94 Q776.505 1473.81 774.676 1470.27 Q772.87 1466.71 769.236 1466.71 M769.236 1463 Q775.046 1463 778.102 1467.61 Q781.181 1472.19 781.181 1480.94 Q781.181 1489.67 778.102 1494.28 Q775.046 1498.86 769.236 1498.86 Q763.426 1498.86 760.347 1494.28 Q757.292 1489.67 757.292 1480.94 Q757.292 1472.19 760.347 1467.61 Q763.426 1463 769.236 1463 Z\" fill=\"#000000\" fill-rule=\"evenodd\" fill-opacity=\"1\" /><path clip-path=\"url(#clip960)\" d=\"M 0 0 M793.857 1446.01 L784.265 1461 L793.857 1461 L793.857 1446.01 M792.86 1442.7 L797.637 1442.7 L797.637 1461 L801.643 1461 L801.643 1464.16 L797.637 1464.16 L797.637 1470.78 L793.857 1470.78 L793.857 1464.16 L781.181 1464.16 L781.181 1460.49 L792.86 1442.7 Z\" fill=\"#000000\" fill-rule=\"evenodd\" fill-opacity=\"1\" /><path clip-path=\"url(#clip960)\" d=\"M 0 0 M1123.71 1494.25 L1140.03 1494.25 L1140.03 1498.19 L1118.08 1498.19 L1118.08 1494.25 Q1120.74 1491.5 1125.33 1486.87 Q1129.93 1482.21 1131.12 1480.87 Q1133.36 1478.35 1134.24 1476.61 Q1135.14 1474.85 1135.14 1473.16 Q1135.14 1470.41 1133.2 1468.67 Q1131.28 1466.94 1128.18 1466.94 Q1125.98 1466.94 1123.52 1467.7 Q1121.09 1468.46 1118.31 1470.02 L1118.31 1465.29 Q1121.14 1464.16 1123.59 1463.58 Q1126.05 1463 1128.08 1463 Q1133.45 1463 1136.65 1465.69 Q1139.84 1468.37 1139.84 1472.86 Q1139.84 1474.99 1139.03 1476.91 Q1138.24 1478.81 1136.14 1481.4 Q1135.56 1482.08 1132.46 1485.29 Q1129.36 1488.49 1123.71 1494.25 Z\" fill=\"#000000\" fill-rule=\"evenodd\" fill-opacity=\"1\" /><path clip-path=\"url(#clip960)\" d=\"M 0 0 M1173.27 1472.72 L1162.69 1483.35 L1173.27 1493.93 L1170.51 1496.73 L1159.89 1486.1 L1149.26 1496.73 L1146.53 1493.93 L1157.09 1483.35 L1146.53 1472.72 L1149.26 1469.92 L1159.89 1480.55 L1170.51 1469.92 L1173.27 1472.72 Z\" fill=\"#000000\" fill-rule=\"evenodd\" fill-opacity=\"1\" /><path clip-path=\"url(#clip960)\" d=\"M 0 0 M1179.15 1494.25 L1186.79 1494.25 L1186.79 1467.89 L1178.48 1469.55 L1178.48 1465.29 L1186.74 1463.63 L1191.42 1463.63 L1191.42 1494.25 L1199.05 1494.25 L1199.05 1498.19 L1179.15 1498.19 L1179.15 1494.25 Z\" fill=\"#000000\" fill-rule=\"evenodd\" fill-opacity=\"1\" /><path clip-path=\"url(#clip960)\" d=\"M 0 0 M1214.12 1466.71 Q1210.51 1466.71 1208.68 1470.27 Q1206.88 1473.81 1206.88 1480.94 Q1206.88 1488.05 1208.68 1491.61 Q1210.51 1495.15 1214.12 1495.15 Q1217.76 1495.15 1219.56 1491.61 Q1221.39 1488.05 1221.39 1480.94 Q1221.39 1473.81 1219.56 1470.27 Q1217.76 1466.71 1214.12 1466.71 M1214.12 1463 Q1219.93 1463 1222.99 1467.61 Q1226.07 1472.19 1226.07 1480.94 Q1226.07 1489.67 1222.99 1494.28 Q1219.93 1498.86 1214.12 1498.86 Q1208.31 1498.86 1205.23 1494.28 Q1202.18 1489.67 1202.18 1480.94 Q1202.18 1472.19 1205.23 1467.61 Q1208.31 1463 1214.12 1463 Z\" fill=\"#000000\" fill-rule=\"evenodd\" fill-opacity=\"1\" /><path clip-path=\"url(#clip960)\" d=\"M 0 0 M1238.74 1446.01 L1229.15 1461 L1238.74 1461 L1238.74 1446.01 M1237.75 1442.7 L1242.53 1442.7 L1242.53 1461 L1246.53 1461 L1246.53 1464.16 L1242.53 1464.16 L1242.53 1470.78 L1238.74 1470.78 L1238.74 1464.16 L1226.07 1464.16 L1226.07 1460.49 L1237.75 1442.7 Z\" fill=\"#000000\" fill-rule=\"evenodd\" fill-opacity=\"1\" /><path clip-path=\"url(#clip960)\" d=\"M 0 0 M1577.51 1479.55 Q1580.86 1480.27 1582.74 1482.54 Q1584.64 1484.81 1584.64 1488.14 Q1584.64 1493.26 1581.12 1496.06 Q1577.6 1498.86 1571.12 1498.86 Q1568.94 1498.86 1566.63 1498.42 Q1564.34 1498 1561.88 1497.15 L1561.88 1492.63 Q1563.83 1493.77 1566.14 1494.34 Q1568.46 1494.92 1570.98 1494.92 Q1575.38 1494.92 1577.67 1493.19 Q1579.98 1491.45 1579.98 1488.14 Q1579.98 1485.09 1577.83 1483.37 Q1575.7 1481.64 1571.88 1481.64 L1567.85 1481.64 L1567.85 1477.79 L1572.07 1477.79 Q1575.52 1477.79 1577.35 1476.43 Q1579.17 1475.04 1579.17 1472.45 Q1579.17 1469.78 1577.28 1468.37 Q1575.4 1466.94 1571.88 1466.94 Q1569.96 1466.94 1567.76 1467.35 Q1565.56 1467.77 1562.92 1468.65 L1562.92 1464.48 Q1565.59 1463.74 1567.9 1463.37 Q1570.24 1463 1572.3 1463 Q1577.62 1463 1580.72 1465.43 Q1583.83 1467.84 1583.83 1471.96 Q1583.83 1474.83 1582.18 1476.82 Q1580.54 1478.79 1577.51 1479.55 Z\" fill=\"#000000\" fill-rule=\"evenodd\" fill-opacity=\"1\" /><path clip-path=\"url(#clip960)\" d=\"M 0 0 M1617.88 1472.72 L1607.3 1483.35 L1617.88 1493.93 L1615.12 1496.73 L1604.5 1486.1 L1593.87 1496.73 L1591.14 1493.93 L1601.7 1483.35 L1591.14 1472.72 L1593.87 1469.92 L1604.5 1480.55 L1615.12 1469.92 L1617.88 1472.72 Z\" fill=\"#000000\" fill-rule=\"evenodd\" fill-opacity=\"1\" /><path clip-path=\"url(#clip960)\" d=\"M 0 0 M1623.76 1494.25 L1631.4 1494.25 L1631.4 1467.89 L1623.09 1469.55 L1623.09 1465.29 L1631.35 1463.63 L1636.03 1463.63 L1636.03 1494.25 L1643.66 1494.25 L1643.66 1498.19 L1623.76 1498.19 L1623.76 1494.25 Z\" fill=\"#000000\" fill-rule=\"evenodd\" fill-opacity=\"1\" /><path clip-path=\"url(#clip960)\" d=\"M 0 0 M1658.73 1466.71 Q1655.12 1466.71 1653.29 1470.27 Q1651.49 1473.81 1651.49 1480.94 Q1651.49 1488.05 1653.29 1491.61 Q1655.12 1495.15 1658.73 1495.15 Q1662.37 1495.15 1664.17 1491.61 Q1666 1488.05 1666 1480.94 Q1666 1473.81 1664.17 1470.27 Q1662.37 1466.71 1658.73 1466.71 M1658.73 1463 Q1664.54 1463 1667.6 1467.61 Q1670.68 1472.19 1670.68 1480.94 Q1670.68 1489.67 1667.6 1494.28 Q1664.54 1498.86 1658.73 1498.86 Q1652.92 1498.86 1649.84 1494.28 Q1646.79 1489.67 1646.79 1480.94 Q1646.79 1472.19 1649.84 1467.61 Q1652.92 1463 1658.73 1463 Z\" fill=\"#000000\" fill-rule=\"evenodd\" fill-opacity=\"1\" /><path clip-path=\"url(#clip960)\" d=\"M 0 0 M1683.35 1446.01 L1673.76 1461 L1683.35 1461 L1683.35 1446.01 M1682.36 1442.7 L1687.13 1442.7 L1687.13 1461 L1691.14 1461 L1691.14 1464.16 L1687.13 1464.16 L1687.13 1470.78 L1683.35 1470.78 L1683.35 1464.16 L1670.68 1464.16 L1670.68 1460.49 L1682.36 1442.7 Z\" fill=\"#000000\" fill-rule=\"evenodd\" fill-opacity=\"1\" /><path clip-path=\"url(#clip960)\" d=\"M 0 0 M2020.47 1467.7 L2008.67 1486.15 L2020.47 1486.15 L2020.47 1467.7 M2019.25 1463.63 L2025.13 1463.63 L2025.13 1486.15 L2030.06 1486.15 L2030.06 1490.04 L2025.13 1490.04 L2025.13 1498.19 L2020.47 1498.19 L2020.47 1490.04 L2004.87 1490.04 L2004.87 1485.53 L2019.25 1463.63 Z\" fill=\"#000000\" fill-rule=\"evenodd\" fill-opacity=\"1\" /><path clip-path=\"url(#clip960)\" d=\"M 0 0 M2063.3 1472.72 L2052.72 1483.35 L2063.3 1493.93 L2060.54 1496.73 L2049.92 1486.1 L2039.29 1496.73 L2036.56 1493.93 L2047.12 1483.35 L2036.56 1472.72 L2039.29 1469.92 L2049.92 1480.55 L2060.54 1469.92 L2063.3 1472.72 Z\" fill=\"#000000\" fill-rule=\"evenodd\" fill-opacity=\"1\" /><path clip-path=\"url(#clip960)\" d=\"M 0 0 M2069.18 1494.25 L2076.82 1494.25 L2076.82 1467.89 L2068.51 1469.55 L2068.51 1465.29 L2076.77 1463.63 L2081.45 1463.63 L2081.45 1494.25 L2089.08 1494.25 L2089.08 1498.19 L2069.18 1498.19 L2069.18 1494.25 Z\" fill=\"#000000\" fill-rule=\"evenodd\" fill-opacity=\"1\" /><path clip-path=\"url(#clip960)\" d=\"M 0 0 M2104.15 1466.71 Q2100.54 1466.71 2098.71 1470.27 Q2096.91 1473.81 2096.91 1480.94 Q2096.91 1488.05 2098.71 1491.61 Q2100.54 1495.15 2104.15 1495.15 Q2107.79 1495.15 2109.59 1491.61 Q2111.42 1488.05 2111.42 1480.94 Q2111.42 1473.81 2109.59 1470.27 Q2107.79 1466.71 2104.15 1466.71 M2104.15 1463 Q2109.96 1463 2113.02 1467.61 Q2116.1 1472.19 2116.1 1480.94 Q2116.1 1489.67 2113.02 1494.28 Q2109.96 1498.86 2104.15 1498.86 Q2098.34 1498.86 2095.26 1494.28 Q2092.21 1489.67 2092.21 1480.94 Q2092.21 1472.19 2095.26 1467.61 Q2098.34 1463 2104.15 1463 Z\" fill=\"#000000\" fill-rule=\"evenodd\" fill-opacity=\"1\" /><path clip-path=\"url(#clip960)\" d=\"M 0 0 M2128.77 1446.01 L2119.18 1461 L2128.77 1461 L2128.77 1446.01 M2127.78 1442.7 L2132.55 1442.7 L2132.55 1461 L2136.56 1461 L2136.56 1464.16 L2132.55 1464.16 L2132.55 1470.78 L2128.77 1470.78 L2128.77 1464.16 L2116.1 1464.16 L2116.1 1460.49 L2127.78 1442.7 Z\" fill=\"#000000\" fill-rule=\"evenodd\" fill-opacity=\"1\" /><path clip-path=\"url(#clip960)\" d=\"M 0 0 M127.603 1166.19 L135.242 1166.19 L135.242 1139.82 L126.931 1141.49 L126.931 1137.23 L135.195 1135.57 L139.871 1135.57 L139.871 1166.19 L147.51 1166.19 L147.51 1170.13 L127.603 1170.13 L127.603 1166.19 Z\" fill=\"#000000\" fill-rule=\"evenodd\" fill-opacity=\"1\" /><path clip-path=\"url(#clip960)\" d=\"M 0 0 M165.427 1139.64 L153.621 1158.09 L165.427 1158.09 L165.427 1139.64 M164.2 1135.57 L170.079 1135.57 L170.079 1158.09 L175.01 1158.09 L175.01 1161.98 L170.079 1161.98 L170.079 1170.13 L165.427 1170.13 L165.427 1161.98 L149.825 1161.98 L149.825 1157.46 L164.2 1135.57 Z\" fill=\"#000000\" fill-rule=\"evenodd\" fill-opacity=\"1\" /><path clip-path=\"url(#clip960)\" d=\"M 0 0 M180.079 1164.25 L184.964 1164.25 L184.964 1170.13 L180.079 1170.13 L180.079 1164.25 Z\" fill=\"#000000\" fill-rule=\"evenodd\" fill-opacity=\"1\" /><path clip-path=\"url(#clip960)\" d=\"M 0 0 M190.079 1135.57 L208.436 1135.57 L208.436 1139.5 L194.362 1139.5 L194.362 1147.97 Q195.38 1147.63 196.399 1147.46 Q197.417 1147.28 198.436 1147.28 Q204.223 1147.28 207.602 1150.45 Q210.982 1153.62 210.982 1159.04 Q210.982 1164.62 207.51 1167.72 Q204.038 1170.8 197.718 1170.8 Q195.542 1170.8 193.274 1170.43 Q191.028 1170.06 188.621 1169.32 L188.621 1164.62 Q190.704 1165.75 192.926 1166.31 Q195.149 1166.86 197.626 1166.86 Q201.63 1166.86 203.968 1164.75 Q206.306 1162.65 206.306 1159.04 Q206.306 1155.43 203.968 1153.32 Q201.63 1151.21 197.626 1151.21 Q195.751 1151.21 193.876 1151.63 Q192.024 1152.05 190.079 1152.93 L190.079 1135.57 Z\" fill=\"#000000\" fill-rule=\"evenodd\" fill-opacity=\"1\" /><path clip-path=\"url(#clip960)\" d=\"M 0 0 M128.089 874.252 L135.728 874.252 L135.728 847.887 L127.418 849.553 L127.418 845.294 L135.681 843.627 L140.357 843.627 L140.357 874.252 L147.996 874.252 L147.996 878.187 L128.089 878.187 L128.089 874.252 Z\" fill=\"#000000\" fill-rule=\"evenodd\" fill-opacity=\"1\" /><path clip-path=\"url(#clip960)\" d=\"M 0 0 M153.112 843.627 L171.468 843.627 L171.468 847.563 L157.394 847.563 L157.394 856.035 Q158.413 855.687 159.431 855.525 Q160.45 855.34 161.468 855.34 Q167.255 855.34 170.635 858.512 Q174.015 861.683 174.015 867.099 Q174.015 872.678 170.542 875.78 Q167.07 878.859 160.751 878.859 Q158.575 878.859 156.306 878.488 Q154.061 878.118 151.654 877.377 L151.654 872.678 Q153.737 873.812 155.959 874.368 Q158.181 874.923 160.658 874.923 Q164.663 874.923 167.001 872.817 Q169.339 870.711 169.339 867.099 Q169.339 863.488 167.001 861.382 Q164.663 859.275 160.658 859.275 Q158.783 859.275 156.908 859.692 Q155.056 860.109 153.112 860.988 L153.112 843.627 Z\" fill=\"#000000\" fill-rule=\"evenodd\" fill-opacity=\"1\" /><path clip-path=\"url(#clip960)\" d=\"M 0 0 M179.084 872.308 L183.968 872.308 L183.968 878.187 L179.084 878.187 L179.084 872.308 Z\" fill=\"#000000\" fill-rule=\"evenodd\" fill-opacity=\"1\" /><path clip-path=\"url(#clip960)\" d=\"M 0 0 M199.038 846.706 Q195.426 846.706 193.598 850.271 Q191.792 853.812 191.792 860.942 Q191.792 868.049 193.598 871.613 Q195.426 875.155 199.038 875.155 Q202.672 875.155 204.477 871.613 Q206.306 868.049 206.306 860.942 Q206.306 853.812 204.477 850.271 Q202.672 846.706 199.038 846.706 M199.038 843.002 Q204.848 843.002 207.903 847.609 Q210.982 852.192 210.982 860.942 Q210.982 869.669 207.903 874.275 Q204.848 878.859 199.038 878.859 Q193.227 878.859 190.149 874.275 Q187.093 869.669 187.093 860.942 Q187.093 852.192 190.149 847.609 Q193.227 843.002 199.038 843.002 Z\" fill=\"#000000\" fill-rule=\"evenodd\" fill-opacity=\"1\" /><path clip-path=\"url(#clip960)\" d=\"M 0 0 M129.084 582.314 L136.723 582.314 L136.723 555.949 L128.413 557.615 L128.413 553.356 L136.677 551.689 L141.353 551.689 L141.353 582.314 L148.992 582.314 L148.992 586.249 L129.084 586.249 L129.084 582.314 Z\" fill=\"#000000\" fill-rule=\"evenodd\" fill-opacity=\"1\" /><path clip-path=\"url(#clip960)\" d=\"M 0 0 M154.107 551.689 L172.464 551.689 L172.464 555.625 L158.39 555.625 L158.39 564.097 Q159.408 563.75 160.427 563.588 Q161.445 563.402 162.464 563.402 Q168.251 563.402 171.63 566.574 Q175.01 569.745 175.01 575.162 Q175.01 580.74 171.538 583.842 Q168.065 586.921 161.746 586.921 Q159.57 586.921 157.302 586.55 Q155.056 586.18 152.649 585.439 L152.649 580.74 Q154.732 581.874 156.954 582.43 Q159.177 582.986 161.653 582.986 Q165.658 582.986 167.996 580.879 Q170.334 578.773 170.334 575.162 Q170.334 571.55 167.996 569.444 Q165.658 567.337 161.653 567.337 Q159.778 567.337 157.904 567.754 Q156.052 568.171 154.107 569.05 L154.107 551.689 Z\" fill=\"#000000\" fill-rule=\"evenodd\" fill-opacity=\"1\" /><path clip-path=\"url(#clip960)\" d=\"M 0 0 M180.079 580.37 L184.964 580.37 L184.964 586.249 L180.079 586.249 L180.079 580.37 Z\" fill=\"#000000\" fill-rule=\"evenodd\" fill-opacity=\"1\" /><path clip-path=\"url(#clip960)\" d=\"M 0 0 M190.079 551.689 L208.436 551.689 L208.436 555.625 L194.362 555.625 L194.362 564.097 Q195.38 563.75 196.399 563.588 Q197.417 563.402 198.436 563.402 Q204.223 563.402 207.602 566.574 Q210.982 569.745 210.982 575.162 Q210.982 580.74 207.51 583.842 Q204.038 586.921 197.718 586.921 Q195.542 586.921 193.274 586.55 Q191.028 586.18 188.621 585.439 L188.621 580.74 Q190.704 581.874 192.926 582.43 Q195.149 582.986 197.626 582.986 Q201.63 582.986 203.968 580.879 Q206.306 578.773 206.306 575.162 Q206.306 571.55 203.968 569.444 Q201.63 567.337 197.626 567.337 Q195.751 567.337 193.876 567.754 Q192.024 568.171 190.079 569.05 L190.079 551.689 Z\" fill=\"#000000\" fill-rule=\"evenodd\" fill-opacity=\"1\" /><path clip-path=\"url(#clip960)\" d=\"M 0 0 M126.931 290.376 L134.57 290.376 L134.57 264.011 L126.26 265.677 L126.26 261.418 L134.524 259.751 L139.2 259.751 L139.2 290.376 L146.839 290.376 L146.839 294.311 L126.931 294.311 L126.931 290.376 Z\" fill=\"#000000\" fill-rule=\"evenodd\" fill-opacity=\"1\" /><path clip-path=\"url(#clip960)\" d=\"M 0 0 M162.487 275.168 Q159.339 275.168 157.487 277.321 Q155.658 279.474 155.658 283.224 Q155.658 286.95 157.487 289.126 Q159.339 291.279 162.487 291.279 Q165.635 291.279 167.464 289.126 Q169.315 286.95 169.315 283.224 Q169.315 279.474 167.464 277.321 Q165.635 275.168 162.487 275.168 M171.769 260.515 L171.769 264.775 Q170.01 263.941 168.204 263.501 Q166.422 263.062 164.663 263.062 Q160.033 263.062 157.579 266.187 Q155.149 269.312 154.802 275.631 Q156.167 273.617 158.228 272.552 Q160.288 271.464 162.765 271.464 Q167.973 271.464 170.982 274.636 Q174.015 277.784 174.015 283.224 Q174.015 288.548 170.866 291.765 Q167.718 294.983 162.487 294.983 Q156.491 294.983 153.32 290.399 Q150.149 285.793 150.149 277.066 Q150.149 268.872 154.038 264.011 Q157.927 259.126 164.478 259.126 Q166.237 259.126 168.019 259.474 Q169.825 259.821 171.769 260.515 Z\" fill=\"#000000\" fill-rule=\"evenodd\" fill-opacity=\"1\" /><path clip-path=\"url(#clip960)\" d=\"M 0 0 M179.084 288.432 L183.968 288.432 L183.968 294.311 L179.084 294.311 L179.084 288.432 Z\" fill=\"#000000\" fill-rule=\"evenodd\" fill-opacity=\"1\" /><path clip-path=\"url(#clip960)\" d=\"M 0 0 M199.038 262.83 Q195.426 262.83 193.598 266.395 Q191.792 269.937 191.792 277.066 Q191.792 284.173 193.598 287.737 Q195.426 291.279 199.038 291.279 Q202.672 291.279 204.477 287.737 Q206.306 284.173 206.306 277.066 Q206.306 269.937 204.477 266.395 Q202.672 262.83 199.038 262.83 M199.038 259.126 Q204.848 259.126 207.903 263.733 Q210.982 268.316 210.982 277.066 Q210.982 285.793 207.903 290.399 Q204.848 294.983 199.038 294.983 Q193.227 294.983 190.149 290.399 Q187.093 285.793 187.093 277.066 Q187.093 268.316 190.149 263.733 Q193.227 259.126 199.038 259.126 Z\" fill=\"#000000\" fill-rule=\"evenodd\" fill-opacity=\"1\" /><path clip-path=\"url(#clip960)\" d=\"M 0 0 M1111.96 28.5427 L1111.96 35.5912 Q1108.8 33.9709 1105.4 33.1607 Q1102 32.3505 1098.35 32.3505 Q1092.8 32.3505 1090.01 34.0519 Q1087.25 35.7533 1087.25 39.156 Q1087.25 41.7486 1089.24 43.2475 Q1091.22 44.7058 1097.22 46.0426 L1099.77 46.6097 Q1107.71 48.3111 1111.03 51.4303 Q1114.39 54.509 1114.39 60.0587 Q1114.39 66.3781 1109.37 70.0644 Q1104.39 73.7508 1095.64 73.7508 Q1091.99 73.7508 1088.02 73.0216 Q1084.09 72.3329 1079.72 70.9151 L1079.72 63.2184 Q1083.85 65.3654 1087.86 66.4591 Q1091.87 67.5124 1095.8 67.5124 Q1101.07 67.5124 1103.9 65.73 Q1106.74 63.9071 1106.74 60.6258 Q1106.74 57.5877 1104.67 55.9673 Q1102.65 54.3469 1095.72 52.8481 L1093.13 52.2405 Q1086.2 50.7821 1083.12 47.7845 Q1080.04 44.7463 1080.04 39.4801 Q1080.04 33.0797 1084.58 29.5959 Q1089.12 26.1121 1097.46 26.1121 Q1101.59 26.1121 1105.24 26.7198 Q1108.88 27.3274 1111.96 28.5427 Z\" fill=\"#000000\" fill-rule=\"evenodd\" fill-opacity=\"1\" /><path clip-path=\"url(#clip960)\" d=\"M 0 0 M1142.83 49.7694 Q1133.8 49.7694 1130.31 51.8354 Q1126.83 53.9013 1126.83 58.8839 Q1126.83 62.8538 1129.42 65.2034 Q1132.06 67.5124 1136.55 67.5124 Q1142.75 67.5124 1146.48 63.1374 Q1150.24 58.7219 1150.24 51.4303 L1150.24 49.7694 L1142.83 49.7694 M1157.7 46.6907 L1157.7 72.576 L1150.24 72.576 L1150.24 65.6895 Q1147.69 69.8214 1143.88 71.8063 Q1140.08 73.7508 1134.57 73.7508 Q1127.6 73.7508 1123.47 69.8619 Q1119.38 65.9325 1119.38 59.3701 Q1119.38 51.7138 1124.48 47.825 Q1129.63 43.9361 1139.79 43.9361 L1150.24 43.9361 L1150.24 43.2069 Q1150.24 38.0623 1146.84 35.2672 Q1143.48 32.4315 1137.36 32.4315 Q1133.47 32.4315 1129.79 33.3632 Q1126.1 34.295 1122.7 36.1584 L1122.7 29.2718 Q1126.79 27.692 1130.64 26.9223 Q1134.49 26.1121 1138.13 26.1121 Q1147.98 26.1121 1152.84 31.2163 Q1157.7 36.3204 1157.7 46.6907 Z\" fill=\"#000000\" fill-rule=\"evenodd\" fill-opacity=\"1\" /><path clip-path=\"url(#clip960)\" d=\"M 0 0 M1200.84 35.9153 Q1203.64 30.8922 1207.52 28.5022 Q1211.41 26.1121 1216.68 26.1121 Q1223.77 26.1121 1227.62 31.0947 Q1231.46 36.0368 1231.46 45.1919 L1231.46 72.576 L1223.97 72.576 L1223.97 45.4349 Q1223.97 38.913 1221.66 35.7533 Q1219.35 32.5936 1214.61 32.5936 Q1208.82 32.5936 1205.46 36.4419 Q1202.1 40.2903 1202.1 46.9338 L1202.1 72.576 L1194.6 72.576 L1194.6 45.4349 Q1194.6 38.8725 1192.29 35.7533 Q1189.98 32.5936 1185.16 32.5936 Q1179.45 32.5936 1176.09 36.4824 Q1172.73 40.3308 1172.73 46.9338 L1172.73 72.576 L1165.23 72.576 L1165.23 27.2059 L1172.73 27.2059 L1172.73 34.2544 Q1175.28 30.082 1178.84 28.0971 Q1182.41 26.1121 1187.31 26.1121 Q1192.25 26.1121 1195.7 28.6237 Q1199.18 31.1352 1200.84 35.9153 Z\" fill=\"#000000\" fill-rule=\"evenodd\" fill-opacity=\"1\" /><path clip-path=\"url(#clip960)\" d=\"M 0 0 M1246.49 65.7705 L1246.49 89.8329 L1239 89.8329 L1239 27.2059 L1246.49 27.2059 L1246.49 34.0924 Q1248.84 30.0415 1252.41 28.0971 Q1256.01 26.1121 1261 26.1121 Q1269.26 26.1121 1274.4 32.6746 Q1279.59 39.2371 1279.59 49.9314 Q1279.59 60.6258 1274.4 67.1883 Q1269.26 73.7508 1261 73.7508 Q1256.01 73.7508 1252.41 71.8063 Q1248.84 69.8214 1246.49 65.7705 M1271.85 49.9314 Q1271.85 41.7081 1268.45 37.0496 Q1265.09 32.3505 1259.17 32.3505 Q1253.26 32.3505 1249.86 37.0496 Q1246.49 41.7081 1246.49 49.9314 Q1246.49 58.1548 1249.86 62.8538 Q1253.26 67.5124 1259.17 67.5124 Q1265.09 67.5124 1268.45 62.8538 Q1271.85 58.1548 1271.85 49.9314 Z\" fill=\"#000000\" fill-rule=\"evenodd\" fill-opacity=\"1\" /><path clip-path=\"url(#clip960)\" d=\"M 0 0 M1287.41 9.54393 L1294.86 9.54393 L1294.86 72.576 L1287.41 72.576 L1287.41 9.54393 Z\" fill=\"#000000\" fill-rule=\"evenodd\" fill-opacity=\"1\" /><path clip-path=\"url(#clip960)\" d=\"M 0 0 M1341.49 48.0275 L1341.49 51.6733 L1307.22 51.6733 Q1307.7 59.3701 1311.83 63.421 Q1316.01 67.4314 1323.42 67.4314 Q1327.71 67.4314 1331.72 66.3781 Q1335.78 65.3249 1339.75 63.2184 L1339.75 70.267 Q1335.74 71.9684 1331.52 72.8596 Q1327.31 73.7508 1322.97 73.7508 Q1312.12 73.7508 1305.76 67.4314 Q1299.44 61.1119 1299.44 50.3365 Q1299.44 39.1965 1305.43 32.6746 Q1311.47 26.1121 1321.68 26.1121 Q1330.83 26.1121 1336.14 32.0264 Q1341.49 37.9003 1341.49 48.0275 M1334.03 45.84 Q1333.95 39.7232 1330.59 36.0774 Q1327.27 32.4315 1321.76 32.4315 Q1315.52 32.4315 1311.75 35.9558 Q1308.03 39.4801 1307.46 45.8805 L1334.03 45.84 Z\" fill=\"#000000\" fill-rule=\"evenodd\" fill-opacity=\"1\" /><path clip-path=\"url(#clip960)\" d=\"M 0 0 M1382.89 65.7705 L1382.89 89.8329 L1375.39 89.8329 L1375.39 27.2059 L1382.89 27.2059 L1382.89 34.0924 Q1385.24 30.0415 1388.8 28.0971 Q1392.41 26.1121 1397.39 26.1121 Q1405.65 26.1121 1410.8 32.6746 Q1415.98 39.2371 1415.98 49.9314 Q1415.98 60.6258 1410.8 67.1883 Q1405.65 73.7508 1397.39 73.7508 Q1392.41 73.7508 1388.8 71.8063 Q1385.24 69.8214 1382.89 65.7705 M1408.25 49.9314 Q1408.25 41.7081 1404.84 37.0496 Q1401.48 32.3505 1395.57 32.3505 Q1389.65 32.3505 1386.25 37.0496 Q1382.89 41.7081 1382.89 49.9314 Q1382.89 58.1548 1386.25 62.8538 Q1389.65 67.5124 1395.57 67.5124 Q1401.48 67.5124 1404.84 62.8538 Q1408.25 58.1548 1408.25 49.9314 Z\" fill=\"#000000\" fill-rule=\"evenodd\" fill-opacity=\"1\" /><path clip-path=\"url(#clip960)\" d=\"M 0 0 M1423.8 9.54393 L1431.26 9.54393 L1431.26 72.576 L1423.8 72.576 L1423.8 9.54393 Z\" fill=\"#000000\" fill-rule=\"evenodd\" fill-opacity=\"1\" /><path clip-path=\"url(#clip960)\" d=\"M 0 0 M1456.65 32.4315 Q1450.66 32.4315 1447.18 37.1306 Q1443.69 41.7891 1443.69 49.9314 Q1443.69 58.0738 1447.13 62.7728 Q1450.62 67.4314 1456.65 67.4314 Q1462.61 67.4314 1466.09 62.7323 Q1469.58 58.0333 1469.58 49.9314 Q1469.58 41.8701 1466.09 37.1711 Q1462.61 32.4315 1456.65 32.4315 M1456.65 26.1121 Q1466.38 26.1121 1471.93 32.4315 Q1477.48 38.7509 1477.48 49.9314 Q1477.48 61.0714 1471.93 67.4314 Q1466.38 73.7508 1456.65 73.7508 Q1446.89 73.7508 1441.34 67.4314 Q1435.83 61.0714 1435.83 49.9314 Q1435.83 38.7509 1441.34 32.4315 Q1446.89 26.1121 1456.65 26.1121 Z\" fill=\"#000000\" fill-rule=\"evenodd\" fill-opacity=\"1\" /><path clip-path=\"url(#clip960)\" d=\"M 0 0 M1492.67 14.324 L1492.67 27.2059 L1508.02 27.2059 L1508.02 32.9987 L1492.67 32.9987 L1492.67 57.6282 Q1492.67 63.1779 1494.17 64.7578 Q1495.71 66.3376 1500.36 66.3376 L1508.02 66.3376 L1508.02 72.576 L1500.36 72.576 Q1491.74 72.576 1488.45 69.3758 Q1485.17 66.1351 1485.17 57.6282 L1485.17 32.9987 L1479.7 32.9987 L1479.7 27.2059 L1485.17 27.2059 L1485.17 14.324 L1492.67 14.324 Z\" fill=\"#000000\" fill-rule=\"evenodd\" fill-opacity=\"1\" /><path clip-path=\"url(#clip960)\" d=\"M 0 0 M1199.51 1508.52 L1206.42 1508.52 L1218.23 1526.19 L1230.1 1508.52 L1237.01 1508.52 L1221.73 1531.34 L1238.03 1556.04 L1231.12 1556.04 L1217.75 1535.83 L1204.29 1556.04 L1197.35 1556.04 L1214.31 1530.68 L1199.51 1508.52 Z\" fill=\"#000000\" fill-rule=\"evenodd\" fill-opacity=\"1\" /><path clip-path=\"url(#clip960)\" d=\"M 0 0 M1261.93 1535.58 L1279.08 1535.58 L1279.08 1540.8 L1261.93 1540.8 L1261.93 1535.58 Z\" fill=\"#000000\" fill-rule=\"evenodd\" fill-opacity=\"1\" /><path clip-path=\"url(#clip960)\" d=\"M 0 0 M1322.15 1538.12 Q1315.05 1538.12 1312.31 1539.75 Q1309.58 1541.37 1309.58 1545.29 Q1309.58 1548.4 1311.61 1550.25 Q1313.68 1552.07 1317.22 1552.07 Q1322.08 1552.07 1325.01 1548.63 Q1327.97 1545.16 1327.97 1539.43 L1327.97 1538.12 L1322.15 1538.12 M1333.83 1535.71 L1333.83 1556.04 L1327.97 1556.04 L1327.97 1550.63 Q1325.97 1553.88 1322.98 1555.44 Q1319.98 1556.97 1315.66 1556.97 Q1310.18 1556.97 1306.93 1553.91 Q1303.72 1550.82 1303.72 1545.67 Q1303.72 1539.65 1307.73 1536.6 Q1311.77 1533.54 1319.76 1533.54 L1327.97 1533.54 L1327.97 1532.97 Q1327.97 1528.93 1325.3 1526.73 Q1322.66 1524.5 1317.85 1524.5 Q1314.8 1524.5 1311.9 1525.23 Q1309 1525.97 1306.33 1527.43 L1306.33 1522.02 Q1309.54 1520.78 1312.57 1520.17 Q1315.59 1519.54 1318.46 1519.54 Q1326.19 1519.54 1330.01 1523.55 Q1333.83 1527.56 1333.83 1535.71 Z\" fill=\"#000000\" fill-rule=\"evenodd\" fill-opacity=\"1\" /><path clip-path=\"url(#clip960)\" d=\"M 0 0 M1369.6 1520.4 L1356.71 1537.74 L1370.27 1556.04 L1363.37 1556.04 L1352.99 1542.04 L1342.61 1556.04 L1335.71 1556.04 L1349.55 1537.39 L1336.89 1520.4 L1343.79 1520.4 L1353.25 1533.1 L1362.7 1520.4 L1369.6 1520.4 Z\" fill=\"#000000\" fill-rule=\"evenodd\" fill-opacity=\"1\" /><path clip-path=\"url(#clip960)\" d=\"M 0 0 M1376.42 1520.4 L1382.27 1520.4 L1382.27 1556.04 L1376.42 1556.04 L1376.42 1520.4 M1376.42 1506.52 L1382.27 1506.52 L1382.27 1513.93 L1376.42 1513.93 L1376.42 1506.52 Z\" fill=\"#000000\" fill-rule=\"evenodd\" fill-opacity=\"1\" /><path clip-path=\"url(#clip960)\" d=\"M 0 0 M1411.14 1521.45 L1411.14 1526.98 Q1408.66 1525.71 1405.98 1525.07 Q1403.31 1524.44 1400.45 1524.44 Q1396.09 1524.44 1393.89 1525.77 Q1391.73 1527.11 1391.73 1529.79 Q1391.73 1531.82 1393.29 1533 Q1394.84 1534.15 1399.56 1535.2 L1401.56 1535.64 Q1407.8 1536.98 1410.41 1539.43 Q1413.05 1541.85 1413.05 1546.21 Q1413.05 1551.17 1409.1 1554.07 Q1405.19 1556.97 1398.31 1556.97 Q1395.45 1556.97 1392.33 1556.39 Q1389.24 1555.85 1385.81 1554.74 L1385.81 1548.69 Q1389.05 1550.38 1392.2 1551.24 Q1395.35 1552.07 1398.44 1552.07 Q1402.58 1552.07 1404.81 1550.66 Q1407.04 1549.23 1407.04 1546.65 Q1407.04 1544.27 1405.41 1542.99 Q1403.82 1541.72 1398.38 1540.54 L1396.34 1540.07 Q1390.9 1538.92 1388.48 1536.56 Q1386.06 1534.18 1386.06 1530.04 Q1386.06 1525.01 1389.63 1522.27 Q1393.19 1519.54 1399.75 1519.54 Q1402.99 1519.54 1405.86 1520.01 Q1408.72 1520.49 1411.14 1521.45 Z\" fill=\"#000000\" fill-rule=\"evenodd\" fill-opacity=\"1\" /><path clip-path=\"url(#clip960)\" d=\"M 0 0 M40.4842 880.875 L40.4842 873.968 L60.0269 860.791 L40.4842 847.709 L40.4842 840.802 L65.3741 857.608 L88.0042 857.608 L88.0042 864.069 L65.3741 864.069 L40.4842 880.875 Z\" fill=\"#000000\" fill-rule=\"evenodd\" fill-opacity=\"1\" /><path clip-path=\"url(#clip960)\" d=\"M 0 0 M67.5384 816.899 L67.5384 799.744 L72.7583 799.744 L72.7583 816.899 L67.5384 816.899 Z\" fill=\"#000000\" fill-rule=\"evenodd\" fill-opacity=\"1\" /><path clip-path=\"url(#clip960)\" d=\"M 0 0 M70.0847 756.68 Q70.0847 763.777 71.7079 766.515 Q73.3312 769.252 77.2461 769.252 Q80.3653 769.252 82.2114 767.215 Q84.0256 765.146 84.0256 761.613 Q84.0256 756.743 80.5881 753.815 Q77.1188 750.855 71.3897 750.855 L70.0847 750.855 L70.0847 756.68 M67.6657 744.999 L88.0042 744.999 L88.0042 750.855 L82.5933 750.855 Q85.8398 752.86 87.3994 755.852 Q88.9272 758.844 88.9272 763.173 Q88.9272 768.647 85.8716 771.894 Q82.7843 775.108 77.6281 775.108 Q71.6125 775.108 68.5569 771.098 Q65.5014 767.056 65.5014 759.067 L65.5014 750.855 L64.9285 750.855 Q60.8862 750.855 58.6901 753.529 Q56.4621 756.17 56.4621 760.977 Q56.4621 764.032 57.1941 766.928 Q57.9262 769.825 59.3903 772.498 L53.9795 772.498 Q52.7381 769.284 52.1334 766.26 Q51.4968 763.236 51.4968 760.372 Q51.4968 752.637 55.5072 748.818 Q59.5176 744.999 67.6657 744.999 Z\" fill=\"#000000\" fill-rule=\"evenodd\" fill-opacity=\"1\" /><path clip-path=\"url(#clip960)\" d=\"M 0 0 M52.3562 709.223 L69.7028 722.114 L88.0042 708.555 L88.0042 715.462 L73.9996 725.838 L88.0042 736.214 L88.0042 743.121 L69.3526 729.275 L52.3562 741.943 L52.3562 735.036 L65.0558 725.583 L52.3562 716.13 L52.3562 709.223 Z\" fill=\"#000000\" fill-rule=\"evenodd\" fill-opacity=\"1\" /><path clip-path=\"url(#clip960)\" d=\"M 0 0 M52.3562 702.412 L52.3562 696.556 L88.0042 696.556 L88.0042 702.412 L52.3562 702.412 M38.479 702.412 L38.479 696.556 L45.895 696.556 L45.895 702.412 L38.479 702.412 Z\" fill=\"#000000\" fill-rule=\"evenodd\" fill-opacity=\"1\" /><path clip-path=\"url(#clip960)\" d=\"M 0 0 M53.4065 667.687 L58.9447 667.687 Q57.6716 670.17 57.035 672.843 Q56.3984 675.517 56.3984 678.381 Q56.3984 682.742 57.7352 684.938 Q59.072 687.102 61.7456 687.102 Q63.7826 687.102 64.9603 685.543 Q66.1061 683.983 67.1565 679.273 L67.6021 677.267 Q68.9389 671.029 71.3897 668.419 Q73.8086 665.777 78.1691 665.777 Q83.1344 665.777 86.0308 669.724 Q88.9272 673.639 88.9272 680.514 Q88.9272 683.379 88.3543 686.498 Q87.8132 689.585 86.6992 693.023 L80.6518 693.023 Q82.3387 689.776 83.198 686.625 Q84.0256 683.474 84.0256 680.387 Q84.0256 676.249 82.6251 674.021 Q81.1929 671.793 78.6147 671.793 Q76.2276 671.793 74.9545 673.416 Q73.6813 675.008 72.5037 680.45 L72.0262 682.487 Q70.8804 687.93 68.5251 690.349 Q66.138 692.768 62.0002 692.768 Q56.9713 692.768 54.2341 689.203 Q51.4968 685.638 51.4968 679.082 Q51.4968 675.835 51.9743 672.971 Q52.4517 670.106 53.4065 667.687 Z\" fill=\"#000000\" fill-rule=\"evenodd\" fill-opacity=\"1\" /><polyline clip-path=\"url(#clip962)\" style=\"stroke:#009af9; stroke-width:4; stroke-opacity:1; fill:none\" points=\"\n",
       "  2292.82,1211.23 382.738,1152.85 363.504,1094.46 305.002,1386.4 294.919,160.256 \n",
       "  \"/>\n",
       "<path clip-path=\"url(#clip960)\" d=\"\n",
       "M1975.11 327.952 L2280.76 327.952 L2280.76 206.992 L1975.11 206.992  Z\n",
       "  \" fill=\"#ffffff\" fill-rule=\"evenodd\" fill-opacity=\"1\"/>\n",
       "<polyline clip-path=\"url(#clip960)\" style=\"stroke:#000000; stroke-width:4; stroke-opacity:1; fill:none\" points=\"\n",
       "  1975.11,327.952 2280.76,327.952 2280.76,206.992 1975.11,206.992 1975.11,327.952 \n",
       "  \"/>\n",
       "<polyline clip-path=\"url(#clip960)\" style=\"stroke:#009af9; stroke-width:4; stroke-opacity:1; fill:none\" points=\"\n",
       "  1999.11,267.472 2143.11,267.472 \n",
       "  \"/>\n",
       "<path clip-path=\"url(#clip960)\" d=\"M 0 0 M2167.11 248.734 L2171.37 248.734 L2171.37 284.752 L2167.11 284.752 L2167.11 248.734 Z\" fill=\"#000000\" fill-rule=\"evenodd\" fill-opacity=\"1\" /><path clip-path=\"url(#clip960)\" d=\"M 0 0 M2175.83 258.826 L2180.09 258.826 L2180.09 284.752 L2175.83 284.752 L2175.83 258.826 M2175.83 248.734 L2180.09 248.734 L2180.09 254.127 L2175.83 254.127 L2175.83 248.734 Z\" fill=\"#000000\" fill-rule=\"evenodd\" fill-opacity=\"1\" /><path clip-path=\"url(#clip960)\" d=\"M 0 0 M2206.11 269.104 L2206.11 284.752 L2201.85 284.752 L2201.85 269.243 Q2201.85 265.562 2200.42 263.734 Q2198.98 261.905 2196.11 261.905 Q2192.66 261.905 2190.67 264.104 Q2188.68 266.303 2188.68 270.099 L2188.68 284.752 L2184.4 284.752 L2184.4 258.826 L2188.68 258.826 L2188.68 262.854 Q2190.21 260.516 2192.27 259.359 Q2194.35 258.201 2197.06 258.201 Q2201.53 258.201 2203.82 260.979 Q2206.11 263.734 2206.11 269.104 Z\" fill=\"#000000\" fill-rule=\"evenodd\" fill-opacity=\"1\" /><path clip-path=\"url(#clip960)\" d=\"M 0 0 M2232.76 270.724 L2232.76 272.808 L2213.17 272.808 Q2213.45 277.206 2215.81 279.521 Q2218.2 281.812 2222.43 281.812 Q2224.89 281.812 2227.18 281.21 Q2229.49 280.609 2231.76 279.405 L2231.76 283.433 Q2229.47 284.405 2227.06 284.914 Q2224.65 285.423 2222.18 285.423 Q2215.97 285.423 2212.34 281.812 Q2208.73 278.201 2208.73 272.044 Q2208.73 265.678 2212.15 261.951 Q2215.6 258.201 2221.44 258.201 Q2226.67 258.201 2229.7 261.581 Q2232.76 264.937 2232.76 270.724 M2228.5 269.474 Q2228.45 265.979 2226.53 263.896 Q2224.63 261.812 2221.48 261.812 Q2217.92 261.812 2215.77 263.826 Q2213.64 265.84 2213.31 269.498 L2228.5 269.474 Z\" fill=\"#000000\" fill-rule=\"evenodd\" fill-opacity=\"1\" /></svg>\n"
      ]
     },
     "execution_count": 95,
     "metadata": {},
     "output_type": "execute_result"
    }
   ],
   "source": [
    "xlabel!(\" X - axis\")\n",
    "\n",
    "ylabel!(\"Y - axis\")\n",
    "title!(\"sample plot\")"
   ]
  },
  {
   "cell_type": "code",
   "execution_count": 96,
   "metadata": {},
   "outputs": [
    {
     "data": {
      "image/svg+xml": [
       "<?xml version=\"1.0\" encoding=\"utf-8\"?>\n",
       "<svg xmlns=\"http://www.w3.org/2000/svg\" xmlns:xlink=\"http://www.w3.org/1999/xlink\" width=\"600\" height=\"400\" viewBox=\"0 0 2400 1600\">\n",
       "<defs>\n",
       "  <clipPath id=\"clip000\">\n",
       "    <rect x=\"0\" y=\"0\" width=\"2400\" height=\"1600\"/>\n",
       "  </clipPath>\n",
       "</defs>\n",
       "<path clip-path=\"url(#clip000)\" d=\"\n",
       "M0 1600 L2400 1600 L2400 0 L0 0  Z\n",
       "  \" fill=\"#ffffff\" fill-rule=\"evenodd\" fill-opacity=\"1\"/>\n",
       "<defs>\n",
       "  <clipPath id=\"clip001\">\n",
       "    <rect x=\"480\" y=\"0\" width=\"1681\" height=\"1600\"/>\n",
       "  </clipPath>\n",
       "</defs>\n",
       "<path clip-path=\"url(#clip000)\" d=\"\n",
       "M234.982 1423.18 L2352.76 1423.18 L2352.76 123.472 L234.982 123.472  Z\n",
       "  \" fill=\"#ffffff\" fill-rule=\"evenodd\" fill-opacity=\"1\"/>\n",
       "<defs>\n",
       "  <clipPath id=\"clip002\">\n",
       "    <rect x=\"234\" y=\"123\" width=\"2119\" height=\"1301\"/>\n",
       "  </clipPath>\n",
       "</defs>\n",
       "<polyline clip-path=\"url(#clip002)\" style=\"stroke:#000000; stroke-width:2; stroke-opacity:0.1; fill:none\" points=\"\n",
       "  2293.84,1423.18 2293.84,123.472 \n",
       "  \"/>\n",
       "<polyline clip-path=\"url(#clip002)\" style=\"stroke:#000000; stroke-width:2; stroke-opacity:0.1; fill:none\" points=\"\n",
       "  1849.64,1423.18 1849.64,123.472 \n",
       "  \"/>\n",
       "<polyline clip-path=\"url(#clip002)\" style=\"stroke:#000000; stroke-width:2; stroke-opacity:0.1; fill:none\" points=\"\n",
       "  1405.43,1423.18 1405.43,123.472 \n",
       "  \"/>\n",
       "<polyline clip-path=\"url(#clip002)\" style=\"stroke:#000000; stroke-width:2; stroke-opacity:0.1; fill:none\" points=\"\n",
       "  961.226,1423.18 961.226,123.472 \n",
       "  \"/>\n",
       "<polyline clip-path=\"url(#clip002)\" style=\"stroke:#000000; stroke-width:2; stroke-opacity:0.1; fill:none\" points=\"\n",
       "  517.021,1423.18 517.021,123.472 \n",
       "  \"/>\n",
       "<polyline clip-path=\"url(#clip002)\" style=\"stroke:#000000; stroke-width:2; stroke-opacity:0.1; fill:none\" points=\"\n",
       "  2352.76,1152.85 234.982,1152.85 \n",
       "  \"/>\n",
       "<polyline clip-path=\"url(#clip002)\" style=\"stroke:#000000; stroke-width:2; stroke-opacity:0.1; fill:none\" points=\"\n",
       "  2352.76,860.907 234.982,860.907 \n",
       "  \"/>\n",
       "<polyline clip-path=\"url(#clip002)\" style=\"stroke:#000000; stroke-width:2; stroke-opacity:0.1; fill:none\" points=\"\n",
       "  2352.76,568.969 234.982,568.969 \n",
       "  \"/>\n",
       "<polyline clip-path=\"url(#clip002)\" style=\"stroke:#000000; stroke-width:2; stroke-opacity:0.1; fill:none\" points=\"\n",
       "  2352.76,277.031 234.982,277.031 \n",
       "  \"/>\n",
       "<polyline clip-path=\"url(#clip000)\" style=\"stroke:#000000; stroke-width:4; stroke-opacity:1; fill:none\" points=\"\n",
       "  2352.76,1423.18 234.982,1423.18 \n",
       "  \"/>\n",
       "<polyline clip-path=\"url(#clip000)\" style=\"stroke:#000000; stroke-width:4; stroke-opacity:1; fill:none\" points=\"\n",
       "  234.982,1423.18 234.982,123.472 \n",
       "  \"/>\n",
       "<polyline clip-path=\"url(#clip000)\" style=\"stroke:#000000; stroke-width:4; stroke-opacity:1; fill:none\" points=\"\n",
       "  2293.84,1423.18 2293.84,1407.58 \n",
       "  \"/>\n",
       "<polyline clip-path=\"url(#clip000)\" style=\"stroke:#000000; stroke-width:4; stroke-opacity:1; fill:none\" points=\"\n",
       "  1849.64,1423.18 1849.64,1407.58 \n",
       "  \"/>\n",
       "<polyline clip-path=\"url(#clip000)\" style=\"stroke:#000000; stroke-width:4; stroke-opacity:1; fill:none\" points=\"\n",
       "  1405.43,1423.18 1405.43,1407.58 \n",
       "  \"/>\n",
       "<polyline clip-path=\"url(#clip000)\" style=\"stroke:#000000; stroke-width:4; stroke-opacity:1; fill:none\" points=\"\n",
       "  961.226,1423.18 961.226,1407.58 \n",
       "  \"/>\n",
       "<polyline clip-path=\"url(#clip000)\" style=\"stroke:#000000; stroke-width:4; stroke-opacity:1; fill:none\" points=\"\n",
       "  517.021,1423.18 517.021,1407.58 \n",
       "  \"/>\n",
       "<polyline clip-path=\"url(#clip000)\" style=\"stroke:#000000; stroke-width:4; stroke-opacity:1; fill:none\" points=\"\n",
       "  234.982,1152.85 260.395,1152.85 \n",
       "  \"/>\n",
       "<polyline clip-path=\"url(#clip000)\" style=\"stroke:#000000; stroke-width:4; stroke-opacity:1; fill:none\" points=\"\n",
       "  234.982,860.907 260.395,860.907 \n",
       "  \"/>\n",
       "<polyline clip-path=\"url(#clip000)\" style=\"stroke:#000000; stroke-width:4; stroke-opacity:1; fill:none\" points=\"\n",
       "  234.982,568.969 260.395,568.969 \n",
       "  \"/>\n",
       "<polyline clip-path=\"url(#clip000)\" style=\"stroke:#000000; stroke-width:4; stroke-opacity:1; fill:none\" points=\"\n",
       "  234.982,277.031 260.395,277.031 \n",
       "  \"/>\n",
       "<path clip-path=\"url(#clip000)\" d=\"M 0 0 M2293.84 1445.17 Q2290.23 1445.17 2288.4 1448.74 Q2286.6 1452.28 2286.6 1459.41 Q2286.6 1466.51 2288.4 1470.08 Q2290.23 1473.62 2293.84 1473.62 Q2297.47 1473.62 2299.28 1470.08 Q2301.11 1466.51 2301.11 1459.41 Q2301.11 1452.28 2299.28 1448.74 Q2297.47 1445.17 2293.84 1445.17 M2293.84 1441.47 Q2299.65 1441.47 2302.71 1446.07 Q2305.78 1450.66 2305.78 1459.41 Q2305.78 1468.13 2302.71 1472.74 Q2299.65 1477.32 2293.84 1477.32 Q2288.03 1477.32 2284.95 1472.74 Q2281.9 1468.13 2281.9 1459.41 Q2281.9 1450.66 2284.95 1446.07 Q2288.03 1441.47 2293.84 1441.47 Z\" fill=\"#000000\" fill-rule=\"evenodd\" fill-opacity=\"1\" /><path clip-path=\"url(#clip000)\" d=\"M 0 0 M1786.77 1494.25 L1794.4 1494.25 L1794.4 1467.89 L1786.09 1469.55 L1786.09 1465.29 L1794.36 1463.63 L1799.03 1463.63 L1799.03 1494.25 L1806.67 1494.25 L1806.67 1498.19 L1786.77 1498.19 L1786.77 1494.25 Z\" fill=\"#000000\" fill-rule=\"evenodd\" fill-opacity=\"1\" /><path clip-path=\"url(#clip000)\" d=\"M 0 0 M1839.91 1472.72 L1829.33 1483.35 L1839.91 1493.93 L1837.16 1496.73 L1826.53 1486.1 L1815.91 1496.73 L1813.18 1493.93 L1823.73 1483.35 L1813.18 1472.72 L1815.91 1469.92 L1826.53 1480.55 L1837.16 1469.92 L1839.91 1472.72 Z\" fill=\"#000000\" fill-rule=\"evenodd\" fill-opacity=\"1\" /><path clip-path=\"url(#clip000)\" d=\"M 0 0 M1845.79 1494.25 L1853.43 1494.25 L1853.43 1467.89 L1845.12 1469.55 L1845.12 1465.29 L1853.39 1463.63 L1858.06 1463.63 L1858.06 1494.25 L1865.7 1494.25 L1865.7 1498.19 L1845.79 1498.19 L1845.79 1494.25 Z\" fill=\"#000000\" fill-rule=\"evenodd\" fill-opacity=\"1\" /><path clip-path=\"url(#clip000)\" d=\"M 0 0 M1880.77 1466.71 Q1877.16 1466.71 1875.33 1470.27 Q1873.52 1473.81 1873.52 1480.94 Q1873.52 1488.05 1875.33 1491.61 Q1877.16 1495.15 1880.77 1495.15 Q1884.4 1495.15 1886.21 1491.61 Q1888.04 1488.05 1888.04 1480.94 Q1888.04 1473.81 1886.21 1470.27 Q1884.4 1466.71 1880.77 1466.71 M1880.77 1463 Q1886.58 1463 1889.64 1467.61 Q1892.71 1472.19 1892.71 1480.94 Q1892.71 1489.67 1889.64 1494.28 Q1886.58 1498.86 1880.77 1498.86 Q1874.96 1498.86 1871.88 1494.28 Q1868.83 1489.67 1868.83 1480.94 Q1868.83 1472.19 1871.88 1467.61 Q1874.96 1463 1880.77 1463 Z\" fill=\"#000000\" fill-rule=\"evenodd\" fill-opacity=\"1\" /><path clip-path=\"url(#clip000)\" d=\"M 0 0 M1905.39 1446.01 L1895.8 1461 L1905.39 1461 L1905.39 1446.01 M1904.39 1442.7 L1909.17 1442.7 L1909.17 1461 L1913.18 1461 L1913.18 1464.16 L1909.17 1464.16 L1909.17 1470.78 L1905.39 1470.78 L1905.39 1464.16 L1892.71 1464.16 L1892.71 1460.49 L1904.39 1442.7 Z\" fill=\"#000000\" fill-rule=\"evenodd\" fill-opacity=\"1\" /><path clip-path=\"url(#clip000)\" d=\"M 0 0 M1346.83 1494.25 L1363.15 1494.25 L1363.15 1498.19 L1341.21 1498.19 L1341.21 1494.25 Q1343.87 1491.5 1348.45 1486.87 Q1353.06 1482.21 1354.24 1480.87 Q1356.48 1478.35 1357.36 1476.61 Q1358.27 1474.85 1358.27 1473.16 Q1358.27 1470.41 1356.32 1468.67 Q1354.4 1466.94 1351.3 1466.94 Q1349.1 1466.94 1346.65 1467.7 Q1344.22 1468.46 1341.44 1470.02 L1341.44 1465.29 Q1344.26 1464.16 1346.72 1463.58 Q1349.17 1463 1351.21 1463 Q1356.58 1463 1359.77 1465.69 Q1362.97 1468.37 1362.97 1472.86 Q1362.97 1474.99 1362.16 1476.91 Q1361.37 1478.81 1359.26 1481.4 Q1358.68 1482.08 1355.58 1485.29 Q1352.48 1488.49 1346.83 1494.25 Z\" fill=\"#000000\" fill-rule=\"evenodd\" fill-opacity=\"1\" /><path clip-path=\"url(#clip000)\" d=\"M 0 0 M1396.39 1472.72 L1385.81 1483.35 L1396.39 1493.93 L1393.64 1496.73 L1383.01 1486.1 L1372.39 1496.73 L1369.66 1493.93 L1380.21 1483.35 L1369.66 1472.72 L1372.39 1469.92 L1383.01 1480.55 L1393.64 1469.92 L1396.39 1472.72 Z\" fill=\"#000000\" fill-rule=\"evenodd\" fill-opacity=\"1\" /><path clip-path=\"url(#clip000)\" d=\"M 0 0 M1402.27 1494.25 L1409.91 1494.25 L1409.91 1467.89 L1401.6 1469.55 L1401.6 1465.29 L1409.86 1463.63 L1414.54 1463.63 L1414.54 1494.25 L1422.18 1494.25 L1422.18 1498.19 L1402.27 1498.19 L1402.27 1494.25 Z\" fill=\"#000000\" fill-rule=\"evenodd\" fill-opacity=\"1\" /><path clip-path=\"url(#clip000)\" d=\"M 0 0 M1437.25 1466.71 Q1433.64 1466.71 1431.81 1470.27 Q1430 1473.81 1430 1480.94 Q1430 1488.05 1431.81 1491.61 Q1433.64 1495.15 1437.25 1495.15 Q1440.88 1495.15 1442.69 1491.61 Q1444.52 1488.05 1444.52 1480.94 Q1444.52 1473.81 1442.69 1470.27 Q1440.88 1466.71 1437.25 1466.71 M1437.25 1463 Q1443.06 1463 1446.11 1467.61 Q1449.19 1472.19 1449.19 1480.94 Q1449.19 1489.67 1446.11 1494.28 Q1443.06 1498.86 1437.25 1498.86 Q1431.44 1498.86 1428.36 1494.28 Q1425.3 1489.67 1425.3 1480.94 Q1425.3 1472.19 1428.36 1467.61 Q1431.44 1463 1437.25 1463 Z\" fill=\"#000000\" fill-rule=\"evenodd\" fill-opacity=\"1\" /><path clip-path=\"url(#clip000)\" d=\"M 0 0 M1461.87 1446.01 L1452.28 1461 L1461.87 1461 L1461.87 1446.01 M1460.87 1442.7 L1465.65 1442.7 L1465.65 1461 L1469.66 1461 L1469.66 1464.16 L1465.65 1464.16 L1465.65 1470.78 L1461.87 1470.78 L1461.87 1464.16 L1449.19 1464.16 L1449.19 1460.49 L1460.87 1442.7 Z\" fill=\"#000000\" fill-rule=\"evenodd\" fill-opacity=\"1\" /><path clip-path=\"url(#clip000)\" d=\"M 0 0 M912.222 1479.55 Q915.578 1480.27 917.453 1482.54 Q919.351 1484.81 919.351 1488.14 Q919.351 1493.26 915.833 1496.06 Q912.314 1498.86 905.833 1498.86 Q903.657 1498.86 901.342 1498.42 Q899.051 1498 896.597 1497.15 L896.597 1492.63 Q898.541 1493.77 900.856 1494.34 Q903.171 1494.92 905.694 1494.92 Q910.092 1494.92 912.384 1493.19 Q914.699 1491.45 914.699 1488.14 Q914.699 1485.09 912.546 1483.37 Q910.416 1481.64 906.597 1481.64 L902.569 1481.64 L902.569 1477.79 L906.782 1477.79 Q910.231 1477.79 912.06 1476.43 Q913.888 1475.04 913.888 1472.45 Q913.888 1469.78 911.99 1468.37 Q910.115 1466.94 906.597 1466.94 Q904.676 1466.94 902.476 1467.35 Q900.277 1467.77 897.639 1468.65 L897.639 1464.48 Q900.301 1463.74 902.615 1463.37 Q904.953 1463 907.013 1463 Q912.338 1463 915.439 1465.43 Q918.541 1467.84 918.541 1471.96 Q918.541 1474.83 916.898 1476.82 Q915.254 1478.79 912.222 1479.55 Z\" fill=\"#000000\" fill-rule=\"evenodd\" fill-opacity=\"1\" /><path clip-path=\"url(#clip000)\" d=\"M 0 0 M952.592 1472.72 L942.013 1483.35 L952.592 1493.93 L949.837 1496.73 L939.212 1486.1 L928.587 1496.73 L925.856 1493.93 L936.411 1483.35 L925.856 1472.72 L928.587 1469.92 L939.212 1480.55 L949.837 1469.92 L952.592 1472.72 Z\" fill=\"#000000\" fill-rule=\"evenodd\" fill-opacity=\"1\" /><path clip-path=\"url(#clip000)\" d=\"M 0 0 M958.472 1494.25 L966.11 1494.25 L966.11 1467.89 L957.8 1469.55 L957.8 1465.29 L966.064 1463.63 L970.74 1463.63 L970.74 1494.25 L978.379 1494.25 L978.379 1498.19 L958.472 1498.19 L958.472 1494.25 Z\" fill=\"#000000\" fill-rule=\"evenodd\" fill-opacity=\"1\" /><path clip-path=\"url(#clip000)\" d=\"M 0 0 M993.448 1466.71 Q989.837 1466.71 988.008 1470.27 Q986.203 1473.81 986.203 1480.94 Q986.203 1488.05 988.008 1491.61 Q989.837 1495.15 993.448 1495.15 Q997.082 1495.15 998.888 1491.61 Q1000.72 1488.05 1000.72 1480.94 Q1000.72 1473.81 998.888 1470.27 Q997.082 1466.71 993.448 1466.71 M993.448 1463 Q999.258 1463 1002.31 1467.61 Q1005.39 1472.19 1005.39 1480.94 Q1005.39 1489.67 1002.31 1494.28 Q999.258 1498.86 993.448 1498.86 Q987.638 1498.86 984.559 1494.28 Q981.504 1489.67 981.504 1480.94 Q981.504 1472.19 984.559 1467.61 Q987.638 1463 993.448 1463 Z\" fill=\"#000000\" fill-rule=\"evenodd\" fill-opacity=\"1\" /><path clip-path=\"url(#clip000)\" d=\"M 0 0 M1018.07 1446.01 L1008.48 1461 L1018.07 1461 L1018.07 1446.01 M1017.07 1442.7 L1021.85 1442.7 L1021.85 1461 L1025.86 1461 L1025.86 1464.16 L1021.85 1464.16 L1021.85 1470.78 L1018.07 1470.78 L1018.07 1464.16 L1005.39 1464.16 L1005.39 1460.49 L1017.07 1442.7 Z\" fill=\"#000000\" fill-rule=\"evenodd\" fill-opacity=\"1\" /><path clip-path=\"url(#clip000)\" d=\"M 0 0 M466.779 1467.7 L454.973 1486.15 L466.779 1486.15 L466.779 1467.7 M465.552 1463.63 L471.431 1463.63 L471.431 1486.15 L476.362 1486.15 L476.362 1490.04 L471.431 1490.04 L471.431 1498.19 L466.779 1498.19 L466.779 1490.04 L451.177 1490.04 L451.177 1485.53 L465.552 1463.63 Z\" fill=\"#000000\" fill-rule=\"evenodd\" fill-opacity=\"1\" /><path clip-path=\"url(#clip000)\" d=\"M 0 0 M509.602 1472.72 L499.024 1483.35 L509.602 1493.93 L506.848 1496.73 L496.223 1486.1 L485.598 1496.73 L482.866 1493.93 L493.422 1483.35 L482.866 1472.72 L485.598 1469.92 L496.223 1480.55 L506.848 1469.92 L509.602 1472.72 Z\" fill=\"#000000\" fill-rule=\"evenodd\" fill-opacity=\"1\" /><path clip-path=\"url(#clip000)\" d=\"M 0 0 M515.482 1494.25 L523.121 1494.25 L523.121 1467.89 L514.811 1469.55 L514.811 1465.29 L523.075 1463.63 L527.75 1463.63 L527.75 1494.25 L535.389 1494.25 L535.389 1498.19 L515.482 1498.19 L515.482 1494.25 Z\" fill=\"#000000\" fill-rule=\"evenodd\" fill-opacity=\"1\" /><path clip-path=\"url(#clip000)\" d=\"M 0 0 M550.459 1466.71 Q546.848 1466.71 545.019 1470.27 Q543.213 1473.81 543.213 1480.94 Q543.213 1488.05 545.019 1491.61 Q546.848 1495.15 550.459 1495.15 Q554.093 1495.15 555.898 1491.61 Q557.727 1488.05 557.727 1480.94 Q557.727 1473.81 555.898 1470.27 Q554.093 1466.71 550.459 1466.71 M550.459 1463 Q556.269 1463 559.324 1467.61 Q562.403 1472.19 562.403 1480.94 Q562.403 1489.67 559.324 1494.28 Q556.269 1498.86 550.459 1498.86 Q544.648 1498.86 541.57 1494.28 Q538.514 1489.67 538.514 1480.94 Q538.514 1472.19 541.57 1467.61 Q544.648 1463 550.459 1463 Z\" fill=\"#000000\" fill-rule=\"evenodd\" fill-opacity=\"1\" /><path clip-path=\"url(#clip000)\" d=\"M 0 0 M575.079 1446.01 L565.488 1461 L575.079 1461 L575.079 1446.01 M574.083 1442.7 L578.86 1442.7 L578.86 1461 L582.866 1461 L582.866 1464.16 L578.86 1464.16 L578.86 1470.78 L575.079 1470.78 L575.079 1464.16 L562.403 1464.16 L562.403 1460.49 L574.083 1442.7 Z\" fill=\"#000000\" fill-rule=\"evenodd\" fill-opacity=\"1\" /><path clip-path=\"url(#clip000)\" d=\"M 0 0 M127.603 1166.19 L135.242 1166.19 L135.242 1139.82 L126.931 1141.49 L126.931 1137.23 L135.195 1135.57 L139.871 1135.57 L139.871 1166.19 L147.51 1166.19 L147.51 1170.13 L127.603 1170.13 L127.603 1166.19 Z\" fill=\"#000000\" fill-rule=\"evenodd\" fill-opacity=\"1\" /><path clip-path=\"url(#clip000)\" d=\"M 0 0 M165.427 1139.64 L153.621 1158.09 L165.427 1158.09 L165.427 1139.64 M164.2 1135.57 L170.079 1135.57 L170.079 1158.09 L175.01 1158.09 L175.01 1161.98 L170.079 1161.98 L170.079 1170.13 L165.427 1170.13 L165.427 1161.98 L149.825 1161.98 L149.825 1157.46 L164.2 1135.57 Z\" fill=\"#000000\" fill-rule=\"evenodd\" fill-opacity=\"1\" /><path clip-path=\"url(#clip000)\" d=\"M 0 0 M180.079 1164.25 L184.964 1164.25 L184.964 1170.13 L180.079 1170.13 L180.079 1164.25 Z\" fill=\"#000000\" fill-rule=\"evenodd\" fill-opacity=\"1\" /><path clip-path=\"url(#clip000)\" d=\"M 0 0 M190.079 1135.57 L208.436 1135.57 L208.436 1139.5 L194.362 1139.5 L194.362 1147.97 Q195.38 1147.63 196.399 1147.46 Q197.417 1147.28 198.436 1147.28 Q204.223 1147.28 207.602 1150.45 Q210.982 1153.62 210.982 1159.04 Q210.982 1164.62 207.51 1167.72 Q204.038 1170.8 197.718 1170.8 Q195.542 1170.8 193.274 1170.43 Q191.028 1170.06 188.621 1169.32 L188.621 1164.62 Q190.704 1165.75 192.926 1166.31 Q195.149 1166.86 197.626 1166.86 Q201.63 1166.86 203.968 1164.75 Q206.306 1162.65 206.306 1159.04 Q206.306 1155.43 203.968 1153.32 Q201.63 1151.21 197.626 1151.21 Q195.751 1151.21 193.876 1151.63 Q192.024 1152.05 190.079 1152.93 L190.079 1135.57 Z\" fill=\"#000000\" fill-rule=\"evenodd\" fill-opacity=\"1\" /><path clip-path=\"url(#clip000)\" d=\"M 0 0 M128.089 874.252 L135.728 874.252 L135.728 847.887 L127.418 849.553 L127.418 845.294 L135.681 843.627 L140.357 843.627 L140.357 874.252 L147.996 874.252 L147.996 878.187 L128.089 878.187 L128.089 874.252 Z\" fill=\"#000000\" fill-rule=\"evenodd\" fill-opacity=\"1\" /><path clip-path=\"url(#clip000)\" d=\"M 0 0 M153.112 843.627 L171.468 843.627 L171.468 847.563 L157.394 847.563 L157.394 856.035 Q158.413 855.687 159.431 855.525 Q160.45 855.34 161.468 855.34 Q167.255 855.34 170.635 858.512 Q174.015 861.683 174.015 867.099 Q174.015 872.678 170.542 875.78 Q167.07 878.859 160.751 878.859 Q158.575 878.859 156.306 878.488 Q154.061 878.118 151.654 877.377 L151.654 872.678 Q153.737 873.812 155.959 874.368 Q158.181 874.923 160.658 874.923 Q164.663 874.923 167.001 872.817 Q169.339 870.711 169.339 867.099 Q169.339 863.488 167.001 861.382 Q164.663 859.275 160.658 859.275 Q158.783 859.275 156.908 859.692 Q155.056 860.109 153.112 860.988 L153.112 843.627 Z\" fill=\"#000000\" fill-rule=\"evenodd\" fill-opacity=\"1\" /><path clip-path=\"url(#clip000)\" d=\"M 0 0 M179.084 872.308 L183.968 872.308 L183.968 878.187 L179.084 878.187 L179.084 872.308 Z\" fill=\"#000000\" fill-rule=\"evenodd\" fill-opacity=\"1\" /><path clip-path=\"url(#clip000)\" d=\"M 0 0 M199.038 846.706 Q195.426 846.706 193.598 850.271 Q191.792 853.812 191.792 860.942 Q191.792 868.049 193.598 871.613 Q195.426 875.155 199.038 875.155 Q202.672 875.155 204.477 871.613 Q206.306 868.049 206.306 860.942 Q206.306 853.812 204.477 850.271 Q202.672 846.706 199.038 846.706 M199.038 843.002 Q204.848 843.002 207.903 847.609 Q210.982 852.192 210.982 860.942 Q210.982 869.669 207.903 874.275 Q204.848 878.859 199.038 878.859 Q193.227 878.859 190.149 874.275 Q187.093 869.669 187.093 860.942 Q187.093 852.192 190.149 847.609 Q193.227 843.002 199.038 843.002 Z\" fill=\"#000000\" fill-rule=\"evenodd\" fill-opacity=\"1\" /><path clip-path=\"url(#clip000)\" d=\"M 0 0 M129.084 582.314 L136.723 582.314 L136.723 555.949 L128.413 557.615 L128.413 553.356 L136.677 551.689 L141.353 551.689 L141.353 582.314 L148.992 582.314 L148.992 586.249 L129.084 586.249 L129.084 582.314 Z\" fill=\"#000000\" fill-rule=\"evenodd\" fill-opacity=\"1\" /><path clip-path=\"url(#clip000)\" d=\"M 0 0 M154.107 551.689 L172.464 551.689 L172.464 555.625 L158.39 555.625 L158.39 564.097 Q159.408 563.75 160.427 563.588 Q161.445 563.402 162.464 563.402 Q168.251 563.402 171.63 566.574 Q175.01 569.745 175.01 575.162 Q175.01 580.74 171.538 583.842 Q168.065 586.921 161.746 586.921 Q159.57 586.921 157.302 586.55 Q155.056 586.18 152.649 585.439 L152.649 580.74 Q154.732 581.874 156.954 582.43 Q159.177 582.986 161.653 582.986 Q165.658 582.986 167.996 580.879 Q170.334 578.773 170.334 575.162 Q170.334 571.55 167.996 569.444 Q165.658 567.337 161.653 567.337 Q159.778 567.337 157.904 567.754 Q156.052 568.171 154.107 569.05 L154.107 551.689 Z\" fill=\"#000000\" fill-rule=\"evenodd\" fill-opacity=\"1\" /><path clip-path=\"url(#clip000)\" d=\"M 0 0 M180.079 580.37 L184.964 580.37 L184.964 586.249 L180.079 586.249 L180.079 580.37 Z\" fill=\"#000000\" fill-rule=\"evenodd\" fill-opacity=\"1\" /><path clip-path=\"url(#clip000)\" d=\"M 0 0 M190.079 551.689 L208.436 551.689 L208.436 555.625 L194.362 555.625 L194.362 564.097 Q195.38 563.75 196.399 563.588 Q197.417 563.402 198.436 563.402 Q204.223 563.402 207.602 566.574 Q210.982 569.745 210.982 575.162 Q210.982 580.74 207.51 583.842 Q204.038 586.921 197.718 586.921 Q195.542 586.921 193.274 586.55 Q191.028 586.18 188.621 585.439 L188.621 580.74 Q190.704 581.874 192.926 582.43 Q195.149 582.986 197.626 582.986 Q201.63 582.986 203.968 580.879 Q206.306 578.773 206.306 575.162 Q206.306 571.55 203.968 569.444 Q201.63 567.337 197.626 567.337 Q195.751 567.337 193.876 567.754 Q192.024 568.171 190.079 569.05 L190.079 551.689 Z\" fill=\"#000000\" fill-rule=\"evenodd\" fill-opacity=\"1\" /><path clip-path=\"url(#clip000)\" d=\"M 0 0 M126.931 290.376 L134.57 290.376 L134.57 264.011 L126.26 265.677 L126.26 261.418 L134.524 259.751 L139.2 259.751 L139.2 290.376 L146.839 290.376 L146.839 294.311 L126.931 294.311 L126.931 290.376 Z\" fill=\"#000000\" fill-rule=\"evenodd\" fill-opacity=\"1\" /><path clip-path=\"url(#clip000)\" d=\"M 0 0 M162.487 275.168 Q159.339 275.168 157.487 277.321 Q155.658 279.474 155.658 283.224 Q155.658 286.95 157.487 289.126 Q159.339 291.279 162.487 291.279 Q165.635 291.279 167.464 289.126 Q169.315 286.95 169.315 283.224 Q169.315 279.474 167.464 277.321 Q165.635 275.168 162.487 275.168 M171.769 260.515 L171.769 264.775 Q170.01 263.941 168.204 263.501 Q166.422 263.062 164.663 263.062 Q160.033 263.062 157.579 266.187 Q155.149 269.312 154.802 275.631 Q156.167 273.617 158.228 272.552 Q160.288 271.464 162.765 271.464 Q167.973 271.464 170.982 274.636 Q174.015 277.784 174.015 283.224 Q174.015 288.548 170.866 291.765 Q167.718 294.983 162.487 294.983 Q156.491 294.983 153.32 290.399 Q150.149 285.793 150.149 277.066 Q150.149 268.872 154.038 264.011 Q157.927 259.126 164.478 259.126 Q166.237 259.126 168.019 259.474 Q169.825 259.821 171.769 260.515 Z\" fill=\"#000000\" fill-rule=\"evenodd\" fill-opacity=\"1\" /><path clip-path=\"url(#clip000)\" d=\"M 0 0 M179.084 288.432 L183.968 288.432 L183.968 294.311 L179.084 294.311 L179.084 288.432 Z\" fill=\"#000000\" fill-rule=\"evenodd\" fill-opacity=\"1\" /><path clip-path=\"url(#clip000)\" d=\"M 0 0 M199.038 262.83 Q195.426 262.83 193.598 266.395 Q191.792 269.937 191.792 277.066 Q191.792 284.173 193.598 287.737 Q195.426 291.279 199.038 291.279 Q202.672 291.279 204.477 287.737 Q206.306 284.173 206.306 277.066 Q206.306 269.937 204.477 266.395 Q202.672 262.83 199.038 262.83 M199.038 259.126 Q204.848 259.126 207.903 263.733 Q210.982 268.316 210.982 277.066 Q210.982 285.793 207.903 290.399 Q204.848 294.983 199.038 294.983 Q193.227 294.983 190.149 290.399 Q187.093 285.793 187.093 277.066 Q187.093 268.316 190.149 263.733 Q193.227 259.126 199.038 259.126 Z\" fill=\"#000000\" fill-rule=\"evenodd\" fill-opacity=\"1\" /><path clip-path=\"url(#clip000)\" d=\"M 0 0 M1111.96 28.5427 L1111.96 35.5912 Q1108.8 33.9709 1105.4 33.1607 Q1102 32.3505 1098.35 32.3505 Q1092.8 32.3505 1090.01 34.0519 Q1087.25 35.7533 1087.25 39.156 Q1087.25 41.7486 1089.24 43.2475 Q1091.22 44.7058 1097.22 46.0426 L1099.77 46.6097 Q1107.71 48.3111 1111.03 51.4303 Q1114.39 54.509 1114.39 60.0587 Q1114.39 66.3781 1109.37 70.0644 Q1104.39 73.7508 1095.64 73.7508 Q1091.99 73.7508 1088.02 73.0216 Q1084.09 72.3329 1079.72 70.9151 L1079.72 63.2184 Q1083.85 65.3654 1087.86 66.4591 Q1091.87 67.5124 1095.8 67.5124 Q1101.07 67.5124 1103.9 65.73 Q1106.74 63.9071 1106.74 60.6258 Q1106.74 57.5877 1104.67 55.9673 Q1102.65 54.3469 1095.72 52.8481 L1093.13 52.2405 Q1086.2 50.7821 1083.12 47.7845 Q1080.04 44.7463 1080.04 39.4801 Q1080.04 33.0797 1084.58 29.5959 Q1089.12 26.1121 1097.46 26.1121 Q1101.59 26.1121 1105.24 26.7198 Q1108.88 27.3274 1111.96 28.5427 Z\" fill=\"#000000\" fill-rule=\"evenodd\" fill-opacity=\"1\" /><path clip-path=\"url(#clip000)\" d=\"M 0 0 M1142.83 49.7694 Q1133.8 49.7694 1130.31 51.8354 Q1126.83 53.9013 1126.83 58.8839 Q1126.83 62.8538 1129.42 65.2034 Q1132.06 67.5124 1136.55 67.5124 Q1142.75 67.5124 1146.48 63.1374 Q1150.24 58.7219 1150.24 51.4303 L1150.24 49.7694 L1142.83 49.7694 M1157.7 46.6907 L1157.7 72.576 L1150.24 72.576 L1150.24 65.6895 Q1147.69 69.8214 1143.88 71.8063 Q1140.08 73.7508 1134.57 73.7508 Q1127.6 73.7508 1123.47 69.8619 Q1119.38 65.9325 1119.38 59.3701 Q1119.38 51.7138 1124.48 47.825 Q1129.63 43.9361 1139.79 43.9361 L1150.24 43.9361 L1150.24 43.2069 Q1150.24 38.0623 1146.84 35.2672 Q1143.48 32.4315 1137.36 32.4315 Q1133.47 32.4315 1129.79 33.3632 Q1126.1 34.295 1122.7 36.1584 L1122.7 29.2718 Q1126.79 27.692 1130.64 26.9223 Q1134.49 26.1121 1138.13 26.1121 Q1147.98 26.1121 1152.84 31.2163 Q1157.7 36.3204 1157.7 46.6907 Z\" fill=\"#000000\" fill-rule=\"evenodd\" fill-opacity=\"1\" /><path clip-path=\"url(#clip000)\" d=\"M 0 0 M1200.84 35.9153 Q1203.64 30.8922 1207.52 28.5022 Q1211.41 26.1121 1216.68 26.1121 Q1223.77 26.1121 1227.62 31.0947 Q1231.46 36.0368 1231.46 45.1919 L1231.46 72.576 L1223.97 72.576 L1223.97 45.4349 Q1223.97 38.913 1221.66 35.7533 Q1219.35 32.5936 1214.61 32.5936 Q1208.82 32.5936 1205.46 36.4419 Q1202.1 40.2903 1202.1 46.9338 L1202.1 72.576 L1194.6 72.576 L1194.6 45.4349 Q1194.6 38.8725 1192.29 35.7533 Q1189.98 32.5936 1185.16 32.5936 Q1179.45 32.5936 1176.09 36.4824 Q1172.73 40.3308 1172.73 46.9338 L1172.73 72.576 L1165.23 72.576 L1165.23 27.2059 L1172.73 27.2059 L1172.73 34.2544 Q1175.28 30.082 1178.84 28.0971 Q1182.41 26.1121 1187.31 26.1121 Q1192.25 26.1121 1195.7 28.6237 Q1199.18 31.1352 1200.84 35.9153 Z\" fill=\"#000000\" fill-rule=\"evenodd\" fill-opacity=\"1\" /><path clip-path=\"url(#clip000)\" d=\"M 0 0 M1246.49 65.7705 L1246.49 89.8329 L1239 89.8329 L1239 27.2059 L1246.49 27.2059 L1246.49 34.0924 Q1248.84 30.0415 1252.41 28.0971 Q1256.01 26.1121 1261 26.1121 Q1269.26 26.1121 1274.4 32.6746 Q1279.59 39.2371 1279.59 49.9314 Q1279.59 60.6258 1274.4 67.1883 Q1269.26 73.7508 1261 73.7508 Q1256.01 73.7508 1252.41 71.8063 Q1248.84 69.8214 1246.49 65.7705 M1271.85 49.9314 Q1271.85 41.7081 1268.45 37.0496 Q1265.09 32.3505 1259.17 32.3505 Q1253.26 32.3505 1249.86 37.0496 Q1246.49 41.7081 1246.49 49.9314 Q1246.49 58.1548 1249.86 62.8538 Q1253.26 67.5124 1259.17 67.5124 Q1265.09 67.5124 1268.45 62.8538 Q1271.85 58.1548 1271.85 49.9314 Z\" fill=\"#000000\" fill-rule=\"evenodd\" fill-opacity=\"1\" /><path clip-path=\"url(#clip000)\" d=\"M 0 0 M1287.41 9.54393 L1294.86 9.54393 L1294.86 72.576 L1287.41 72.576 L1287.41 9.54393 Z\" fill=\"#000000\" fill-rule=\"evenodd\" fill-opacity=\"1\" /><path clip-path=\"url(#clip000)\" d=\"M 0 0 M1341.49 48.0275 L1341.49 51.6733 L1307.22 51.6733 Q1307.7 59.3701 1311.83 63.421 Q1316.01 67.4314 1323.42 67.4314 Q1327.71 67.4314 1331.72 66.3781 Q1335.78 65.3249 1339.75 63.2184 L1339.75 70.267 Q1335.74 71.9684 1331.52 72.8596 Q1327.31 73.7508 1322.97 73.7508 Q1312.12 73.7508 1305.76 67.4314 Q1299.44 61.1119 1299.44 50.3365 Q1299.44 39.1965 1305.43 32.6746 Q1311.47 26.1121 1321.68 26.1121 Q1330.83 26.1121 1336.14 32.0264 Q1341.49 37.9003 1341.49 48.0275 M1334.03 45.84 Q1333.95 39.7232 1330.59 36.0774 Q1327.27 32.4315 1321.76 32.4315 Q1315.52 32.4315 1311.75 35.9558 Q1308.03 39.4801 1307.46 45.8805 L1334.03 45.84 Z\" fill=\"#000000\" fill-rule=\"evenodd\" fill-opacity=\"1\" /><path clip-path=\"url(#clip000)\" d=\"M 0 0 M1382.89 65.7705 L1382.89 89.8329 L1375.39 89.8329 L1375.39 27.2059 L1382.89 27.2059 L1382.89 34.0924 Q1385.24 30.0415 1388.8 28.0971 Q1392.41 26.1121 1397.39 26.1121 Q1405.65 26.1121 1410.8 32.6746 Q1415.98 39.2371 1415.98 49.9314 Q1415.98 60.6258 1410.8 67.1883 Q1405.65 73.7508 1397.39 73.7508 Q1392.41 73.7508 1388.8 71.8063 Q1385.24 69.8214 1382.89 65.7705 M1408.25 49.9314 Q1408.25 41.7081 1404.84 37.0496 Q1401.48 32.3505 1395.57 32.3505 Q1389.65 32.3505 1386.25 37.0496 Q1382.89 41.7081 1382.89 49.9314 Q1382.89 58.1548 1386.25 62.8538 Q1389.65 67.5124 1395.57 67.5124 Q1401.48 67.5124 1404.84 62.8538 Q1408.25 58.1548 1408.25 49.9314 Z\" fill=\"#000000\" fill-rule=\"evenodd\" fill-opacity=\"1\" /><path clip-path=\"url(#clip000)\" d=\"M 0 0 M1423.8 9.54393 L1431.26 9.54393 L1431.26 72.576 L1423.8 72.576 L1423.8 9.54393 Z\" fill=\"#000000\" fill-rule=\"evenodd\" fill-opacity=\"1\" /><path clip-path=\"url(#clip000)\" d=\"M 0 0 M1456.65 32.4315 Q1450.66 32.4315 1447.18 37.1306 Q1443.69 41.7891 1443.69 49.9314 Q1443.69 58.0738 1447.13 62.7728 Q1450.62 67.4314 1456.65 67.4314 Q1462.61 67.4314 1466.09 62.7323 Q1469.58 58.0333 1469.58 49.9314 Q1469.58 41.8701 1466.09 37.1711 Q1462.61 32.4315 1456.65 32.4315 M1456.65 26.1121 Q1466.38 26.1121 1471.93 32.4315 Q1477.48 38.7509 1477.48 49.9314 Q1477.48 61.0714 1471.93 67.4314 Q1466.38 73.7508 1456.65 73.7508 Q1446.89 73.7508 1441.34 67.4314 Q1435.83 61.0714 1435.83 49.9314 Q1435.83 38.7509 1441.34 32.4315 Q1446.89 26.1121 1456.65 26.1121 Z\" fill=\"#000000\" fill-rule=\"evenodd\" fill-opacity=\"1\" /><path clip-path=\"url(#clip000)\" d=\"M 0 0 M1492.67 14.324 L1492.67 27.2059 L1508.02 27.2059 L1508.02 32.9987 L1492.67 32.9987 L1492.67 57.6282 Q1492.67 63.1779 1494.17 64.7578 Q1495.71 66.3376 1500.36 66.3376 L1508.02 66.3376 L1508.02 72.576 L1500.36 72.576 Q1491.74 72.576 1488.45 69.3758 Q1485.17 66.1351 1485.17 57.6282 L1485.17 32.9987 L1479.7 32.9987 L1479.7 27.2059 L1485.17 27.2059 L1485.17 14.324 L1492.67 14.324 Z\" fill=\"#000000\" fill-rule=\"evenodd\" fill-opacity=\"1\" /><path clip-path=\"url(#clip000)\" d=\"M 0 0 M1199.51 1508.52 L1206.42 1508.52 L1218.23 1526.19 L1230.1 1508.52 L1237.01 1508.52 L1221.73 1531.34 L1238.03 1556.04 L1231.12 1556.04 L1217.75 1535.83 L1204.29 1556.04 L1197.35 1556.04 L1214.31 1530.68 L1199.51 1508.52 Z\" fill=\"#000000\" fill-rule=\"evenodd\" fill-opacity=\"1\" /><path clip-path=\"url(#clip000)\" d=\"M 0 0 M1261.93 1535.58 L1279.08 1535.58 L1279.08 1540.8 L1261.93 1540.8 L1261.93 1535.58 Z\" fill=\"#000000\" fill-rule=\"evenodd\" fill-opacity=\"1\" /><path clip-path=\"url(#clip000)\" d=\"M 0 0 M1322.15 1538.12 Q1315.05 1538.12 1312.31 1539.75 Q1309.58 1541.37 1309.58 1545.29 Q1309.58 1548.4 1311.61 1550.25 Q1313.68 1552.07 1317.22 1552.07 Q1322.08 1552.07 1325.01 1548.63 Q1327.97 1545.16 1327.97 1539.43 L1327.97 1538.12 L1322.15 1538.12 M1333.83 1535.71 L1333.83 1556.04 L1327.97 1556.04 L1327.97 1550.63 Q1325.97 1553.88 1322.98 1555.44 Q1319.98 1556.97 1315.66 1556.97 Q1310.18 1556.97 1306.93 1553.91 Q1303.72 1550.82 1303.72 1545.67 Q1303.72 1539.65 1307.73 1536.6 Q1311.77 1533.54 1319.76 1533.54 L1327.97 1533.54 L1327.97 1532.97 Q1327.97 1528.93 1325.3 1526.73 Q1322.66 1524.5 1317.85 1524.5 Q1314.8 1524.5 1311.9 1525.23 Q1309 1525.97 1306.33 1527.43 L1306.33 1522.02 Q1309.54 1520.78 1312.57 1520.17 Q1315.59 1519.54 1318.46 1519.54 Q1326.19 1519.54 1330.01 1523.55 Q1333.83 1527.56 1333.83 1535.71 Z\" fill=\"#000000\" fill-rule=\"evenodd\" fill-opacity=\"1\" /><path clip-path=\"url(#clip000)\" d=\"M 0 0 M1369.6 1520.4 L1356.71 1537.74 L1370.27 1556.04 L1363.37 1556.04 L1352.99 1542.04 L1342.61 1556.04 L1335.71 1556.04 L1349.55 1537.39 L1336.89 1520.4 L1343.79 1520.4 L1353.25 1533.1 L1362.7 1520.4 L1369.6 1520.4 Z\" fill=\"#000000\" fill-rule=\"evenodd\" fill-opacity=\"1\" /><path clip-path=\"url(#clip000)\" d=\"M 0 0 M1376.42 1520.4 L1382.27 1520.4 L1382.27 1556.04 L1376.42 1556.04 L1376.42 1520.4 M1376.42 1506.52 L1382.27 1506.52 L1382.27 1513.93 L1376.42 1513.93 L1376.42 1506.52 Z\" fill=\"#000000\" fill-rule=\"evenodd\" fill-opacity=\"1\" /><path clip-path=\"url(#clip000)\" d=\"M 0 0 M1411.14 1521.45 L1411.14 1526.98 Q1408.66 1525.71 1405.98 1525.07 Q1403.31 1524.44 1400.45 1524.44 Q1396.09 1524.44 1393.89 1525.77 Q1391.73 1527.11 1391.73 1529.79 Q1391.73 1531.82 1393.29 1533 Q1394.84 1534.15 1399.56 1535.2 L1401.56 1535.64 Q1407.8 1536.98 1410.41 1539.43 Q1413.05 1541.85 1413.05 1546.21 Q1413.05 1551.17 1409.1 1554.07 Q1405.19 1556.97 1398.31 1556.97 Q1395.45 1556.97 1392.33 1556.39 Q1389.24 1555.85 1385.81 1554.74 L1385.81 1548.69 Q1389.05 1550.38 1392.2 1551.24 Q1395.35 1552.07 1398.44 1552.07 Q1402.58 1552.07 1404.81 1550.66 Q1407.04 1549.23 1407.04 1546.65 Q1407.04 1544.27 1405.41 1542.99 Q1403.82 1541.72 1398.38 1540.54 L1396.34 1540.07 Q1390.9 1538.92 1388.48 1536.56 Q1386.06 1534.18 1386.06 1530.04 Q1386.06 1525.01 1389.63 1522.27 Q1393.19 1519.54 1399.75 1519.54 Q1402.99 1519.54 1405.86 1520.01 Q1408.72 1520.49 1411.14 1521.45 Z\" fill=\"#000000\" fill-rule=\"evenodd\" fill-opacity=\"1\" /><path clip-path=\"url(#clip000)\" d=\"M 0 0 M40.4842 880.875 L40.4842 873.968 L60.0269 860.791 L40.4842 847.709 L40.4842 840.802 L65.3741 857.608 L88.0042 857.608 L88.0042 864.069 L65.3741 864.069 L40.4842 880.875 Z\" fill=\"#000000\" fill-rule=\"evenodd\" fill-opacity=\"1\" /><path clip-path=\"url(#clip000)\" d=\"M 0 0 M67.5384 816.899 L67.5384 799.744 L72.7583 799.744 L72.7583 816.899 L67.5384 816.899 Z\" fill=\"#000000\" fill-rule=\"evenodd\" fill-opacity=\"1\" /><path clip-path=\"url(#clip000)\" d=\"M 0 0 M70.0847 756.68 Q70.0847 763.777 71.7079 766.515 Q73.3312 769.252 77.2461 769.252 Q80.3653 769.252 82.2114 767.215 Q84.0256 765.146 84.0256 761.613 Q84.0256 756.743 80.5881 753.815 Q77.1188 750.855 71.3897 750.855 L70.0847 750.855 L70.0847 756.68 M67.6657 744.999 L88.0042 744.999 L88.0042 750.855 L82.5933 750.855 Q85.8398 752.86 87.3994 755.852 Q88.9272 758.844 88.9272 763.173 Q88.9272 768.647 85.8716 771.894 Q82.7843 775.108 77.6281 775.108 Q71.6125 775.108 68.5569 771.098 Q65.5014 767.056 65.5014 759.067 L65.5014 750.855 L64.9285 750.855 Q60.8862 750.855 58.6901 753.529 Q56.4621 756.17 56.4621 760.977 Q56.4621 764.032 57.1941 766.928 Q57.9262 769.825 59.3903 772.498 L53.9795 772.498 Q52.7381 769.284 52.1334 766.26 Q51.4968 763.236 51.4968 760.372 Q51.4968 752.637 55.5072 748.818 Q59.5176 744.999 67.6657 744.999 Z\" fill=\"#000000\" fill-rule=\"evenodd\" fill-opacity=\"1\" /><path clip-path=\"url(#clip000)\" d=\"M 0 0 M52.3562 709.223 L69.7028 722.114 L88.0042 708.555 L88.0042 715.462 L73.9996 725.838 L88.0042 736.214 L88.0042 743.121 L69.3526 729.275 L52.3562 741.943 L52.3562 735.036 L65.0558 725.583 L52.3562 716.13 L52.3562 709.223 Z\" fill=\"#000000\" fill-rule=\"evenodd\" fill-opacity=\"1\" /><path clip-path=\"url(#clip000)\" d=\"M 0 0 M52.3562 702.412 L52.3562 696.556 L88.0042 696.556 L88.0042 702.412 L52.3562 702.412 M38.479 702.412 L38.479 696.556 L45.895 696.556 L45.895 702.412 L38.479 702.412 Z\" fill=\"#000000\" fill-rule=\"evenodd\" fill-opacity=\"1\" /><path clip-path=\"url(#clip000)\" d=\"M 0 0 M53.4065 667.687 L58.9447 667.687 Q57.6716 670.17 57.035 672.843 Q56.3984 675.517 56.3984 678.381 Q56.3984 682.742 57.7352 684.938 Q59.072 687.102 61.7456 687.102 Q63.7826 687.102 64.9603 685.543 Q66.1061 683.983 67.1565 679.273 L67.6021 677.267 Q68.9389 671.029 71.3897 668.419 Q73.8086 665.777 78.1691 665.777 Q83.1344 665.777 86.0308 669.724 Q88.9272 673.639 88.9272 680.514 Q88.9272 683.379 88.3543 686.498 Q87.8132 689.585 86.6992 693.023 L80.6518 693.023 Q82.3387 689.776 83.198 686.625 Q84.0256 683.474 84.0256 680.387 Q84.0256 676.249 82.6251 674.021 Q81.1929 671.793 78.6147 671.793 Q76.2276 671.793 74.9545 673.416 Q73.6813 675.008 72.5037 680.45 L72.0262 682.487 Q70.8804 687.93 68.5251 690.349 Q66.138 692.768 62.0002 692.768 Q56.9713 692.768 54.2341 689.203 Q51.4968 685.638 51.4968 679.082 Q51.4968 675.835 51.9743 672.971 Q52.4517 670.106 53.4065 667.687 Z\" fill=\"#000000\" fill-rule=\"evenodd\" fill-opacity=\"1\" /><polyline clip-path=\"url(#clip002)\" style=\"stroke:#009af9; stroke-width:4; stroke-opacity:1; fill:none\" points=\"\n",
       "  294.919,1211.23 2205,1152.85 2224.23,1094.46 2282.74,1386.4 2292.82,160.256 \n",
       "  \"/>\n",
       "<path clip-path=\"url(#clip000)\" d=\"\n",
       "M1975.11 327.952 L2280.76 327.952 L2280.76 206.992 L1975.11 206.992  Z\n",
       "  \" fill=\"#ffffff\" fill-rule=\"evenodd\" fill-opacity=\"1\"/>\n",
       "<polyline clip-path=\"url(#clip000)\" style=\"stroke:#000000; stroke-width:4; stroke-opacity:1; fill:none\" points=\"\n",
       "  1975.11,327.952 2280.76,327.952 2280.76,206.992 1975.11,206.992 1975.11,327.952 \n",
       "  \"/>\n",
       "<polyline clip-path=\"url(#clip000)\" style=\"stroke:#009af9; stroke-width:4; stroke-opacity:1; fill:none\" points=\"\n",
       "  1999.11,267.472 2143.11,267.472 \n",
       "  \"/>\n",
       "<path clip-path=\"url(#clip000)\" d=\"M 0 0 M2167.11 248.734 L2171.37 248.734 L2171.37 284.752 L2167.11 284.752 L2167.11 248.734 Z\" fill=\"#000000\" fill-rule=\"evenodd\" fill-opacity=\"1\" /><path clip-path=\"url(#clip000)\" d=\"M 0 0 M2175.83 258.826 L2180.09 258.826 L2180.09 284.752 L2175.83 284.752 L2175.83 258.826 M2175.83 248.734 L2180.09 248.734 L2180.09 254.127 L2175.83 254.127 L2175.83 248.734 Z\" fill=\"#000000\" fill-rule=\"evenodd\" fill-opacity=\"1\" /><path clip-path=\"url(#clip000)\" d=\"M 0 0 M2206.11 269.104 L2206.11 284.752 L2201.85 284.752 L2201.85 269.243 Q2201.85 265.562 2200.42 263.734 Q2198.98 261.905 2196.11 261.905 Q2192.66 261.905 2190.67 264.104 Q2188.68 266.303 2188.68 270.099 L2188.68 284.752 L2184.4 284.752 L2184.4 258.826 L2188.68 258.826 L2188.68 262.854 Q2190.21 260.516 2192.27 259.359 Q2194.35 258.201 2197.06 258.201 Q2201.53 258.201 2203.82 260.979 Q2206.11 263.734 2206.11 269.104 Z\" fill=\"#000000\" fill-rule=\"evenodd\" fill-opacity=\"1\" /><path clip-path=\"url(#clip000)\" d=\"M 0 0 M2232.76 270.724 L2232.76 272.808 L2213.17 272.808 Q2213.45 277.206 2215.81 279.521 Q2218.2 281.812 2222.43 281.812 Q2224.89 281.812 2227.18 281.21 Q2229.49 280.609 2231.76 279.405 L2231.76 283.433 Q2229.47 284.405 2227.06 284.914 Q2224.65 285.423 2222.18 285.423 Q2215.97 285.423 2212.34 281.812 Q2208.73 278.201 2208.73 272.044 Q2208.73 265.678 2212.15 261.951 Q2215.6 258.201 2221.44 258.201 Q2226.67 258.201 2229.7 261.581 Q2232.76 264.937 2232.76 270.724 M2228.5 269.474 Q2228.45 265.979 2226.53 263.896 Q2224.63 261.812 2221.48 261.812 Q2217.92 261.812 2215.77 263.826 Q2213.64 265.84 2213.31 269.498 L2228.5 269.474 Z\" fill=\"#000000\" fill-rule=\"evenodd\" fill-opacity=\"1\" /></svg>\n"
      ]
     },
     "execution_count": 96,
     "metadata": {},
     "output_type": "execute_result"
    }
   ],
   "source": [
    "#flips on basis of X-axis\n",
    "xflip!()"
   ]
  },
  {
   "cell_type": "code",
   "execution_count": 97,
   "metadata": {},
   "outputs": [
    {
     "name": "stderr",
     "output_type": "stream",
     "text": [
      "\u001b[32m\u001b[1m  Resolving\u001b[22m\u001b[39m package versions...\n",
      "\u001b[32m\u001b[1m   Updating\u001b[22m\u001b[39m `C:\\Users\\Rahul\\.julia\\environments\\v1.4\\Project.toml`\n",
      "\u001b[90m [no changes]\u001b[39m\n",
      "\u001b[32m\u001b[1m   Updating\u001b[22m\u001b[39m `C:\\Users\\Rahul\\.julia\\environments\\v1.4\\Manifest.toml`\n",
      "\u001b[90m [no changes]\u001b[39m\n"
     ]
    }
   ],
   "source": [
    "Pkg.add(\"UnicodePlots\")"
   ]
  },
  {
   "cell_type": "code",
   "execution_count": 98,
   "metadata": {},
   "outputs": [
    {
     "data": {
      "text/plain": [
       "Plots.UnicodePlotsBackend()"
      ]
     },
     "execution_count": 98,
     "metadata": {},
     "output_type": "execute_result"
    }
   ],
   "source": [
    "unicodeplots() # now using unicode backend"
   ]
  },
  {
   "cell_type": "code",
   "execution_count": 99,
   "metadata": {},
   "outputs": [
    {
     "name": "stderr",
     "output_type": "stream",
     "text": [
      "\u001b[32m\u001b[1m  Resolving\u001b[22m\u001b[39m package versions...\n",
      "\u001b[32m\u001b[1m   Updating\u001b[22m\u001b[39m `C:\\Users\\Rahul\\.julia\\environments\\v1.4\\Project.toml`\n",
      "\u001b[90m [no changes]\u001b[39m\n",
      "\u001b[32m\u001b[1m   Updating\u001b[22m\u001b[39m `C:\\Users\\Rahul\\.julia\\environments\\v1.4\\Manifest.toml`\n",
      "\u001b[90m [no changes]\u001b[39m\n"
     ]
    }
   ],
   "source": [
    "Pkg.add(\"PyPlot\")"
   ]
  },
  {
   "cell_type": "code",
   "execution_count": 102,
   "metadata": {},
   "outputs": [
    {
     "data": {
      "text/plain": [
       "                                                        sample plot\n",
       "                               +------------------------------------------------------------+       \n",
       "            16.262999999999998 | |                                                          | points\n",
       "                               | |                                                          |       \n",
       "                               | |                                                          |       \n",
       "                               | |                                                          |       \n",
       "                               | |                                                          |       \n",
       "                               | |                                                          |       \n",
       "                               | |                                                          |       \n",
       "                               | |                                                          |       \n",
       "                               | |                                                          |       \n",
       "   Y - axis                    | |                                                          |       \n",
       "                               | |                                                          |       \n",
       "                               | |                                                          |       \n",
       "                               | |                                                          |       \n",
       "                               | |                                                          |       \n",
       "                               | |                   .                                      |       \n",
       "                               | |                        .                                 |       \n",
       "                               | |                                                        . |       \n",
       "                               | |                                                          |       \n",
       "                               | |                                                          |       \n",
       "            14.036999999999999 | |  *                                                       |       \n",
       "                               +------------------------------------------------------------+       \n",
       "                               -111.31                                                4634.31\n",
       "                                                          X - axis"
      ]
     },
     "execution_count": 102,
     "metadata": {},
     "output_type": "execute_result"
    }
   ],
   "source": [
    "plot(numpirates,globaltemp,label=\"line\")\n",
    "scatter(numpirates,globaltemp,label=\"points\")\n",
    "xlabel!(\" X - axis\")\n",
    "\n",
    "ylabel!(\"Y - axis\")\n",
    "title!(\"sample plot\")"
   ]
  },
  {
   "cell_type": "code",
   "execution_count": 105,
   "metadata": {
    "scrolled": true
   },
   "outputs": [
    {
     "name": "stderr",
     "output_type": "stream",
     "text": [
      "┌ Info: Precompiling PyPlot [d330b81b-6aea-500a-939a-2ce795aea3ee]\n",
      "└ @ Base loading.jl:1260\n",
      "ERROR: LoadError: LoadError: PyCall not properly installed. Please run Pkg.build(\"PyCall\")\n",
      "Stacktrace:\n",
      " [1] error(::String) at .\\error.jl:33\n",
      " [2] top-level scope at C:\\Users\\Rahul\\.julia\\packages\\PyCall\\zqDXB\\src\\startup.jl:44\n",
      " [3] include(::Module, ::String) at .\\Base.jl:377\n",
      " [4] include(::String) at C:\\Users\\Rahul\\.julia\\packages\\PyCall\\zqDXB\\src\\PyCall.jl:1\n",
      " [5] top-level scope at C:\\Users\\Rahul\\.julia\\packages\\PyCall\\zqDXB\\src\\PyCall.jl:34\n",
      " [6] include(::Module, ::String) at .\\Base.jl:377\n",
      " [7] top-level scope at none:2\n",
      " [8] eval at .\\boot.jl:331 [inlined]\n",
      " [9] eval(::Expr) at .\\client.jl:449\n",
      " [10] top-level scope at .\\none:3\n",
      "in expression starting at C:\\Users\\Rahul\\.julia\\packages\\PyCall\\zqDXB\\src\\startup.jl:41\n",
      "in expression starting at C:\\Users\\Rahul\\.julia\\packages\\PyCall\\zqDXB\\src\\PyCall.jl:34\n",
      "ERROR: LoadError: Failed to precompile PyCall [438e738f-606a-5dbb-bf0a-cddfbfd45ab0] to C:\\Users\\Rahul\\.julia\\compiled\\v1.4\\PyCall\\GkzkC_s2AhS.ji.\n",
      "Stacktrace:\n",
      " [1] error(::String) at .\\error.jl:33\n",
      " [2] compilecache(::Base.PkgId, ::String) at .\\loading.jl:1272\n",
      " [3] _require(::Base.PkgId) at .\\loading.jl:1029\n",
      " [4] require(::Base.PkgId) at .\\loading.jl:927\n",
      " [5] require(::Module, ::Symbol) at .\\loading.jl:922\n",
      " [6] include(::Module, ::String) at .\\Base.jl:377\n",
      " [7] top-level scope at none:2\n",
      " [8] eval at .\\boot.jl:331 [inlined]\n",
      " [9] eval(::Expr) at .\\client.jl:449\n",
      " [10] top-level scope at .\\none:3\n",
      "in expression starting at C:\\Users\\Rahul\\.julia\\packages\\PyPlot\\XHEG0\\src\\PyPlot.jl:4\n"
     ]
    },
    {
     "ename": "ErrorException",
     "evalue": "Failed to precompile PyPlot [d330b81b-6aea-500a-939a-2ce795aea3ee] to C:\\Users\\Rahul\\.julia\\compiled\\v1.4\\PyPlot\\oatAj_s2AhS.ji.",
     "output_type": "error",
     "traceback": [
      "Failed to precompile PyPlot [d330b81b-6aea-500a-939a-2ce795aea3ee] to C:\\Users\\Rahul\\.julia\\compiled\\v1.4\\PyPlot\\oatAj_s2AhS.ji.",
      "",
      "Stacktrace:",
      " [1] error(::String) at .\\error.jl:33",
      " [2] compilecache(::Base.PkgId, ::String) at .\\loading.jl:1272",
      " [3] _require(::Base.PkgId) at .\\loading.jl:1029",
      " [4] require(::Base.PkgId) at .\\loading.jl:927",
      " [5] require(::Module, ::Symbol) at .\\loading.jl:922",
      " [6] top-level scope at C:\\Users\\Rahul\\.julia\\packages\\Plots\\lIZ4V\\src\\backends.jl:508",
      " [7] eval at .\\boot.jl:331 [inlined]",
      " [8] _initialize_backend(::Plots.PyPlotBackend) at C:\\Users\\Rahul\\.julia\\packages\\Plots\\lIZ4V\\src\\backends.jl:507",
      " [9] backend at C:\\Users\\Rahul\\.julia\\packages\\Plots\\lIZ4V\\src\\backends.jl:176 [inlined]",
      " [10] pyplot(; kw::Base.Iterators.Pairs{Union{},Union{},Tuple{},NamedTuple{(),Tuple{}}}) at C:\\Users\\Rahul\\.julia\\packages\\Plots\\lIZ4V\\src\\backends.jl:33",
      " [11] pyplot() at C:\\Users\\Rahul\\.julia\\packages\\Plots\\lIZ4V\\src\\backends.jl:33",
      " [12] top-level scope at In[105]:1"
     ]
    }
   ],
   "source": [
    "#pyplot()"
   ]
  },
  {
   "cell_type": "markdown",
   "metadata": {},
   "source": [
    "<h4>SUBPLOTS"
   ]
  },
  {
   "cell_type": "code",
   "execution_count": 109,
   "metadata": {},
   "outputs": [
    {
     "data": {
      "text/plain": [
       "Plots.GRBackend()"
      ]
     },
     "execution_count": 109,
     "metadata": {},
     "output_type": "execute_result"
    }
   ],
   "source": [
    "gr()  # using gr backend"
   ]
  },
  {
   "cell_type": "code",
   "execution_count": 110,
   "metadata": {},
   "outputs": [
    {
     "data": {
      "text/plain": [
       "-10:10"
      ]
     },
     "execution_count": 110,
     "metadata": {},
     "output_type": "execute_result"
    }
   ],
   "source": [
    "x=-10:10"
   ]
  },
  {
   "cell_type": "code",
   "execution_count": 112,
   "metadata": {},
   "outputs": [
    {
     "data": {
      "image/svg+xml": [
       "<?xml version=\"1.0\" encoding=\"utf-8\"?>\n",
       "<svg xmlns=\"http://www.w3.org/2000/svg\" xmlns:xlink=\"http://www.w3.org/1999/xlink\" width=\"600\" height=\"400\" viewBox=\"0 0 2400 1600\">\n",
       "<defs>\n",
       "  <clipPath id=\"clip080\">\n",
       "    <rect x=\"0\" y=\"0\" width=\"2400\" height=\"1600\"/>\n",
       "  </clipPath>\n",
       "</defs>\n",
       "<path clip-path=\"url(#clip080)\" d=\"\n",
       "M0 1600 L2400 1600 L2400 0 L0 0  Z\n",
       "  \" fill=\"#ffffff\" fill-rule=\"evenodd\" fill-opacity=\"1\"/>\n",
       "<defs>\n",
       "  <clipPath id=\"clip081\">\n",
       "    <rect x=\"480\" y=\"0\" width=\"1681\" height=\"1600\"/>\n",
       "  </clipPath>\n",
       "</defs>\n",
       "<path clip-path=\"url(#clip080)\" d=\"\n",
       "M206.297 686.448 L1148.09 686.448 L1148.09 47.2441 L206.297 47.2441  Z\n",
       "  \" fill=\"#ffffff\" fill-rule=\"evenodd\" fill-opacity=\"1\"/>\n",
       "<defs>\n",
       "  <clipPath id=\"clip082\">\n",
       "    <rect x=\"206\" y=\"47\" width=\"943\" height=\"640\"/>\n",
       "  </clipPath>\n",
       "</defs>\n",
       "<polyline clip-path=\"url(#clip082)\" style=\"stroke:#000000; stroke-width:2; stroke-opacity:0.1; fill:none\" points=\"\n",
       "  232.952,686.448 232.952,47.2441 \n",
       "  \"/>\n",
       "<polyline clip-path=\"url(#clip082)\" style=\"stroke:#000000; stroke-width:2; stroke-opacity:0.1; fill:none\" points=\"\n",
       "  455.073,686.448 455.073,47.2441 \n",
       "  \"/>\n",
       "<polyline clip-path=\"url(#clip082)\" style=\"stroke:#000000; stroke-width:2; stroke-opacity:0.1; fill:none\" points=\"\n",
       "  677.194,686.448 677.194,47.2441 \n",
       "  \"/>\n",
       "<polyline clip-path=\"url(#clip082)\" style=\"stroke:#000000; stroke-width:2; stroke-opacity:0.1; fill:none\" points=\"\n",
       "  899.316,686.448 899.316,47.2441 \n",
       "  \"/>\n",
       "<polyline clip-path=\"url(#clip082)\" style=\"stroke:#000000; stroke-width:2; stroke-opacity:0.1; fill:none\" points=\"\n",
       "  1121.44,686.448 1121.44,47.2441 \n",
       "  \"/>\n",
       "<polyline clip-path=\"url(#clip082)\" style=\"stroke:#000000; stroke-width:2; stroke-opacity:0.1; fill:none\" points=\"\n",
       "  206.297,668.357 1148.09,668.357 \n",
       "  \"/>\n",
       "<polyline clip-path=\"url(#clip082)\" style=\"stroke:#000000; stroke-width:2; stroke-opacity:0.1; fill:none\" points=\"\n",
       "  206.297,517.602 1148.09,517.602 \n",
       "  \"/>\n",
       "<polyline clip-path=\"url(#clip082)\" style=\"stroke:#000000; stroke-width:2; stroke-opacity:0.1; fill:none\" points=\"\n",
       "  206.297,366.846 1148.09,366.846 \n",
       "  \"/>\n",
       "<polyline clip-path=\"url(#clip082)\" style=\"stroke:#000000; stroke-width:2; stroke-opacity:0.1; fill:none\" points=\"\n",
       "  206.297,216.09 1148.09,216.09 \n",
       "  \"/>\n",
       "<polyline clip-path=\"url(#clip082)\" style=\"stroke:#000000; stroke-width:2; stroke-opacity:0.1; fill:none\" points=\"\n",
       "  206.297,65.3348 1148.09,65.3348 \n",
       "  \"/>\n",
       "<polyline clip-path=\"url(#clip080)\" style=\"stroke:#000000; stroke-width:4; stroke-opacity:1; fill:none\" points=\"\n",
       "  206.297,686.448 1148.09,686.448 \n",
       "  \"/>\n",
       "<polyline clip-path=\"url(#clip080)\" style=\"stroke:#000000; stroke-width:4; stroke-opacity:1; fill:none\" points=\"\n",
       "  206.297,686.448 206.297,47.2441 \n",
       "  \"/>\n",
       "<polyline clip-path=\"url(#clip080)\" style=\"stroke:#000000; stroke-width:4; stroke-opacity:1; fill:none\" points=\"\n",
       "  232.952,686.448 232.952,678.777 \n",
       "  \"/>\n",
       "<polyline clip-path=\"url(#clip080)\" style=\"stroke:#000000; stroke-width:4; stroke-opacity:1; fill:none\" points=\"\n",
       "  455.073,686.448 455.073,678.777 \n",
       "  \"/>\n",
       "<polyline clip-path=\"url(#clip080)\" style=\"stroke:#000000; stroke-width:4; stroke-opacity:1; fill:none\" points=\"\n",
       "  677.194,686.448 677.194,678.777 \n",
       "  \"/>\n",
       "<polyline clip-path=\"url(#clip080)\" style=\"stroke:#000000; stroke-width:4; stroke-opacity:1; fill:none\" points=\"\n",
       "  899.316,686.448 899.316,678.777 \n",
       "  \"/>\n",
       "<polyline clip-path=\"url(#clip080)\" style=\"stroke:#000000; stroke-width:4; stroke-opacity:1; fill:none\" points=\"\n",
       "  1121.44,686.448 1121.44,678.777 \n",
       "  \"/>\n",
       "<polyline clip-path=\"url(#clip080)\" style=\"stroke:#000000; stroke-width:4; stroke-opacity:1; fill:none\" points=\"\n",
       "  206.297,668.357 217.599,668.357 \n",
       "  \"/>\n",
       "<polyline clip-path=\"url(#clip080)\" style=\"stroke:#000000; stroke-width:4; stroke-opacity:1; fill:none\" points=\"\n",
       "  206.297,517.602 217.599,517.602 \n",
       "  \"/>\n",
       "<polyline clip-path=\"url(#clip080)\" style=\"stroke:#000000; stroke-width:4; stroke-opacity:1; fill:none\" points=\"\n",
       "  206.297,366.846 217.599,366.846 \n",
       "  \"/>\n",
       "<polyline clip-path=\"url(#clip080)\" style=\"stroke:#000000; stroke-width:4; stroke-opacity:1; fill:none\" points=\"\n",
       "  206.297,216.09 217.599,216.09 \n",
       "  \"/>\n",
       "<polyline clip-path=\"url(#clip080)\" style=\"stroke:#000000; stroke-width:4; stroke-opacity:1; fill:none\" points=\"\n",
       "  206.297,65.3348 217.599,65.3348 \n",
       "  \"/>\n",
       "<path clip-path=\"url(#clip080)\" d=\"M 0 0 M200.313 725.036 L212.79 725.036 L212.79 728.832 L200.313 728.832 L200.313 725.036 Z\" fill=\"#000000\" fill-rule=\"evenodd\" fill-opacity=\"1\" /><path clip-path=\"url(#clip080)\" d=\"M 0 0 M218.669 735.985 L226.308 735.985 L226.308 709.619 L217.998 711.286 L217.998 707.027 L226.262 705.36 L230.938 705.36 L230.938 735.985 L238.577 735.985 L238.577 739.92 L218.669 739.92 L218.669 735.985 Z\" fill=\"#000000\" fill-rule=\"evenodd\" fill-opacity=\"1\" /><path clip-path=\"url(#clip080)\" d=\"M 0 0 M253.646 708.439 Q250.035 708.439 248.206 712.003 Q246.401 715.545 246.401 722.675 Q246.401 729.781 248.206 733.346 Q250.035 736.887 253.646 736.887 Q257.28 736.887 259.086 733.346 Q260.914 729.781 260.914 722.675 Q260.914 715.545 259.086 712.003 Q257.28 708.439 253.646 708.439 M253.646 704.735 Q259.456 704.735 262.512 709.341 Q265.59 713.925 265.59 722.675 Q265.59 731.401 262.512 736.008 Q259.456 740.591 253.646 740.591 Q247.836 740.591 244.757 736.008 Q241.702 731.401 241.702 722.675 Q241.702 713.925 244.757 709.341 Q247.836 704.735 253.646 704.735 Z\" fill=\"#000000\" fill-rule=\"evenodd\" fill-opacity=\"1\" /><path clip-path=\"url(#clip080)\" d=\"M 0 0 M435.825 725.036 L448.302 725.036 L448.302 728.832 L435.825 728.832 L435.825 725.036 Z\" fill=\"#000000\" fill-rule=\"evenodd\" fill-opacity=\"1\" /><path clip-path=\"url(#clip080)\" d=\"M 0 0 M453.418 705.36 L471.774 705.36 L471.774 709.295 L457.7 709.295 L457.7 717.767 Q458.719 717.42 459.737 717.258 Q460.756 717.073 461.774 717.073 Q467.561 717.073 470.941 720.244 Q474.321 723.415 474.321 728.832 Q474.321 734.411 470.848 737.512 Q467.376 740.591 461.057 740.591 Q458.881 740.591 456.612 740.221 Q454.367 739.85 451.96 739.11 L451.96 734.411 Q454.043 735.545 456.265 736.1 Q458.487 736.656 460.964 736.656 Q464.969 736.656 467.307 734.55 Q469.645 732.443 469.645 728.832 Q469.645 725.221 467.307 723.114 Q464.969 721.008 460.964 721.008 Q459.089 721.008 457.214 721.425 Q455.362 721.841 453.418 722.721 L453.418 705.36 Z\" fill=\"#000000\" fill-rule=\"evenodd\" fill-opacity=\"1\" /><path clip-path=\"url(#clip080)\" d=\"M 0 0 M677.194 708.439 Q673.583 708.439 671.755 712.003 Q669.949 715.545 669.949 722.675 Q669.949 729.781 671.755 733.346 Q673.583 736.887 677.194 736.887 Q680.829 736.887 682.634 733.346 Q684.463 729.781 684.463 722.675 Q684.463 715.545 682.634 712.003 Q680.829 708.439 677.194 708.439 M677.194 704.735 Q683.004 704.735 686.06 709.341 Q689.139 713.925 689.139 722.675 Q689.139 731.401 686.06 736.008 Q683.004 740.591 677.194 740.591 Q671.384 740.591 668.305 736.008 Q665.25 731.401 665.25 722.675 Q665.25 713.925 668.305 709.341 Q671.384 704.735 677.194 704.735 Z\" fill=\"#000000\" fill-rule=\"evenodd\" fill-opacity=\"1\" /><path clip-path=\"url(#clip080)\" d=\"M 0 0 M889.593 705.36 L907.95 705.36 L907.95 709.295 L893.876 709.295 L893.876 717.767 Q894.894 717.42 895.913 717.258 Q896.931 717.073 897.95 717.073 Q903.737 717.073 907.117 720.244 Q910.496 723.415 910.496 728.832 Q910.496 734.411 907.024 737.512 Q903.552 740.591 897.232 740.591 Q895.056 740.591 892.788 740.221 Q890.543 739.85 888.135 739.11 L888.135 734.411 Q890.218 735.545 892.441 736.1 Q894.663 736.656 897.14 736.656 Q901.144 736.656 903.482 734.55 Q905.82 732.443 905.82 728.832 Q905.82 725.221 903.482 723.114 Q901.144 721.008 897.14 721.008 Q895.265 721.008 893.39 721.425 Q891.538 721.841 889.593 722.721 L889.593 705.36 Z\" fill=\"#000000\" fill-rule=\"evenodd\" fill-opacity=\"1\" /><path clip-path=\"url(#clip080)\" d=\"M 0 0 M1098.31 735.985 L1105.95 735.985 L1105.95 709.619 L1097.64 711.286 L1097.64 707.027 L1105.9 705.36 L1110.58 705.36 L1110.58 735.985 L1118.22 735.985 L1118.22 739.92 L1098.31 739.92 L1098.31 735.985 Z\" fill=\"#000000\" fill-rule=\"evenodd\" fill-opacity=\"1\" /><path clip-path=\"url(#clip080)\" d=\"M 0 0 M1133.29 708.439 Q1129.68 708.439 1127.85 712.003 Q1126.04 715.545 1126.04 722.675 Q1126.04 729.781 1127.85 733.346 Q1129.68 736.887 1133.29 736.887 Q1136.92 736.887 1138.73 733.346 Q1140.56 729.781 1140.56 722.675 Q1140.56 715.545 1138.73 712.003 Q1136.92 708.439 1133.29 708.439 M1133.29 704.735 Q1139.1 704.735 1142.15 709.341 Q1145.23 713.925 1145.23 722.675 Q1145.23 731.401 1142.15 736.008 Q1139.1 740.591 1133.29 740.591 Q1127.48 740.591 1124.4 736.008 Q1121.34 731.401 1121.34 722.675 Q1121.34 713.925 1124.4 709.341 Q1127.48 704.735 1133.29 704.735 Z\" fill=\"#000000\" fill-rule=\"evenodd\" fill-opacity=\"1\" /><path clip-path=\"url(#clip080)\" d=\"M 0 0 M117.02 670.753 L129.496 670.753 L129.496 674.549 L117.02 674.549 L117.02 670.753 Z\" fill=\"#000000\" fill-rule=\"evenodd\" fill-opacity=\"1\" /><path clip-path=\"url(#clip080)\" d=\"M 0 0 M135.376 681.702 L143.015 681.702 L143.015 655.336 L134.705 657.003 L134.705 652.744 L142.969 651.077 L147.644 651.077 L147.644 681.702 L155.283 681.702 L155.283 685.637 L135.376 685.637 L135.376 681.702 Z\" fill=\"#000000\" fill-rule=\"evenodd\" fill-opacity=\"1\" /><path clip-path=\"url(#clip080)\" d=\"M 0 0 M170.353 654.156 Q166.742 654.156 164.913 657.721 Q163.107 661.262 163.107 668.392 Q163.107 675.498 164.913 679.063 Q166.742 682.605 170.353 682.605 Q173.987 682.605 175.792 679.063 Q177.621 675.498 177.621 668.392 Q177.621 661.262 175.792 657.721 Q173.987 654.156 170.353 654.156 M170.353 650.452 Q176.163 650.452 179.218 655.059 Q182.297 659.642 182.297 668.392 Q182.297 677.119 179.218 681.725 Q176.163 686.308 170.353 686.308 Q164.543 686.308 161.464 681.725 Q158.408 677.119 158.408 668.392 Q158.408 659.642 161.464 655.059 Q164.543 650.452 170.353 650.452 Z\" fill=\"#000000\" fill-rule=\"evenodd\" fill-opacity=\"1\" /><path clip-path=\"url(#clip080)\" d=\"M 0 0 M143.802 519.997 L156.279 519.997 L156.279 523.794 L143.802 523.794 L143.802 519.997 Z\" fill=\"#000000\" fill-rule=\"evenodd\" fill-opacity=\"1\" /><path clip-path=\"url(#clip080)\" d=\"M 0 0 M161.394 500.322 L179.751 500.322 L179.751 504.257 L165.677 504.257 L165.677 512.729 Q166.695 512.382 167.714 512.22 Q168.732 512.034 169.751 512.034 Q175.538 512.034 178.917 515.206 Q182.297 518.377 182.297 523.794 Q182.297 529.372 178.825 532.474 Q175.353 535.553 169.033 535.553 Q166.857 535.553 164.589 535.183 Q162.343 534.812 159.936 534.071 L159.936 529.372 Q162.019 530.507 164.242 531.062 Q166.464 531.618 168.941 531.618 Q172.945 531.618 175.283 529.511 Q177.621 527.405 177.621 523.794 Q177.621 520.183 175.283 518.076 Q172.945 515.97 168.941 515.97 Q167.066 515.97 165.191 516.386 Q163.339 516.803 161.394 517.683 L161.394 500.322 Z\" fill=\"#000000\" fill-rule=\"evenodd\" fill-opacity=\"1\" /><path clip-path=\"url(#clip080)\" d=\"M 0 0 M170.353 352.645 Q166.742 352.645 164.913 356.209 Q163.107 359.751 163.107 366.881 Q163.107 373.987 164.913 377.552 Q166.742 381.094 170.353 381.094 Q173.987 381.094 175.792 377.552 Q177.621 373.987 177.621 366.881 Q177.621 359.751 175.792 356.209 Q173.987 352.645 170.353 352.645 M170.353 348.941 Q176.163 348.941 179.218 353.547 Q182.297 358.131 182.297 366.881 Q182.297 375.608 179.218 380.214 Q176.163 384.797 170.353 384.797 Q164.543 384.797 161.464 380.214 Q158.408 375.608 158.408 366.881 Q158.408 358.131 161.464 353.547 Q164.543 348.941 170.353 348.941 Z\" fill=\"#000000\" fill-rule=\"evenodd\" fill-opacity=\"1\" /><path clip-path=\"url(#clip080)\" d=\"M 0 0 M161.394 198.81 L179.751 198.81 L179.751 202.746 L165.677 202.746 L165.677 211.218 Q166.695 210.87 167.714 210.708 Q168.732 210.523 169.751 210.523 Q175.538 210.523 178.917 213.695 Q182.297 216.866 182.297 222.282 Q182.297 227.861 178.825 230.963 Q175.353 234.042 169.033 234.042 Q166.857 234.042 164.589 233.671 Q162.343 233.301 159.936 232.56 L159.936 227.861 Q162.019 228.995 164.242 229.551 Q166.464 230.107 168.941 230.107 Q172.945 230.107 175.283 228 Q177.621 225.894 177.621 222.282 Q177.621 218.671 175.283 216.565 Q172.945 214.458 168.941 214.458 Q167.066 214.458 165.191 214.875 Q163.339 215.292 161.394 216.171 L161.394 198.81 Z\" fill=\"#000000\" fill-rule=\"evenodd\" fill-opacity=\"1\" /><path clip-path=\"url(#clip080)\" d=\"M 0 0 M135.376 78.6796 L143.015 78.6796 L143.015 52.314 L134.705 53.9807 L134.705 49.7214 L142.969 48.0548 L147.644 48.0548 L147.644 78.6796 L155.283 78.6796 L155.283 82.6148 L135.376 82.6148 L135.376 78.6796 Z\" fill=\"#000000\" fill-rule=\"evenodd\" fill-opacity=\"1\" /><path clip-path=\"url(#clip080)\" d=\"M 0 0 M170.353 51.1335 Q166.742 51.1335 164.913 54.6983 Q163.107 58.2399 163.107 65.3695 Q163.107 72.4759 164.913 76.0407 Q166.742 79.5824 170.353 79.5824 Q173.987 79.5824 175.792 76.0407 Q177.621 72.4759 177.621 65.3695 Q177.621 58.2399 175.792 54.6983 Q173.987 51.1335 170.353 51.1335 M170.353 47.4298 Q176.163 47.4298 179.218 52.0362 Q182.297 56.6195 182.297 65.3695 Q182.297 74.0963 179.218 78.7028 Q176.163 83.2861 170.353 83.2861 Q164.543 83.2861 161.464 78.7028 Q158.408 74.0963 158.408 65.3695 Q158.408 56.6195 161.464 52.0362 Q164.543 47.4298 170.353 47.4298 Z\" fill=\"#000000\" fill-rule=\"evenodd\" fill-opacity=\"1\" /><polyline clip-path=\"url(#clip082)\" style=\"stroke:#009af9; stroke-width:4; stroke-opacity:1; fill:none\" points=\"\n",
       "  232.952,668.357 277.376,638.206 321.8,608.055 366.224,577.904 410.649,547.753 455.073,517.602 499.497,487.45 543.921,457.299 588.346,427.148 632.77,396.997 \n",
       "  677.194,366.846 721.619,336.695 766.043,306.544 810.467,276.393 854.891,246.241 899.316,216.09 943.74,185.939 988.164,155.788 1032.59,125.637 1077.01,95.4859 \n",
       "  1121.44,65.3348 \n",
       "  \"/>\n",
       "<path clip-path=\"url(#clip080)\" d=\"\n",
       "M1356.93 686.448 L2352.76 686.448 L2352.76 47.2441 L1356.93 47.2441  Z\n",
       "  \" fill=\"#ffffff\" fill-rule=\"evenodd\" fill-opacity=\"1\"/>\n",
       "<defs>\n",
       "  <clipPath id=\"clip083\">\n",
       "    <rect x=\"1356\" y=\"47\" width=\"997\" height=\"640\"/>\n",
       "  </clipPath>\n",
       "</defs>\n",
       "<polyline clip-path=\"url(#clip083)\" style=\"stroke:#000000; stroke-width:2; stroke-opacity:0.1; fill:none\" points=\"\n",
       "  1385.12,686.448 1385.12,47.2441 \n",
       "  \"/>\n",
       "<polyline clip-path=\"url(#clip083)\" style=\"stroke:#000000; stroke-width:2; stroke-opacity:0.1; fill:none\" points=\"\n",
       "  1619.98,686.448 1619.98,47.2441 \n",
       "  \"/>\n",
       "<polyline clip-path=\"url(#clip083)\" style=\"stroke:#000000; stroke-width:2; stroke-opacity:0.1; fill:none\" points=\"\n",
       "  1854.84,686.448 1854.84,47.2441 \n",
       "  \"/>\n",
       "<polyline clip-path=\"url(#clip083)\" style=\"stroke:#000000; stroke-width:2; stroke-opacity:0.1; fill:none\" points=\"\n",
       "  2089.71,686.448 2089.71,47.2441 \n",
       "  \"/>\n",
       "<polyline clip-path=\"url(#clip083)\" style=\"stroke:#000000; stroke-width:2; stroke-opacity:0.1; fill:none\" points=\"\n",
       "  2324.57,686.448 2324.57,47.2441 \n",
       "  \"/>\n",
       "<polyline clip-path=\"url(#clip083)\" style=\"stroke:#000000; stroke-width:2; stroke-opacity:0.1; fill:none\" points=\"\n",
       "  1356.93,668.357 2352.76,668.357 \n",
       "  \"/>\n",
       "<polyline clip-path=\"url(#clip083)\" style=\"stroke:#000000; stroke-width:2; stroke-opacity:0.1; fill:none\" points=\"\n",
       "  1356.93,517.602 2352.76,517.602 \n",
       "  \"/>\n",
       "<polyline clip-path=\"url(#clip083)\" style=\"stroke:#000000; stroke-width:2; stroke-opacity:0.1; fill:none\" points=\"\n",
       "  1356.93,366.846 2352.76,366.846 \n",
       "  \"/>\n",
       "<polyline clip-path=\"url(#clip083)\" style=\"stroke:#000000; stroke-width:2; stroke-opacity:0.1; fill:none\" points=\"\n",
       "  1356.93,216.09 2352.76,216.09 \n",
       "  \"/>\n",
       "<polyline clip-path=\"url(#clip083)\" style=\"stroke:#000000; stroke-width:2; stroke-opacity:0.1; fill:none\" points=\"\n",
       "  1356.93,65.3348 2352.76,65.3348 \n",
       "  \"/>\n",
       "<polyline clip-path=\"url(#clip080)\" style=\"stroke:#000000; stroke-width:4; stroke-opacity:1; fill:none\" points=\"\n",
       "  1356.93,686.448 2352.76,686.448 \n",
       "  \"/>\n",
       "<polyline clip-path=\"url(#clip080)\" style=\"stroke:#000000; stroke-width:4; stroke-opacity:1; fill:none\" points=\"\n",
       "  1356.93,686.448 1356.93,47.2441 \n",
       "  \"/>\n",
       "<polyline clip-path=\"url(#clip080)\" style=\"stroke:#000000; stroke-width:4; stroke-opacity:1; fill:none\" points=\"\n",
       "  1385.12,686.448 1385.12,678.777 \n",
       "  \"/>\n",
       "<polyline clip-path=\"url(#clip080)\" style=\"stroke:#000000; stroke-width:4; stroke-opacity:1; fill:none\" points=\"\n",
       "  1619.98,686.448 1619.98,678.777 \n",
       "  \"/>\n",
       "<polyline clip-path=\"url(#clip080)\" style=\"stroke:#000000; stroke-width:4; stroke-opacity:1; fill:none\" points=\"\n",
       "  1854.84,686.448 1854.84,678.777 \n",
       "  \"/>\n",
       "<polyline clip-path=\"url(#clip080)\" style=\"stroke:#000000; stroke-width:4; stroke-opacity:1; fill:none\" points=\"\n",
       "  2089.71,686.448 2089.71,678.777 \n",
       "  \"/>\n",
       "<polyline clip-path=\"url(#clip080)\" style=\"stroke:#000000; stroke-width:4; stroke-opacity:1; fill:none\" points=\"\n",
       "  2324.57,686.448 2324.57,678.777 \n",
       "  \"/>\n",
       "<polyline clip-path=\"url(#clip080)\" style=\"stroke:#000000; stroke-width:4; stroke-opacity:1; fill:none\" points=\"\n",
       "  1356.93,668.357 1368.88,668.357 \n",
       "  \"/>\n",
       "<polyline clip-path=\"url(#clip080)\" style=\"stroke:#000000; stroke-width:4; stroke-opacity:1; fill:none\" points=\"\n",
       "  1356.93,517.602 1368.88,517.602 \n",
       "  \"/>\n",
       "<polyline clip-path=\"url(#clip080)\" style=\"stroke:#000000; stroke-width:4; stroke-opacity:1; fill:none\" points=\"\n",
       "  1356.93,366.846 1368.88,366.846 \n",
       "  \"/>\n",
       "<polyline clip-path=\"url(#clip080)\" style=\"stroke:#000000; stroke-width:4; stroke-opacity:1; fill:none\" points=\"\n",
       "  1356.93,216.09 1368.88,216.09 \n",
       "  \"/>\n",
       "<polyline clip-path=\"url(#clip080)\" style=\"stroke:#000000; stroke-width:4; stroke-opacity:1; fill:none\" points=\"\n",
       "  1356.93,65.3348 1368.88,65.3348 \n",
       "  \"/>\n",
       "<path clip-path=\"url(#clip080)\" d=\"M 0 0 M1352.48 725.036 L1364.96 725.036 L1364.96 728.832 L1352.48 728.832 L1352.48 725.036 Z\" fill=\"#000000\" fill-rule=\"evenodd\" fill-opacity=\"1\" /><path clip-path=\"url(#clip080)\" d=\"M 0 0 M1370.84 735.985 L1378.47 735.985 L1378.47 709.619 L1370.16 711.286 L1370.16 707.027 L1378.43 705.36 L1383.1 705.36 L1383.1 735.985 L1390.74 735.985 L1390.74 739.92 L1370.84 739.92 L1370.84 735.985 Z\" fill=\"#000000\" fill-rule=\"evenodd\" fill-opacity=\"1\" /><path clip-path=\"url(#clip080)\" d=\"M 0 0 M1405.81 708.439 Q1402.2 708.439 1400.37 712.003 Q1398.57 715.545 1398.57 722.675 Q1398.57 729.781 1400.37 733.346 Q1402.2 736.887 1405.81 736.887 Q1409.45 736.887 1411.25 733.346 Q1413.08 729.781 1413.08 722.675 Q1413.08 715.545 1411.25 712.003 Q1409.45 708.439 1405.81 708.439 M1405.81 704.735 Q1411.62 704.735 1414.68 709.341 Q1417.76 713.925 1417.76 722.675 Q1417.76 731.401 1414.68 736.008 Q1411.62 740.591 1405.81 740.591 Q1400 740.591 1396.92 736.008 Q1393.87 731.401 1393.87 722.675 Q1393.87 713.925 1396.92 709.341 Q1400 704.735 1405.81 704.735 Z\" fill=\"#000000\" fill-rule=\"evenodd\" fill-opacity=\"1\" /><path clip-path=\"url(#clip080)\" d=\"M 0 0 M1600.73 725.036 L1613.21 725.036 L1613.21 728.832 L1600.73 728.832 L1600.73 725.036 Z\" fill=\"#000000\" fill-rule=\"evenodd\" fill-opacity=\"1\" /><path clip-path=\"url(#clip080)\" d=\"M 0 0 M1618.33 705.36 L1636.68 705.36 L1636.68 709.295 L1622.61 709.295 L1622.61 717.767 Q1623.63 717.42 1624.65 717.258 Q1625.66 717.073 1626.68 717.073 Q1632.47 717.073 1635.85 720.244 Q1639.23 723.415 1639.23 728.832 Q1639.23 734.411 1635.76 737.512 Q1632.28 740.591 1625.96 740.591 Q1623.79 740.591 1621.52 740.221 Q1619.28 739.85 1616.87 739.11 L1616.87 734.411 Q1618.95 735.545 1621.17 736.1 Q1623.4 736.656 1625.87 736.656 Q1629.88 736.656 1632.21 734.55 Q1634.55 732.443 1634.55 728.832 Q1634.55 725.221 1632.21 723.114 Q1629.88 721.008 1625.87 721.008 Q1624 721.008 1622.12 721.425 Q1620.27 721.841 1618.33 722.721 L1618.33 705.36 Z\" fill=\"#000000\" fill-rule=\"evenodd\" fill-opacity=\"1\" /><path clip-path=\"url(#clip080)\" d=\"M 0 0 M1854.84 708.439 Q1851.23 708.439 1849.41 712.003 Q1847.6 715.545 1847.6 722.675 Q1847.6 729.781 1849.41 733.346 Q1851.23 736.887 1854.84 736.887 Q1858.48 736.887 1860.28 733.346 Q1862.11 729.781 1862.11 722.675 Q1862.11 715.545 1860.28 712.003 Q1858.48 708.439 1854.84 708.439 M1854.84 704.735 Q1860.66 704.735 1863.71 709.341 Q1866.79 713.925 1866.79 722.675 Q1866.79 731.401 1863.71 736.008 Q1860.66 740.591 1854.84 740.591 Q1849.03 740.591 1845.96 736.008 Q1842.9 731.401 1842.9 722.675 Q1842.9 713.925 1845.96 709.341 Q1849.03 704.735 1854.84 704.735 Z\" fill=\"#000000\" fill-rule=\"evenodd\" fill-opacity=\"1\" /><path clip-path=\"url(#clip080)\" d=\"M 0 0 M2079.99 705.36 L2098.34 705.36 L2098.34 709.295 L2084.27 709.295 L2084.27 717.767 Q2085.29 717.42 2086.31 717.258 Q2087.32 717.073 2088.34 717.073 Q2094.13 717.073 2097.51 720.244 Q2100.89 723.415 2100.89 728.832 Q2100.89 734.411 2097.42 737.512 Q2093.94 740.591 2087.63 740.591 Q2085.45 740.591 2083.18 740.221 Q2080.94 739.85 2078.53 739.11 L2078.53 734.411 Q2080.61 735.545 2082.83 736.1 Q2085.06 736.656 2087.53 736.656 Q2091.54 736.656 2093.88 734.55 Q2096.21 732.443 2096.21 728.832 Q2096.21 725.221 2093.88 723.114 Q2091.54 721.008 2087.53 721.008 Q2085.66 721.008 2083.78 721.425 Q2081.93 721.841 2079.99 722.721 L2079.99 705.36 Z\" fill=\"#000000\" fill-rule=\"evenodd\" fill-opacity=\"1\" /><path clip-path=\"url(#clip080)\" d=\"M 0 0 M2301.45 735.985 L2309.09 735.985 L2309.09 709.619 L2300.78 711.286 L2300.78 707.027 L2309.04 705.36 L2313.72 705.36 L2313.72 735.985 L2321.35 735.985 L2321.35 739.92 L2301.45 739.92 L2301.45 735.985 Z\" fill=\"#000000\" fill-rule=\"evenodd\" fill-opacity=\"1\" /><path clip-path=\"url(#clip080)\" d=\"M 0 0 M2336.42 708.439 Q2332.81 708.439 2330.98 712.003 Q2329.18 715.545 2329.18 722.675 Q2329.18 729.781 2330.98 733.346 Q2332.81 736.887 2336.42 736.887 Q2340.06 736.887 2341.86 733.346 Q2343.69 729.781 2343.69 722.675 Q2343.69 715.545 2341.86 712.003 Q2340.06 708.439 2336.42 708.439 M2336.42 704.735 Q2342.23 704.735 2345.29 709.341 Q2348.37 713.925 2348.37 722.675 Q2348.37 731.401 2345.29 736.008 Q2342.23 740.591 2336.42 740.591 Q2330.61 740.591 2327.54 736.008 Q2324.48 731.401 2324.48 722.675 Q2324.48 713.925 2327.54 709.341 Q2330.61 704.735 2336.42 704.735 Z\" fill=\"#000000\" fill-rule=\"evenodd\" fill-opacity=\"1\" /><path clip-path=\"url(#clip080)\" d=\"M 0 0 M1320.99 654.156 Q1317.38 654.156 1315.55 657.721 Q1313.74 661.262 1313.74 668.392 Q1313.74 675.498 1315.55 679.063 Q1317.38 682.605 1320.99 682.605 Q1324.62 682.605 1326.43 679.063 Q1328.26 675.498 1328.26 668.392 Q1328.26 661.262 1326.43 657.721 Q1324.62 654.156 1320.99 654.156 M1320.99 650.452 Q1326.8 650.452 1329.86 655.059 Q1332.93 659.642 1332.93 668.392 Q1332.93 677.119 1329.86 681.725 Q1326.8 686.308 1320.99 686.308 Q1315.18 686.308 1312.1 681.725 Q1309.05 677.119 1309.05 668.392 Q1309.05 659.642 1312.1 655.059 Q1315.18 650.452 1320.99 650.452 Z\" fill=\"#000000\" fill-rule=\"evenodd\" fill-opacity=\"1\" /><path clip-path=\"url(#clip080)\" d=\"M 0 0 M1290.6 530.946 L1306.92 530.946 L1306.92 534.882 L1284.97 534.882 L1284.97 530.946 Q1287.63 528.192 1292.22 523.562 Q1296.82 518.909 1298 517.567 Q1300.25 515.044 1301.13 513.308 Q1302.03 511.548 1302.03 509.859 Q1302.03 507.104 1300.09 505.368 Q1298.17 503.632 1295.06 503.632 Q1292.86 503.632 1290.41 504.396 Q1287.98 505.16 1285.2 506.71 L1285.2 501.988 Q1288.03 500.854 1290.48 500.275 Q1292.93 499.697 1294.97 499.697 Q1300.34 499.697 1303.54 502.382 Q1306.73 505.067 1306.73 509.558 Q1306.73 511.687 1305.92 513.609 Q1305.13 515.507 1303.03 518.099 Q1302.45 518.771 1299.35 521.988 Q1296.24 525.183 1290.6 530.946 Z\" fill=\"#000000\" fill-rule=\"evenodd\" fill-opacity=\"1\" /><path clip-path=\"url(#clip080)\" d=\"M 0 0 M1312.03 500.322 L1330.39 500.322 L1330.39 504.257 L1316.31 504.257 L1316.31 512.729 Q1317.33 512.382 1318.35 512.22 Q1319.37 512.034 1320.39 512.034 Q1326.17 512.034 1329.55 515.206 Q1332.93 518.377 1332.93 523.794 Q1332.93 529.372 1329.46 532.474 Q1325.99 535.553 1319.67 535.553 Q1317.49 535.553 1315.23 535.183 Q1312.98 534.812 1310.57 534.071 L1310.57 529.372 Q1312.66 530.507 1314.88 531.062 Q1317.1 531.618 1319.58 531.618 Q1323.58 531.618 1325.92 529.511 Q1328.26 527.405 1328.26 523.794 Q1328.26 520.183 1325.92 518.076 Q1323.58 515.97 1319.58 515.97 Q1317.7 515.97 1315.83 516.386 Q1313.98 516.803 1312.03 517.683 L1312.03 500.322 Z\" fill=\"#000000\" fill-rule=\"evenodd\" fill-opacity=\"1\" /><path clip-path=\"url(#clip080)\" d=\"M 0 0 M1285.02 349.566 L1303.37 349.566 L1303.37 353.501 L1289.3 353.501 L1289.3 361.973 Q1290.32 361.626 1291.34 361.464 Q1292.36 361.279 1293.37 361.279 Q1299.16 361.279 1302.54 364.45 Q1305.92 367.621 1305.92 373.038 Q1305.92 378.617 1302.45 381.719 Q1298.98 384.797 1292.66 384.797 Q1290.48 384.797 1288.21 384.427 Q1285.97 384.057 1283.56 383.316 L1283.56 378.617 Q1285.64 379.751 1287.86 380.307 Q1290.09 380.862 1292.56 380.862 Q1296.57 380.862 1298.91 378.756 Q1301.24 376.649 1301.24 373.038 Q1301.24 369.427 1298.91 367.321 Q1296.57 365.214 1292.56 365.214 Q1290.69 365.214 1288.81 365.631 Q1286.96 366.047 1285.02 366.927 L1285.02 349.566 Z\" fill=\"#000000\" fill-rule=\"evenodd\" fill-opacity=\"1\" /><path clip-path=\"url(#clip080)\" d=\"M 0 0 M1320.99 352.645 Q1317.38 352.645 1315.55 356.209 Q1313.74 359.751 1313.74 366.881 Q1313.74 373.987 1315.55 377.552 Q1317.38 381.094 1320.99 381.094 Q1324.62 381.094 1326.43 377.552 Q1328.26 373.987 1328.26 366.881 Q1328.26 359.751 1326.43 356.209 Q1324.62 352.645 1320.99 352.645 M1320.99 348.941 Q1326.8 348.941 1329.86 353.547 Q1332.93 358.131 1332.93 366.881 Q1332.93 375.608 1329.86 380.214 Q1326.8 384.797 1320.99 384.797 Q1315.18 384.797 1312.1 380.214 Q1309.05 375.608 1309.05 366.881 Q1309.05 358.131 1312.1 353.547 Q1315.18 348.941 1320.99 348.941 Z\" fill=\"#000000\" fill-rule=\"evenodd\" fill-opacity=\"1\" /><path clip-path=\"url(#clip080)\" d=\"M 0 0 M1284.69 198.81 L1306.92 198.81 L1306.92 200.801 L1294.37 233.37 L1289.49 233.37 L1301.29 202.746 L1284.69 202.746 L1284.69 198.81 Z\" fill=\"#000000\" fill-rule=\"evenodd\" fill-opacity=\"1\" /><path clip-path=\"url(#clip080)\" d=\"M 0 0 M1312.03 198.81 L1330.39 198.81 L1330.39 202.746 L1316.31 202.746 L1316.31 211.218 Q1317.33 210.87 1318.35 210.708 Q1319.37 210.523 1320.39 210.523 Q1326.17 210.523 1329.55 213.695 Q1332.93 216.866 1332.93 222.282 Q1332.93 227.861 1329.46 230.963 Q1325.99 234.042 1319.67 234.042 Q1317.49 234.042 1315.23 233.671 Q1312.98 233.301 1310.57 232.56 L1310.57 227.861 Q1312.66 228.995 1314.88 229.551 Q1317.1 230.107 1319.58 230.107 Q1323.58 230.107 1325.92 228 Q1328.26 225.894 1328.26 222.282 Q1328.26 218.671 1325.92 216.565 Q1323.58 214.458 1319.58 214.458 Q1317.7 214.458 1315.83 214.875 Q1313.98 215.292 1312.03 216.171 L1312.03 198.81 Z\" fill=\"#000000\" fill-rule=\"evenodd\" fill-opacity=\"1\" /><path clip-path=\"url(#clip080)\" d=\"M 0 0 M1259 78.6796 L1266.64 78.6796 L1266.64 52.314 L1258.33 53.9807 L1258.33 49.7214 L1266.59 48.0548 L1271.27 48.0548 L1271.27 78.6796 L1278.91 78.6796 L1278.91 82.6148 L1259 82.6148 L1259 78.6796 Z\" fill=\"#000000\" fill-rule=\"evenodd\" fill-opacity=\"1\" /><path clip-path=\"url(#clip080)\" d=\"M 0 0 M1293.98 51.1335 Q1290.36 51.1335 1288.54 54.6983 Q1286.73 58.2399 1286.73 65.3695 Q1286.73 72.4759 1288.54 76.0407 Q1290.36 79.5824 1293.98 79.5824 Q1297.61 79.5824 1299.42 76.0407 Q1301.24 72.4759 1301.24 65.3695 Q1301.24 58.2399 1299.42 54.6983 Q1297.61 51.1335 1293.98 51.1335 M1293.98 47.4298 Q1299.79 47.4298 1302.84 52.0362 Q1305.92 56.6195 1305.92 65.3695 Q1305.92 74.0963 1302.84 78.7028 Q1299.79 83.2861 1293.98 83.2861 Q1288.17 83.2861 1285.09 78.7028 Q1282.03 74.0963 1282.03 65.3695 Q1282.03 56.6195 1285.09 52.0362 Q1288.17 47.4298 1293.98 47.4298 Z\" fill=\"#000000\" fill-rule=\"evenodd\" fill-opacity=\"1\" /><path clip-path=\"url(#clip080)\" d=\"M 0 0 M1320.99 51.1335 Q1317.38 51.1335 1315.55 54.6983 Q1313.74 58.2399 1313.74 65.3695 Q1313.74 72.4759 1315.55 76.0407 Q1317.38 79.5824 1320.99 79.5824 Q1324.62 79.5824 1326.43 76.0407 Q1328.26 72.4759 1328.26 65.3695 Q1328.26 58.2399 1326.43 54.6983 Q1324.62 51.1335 1320.99 51.1335 M1320.99 47.4298 Q1326.8 47.4298 1329.86 52.0362 Q1332.93 56.6195 1332.93 65.3695 Q1332.93 74.0963 1329.86 78.7028 Q1326.8 83.2861 1320.99 83.2861 Q1315.18 83.2861 1312.1 78.7028 Q1309.05 74.0963 1309.05 65.3695 Q1309.05 56.6195 1312.1 52.0362 Q1315.18 47.4298 1320.99 47.4298 Z\" fill=\"#000000\" fill-rule=\"evenodd\" fill-opacity=\"1\" /><polyline clip-path=\"url(#clip083)\" style=\"stroke:#009af9; stroke-width:4; stroke-opacity:1; fill:none\" points=\"\n",
       "  1385.12,65.3348 1432.09,179.909 1479.06,282.423 1526.04,372.876 1573.01,451.269 1619.98,517.602 1666.95,571.874 1713.93,614.085 1760.9,644.236 1807.87,662.327 \n",
       "  1854.84,668.357 1901.82,662.327 1948.79,644.236 1995.76,614.085 2042.74,571.874 2089.71,517.602 2136.68,451.269 2183.65,372.876 2230.63,282.423 2277.6,179.909 \n",
       "  2324.57,65.3348 \n",
       "  \"/>\n",
       "<path clip-path=\"url(#clip080)\" d=\"\n",
       "M206.297 1486.45 L1148.09 1486.45 L1148.09 847.244 L206.297 847.244  Z\n",
       "  \" fill=\"#ffffff\" fill-rule=\"evenodd\" fill-opacity=\"1\"/>\n",
       "<defs>\n",
       "  <clipPath id=\"clip084\">\n",
       "    <rect x=\"206\" y=\"847\" width=\"943\" height=\"640\"/>\n",
       "  </clipPath>\n",
       "</defs>\n",
       "<polyline clip-path=\"url(#clip084)\" style=\"stroke:#000000; stroke-width:2; stroke-opacity:0.1; fill:none\" points=\"\n",
       "  232.952,1486.45 232.952,847.244 \n",
       "  \"/>\n",
       "<polyline clip-path=\"url(#clip084)\" style=\"stroke:#000000; stroke-width:2; stroke-opacity:0.1; fill:none\" points=\"\n",
       "  455.073,1486.45 455.073,847.244 \n",
       "  \"/>\n",
       "<polyline clip-path=\"url(#clip084)\" style=\"stroke:#000000; stroke-width:2; stroke-opacity:0.1; fill:none\" points=\"\n",
       "  677.194,1486.45 677.194,847.244 \n",
       "  \"/>\n",
       "<polyline clip-path=\"url(#clip084)\" style=\"stroke:#000000; stroke-width:2; stroke-opacity:0.1; fill:none\" points=\"\n",
       "  899.316,1486.45 899.316,847.244 \n",
       "  \"/>\n",
       "<polyline clip-path=\"url(#clip084)\" style=\"stroke:#000000; stroke-width:2; stroke-opacity:0.1; fill:none\" points=\"\n",
       "  1121.44,1486.45 1121.44,847.244 \n",
       "  \"/>\n",
       "<polyline clip-path=\"url(#clip084)\" style=\"stroke:#000000; stroke-width:2; stroke-opacity:0.1; fill:none\" points=\"\n",
       "  206.297,1468.36 1148.09,1468.36 \n",
       "  \"/>\n",
       "<polyline clip-path=\"url(#clip084)\" style=\"stroke:#000000; stroke-width:2; stroke-opacity:0.1; fill:none\" points=\"\n",
       "  206.297,1317.6 1148.09,1317.6 \n",
       "  \"/>\n",
       "<polyline clip-path=\"url(#clip084)\" style=\"stroke:#000000; stroke-width:2; stroke-opacity:0.1; fill:none\" points=\"\n",
       "  206.297,1166.85 1148.09,1166.85 \n",
       "  \"/>\n",
       "<polyline clip-path=\"url(#clip084)\" style=\"stroke:#000000; stroke-width:2; stroke-opacity:0.1; fill:none\" points=\"\n",
       "  206.297,1016.09 1148.09,1016.09 \n",
       "  \"/>\n",
       "<polyline clip-path=\"url(#clip084)\" style=\"stroke:#000000; stroke-width:2; stroke-opacity:0.1; fill:none\" points=\"\n",
       "  206.297,865.335 1148.09,865.335 \n",
       "  \"/>\n",
       "<polyline clip-path=\"url(#clip080)\" style=\"stroke:#000000; stroke-width:4; stroke-opacity:1; fill:none\" points=\"\n",
       "  206.297,1486.45 1148.09,1486.45 \n",
       "  \"/>\n",
       "<polyline clip-path=\"url(#clip080)\" style=\"stroke:#000000; stroke-width:4; stroke-opacity:1; fill:none\" points=\"\n",
       "  206.297,1486.45 206.297,847.244 \n",
       "  \"/>\n",
       "<polyline clip-path=\"url(#clip080)\" style=\"stroke:#000000; stroke-width:4; stroke-opacity:1; fill:none\" points=\"\n",
       "  232.952,1486.45 232.952,1478.78 \n",
       "  \"/>\n",
       "<polyline clip-path=\"url(#clip080)\" style=\"stroke:#000000; stroke-width:4; stroke-opacity:1; fill:none\" points=\"\n",
       "  455.073,1486.45 455.073,1478.78 \n",
       "  \"/>\n",
       "<polyline clip-path=\"url(#clip080)\" style=\"stroke:#000000; stroke-width:4; stroke-opacity:1; fill:none\" points=\"\n",
       "  677.194,1486.45 677.194,1478.78 \n",
       "  \"/>\n",
       "<polyline clip-path=\"url(#clip080)\" style=\"stroke:#000000; stroke-width:4; stroke-opacity:1; fill:none\" points=\"\n",
       "  899.316,1486.45 899.316,1478.78 \n",
       "  \"/>\n",
       "<polyline clip-path=\"url(#clip080)\" style=\"stroke:#000000; stroke-width:4; stroke-opacity:1; fill:none\" points=\"\n",
       "  1121.44,1486.45 1121.44,1478.78 \n",
       "  \"/>\n",
       "<polyline clip-path=\"url(#clip080)\" style=\"stroke:#000000; stroke-width:4; stroke-opacity:1; fill:none\" points=\"\n",
       "  206.297,1468.36 217.599,1468.36 \n",
       "  \"/>\n",
       "<polyline clip-path=\"url(#clip080)\" style=\"stroke:#000000; stroke-width:4; stroke-opacity:1; fill:none\" points=\"\n",
       "  206.297,1317.6 217.599,1317.6 \n",
       "  \"/>\n",
       "<polyline clip-path=\"url(#clip080)\" style=\"stroke:#000000; stroke-width:4; stroke-opacity:1; fill:none\" points=\"\n",
       "  206.297,1166.85 217.599,1166.85 \n",
       "  \"/>\n",
       "<polyline clip-path=\"url(#clip080)\" style=\"stroke:#000000; stroke-width:4; stroke-opacity:1; fill:none\" points=\"\n",
       "  206.297,1016.09 217.599,1016.09 \n",
       "  \"/>\n",
       "<polyline clip-path=\"url(#clip080)\" style=\"stroke:#000000; stroke-width:4; stroke-opacity:1; fill:none\" points=\"\n",
       "  206.297,865.335 217.599,865.335 \n",
       "  \"/>\n",
       "<path clip-path=\"url(#clip080)\" d=\"M 0 0 M200.313 1525.04 L212.79 1525.04 L212.79 1528.83 L200.313 1528.83 L200.313 1525.04 Z\" fill=\"#000000\" fill-rule=\"evenodd\" fill-opacity=\"1\" /><path clip-path=\"url(#clip080)\" d=\"M 0 0 M218.669 1535.98 L226.308 1535.98 L226.308 1509.62 L217.998 1511.29 L217.998 1507.03 L226.262 1505.36 L230.938 1505.36 L230.938 1535.98 L238.577 1535.98 L238.577 1539.92 L218.669 1539.92 L218.669 1535.98 Z\" fill=\"#000000\" fill-rule=\"evenodd\" fill-opacity=\"1\" /><path clip-path=\"url(#clip080)\" d=\"M 0 0 M253.646 1508.44 Q250.035 1508.44 248.206 1512 Q246.401 1515.55 246.401 1522.67 Q246.401 1529.78 248.206 1533.35 Q250.035 1536.89 253.646 1536.89 Q257.28 1536.89 259.086 1533.35 Q260.914 1529.78 260.914 1522.67 Q260.914 1515.55 259.086 1512 Q257.28 1508.44 253.646 1508.44 M253.646 1504.73 Q259.456 1504.73 262.512 1509.34 Q265.59 1513.92 265.59 1522.67 Q265.59 1531.4 262.512 1536.01 Q259.456 1540.59 253.646 1540.59 Q247.836 1540.59 244.757 1536.01 Q241.702 1531.4 241.702 1522.67 Q241.702 1513.92 244.757 1509.34 Q247.836 1504.73 253.646 1504.73 Z\" fill=\"#000000\" fill-rule=\"evenodd\" fill-opacity=\"1\" /><path clip-path=\"url(#clip080)\" d=\"M 0 0 M435.825 1525.04 L448.302 1525.04 L448.302 1528.83 L435.825 1528.83 L435.825 1525.04 Z\" fill=\"#000000\" fill-rule=\"evenodd\" fill-opacity=\"1\" /><path clip-path=\"url(#clip080)\" d=\"M 0 0 M453.418 1505.36 L471.774 1505.36 L471.774 1509.3 L457.7 1509.3 L457.7 1517.77 Q458.719 1517.42 459.737 1517.26 Q460.756 1517.07 461.774 1517.07 Q467.561 1517.07 470.941 1520.24 Q474.321 1523.42 474.321 1528.83 Q474.321 1534.41 470.848 1537.51 Q467.376 1540.59 461.057 1540.59 Q458.881 1540.59 456.612 1540.22 Q454.367 1539.85 451.96 1539.11 L451.96 1534.41 Q454.043 1535.54 456.265 1536.1 Q458.487 1536.66 460.964 1536.66 Q464.969 1536.66 467.307 1534.55 Q469.645 1532.44 469.645 1528.83 Q469.645 1525.22 467.307 1523.11 Q464.969 1521.01 460.964 1521.01 Q459.089 1521.01 457.214 1521.42 Q455.362 1521.84 453.418 1522.72 L453.418 1505.36 Z\" fill=\"#000000\" fill-rule=\"evenodd\" fill-opacity=\"1\" /><path clip-path=\"url(#clip080)\" d=\"M 0 0 M677.194 1508.44 Q673.583 1508.44 671.755 1512 Q669.949 1515.55 669.949 1522.67 Q669.949 1529.78 671.755 1533.35 Q673.583 1536.89 677.194 1536.89 Q680.829 1536.89 682.634 1533.35 Q684.463 1529.78 684.463 1522.67 Q684.463 1515.55 682.634 1512 Q680.829 1508.44 677.194 1508.44 M677.194 1504.73 Q683.004 1504.73 686.06 1509.34 Q689.139 1513.92 689.139 1522.67 Q689.139 1531.4 686.06 1536.01 Q683.004 1540.59 677.194 1540.59 Q671.384 1540.59 668.305 1536.01 Q665.25 1531.4 665.25 1522.67 Q665.25 1513.92 668.305 1509.34 Q671.384 1504.73 677.194 1504.73 Z\" fill=\"#000000\" fill-rule=\"evenodd\" fill-opacity=\"1\" /><path clip-path=\"url(#clip080)\" d=\"M 0 0 M889.593 1505.36 L907.95 1505.36 L907.95 1509.3 L893.876 1509.3 L893.876 1517.77 Q894.894 1517.42 895.913 1517.26 Q896.931 1517.07 897.95 1517.07 Q903.737 1517.07 907.117 1520.24 Q910.496 1523.42 910.496 1528.83 Q910.496 1534.41 907.024 1537.51 Q903.552 1540.59 897.232 1540.59 Q895.056 1540.59 892.788 1540.22 Q890.543 1539.85 888.135 1539.11 L888.135 1534.41 Q890.218 1535.54 892.441 1536.1 Q894.663 1536.66 897.14 1536.66 Q901.144 1536.66 903.482 1534.55 Q905.82 1532.44 905.82 1528.83 Q905.82 1525.22 903.482 1523.11 Q901.144 1521.01 897.14 1521.01 Q895.265 1521.01 893.39 1521.42 Q891.538 1521.84 889.593 1522.72 L889.593 1505.36 Z\" fill=\"#000000\" fill-rule=\"evenodd\" fill-opacity=\"1\" /><path clip-path=\"url(#clip080)\" d=\"M 0 0 M1098.31 1535.98 L1105.95 1535.98 L1105.95 1509.62 L1097.64 1511.29 L1097.64 1507.03 L1105.9 1505.36 L1110.58 1505.36 L1110.58 1535.98 L1118.22 1535.98 L1118.22 1539.92 L1098.31 1539.92 L1098.31 1535.98 Z\" fill=\"#000000\" fill-rule=\"evenodd\" fill-opacity=\"1\" /><path clip-path=\"url(#clip080)\" d=\"M 0 0 M1133.29 1508.44 Q1129.68 1508.44 1127.85 1512 Q1126.04 1515.55 1126.04 1522.67 Q1126.04 1529.78 1127.85 1533.35 Q1129.68 1536.89 1133.29 1536.89 Q1136.92 1536.89 1138.73 1533.35 Q1140.56 1529.78 1140.56 1522.67 Q1140.56 1515.55 1138.73 1512 Q1136.92 1508.44 1133.29 1508.44 M1133.29 1504.73 Q1139.1 1504.73 1142.15 1509.34 Q1145.23 1513.92 1145.23 1522.67 Q1145.23 1531.4 1142.15 1536.01 Q1139.1 1540.59 1133.29 1540.59 Q1127.48 1540.59 1124.4 1536.01 Q1121.34 1531.4 1121.34 1522.67 Q1121.34 1513.92 1124.4 1509.34 Q1127.48 1504.73 1133.29 1504.73 Z\" fill=\"#000000\" fill-rule=\"evenodd\" fill-opacity=\"1\" /><path clip-path=\"url(#clip080)\" d=\"M 0 0 M62.9921 1470.75 L75.4689 1470.75 L75.4689 1474.55 L62.9921 1474.55 L62.9921 1470.75 Z\" fill=\"#000000\" fill-rule=\"evenodd\" fill-opacity=\"1\" /><path clip-path=\"url(#clip080)\" d=\"M 0 0 M81.3485 1481.7 L88.9874 1481.7 L88.9874 1455.34 L80.6772 1457 L80.6772 1452.74 L88.9411 1451.08 L93.617 1451.08 L93.617 1481.7 L101.256 1481.7 L101.256 1485.64 L81.3485 1485.64 L81.3485 1481.7 Z\" fill=\"#000000\" fill-rule=\"evenodd\" fill-opacity=\"1\" /><path clip-path=\"url(#clip080)\" d=\"M 0 0 M116.325 1454.16 Q112.714 1454.16 110.885 1457.72 Q109.08 1461.26 109.08 1468.39 Q109.08 1475.5 110.885 1479.06 Q112.714 1482.6 116.325 1482.6 Q119.959 1482.6 121.765 1479.06 Q123.594 1475.5 123.594 1468.39 Q123.594 1461.26 121.765 1457.72 Q119.959 1454.16 116.325 1454.16 M116.325 1450.45 Q122.135 1450.45 125.191 1455.06 Q128.27 1459.64 128.27 1468.39 Q128.27 1477.12 125.191 1481.73 Q122.135 1486.31 116.325 1486.31 Q110.515 1486.31 107.436 1481.73 Q104.381 1477.12 104.381 1468.39 Q104.381 1459.64 107.436 1455.06 Q110.515 1450.45 116.325 1450.45 Z\" fill=\"#000000\" fill-rule=\"evenodd\" fill-opacity=\"1\" /><path clip-path=\"url(#clip080)\" d=\"M 0 0 M143.339 1454.16 Q139.728 1454.16 137.899 1457.72 Q136.094 1461.26 136.094 1468.39 Q136.094 1475.5 137.899 1479.06 Q139.728 1482.6 143.339 1482.6 Q146.973 1482.6 148.779 1479.06 Q150.607 1475.5 150.607 1468.39 Q150.607 1461.26 148.779 1457.72 Q146.973 1454.16 143.339 1454.16 M143.339 1450.45 Q149.149 1450.45 152.205 1455.06 Q155.283 1459.64 155.283 1468.39 Q155.283 1477.12 152.205 1481.73 Q149.149 1486.31 143.339 1486.31 Q137.529 1486.31 134.45 1481.73 Q131.395 1477.12 131.395 1468.39 Q131.395 1459.64 134.45 1455.06 Q137.529 1450.45 143.339 1450.45 Z\" fill=\"#000000\" fill-rule=\"evenodd\" fill-opacity=\"1\" /><path clip-path=\"url(#clip080)\" d=\"M 0 0 M170.353 1454.16 Q166.742 1454.16 164.913 1457.72 Q163.107 1461.26 163.107 1468.39 Q163.107 1475.5 164.913 1479.06 Q166.742 1482.6 170.353 1482.6 Q173.987 1482.6 175.792 1479.06 Q177.621 1475.5 177.621 1468.39 Q177.621 1461.26 175.792 1457.72 Q173.987 1454.16 170.353 1454.16 M170.353 1450.45 Q176.163 1450.45 179.218 1455.06 Q182.297 1459.64 182.297 1468.39 Q182.297 1477.12 179.218 1481.73 Q176.163 1486.31 170.353 1486.31 Q164.543 1486.31 161.464 1481.73 Q158.408 1477.12 158.408 1468.39 Q158.408 1459.64 161.464 1455.06 Q164.543 1450.45 170.353 1450.45 Z\" fill=\"#000000\" fill-rule=\"evenodd\" fill-opacity=\"1\" /><path clip-path=\"url(#clip080)\" d=\"M 0 0 M89.7744 1320 L102.251 1320 L102.251 1323.79 L89.7744 1323.79 L89.7744 1320 Z\" fill=\"#000000\" fill-rule=\"evenodd\" fill-opacity=\"1\" /><path clip-path=\"url(#clip080)\" d=\"M 0 0 M107.367 1300.32 L125.723 1300.32 L125.723 1304.26 L111.649 1304.26 L111.649 1312.73 Q112.668 1312.38 113.686 1312.22 Q114.705 1312.03 115.723 1312.03 Q121.51 1312.03 124.89 1315.21 Q128.27 1318.38 128.27 1323.79 Q128.27 1329.37 124.797 1332.47 Q121.325 1335.55 115.006 1335.55 Q112.83 1335.55 110.561 1335.18 Q108.316 1334.81 105.909 1334.07 L105.909 1329.37 Q107.992 1330.51 110.214 1331.06 Q112.436 1331.62 114.913 1331.62 Q118.918 1331.62 121.256 1329.51 Q123.594 1327.4 123.594 1323.79 Q123.594 1320.18 121.256 1318.08 Q118.918 1315.97 114.913 1315.97 Q113.038 1315.97 111.163 1316.39 Q109.311 1316.8 107.367 1317.68 L107.367 1300.32 Z\" fill=\"#000000\" fill-rule=\"evenodd\" fill-opacity=\"1\" /><path clip-path=\"url(#clip080)\" d=\"M 0 0 M143.339 1303.4 Q139.728 1303.4 137.899 1306.97 Q136.094 1310.51 136.094 1317.64 Q136.094 1324.74 137.899 1328.31 Q139.728 1331.85 143.339 1331.85 Q146.973 1331.85 148.779 1328.31 Q150.607 1324.74 150.607 1317.64 Q150.607 1310.51 148.779 1306.97 Q146.973 1303.4 143.339 1303.4 M143.339 1299.7 Q149.149 1299.7 152.205 1304.3 Q155.283 1308.89 155.283 1317.64 Q155.283 1326.36 152.205 1330.97 Q149.149 1335.55 143.339 1335.55 Q137.529 1335.55 134.45 1330.97 Q131.395 1326.36 131.395 1317.64 Q131.395 1308.89 134.45 1304.3 Q137.529 1299.7 143.339 1299.7 Z\" fill=\"#000000\" fill-rule=\"evenodd\" fill-opacity=\"1\" /><path clip-path=\"url(#clip080)\" d=\"M 0 0 M170.353 1303.4 Q166.742 1303.4 164.913 1306.97 Q163.107 1310.51 163.107 1317.64 Q163.107 1324.74 164.913 1328.31 Q166.742 1331.85 170.353 1331.85 Q173.987 1331.85 175.792 1328.31 Q177.621 1324.74 177.621 1317.64 Q177.621 1310.51 175.792 1306.97 Q173.987 1303.4 170.353 1303.4 M170.353 1299.7 Q176.163 1299.7 179.218 1304.3 Q182.297 1308.89 182.297 1317.64 Q182.297 1326.36 179.218 1330.97 Q176.163 1335.55 170.353 1335.55 Q164.543 1335.55 161.464 1330.97 Q158.408 1326.36 158.408 1317.64 Q158.408 1308.89 161.464 1304.3 Q164.543 1299.7 170.353 1299.7 Z\" fill=\"#000000\" fill-rule=\"evenodd\" fill-opacity=\"1\" /><path clip-path=\"url(#clip080)\" d=\"M 0 0 M170.353 1152.64 Q166.742 1152.64 164.913 1156.21 Q163.107 1159.75 163.107 1166.88 Q163.107 1173.99 164.913 1177.55 Q166.742 1181.09 170.353 1181.09 Q173.987 1181.09 175.792 1177.55 Q177.621 1173.99 177.621 1166.88 Q177.621 1159.75 175.792 1156.21 Q173.987 1152.64 170.353 1152.64 M170.353 1148.94 Q176.163 1148.94 179.218 1153.55 Q182.297 1158.13 182.297 1166.88 Q182.297 1175.61 179.218 1180.21 Q176.163 1184.8 170.353 1184.8 Q164.543 1184.8 161.464 1180.21 Q158.408 1175.61 158.408 1166.88 Q158.408 1158.13 161.464 1153.55 Q164.543 1148.94 170.353 1148.94 Z\" fill=\"#000000\" fill-rule=\"evenodd\" fill-opacity=\"1\" /><path clip-path=\"url(#clip080)\" d=\"M 0 0 M107.367 998.81 L125.723 998.81 L125.723 1002.75 L111.649 1002.75 L111.649 1011.22 Q112.668 1010.87 113.686 1010.71 Q114.705 1010.52 115.723 1010.52 Q121.51 1010.52 124.89 1013.69 Q128.27 1016.87 128.27 1022.28 Q128.27 1027.86 124.797 1030.96 Q121.325 1034.04 115.006 1034.04 Q112.83 1034.04 110.561 1033.67 Q108.316 1033.3 105.909 1032.56 L105.909 1027.86 Q107.992 1029 110.214 1029.55 Q112.436 1030.11 114.913 1030.11 Q118.918 1030.11 121.256 1028 Q123.594 1025.89 123.594 1022.28 Q123.594 1018.67 121.256 1016.56 Q118.918 1014.46 114.913 1014.46 Q113.038 1014.46 111.163 1014.88 Q109.311 1015.29 107.367 1016.17 L107.367 998.81 Z\" fill=\"#000000\" fill-rule=\"evenodd\" fill-opacity=\"1\" /><path clip-path=\"url(#clip080)\" d=\"M 0 0 M143.339 1001.89 Q139.728 1001.89 137.899 1005.45 Q136.094 1009 136.094 1016.13 Q136.094 1023.23 137.899 1026.8 Q139.728 1030.34 143.339 1030.34 Q146.973 1030.34 148.779 1026.8 Q150.607 1023.23 150.607 1016.13 Q150.607 1009 148.779 1005.45 Q146.973 1001.89 143.339 1001.89 M143.339 998.185 Q149.149 998.185 152.205 1002.79 Q155.283 1007.38 155.283 1016.13 Q155.283 1024.85 152.205 1029.46 Q149.149 1034.04 143.339 1034.04 Q137.529 1034.04 134.45 1029.46 Q131.395 1024.85 131.395 1016.13 Q131.395 1007.38 134.45 1002.79 Q137.529 998.185 143.339 998.185 Z\" fill=\"#000000\" fill-rule=\"evenodd\" fill-opacity=\"1\" /><path clip-path=\"url(#clip080)\" d=\"M 0 0 M170.353 1001.89 Q166.742 1001.89 164.913 1005.45 Q163.107 1009 163.107 1016.13 Q163.107 1023.23 164.913 1026.8 Q166.742 1030.34 170.353 1030.34 Q173.987 1030.34 175.792 1026.8 Q177.621 1023.23 177.621 1016.13 Q177.621 1009 175.792 1005.45 Q173.987 1001.89 170.353 1001.89 M170.353 998.185 Q176.163 998.185 179.218 1002.79 Q182.297 1007.38 182.297 1016.13 Q182.297 1024.85 179.218 1029.46 Q176.163 1034.04 170.353 1034.04 Q164.543 1034.04 161.464 1029.46 Q158.408 1024.85 158.408 1016.13 Q158.408 1007.38 161.464 1002.79 Q164.543 998.185 170.353 998.185 Z\" fill=\"#000000\" fill-rule=\"evenodd\" fill-opacity=\"1\" /><path clip-path=\"url(#clip080)\" d=\"M 0 0 M81.3485 878.68 L88.9874 878.68 L88.9874 852.314 L80.6772 853.981 L80.6772 849.721 L88.9411 848.055 L93.617 848.055 L93.617 878.68 L101.256 878.68 L101.256 882.615 L81.3485 882.615 L81.3485 878.68 Z\" fill=\"#000000\" fill-rule=\"evenodd\" fill-opacity=\"1\" /><path clip-path=\"url(#clip080)\" d=\"M 0 0 M116.325 851.133 Q112.714 851.133 110.885 854.698 Q109.08 858.24 109.08 865.369 Q109.08 872.476 110.885 876.041 Q112.714 879.582 116.325 879.582 Q119.959 879.582 121.765 876.041 Q123.594 872.476 123.594 865.369 Q123.594 858.24 121.765 854.698 Q119.959 851.133 116.325 851.133 M116.325 847.43 Q122.135 847.43 125.191 852.036 Q128.27 856.62 128.27 865.369 Q128.27 874.096 125.191 878.703 Q122.135 883.286 116.325 883.286 Q110.515 883.286 107.436 878.703 Q104.381 874.096 104.381 865.369 Q104.381 856.62 107.436 852.036 Q110.515 847.43 116.325 847.43 Z\" fill=\"#000000\" fill-rule=\"evenodd\" fill-opacity=\"1\" /><path clip-path=\"url(#clip080)\" d=\"M 0 0 M143.339 851.133 Q139.728 851.133 137.899 854.698 Q136.094 858.24 136.094 865.369 Q136.094 872.476 137.899 876.041 Q139.728 879.582 143.339 879.582 Q146.973 879.582 148.779 876.041 Q150.607 872.476 150.607 865.369 Q150.607 858.24 148.779 854.698 Q146.973 851.133 143.339 851.133 M143.339 847.43 Q149.149 847.43 152.205 852.036 Q155.283 856.62 155.283 865.369 Q155.283 874.096 152.205 878.703 Q149.149 883.286 143.339 883.286 Q137.529 883.286 134.45 878.703 Q131.395 874.096 131.395 865.369 Q131.395 856.62 134.45 852.036 Q137.529 847.43 143.339 847.43 Z\" fill=\"#000000\" fill-rule=\"evenodd\" fill-opacity=\"1\" /><path clip-path=\"url(#clip080)\" d=\"M 0 0 M170.353 851.133 Q166.742 851.133 164.913 854.698 Q163.107 858.24 163.107 865.369 Q163.107 872.476 164.913 876.041 Q166.742 879.582 170.353 879.582 Q173.987 879.582 175.792 876.041 Q177.621 872.476 177.621 865.369 Q177.621 858.24 175.792 854.698 Q173.987 851.133 170.353 851.133 M170.353 847.43 Q176.163 847.43 179.218 852.036 Q182.297 856.62 182.297 865.369 Q182.297 874.096 179.218 878.703 Q176.163 883.286 170.353 883.286 Q164.543 883.286 161.464 878.703 Q158.408 874.096 158.408 865.369 Q158.408 856.62 161.464 852.036 Q164.543 847.43 170.353 847.43 Z\" fill=\"#000000\" fill-rule=\"evenodd\" fill-opacity=\"1\" /><polyline clip-path=\"url(#clip084)\" style=\"stroke:#009af9; stroke-width:4; stroke-opacity:1; fill:none\" points=\"\n",
       "  232.952,1468.36 277.376,1386.65 321.8,1321.22 366.224,1270.26 410.649,1231.97 455.073,1204.53 499.497,1186.14 543.921,1174.99 588.346,1169.26 632.77,1167.15 \n",
       "  677.194,1166.85 721.619,1166.54 766.043,1164.43 810.467,1158.71 854.891,1147.55 899.316,1129.16 943.74,1101.72 988.164,1063.43 1032.59,1012.47 1077.01,947.044 \n",
       "  1121.44,865.335 \n",
       "  \"/>\n",
       "<path clip-path=\"url(#clip080)\" d=\"\n",
       "M1410.96 1486.45 L2352.76 1486.45 L2352.76 847.244 L1410.96 847.244  Z\n",
       "  \" fill=\"#ffffff\" fill-rule=\"evenodd\" fill-opacity=\"1\"/>\n",
       "<defs>\n",
       "  <clipPath id=\"clip085\">\n",
       "    <rect x=\"1410\" y=\"847\" width=\"943\" height=\"640\"/>\n",
       "  </clipPath>\n",
       "</defs>\n",
       "<polyline clip-path=\"url(#clip085)\" style=\"stroke:#000000; stroke-width:2; stroke-opacity:0.1; fill:none\" points=\"\n",
       "  1437.62,1486.45 1437.62,847.244 \n",
       "  \"/>\n",
       "<polyline clip-path=\"url(#clip085)\" style=\"stroke:#000000; stroke-width:2; stroke-opacity:0.1; fill:none\" points=\"\n",
       "  1659.74,1486.45 1659.74,847.244 \n",
       "  \"/>\n",
       "<polyline clip-path=\"url(#clip085)\" style=\"stroke:#000000; stroke-width:2; stroke-opacity:0.1; fill:none\" points=\"\n",
       "  1881.86,1486.45 1881.86,847.244 \n",
       "  \"/>\n",
       "<polyline clip-path=\"url(#clip085)\" style=\"stroke:#000000; stroke-width:2; stroke-opacity:0.1; fill:none\" points=\"\n",
       "  2103.98,1486.45 2103.98,847.244 \n",
       "  \"/>\n",
       "<polyline clip-path=\"url(#clip085)\" style=\"stroke:#000000; stroke-width:2; stroke-opacity:0.1; fill:none\" points=\"\n",
       "  2326.1,1486.45 2326.1,847.244 \n",
       "  \"/>\n",
       "<polyline clip-path=\"url(#clip085)\" style=\"stroke:#000000; stroke-width:2; stroke-opacity:0.1; fill:none\" points=\"\n",
       "  1410.96,1468.36 2352.76,1468.36 \n",
       "  \"/>\n",
       "<polyline clip-path=\"url(#clip085)\" style=\"stroke:#000000; stroke-width:2; stroke-opacity:0.1; fill:none\" points=\"\n",
       "  1410.96,1317.6 2352.76,1317.6 \n",
       "  \"/>\n",
       "<polyline clip-path=\"url(#clip085)\" style=\"stroke:#000000; stroke-width:2; stroke-opacity:0.1; fill:none\" points=\"\n",
       "  1410.96,1166.85 2352.76,1166.85 \n",
       "  \"/>\n",
       "<polyline clip-path=\"url(#clip085)\" style=\"stroke:#000000; stroke-width:2; stroke-opacity:0.1; fill:none\" points=\"\n",
       "  1410.96,1016.09 2352.76,1016.09 \n",
       "  \"/>\n",
       "<polyline clip-path=\"url(#clip085)\" style=\"stroke:#000000; stroke-width:2; stroke-opacity:0.1; fill:none\" points=\"\n",
       "  1410.96,865.335 2352.76,865.335 \n",
       "  \"/>\n",
       "<polyline clip-path=\"url(#clip080)\" style=\"stroke:#000000; stroke-width:4; stroke-opacity:1; fill:none\" points=\"\n",
       "  1410.96,1486.45 2352.76,1486.45 \n",
       "  \"/>\n",
       "<polyline clip-path=\"url(#clip080)\" style=\"stroke:#000000; stroke-width:4; stroke-opacity:1; fill:none\" points=\"\n",
       "  1410.96,1486.45 1410.96,847.244 \n",
       "  \"/>\n",
       "<polyline clip-path=\"url(#clip080)\" style=\"stroke:#000000; stroke-width:4; stroke-opacity:1; fill:none\" points=\"\n",
       "  1437.62,1486.45 1437.62,1478.78 \n",
       "  \"/>\n",
       "<polyline clip-path=\"url(#clip080)\" style=\"stroke:#000000; stroke-width:4; stroke-opacity:1; fill:none\" points=\"\n",
       "  1659.74,1486.45 1659.74,1478.78 \n",
       "  \"/>\n",
       "<polyline clip-path=\"url(#clip080)\" style=\"stroke:#000000; stroke-width:4; stroke-opacity:1; fill:none\" points=\"\n",
       "  1881.86,1486.45 1881.86,1478.78 \n",
       "  \"/>\n",
       "<polyline clip-path=\"url(#clip080)\" style=\"stroke:#000000; stroke-width:4; stroke-opacity:1; fill:none\" points=\"\n",
       "  2103.98,1486.45 2103.98,1478.78 \n",
       "  \"/>\n",
       "<polyline clip-path=\"url(#clip080)\" style=\"stroke:#000000; stroke-width:4; stroke-opacity:1; fill:none\" points=\"\n",
       "  2326.1,1486.45 2326.1,1478.78 \n",
       "  \"/>\n",
       "<polyline clip-path=\"url(#clip080)\" style=\"stroke:#000000; stroke-width:4; stroke-opacity:1; fill:none\" points=\"\n",
       "  1410.96,1468.36 1422.26,1468.36 \n",
       "  \"/>\n",
       "<polyline clip-path=\"url(#clip080)\" style=\"stroke:#000000; stroke-width:4; stroke-opacity:1; fill:none\" points=\"\n",
       "  1410.96,1317.6 1422.26,1317.6 \n",
       "  \"/>\n",
       "<polyline clip-path=\"url(#clip080)\" style=\"stroke:#000000; stroke-width:4; stroke-opacity:1; fill:none\" points=\"\n",
       "  1410.96,1166.85 1422.26,1166.85 \n",
       "  \"/>\n",
       "<polyline clip-path=\"url(#clip080)\" style=\"stroke:#000000; stroke-width:4; stroke-opacity:1; fill:none\" points=\"\n",
       "  1410.96,1016.09 1422.26,1016.09 \n",
       "  \"/>\n",
       "<polyline clip-path=\"url(#clip080)\" style=\"stroke:#000000; stroke-width:4; stroke-opacity:1; fill:none\" points=\"\n",
       "  1410.96,865.335 1422.26,865.335 \n",
       "  \"/>\n",
       "<path clip-path=\"url(#clip080)\" d=\"M 0 0 M1404.98 1525.04 L1417.45 1525.04 L1417.45 1528.83 L1404.98 1528.83 L1404.98 1525.04 Z\" fill=\"#000000\" fill-rule=\"evenodd\" fill-opacity=\"1\" /><path clip-path=\"url(#clip080)\" d=\"M 0 0 M1423.33 1535.98 L1430.97 1535.98 L1430.97 1509.62 L1422.66 1511.29 L1422.66 1507.03 L1430.93 1505.36 L1435.6 1505.36 L1435.6 1535.98 L1443.24 1535.98 L1443.24 1539.92 L1423.33 1539.92 L1423.33 1535.98 Z\" fill=\"#000000\" fill-rule=\"evenodd\" fill-opacity=\"1\" /><path clip-path=\"url(#clip080)\" d=\"M 0 0 M1458.31 1508.44 Q1454.7 1508.44 1452.87 1512 Q1451.06 1515.55 1451.06 1522.67 Q1451.06 1529.78 1452.87 1533.35 Q1454.7 1536.89 1458.31 1536.89 Q1461.94 1536.89 1463.75 1533.35 Q1465.58 1529.78 1465.58 1522.67 Q1465.58 1515.55 1463.75 1512 Q1461.94 1508.44 1458.31 1508.44 M1458.31 1504.73 Q1464.12 1504.73 1467.18 1509.34 Q1470.25 1513.92 1470.25 1522.67 Q1470.25 1531.4 1467.18 1536.01 Q1464.12 1540.59 1458.31 1540.59 Q1452.5 1540.59 1449.42 1536.01 Q1446.37 1531.4 1446.37 1522.67 Q1446.37 1513.92 1449.42 1509.34 Q1452.5 1504.73 1458.31 1504.73 Z\" fill=\"#000000\" fill-rule=\"evenodd\" fill-opacity=\"1\" /><path clip-path=\"url(#clip080)\" d=\"M 0 0 M1640.49 1525.04 L1652.97 1525.04 L1652.97 1528.83 L1640.49 1528.83 L1640.49 1525.04 Z\" fill=\"#000000\" fill-rule=\"evenodd\" fill-opacity=\"1\" /><path clip-path=\"url(#clip080)\" d=\"M 0 0 M1658.08 1505.36 L1676.44 1505.36 L1676.44 1509.3 L1662.36 1509.3 L1662.36 1517.77 Q1663.38 1517.42 1664.4 1517.26 Q1665.42 1517.07 1666.44 1517.07 Q1672.23 1517.07 1675.61 1520.24 Q1678.98 1523.42 1678.98 1528.83 Q1678.98 1534.41 1675.51 1537.51 Q1672.04 1540.59 1665.72 1540.59 Q1663.55 1540.59 1661.28 1540.22 Q1659.03 1539.85 1656.62 1539.11 L1656.62 1534.41 Q1658.71 1535.54 1660.93 1536.1 Q1663.15 1536.66 1665.63 1536.66 Q1669.63 1536.66 1671.97 1534.55 Q1674.31 1532.44 1674.31 1528.83 Q1674.31 1525.22 1671.97 1523.11 Q1669.63 1521.01 1665.63 1521.01 Q1663.75 1521.01 1661.88 1521.42 Q1660.03 1521.84 1658.08 1522.72 L1658.08 1505.36 Z\" fill=\"#000000\" fill-rule=\"evenodd\" fill-opacity=\"1\" /><path clip-path=\"url(#clip080)\" d=\"M 0 0 M1881.86 1508.44 Q1878.25 1508.44 1876.42 1512 Q1874.61 1515.55 1874.61 1522.67 Q1874.61 1529.78 1876.42 1533.35 Q1878.25 1536.89 1881.86 1536.89 Q1885.49 1536.89 1887.3 1533.35 Q1889.13 1529.78 1889.13 1522.67 Q1889.13 1515.55 1887.3 1512 Q1885.49 1508.44 1881.86 1508.44 M1881.86 1504.73 Q1887.67 1504.73 1890.72 1509.34 Q1893.8 1513.92 1893.8 1522.67 Q1893.8 1531.4 1890.72 1536.01 Q1887.67 1540.59 1881.86 1540.59 Q1876.05 1540.59 1872.97 1536.01 Q1869.91 1531.4 1869.91 1522.67 Q1869.91 1513.92 1872.97 1509.34 Q1876.05 1504.73 1881.86 1504.73 Z\" fill=\"#000000\" fill-rule=\"evenodd\" fill-opacity=\"1\" /><path clip-path=\"url(#clip080)\" d=\"M 0 0 M2094.26 1505.36 L2112.61 1505.36 L2112.61 1509.3 L2098.54 1509.3 L2098.54 1517.77 Q2099.56 1517.42 2100.58 1517.26 Q2101.6 1517.07 2102.61 1517.07 Q2108.4 1517.07 2111.78 1520.24 Q2115.16 1523.42 2115.16 1528.83 Q2115.16 1534.41 2111.69 1537.51 Q2108.22 1540.59 2101.9 1540.59 Q2099.72 1540.59 2097.45 1540.22 Q2095.21 1539.85 2092.8 1539.11 L2092.8 1534.41 Q2094.88 1535.54 2097.11 1536.1 Q2099.33 1536.66 2101.8 1536.66 Q2105.81 1536.66 2108.15 1534.55 Q2110.48 1532.44 2110.48 1528.83 Q2110.48 1525.22 2108.15 1523.11 Q2105.81 1521.01 2101.8 1521.01 Q2099.93 1521.01 2098.05 1521.42 Q2096.2 1521.84 2094.26 1522.72 L2094.26 1505.36 Z\" fill=\"#000000\" fill-rule=\"evenodd\" fill-opacity=\"1\" /><path clip-path=\"url(#clip080)\" d=\"M 0 0 M2302.98 1535.98 L2310.62 1535.98 L2310.62 1509.62 L2302.31 1511.29 L2302.31 1507.03 L2310.57 1505.36 L2315.24 1505.36 L2315.24 1535.98 L2322.88 1535.98 L2322.88 1539.92 L2302.98 1539.92 L2302.98 1535.98 Z\" fill=\"#000000\" fill-rule=\"evenodd\" fill-opacity=\"1\" /><path clip-path=\"url(#clip080)\" d=\"M 0 0 M2337.95 1508.44 Q2334.34 1508.44 2332.51 1512 Q2330.71 1515.55 2330.71 1522.67 Q2330.71 1529.78 2332.51 1533.35 Q2334.34 1536.89 2337.95 1536.89 Q2341.59 1536.89 2343.39 1533.35 Q2345.22 1529.78 2345.22 1522.67 Q2345.22 1515.55 2343.39 1512 Q2341.59 1508.44 2337.95 1508.44 M2337.95 1504.73 Q2343.76 1504.73 2346.82 1509.34 Q2349.9 1513.92 2349.9 1522.67 Q2349.9 1531.4 2346.82 1536.01 Q2343.76 1540.59 2337.95 1540.59 Q2332.14 1540.59 2329.06 1536.01 Q2326.01 1531.4 2326.01 1522.67 Q2326.01 1513.92 2329.06 1509.34 Q2332.14 1504.73 2337.95 1504.73 Z\" fill=\"#000000\" fill-rule=\"evenodd\" fill-opacity=\"1\" /><path clip-path=\"url(#clip080)\" d=\"M 0 0 M1375.02 1454.16 Q1371.41 1454.16 1369.58 1457.72 Q1367.77 1461.26 1367.77 1468.39 Q1367.77 1475.5 1369.58 1479.06 Q1371.41 1482.6 1375.02 1482.6 Q1378.65 1482.6 1380.46 1479.06 Q1382.29 1475.5 1382.29 1468.39 Q1382.29 1461.26 1380.46 1457.72 Q1378.65 1454.16 1375.02 1454.16 M1375.02 1450.45 Q1380.83 1450.45 1383.88 1455.06 Q1386.96 1459.64 1386.96 1468.39 Q1386.96 1477.12 1383.88 1481.73 Q1380.83 1486.31 1375.02 1486.31 Q1369.21 1486.31 1366.13 1481.73 Q1363.07 1477.12 1363.07 1468.39 Q1363.07 1459.64 1366.13 1455.06 Q1369.21 1450.45 1375.02 1450.45 Z\" fill=\"#000000\" fill-rule=\"evenodd\" fill-opacity=\"1\" /><path clip-path=\"url(#clip080)\" d=\"M 0 0 M1290.6 1330.95 L1306.92 1330.95 L1306.92 1334.88 L1284.97 1334.88 L1284.97 1330.95 Q1287.63 1328.19 1292.22 1323.56 Q1296.82 1318.91 1298 1317.57 Q1300.25 1315.04 1301.13 1313.31 Q1302.03 1311.55 1302.03 1309.86 Q1302.03 1307.1 1300.09 1305.37 Q1298.17 1303.63 1295.06 1303.63 Q1292.86 1303.63 1290.41 1304.4 Q1287.98 1305.16 1285.2 1306.71 L1285.2 1301.99 Q1288.03 1300.85 1290.48 1300.28 Q1292.93 1299.7 1294.97 1299.7 Q1300.34 1299.7 1303.54 1302.38 Q1306.73 1305.07 1306.73 1309.56 Q1306.73 1311.69 1305.92 1313.61 Q1305.13 1315.51 1303.03 1318.1 Q1302.45 1318.77 1299.35 1321.99 Q1296.24 1325.18 1290.6 1330.95 Z\" fill=\"#000000\" fill-rule=\"evenodd\" fill-opacity=\"1\" /><path clip-path=\"url(#clip080)\" d=\"M 0 0 M1312.03 1300.32 L1330.39 1300.32 L1330.39 1304.26 L1316.31 1304.26 L1316.31 1312.73 Q1317.33 1312.38 1318.35 1312.22 Q1319.37 1312.03 1320.39 1312.03 Q1326.17 1312.03 1329.55 1315.21 Q1332.93 1318.38 1332.93 1323.79 Q1332.93 1329.37 1329.46 1332.47 Q1325.99 1335.55 1319.67 1335.55 Q1317.49 1335.55 1315.23 1335.18 Q1312.98 1334.81 1310.57 1334.07 L1310.57 1329.37 Q1312.66 1330.51 1314.88 1331.06 Q1317.1 1331.62 1319.58 1331.62 Q1323.58 1331.62 1325.92 1329.51 Q1328.26 1327.4 1328.26 1323.79 Q1328.26 1320.18 1325.92 1318.08 Q1323.58 1315.97 1319.58 1315.97 Q1317.7 1315.97 1315.83 1316.39 Q1313.98 1316.8 1312.03 1317.68 L1312.03 1300.32 Z\" fill=\"#000000\" fill-rule=\"evenodd\" fill-opacity=\"1\" /><path clip-path=\"url(#clip080)\" d=\"M 0 0 M1348 1303.4 Q1344.39 1303.4 1342.56 1306.97 Q1340.76 1310.51 1340.76 1317.64 Q1340.76 1324.74 1342.56 1328.31 Q1344.39 1331.85 1348 1331.85 Q1351.64 1331.85 1353.44 1328.31 Q1355.27 1324.74 1355.27 1317.64 Q1355.27 1310.51 1353.44 1306.97 Q1351.64 1303.4 1348 1303.4 M1348 1299.7 Q1353.81 1299.7 1356.87 1304.3 Q1359.95 1308.89 1359.95 1317.64 Q1359.95 1326.36 1356.87 1330.97 Q1353.81 1335.55 1348 1335.55 Q1342.19 1335.55 1339.11 1330.97 Q1336.06 1326.36 1336.06 1317.64 Q1336.06 1308.89 1339.11 1304.3 Q1342.19 1299.7 1348 1299.7 Z\" fill=\"#000000\" fill-rule=\"evenodd\" fill-opacity=\"1\" /><path clip-path=\"url(#clip080)\" d=\"M 0 0 M1375.02 1303.4 Q1371.41 1303.4 1369.58 1306.97 Q1367.77 1310.51 1367.77 1317.64 Q1367.77 1324.74 1369.58 1328.31 Q1371.41 1331.85 1375.02 1331.85 Q1378.65 1331.85 1380.46 1328.31 Q1382.29 1324.74 1382.29 1317.64 Q1382.29 1310.51 1380.46 1306.97 Q1378.65 1303.4 1375.02 1303.4 M1375.02 1299.7 Q1380.83 1299.7 1383.88 1304.3 Q1386.96 1308.89 1386.96 1317.64 Q1386.96 1326.36 1383.88 1330.97 Q1380.83 1335.55 1375.02 1335.55 Q1369.21 1335.55 1366.13 1330.97 Q1363.07 1326.36 1363.07 1317.64 Q1363.07 1308.89 1366.13 1304.3 Q1369.21 1299.7 1375.02 1299.7 Z\" fill=\"#000000\" fill-rule=\"evenodd\" fill-opacity=\"1\" /><path clip-path=\"url(#clip080)\" d=\"M 0 0 M1285.02 1149.57 L1303.37 1149.57 L1303.37 1153.5 L1289.3 1153.5 L1289.3 1161.97 Q1290.32 1161.63 1291.34 1161.46 Q1292.36 1161.28 1293.37 1161.28 Q1299.16 1161.28 1302.54 1164.45 Q1305.92 1167.62 1305.92 1173.04 Q1305.92 1178.62 1302.45 1181.72 Q1298.98 1184.8 1292.66 1184.8 Q1290.48 1184.8 1288.21 1184.43 Q1285.97 1184.06 1283.56 1183.32 L1283.56 1178.62 Q1285.64 1179.75 1287.86 1180.31 Q1290.09 1180.86 1292.56 1180.86 Q1296.57 1180.86 1298.91 1178.76 Q1301.24 1176.65 1301.24 1173.04 Q1301.24 1169.43 1298.91 1167.32 Q1296.57 1165.21 1292.56 1165.21 Q1290.69 1165.21 1288.81 1165.63 Q1286.96 1166.05 1285.02 1166.93 L1285.02 1149.57 Z\" fill=\"#000000\" fill-rule=\"evenodd\" fill-opacity=\"1\" /><path clip-path=\"url(#clip080)\" d=\"M 0 0 M1320.99 1152.64 Q1317.38 1152.64 1315.55 1156.21 Q1313.74 1159.75 1313.74 1166.88 Q1313.74 1173.99 1315.55 1177.55 Q1317.38 1181.09 1320.99 1181.09 Q1324.62 1181.09 1326.43 1177.55 Q1328.26 1173.99 1328.26 1166.88 Q1328.26 1159.75 1326.43 1156.21 Q1324.62 1152.64 1320.99 1152.64 M1320.99 1148.94 Q1326.8 1148.94 1329.86 1153.55 Q1332.93 1158.13 1332.93 1166.88 Q1332.93 1175.61 1329.86 1180.21 Q1326.8 1184.8 1320.99 1184.8 Q1315.18 1184.8 1312.1 1180.21 Q1309.05 1175.61 1309.05 1166.88 Q1309.05 1158.13 1312.1 1153.55 Q1315.18 1148.94 1320.99 1148.94 Z\" fill=\"#000000\" fill-rule=\"evenodd\" fill-opacity=\"1\" /><path clip-path=\"url(#clip080)\" d=\"M 0 0 M1348 1152.64 Q1344.39 1152.64 1342.56 1156.21 Q1340.76 1159.75 1340.76 1166.88 Q1340.76 1173.99 1342.56 1177.55 Q1344.39 1181.09 1348 1181.09 Q1351.64 1181.09 1353.44 1177.55 Q1355.27 1173.99 1355.27 1166.88 Q1355.27 1159.75 1353.44 1156.21 Q1351.64 1152.64 1348 1152.64 M1348 1148.94 Q1353.81 1148.94 1356.87 1153.55 Q1359.95 1158.13 1359.95 1166.88 Q1359.95 1175.61 1356.87 1180.21 Q1353.81 1184.8 1348 1184.8 Q1342.19 1184.8 1339.11 1180.21 Q1336.06 1175.61 1336.06 1166.88 Q1336.06 1158.13 1339.11 1153.55 Q1342.19 1148.94 1348 1148.94 Z\" fill=\"#000000\" fill-rule=\"evenodd\" fill-opacity=\"1\" /><path clip-path=\"url(#clip080)\" d=\"M 0 0 M1375.02 1152.64 Q1371.41 1152.64 1369.58 1156.21 Q1367.77 1159.75 1367.77 1166.88 Q1367.77 1173.99 1369.58 1177.55 Q1371.41 1181.09 1375.02 1181.09 Q1378.65 1181.09 1380.46 1177.55 Q1382.29 1173.99 1382.29 1166.88 Q1382.29 1159.75 1380.46 1156.21 Q1378.65 1152.64 1375.02 1152.64 M1375.02 1148.94 Q1380.83 1148.94 1383.88 1153.55 Q1386.96 1158.13 1386.96 1166.88 Q1386.96 1175.61 1383.88 1180.21 Q1380.83 1184.8 1375.02 1184.8 Q1369.21 1184.8 1366.13 1180.21 Q1363.07 1175.61 1363.07 1166.88 Q1363.07 1158.13 1366.13 1153.55 Q1369.21 1148.94 1375.02 1148.94 Z\" fill=\"#000000\" fill-rule=\"evenodd\" fill-opacity=\"1\" /><path clip-path=\"url(#clip080)\" d=\"M 0 0 M1284.69 998.81 L1306.92 998.81 L1306.92 1000.8 L1294.37 1033.37 L1289.49 1033.37 L1301.29 1002.75 L1284.69 1002.75 L1284.69 998.81 Z\" fill=\"#000000\" fill-rule=\"evenodd\" fill-opacity=\"1\" /><path clip-path=\"url(#clip080)\" d=\"M 0 0 M1312.03 998.81 L1330.39 998.81 L1330.39 1002.75 L1316.31 1002.75 L1316.31 1011.22 Q1317.33 1010.87 1318.35 1010.71 Q1319.37 1010.52 1320.39 1010.52 Q1326.17 1010.52 1329.55 1013.69 Q1332.93 1016.87 1332.93 1022.28 Q1332.93 1027.86 1329.46 1030.96 Q1325.99 1034.04 1319.67 1034.04 Q1317.49 1034.04 1315.23 1033.67 Q1312.98 1033.3 1310.57 1032.56 L1310.57 1027.86 Q1312.66 1029 1314.88 1029.55 Q1317.1 1030.11 1319.58 1030.11 Q1323.58 1030.11 1325.92 1028 Q1328.26 1025.89 1328.26 1022.28 Q1328.26 1018.67 1325.92 1016.56 Q1323.58 1014.46 1319.58 1014.46 Q1317.7 1014.46 1315.83 1014.88 Q1313.98 1015.29 1312.03 1016.17 L1312.03 998.81 Z\" fill=\"#000000\" fill-rule=\"evenodd\" fill-opacity=\"1\" /><path clip-path=\"url(#clip080)\" d=\"M 0 0 M1348 1001.89 Q1344.39 1001.89 1342.56 1005.45 Q1340.76 1009 1340.76 1016.13 Q1340.76 1023.23 1342.56 1026.8 Q1344.39 1030.34 1348 1030.34 Q1351.64 1030.34 1353.44 1026.8 Q1355.27 1023.23 1355.27 1016.13 Q1355.27 1009 1353.44 1005.45 Q1351.64 1001.89 1348 1001.89 M1348 998.185 Q1353.81 998.185 1356.87 1002.79 Q1359.95 1007.38 1359.95 1016.13 Q1359.95 1024.85 1356.87 1029.46 Q1353.81 1034.04 1348 1034.04 Q1342.19 1034.04 1339.11 1029.46 Q1336.06 1024.85 1336.06 1016.13 Q1336.06 1007.38 1339.11 1002.79 Q1342.19 998.185 1348 998.185 Z\" fill=\"#000000\" fill-rule=\"evenodd\" fill-opacity=\"1\" /><path clip-path=\"url(#clip080)\" d=\"M 0 0 M1375.02 1001.89 Q1371.41 1001.89 1369.58 1005.45 Q1367.77 1009 1367.77 1016.13 Q1367.77 1023.23 1369.58 1026.8 Q1371.41 1030.34 1375.02 1030.34 Q1378.65 1030.34 1380.46 1026.8 Q1382.29 1023.23 1382.29 1016.13 Q1382.29 1009 1380.46 1005.45 Q1378.65 1001.89 1375.02 1001.89 M1375.02 998.185 Q1380.83 998.185 1383.88 1002.79 Q1386.96 1007.38 1386.96 1016.13 Q1386.96 1024.85 1383.88 1029.46 Q1380.83 1034.04 1375.02 1034.04 Q1369.21 1034.04 1366.13 1029.46 Q1363.07 1024.85 1363.07 1016.13 Q1363.07 1007.38 1366.13 1002.79 Q1369.21 998.185 1375.02 998.185 Z\" fill=\"#000000\" fill-rule=\"evenodd\" fill-opacity=\"1\" /><path clip-path=\"url(#clip080)\" d=\"M 0 0 M1259 878.68 L1266.64 878.68 L1266.64 852.314 L1258.33 853.981 L1258.33 849.721 L1266.59 848.055 L1271.27 848.055 L1271.27 878.68 L1278.91 878.68 L1278.91 882.615 L1259 882.615 L1259 878.68 Z\" fill=\"#000000\" fill-rule=\"evenodd\" fill-opacity=\"1\" /><path clip-path=\"url(#clip080)\" d=\"M 0 0 M1293.98 851.133 Q1290.36 851.133 1288.54 854.698 Q1286.73 858.24 1286.73 865.369 Q1286.73 872.476 1288.54 876.041 Q1290.36 879.582 1293.98 879.582 Q1297.61 879.582 1299.42 876.041 Q1301.24 872.476 1301.24 865.369 Q1301.24 858.24 1299.42 854.698 Q1297.61 851.133 1293.98 851.133 M1293.98 847.43 Q1299.79 847.43 1302.84 852.036 Q1305.92 856.62 1305.92 865.369 Q1305.92 874.096 1302.84 878.703 Q1299.79 883.286 1293.98 883.286 Q1288.17 883.286 1285.09 878.703 Q1282.03 874.096 1282.03 865.369 Q1282.03 856.62 1285.09 852.036 Q1288.17 847.43 1293.98 847.43 Z\" fill=\"#000000\" fill-rule=\"evenodd\" fill-opacity=\"1\" /><path clip-path=\"url(#clip080)\" d=\"M 0 0 M1320.99 851.133 Q1317.38 851.133 1315.55 854.698 Q1313.74 858.24 1313.74 865.369 Q1313.74 872.476 1315.55 876.041 Q1317.38 879.582 1320.99 879.582 Q1324.62 879.582 1326.43 876.041 Q1328.26 872.476 1328.26 865.369 Q1328.26 858.24 1326.43 854.698 Q1324.62 851.133 1320.99 851.133 M1320.99 847.43 Q1326.8 847.43 1329.86 852.036 Q1332.93 856.62 1332.93 865.369 Q1332.93 874.096 1329.86 878.703 Q1326.8 883.286 1320.99 883.286 Q1315.18 883.286 1312.1 878.703 Q1309.05 874.096 1309.05 865.369 Q1309.05 856.62 1312.1 852.036 Q1315.18 847.43 1320.99 847.43 Z\" fill=\"#000000\" fill-rule=\"evenodd\" fill-opacity=\"1\" /><path clip-path=\"url(#clip080)\" d=\"M 0 0 M1348 851.133 Q1344.39 851.133 1342.56 854.698 Q1340.76 858.24 1340.76 865.369 Q1340.76 872.476 1342.56 876.041 Q1344.39 879.582 1348 879.582 Q1351.64 879.582 1353.44 876.041 Q1355.27 872.476 1355.27 865.369 Q1355.27 858.24 1353.44 854.698 Q1351.64 851.133 1348 851.133 M1348 847.43 Q1353.81 847.43 1356.87 852.036 Q1359.95 856.62 1359.95 865.369 Q1359.95 874.096 1356.87 878.703 Q1353.81 883.286 1348 883.286 Q1342.19 883.286 1339.11 878.703 Q1336.06 874.096 1336.06 865.369 Q1336.06 856.62 1339.11 852.036 Q1342.19 847.43 1348 847.43 Z\" fill=\"#000000\" fill-rule=\"evenodd\" fill-opacity=\"1\" /><path clip-path=\"url(#clip080)\" d=\"M 0 0 M1375.02 851.133 Q1371.41 851.133 1369.58 854.698 Q1367.77 858.24 1367.77 865.369 Q1367.77 872.476 1369.58 876.041 Q1371.41 879.582 1375.02 879.582 Q1378.65 879.582 1380.46 876.041 Q1382.29 872.476 1382.29 865.369 Q1382.29 858.24 1380.46 854.698 Q1378.65 851.133 1375.02 851.133 M1375.02 847.43 Q1380.83 847.43 1383.88 852.036 Q1386.96 856.62 1386.96 865.369 Q1386.96 874.096 1383.88 878.703 Q1380.83 883.286 1375.02 883.286 Q1369.21 883.286 1366.13 878.703 Q1363.07 874.096 1363.07 865.369 Q1363.07 856.62 1366.13 852.036 Q1369.21 847.43 1375.02 847.43 Z\" fill=\"#000000\" fill-rule=\"evenodd\" fill-opacity=\"1\" /><polyline clip-path=\"url(#clip085)\" style=\"stroke:#009af9; stroke-width:4; stroke-opacity:1; fill:none\" points=\"\n",
       "  1437.62,865.335 1482.04,1072.71 1526.46,1221.36 1570.89,1323.57 1615.31,1390.21 1659.74,1430.67 1704.16,1452.92 1748.59,1463.47 1793.01,1467.39 1837.43,1468.3 \n",
       "  1881.86,1468.36 1926.28,1468.3 1970.71,1467.39 2015.13,1463.47 2059.56,1452.92 2103.98,1430.67 2148.4,1390.21 2192.83,1323.57 2237.25,1221.36 2281.68,1072.71 \n",
       "  2326.1,865.335 \n",
       "  \"/>\n",
       "</svg>\n"
      ]
     },
     "execution_count": 112,
     "metadata": {},
     "output_type": "execute_result"
    }
   ],
   "source": [
    "p1=plot(x,x)   #to plot subplot initially create diffent plots andd then combine them to plot subplots using plot() command \n",
    "p2=plot(x,x.^2)\n",
    "p3=plot(x,x.^3)\n",
    "p4=plot(x,x.^4)\n",
    "plot(p1,p2,p3,p4,layout=(2,2),legend=false)\n"
   ]
  },
  {
   "cell_type": "code",
   "execution_count": null,
   "metadata": {},
   "outputs": [],
   "source": []
  }
 ],
 "metadata": {
  "kernelspec": {
   "display_name": "Julia 1.4.1",
   "language": "julia",
   "name": "julia-1.4"
  },
  "language_info": {
   "file_extension": ".jl",
   "mimetype": "application/julia",
   "name": "julia",
   "version": "1.4.1"
  }
 },
 "nbformat": 4,
 "nbformat_minor": 2
}
